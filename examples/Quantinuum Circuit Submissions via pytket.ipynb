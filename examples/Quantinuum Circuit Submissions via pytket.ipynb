{
 "cells": [
  {
   "attachments": {
    "Quantinuum%20Logos_primary_blue_small.svg": {
     "image/svg+xml": [
      "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"
     ]
    }
   },
   "cell_type": "markdown",
   "id": "d791c1ee",
   "metadata": {},
   "source": [
    "![Quantinuum%20Logos_primary_blue_small.svg](attachment:Quantinuum%20Logos_primary_blue_small.svg)"
   ]
  },
  {
   "cell_type": "markdown",
   "id": "c66d3480",
   "metadata": {},
   "source": [
    "# Quantinuum Circuit Submissions via pytket\n",
    "\n",
    "This notebook contains basic circuit submission examples to Quantinuum quantum hardware via `pytket`.\n",
    "\n",
    "* [What is TKET?]((#tket)\n",
    "* [Step by Step](#step-by-step)\n",
    "* [Additional Features](#additional-features)"
   ]
  },
  {
   "cell_type": "markdown",
   "id": "d5cb08ab",
   "metadata": {},
   "source": [
    "## What is TKET? <a class=\"anchor\" id=\"step-by-step\"></a>\n",
    "\n",
    "The TKET framework (pronounced \"ticket\") is a software platform for the development and execution of gate-level quantum computation, providing state-of-the-art performance in circuit compilation. It was created and is maintained by Quantinuum. The toolset is designed to extract the most out of the available NISQ devices of today and is platform-agnostic. \n",
    "\n",
    "In python, the `pytket` packages is available for python 3.8+. The `pytket` and `pytket-quantinuum` packages are included as part of the installation instructions on the user portal. \n",
    "\n",
    "For more information on TKET, see the following links:\n",
    "- [TKET manual](https://cqcl.github.io/pytket/manual/manual_intro.html)\n",
    "- [TKET overview and demo video](https://www.youtube.com/watch?v=yXKSpvgAtrk)\n",
    "- [Introduction to Quantum Compilation with TKET](https://github.com/CalMacCQ/tket_blog/blob/main/blog1_intro_to_qc.ipynb)\n",
    "\n",
    "This notebook covers how to use `pytket` in conjunction with `pytket-quantinuum` to submit to Quantinuum devices. The quantum compilation step is demonstrated, but for a full overview of quantum compilation with TKET, the last link above is recommended.\n",
    "\n",
    "See the links below for the `pytket` and `pytket-quantinuum` documentation:\n",
    "- [pytket](https://cqcl.github.io/tket/pytket/api/index.html)\n",
    "- [pytket-quantinuum](https://cqcl.github.io/pytket-quantinuum/api/index.html)"
   ]
  },
  {
   "cell_type": "markdown",
   "id": "0aa29fd7",
   "metadata": {},
   "source": [
    "## Step by Step <a class=\"anchor\" id=\"step-by-step\"></a>\n",
    "\n",
    "### Circuit Preparation\n",
    "\n",
    "Create your circuit via the pytket python library. For details on getting started with `pytket`, see pytket's [Getting Started](https://cqcl.github.io/tket/pytket/api/getting_started.html) page.\n",
    "\n",
    "**Note**: `pytket` renders circuits in ZX-calculus notation. This can be toggled on and off by pressing the top left button."
   ]
  },
  {
   "cell_type": "code",
   "execution_count": 1,
   "id": "70007b79",
   "metadata": {},
   "outputs": [
    {
     "data": {
      "text/html": [
       "\n",
       "\n",
       "\n",
       "\n",
       "\n",
       "\n",
       "<iframe srcdoc=\"\n",
       "&lt;!DOCTYPE html&gt;\n",
       "&lt;html lang=&#34;en&#34;&gt;\n",
       "&lt;head&gt;\n",
       "    &lt;meta charset=&#34;UTF-8&#34;&gt;\n",
       "    &lt;script type=&#34;application/javascript&#34; src=&#34;https://cdn.jsdelivr.net/npm/vue@3&#34;&gt;&lt;/script&gt;\n",
       "    &lt;script type=&#34;application/javascript&#34; src=&#34;https://unpkg.com/pytket-circuit-renderer@0.2/dist/pytket-circuit-renderer.umd.js&#34;&gt;&lt;/script&gt;\n",
       "    &lt;link rel=&#34;stylesheet&#34; href=&#34;https://unpkg.com/pytket-circuit-renderer@0.2/dist/pytket-circuit-renderer.css&#34;&gt;\n",
       "&lt;/head&gt;\n",
       "&lt;body&gt;\n",
       "    &lt;div id=&#34;circuit-display-vue-container-97288b4e-e913-4631-8477-bf6a88546480&#34; class=&#34;pytket-circuit-display-container&#34;&gt;\n",
       "        &lt;div style=&#34;display: none&#34;&gt;\n",
       "            &lt;div id=&#34;circuit-json-to-display&#34;&gt;{&#34;bits&#34;: [[&#34;c&#34;, [0]], [&#34;c&#34;, [1]]], &#34;commands&#34;: [{&#34;args&#34;: [[&#34;q&#34;, [0]]], &#34;op&#34;: {&#34;type&#34;: &#34;H&#34;}}, {&#34;args&#34;: [[&#34;q&#34;, [0]], [&#34;q&#34;, [1]]], &#34;op&#34;: {&#34;type&#34;: &#34;CX&#34;}}, {&#34;args&#34;: [[&#34;q&#34;, [0]], [&#34;c&#34;, [0]]], &#34;op&#34;: {&#34;type&#34;: &#34;Measure&#34;}}, {&#34;args&#34;: [[&#34;q&#34;, [1]], [&#34;c&#34;, [1]]], &#34;op&#34;: {&#34;type&#34;: &#34;Measure&#34;}}], &#34;implicit_permutation&#34;: [[[&#34;q&#34;, [0]], [&#34;q&#34;, [0]]], [[&#34;q&#34;, [1]], [&#34;q&#34;, [1]]]], &#34;name&#34;: &#34;Bell Test&#34;, &#34;phase&#34;: &#34;0.0&#34;, &#34;qubits&#34;: [[&#34;q&#34;, [0]], [&#34;q&#34;, [1]]]}&lt;/div&gt;\n",
       "        &lt;/div&gt;\n",
       "        &lt;circuit-display-container :circuit-element-str=&#34;&#39;#circuit-json-to-display&#39;&#34;&gt;&lt;/circuit-display-container&gt;\n",
       "    &lt;/div&gt;\n",
       "    &lt;script type=&#34;application/javascript&#34;&gt;\n",
       "        const { createApp } = Vue;\n",
       "        const circuitDisplayContainer = window[&#34;pytket-circuit-renderer&#34;].default;\n",
       "        // Init variables to be shared between circuit display instances\n",
       "        if (typeof window.pytketCircuitDisplays === &#34;undefined&#34;) {\n",
       "            window.pytketCircuitDisplays = {};\n",
       "        }\n",
       "        const uid = &#34;97288b4e-e913-4631-8477-bf6a88546480&#34;;\n",
       "        // Create the root Vue component\n",
       "        window.pytketCircuitDisplays[uid] = createApp({\n",
       "            delimiters: [&#39;[[#&#39;, &#39;#]]&#39;],\n",
       "            components: { circuitDisplayContainer },\n",
       "        }).mount(&#34;#circuit-display-vue-container-&#34;+uid);\n",
       "    &lt;/script&gt;\n",
       "&lt;/body&gt;\n",
       "&lt;/html&gt;\n",
       "\"\n",
       "        width=\"100%\" height=\"200px\"\n",
       "        style=\"border: none; outline: none; resize: vertical; overflow: auto\"></iframe>\n",
       "\n"
      ],
      "text/plain": [
       "<IPython.core.display.HTML object>"
      ]
     },
     "metadata": {},
     "output_type": "display_data"
    }
   ],
   "source": [
    "from pytket.circuit import Circuit, fresh_symbol\n",
    "from pytket.circuit.display import render_circuit_jupyter\n",
    "\n",
    "# Set up Bell Test\n",
    "circuit = Circuit(2, name=\"Bell Test\")\n",
    "circuit.H(0)\n",
    "circuit.CX(0, 1)\n",
    "circuit.measure_all()\n",
    "\n",
    "render_circuit_jupyter(circuit)"
   ]
  },
  {
   "cell_type": "markdown",
   "id": "b5cc3705",
   "metadata": {},
   "source": [
    "### Select Device\n",
    "\n",
    "See the *Quantinuum Systems User Guide* in the *Examples* tab on the *Quantinuum User Portal* for information on each of the systems listed below.\n",
    "\n",
    "*Available machines:*\n",
    "- `H1-1`, `H1-2`: Quantum Computers, submit specifically to H1-1 or H1-2 by using the device name\n",
    "- `H1-1E`, `H1-2E`: Device-specific Emulators of H1-1 and H1-2\n",
    "- `H1-1SC`, `H1-2SC`: Device-specific Syntax Checkers, check compilation of a quantum circuit against device-specific instructions, returns `completed` if syntax is correct along with the H-Series Quantum Credits (HQCs), returns `failed` if the syntax is incorrect along with the error\n",
    "- `H1`: Submit to Quantinuum System Model H1 machines, job is run on H1-1 or H1-2 based on soonest available device\n",
    "\n",
    "Select a machine and login to the Quantinuum API using your credentials. You will need to login once\n",
    "per session, in Jupyter you will get a dialogue asking for credentials, or if\n",
    "running a script you will be prompted at your shell. You can also [save your\n",
    "email in the pytket config](https://cqcl.github.io/pytket-extensions/api/quantinuum/api.html#pytket.extensions.quantinuum.backends.config.set_quantinuum_config). "
   ]
  },
  {
   "cell_type": "code",
   "execution_count": 2,
   "id": "9658ee90",
   "metadata": {},
   "outputs": [
    {
     "name": "stdout",
     "output_type": "stream",
     "text": [
      "Enter your Quantinuum email: megan.l.kohagen@quantinuum.com\n",
      "Enter your Quantinuum password: ········\n"
     ]
    }
   ],
   "source": [
    "from pytket.extensions.quantinuum import QuantinuumBackend\n",
    "\n",
    "machine = 'H1-1E'\n",
    "\n",
    "backend = QuantinuumBackend(device_name=machine)\n",
    "\n",
    "backend.login()"
   ]
  },
  {
   "cell_type": "markdown",
   "id": "9c42d80e",
   "metadata": {},
   "source": [
    "We can also check the status of a device."
   ]
  },
  {
   "cell_type": "code",
   "execution_count": 3,
   "id": "8a3b2747",
   "metadata": {},
   "outputs": [
    {
     "name": "stdout",
     "output_type": "stream",
     "text": [
      "H1-1E status: online\n"
     ]
    }
   ],
   "source": [
    "print(machine, \"status:\", QuantinuumBackend.device_state(device_name=machine))"
   ]
  },
  {
   "cell_type": "markdown",
   "id": "cd35fc21",
   "metadata": {},
   "source": [
    "Available devices can be viewed using the `available_devices` function. Additional information is returned, here just the device names are pulled in."
   ]
  },
  {
   "cell_type": "code",
   "execution_count": null,
   "id": "945cb4aa",
   "metadata": {},
   "outputs": [],
   "source": [
    "[x.device_name for x in QuantinuumBackend.available_devices()]"
   ]
  },
  {
   "cell_type": "markdown",
   "id": "9130167b",
   "metadata": {},
   "source": [
    "### Circuit Compilation\n",
    "\n",
    "`pytket` includes many features for optimizing circuits. This includes reducing the number of gates where possible and resynthesizing circuits for a quantum computer's native gate set. See the `pytket-quantinuum` [Default Compilation](https://cqcl.github.io/pytket-quantinuum/api/index.html#default-compilation) section for more information on all the options that are available for the `QuantinuumBackend`.\n",
    "\n",
    "Here the circuit is compiled with `get_compiled_circuit`, which includes optimizing the gates and resynthesizing the circuit to Quantinuum's native gate set. The `optimisation_level` sets the level of optimisation to perform during compilation, check pytket documentation for more details."
   ]
  },
  {
   "cell_type": "code",
   "execution_count": 4,
   "id": "3974a8a2",
   "metadata": {
    "scrolled": true
   },
   "outputs": [
    {
     "data": {
      "text/html": [
       "\n",
       "\n",
       "\n",
       "\n",
       "\n",
       "\n",
       "<iframe srcdoc=\"\n",
       "&lt;!DOCTYPE html&gt;\n",
       "&lt;html lang=&#34;en&#34;&gt;\n",
       "&lt;head&gt;\n",
       "    &lt;meta charset=&#34;UTF-8&#34;&gt;\n",
       "    &lt;script type=&#34;application/javascript&#34; src=&#34;https://cdn.jsdelivr.net/npm/vue@3&#34;&gt;&lt;/script&gt;\n",
       "    &lt;script type=&#34;application/javascript&#34; src=&#34;https://unpkg.com/pytket-circuit-renderer@0.2/dist/pytket-circuit-renderer.umd.js&#34;&gt;&lt;/script&gt;\n",
       "    &lt;link rel=&#34;stylesheet&#34; href=&#34;https://unpkg.com/pytket-circuit-renderer@0.2/dist/pytket-circuit-renderer.css&#34;&gt;\n",
       "&lt;/head&gt;\n",
       "&lt;body&gt;\n",
       "    &lt;div id=&#34;circuit-display-vue-container-4f3d23fe-93be-4b27-8e7f-a0c870713a5f&#34; class=&#34;pytket-circuit-display-container&#34;&gt;\n",
       "        &lt;div style=&#34;display: none&#34;&gt;\n",
       "            &lt;div id=&#34;circuit-json-to-display&#34;&gt;{&#34;bits&#34;: [[&#34;c&#34;, [0]], [&#34;c&#34;, [1]]], &#34;commands&#34;: [{&#34;args&#34;: [[&#34;q&#34;, [0]]], &#34;op&#34;: {&#34;params&#34;: [&#34;-0.5&#34;, &#34;0.5&#34;], &#34;type&#34;: &#34;PhasedX&#34;}}, {&#34;args&#34;: [[&#34;q&#34;, [1]]], &#34;op&#34;: {&#34;params&#34;: [&#34;-0.5&#34;, &#34;0.5&#34;], &#34;type&#34;: &#34;PhasedX&#34;}}, {&#34;args&#34;: [[&#34;q&#34;, [0]], [&#34;q&#34;, [1]]], &#34;op&#34;: {&#34;type&#34;: &#34;ZZMax&#34;}}, {&#34;args&#34;: [[&#34;q&#34;, [0]], [&#34;c&#34;, [0]]], &#34;op&#34;: {&#34;type&#34;: &#34;Measure&#34;}}, {&#34;args&#34;: [[&#34;q&#34;, [1]]], &#34;op&#34;: {&#34;params&#34;: [&#34;1.5&#34;, &#34;0&#34;], &#34;type&#34;: &#34;PhasedX&#34;}}, {&#34;args&#34;: [[&#34;q&#34;, [1]], [&#34;c&#34;, [1]]], &#34;op&#34;: {&#34;type&#34;: &#34;Measure&#34;}}], &#34;implicit_permutation&#34;: [[[&#34;q&#34;, [0]], [&#34;q&#34;, [0]]], [[&#34;q&#34;, [1]], [&#34;q&#34;, [1]]]], &#34;name&#34;: &#34;Bell Test&#34;, &#34;phase&#34;: &#34;1.75&#34;, &#34;qubits&#34;: [[&#34;q&#34;, [0]], [&#34;q&#34;, [1]]]}&lt;/div&gt;\n",
       "        &lt;/div&gt;\n",
       "        &lt;circuit-display-container :circuit-element-str=&#34;&#39;#circuit-json-to-display&#39;&#34;&gt;&lt;/circuit-display-container&gt;\n",
       "    &lt;/div&gt;\n",
       "    &lt;script type=&#34;application/javascript&#34;&gt;\n",
       "        const { createApp } = Vue;\n",
       "        const circuitDisplayContainer = window[&#34;pytket-circuit-renderer&#34;].default;\n",
       "        // Init variables to be shared between circuit display instances\n",
       "        if (typeof window.pytketCircuitDisplays === &#34;undefined&#34;) {\n",
       "            window.pytketCircuitDisplays = {};\n",
       "        }\n",
       "        const uid = &#34;4f3d23fe-93be-4b27-8e7f-a0c870713a5f&#34;;\n",
       "        // Create the root Vue component\n",
       "        window.pytketCircuitDisplays[uid] = createApp({\n",
       "            delimiters: [&#39;[[#&#39;, &#39;#]]&#39;],\n",
       "            components: { circuitDisplayContainer },\n",
       "        }).mount(&#34;#circuit-display-vue-container-&#34;+uid);\n",
       "    &lt;/script&gt;\n",
       "&lt;/body&gt;\n",
       "&lt;/html&gt;\n",
       "\"\n",
       "        width=\"100%\" height=\"200px\"\n",
       "        style=\"border: none; outline: none; resize: vertical; overflow: auto\"></iframe>\n",
       "\n"
      ],
      "text/plain": [
       "<IPython.core.display.HTML object>"
      ]
     },
     "metadata": {},
     "output_type": "display_data"
    }
   ],
   "source": [
    "compiled_circuit = backend.get_compiled_circuit(circuit, optimisation_level=1)\n",
    "\n",
    "render_circuit_jupyter(compiled_circuit)"
   ]
  },
  {
   "cell_type": "markdown",
   "id": "8ac8eb25",
   "metadata": {},
   "source": [
    "### Check Circuit Cost\n",
    "\n",
    "Before running on Quantinuum systems, it is good practice to check how many HQCs a job will cost, in order to plan usage. In `pytket` this can be done using the `cost` function of the `QuantinuumBackend`.\n",
    "\n",
    "Note that in this case because an emulator is used, the specific syntax checker the emulator uses is specified. This is an optional parameter not needed if you are using a quantum computer target."
   ]
  },
  {
   "cell_type": "code",
   "execution_count": 5,
   "id": "3cae3277",
   "metadata": {},
   "outputs": [
    {
     "data": {
      "text/plain": [
       "5.66"
      ]
     },
     "execution_count": 5,
     "metadata": {},
     "output_type": "execute_result"
    }
   ],
   "source": [
    "n_shots = 100\n",
    "backend.cost(compiled_circuit, n_shots=n_shots, syntax_checker='H1-1SC')"
   ]
  },
  {
   "cell_type": "markdown",
   "id": "16f1e5f8",
   "metadata": {},
   "source": [
    "### Run the Circuit\n",
    "\n",
    "Now the circuit can be run on Quantinuum systems."
   ]
  },
  {
   "cell_type": "code",
   "execution_count": 6,
   "id": "c935d787",
   "metadata": {},
   "outputs": [
    {
     "name": "stdout",
     "output_type": "stream",
     "text": [
      "('74c346b990cf48e699ba3c54a82eb0fd', 'null')\n"
     ]
    }
   ],
   "source": [
    "handle = backend.process_circuit(compiled_circuit, \n",
    "                                 n_shots=n_shots)\n",
    "print(handle)"
   ]
  },
  {
   "cell_type": "markdown",
   "id": "ba22f504",
   "metadata": {},
   "source": [
    "The status of a submitted job can be viewed at any time, indicating if a job is in the queue or completed. Additional information is also provided, such as queue position, start times, completion time, and circuit cost in H-Series Quantum Credits (HQCs)."
   ]
  },
  {
   "cell_type": "code",
   "execution_count": 7,
   "id": "5683b173",
   "metadata": {},
   "outputs": [
    {
     "name": "stdout",
     "output_type": "stream",
     "text": [
      "CircuitStatus(status=<StatusEnum.COMPLETED: 'Circuit has completed. Results are ready.'>, message='{\"name\": \"Bell Test\", \"submit-date\": \"2022-09-16T15:50:36.863343\", \"result-date\": \"2022-09-16T15:50:43.373684\", \"queue-position\": null, \"cost\": \"5.66\", \"error\": null}', error_detail=None, completed_time=None, queued_time=None, submitted_time=None, running_time=None, cancelled_time=None, error_time=None, queue_position=None)\n"
     ]
    }
   ],
   "source": [
    "status = backend.circuit_status(handle)\n",
    "print(status)"
   ]
  },
  {
   "cell_type": "markdown",
   "id": "ceef4545",
   "metadata": {},
   "source": [
    "### Retrieve Results\n",
    "\n",
    "Once a job's status returns completed, results can be returned using the `get_result` function."
   ]
  },
  {
   "cell_type": "code",
   "execution_count": 8,
   "id": "7b65af16",
   "metadata": {
    "collapsed": true
   },
   "outputs": [
    {
     "data": {
      "text/plain": [
       "BackendResult(q_bits={},c_bits={c[1]: 0, c[0]: 1},counts=None,shots=[[  0]\n",
       " [192]\n",
       " [  0]\n",
       " [  0]\n",
       " [  0]\n",
       " [  0]\n",
       " [192]\n",
       " [192]\n",
       " [192]\n",
       " [192]\n",
       " [  0]\n",
       " [  0]\n",
       " [192]\n",
       " [192]\n",
       " [  0]\n",
       " [192]\n",
       " [  0]\n",
       " [  0]\n",
       " [192]\n",
       " [192]\n",
       " [192]\n",
       " [  0]\n",
       " [192]\n",
       " [  0]\n",
       " [  0]\n",
       " [192]\n",
       " [  0]\n",
       " [  0]\n",
       " [  0]\n",
       " [  0]\n",
       " [  0]\n",
       " [192]\n",
       " [  0]\n",
       " [192]\n",
       " [192]\n",
       " [  0]\n",
       " [192]\n",
       " [  0]\n",
       " [192]\n",
       " [192]\n",
       " [192]\n",
       " [192]\n",
       " [192]\n",
       " [  0]\n",
       " [  0]\n",
       " [  0]\n",
       " [  0]\n",
       " [192]\n",
       " [192]\n",
       " [192]\n",
       " [192]\n",
       " [192]\n",
       " [192]\n",
       " [192]\n",
       " [192]\n",
       " [192]\n",
       " [192]\n",
       " [192]\n",
       " [  0]\n",
       " [192]\n",
       " [  0]\n",
       " [  0]\n",
       " [  0]\n",
       " [  0]\n",
       " [  0]\n",
       " [  0]\n",
       " [  0]\n",
       " [  0]\n",
       " [  0]\n",
       " [192]\n",
       " [  0]\n",
       " [  0]\n",
       " [  0]\n",
       " [  0]\n",
       " [  0]\n",
       " [  0]\n",
       " [  0]\n",
       " [  0]\n",
       " [192]\n",
       " [  0]\n",
       " [192]\n",
       " [  0]\n",
       " [  0]\n",
       " [  0]\n",
       " [192]\n",
       " [192]\n",
       " [192]\n",
       " [  0]\n",
       " [192]\n",
       " [192]\n",
       " [  0]\n",
       " [  0]\n",
       " [192]\n",
       " [  0]\n",
       " [192]\n",
       " [  0]\n",
       " [  0]\n",
       " [  0]\n",
       " [  0]\n",
       " [192]],state=None,unitary=None,density_matrix=None)"
      ]
     },
     "execution_count": 8,
     "metadata": {},
     "output_type": "execute_result"
    }
   ],
   "source": [
    "result = backend.get_result(handle)\n",
    "\n",
    "result"
   ]
  },
  {
   "cell_type": "markdown",
   "id": "f849e122",
   "metadata": {},
   "source": [
    "### Save Results\n",
    "\n",
    "It is recommended that users save job results as soon as jobs are completed due to the Quantinuum data retention policy."
   ]
  },
  {
   "cell_type": "code",
   "execution_count": null,
   "id": "e340f8ac",
   "metadata": {},
   "outputs": [],
   "source": [
    "import json\n",
    "\n",
    "with open('pytket_example.json', 'w') as file:\n",
    "    json.dump(result.to_dict(), file)"
   ]
  },
  {
   "cell_type": "markdown",
   "id": "9e2a8c12",
   "metadata": {},
   "source": [
    "Results can be loaded to their original format using `BackendResult.from_dict`."
   ]
  },
  {
   "cell_type": "code",
   "execution_count": null,
   "id": "77d766e0",
   "metadata": {},
   "outputs": [],
   "source": [
    "from pytket.backends.backendresult import BackendResult\n",
    "\n",
    "with open('pytket_example.json') as file:\n",
    "    data = json.load(file)\n",
    "    \n",
    "result = BackendResult.from_dict(data)"
   ]
  },
  {
   "cell_type": "code",
   "execution_count": null,
   "id": "60456ed3",
   "metadata": {},
   "outputs": [],
   "source": [
    "result"
   ]
  },
  {
   "cell_type": "markdown",
   "id": "8e8ddbdc",
   "metadata": {},
   "source": [
    "### Analyze Results\n",
    "\n",
    "There are multiple options for analyzing results with pytket. A few examples are highlighted here. More can be seen at [Interpreting Results](https://cqcl.github.io/pytket/manual/manual_backend.html#interpreting-results)."
   ]
  },
  {
   "cell_type": "code",
   "execution_count": 9,
   "id": "b501499a",
   "metadata": {
    "scrolled": true
   },
   "outputs": [
    {
     "name": "stdout",
     "output_type": "stream",
     "text": [
      "{(0, 0): 0.55, (1, 1): 0.45}\n"
     ]
    }
   ],
   "source": [
    "result = backend.get_result(handle)\n",
    "print(result.get_distribution())"
   ]
  },
  {
   "cell_type": "code",
   "execution_count": 10,
   "id": "57857f13",
   "metadata": {},
   "outputs": [
    {
     "name": "stdout",
     "output_type": "stream",
     "text": [
      "Counter({(0, 0): 55, (1, 1): 45})\n"
     ]
    }
   ],
   "source": [
    "print(result.get_counts())"
   ]
  },
  {
   "cell_type": "code",
   "execution_count": 11,
   "id": "5bb5af4d",
   "metadata": {},
   "outputs": [
    {
     "name": "stdout",
     "output_type": "stream",
     "text": [
      "{c[0]: 0, c[1]: 1}\n",
      "{q[0]: 0, q[1]: 1}\n",
      "{q[0]: c[0], q[1]: c[1]}\n"
     ]
    }
   ],
   "source": [
    "# the map from bit to position in the measured state\n",
    "print(compiled_circuit.bit_readout)\n",
    "\n",
    "# the map from qubit to position in the measured state\n",
    "print(compiled_circuit.qubit_readout)\n",
    "\n",
    "# the map from qubits to the bits to which their measurement values were written\n",
    "print(compiled_circuit.qubit_to_bit_map)"
   ]
  },
  {
   "cell_type": "markdown",
   "id": "646acbfb",
   "metadata": {},
   "source": [
    "### Canceling jobs\n",
    "\n",
    "Jobs that have been submitted can also be cancelled if needed."
   ]
  },
  {
   "cell_type": "code",
   "execution_count": null,
   "id": "a29682ac",
   "metadata": {},
   "outputs": [],
   "source": [
    "backend.cancel(handle)"
   ]
  },
  {
   "cell_type": "markdown",
   "id": "25d637ac",
   "metadata": {},
   "source": [
    "## Additional Features <a class=\"anchor\" id=\"additional-features\"></a>\n",
    "\n",
    "This section covers additional features available in `pytket`."
   ]
  },
  {
   "cell_type": "markdown",
   "id": "6ca74299",
   "metadata": {},
   "source": [
    "### Batch Submission\n",
    "\n",
    "The capability exists to batch job submissions. For more information on this feature, see [Batch Submission](https://cqcl.github.io/pytket-quantinuum/api/index.html#batching).\n",
    "\n",
    "To start a batch, use the `start_batch` function, specifying the `max_batch_cost` in HQCs to enforce."
   ]
  },
  {
   "cell_type": "code",
   "execution_count": 12,
   "id": "460dc36d",
   "metadata": {},
   "outputs": [],
   "source": [
    "machine = 'H1-1E'\n",
    "n_shots = 100\n",
    "max_batch_cost = 100\n",
    "\n",
    "backend = QuantinuumBackend(device_name=machine)\n",
    "\n",
    "batch1 = backend.start_batch(max_batch_cost=max_batch_cost, circuit=compiled_circuit, n_shots=n_shots)"
   ]
  },
  {
   "cell_type": "markdown",
   "id": "bcf4ce5b",
   "metadata": {},
   "source": [
    "Additional jobs can be added to the batch using the `add_to_batch` function. The end of a batch can optionally be specified with the `batch_end` flag."
   ]
  },
  {
   "cell_type": "code",
   "execution_count": 13,
   "id": "2f0dd653",
   "metadata": {},
   "outputs": [],
   "source": [
    "batch2 = backend.add_to_batch(batch1, compiled_circuit, n_shots=n_shots)\n",
    "batch3 = backend.add_to_batch(batch1, compiled_circuit, n_shots=n_shots, batch_end=True)"
   ]
  },
  {
   "cell_type": "markdown",
   "id": "d253fc8d",
   "metadata": {},
   "source": [
    "The status for the batch jobs can be checked once submitted."
   ]
  },
  {
   "cell_type": "code",
   "execution_count": 14,
   "id": "52222ea3",
   "metadata": {},
   "outputs": [
    {
     "data": {
      "text/plain": [
       "[CircuitStatus(status=<StatusEnum.QUEUED: 'Circuit is queued.'>, message='{\"name\": \"Bell Test\", \"submit-date\": \"2022-09-16T15:51:04.752208\", \"result-date\": null, \"queue-position\": null, \"cost\": \"5.66\", \"error\": null}', error_detail=None, completed_time=None, queued_time=None, submitted_time=None, running_time=None, cancelled_time=None, error_time=None, queue_position=None),\n",
       " CircuitStatus(status=<StatusEnum.QUEUED: 'Circuit is queued.'>, message='{\"name\": \"Bell Test\", \"submit-date\": \"2022-09-16T15:51:06.322332\", \"result-date\": null, \"queue-position\": null, \"cost\": \"5.66\", \"error\": null}', error_detail=None, completed_time=None, queued_time=None, submitted_time=None, running_time=None, cancelled_time=None, error_time=None, queue_position=None),\n",
       " CircuitStatus(status=<StatusEnum.QUEUED: 'Circuit is queued.'>, message='{\"name\": \"Bell Test\", \"submit-date\": \"2022-09-16T15:51:06.664633\", \"result-date\": null, \"queue-position\": null, \"cost\": \"5.66\", \"error\": null}', error_detail=None, completed_time=None, queued_time=None, submitted_time=None, running_time=None, cancelled_time=None, error_time=None, queue_position=None)]"
      ]
     },
     "execution_count": 14,
     "metadata": {},
     "output_type": "execute_result"
    }
   ],
   "source": [
    "handle_list = [batch1, batch2, batch3]\n",
    "\n",
    "status_list = [backend.circuit_status(h) for h in handle_list]\n",
    "\n",
    "status_list"
   ]
  },
  {
   "cell_type": "markdown",
   "id": "60e3c8ba",
   "metadata": {},
   "source": [
    "Results for batch submissions can be returned using `get_results` (note the plural)."
   ]
  },
  {
   "cell_type": "code",
   "execution_count": 15,
   "id": "044f73d3",
   "metadata": {
    "collapsed": true
   },
   "outputs": [
    {
     "data": {
      "text/plain": [
       "[BackendResult(q_bits={},c_bits={c[1]: 0, c[0]: 1},counts=None,shots=[[192]\n",
       "  [192]\n",
       "  [  0]\n",
       "  [192]\n",
       "  [192]\n",
       "  [192]\n",
       "  [  0]\n",
       "  [192]\n",
       "  [192]\n",
       "  [192]\n",
       "  [  0]\n",
       "  [192]\n",
       "  [192]\n",
       "  [192]\n",
       "  [192]\n",
       "  [  0]\n",
       "  [  0]\n",
       "  [192]\n",
       "  [192]\n",
       "  [192]\n",
       "  [  0]\n",
       "  [  0]\n",
       "  [192]\n",
       "  [  0]\n",
       "  [192]\n",
       "  [192]\n",
       "  [  0]\n",
       "  [ 64]\n",
       "  [192]\n",
       "  [192]\n",
       "  [192]\n",
       "  [192]\n",
       "  [  0]\n",
       "  [192]\n",
       "  [  0]\n",
       "  [192]\n",
       "  [192]\n",
       "  [192]\n",
       "  [  0]\n",
       "  [192]\n",
       "  [  0]\n",
       "  [  0]\n",
       "  [192]\n",
       "  [  0]\n",
       "  [  0]\n",
       "  [  0]\n",
       "  [192]\n",
       "  [  0]\n",
       "  [192]\n",
       "  [  0]\n",
       "  [  0]\n",
       "  [  0]\n",
       "  [192]\n",
       "  [192]\n",
       "  [192]\n",
       "  [192]\n",
       "  [192]\n",
       "  [192]\n",
       "  [  0]\n",
       "  [192]\n",
       "  [192]\n",
       "  [  0]\n",
       "  [  0]\n",
       "  [192]\n",
       "  [192]\n",
       "  [192]\n",
       "  [192]\n",
       "  [192]\n",
       "  [192]\n",
       "  [192]\n",
       "  [192]\n",
       "  [192]\n",
       "  [  0]\n",
       "  [192]\n",
       "  [192]\n",
       "  [  0]\n",
       "  [192]\n",
       "  [192]\n",
       "  [192]\n",
       "  [192]\n",
       "  [192]\n",
       "  [192]\n",
       "  [192]\n",
       "  [  0]\n",
       "  [192]\n",
       "  [  0]\n",
       "  [  0]\n",
       "  [192]\n",
       "  [192]\n",
       "  [192]\n",
       "  [192]\n",
       "  [192]\n",
       "  [192]\n",
       "  [  0]\n",
       "  [  0]\n",
       "  [  0]\n",
       "  [  0]\n",
       "  [192]\n",
       "  [192]\n",
       "  [  0]],state=None,unitary=None,density_matrix=None),\n",
       " BackendResult(q_bits={},c_bits={c[1]: 0, c[0]: 1},counts=None,shots=[[192]\n",
       "  [192]\n",
       "  [  0]\n",
       "  [  0]\n",
       "  [  0]\n",
       "  [  0]\n",
       "  [192]\n",
       "  [  0]\n",
       "  [  0]\n",
       "  [  0]\n",
       "  [192]\n",
       "  [  0]\n",
       "  [192]\n",
       "  [  0]\n",
       "  [  0]\n",
       "  [192]\n",
       "  [192]\n",
       "  [  0]\n",
       "  [  0]\n",
       "  [  0]\n",
       "  [192]\n",
       "  [  0]\n",
       "  [192]\n",
       "  [192]\n",
       "  [192]\n",
       "  [  0]\n",
       "  [  0]\n",
       "  [192]\n",
       "  [192]\n",
       "  [192]\n",
       "  [  0]\n",
       "  [192]\n",
       "  [192]\n",
       "  [192]\n",
       "  [  0]\n",
       "  [  0]\n",
       "  [192]\n",
       "  [  0]\n",
       "  [192]\n",
       "  [192]\n",
       "  [192]\n",
       "  [192]\n",
       "  [192]\n",
       "  [  0]\n",
       "  [192]\n",
       "  [192]\n",
       "  [  0]\n",
       "  [  0]\n",
       "  [192]\n",
       "  [  0]\n",
       "  [192]\n",
       "  [192]\n",
       "  [192]\n",
       "  [192]\n",
       "  [192]\n",
       "  [192]\n",
       "  [  0]\n",
       "  [  0]\n",
       "  [192]\n",
       "  [  0]\n",
       "  [  0]\n",
       "  [  0]\n",
       "  [  0]\n",
       "  [192]\n",
       "  [192]\n",
       "  [192]\n",
       "  [  0]\n",
       "  [  0]\n",
       "  [  0]\n",
       "  [192]\n",
       "  [  0]\n",
       "  [192]\n",
       "  [  0]\n",
       "  [  0]\n",
       "  [  0]\n",
       "  [192]\n",
       "  [192]\n",
       "  [  0]\n",
       "  [  0]\n",
       "  [  0]\n",
       "  [192]\n",
       "  [  0]\n",
       "  [  0]\n",
       "  [192]\n",
       "  [192]\n",
       "  [192]\n",
       "  [  0]\n",
       "  [192]\n",
       "  [  0]\n",
       "  [192]\n",
       "  [192]\n",
       "  [  0]\n",
       "  [192]\n",
       "  [192]\n",
       "  [192]\n",
       "  [192]\n",
       "  [  0]\n",
       "  [192]\n",
       "  [192]\n",
       "  [  0]],state=None,unitary=None,density_matrix=None),\n",
       " BackendResult(q_bits={},c_bits={c[1]: 0, c[0]: 1},counts=None,shots=[[  0]\n",
       "  [  0]\n",
       "  [  0]\n",
       "  [192]\n",
       "  [192]\n",
       "  [192]\n",
       "  [  0]\n",
       "  [  0]\n",
       "  [192]\n",
       "  [192]\n",
       "  [  0]\n",
       "  [192]\n",
       "  [192]\n",
       "  [  0]\n",
       "  [192]\n",
       "  [  0]\n",
       "  [192]\n",
       "  [192]\n",
       "  [192]\n",
       "  [  0]\n",
       "  [  0]\n",
       "  [  0]\n",
       "  [192]\n",
       "  [  0]\n",
       "  [  0]\n",
       "  [  0]\n",
       "  [192]\n",
       "  [192]\n",
       "  [192]\n",
       "  [  0]\n",
       "  [192]\n",
       "  [  0]\n",
       "  [192]\n",
       "  [192]\n",
       "  [192]\n",
       "  [  0]\n",
       "  [192]\n",
       "  [192]\n",
       "  [  0]\n",
       "  [192]\n",
       "  [192]\n",
       "  [192]\n",
       "  [192]\n",
       "  [  0]\n",
       "  [192]\n",
       "  [192]\n",
       "  [  0]\n",
       "  [  0]\n",
       "  [192]\n",
       "  [192]\n",
       "  [192]\n",
       "  [  0]\n",
       "  [  0]\n",
       "  [192]\n",
       "  [192]\n",
       "  [  0]\n",
       "  [  0]\n",
       "  [  0]\n",
       "  [192]\n",
       "  [192]\n",
       "  [192]\n",
       "  [192]\n",
       "  [192]\n",
       "  [192]\n",
       "  [192]\n",
       "  [  0]\n",
       "  [192]\n",
       "  [192]\n",
       "  [  0]\n",
       "  [  0]\n",
       "  [192]\n",
       "  [192]\n",
       "  [192]\n",
       "  [  0]\n",
       "  [  0]\n",
       "  [192]\n",
       "  [192]\n",
       "  [  0]\n",
       "  [192]\n",
       "  [  0]\n",
       "  [192]\n",
       "  [192]\n",
       "  [  0]\n",
       "  [  0]\n",
       "  [  0]\n",
       "  [  0]\n",
       "  [  0]\n",
       "  [192]\n",
       "  [  0]\n",
       "  [192]\n",
       "  [  0]\n",
       "  [192]\n",
       "  [  0]\n",
       "  [  0]\n",
       "  [192]\n",
       "  [192]\n",
       "  [192]\n",
       "  [192]\n",
       "  [  0]\n",
       "  [  0]],state=None,unitary=None,density_matrix=None)]"
      ]
     },
     "execution_count": 15,
     "metadata": {},
     "output_type": "execute_result"
    }
   ],
   "source": [
    "result = backend.get_results(handle_list)\n",
    "\n",
    "result"
   ]
  },
  {
   "cell_type": "markdown",
   "id": "40888e0a",
   "metadata": {},
   "source": [
    "### Parametrized Circuits\n",
    "\n",
    "Parametrized circuits are common in variational algorithms. Pytket supports parameters within circuits via symbols. For more information, see [Symbolic Circuits](https://cqcl.github.io/pytket/manual/manual_circuit.html?highlight=paramet#symbolic-circuits)."
   ]
  },
  {
   "cell_type": "code",
   "execution_count": 16,
   "id": "d8fbf383",
   "metadata": {},
   "outputs": [
    {
     "data": {
      "text/html": [
       "\n",
       "\n",
       "\n",
       "\n",
       "\n",
       "\n",
       "<iframe srcdoc=\"\n",
       "&lt;!DOCTYPE html&gt;\n",
       "&lt;html lang=&#34;en&#34;&gt;\n",
       "&lt;head&gt;\n",
       "    &lt;meta charset=&#34;UTF-8&#34;&gt;\n",
       "    &lt;script type=&#34;application/javascript&#34; src=&#34;https://cdn.jsdelivr.net/npm/vue@3&#34;&gt;&lt;/script&gt;\n",
       "    &lt;script type=&#34;application/javascript&#34; src=&#34;https://unpkg.com/pytket-circuit-renderer@0.2/dist/pytket-circuit-renderer.umd.js&#34;&gt;&lt;/script&gt;\n",
       "    &lt;link rel=&#34;stylesheet&#34; href=&#34;https://unpkg.com/pytket-circuit-renderer@0.2/dist/pytket-circuit-renderer.css&#34;&gt;\n",
       "&lt;/head&gt;\n",
       "&lt;body&gt;\n",
       "    &lt;div id=&#34;circuit-display-vue-container-a4632049-5fbd-46d5-8f06-d4630c54c718&#34; class=&#34;pytket-circuit-display-container&#34;&gt;\n",
       "        &lt;div style=&#34;display: none&#34;&gt;\n",
       "            &lt;div id=&#34;circuit-json-to-display&#34;&gt;{&#34;bits&#34;: [], &#34;commands&#34;: [{&#34;args&#34;: [[&#34;q&#34;, [0]]], &#34;op&#34;: {&#34;type&#34;: &#34;X&#34;}}, {&#34;args&#34;: [[&#34;q&#34;, [0]], [&#34;q&#34;, [1]]], &#34;op&#34;: {&#34;type&#34;: &#34;CX&#34;}}, {&#34;args&#34;: [[&#34;q&#34;, [1]], [&#34;q&#34;, [2]]], &#34;op&#34;: {&#34;type&#34;: &#34;CX&#34;}}, {&#34;args&#34;: [[&#34;q&#34;, [2]]], &#34;op&#34;: {&#34;params&#34;: [&#34;a&#34;], &#34;type&#34;: &#34;Rz&#34;}}, {&#34;args&#34;: [[&#34;q&#34;, [1]], [&#34;q&#34;, [2]]], &#34;op&#34;: {&#34;type&#34;: &#34;CX&#34;}}, {&#34;args&#34;: [[&#34;q&#34;, [0]], [&#34;q&#34;, [1]]], &#34;op&#34;: {&#34;type&#34;: &#34;CX&#34;}}], &#34;implicit_permutation&#34;: [[[&#34;q&#34;, [0]], [&#34;q&#34;, [0]]], [[&#34;q&#34;, [1]], [&#34;q&#34;, [1]]], [[&#34;q&#34;, [2]], [&#34;q&#34;, [2]]]], &#34;name&#34;: &#34;Parametrized Circuit&#34;, &#34;phase&#34;: &#34;0.0&#34;, &#34;qubits&#34;: [[&#34;q&#34;, [0]], [&#34;q&#34;, [1]], [&#34;q&#34;, [2]]]}&lt;/div&gt;\n",
       "        &lt;/div&gt;\n",
       "        &lt;circuit-display-container :circuit-element-str=&#34;&#39;#circuit-json-to-display&#39;&#34;&gt;&lt;/circuit-display-container&gt;\n",
       "    &lt;/div&gt;\n",
       "    &lt;script type=&#34;application/javascript&#34;&gt;\n",
       "        const { createApp } = Vue;\n",
       "        const circuitDisplayContainer = window[&#34;pytket-circuit-renderer&#34;].default;\n",
       "        // Init variables to be shared between circuit display instances\n",
       "        if (typeof window.pytketCircuitDisplays === &#34;undefined&#34;) {\n",
       "            window.pytketCircuitDisplays = {};\n",
       "        }\n",
       "        const uid = &#34;a4632049-5fbd-46d5-8f06-d4630c54c718&#34;;\n",
       "        // Create the root Vue component\n",
       "        window.pytketCircuitDisplays[uid] = createApp({\n",
       "            delimiters: [&#39;[[#&#39;, &#39;#]]&#39;],\n",
       "            components: { circuitDisplayContainer },\n",
       "        }).mount(&#34;#circuit-display-vue-container-&#34;+uid);\n",
       "    &lt;/script&gt;\n",
       "&lt;/body&gt;\n",
       "&lt;/html&gt;\n",
       "\"\n",
       "        width=\"100%\" height=\"200px\"\n",
       "        style=\"border: none; outline: none; resize: vertical; overflow: auto\"></iframe>\n",
       "\n"
      ],
      "text/plain": [
       "<IPython.core.display.HTML object>"
      ]
     },
     "metadata": {},
     "output_type": "display_data"
    }
   ],
   "source": [
    "from pytket.circuit import fresh_symbol\n",
    "\n",
    "# Set up parametrized circuit\n",
    "a = fresh_symbol('a')\n",
    "circuit = Circuit(3, name=\"Parametrized Circuit\")\n",
    "circuit.X(0)\n",
    "circuit.CX(0,1).CX(1,2)\n",
    "circuit.Rz(a, 2)\n",
    "circuit.CX(1,2).CX(0,1)\n",
    "\n",
    "render_circuit_jupyter(circuit)"
   ]
  },
  {
   "cell_type": "markdown",
   "id": "a2b1fd80",
   "metadata": {},
   "source": [
    "Note the substitution of an actual value to the `a` variable below."
   ]
  },
  {
   "cell_type": "code",
   "execution_count": 17,
   "id": "0f56040f",
   "metadata": {},
   "outputs": [
    {
     "data": {
      "text/html": [
       "\n",
       "\n",
       "\n",
       "\n",
       "\n",
       "\n",
       "<iframe srcdoc=\"\n",
       "&lt;!DOCTYPE html&gt;\n",
       "&lt;html lang=&#34;en&#34;&gt;\n",
       "&lt;head&gt;\n",
       "    &lt;meta charset=&#34;UTF-8&#34;&gt;\n",
       "    &lt;script type=&#34;application/javascript&#34; src=&#34;https://cdn.jsdelivr.net/npm/vue@3&#34;&gt;&lt;/script&gt;\n",
       "    &lt;script type=&#34;application/javascript&#34; src=&#34;https://unpkg.com/pytket-circuit-renderer@0.2/dist/pytket-circuit-renderer.umd.js&#34;&gt;&lt;/script&gt;\n",
       "    &lt;link rel=&#34;stylesheet&#34; href=&#34;https://unpkg.com/pytket-circuit-renderer@0.2/dist/pytket-circuit-renderer.css&#34;&gt;\n",
       "&lt;/head&gt;\n",
       "&lt;body&gt;\n",
       "    &lt;div id=&#34;circuit-display-vue-container-8a0a94d7-0716-440e-974e-9537d2fd67e8&#34; class=&#34;pytket-circuit-display-container&#34;&gt;\n",
       "        &lt;div style=&#34;display: none&#34;&gt;\n",
       "            &lt;div id=&#34;circuit-json-to-display&#34;&gt;{&#34;bits&#34;: [[&#34;c&#34;, [0]], [&#34;c&#34;, [1]], [&#34;c&#34;, [2]]], &#34;commands&#34;: [{&#34;args&#34;: [[&#34;q&#34;, [0]]], &#34;op&#34;: {&#34;params&#34;: [&#34;1.0&#34;, &#34;0.0&#34;], &#34;type&#34;: &#34;PhasedX&#34;}}, {&#34;args&#34;: [[&#34;q&#34;, [1]]], &#34;op&#34;: {&#34;params&#34;: [&#34;-0.5&#34;, &#34;0.5&#34;], &#34;type&#34;: &#34;PhasedX&#34;}}, {&#34;args&#34;: [[&#34;q&#34;, [2]]], &#34;op&#34;: {&#34;params&#34;: [&#34;-0.5&#34;, &#34;0.5&#34;], &#34;type&#34;: &#34;PhasedX&#34;}}, {&#34;args&#34;: [[&#34;q&#34;, [0]], [&#34;q&#34;, [1]]], &#34;op&#34;: {&#34;type&#34;: &#34;ZZMax&#34;}}, {&#34;args&#34;: [[&#34;q&#34;, [1]]], &#34;op&#34;: {&#34;params&#34;: [&#34;1.5&#34;, &#34;0&#34;], &#34;type&#34;: &#34;PhasedX&#34;}}, {&#34;args&#34;: [[&#34;q&#34;, [1]], [&#34;q&#34;, [2]]], &#34;op&#34;: {&#34;type&#34;: &#34;ZZMax&#34;}}, {&#34;args&#34;: [[&#34;q&#34;, [2]]], &#34;op&#34;: {&#34;params&#34;: [&#34;-1/2&#34;], &#34;type&#34;: &#34;Rz&#34;}}, {&#34;args&#34;: [[&#34;q&#34;, [2]]], &#34;op&#34;: {&#34;params&#34;: [&#34;-1.91&#34;, &#34;0&#34;], &#34;type&#34;: &#34;PhasedX&#34;}}, {&#34;args&#34;: [[&#34;q&#34;, [1]], [&#34;q&#34;, [2]]], &#34;op&#34;: {&#34;type&#34;: &#34;ZZMax&#34;}}, {&#34;args&#34;: [[&#34;q&#34;, [1]]], &#34;op&#34;: {&#34;params&#34;: [&#34;1/2&#34;], &#34;type&#34;: &#34;Rz&#34;}}, {&#34;args&#34;: [[&#34;q&#34;, [2]]], &#34;op&#34;: {&#34;params&#34;: [&#34;1.5&#34;, &#34;0&#34;], &#34;type&#34;: &#34;PhasedX&#34;}}, {&#34;args&#34;: [[&#34;q&#34;, [2]], [&#34;c&#34;, [2]]], &#34;op&#34;: {&#34;type&#34;: &#34;Measure&#34;}}, {&#34;args&#34;: [[&#34;q&#34;, [1]]], &#34;op&#34;: {&#34;params&#34;: [&#34;1.5&#34;, &#34;1/2&#34;], &#34;type&#34;: &#34;PhasedX&#34;}}, {&#34;args&#34;: [[&#34;q&#34;, [0]], [&#34;q&#34;, [1]]], &#34;op&#34;: {&#34;type&#34;: &#34;ZZMax&#34;}}, {&#34;args&#34;: [[&#34;q&#34;, [0]], [&#34;c&#34;, [0]]], &#34;op&#34;: {&#34;type&#34;: &#34;Measure&#34;}}, {&#34;args&#34;: [[&#34;q&#34;, [1]]], &#34;op&#34;: {&#34;params&#34;: [&#34;1.5&#34;, &#34;0&#34;], &#34;type&#34;: &#34;PhasedX&#34;}}, {&#34;args&#34;: [[&#34;q&#34;, [1]], [&#34;c&#34;, [1]]], &#34;op&#34;: {&#34;type&#34;: &#34;Measure&#34;}}], &#34;implicit_permutation&#34;: [[[&#34;q&#34;, [0]], [&#34;q&#34;, [0]]], [[&#34;q&#34;, [1]], [&#34;q&#34;, [1]]], [[&#34;q&#34;, [2]], [&#34;q&#34;, [2]]]], &#34;name&#34;: &#34;Parametrized Circuit&#34;, &#34;phase&#34;: &#34;1.0&#34;, &#34;qubits&#34;: [[&#34;q&#34;, [0]], [&#34;q&#34;, [1]], [&#34;q&#34;, [2]]]}&lt;/div&gt;\n",
       "        &lt;/div&gt;\n",
       "        &lt;circuit-display-container :circuit-element-str=&#34;&#39;#circuit-json-to-display&#39;&#34;&gt;&lt;/circuit-display-container&gt;\n",
       "    &lt;/div&gt;\n",
       "    &lt;script type=&#34;application/javascript&#34;&gt;\n",
       "        const { createApp } = Vue;\n",
       "        const circuitDisplayContainer = window[&#34;pytket-circuit-renderer&#34;].default;\n",
       "        // Init variables to be shared between circuit display instances\n",
       "        if (typeof window.pytketCircuitDisplays === &#34;undefined&#34;) {\n",
       "            window.pytketCircuitDisplays = {};\n",
       "        }\n",
       "        const uid = &#34;8a0a94d7-0716-440e-974e-9537d2fd67e8&#34;;\n",
       "        // Create the root Vue component\n",
       "        window.pytketCircuitDisplays[uid] = createApp({\n",
       "            delimiters: [&#39;[[#&#39;, &#39;#]]&#39;],\n",
       "            components: { circuitDisplayContainer },\n",
       "        }).mount(&#34;#circuit-display-vue-container-&#34;+uid);\n",
       "    &lt;/script&gt;\n",
       "&lt;/body&gt;\n",
       "&lt;/html&gt;\n",
       "\"\n",
       "        width=\"100%\" height=\"200px\"\n",
       "        style=\"border: none; outline: none; resize: vertical; overflow: auto\"></iframe>\n",
       "\n"
      ],
      "text/plain": [
       "<IPython.core.display.HTML object>"
      ]
     },
     "metadata": {},
     "output_type": "display_data"
    }
   ],
   "source": [
    "# Create a version of the circuit that utilizes a specific value for the variable a\n",
    "simulation_circuit = circuit.copy()\n",
    "simulation_circuit.measure_all()\n",
    "simulation_circuit.symbol_substitution({a: -0.09})\n",
    "\n",
    "# Compile the circuit: this includes optimizing the gates and resynthesizing the circuit to Quantinuum's native gate set\n",
    "compiled_circuit = backend.get_compiled_circuit(simulation_circuit)\n",
    "\n",
    "render_circuit_jupyter(compiled_circuit)"
   ]
  },
  {
   "cell_type": "code",
   "execution_count": 18,
   "id": "3668005a",
   "metadata": {},
   "outputs": [],
   "source": [
    "n_shots = 100\n",
    "handle = backend.process_circuit(compiled_circuit, \n",
    "                                 n_shots=n_shots)"
   ]
  },
  {
   "cell_type": "code",
   "execution_count": 19,
   "id": "7dab00aa",
   "metadata": {},
   "outputs": [
    {
     "name": "stdout",
     "output_type": "stream",
     "text": [
      "CircuitStatus(status=<StatusEnum.QUEUED: 'Circuit is queued.'>, message='{\"name\": \"Parametrized Circuit\", \"submit-date\": \"2022-09-16T15:52:07.279751\", \"result-date\": null, \"queue-position\": null, \"cost\": \"6.5600000000000005\", \"error\": null}', error_detail=None, completed_time=None, queued_time=None, submitted_time=None, running_time=None, cancelled_time=None, error_time=None, queue_position=None)\n"
     ]
    }
   ],
   "source": [
    "status = backend.circuit_status(handle)\n",
    "print(status)"
   ]
  },
  {
   "cell_type": "code",
   "execution_count": 20,
   "id": "dee26625",
   "metadata": {
    "collapsed": true
   },
   "outputs": [
    {
     "data": {
      "text/plain": [
       "BackendResult(q_bits={},c_bits={c[2]: 0, c[1]: 1, c[0]: 2},counts=None,shots=[[32]\n",
       " [32]\n",
       " [32]\n",
       " [32]\n",
       " [32]\n",
       " [32]\n",
       " [32]\n",
       " [32]\n",
       " [32]\n",
       " [32]\n",
       " [32]\n",
       " [32]\n",
       " [32]\n",
       " [32]\n",
       " [32]\n",
       " [32]\n",
       " [32]\n",
       " [32]\n",
       " [32]\n",
       " [32]\n",
       " [32]\n",
       " [32]\n",
       " [32]\n",
       " [32]\n",
       " [32]\n",
       " [32]\n",
       " [32]\n",
       " [32]\n",
       " [32]\n",
       " [32]\n",
       " [32]\n",
       " [32]\n",
       " [32]\n",
       " [32]\n",
       " [32]\n",
       " [32]\n",
       " [32]\n",
       " [32]\n",
       " [32]\n",
       " [32]\n",
       " [32]\n",
       " [32]\n",
       " [32]\n",
       " [32]\n",
       " [32]\n",
       " [32]\n",
       " [32]\n",
       " [32]\n",
       " [32]\n",
       " [32]\n",
       " [32]\n",
       " [32]\n",
       " [32]\n",
       " [32]\n",
       " [32]\n",
       " [32]\n",
       " [32]\n",
       " [32]\n",
       " [32]\n",
       " [32]\n",
       " [32]\n",
       " [32]\n",
       " [32]\n",
       " [32]\n",
       " [32]\n",
       " [32]\n",
       " [32]\n",
       " [32]\n",
       " [32]\n",
       " [32]\n",
       " [32]\n",
       " [32]\n",
       " [32]\n",
       " [32]\n",
       " [32]\n",
       " [32]\n",
       " [32]\n",
       " [32]\n",
       " [32]\n",
       " [32]\n",
       " [32]\n",
       " [32]\n",
       " [32]\n",
       " [32]\n",
       " [32]\n",
       " [32]\n",
       " [32]\n",
       " [32]\n",
       " [32]\n",
       " [32]\n",
       " [32]\n",
       " [32]\n",
       " [32]\n",
       " [32]\n",
       " [32]\n",
       " [32]\n",
       " [32]\n",
       " [32]\n",
       " [32]\n",
       " [32]],state=None,unitary=None,density_matrix=None)"
      ]
     },
     "execution_count": 20,
     "metadata": {},
     "output_type": "execute_result"
    }
   ],
   "source": [
    "result = backend.get_result(handle)\n",
    "\n",
    "result"
   ]
  },
  {
   "cell_type": "markdown",
   "id": "45cebdbb",
   "metadata": {},
   "source": [
    "### Conditional Gates\n",
    "\n",
    "Pytket supports conditional gates. This may be for implementing error correction or reducing noise. This capability is well-supported by Quantinuum hardware, which supports mid-circuit measurement and qubit reuse. See [Conditional Gates](https://cqcl.github.io/pytket/manual/manual_circuit.html#conditional-gates) for more information on pytket's implementation. The following example demonstrates the quantum teleportation protocol."
   ]
  },
  {
   "cell_type": "code",
   "execution_count": 21,
   "id": "dc5316c0",
   "metadata": {},
   "outputs": [
    {
     "data": {
      "text/html": [
       "\n",
       "\n",
       "\n",
       "\n",
       "\n",
       "\n",
       "<iframe srcdoc=\"\n",
       "&lt;!DOCTYPE html&gt;\n",
       "&lt;html lang=&#34;en&#34;&gt;\n",
       "&lt;head&gt;\n",
       "    &lt;meta charset=&#34;UTF-8&#34;&gt;\n",
       "    &lt;script type=&#34;application/javascript&#34; src=&#34;https://cdn.jsdelivr.net/npm/vue@3&#34;&gt;&lt;/script&gt;\n",
       "    &lt;script type=&#34;application/javascript&#34; src=&#34;https://unpkg.com/pytket-circuit-renderer@0.2/dist/pytket-circuit-renderer.umd.js&#34;&gt;&lt;/script&gt;\n",
       "    &lt;link rel=&#34;stylesheet&#34; href=&#34;https://unpkg.com/pytket-circuit-renderer@0.2/dist/pytket-circuit-renderer.css&#34;&gt;\n",
       "&lt;/head&gt;\n",
       "&lt;body&gt;\n",
       "    &lt;div id=&#34;circuit-display-vue-container-30a2db5b-d073-4e27-b094-31374cbb2c40&#34; class=&#34;pytket-circuit-display-container&#34;&gt;\n",
       "        &lt;div style=&#34;display: none&#34;&gt;\n",
       "            &lt;div id=&#34;circuit-json-to-display&#34;&gt;{&#34;bits&#34;: [[&#34;b&#34;, [0]], [&#34;b&#34;, [1]]], &#34;commands&#34;: [{&#34;args&#34;: [[&#34;q&#34;, [0]]], &#34;op&#34;: {&#34;type&#34;: &#34;X&#34;}}, {&#34;args&#34;: [[&#34;q&#34;, [1]]], &#34;op&#34;: {&#34;type&#34;: &#34;H&#34;}}, {&#34;args&#34;: [[&#34;q&#34;, [0]]], &#34;op&#34;: {&#34;type&#34;: &#34;H&#34;}}, {&#34;args&#34;: [[&#34;q&#34;, [1]], [&#34;q&#34;, [2]]], &#34;op&#34;: {&#34;type&#34;: &#34;CX&#34;}}, {&#34;args&#34;: [[&#34;q&#34;, [0]], [&#34;q&#34;, [1]]], &#34;op&#34;: {&#34;type&#34;: &#34;CX&#34;}}, {&#34;args&#34;: [[&#34;q&#34;, [1]], [&#34;b&#34;, [1]]], &#34;op&#34;: {&#34;type&#34;: &#34;Measure&#34;}}, {&#34;args&#34;: [[&#34;q&#34;, [0]]], &#34;op&#34;: {&#34;type&#34;: &#34;H&#34;}}, {&#34;args&#34;: [[&#34;q&#34;, [0]], [&#34;b&#34;, [0]]], &#34;op&#34;: {&#34;type&#34;: &#34;Measure&#34;}}, {&#34;args&#34;: [[&#34;b&#34;, [1]], [&#34;q&#34;, [2]]], &#34;op&#34;: {&#34;conditional&#34;: {&#34;op&#34;: {&#34;type&#34;: &#34;X&#34;}, &#34;value&#34;: 1, &#34;width&#34;: 1}, &#34;type&#34;: &#34;Conditional&#34;}}, {&#34;args&#34;: [[&#34;b&#34;, [0]], [&#34;q&#34;, [2]]], &#34;op&#34;: {&#34;conditional&#34;: {&#34;op&#34;: {&#34;type&#34;: &#34;Z&#34;}, &#34;value&#34;: 1, &#34;width&#34;: 1}, &#34;type&#34;: &#34;Conditional&#34;}}], &#34;implicit_permutation&#34;: [[[&#34;q&#34;, [0]], [&#34;q&#34;, [0]]], [[&#34;q&#34;, [1]], [&#34;q&#34;, [1]]], [[&#34;q&#34;, [2]], [&#34;q&#34;, [2]]]], &#34;name&#34;: &#34;Conditional Gates Example&#34;, &#34;phase&#34;: &#34;0.0&#34;, &#34;qubits&#34;: [[&#34;q&#34;, [0]], [&#34;q&#34;, [1]], [&#34;q&#34;, [2]]]}&lt;/div&gt;\n",
       "        &lt;/div&gt;\n",
       "        &lt;circuit-display-container :circuit-element-str=&#34;&#39;#circuit-json-to-display&#39;&#34;&gt;&lt;/circuit-display-container&gt;\n",
       "    &lt;/div&gt;\n",
       "    &lt;script type=&#34;application/javascript&#34;&gt;\n",
       "        const { createApp } = Vue;\n",
       "        const circuitDisplayContainer = window[&#34;pytket-circuit-renderer&#34;].default;\n",
       "        // Init variables to be shared between circuit display instances\n",
       "        if (typeof window.pytketCircuitDisplays === &#34;undefined&#34;) {\n",
       "            window.pytketCircuitDisplays = {};\n",
       "        }\n",
       "        const uid = &#34;30a2db5b-d073-4e27-b094-31374cbb2c40&#34;;\n",
       "        // Create the root Vue component\n",
       "        window.pytketCircuitDisplays[uid] = createApp({\n",
       "            delimiters: [&#39;[[#&#39;, &#39;#]]&#39;],\n",
       "            components: { circuitDisplayContainer },\n",
       "        }).mount(&#34;#circuit-display-vue-container-&#34;+uid);\n",
       "    &lt;/script&gt;\n",
       "&lt;/body&gt;\n",
       "&lt;/html&gt;\n",
       "\"\n",
       "        width=\"100%\" height=\"200px\"\n",
       "        style=\"border: none; outline: none; resize: vertical; overflow: auto\"></iframe>\n",
       "\n"
      ],
      "text/plain": [
       "<IPython.core.display.HTML object>"
      ]
     },
     "metadata": {},
     "output_type": "display_data"
    }
   ],
   "source": [
    "from pytket.circuit import Circuit, if_bit\n",
    "\n",
    "# create a circuit and add quantum and classical registers\n",
    "circ = Circuit(name=\"Conditional Gates Example\")\n",
    "qreg = circ.add_q_register(\"q\", 3)\n",
    "creg = circ.add_c_register(\"b\", 2)\n",
    "\n",
    "# prepare q[0] to be in the state |->, which we wish to teleport to q[2]\n",
    "circ.X(qreg[0]).H(qreg[0])\n",
    "\n",
    "# prepare a Bell state on qubits q[1] and q[2]\n",
    "circ.H(qreg[1])\n",
    "circ.CX(qreg[1], qreg[2])\n",
    "\n",
    "# construct the teleportation protocol\n",
    "circ.CX(qreg[0], qreg[1])\n",
    "circ.H(qreg[0])\n",
    "circ.Measure(qreg[0], creg[0])\n",
    "circ.Measure(qreg[1], creg[1])\n",
    "\n",
    "# if (creg[1] == 1)\n",
    "circ.X(qreg[2], condition=if_bit(creg[1]))\n",
    "\n",
    "# if (creg[0] == 1)\n",
    "circ.Z(qreg[2], condition=if_bit(creg[0]))\n",
    "\n",
    "render_circuit_jupyter(circ)"
   ]
  },
  {
   "cell_type": "markdown",
   "id": "c3e661c5",
   "metadata": {},
   "source": [
    "We can utilise pytket's [Assertion](https://cqcl.github.io/pytket/manual/manual_assertion.html#assertion) feature to verify the successful teleportation of the state $| - \\rangle$."
   ]
  },
  {
   "cell_type": "code",
   "execution_count": 22,
   "id": "2815f715",
   "metadata": {},
   "outputs": [
    {
     "data": {
      "text/html": [
       "\n",
       "\n",
       "\n",
       "\n",
       "\n",
       "\n",
       "<iframe srcdoc=\"\n",
       "&lt;!DOCTYPE html&gt;\n",
       "&lt;html lang=&#34;en&#34;&gt;\n",
       "&lt;head&gt;\n",
       "    &lt;meta charset=&#34;UTF-8&#34;&gt;\n",
       "    &lt;script type=&#34;application/javascript&#34; src=&#34;https://cdn.jsdelivr.net/npm/vue@3&#34;&gt;&lt;/script&gt;\n",
       "    &lt;script type=&#34;application/javascript&#34; src=&#34;https://unpkg.com/pytket-circuit-renderer@0.2/dist/pytket-circuit-renderer.umd.js&#34;&gt;&lt;/script&gt;\n",
       "    &lt;link rel=&#34;stylesheet&#34; href=&#34;https://unpkg.com/pytket-circuit-renderer@0.2/dist/pytket-circuit-renderer.css&#34;&gt;\n",
       "&lt;/head&gt;\n",
       "&lt;body&gt;\n",
       "    &lt;div id=&#34;circuit-display-vue-container-dbe55b01-db12-4e24-8540-d9e84cc2e34b&#34; class=&#34;pytket-circuit-display-container&#34;&gt;\n",
       "        &lt;div style=&#34;display: none&#34;&gt;\n",
       "            &lt;div id=&#34;circuit-json-to-display&#34;&gt;{&#34;bits&#34;: [[&#34;b&#34;, [0]], [&#34;b&#34;, [1]], [&#34;tk_DEBUG_ZERO_REG_debug&#34;, [0]]], &#34;commands&#34;: [{&#34;args&#34;: [[&#34;q&#34;, [0]]], &#34;op&#34;: {&#34;type&#34;: &#34;X&#34;}}, {&#34;args&#34;: [[&#34;q&#34;, [1]]], &#34;op&#34;: {&#34;type&#34;: &#34;H&#34;}}, {&#34;args&#34;: [[&#34;q&#34;, [0]]], &#34;op&#34;: {&#34;type&#34;: &#34;H&#34;}}, {&#34;args&#34;: [[&#34;q&#34;, [1]], [&#34;q&#34;, [2]]], &#34;op&#34;: {&#34;type&#34;: &#34;CX&#34;}}, {&#34;args&#34;: [[&#34;q&#34;, [0]], [&#34;q&#34;, [1]]], &#34;op&#34;: {&#34;type&#34;: &#34;CX&#34;}}, {&#34;args&#34;: [[&#34;q&#34;, [1]], [&#34;b&#34;, [1]]], &#34;op&#34;: {&#34;type&#34;: &#34;Measure&#34;}}, {&#34;args&#34;: [[&#34;q&#34;, [0]]], &#34;op&#34;: {&#34;type&#34;: &#34;H&#34;}}, {&#34;args&#34;: [[&#34;q&#34;, [0]], [&#34;b&#34;, [0]]], &#34;op&#34;: {&#34;type&#34;: &#34;Measure&#34;}}, {&#34;args&#34;: [[&#34;b&#34;, [1]], [&#34;q&#34;, [2]]], &#34;op&#34;: {&#34;conditional&#34;: {&#34;op&#34;: {&#34;type&#34;: &#34;X&#34;}, &#34;value&#34;: 1, &#34;width&#34;: 1}, &#34;type&#34;: &#34;Conditional&#34;}}, {&#34;args&#34;: [[&#34;b&#34;, [0]], [&#34;q&#34;, [2]]], &#34;op&#34;: {&#34;conditional&#34;: {&#34;op&#34;: {&#34;type&#34;: &#34;Z&#34;}, &#34;value&#34;: 1, &#34;width&#34;: 1}, &#34;type&#34;: &#34;Conditional&#34;}}, {&#34;args&#34;: [[&#34;q&#34;, [2]], [&#34;tk_DEBUG_ZERO_REG_debug&#34;, [0]]], &#34;op&#34;: {&#34;box&#34;: {&#34;id&#34;: &#34;49e8222c-ad70-4501-af37-55784b0200e2&#34;, &#34;matrix&#34;: [[[0.5, 0.0], [-0.5, 0.0]], [[-0.5, 0.0], [0.5, 0.0]]], &#34;type&#34;: &#34;ProjectorAssertionBox&#34;}, &#34;type&#34;: &#34;ProjectorAssertionBox&#34;}}], &#34;implicit_permutation&#34;: [[[&#34;q&#34;, [0]], [&#34;q&#34;, [0]]], [[&#34;q&#34;, [1]], [&#34;q&#34;, [1]]], [[&#34;q&#34;, [2]], [&#34;q&#34;, [2]]]], &#34;name&#34;: &#34;Conditional Gates Example&#34;, &#34;phase&#34;: &#34;0.0&#34;, &#34;qubits&#34;: [[&#34;q&#34;, [0]], [&#34;q&#34;, [1]], [&#34;q&#34;, [2]]]}&lt;/div&gt;\n",
       "        &lt;/div&gt;\n",
       "        &lt;circuit-display-container :circuit-element-str=&#34;&#39;#circuit-json-to-display&#39;&#34;&gt;&lt;/circuit-display-container&gt;\n",
       "    &lt;/div&gt;\n",
       "    &lt;script type=&#34;application/javascript&#34;&gt;\n",
       "        const { createApp } = Vue;\n",
       "        const circuitDisplayContainer = window[&#34;pytket-circuit-renderer&#34;].default;\n",
       "        // Init variables to be shared between circuit display instances\n",
       "        if (typeof window.pytketCircuitDisplays === &#34;undefined&#34;) {\n",
       "            window.pytketCircuitDisplays = {};\n",
       "        }\n",
       "        const uid = &#34;dbe55b01-db12-4e24-8540-d9e84cc2e34b&#34;;\n",
       "        // Create the root Vue component\n",
       "        window.pytketCircuitDisplays[uid] = createApp({\n",
       "            delimiters: [&#39;[[#&#39;, &#39;#]]&#39;],\n",
       "            components: { circuitDisplayContainer },\n",
       "        }).mount(&#34;#circuit-display-vue-container-&#34;+uid);\n",
       "    &lt;/script&gt;\n",
       "&lt;/body&gt;\n",
       "&lt;/html&gt;\n",
       "\"\n",
       "        width=\"100%\" height=\"200px\"\n",
       "        style=\"border: none; outline: none; resize: vertical; overflow: auto\"></iframe>\n",
       "\n"
      ],
      "text/plain": [
       "<IPython.core.display.HTML object>"
      ]
     },
     "metadata": {},
     "output_type": "display_data"
    }
   ],
   "source": [
    "from pytket.circuit import ProjectorAssertionBox\n",
    "import numpy as np\n",
    "\n",
    "# |-><-|\n",
    "proj = np.array([\n",
    "    [0.5, -0.5],\n",
    "    [-0.5, 0.5]\n",
    "])\n",
    "circ.add_assertion(ProjectorAssertionBox(proj), [qreg[2]], name=\"debug\")\n",
    "\n",
    "render_circuit_jupyter(circ)"
   ]
  },
  {
   "cell_type": "code",
   "execution_count": 23,
   "id": "320f432f",
   "metadata": {},
   "outputs": [],
   "source": [
    "machine = 'H1-1E'\n",
    "\n",
    "n_shots = 100\n",
    "\n",
    "backend = QuantinuumBackend(device_name=machine)\n",
    "compiled_circuit = backend.get_compiled_circuit(circ)\n",
    "handle = backend.process_circuit(compiled_circuit, \n",
    "                                 n_shots=n_shots)"
   ]
  },
  {
   "cell_type": "code",
   "execution_count": 24,
   "id": "a74af119",
   "metadata": {},
   "outputs": [
    {
     "data": {
      "text/plain": [
       "CircuitStatus(status=<StatusEnum.QUEUED: 'Circuit is queued.'>, message='{\"name\": \"Conditional Gates Example\", \"submit-date\": \"2022-09-16T15:52:59.108973\", \"result-date\": null, \"queue-position\": null, \"cost\": \"6.2\", \"error\": null}', error_detail=None, completed_time=None, queued_time=None, submitted_time=None, running_time=None, cancelled_time=None, error_time=None, queue_position=None)"
      ]
     },
     "execution_count": 24,
     "metadata": {},
     "output_type": "execute_result"
    }
   ],
   "source": [
    "status = backend.circuit_status(handle)\n",
    "status"
   ]
  },
  {
   "cell_type": "code",
   "execution_count": 25,
   "id": "35e77d07",
   "metadata": {},
   "outputs": [],
   "source": [
    "result = backend.get_result(handle)"
   ]
  },
  {
   "cell_type": "markdown",
   "id": "dcab62b1",
   "metadata": {},
   "source": [
    "The `get_debug_info` function returns the success rate of the state assertion averaged across shots. Note that the failed shots are caused by the simulated device errors"
   ]
  },
  {
   "cell_type": "code",
   "execution_count": 26,
   "id": "43c72494",
   "metadata": {},
   "outputs": [
    {
     "data": {
      "text/plain": [
       "{'debug': 1.0}"
      ]
     },
     "execution_count": 26,
     "metadata": {},
     "output_type": "execute_result"
    }
   ],
   "source": [
    "result.get_debug_info()"
   ]
  },
  {
   "cell_type": "markdown",
   "id": "d300f995",
   "metadata": {},
   "source": [
    "<div align=\"center\"> &copy; 2022 by Quantinuum. All Rights Reserved. </div>"
   ]
  }
 ],
 "metadata": {
  "interpreter": {
   "hash": "fa09926369ab226b30f0f4d8b39a7b037b96c84df8a0d093a9349ea6fad58125"
  },
  "kernelspec": {
   "display_name": "Python 3 (ipykernel)",
   "language": "python",
   "name": "python3"
  },
  "language_info": {
   "codemirror_mode": {
    "name": "ipython",
    "version": 3
   },
   "file_extension": ".py",
   "mimetype": "text/x-python",
   "name": "python",
   "nbconvert_exporter": "python",
   "pygments_lexer": "ipython3",
   "version": "3.10.7"
  }
 },
 "nbformat": 4,
 "nbformat_minor": 5
}
