{
 "cells": [
  {
   "cell_type": "markdown",
   "id": "d791c1ee",
   "metadata": {},
   "source": [
    "<div style=\"text-align: center;\">\n",
    "<img src=\"https://assets-global.website-files.com/62b9d45fb3f64842a96c9686/62d84db4aeb2f6552f3a2f78_Quantinuum%20Logo__horizontal%20blue.svg\" width=\"200\" height=\"200\" /></div>"
   ]
  },
  {
   "cell_type": "markdown",
   "id": "7cc7cc2c-704f-4560-81b4-98b4564abf8d",
   "metadata": {},
   "source": [
    "# Native Gate Compilation Options with H-Series"
   ]
  },
  {
   "cell_type": "markdown",
   "id": "f7f3e2d2",
   "metadata": {},
   "source": [
    "A general $SU(4)$ entangler gate is available on the H-Series device. This gate is available as `Optype.TK2` via TKET. This article showcases the workflow to prepare and submit a circuit with the $SU(4)$ gate with a Quantum Volume Test (QVT) use case.\n",
    "\n",
    "Native gates are gates on a quantum computer that the hardware physically executes. Different quantum computers may have different gates that are physically executed on the hardware. Writing a gate in a quantum circuit submitted to hardware doesn't guarantee its physical execution on the device. For instance, on H-Series quantum computers, a Hadamard gate written in the circuit is not the actual gate executed. When users submit circuits using a Hadamard gate, the gate is translated into a $U1q$ gate followed by a $Rz$ gate, which the ion trap device physically executes. For a listing of the H-Series hardware native gates, see the following links:\n",
    "\n",
    "* *System Model H1 Product Data Sheet* available at [System Model H1](https://www.quantinuum.com/hardware/h1)\n",
    "* *System Model H2 Product Data Sheet* available at [System Model H2](https://www.quantinuum.com/hardware/h2)\n",
    "\n",
    "The H-Series hardware compiler handles the translation from circuits users submit to the native gates run on hardware. In the H-Series Quantum Charge-Coupled Device (QCCD) architecture, the hardware compilation includes the assignment of which physical qubit corresponds to which qubit in a circuit as well as how qubits will be transported around the device. Since transport, as well as gating, incurs a small amount of error with each operation, the H-Series compiler aims to minimize the number of gates that need to be executed. \n",
    "\n",
    "<div style=\"text-align: center;\">\n",
    "         <img src=\"figures/hseries-compilation-stack.png\" width=\"800\" />\n",
    "</div>"
   ]
  },
  {
   "cell_type": "markdown",
   "id": "755ce7b6",
   "metadata": {},
   "source": [
    "**Contents**\n",
    "\n",
    "* [H-Series Hardware Compilation](#H-Series-Hardware-Compilation)\n",
    "  * [H-Series Hardware Native Gates](#H-Series-Hardware-Native-Gates)\n",
    "  * [The General $SU(4)$ Entangler Gate](#The-General-$SU\\(4\\)$-Entangler-Gate)\n",
    "  * [Gate Compilation Optimizations](#Gate-Compilation-Optimizations)\n",
    "* [Use Case: Quantum Volume Test](#Use-Case:-Quantum-Volume-Test)\n",
    "  * [Decomposing a random $SU(4)$ unitary into a circuit primitive](#Decomposing-a-random-$SU\\(4\\)$-unitary-into-a-circuit-primitive)\n",
    "  * [Building the Quantum Volume Test Circuit](#Building-the-Quantum-Volume-Test-Circuit)\n",
    "  * [Define Native Two-Qubit Gate to Use With `QuantinuumBackend`](#Define-Native-Two-Qubit-Gate-to-Use-With-QuantinuumBackend)\n",
    "    * [General $SU(4)$ Entangler](#General-$SU\\(4\\)$-Entangler)\n",
    "    * [Arbitrary Angle ZZ Gate](#Arbitrary-Angle-ZZ-Gate)\n",
    "* [Summary](#Summary)"
   ]
  },
  {
   "cell_type": "markdown",
   "id": "2a37a860",
   "metadata": {},
   "source": [
    "## H-Series Hardware Compilation"
   ]
  },
  {
   "cell_type": "markdown",
   "id": "cad1e184",
   "metadata": {},
   "source": [
    "### H-Series Hardware Native Gates"
   ]
  },
  {
   "cell_type": "markdown",
   "id": "ca352fad-d574-475a-a6ec-af3cd8fcc288",
   "metadata": {},
   "source": [
    "On the Quantinuum H-Series devices there are different native two-qubit gates available. The default native two-qubit gates are an arbitrary-angle two-qubit gate, $Rzz(\\theta)$, or a fully entangling two-qubit gate, $ZZ()$. Note that $ZZ()$ is equal to, $Rzz(\\frac{\\pi}{2})$. In TKET, these are `OpType.ZZPhase` and `OpType.ZZMax`, respectively. An additional native gate is available, the General $SU(4)$ Entangler gate, $Rxxyyzz(\\alpha, \\beta\\, \\gamma)$, which is available as `OpType.TK2` within TKET.\n",
    "\n",
    "By default, TKET and the hardware compiler compile to $Rzz(\\theta)$ or $ZZ()$. Only one native gate can be specified at a time. This ensures everything aligns in the global operations of the circuit. \n",
    "\n",
    "To compile to the general $SU(4)$ entangler, a Quantinuum backend compilation configuration or a call to the `set_compilation_config_target_2qb_gate` method needs to have this set as the desired native gate to use. \n",
    "\n",
    "1. `QuantinuumBackendCompilationConfig`: The `native_2qb_gate` argument needs to be set to `OpType.TK2` to enable use of the desired gate. \n",
    "1. `QuantinuumBackend.set_compilation_config_target_2qb_gate`: The `native_2qb_gate` argument needs to be set to the desired gate."
   ]
  },
  {
   "cell_type": "markdown",
   "id": "115d526c",
   "metadata": {},
   "source": [
    "### The General $SU(4)$ Entangler Gate\n",
    "\n",
    "The General $SU(4)$ Entangler gate is available in TKET as [`OpType.TK2`](https://docs.quantinuum.com/tket/api-docs/circuit_class.html#pytket.circuit.Circuit.TK2). This gate is a combination of `OpType.XXPhase`, `OpType.YYPhase` and `OpType.ZZPhase`, and requires three angles as input, $\\alpha$, $\\beta$ and $\\gamma$. The definition of the gate is provided below:\n",
    "\n",
    "$$\\begin{equation} \\textrm{TK2}(\\alpha, \\beta, \\gamma) = e^{-\\frac{1}{2} i \\pi \\alpha (\\hat{X} \\bigotimes \\hat{X})} \\quad e^{-\\frac{1}{2} i \\pi \\beta (\\hat{Y} \\bigotimes \\hat{Y})} \\quad e^{-\\frac{1}{2} \\pi \\gamma (\\hat{Z} \\bigotimes \\hat{Z})} = e^{-\\frac{1}{2} i \\alpha (\\hat{X} \\bigotimes \\hat{X}) -\\frac{1}{2} i \\pi \\beta (\\hat{Y} \\bigotimes \\hat{Y}) -\\frac{1}{2} i \\pi \\gamma (\\hat{Z} \\bigotimes \\hat{Z})} \\end{equation} $$\n",
    "\n",
    "This gate can be used as follows within TKET."
   ]
  },
  {
   "cell_type": "code",
   "execution_count": 1,
   "id": "8314af95",
   "metadata": {},
   "outputs": [
    {
     "data": {
      "text/html": [
       "\n",
       "\n",
       "\n",
       "\n",
       "\n",
       "\n",
       "<div style=\"resize: vertical; overflow: auto; height: 400px; display: block\">\n",
       "    <iframe srcdoc=\"\n",
       "&lt;!DOCTYPE html&gt;\n",
       "&lt;html lang=&#34;en&#34;&gt;\n",
       "&lt;head&gt;\n",
       "    &lt;meta charset=&#34;UTF-8&#34;&gt;\n",
       "    &lt;!-- Download Vue 3--&gt;\n",
       "&lt;script type=&#34;application/javascript&#34; src=&#34;https://cdn.jsdelivr.net/npm/vue@3&#34;&gt;&lt;/script&gt;\n",
       "&lt;!-- Download Circuit Renderer with styles --&gt;\n",
       "&lt;script type=&#34;application/javascript&#34; src=&#34;https://unpkg.com/pytket-circuit-renderer@0.7/dist/pytket-circuit-renderer.umd.js&#34;&gt;&lt;/script&gt;\n",
       "&lt;link rel=&#34;stylesheet&#34; href=&#34;https://unpkg.com/pytket-circuit-renderer@0.7/dist/pytket-circuit-renderer.css&#34;&gt;\n",
       "&lt;/head&gt;\n",
       "&lt;body&gt;\n",
       "\n",
       "\n",
       "\n",
       "    &lt;div id=&#34;circuit-display-vue-container-fda8c928-2836-4f2a-b766-a70c6b28ebdf&#34; class=&#34;pytket-circuit-display-container&#34;&gt;\n",
       "        &lt;div style=&#34;display: none&#34;&gt;\n",
       "            &lt;div id=&#34;circuit-json-to-display&#34;&gt;{&#34;bits&#34;: [], &#34;commands&#34;: [{&#34;args&#34;: [[&#34;q&#34;, [0]], [&#34;q&#34;, [1]]], &#34;op&#34;: {&#34;params&#34;: [&#34;a&#34;, &#34;b&#34;, &#34;c&#34;], &#34;type&#34;: &#34;TK2&#34;}}], &#34;created_qubits&#34;: [], &#34;discarded_qubits&#34;: [], &#34;implicit_permutation&#34;: [[[&#34;q&#34;, [0]], [&#34;q&#34;, [0]]], [[&#34;q&#34;, [1]], [&#34;q&#34;, [1]]]], &#34;phase&#34;: &#34;0.0&#34;, &#34;qubits&#34;: [[&#34;q&#34;, [0]], [&#34;q&#34;, [1]]]}&lt;/div&gt;\n",
       "        &lt;/div&gt;\n",
       "        &lt;circuit-display-container\n",
       "                :circuit-element-str=&#34;&#39;#circuit-json-to-display&#39;&#34;\n",
       "                :init-render-options=&#34;initRenderOptions&#34;\n",
       "        &gt;&lt;/circuit-display-container&gt;\n",
       "    &lt;/div&gt;\n",
       "    &lt;script type=&#34;application/javascript&#34;&gt;\n",
       "      const circuitRendererUid = &#34;fda8c928-2836-4f2a-b766-a70c6b28ebdf&#34;;\n",
       "      const displayOptions = JSON.parse(&#39;{}&#39;);\n",
       "\n",
       "      // Script to initialise the circuit renderer app\n",
       "\n",
       "const { createApp } = Vue;\n",
       "const circuitDisplayContainer = window[&#34;pytket-circuit-renderer&#34;].default;\n",
       "// Init variables to be shared between circuit display instances\n",
       "if (typeof window.pytketCircuitDisplays === &#34;undefined&#34;) {\n",
       "    window.pytketCircuitDisplays = {};\n",
       "}\n",
       "// Create the root Vue component\n",
       "const app = createApp({\n",
       "    delimiters: [&#39;[[#&#39;, &#39;#]]&#39;],\n",
       "    components: { circuitDisplayContainer },\n",
       "    data () {\n",
       "      return {\n",
       "        initRenderOptions: displayOptions,\n",
       "      }\n",
       "    }\n",
       "})\n",
       "app.config.unwrapInjectedRef = true;\n",
       "app.mount(&#34;#circuit-display-vue-container-&#34;+circuitRendererUid);\n",
       "window.pytketCircuitDisplays[circuitRendererUid] = app;\n",
       "    &lt;/script&gt;\n",
       "\n",
       "\n",
       "\n",
       "&lt;/body&gt;\n",
       "&lt;/html&gt;\n",
       "\"\n",
       "            width=\"100%\" height=\"100%\"\n",
       "            style=\"border: none; outline: none; overflow: auto\"></iframe>\n",
       "</div>\n",
       "\n"
      ],
      "text/plain": [
       "<IPython.core.display.HTML object>"
      ]
     },
     "metadata": {},
     "output_type": "display_data"
    }
   ],
   "source": [
    "from pytket.circuit.display import render_circuit_jupyter\n",
    "from pytket.circuit import Circuit\n",
    "from sympy import Symbol\n",
    "\n",
    "symbols = [Symbol(\"a\"), Symbol(\"b\"), Symbol(\"c\")]\n",
    "circuit = Circuit(2)\n",
    "circuit.TK2(*symbols, *circuit.qubits)\n",
    "render_circuit_jupyter(circuit)"
   ]
  },
  {
   "cell_type": "markdown",
   "id": "ad806573",
   "metadata": {},
   "source": [
    "This circuit can be converted to a QASM string using the [`circuit_to_qasm_str`](https://docs.quantinuum.com/tket/api-docs/qasm.html#pytket.qasm.circuit_to_qasm_str) function and by specifying the Quantinuum header `hqslib1`."
   ]
  },
  {
   "cell_type": "code",
   "execution_count": 2,
   "id": "644ff6a4",
   "metadata": {},
   "outputs": [
    {
     "name": "stdout",
     "output_type": "stream",
     "text": [
      "OPENQASM 2.0;\n",
      "include \"hqslib1.inc\";\n",
      "\n",
      "qreg q[2];\n",
      "Rxxyyzz((a)*pi,(b)*pi,(c)*pi) q[0],q[1];\n",
      "\n"
     ]
    }
   ],
   "source": [
    "from pytket.qasm.qasm import circuit_to_qasm_str\n",
    "\n",
    "print(circuit_to_qasm_str(circuit, header=\"hqslib1\"))"
   ]
  },
  {
   "cell_type": "markdown",
   "id": "9c87284e",
   "metadata": {},
   "source": [
    "### Gate Compilation Optimizations\n"
   ]
  },
  {
   "cell_type": "markdown",
   "id": "73df0e14",
   "metadata": {},
   "source": [
    "\n",
    "Users have the option of submitting circuits using whichever quantum gate set they desire. Users do not need to think about which physical gates will be executed or how physical qubits will move around the device since the hardware compiler manages this. In certain cases, however, users may want to know that the circuit they submit is going to be run on the device exactly as they write it. For example, when running benchmarking circuits users may want circuits to be executed exactly as specified in the circuit even if its not the most optimal in total number of two-qubit gates.\n",
    "\n",
    "There are two ways to think about using these options:\n",
    "1. [Circuits written in any gate set](#Circuits-written-in-any-gate-set)\n",
    "2. [Circuits written in the hardware's native gate set](#Circuits-written-in-the-hardware's-native-gate-set)\n",
    "\n",
    "Options for submitting circuits are summarized in the figure. \n",
    "\n",
    "<div style=\"text-align: center;\">\n",
    "         <img src=\"figures/hseries-stack-options.png\" width=\"800\" />\n",
    "</div>"
   ]
  },
  {
   "cell_type": "markdown",
   "id": "3c79e8b1",
   "metadata": {},
   "source": [
    "#### Circuits written in any gate set\n"
   ]
  },
  {
   "cell_type": "markdown",
   "id": "548c79af",
   "metadata": {},
   "source": [
    "\n",
    "Users are free to submit circuits written with any gate set, not just the native gate set of the hardware. In this case, TKET will rebase the circuit to the native gate set it believes is most optimal and the hardware compiler will handle further optimizations of gate combinations as it applies to transport and ion assignment. We recommend this for the majority of use cases.\n",
    "\n",
    "* `get_compiled_circuit`: The TKET optimization level to apply with `optimisation_level` (default: `2`). With TKET optimizations turned on, the hardware compiler will provide further gate combination logic as makes sense for ions and transport\n",
    "  * `2`: powerful optimizations, compilation can be time-consuming\n",
    "  * `1`: basic optimization, compiles quickly\n",
    "  * `0`: rebase the circuit with TKET"
   ]
  },
  {
   "cell_type": "markdown",
   "id": "83ca2eed",
   "metadata": {},
   "source": [
    "#### Circuits written in the hardware's native gate set\n"
   ]
  },
  {
   "cell_type": "markdown",
   "id": "e6667b45",
   "metadata": {},
   "source": [
    "\n",
    "For circuits that are written using only gates in the hardware's native gate set, users may still choose to apply the TKET optimizations specified above to their circuit even if the circuit is written in the native gate set since TKET may find further reductions in the number of quantum gates. This can be explored using `get_compiled_circuit`.\n",
    "\n",
    "Users may also not want to utilize TKET optimizations and submit their circuit *as is* using the native gates exactly as specified in the circuit. If this is desired, the `get_compiled_circuit` function can be skipped. The `process_circuit` function will detect that the circuit submitted is written with the native gate set and run the circuit as written. \n",
    "\n",
    "The workflow for submitting circuits using $Rzz(\\theta)$ or $ZZ()$ utilize all but the purple steps below. To use the general $SU(4)$ entangler, either route can be chosen, utilizing the purpose steps. The `get_compiled_circuit` function is optinal depending if the user would like to apply TKET optimizations or not. \n",
    "\n",
    "<div style=\"text-align: center;\">\n",
    "         <img src=\"figures/pytket-workflow-options.png\" width=\"800\" />\n",
    "</div>"
   ]
  },
  {
   "cell_type": "markdown",
   "id": "c9088c9a",
   "metadata": {},
   "source": [
    "## Use Case: Quantum Volume Test"
   ]
  },
  {
   "cell_type": "markdown",
   "id": "3c79e573-04c6-4142-9eb5-6d74cfb97b24",
   "metadata": {},
   "source": [
    "Now we illustrate the above compilation options using the Quantum Volume Test. \n",
    "\n",
    "Quantum volume is a benchmarking test that was initially proposed by IBM ([arXiv:1811.12926](https://arxiv.org/abs/1811.12926)). It is a test that aims to verify the quality as well as the quantity of qubits on the machine. The test does this by performing rounds of single and two qubit gates between random pairs of qubits for as many rounds as qubits in the test. For example, for quantum volume of $2^N$ where $N=4$, there are 4 layers of repeated operations over 4 qubits. It verifies the quantum computer can perform quality computation with reasonable-sized circuits. The advantage to using quantum volume is that it gives users the confidence that not only do they have the number of qubits to support running their circuit, but the two-qubit gate fidelity meets the threshold to support circuits of significant depth as well. Quantum algorithms need not only qubits, but the ability to run many gates. Quantinuum has steadily been increasing the quantum volume of H-Series machines. \n",
    "\n",
    "First we import the functions we need in TKET.   "
   ]
  },
  {
   "cell_type": "code",
   "execution_count": 3,
   "id": "c5cd7eda-ed96-4b84-896f-103349601b43",
   "metadata": {},
   "outputs": [],
   "source": [
    "import numpy as np\n",
    "\n",
    "from pytket import Circuit, OpType\n",
    "from pytket.circuit.display import render_circuit_jupyter\n",
    "\n",
    "from pytket.extensions.quantinuum import QuantinuumBackend\n",
    "from pytket.extensions.quantinuum.backends.quantinuum import (\n",
    "    QuantinuumBackendCompilationConfig,\n",
    ")"
   ]
  },
  {
   "cell_type": "markdown",
   "id": "fc930451",
   "metadata": {},
   "source": [
    "### Decomposing a random $SU(4)$ unitary into a circuit primitive\n",
    "\n",
    "To set up the Quantum Volume test, we start by building up the repeated circuit elements. The function in the code cell below defines a TKET Circuit Box with [`pytket.circuit.CircBox`](https://docs.quantinuum.com/tket/api-docs/circuit.html#pytket.circuit.CircBox). Circuit Boxes are useful for composing larger circuits from smaller subcircuits that utilize the same set of gates.\n",
    "\n",
    "The Circuit box below contains a blueprint for the decomposition of a random general $SU(4)$ unitary distributed with the Haar Measure into a circuit primitive over 2 qubits. The implementation is based on [arxiv.0609050](http://arxiv.org/abs/math-ph/0609050). The random $SU(4)$ unitary is generated using [`scipy.stats.unitary_group`](https://docs.scipy.org/doc/scipy/reference/generated/scipy.stats.unitary_group.html#scipy-stats-unitary-group)."
   ]
  },
  {
   "cell_type": "code",
   "execution_count": 23,
   "id": "c687d9fc",
   "metadata": {},
   "outputs": [],
   "source": [
    "from pytket.circuit import CircBox, Circuit, Unitary2qBox\n",
    "import numpy as np\n",
    "from scipy.stats import unitary_group\n",
    "\n",
    "\n",
    "def haar_random_su4_box() -> CircBox:\n",
    "    r = unitary_group.rvs(dim=4)\n",
    "    r[0, :] /= np.linalg.det(r)\n",
    "    circuit = Circuit(2)\n",
    "    box = Unitary2qBox(r)\n",
    "    circuit.add_unitary2qbox(box, 0, 1)\n",
    "    return CircBox(circuit)"
   ]
  },
  {
   "cell_type": "markdown",
   "id": "3b67379f",
   "metadata": {},
   "source": [
    "Circuit Boxes can be visualized utilizing the `get_circuit` function."
   ]
  },
  {
   "cell_type": "code",
   "execution_count": 24,
   "id": "ec997759",
   "metadata": {},
   "outputs": [
    {
     "data": {
      "text/html": [
       "\n",
       "\n",
       "\n",
       "\n",
       "\n",
       "\n",
       "<div style=\"resize: vertical; overflow: auto; height: 400px; display: block\">\n",
       "    <iframe srcdoc=\"\n",
       "&lt;!DOCTYPE html&gt;\n",
       "&lt;html lang=&#34;en&#34;&gt;\n",
       "&lt;head&gt;\n",
       "    &lt;meta charset=&#34;UTF-8&#34;&gt;\n",
       "    &lt;!-- Download Vue 3--&gt;\n",
       "&lt;script type=&#34;application/javascript&#34; src=&#34;https://cdn.jsdelivr.net/npm/vue@3&#34;&gt;&lt;/script&gt;\n",
       "&lt;!-- Download Circuit Renderer with styles --&gt;\n",
       "&lt;script type=&#34;application/javascript&#34; src=&#34;https://unpkg.com/pytket-circuit-renderer@0.7/dist/pytket-circuit-renderer.umd.js&#34;&gt;&lt;/script&gt;\n",
       "&lt;link rel=&#34;stylesheet&#34; href=&#34;https://unpkg.com/pytket-circuit-renderer@0.7/dist/pytket-circuit-renderer.css&#34;&gt;\n",
       "&lt;/head&gt;\n",
       "&lt;body&gt;\n",
       "\n",
       "\n",
       "\n",
       "    &lt;div id=&#34;circuit-display-vue-container-b5ede825-c9dc-44e6-8a04-65db6858935c&#34; class=&#34;pytket-circuit-display-container&#34;&gt;\n",
       "        &lt;div style=&#34;display: none&#34;&gt;\n",
       "            &lt;div id=&#34;circuit-json-to-display&#34;&gt;{&#34;bits&#34;: [], &#34;commands&#34;: [{&#34;args&#34;: [[&#34;q&#34;, [0]], [&#34;q&#34;, [1]]], &#34;op&#34;: {&#34;box&#34;: {&#34;id&#34;: &#34;1cf3dc05-b79b-4800-b72c-351916ad4616&#34;, &#34;matrix&#34;: [[[-0.18455740823691189, 0.19570050542871548], [-0.04220674626744619, -0.14097272933056898], [-0.022382653239784958, 0.9214696442631715], [-0.1355409365334164, 0.19495261335391265]], [[-0.9391211386073903, 0.05376371013885967], [0.12651081008365425, -0.10464936109359078], [0.19843958846187568, -0.17596236723518222], [0.12359057752394509, -0.05088045639451659]], [[-0.12475995986911002, -0.11281904885050396], [-0.9321496396396491, -0.012281767680430624], [-0.15349314379805706, -0.009956571744560355], [0.2809078086677726, 0.009194925110954924]], [[0.06976904007871783, -0.09818310144369427], [-0.022016527923549252, -0.28609489039441766], [0.14104573089447023, 0.19104583184684332], [0.019942096410614535, -0.9199822012120298]]], &#34;type&#34;: &#34;Unitary2qBox&#34;}, &#34;type&#34;: &#34;Unitary2qBox&#34;}}], &#34;created_qubits&#34;: [], &#34;discarded_qubits&#34;: [], &#34;implicit_permutation&#34;: [[[&#34;q&#34;, [0]], [&#34;q&#34;, [0]]], [[&#34;q&#34;, [1]], [&#34;q&#34;, [1]]]], &#34;phase&#34;: &#34;0.0&#34;, &#34;qubits&#34;: [[&#34;q&#34;, [0]], [&#34;q&#34;, [1]]]}&lt;/div&gt;\n",
       "        &lt;/div&gt;\n",
       "        &lt;circuit-display-container\n",
       "                :circuit-element-str=&#34;&#39;#circuit-json-to-display&#39;&#34;\n",
       "                :init-render-options=&#34;initRenderOptions&#34;\n",
       "        &gt;&lt;/circuit-display-container&gt;\n",
       "    &lt;/div&gt;\n",
       "    &lt;script type=&#34;application/javascript&#34;&gt;\n",
       "      const circuitRendererUid = &#34;b5ede825-c9dc-44e6-8a04-65db6858935c&#34;;\n",
       "      const displayOptions = JSON.parse(&#39;{}&#39;);\n",
       "\n",
       "      // Script to initialise the circuit renderer app\n",
       "\n",
       "const { createApp } = Vue;\n",
       "const circuitDisplayContainer = window[&#34;pytket-circuit-renderer&#34;].default;\n",
       "// Init variables to be shared between circuit display instances\n",
       "if (typeof window.pytketCircuitDisplays === &#34;undefined&#34;) {\n",
       "    window.pytketCircuitDisplays = {};\n",
       "}\n",
       "// Create the root Vue component\n",
       "const app = createApp({\n",
       "    delimiters: [&#39;[[#&#39;, &#39;#]]&#39;],\n",
       "    components: { circuitDisplayContainer },\n",
       "    data () {\n",
       "      return {\n",
       "        initRenderOptions: displayOptions,\n",
       "      }\n",
       "    }\n",
       "})\n",
       "app.config.unwrapInjectedRef = true;\n",
       "app.mount(&#34;#circuit-display-vue-container-&#34;+circuitRendererUid);\n",
       "window.pytketCircuitDisplays[circuitRendererUid] = app;\n",
       "    &lt;/script&gt;\n",
       "\n",
       "\n",
       "\n",
       "&lt;/body&gt;\n",
       "&lt;/html&gt;\n",
       "\"\n",
       "            width=\"100%\" height=\"100%\"\n",
       "            style=\"border: none; outline: none; overflow: auto\"></iframe>\n",
       "</div>\n",
       "\n"
      ],
      "text/plain": [
       "<IPython.core.display.HTML object>"
      ]
     },
     "metadata": {},
     "output_type": "display_data"
    }
   ],
   "source": [
    "from pytket.circuit.display import render_circuit_jupyter\n",
    "\n",
    "circuit = haar_random_su4_box().get_circuit()\n",
    "render_circuit_jupyter(circuit)"
   ]
  },
  {
   "cell_type": "markdown",
   "id": "407f42d9",
   "metadata": {},
   "source": [
    "In the cell below, the CircBox is inspected and further optimisations are applied. `DecomposeBoxes` simplifies `OpType.CircBox` operations into the underlying gate operations recursively. Further decompositions  are performed with the `KAKDecomposition` function. We specify use the `OpType.TK2` gate in this function call as the target 2-qubit gate after decomposition. \n",
    "\n",
    "The `pytket` sequence pass, consists of two passes:\n",
    "* [`pytket.passes.DecomposeBoxes`](https://docs.quantinuum.com/tket/api-docs/passes.html#pytket.passes.DecomposeBoxes)\n",
    "* [`pytket.passes.KAKDecomposition`](https://docs.quantinuum.com/tket/api-docs/passes.html#pytket.passes.KAKDecomposition)\n",
    "\n",
    "Both passes are arguments to [`pytket.passes.SequencePass`](https://docs.quantinuum.com/tket/api-docs/passes.html#pytket.passes.SequencePass). `SequencePass` allows both passes to be applied to the input circuit with one `apply` call."
   ]
  },
  {
   "cell_type": "code",
   "execution_count": 25,
   "id": "ebc9a20f",
   "metadata": {},
   "outputs": [],
   "source": [
    "from pytket.passes import DecomposeBoxes, KAKDecomposition, SequencePass\n",
    "from pytket.circuit import OpType\n",
    "\n",
    "sequence_pass = SequencePass(\n",
    "    [DecomposeBoxes(), KAKDecomposition(target_2qb_gate=OpType.TK2)]\n",
    ")"
   ]
  },
  {
   "cell_type": "code",
   "execution_count": 26,
   "id": "15c103e8",
   "metadata": {},
   "outputs": [
    {
     "data": {
      "text/html": [
       "\n",
       "\n",
       "\n",
       "\n",
       "\n",
       "\n",
       "<div style=\"resize: vertical; overflow: auto; height: 400px; display: block\">\n",
       "    <iframe srcdoc=\"\n",
       "&lt;!DOCTYPE html&gt;\n",
       "&lt;html lang=&#34;en&#34;&gt;\n",
       "&lt;head&gt;\n",
       "    &lt;meta charset=&#34;UTF-8&#34;&gt;\n",
       "    &lt;!-- Download Vue 3--&gt;\n",
       "&lt;script type=&#34;application/javascript&#34; src=&#34;https://cdn.jsdelivr.net/npm/vue@3&#34;&gt;&lt;/script&gt;\n",
       "&lt;!-- Download Circuit Renderer with styles --&gt;\n",
       "&lt;script type=&#34;application/javascript&#34; src=&#34;https://unpkg.com/pytket-circuit-renderer@0.7/dist/pytket-circuit-renderer.umd.js&#34;&gt;&lt;/script&gt;\n",
       "&lt;link rel=&#34;stylesheet&#34; href=&#34;https://unpkg.com/pytket-circuit-renderer@0.7/dist/pytket-circuit-renderer.css&#34;&gt;\n",
       "&lt;/head&gt;\n",
       "&lt;body&gt;\n",
       "\n",
       "\n",
       "\n",
       "    &lt;div id=&#34;circuit-display-vue-container-a5319413-a6cf-42a1-bdb3-6a9452ecc404&#34; class=&#34;pytket-circuit-display-container&#34;&gt;\n",
       "        &lt;div style=&#34;display: none&#34;&gt;\n",
       "            &lt;div id=&#34;circuit-json-to-display&#34;&gt;{&#34;bits&#34;: [], &#34;commands&#34;: [{&#34;args&#34;: [[&#34;q&#34;, [0]]], &#34;op&#34;: {&#34;params&#34;: [&#34;0.510956417133218&#34;, &#34;0.172000058132153&#34;, &#34;-0.479067885859443&#34;], &#34;type&#34;: &#34;TK1&#34;}}, {&#34;args&#34;: [[&#34;q&#34;, [1]]], &#34;op&#34;: {&#34;params&#34;: [&#34;-0.465954135025438&#34;, &#34;0.561597359991631&#34;, &#34;-0.934200742990869&#34;], &#34;type&#34;: &#34;TK1&#34;}}, {&#34;args&#34;: [[&#34;q&#34;, [0]]], &#34;op&#34;: {&#34;type&#34;: &#34;Sdg&#34;}}, {&#34;args&#34;: [[&#34;q&#34;, [1]]], &#34;op&#34;: {&#34;type&#34;: &#34;Sdg&#34;}}, {&#34;args&#34;: [[&#34;q&#34;, [0]]], &#34;op&#34;: {&#34;type&#34;: &#34;Vdg&#34;}}, {&#34;args&#34;: [[&#34;q&#34;, [1]]], &#34;op&#34;: {&#34;type&#34;: &#34;Vdg&#34;}}, {&#34;args&#34;: [[&#34;q&#34;, [0]], [&#34;q&#34;, [1]]], &#34;op&#34;: {&#34;params&#34;: [&#34;0.486497743932391&#34;, &#34;0.417599324607329&#34;, &#34;0.0697602641423347&#34;], &#34;type&#34;: &#34;TK2&#34;}}, {&#34;args&#34;: [[&#34;q&#34;, [0]]], &#34;op&#34;: {&#34;type&#34;: &#34;Z&#34;}}, {&#34;args&#34;: [[&#34;q&#34;, [1]]], &#34;op&#34;: {&#34;type&#34;: &#34;Z&#34;}}, {&#34;args&#34;: [[&#34;q&#34;, [0]]], &#34;op&#34;: {&#34;type&#34;: &#34;V&#34;}}, {&#34;args&#34;: [[&#34;q&#34;, [1]]], &#34;op&#34;: {&#34;type&#34;: &#34;V&#34;}}, {&#34;args&#34;: [[&#34;q&#34;, [0]]], &#34;op&#34;: {&#34;type&#34;: &#34;S&#34;}}, {&#34;args&#34;: [[&#34;q&#34;, [1]]], &#34;op&#34;: {&#34;type&#34;: &#34;S&#34;}}, {&#34;args&#34;: [[&#34;q&#34;, [0]]], &#34;op&#34;: {&#34;params&#34;: [&#34;0.939880646578185&#34;, &#34;0.596068874507121&#34;, &#34;-0.541126419287945&#34;], &#34;type&#34;: &#34;TK1&#34;}}, {&#34;args&#34;: [[&#34;q&#34;, [1]]], &#34;op&#34;: {&#34;params&#34;: [&#34;-0.518535096443183&#34;, &#34;0.559521050365384&#34;, &#34;-0.969351895772466&#34;], &#34;type&#34;: &#34;TK1&#34;}}], &#34;created_qubits&#34;: [], &#34;discarded_qubits&#34;: [], &#34;implicit_permutation&#34;: [[[&#34;q&#34;, [0]], [&#34;q&#34;, [0]]], [[&#34;q&#34;, [1]], [&#34;q&#34;, [1]]]], &#34;phase&#34;: &#34;0.5&#34;, &#34;qubits&#34;: [[&#34;q&#34;, [0]], [&#34;q&#34;, [1]]]}&lt;/div&gt;\n",
       "        &lt;/div&gt;\n",
       "        &lt;circuit-display-container\n",
       "                :circuit-element-str=&#34;&#39;#circuit-json-to-display&#39;&#34;\n",
       "                :init-render-options=&#34;initRenderOptions&#34;\n",
       "        &gt;&lt;/circuit-display-container&gt;\n",
       "    &lt;/div&gt;\n",
       "    &lt;script type=&#34;application/javascript&#34;&gt;\n",
       "      const circuitRendererUid = &#34;a5319413-a6cf-42a1-bdb3-6a9452ecc404&#34;;\n",
       "      const displayOptions = JSON.parse(&#39;{}&#39;);\n",
       "\n",
       "      // Script to initialise the circuit renderer app\n",
       "\n",
       "const { createApp } = Vue;\n",
       "const circuitDisplayContainer = window[&#34;pytket-circuit-renderer&#34;].default;\n",
       "// Init variables to be shared between circuit display instances\n",
       "if (typeof window.pytketCircuitDisplays === &#34;undefined&#34;) {\n",
       "    window.pytketCircuitDisplays = {};\n",
       "}\n",
       "// Create the root Vue component\n",
       "const app = createApp({\n",
       "    delimiters: [&#39;[[#&#39;, &#39;#]]&#39;],\n",
       "    components: { circuitDisplayContainer },\n",
       "    data () {\n",
       "      return {\n",
       "        initRenderOptions: displayOptions,\n",
       "      }\n",
       "    }\n",
       "})\n",
       "app.config.unwrapInjectedRef = true;\n",
       "app.mount(&#34;#circuit-display-vue-container-&#34;+circuitRendererUid);\n",
       "window.pytketCircuitDisplays[circuitRendererUid] = app;\n",
       "    &lt;/script&gt;\n",
       "\n",
       "\n",
       "\n",
       "&lt;/body&gt;\n",
       "&lt;/html&gt;\n",
       "\"\n",
       "            width=\"100%\" height=\"100%\"\n",
       "            style=\"border: none; outline: none; overflow: auto\"></iframe>\n",
       "</div>\n",
       "\n"
      ],
      "text/plain": [
       "<IPython.core.display.HTML object>"
      ]
     },
     "metadata": {},
     "output_type": "display_data"
    }
   ],
   "source": [
    "sequence_pass.apply(circuit)\n",
    "render_circuit_jupyter(circuit)"
   ]
  },
  {
   "cell_type": "markdown",
   "id": "22f8fccd",
   "metadata": {},
   "source": [
    "### Building the Quantum Volume Test Circuit"
   ]
  },
  {
   "cell_type": "markdown",
   "id": "07a18465",
   "metadata": {},
   "source": [
    "Now we're ready to set up a Quantum Volume test circuit using the Circuit Box we created. The steps to set up the circuit are straightforward using the `CircBox` instances to build up the full circuit."
   ]
  },
  {
   "cell_type": "code",
   "execution_count": 27,
   "id": "114c43c8",
   "metadata": {},
   "outputs": [
    {
     "data": {
      "text/plain": [
       "[CircBox q[0], q[3]; CircBox q[2], q[1]; CircBox q[0], q[3]; CircBox q[1], q[2]; CircBox q[0], q[3]; CircBox q[1], q[2]; CircBox q[0], q[1]; CircBox q[2], q[3]; Measure q[0] --> c[0]; Measure q[1] --> c[1]; Measure q[2] --> c[2]; Measure q[3] --> c[3]; ]"
      ]
     },
     "execution_count": 27,
     "metadata": {},
     "output_type": "execute_result"
    }
   ],
   "source": [
    "circuit = Circuit(4)\n",
    "for _ in range(4):\n",
    "    permutation = np.random.permutation(circuit.qubits)\n",
    "    for i in range(0, 4, 2):\n",
    "        box = haar_random_su4_box()\n",
    "        circuit.add_circbox(box, [permutation[i], permutation[i + 1]])\n",
    "circuit.measure_all()"
   ]
  },
  {
   "cell_type": "markdown",
   "id": "528a9178",
   "metadata": {},
   "source": [
    "The `SequencePass` defined in the code cell in the previous subsection is used below on the QVT circuit and we can see the full set of gates in the circuit as well as the result of optimizations performed by `KAKDecomposition`. "
   ]
  },
  {
   "cell_type": "code",
   "execution_count": 28,
   "id": "ec391c2d",
   "metadata": {},
   "outputs": [
    {
     "data": {
      "text/html": [
       "\n",
       "\n",
       "\n",
       "\n",
       "\n",
       "\n",
       "<div style=\"resize: vertical; overflow: auto; height: 400px; display: block\">\n",
       "    <iframe srcdoc=\"\n",
       "&lt;!DOCTYPE html&gt;\n",
       "&lt;html lang=&#34;en&#34;&gt;\n",
       "&lt;head&gt;\n",
       "    &lt;meta charset=&#34;UTF-8&#34;&gt;\n",
       "    &lt;!-- Download Vue 3--&gt;\n",
       "&lt;script type=&#34;application/javascript&#34; src=&#34;https://cdn.jsdelivr.net/npm/vue@3&#34;&gt;&lt;/script&gt;\n",
       "&lt;!-- Download Circuit Renderer with styles --&gt;\n",
       "&lt;script type=&#34;application/javascript&#34; src=&#34;https://unpkg.com/pytket-circuit-renderer@0.7/dist/pytket-circuit-renderer.umd.js&#34;&gt;&lt;/script&gt;\n",
       "&lt;link rel=&#34;stylesheet&#34; href=&#34;https://unpkg.com/pytket-circuit-renderer@0.7/dist/pytket-circuit-renderer.css&#34;&gt;\n",
       "&lt;/head&gt;\n",
       "&lt;body&gt;\n",
       "\n",
       "\n",
       "\n",
       "    &lt;div id=&#34;circuit-display-vue-container-6a8a9376-3ab2-4470-8c1d-0ee66ed774a6&#34; class=&#34;pytket-circuit-display-container&#34;&gt;\n",
       "        &lt;div style=&#34;display: none&#34;&gt;\n",
       "            &lt;div id=&#34;circuit-json-to-display&#34;&gt;{&#34;bits&#34;: [[&#34;c&#34;, [0]], [&#34;c&#34;, [1]], [&#34;c&#34;, [2]], [&#34;c&#34;, [3]]], &#34;commands&#34;: [{&#34;args&#34;: [[&#34;q&#34;, [0]]], &#34;op&#34;: {&#34;params&#34;: [&#34;0.601368190791833&#34;, &#34;-0.622111983887963&#34;, &#34;0.0820597490477195&#34;], &#34;type&#34;: &#34;TK1&#34;}}, {&#34;args&#34;: [[&#34;q&#34;, [1]]], &#34;op&#34;: {&#34;params&#34;: [&#34;0.235640134888522&#34;, &#34;-0.344841208639593&#34;, &#34;-1.62151981852234&#34;], &#34;type&#34;: &#34;TK1&#34;}}, {&#34;args&#34;: [[&#34;q&#34;, [2]]], &#34;op&#34;: {&#34;params&#34;: [&#34;0.851425402261421&#34;, &#34;-0.632500828112102&#34;, &#34;-0.304113629679578&#34;], &#34;type&#34;: &#34;TK1&#34;}}, {&#34;args&#34;: [[&#34;q&#34;, [3]]], &#34;op&#34;: {&#34;params&#34;: [&#34;0.408364096929662&#34;, &#34;-0.753369713013412&#34;, &#34;-0.0939001623771226&#34;], &#34;type&#34;: &#34;TK1&#34;}}, {&#34;args&#34;: [[&#34;q&#34;, [0]], [&#34;q&#34;, [3]]], &#34;op&#34;: {&#34;params&#34;: [&#34;0.358087723269838&#34;, &#34;0.262536870704936&#34;, &#34;-0.104133399242446&#34;], &#34;type&#34;: &#34;TK2&#34;}}, {&#34;args&#34;: [[&#34;q&#34;, [2]], [&#34;q&#34;, [1]]], &#34;op&#34;: {&#34;params&#34;: [&#34;0.405162617631603&#34;, &#34;0.251989308638375&#34;, &#34;0.135208581156674&#34;], &#34;type&#34;: &#34;TK2&#34;}}, {&#34;args&#34;: [[&#34;q&#34;, [0]]], &#34;op&#34;: {&#34;params&#34;: [&#34;0.134468325708164&#34;, &#34;-0.533359056924749&#34;, &#34;1.74308004332523&#34;], &#34;type&#34;: &#34;TK1&#34;}}, {&#34;args&#34;: [[&#34;q&#34;, [1]]], &#34;op&#34;: {&#34;params&#34;: [&#34;-0.0554959127101045&#34;, &#34;-0.360450924906247&#34;, &#34;0.860213780077287&#34;], &#34;type&#34;: &#34;TK1&#34;}}, {&#34;args&#34;: [[&#34;q&#34;, [2]]], &#34;op&#34;: {&#34;params&#34;: [&#34;1.08533303193197&#34;, &#34;-0.447840997383637&#34;, &#34;-1.22569571144969&#34;], &#34;type&#34;: &#34;TK1&#34;}}, {&#34;args&#34;: [[&#34;q&#34;, [3]]], &#34;op&#34;: {&#34;params&#34;: [&#34;0.952362663927168&#34;, &#34;-1.68948629780908&#34;, &#34;1 + 1.75557421255977*pi**(-1)&#34;], &#34;type&#34;: &#34;TK1&#34;}}, {&#34;args&#34;: [[&#34;q&#34;, [0]], [&#34;q&#34;, [1]]], &#34;op&#34;: {&#34;params&#34;: [&#34;0.467006507748047&#34;, &#34;0.263224099345594&#34;, &#34;-0.236681474224794&#34;], &#34;type&#34;: &#34;TK2&#34;}}, {&#34;args&#34;: [[&#34;q&#34;, [2]], [&#34;q&#34;, [3]]], &#34;op&#34;: {&#34;params&#34;: [&#34;0.41822320459062&#34;, &#34;0.229630342710438&#34;, &#34;-0.115517563595899&#34;], &#34;type&#34;: &#34;TK2&#34;}}, {&#34;args&#34;: [[&#34;q&#34;, [0]]], &#34;op&#34;: {&#34;params&#34;: [&#34;0.536588281794175&#34;, &#34;-0.0459229502412887&#34;, &#34;-1.39033087073296&#34;], &#34;type&#34;: &#34;TK1&#34;}}, {&#34;args&#34;: [[&#34;q&#34;, [1]]], &#34;op&#34;: {&#34;params&#34;: [&#34;1.32548840510173&#34;, &#34;-0.635018964634981&#34;, &#34;1.19171644742615&#34;], &#34;type&#34;: &#34;TK1&#34;}}, {&#34;args&#34;: [[&#34;q&#34;, [2]]], &#34;op&#34;: {&#34;params&#34;: [&#34;-0.0224590423923979&#34;, &#34;-0.696908915669297&#34;, &#34;0.191420838193948&#34;], &#34;type&#34;: &#34;TK1&#34;}}, {&#34;args&#34;: [[&#34;q&#34;, [3]]], &#34;op&#34;: {&#34;params&#34;: [&#34;1.87021112471624&#34;, &#34;-0.350759903912001&#34;, &#34;1.38947423958808&#34;], &#34;type&#34;: &#34;TK1&#34;}}, {&#34;args&#34;: [[&#34;q&#34;, [0]], [&#34;c&#34;, [0]]], &#34;op&#34;: {&#34;type&#34;: &#34;Measure&#34;}}, {&#34;args&#34;: [[&#34;q&#34;, [1]], [&#34;c&#34;, [1]]], &#34;op&#34;: {&#34;type&#34;: &#34;Measure&#34;}}, {&#34;args&#34;: [[&#34;q&#34;, [2]], [&#34;c&#34;, [2]]], &#34;op&#34;: {&#34;type&#34;: &#34;Measure&#34;}}, {&#34;args&#34;: [[&#34;q&#34;, [3]], [&#34;c&#34;, [3]]], &#34;op&#34;: {&#34;type&#34;: &#34;Measure&#34;}}], &#34;created_qubits&#34;: [], &#34;discarded_qubits&#34;: [], &#34;implicit_permutation&#34;: [[[&#34;q&#34;, [0]], [&#34;q&#34;, [0]]], [[&#34;q&#34;, [1]], [&#34;q&#34;, [1]]], [[&#34;q&#34;, [2]], [&#34;q&#34;, [2]]], [[&#34;q&#34;, [3]], [&#34;q&#34;, [3]]]], &#34;phase&#34;: &#34;1.5&#34;, &#34;qubits&#34;: [[&#34;q&#34;, [0]], [&#34;q&#34;, [1]], [&#34;q&#34;, [2]], [&#34;q&#34;, [3]]]}&lt;/div&gt;\n",
       "        &lt;/div&gt;\n",
       "        &lt;circuit-display-container\n",
       "                :circuit-element-str=&#34;&#39;#circuit-json-to-display&#39;&#34;\n",
       "                :init-render-options=&#34;initRenderOptions&#34;\n",
       "        &gt;&lt;/circuit-display-container&gt;\n",
       "    &lt;/div&gt;\n",
       "    &lt;script type=&#34;application/javascript&#34;&gt;\n",
       "      const circuitRendererUid = &#34;6a8a9376-3ab2-4470-8c1d-0ee66ed774a6&#34;;\n",
       "      const displayOptions = JSON.parse(&#39;{}&#39;);\n",
       "\n",
       "      // Script to initialise the circuit renderer app\n",
       "\n",
       "const { createApp } = Vue;\n",
       "const circuitDisplayContainer = window[&#34;pytket-circuit-renderer&#34;].default;\n",
       "// Init variables to be shared between circuit display instances\n",
       "if (typeof window.pytketCircuitDisplays === &#34;undefined&#34;) {\n",
       "    window.pytketCircuitDisplays = {};\n",
       "}\n",
       "// Create the root Vue component\n",
       "const app = createApp({\n",
       "    delimiters: [&#39;[[#&#39;, &#39;#]]&#39;],\n",
       "    components: { circuitDisplayContainer },\n",
       "    data () {\n",
       "      return {\n",
       "        initRenderOptions: displayOptions,\n",
       "      }\n",
       "    }\n",
       "})\n",
       "app.config.unwrapInjectedRef = true;\n",
       "app.mount(&#34;#circuit-display-vue-container-&#34;+circuitRendererUid);\n",
       "window.pytketCircuitDisplays[circuitRendererUid] = app;\n",
       "    &lt;/script&gt;\n",
       "\n",
       "\n",
       "\n",
       "&lt;/body&gt;\n",
       "&lt;/html&gt;\n",
       "\"\n",
       "            width=\"100%\" height=\"100%\"\n",
       "            style=\"border: none; outline: none; overflow: auto\"></iframe>\n",
       "</div>\n",
       "\n"
      ],
      "text/plain": [
       "<IPython.core.display.HTML object>"
      ]
     },
     "metadata": {},
     "output_type": "display_data"
    }
   ],
   "source": [
    "sequence_pass.apply(circuit)\n",
    "from pytket.circuit.display import render_circuit_jupyter\n",
    "\n",
    "render_circuit_jupyter(circuit)"
   ]
  },
  {
   "cell_type": "markdown",
   "id": "e334f32d",
   "metadata": {},
   "source": [
    "### Define Native Two-Qubit Gate to Use With `QuantinuumBackend`\n",
    "\n",
    "Now that the circuit has been set up, we will demonstrate submission of the circuit for H-Series backends using both the $SU(4)$ (`OpType.TK2`) gate and $Rzz$ (`OpType.ZZPhase`) as the target two-qubit gate."
   ]
  },
  {
   "cell_type": "markdown",
   "id": "63db55fd",
   "metadata": {},
   "source": [
    "#### General $SU(4)$ Entangler"
   ]
  },
  {
   "cell_type": "markdown",
   "id": "d0a1c482",
   "metadata": {},
   "source": [
    "To run a circuit containing the general $SU(4)$ gate on H-Series devices, the compilation configuration for the `QuantinuumBackend` needs to have `OpType.TK2` set as the native two-qubit gate. This is done using `QuantinuumBackendCompilationConfig` and specifying the compilation configuration when intializing `QuantinuumBackend`. By setting `target_2qb_gate`, local TKET compilation and submission for costing and processing to H-Series with `OpType.TK2` is enabled."
   ]
  },
  {
   "cell_type": "code",
   "execution_count": 8,
   "id": "779d01d8",
   "metadata": {},
   "outputs": [],
   "source": [
    "from pytket.extensions.quantinuum import QuantinuumBackend\n",
    "from pytket.extensions.quantinuum.backends.quantinuum import (\n",
    "    QuantinuumBackendCompilationConfig,\n",
    ")\n",
    "\n",
    "from pytket.circuit import OpType\n",
    "\n",
    "compilation_config = QuantinuumBackendCompilationConfig(\n",
    "    allow_implicit_swaps=True, target_2qb_gate=OpType.TK2\n",
    ")\n",
    "\n",
    "quantinuum_backend = QuantinuumBackend(\n",
    "    device_name=\"H1-1E\", compilation_config=compilation_config\n",
    ")\n",
    "quantinuum_backend.login()"
   ]
  },
  {
   "cell_type": "markdown",
   "id": "0629196a",
   "metadata": {},
   "source": [
    "We can check the target two-qubit gate."
   ]
  },
  {
   "cell_type": "code",
   "execution_count": 29,
   "id": "9c6eb047",
   "metadata": {},
   "outputs": [
    {
     "data": {
      "text/plain": [
       "<OpType.TK2: 41>"
      ]
     },
     "execution_count": 29,
     "metadata": {},
     "output_type": "execute_result"
    }
   ],
   "source": [
    "quantinuum_backend.compilation_config.target_2qb_gate"
   ]
  },
  {
   "cell_type": "markdown",
   "id": "4003f121",
   "metadata": {},
   "source": [
    "We can also look at the native gate set of the pytket backend."
   ]
  },
  {
   "cell_type": "code",
   "execution_count": 30,
   "id": "0b0e16b8",
   "metadata": {},
   "outputs": [
    {
     "data": {
      "text/plain": [
       "{<OpType.Barrier: 8>,\n",
       " <OpType.WASM: 14>,\n",
       " <OpType.SetBits: 15>,\n",
       " <OpType.CopyBits: 16>,\n",
       " <OpType.RangePredicate: 17>,\n",
       " <OpType.ExplicitPredicate: 18>,\n",
       " <OpType.ExplicitModifier: 19>,\n",
       " <OpType.MultiBit: 20>,\n",
       " <OpType.Rz: 36>,\n",
       " <OpType.TK2: 41>,\n",
       " <OpType.Measure: 63>,\n",
       " <OpType.Reset: 65>,\n",
       " <OpType.PhasedX: 68>,\n",
       " <OpType.ZZMax: 70>,\n",
       " <OpType.ZZPhase: 73>,\n",
       " <OpType.ClassicalExpBox: 103>}"
      ]
     },
     "execution_count": 30,
     "metadata": {},
     "output_type": "execute_result"
    }
   ],
   "source": [
    "quantinuum_backend.backend_info.gate_set"
   ]
  },
  {
   "cell_type": "code",
   "execution_count": 31,
   "id": "f23f8e6e",
   "metadata": {},
   "outputs": [
    {
     "name": "stdout",
     "output_type": "stream",
     "text": [
      "Number of SU(4) Gates: 4\n"
     ]
    },
    {
     "data": {
      "text/html": [
       "\n",
       "\n",
       "\n",
       "\n",
       "\n",
       "\n",
       "<div style=\"resize: vertical; overflow: auto; height: 400px; display: block\">\n",
       "    <iframe srcdoc=\"\n",
       "&lt;!DOCTYPE html&gt;\n",
       "&lt;html lang=&#34;en&#34;&gt;\n",
       "&lt;head&gt;\n",
       "    &lt;meta charset=&#34;UTF-8&#34;&gt;\n",
       "    &lt;!-- Download Vue 3--&gt;\n",
       "&lt;script type=&#34;application/javascript&#34; src=&#34;https://cdn.jsdelivr.net/npm/vue@3&#34;&gt;&lt;/script&gt;\n",
       "&lt;!-- Download Circuit Renderer with styles --&gt;\n",
       "&lt;script type=&#34;application/javascript&#34; src=&#34;https://unpkg.com/pytket-circuit-renderer@0.7/dist/pytket-circuit-renderer.umd.js&#34;&gt;&lt;/script&gt;\n",
       "&lt;link rel=&#34;stylesheet&#34; href=&#34;https://unpkg.com/pytket-circuit-renderer@0.7/dist/pytket-circuit-renderer.css&#34;&gt;\n",
       "&lt;/head&gt;\n",
       "&lt;body&gt;\n",
       "\n",
       "\n",
       "\n",
       "    &lt;div id=&#34;circuit-display-vue-container-18017945-9423-48c3-adfa-87029c635ba3&#34; class=&#34;pytket-circuit-display-container&#34;&gt;\n",
       "        &lt;div style=&#34;display: none&#34;&gt;\n",
       "            &lt;div id=&#34;circuit-json-to-display&#34;&gt;{&#34;bits&#34;: [[&#34;c&#34;, [0]], [&#34;c&#34;, [1]], [&#34;c&#34;, [2]], [&#34;c&#34;, [3]]], &#34;commands&#34;: [{&#34;args&#34;: [[&#34;q&#34;, [0]]], &#34;op&#34;: {&#34;params&#34;: [&#34;-0.377888016112038&#34;, &#34;0.917940250952281&#34;], &#34;type&#34;: &#34;PhasedX&#34;}}, {&#34;args&#34;: [[&#34;q&#34;, [1]]], &#34;op&#34;: {&#34;params&#34;: [&#34;-0.344841208639593&#34;, &#34;1.62151981852234&#34;], &#34;type&#34;: &#34;PhasedX&#34;}}, {&#34;args&#34;: [[&#34;q&#34;, [2]]], &#34;op&#34;: {&#34;params&#34;: [&#34;-0.632500828112102&#34;, &#34;0.304113629679578&#34;], &#34;type&#34;: &#34;PhasedX&#34;}}, {&#34;args&#34;: [[&#34;q&#34;, [3]]], &#34;op&#34;: {&#34;params&#34;: [&#34;-0.246630286986588&#34;, &#34;1.09390016237712&#34;], &#34;type&#34;: &#34;PhasedX&#34;}}, {&#34;args&#34;: [[&#34;q&#34;, [0]]], &#34;op&#34;: {&#34;params&#34;: [&#34;-1.51930844174411&#34;], &#34;type&#34;: &#34;Rz&#34;}}, {&#34;args&#34;: [[&#34;q&#34;, [1]]], &#34;op&#34;: {&#34;params&#34;: [&#34;-1.38587968363382&#34;], &#34;type&#34;: &#34;Rz&#34;}}, {&#34;args&#34;: [[&#34;q&#34;, [2]]], &#34;op&#34;: {&#34;params&#34;: [&#34;0.547311772581843&#34;], &#34;type&#34;: &#34;Rz&#34;}}, {&#34;args&#34;: [[&#34;q&#34;, [3]]], &#34;op&#34;: {&#34;params&#34;: [&#34;-1.50226425930678&#34;], &#34;type&#34;: &#34;Rz&#34;}}, {&#34;args&#34;: [[&#34;q&#34;, [0]], [&#34;q&#34;, [3]]], &#34;op&#34;: {&#34;params&#34;: [&#34;0.358087723269838&#34;, &#34;0.262536870704936&#34;, &#34;-0.104133399242445&#34;], &#34;type&#34;: &#34;TK2&#34;}}, {&#34;args&#34;: [[&#34;q&#34;, [2]], [&#34;q&#34;, [1]]], &#34;op&#34;: {&#34;params&#34;: [&#34;0.405162617631603&#34;, &#34;0.251989308638375&#34;, &#34;0.135208581156674&#34;], &#34;type&#34;: &#34;TK2&#34;}}, {&#34;args&#34;: [[&#34;q&#34;, [0]]], &#34;op&#34;: {&#34;params&#34;: [&#34;-0.466640943075252&#34;, &#34;-0.256919956674772&#34;], &#34;type&#34;: &#34;PhasedX&#34;}}, {&#34;args&#34;: [[&#34;q&#34;, [1]]], &#34;op&#34;: {&#34;params&#34;: [&#34;-0.360450924906247&#34;, &#34;-0.860213780077287&#34;], &#34;type&#34;: &#34;PhasedX&#34;}}, {&#34;args&#34;: [[&#34;q&#34;, [2]]], &#34;op&#34;: {&#34;params&#34;: [&#34;-0.447840997383636&#34;, &#34;-0.774304288550311&#34;], &#34;type&#34;: &#34;PhasedX&#34;}}, {&#34;args&#34;: [[&#34;q&#34;, [3]]], &#34;op&#34;: {&#34;params&#34;: [&#34;-0.689486297809084&#34;, &#34;-1.4411833722129&#34;], &#34;type&#34;: &#34;PhasedX&#34;}}, {&#34;args&#34;: [[&#34;q&#34;, [0]]], &#34;op&#34;: {&#34;params&#34;: [&#34;1.39138828238294&#34;], &#34;type&#34;: &#34;Rz&#34;}}, {&#34;args&#34;: [[&#34;q&#34;, [1]]], &#34;op&#34;: {&#34;params&#34;: [&#34;0.804717867367182&#34;], &#34;type&#34;: &#34;Rz&#34;}}, {&#34;args&#34;: [[&#34;q&#34;, [2]]], &#34;op&#34;: {&#34;params&#34;: [&#34;-0.140362679517724&#34;], &#34;type&#34;: &#34;Rz&#34;}}, {&#34;args&#34;: [[&#34;q&#34;, [3]]], &#34;op&#34;: {&#34;params&#34;: [&#34;0.393546036140068&#34;], &#34;type&#34;: &#34;Rz&#34;}}, {&#34;args&#34;: [[&#34;q&#34;, [0]], [&#34;q&#34;, [1]]], &#34;op&#34;: {&#34;params&#34;: [&#34;0.467006507748047&#34;, &#34;0.263224099345594&#34;, &#34;-0.236681474224794&#34;], &#34;type&#34;: &#34;TK2&#34;}}, {&#34;args&#34;: [[&#34;q&#34;, [2]], [&#34;q&#34;, [3]]], &#34;op&#34;: {&#34;params&#34;: [&#34;0.41822320459062&#34;, &#34;0.229630342710438&#34;, &#34;-0.115517563595899&#34;], &#34;type&#34;: &#34;TK2&#34;}}, {&#34;args&#34;: [[&#34;q&#34;, [0]]], &#34;op&#34;: {&#34;params&#34;: [&#34;-0.0459229502412924&#34;, &#34;-0.609669129267034&#34;], &#34;type&#34;: &#34;PhasedX&#34;}}, {&#34;args&#34;: [[&#34;q&#34;, [1]]], &#34;op&#34;: {&#34;params&#34;: [&#34;-0.635018964634981&#34;, &#34;-1.19171644742615&#34;], &#34;type&#34;: &#34;PhasedX&#34;}}, {&#34;args&#34;: [[&#34;q&#34;, [2]]], &#34;op&#34;: {&#34;params&#34;: [&#34;-0.696908915669296&#34;, &#34;-0.191420838193947&#34;], &#34;type&#34;: &#34;PhasedX&#34;}}, {&#34;args&#34;: [[&#34;q&#34;, [3]]], &#34;op&#34;: {&#34;params&#34;: [&#34;-0.350759903912001&#34;, &#34;-1.38947423958808&#34;], &#34;type&#34;: &#34;PhasedX&#34;}}, {&#34;args&#34;: [[&#34;q&#34;, [0]], [&#34;c&#34;, [0]]], &#34;op&#34;: {&#34;type&#34;: &#34;Measure&#34;}}, {&#34;args&#34;: [[&#34;q&#34;, [1]], [&#34;c&#34;, [1]]], &#34;op&#34;: {&#34;type&#34;: &#34;Measure&#34;}}, {&#34;args&#34;: [[&#34;q&#34;, [2]], [&#34;c&#34;, [2]]], &#34;op&#34;: {&#34;type&#34;: &#34;Measure&#34;}}, {&#34;args&#34;: [[&#34;q&#34;, [3]], [&#34;c&#34;, [3]]], &#34;op&#34;: {&#34;type&#34;: &#34;Measure&#34;}}], &#34;created_qubits&#34;: [], &#34;discarded_qubits&#34;: [], &#34;implicit_permutation&#34;: [[[&#34;q&#34;, [0]], [&#34;q&#34;, [0]]], [[&#34;q&#34;, [1]], [&#34;q&#34;, [1]]], [[&#34;q&#34;, [2]], [&#34;q&#34;, [2]]], [[&#34;q&#34;, [3]], [&#34;q&#34;, [3]]]], &#34;name&#34;: &#34;QV Example with SU(4)&#34;, &#34;phase&#34;: &#34;0.5&#34;, &#34;qubits&#34;: [[&#34;q&#34;, [0]], [&#34;q&#34;, [1]], [&#34;q&#34;, [2]], [&#34;q&#34;, [3]]]}&lt;/div&gt;\n",
       "        &lt;/div&gt;\n",
       "        &lt;circuit-display-container\n",
       "                :circuit-element-str=&#34;&#39;#circuit-json-to-display&#39;&#34;\n",
       "                :init-render-options=&#34;initRenderOptions&#34;\n",
       "        &gt;&lt;/circuit-display-container&gt;\n",
       "    &lt;/div&gt;\n",
       "    &lt;script type=&#34;application/javascript&#34;&gt;\n",
       "      const circuitRendererUid = &#34;18017945-9423-48c3-adfa-87029c635ba3&#34;;\n",
       "      const displayOptions = JSON.parse(&#39;{}&#39;);\n",
       "\n",
       "      // Script to initialise the circuit renderer app\n",
       "\n",
       "const { createApp } = Vue;\n",
       "const circuitDisplayContainer = window[&#34;pytket-circuit-renderer&#34;].default;\n",
       "// Init variables to be shared between circuit display instances\n",
       "if (typeof window.pytketCircuitDisplays === &#34;undefined&#34;) {\n",
       "    window.pytketCircuitDisplays = {};\n",
       "}\n",
       "// Create the root Vue component\n",
       "const app = createApp({\n",
       "    delimiters: [&#39;[[#&#39;, &#39;#]]&#39;],\n",
       "    components: { circuitDisplayContainer },\n",
       "    data () {\n",
       "      return {\n",
       "        initRenderOptions: displayOptions,\n",
       "      }\n",
       "    }\n",
       "})\n",
       "app.config.unwrapInjectedRef = true;\n",
       "app.mount(&#34;#circuit-display-vue-container-&#34;+circuitRendererUid);\n",
       "window.pytketCircuitDisplays[circuitRendererUid] = app;\n",
       "    &lt;/script&gt;\n",
       "\n",
       "\n",
       "\n",
       "&lt;/body&gt;\n",
       "&lt;/html&gt;\n",
       "\"\n",
       "            width=\"100%\" height=\"100%\"\n",
       "            style=\"border: none; outline: none; overflow: auto\"></iframe>\n",
       "</div>\n",
       "\n"
      ],
      "text/plain": [
       "<IPython.core.display.HTML object>"
      ]
     },
     "metadata": {},
     "output_type": "display_data"
    }
   ],
   "source": [
    "qv_circuit_wSU4 = quantinuum_backend.get_compiled_circuit(circuit, optimisation_level=2)\n",
    "qv_circuit_wSU4.name = \"QV Example with SU(4)\"\n",
    "print(f\"Number of SU(4) Gates: {qv_circuit_wSU4.n_2qb_gates()}\")\n",
    "render_circuit_jupyter(qv_circuit_wSU4)"
   ]
  },
  {
   "cell_type": "code",
   "execution_count": 32,
   "id": "7530676f",
   "metadata": {},
   "outputs": [
    {
     "name": "stdout",
     "output_type": "stream",
     "text": [
      "SU(4) circuit cost: 6.84 HQC\n"
     ]
    }
   ],
   "source": [
    "cost = quantinuum_backend.cost(qv_circuit_wSU4, n_shots=100, syntax_checker=\"H1-1SC\")\n",
    "print(f\"SU(4) circuit cost: {cost} HQC\")"
   ]
  },
  {
   "cell_type": "code",
   "execution_count": 33,
   "id": "47a4bedb",
   "metadata": {},
   "outputs": [],
   "source": [
    "handle = quantinuum_backend.process_circuit(qv_circuit_wSU4, n_shots=100)"
   ]
  },
  {
   "cell_type": "code",
   "execution_count": 34,
   "id": "eb91761a",
   "metadata": {},
   "outputs": [
    {
     "name": "stdout",
     "output_type": "stream",
     "text": [
      "{(0, 0, 0, 0): 0.09, (0, 0, 0, 1): 0.03, (0, 0, 1, 0): 0.07, (0, 0, 1, 1): 0.06, (0, 1, 0, 0): 0.1, (0, 1, 0, 1): 0.02, (0, 1, 1, 0): 0.04, (0, 1, 1, 1): 0.03, (1, 0, 0, 0): 0.33, (1, 0, 1, 0): 0.02, (1, 0, 1, 1): 0.07, (1, 1, 0, 0): 0.06, (1, 1, 1, 0): 0.06, (1, 1, 1, 1): 0.02}\n"
     ]
    }
   ],
   "source": [
    "result = quantinuum_backend.get_result(handle)\n",
    "print(result.get_distribution())"
   ]
  },
  {
   "cell_type": "markdown",
   "id": "495dd170",
   "metadata": {},
   "source": [
    "#### Arbitrary Angle ZZ Gate"
   ]
  },
  {
   "cell_type": "markdown",
   "id": "5369eeb6",
   "metadata": {},
   "source": [
    "The default native two-qubit gate can also be changed using [`set_compilation_config_target_2qb_gate`](https://docs.quantinuum.com/tket/extensions/pytket-quantinuum/api.html#pytket.extensions.quantinuum.QuantinuumBackend.set_compilation_config_target_2qb_gate). In the example below, we change to using a different native two-qubit gate, `OpType.ZZPhase` and display the compiled circuit after TKET compilation."
   ]
  },
  {
   "cell_type": "code",
   "execution_count": 36,
   "id": "87a818be",
   "metadata": {},
   "outputs": [],
   "source": [
    "quantinuum_backend.set_compilation_config_target_2qb_gate(OpType.ZZPhase)"
   ]
  },
  {
   "cell_type": "code",
   "execution_count": 37,
   "id": "f9f39b9a",
   "metadata": {},
   "outputs": [
    {
     "name": "stdout",
     "output_type": "stream",
     "text": [
      "Number of ZZPhase Gates: 12\n"
     ]
    },
    {
     "data": {
      "text/html": [
       "\n",
       "\n",
       "\n",
       "\n",
       "\n",
       "\n",
       "<div style=\"resize: vertical; overflow: auto; height: 400px; display: block\">\n",
       "    <iframe srcdoc=\"\n",
       "&lt;!DOCTYPE html&gt;\n",
       "&lt;html lang=&#34;en&#34;&gt;\n",
       "&lt;head&gt;\n",
       "    &lt;meta charset=&#34;UTF-8&#34;&gt;\n",
       "    &lt;!-- Download Vue 3--&gt;\n",
       "&lt;script type=&#34;application/javascript&#34; src=&#34;https://cdn.jsdelivr.net/npm/vue@3&#34;&gt;&lt;/script&gt;\n",
       "&lt;!-- Download Circuit Renderer with styles --&gt;\n",
       "&lt;script type=&#34;application/javascript&#34; src=&#34;https://unpkg.com/pytket-circuit-renderer@0.7/dist/pytket-circuit-renderer.umd.js&#34;&gt;&lt;/script&gt;\n",
       "&lt;link rel=&#34;stylesheet&#34; href=&#34;https://unpkg.com/pytket-circuit-renderer@0.7/dist/pytket-circuit-renderer.css&#34;&gt;\n",
       "&lt;/head&gt;\n",
       "&lt;body&gt;\n",
       "\n",
       "\n",
       "\n",
       "    &lt;div id=&#34;circuit-display-vue-container-8be7be6f-9b5e-4300-8e97-211863ae5e48&#34; class=&#34;pytket-circuit-display-container&#34;&gt;\n",
       "        &lt;div style=&#34;display: none&#34;&gt;\n",
       "            &lt;div id=&#34;circuit-json-to-display&#34;&gt;{&#34;bits&#34;: [[&#34;c&#34;, [0]], [&#34;c&#34;, [1]], [&#34;c&#34;, [2]], [&#34;c&#34;, [3]]], &#34;commands&#34;: [{&#34;args&#34;: [[&#34;q&#34;, [0]]], &#34;op&#34;: {&#34;params&#34;: [&#34;0.157080910963899&#34;, &#34;1.14779732250213&#34;], &#34;type&#34;: &#34;PhasedX&#34;}}, {&#34;args&#34;: [[&#34;q&#34;, [1]]], &#34;op&#34;: {&#34;params&#34;: [&#34;0.703220850240707&#34;, &#34;0.992816824851869&#34;], &#34;type&#34;: &#34;PhasedX&#34;}}, {&#34;args&#34;: [[&#34;q&#34;, [2]]], &#34;op&#34;: {&#34;params&#34;: [&#34;0.635019116760094&#34;, &#34;0.740134061359944&#34;], &#34;type&#34;: &#34;PhasedX&#34;}}, {&#34;args&#34;: [[&#34;q&#34;, [3]]], &#34;op&#34;: {&#34;params&#34;: [&#34;0.265954361175646&#34;, &#34;0.968850364225446&#34;], &#34;type&#34;: &#34;PhasedX&#34;}}, {&#34;args&#34;: [[&#34;q&#34;, [0]], [&#34;q&#34;, [3]]], &#34;op&#34;: {&#34;params&#34;: [&#34;0.358087723269838&#34;], &#34;type&#34;: &#34;ZZPhase&#34;}}, {&#34;args&#34;: [[&#34;q&#34;, [2]], [&#34;q&#34;, [1]]], &#34;op&#34;: {&#34;params&#34;: [&#34;0.405162617631603&#34;], &#34;type&#34;: &#34;ZZPhase&#34;}}, {&#34;args&#34;: [[&#34;q&#34;, [0]]], &#34;op&#34;: {&#34;params&#34;: [&#34;0.5&#34;, &#34;0.43778765712581&#34;], &#34;type&#34;: &#34;PhasedX&#34;}}, {&#34;args&#34;: [[&#34;q&#34;, [1]]], &#34;op&#34;: {&#34;params&#34;: [&#34;0.5&#34;, &#34;0.794595435698057&#34;], &#34;type&#34;: &#34;PhasedX&#34;}}, {&#34;args&#34;: [[&#34;q&#34;, [2]]], &#34;op&#34;: {&#34;params&#34;: [&#34;0.5&#34;, &#34;1.59381238505668&#34;], &#34;type&#34;: &#34;PhasedX&#34;}}, {&#34;args&#34;: [[&#34;q&#34;, [3]]], &#34;op&#34;: {&#34;params&#34;: [&#34;0.5&#34;, &#34;0.555153427249195&#34;], &#34;type&#34;: &#34;PhasedX&#34;}}, {&#34;args&#34;: [[&#34;q&#34;, [0]], [&#34;q&#34;, [3]]], &#34;op&#34;: {&#34;params&#34;: [&#34;0.262536870704936&#34;], &#34;type&#34;: &#34;ZZPhase&#34;}}, {&#34;args&#34;: [[&#34;q&#34;, [2]], [&#34;q&#34;, [1]]], &#34;op&#34;: {&#34;params&#34;: [&#34;0.251989308638375&#34;], &#34;type&#34;: &#34;ZZPhase&#34;}}, {&#34;args&#34;: [[&#34;q&#34;, [0]]], &#34;op&#34;: {&#34;params&#34;: [&#34;1/2&#34;, &#34;-0.0622123428741904&#34;], &#34;type&#34;: &#34;PhasedX&#34;}}, {&#34;args&#34;: [[&#34;q&#34;, [1]]], &#34;op&#34;: {&#34;params&#34;: [&#34;1/2&#34;, &#34;0.294595435698057&#34;], &#34;type&#34;: &#34;PhasedX&#34;}}, {&#34;args&#34;: [[&#34;q&#34;, [2]]], &#34;op&#34;: {&#34;params&#34;: [&#34;1/2&#34;, &#34;1.09381238505668&#34;], &#34;type&#34;: &#34;PhasedX&#34;}}, {&#34;args&#34;: [[&#34;q&#34;, [3]]], &#34;op&#34;: {&#34;params&#34;: [&#34;1/2&#34;, &#34;0.0551534272491954&#34;], &#34;type&#34;: &#34;PhasedX&#34;}}, {&#34;args&#34;: [[&#34;q&#34;, [0]], [&#34;q&#34;, [3]]], &#34;op&#34;: {&#34;params&#34;: [&#34;-0.104133399242445&#34;], &#34;type&#34;: &#34;ZZPhase&#34;}}, {&#34;args&#34;: [[&#34;q&#34;, [2]], [&#34;q&#34;, [1]]], &#34;op&#34;: {&#34;params&#34;: [&#34;0.135208581156674&#34;], &#34;type&#34;: &#34;ZZPhase&#34;}}, {&#34;args&#34;: [[&#34;q&#34;, [0]]], &#34;op&#34;: {&#34;params&#34;: [&#34;0.366316272319941&#34;, &#34;-1.83408901139133&#34;], &#34;type&#34;: &#34;PhasedX&#34;}}, {&#34;args&#34;: [[&#34;q&#34;, [1]]], &#34;op&#34;: {&#34;params&#34;: [&#34;0.449798693243837&#34;, &#34;-1.04186306341419&#34;], &#34;type&#34;: &#34;PhasedX&#34;}}, {&#34;args&#34;: [[&#34;q&#34;, [2]]], &#34;op&#34;: {&#34;params&#34;: [&#34;0.415837645244314&#34;, &#34;0.805253904262434&#34;], &#34;type&#34;: &#34;PhasedX&#34;}}, {&#34;args&#34;: [[&#34;q&#34;, [3]]], &#34;op&#34;: {&#34;params&#34;: [&#34;0.539396510524537&#34;, &#34;-0.912879849422772&#34;], &#34;type&#34;: &#34;PhasedX&#34;}}, {&#34;args&#34;: [[&#34;q&#34;, [0]], [&#34;q&#34;, [1]]], &#34;op&#34;: {&#34;params&#34;: [&#34;0.467006507748047&#34;], &#34;type&#34;: &#34;ZZPhase&#34;}}, {&#34;args&#34;: [[&#34;q&#34;, [2]], [&#34;q&#34;, [3]]], &#34;op&#34;: {&#34;params&#34;: [&#34;0.41822320459062&#34;], &#34;type&#34;: &#34;ZZPhase&#34;}}, {&#34;args&#34;: [[&#34;q&#34;, [0]]], &#34;op&#34;: {&#34;params&#34;: [&#34;0.5&#34;, &#34;-2.79754164215579&#34;], &#34;type&#34;: &#34;PhasedX&#34;}}, {&#34;args&#34;: [[&#34;q&#34;, [1]]], &#34;op&#34;: {&#34;params&#34;: [&#34;0.5&#34;, &#34;-1.1832901443574&#34;], &#34;type&#34;: &#34;PhasedX&#34;}}, {&#34;args&#34;: [[&#34;q&#34;, [2]]], &#34;op&#34;: {&#34;params&#34;: [&#34;0.5&#34;, &#34;-0.140691294772473&#34;], &#34;type&#34;: &#34;PhasedX&#34;}}, {&#34;args&#34;: [[&#34;q&#34;, [3]]], &#34;op&#34;: {&#34;params&#34;: [&#34;0.5&#34;, &#34;-2.1040308315628&#34;], &#34;type&#34;: &#34;PhasedX&#34;}}, {&#34;args&#34;: [[&#34;q&#34;, [0]], [&#34;q&#34;, [1]]], &#34;op&#34;: {&#34;params&#34;: [&#34;0.263224099345594&#34;], &#34;type&#34;: &#34;ZZPhase&#34;}}, {&#34;args&#34;: [[&#34;q&#34;, [2]], [&#34;q&#34;, [3]]], &#34;op&#34;: {&#34;params&#34;: [&#34;0.229630342710438&#34;], &#34;type&#34;: &#34;ZZPhase&#34;}}, {&#34;args&#34;: [[&#34;q&#34;, [0]]], &#34;op&#34;: {&#34;params&#34;: [&#34;1/2&#34;, &#34;-3.29754164215579&#34;], &#34;type&#34;: &#34;PhasedX&#34;}}, {&#34;args&#34;: [[&#34;q&#34;, [1]]], &#34;op&#34;: {&#34;params&#34;: [&#34;1/2&#34;, &#34;-1.6832901443574&#34;], &#34;type&#34;: &#34;PhasedX&#34;}}, {&#34;args&#34;: [[&#34;q&#34;, [2]]], &#34;op&#34;: {&#34;params&#34;: [&#34;1/2&#34;, &#34;-0.640691294772473&#34;], &#34;type&#34;: &#34;PhasedX&#34;}}, {&#34;args&#34;: [[&#34;q&#34;, [3]]], &#34;op&#34;: {&#34;params&#34;: [&#34;1/2&#34;, &#34;-2.6040308315628&#34;], &#34;type&#34;: &#34;PhasedX&#34;}}, {&#34;args&#34;: [[&#34;q&#34;, [0]], [&#34;q&#34;, [1]]], &#34;op&#34;: {&#34;params&#34;: [&#34;-0.236681474224794&#34;], &#34;type&#34;: &#34;ZZPhase&#34;}}, {&#34;args&#34;: [[&#34;q&#34;, [2]], [&#34;q&#34;, [3]]], &#34;op&#34;: {&#34;params&#34;: [&#34;-0.115517563595899&#34;], &#34;type&#34;: &#34;ZZPhase&#34;}}, {&#34;args&#34;: [[&#34;q&#34;, [0]]], &#34;op&#34;: {&#34;params&#34;: [&#34;-0.0459229502412924&#34;, &#34;-3.90721077142283&#34;], &#34;type&#34;: &#34;PhasedX&#34;}}, {&#34;args&#34;: [[&#34;q&#34;, [1]]], &#34;op&#34;: {&#34;params&#34;: [&#34;-0.635018964634981&#34;, &#34;-2.87500659178354&#34;], &#34;type&#34;: &#34;PhasedX&#34;}}, {&#34;args&#34;: [[&#34;q&#34;, [2]]], &#34;op&#34;: {&#34;params&#34;: [&#34;-0.696908915669296&#34;, &#34;-0.83211213296642&#34;], &#34;type&#34;: &#34;PhasedX&#34;}}, {&#34;args&#34;: [[&#34;q&#34;, [3]]], &#34;op&#34;: {&#34;params&#34;: [&#34;-0.350759903912001&#34;, &#34;-3.99350507115087&#34;], &#34;type&#34;: &#34;PhasedX&#34;}}, {&#34;args&#34;: [[&#34;q&#34;, [0]], [&#34;c&#34;, [0]]], &#34;op&#34;: {&#34;type&#34;: &#34;Measure&#34;}}, {&#34;args&#34;: [[&#34;q&#34;, [1]], [&#34;c&#34;, [1]]], &#34;op&#34;: {&#34;type&#34;: &#34;Measure&#34;}}, {&#34;args&#34;: [[&#34;q&#34;, [2]], [&#34;c&#34;, [2]]], &#34;op&#34;: {&#34;type&#34;: &#34;Measure&#34;}}, {&#34;args&#34;: [[&#34;q&#34;, [3]], [&#34;c&#34;, [3]]], &#34;op&#34;: {&#34;type&#34;: &#34;Measure&#34;}}], &#34;created_qubits&#34;: [], &#34;discarded_qubits&#34;: [], &#34;implicit_permutation&#34;: [[[&#34;q&#34;, [0]], [&#34;q&#34;, [0]]], [[&#34;q&#34;, [1]], [&#34;q&#34;, [1]]], [[&#34;q&#34;, [2]], [&#34;q&#34;, [2]]], [[&#34;q&#34;, [3]], [&#34;q&#34;, [3]]]], &#34;name&#34;: &#34;QV Example without SU(4)&#34;, &#34;phase&#34;: &#34;0.5&#34;, &#34;qubits&#34;: [[&#34;q&#34;, [0]], [&#34;q&#34;, [1]], [&#34;q&#34;, [2]], [&#34;q&#34;, [3]]]}&lt;/div&gt;\n",
       "        &lt;/div&gt;\n",
       "        &lt;circuit-display-container\n",
       "                :circuit-element-str=&#34;&#39;#circuit-json-to-display&#39;&#34;\n",
       "                :init-render-options=&#34;initRenderOptions&#34;\n",
       "        &gt;&lt;/circuit-display-container&gt;\n",
       "    &lt;/div&gt;\n",
       "    &lt;script type=&#34;application/javascript&#34;&gt;\n",
       "      const circuitRendererUid = &#34;8be7be6f-9b5e-4300-8e97-211863ae5e48&#34;;\n",
       "      const displayOptions = JSON.parse(&#39;{}&#39;);\n",
       "\n",
       "      // Script to initialise the circuit renderer app\n",
       "\n",
       "const { createApp } = Vue;\n",
       "const circuitDisplayContainer = window[&#34;pytket-circuit-renderer&#34;].default;\n",
       "// Init variables to be shared between circuit display instances\n",
       "if (typeof window.pytketCircuitDisplays === &#34;undefined&#34;) {\n",
       "    window.pytketCircuitDisplays = {};\n",
       "}\n",
       "// Create the root Vue component\n",
       "const app = createApp({\n",
       "    delimiters: [&#39;[[#&#39;, &#39;#]]&#39;],\n",
       "    components: { circuitDisplayContainer },\n",
       "    data () {\n",
       "      return {\n",
       "        initRenderOptions: displayOptions,\n",
       "      }\n",
       "    }\n",
       "})\n",
       "app.config.unwrapInjectedRef = true;\n",
       "app.mount(&#34;#circuit-display-vue-container-&#34;+circuitRendererUid);\n",
       "window.pytketCircuitDisplays[circuitRendererUid] = app;\n",
       "    &lt;/script&gt;\n",
       "\n",
       "\n",
       "\n",
       "&lt;/body&gt;\n",
       "&lt;/html&gt;\n",
       "\"\n",
       "            width=\"100%\" height=\"100%\"\n",
       "            style=\"border: none; outline: none; overflow: auto\"></iframe>\n",
       "</div>\n",
       "\n"
      ],
      "text/plain": [
       "<IPython.core.display.HTML object>"
      ]
     },
     "metadata": {},
     "output_type": "display_data"
    }
   ],
   "source": [
    "qv_circuit_no_SU4 = quantinuum_backend.get_compiled_circuit(\n",
    "    circuit, optimisation_level=2\n",
    ")\n",
    "qv_circuit_no_SU4.name = \"QV Example without SU(4)\"\n",
    "\n",
    "print(f\"Number of ZZPhase Gates: {qv_circuit_no_SU4.n_2qb_gates()}\")\n",
    "render_circuit_jupyter(qv_circuit_no_SU4)"
   ]
  },
  {
   "cell_type": "code",
   "execution_count": 38,
   "id": "e10f8f2b",
   "metadata": {},
   "outputs": [
    {
     "name": "stdout",
     "output_type": "stream",
     "text": [
      "{(0, 0, 0, 0): 0.17, (0, 0, 0, 1): 0.01, (0, 0, 1, 0): 0.04, (0, 0, 1, 1): 0.04, (0, 1, 0, 0): 0.09, (0, 1, 0, 1): 0.04, (0, 1, 1, 0): 0.04, (0, 1, 1, 1): 0.04, (1, 0, 0, 0): 0.31, (1, 0, 0, 1): 0.02, (1, 0, 1, 1): 0.08, (1, 1, 0, 0): 0.03, (1, 1, 0, 1): 0.03, (1, 1, 1, 0): 0.06}\n"
     ]
    }
   ],
   "source": [
    "result = quantinuum_backend.run_circuit(qv_circuit_no_SU4, n_shots=100)\n",
    "print(result.get_distribution())"
   ]
  },
  {
   "cell_type": "markdown",
   "id": "b2ada63e",
   "metadata": {},
   "source": [
    "### Summary"
   ]
  },
  {
   "cell_type": "markdown",
   "id": "d4e01af7",
   "metadata": {},
   "source": [
    "`pytket-quantinuum` enables you to change the default native two-qubit gate for H-Series devices and emulators.\n",
    "\n",
    "The Quantum Volume Test is one use case where the $SU(4)$ gate can be employed. The `QuantinuumBackend` can be used to compile circuits to a gatset that uses the $SU(4)$ gate as well as to submit those circuits for processing and costing."
   ]
  },
  {
   "cell_type": "markdown",
   "id": "ee98b381",
   "metadata": {},
   "source": [
    "<div align=\"center\"> &copy; 2024 by Quantinuum. All Rights Reserved. </div>"
   ]
  }
 ],
 "metadata": {
  "kernelspec": {
   "display_name": "Python 3 (ipykernel)",
   "language": "python",
   "name": "python3"
  },
  "language_info": {
   "codemirror_mode": {
    "name": "ipython",
    "version": 3
   },
   "file_extension": ".py",
   "mimetype": "text/x-python",
   "name": "python",
   "nbconvert_exporter": "python",
   "pygments_lexer": "ipython3",
   "version": "3.12.2"
  },
  "nbTranslate": {
   "displayLangs": [
    "*"
   ],
   "hotkey": "alt-t",
   "langInMainMenu": true,
   "sourceLang": "en",
   "targetLang": "fr",
   "useGoogleTranslate": true
  },
  "vscode": {
   "interpreter": {
    "hash": "6b9472b0f24fab47ade41b906e50eefbfaf5da6c3d6807a4d2286a29be937560"
   }
  }
 },
 "nbformat": 4,
 "nbformat_minor": 5
}
