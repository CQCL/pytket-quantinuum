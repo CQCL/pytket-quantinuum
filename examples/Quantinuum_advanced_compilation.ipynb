{
 "cells": [
  {
   "attachments": {},
   "cell_type": "markdown",
   "id": "d791c1ee",
   "metadata": {},
   "source": [
    "<div style=\"text-align: center;\">\n",
    "<img src=\"https://assets-global.website-files.com/62b9d45fb3f64842a96c9686/62d84db4aeb2f6552f3a2f78_Quantinuum%20Logo__horizontal%20blue.svg\" width=\"200\" height=\"200\" /></div>"
   ]
  },
  {
   "attachments": {},
   "cell_type": "markdown",
   "id": "7cc7cc2c-704f-4560-81b4-98b4564abf8d",
   "metadata": {},
   "source": [
    "# Advanced Compilation Options with H-Series\n",
    "\n",
    "* [H-Series Hardware Compilation](#H-Series-Hardware-Compilation)\n",
    "  * [Comnp.np.piling to H-Series Hardware Native Gates](#Comnp.piling-to-H-Series-Hardware-Native-Gates)\n",
    "  * [The General SU(4) Entangler Gate](#The-General-SU(4)-Entangler-Gate)\n",
    "  * [Controlling H-Series Hardware Compiler Optimizations](#Controlling-H-Series-Hardware-Compiler-Optimizations)\n",
    "    * [Circuits written in any gate set](#Circuits-written-in-any-gate-set)\n",
    "    * [Circuits written in the hardware's native gate set](#Circuits-written-in-the-hardware's-native-gate-set)\n",
    "* [Examples](#Examples)\n",
    "    * [1. Benchmarking Circuit in non-native gate set](#1.-Benchmarking-Circuit-in-non-native-gate-set)\n",
    "    * [2. QFT Circuits in native gate set](#2.-QFT-Circuits-in-native-gate-set)\n",
    "    * [3. Circuit using $SU(4)$](#Circuit-using-$SU(4)$)"
   ]
  },
  {
   "attachments": {},
   "cell_type": "markdown",
   "id": "e0df2c73-4ed6-4958-9327-9c7009a497cf",
   "metadata": {},
   "source": [
    "## H-Series Hardware Compilation\n",
    "\n",
    "Native gates are gates on a quantum computer that the hardware physically executes. Different quantum computers may have different gates that are physically executed on the hardware. Writing a gate in a quantum circuit doesn't guarantee its physical execution on the device. For instance, on H-Series quantum computers, a Hadamard gate written in the circuit is not the actual gate executed. When users submit circuits using a Hadamard gate, the gate is translated into a $U1q$ gate followed by a $Rz$ gate, which the ion trap device physically executes. See the *System Model H1 Product Data Sheet* on the [System Model H1](https://www.quantinuum.com/hardware/h1) page or the *System Model H2 Product Data Sheet* on the [System Model H2](https://www.quantinuum.com/hardware/h2) page for a listing of the H-Series hardware native gates. \n",
    "\n",
    "The H-Series hardware compiler handles the translation from circuits users submit to the native gates run on hardware. In the H-Series Quantum Charge-Coupled Device (QCCD) architecture, the hardware compilation includes the assignment of which physical qubit corresponds to which qubit in a circuit as well as how qubits will be transported around the device. Since transport, as well as gating, incurs a small amount of error with each operation, the H-Series compiler aims to minimize the number of gates that need to be executed. \n",
    "\n",
    "<div style=\"text-align: center;\">\n",
    "         <img src=\"figureshseries-compilation-stac6.png\" width=\"400\" />\n",
    "</div>"
   ]
  },
  {
   "attachments": {},
   "cell_type": "markdown",
   "id": "ca352fad-d574-475a-a6ec-af3cd8fcc288",
   "metadata": {},
   "source": [
    "### Compiling to H-Series Hardware Native Gates\n",
    "\n",
    "On the Quantinuum H-Series devices, there are different native two-qubit gates available. The default native two-qubit gates include a fully entangling two-qubit gate, $ZZ()$, and an arbitrary angle ZZ gate, $Rzz(\\theta)$. Another native gate available on the hardware is the General $SU(4)$ Entangler gate.\n",
    "\n",
    "By default, the hardware compiler compiles to the $ZZ()$ or $Rzz(\\theta)$ gate. Currently, only one native gate can be specified at a time. This ensures everything aligns in the global operations of the circuit. \n",
    "\n",
    "If users would like to use the General $SU(4)$ Entangler gate and not have the circuit rebased to $ZZ()$ or $Rzz(\\theta)$ by the hardware compiler, they need to specify the $SU(4)$ gate using the `nativetq` option. The `nativetq` option is available to override the hardware stack's default two-qubit gate and use the supplied gate instead.\n",
    "\n",
    "* `nativetq`: override the stack's default native two-qubit gate and use the supplied gate as the gate instead\n",
    "  * `ZZ`: compile circuit to the $ZZ$ gate\n",
    "  * `RZZ`: compile circuit to the $Rzz(\\theta)$ gate, known as the `Optype.ZZPhase` gate within `pytket`.\n",
    "  * `Rxxyyzz`: compile circuit to the $SU(4)$ gate, known as `Optype.TK2` within `pytket`."
   ]
  },
  {
   "attachments": {},
   "cell_type": "markdown",
   "id": "115d526c",
   "metadata": {},
   "source": [
    "### The General $SU(4)$ Entangler Gate\n",
    "\n",
    "The General $SU(4)$ Entangler gate, or `Rxxyyzz`, is available in TKET as [`OpType.TK2`](https://tket.quantinuum.com/api-docs/circuit_class.html#pytket.circuit.Circuit.TK2). This gate is a combination of `OpType.XXPhase`, `OpType.YYPhase` and `OpType.ZZPhase`, and requires three angles as input, $\\alpha$, $\\beta$ and $\\gamma$. The definition of the gate is provided below:\n",
    "\n",
    "$$\\begin{equation} \\textrm{TK2}(\\alpha, \\beta, \\gamma) = e^{-\\frac{1}{2} i \\pi \\alpha (\\hat{X} \\bigotimes \\hat{X})} \\quad e^{-\\frac{1}{2} i \\pi \\beta (\\hat{Y} \\bigotimes \\hat{Y})} \\quad e^{-\\frac{1}{2} \\pi \\gamma (\\hat{Z} \\bigotimes \\hat{Z})} = e^{-\\frac{1}{2} i \\alpha (\\hat{X} \\bigotimes \\hat{X}) + \\beta (\\hat{Y} \\bigotimes \\hat{Y}) + \\gamma (\\hat{Z} \\bigotimes \\hat{Z})} \\end{equation} $$\n",
    "\n",
    "This gate can be used as follows within TKET."
   ]
  },
  {
   "cell_type": "code",
   "execution_count": 1,
   "id": "8314af95",
   "metadata": {},
   "outputs": [
    {
     "data": {
      "text/html": [
       "\n",
       "\n",
       "\n",
       "\n",
       "\n",
       "\n",
       "<div style=\"resize: vertical; overflow: auto; height: 400px; display: block\">\n",
       "    <iframe srcdoc=\"\n",
       "&lt;!DOCTYPE html&gt;\n",
       "&lt;html lang=&#34;en&#34;&gt;\n",
       "&lt;head&gt;\n",
       "    &lt;meta charset=&#34;UTF-8&#34;&gt;\n",
       "    &lt;!-- Download Vue 3--&gt;\n",
       "&lt;script type=&#34;application/javascript&#34; src=&#34;https://cdn.jsdelivr.net/npm/vue@3&#34;&gt;&lt;/script&gt;\n",
       "&lt;!-- Download Circuit Renderer with styles --&gt;\n",
       "&lt;script type=&#34;application/javascript&#34; src=&#34;https://unpkg.com/pytket-circuit-renderer@0.7/dist/pytket-circuit-renderer.umd.js&#34;&gt;&lt;/script&gt;\n",
       "&lt;link rel=&#34;stylesheet&#34; href=&#34;https://unpkg.com/pytket-circuit-renderer@0.7/dist/pytket-circuit-renderer.css&#34;&gt;\n",
       "&lt;/head&gt;\n",
       "&lt;body&gt;\n",
       "\n",
       "\n",
       "\n",
       "    &lt;div id=&#34;circuit-display-vue-container-4b96f44c-e144-4632-a2c5-24bca1b3ab08&#34; class=&#34;pytket-circuit-display-container&#34;&gt;\n",
       "        &lt;div style=&#34;display: none&#34;&gt;\n",
       "            &lt;div id=&#34;circuit-json-to-display&#34;&gt;{&#34;bits&#34;: [], &#34;commands&#34;: [{&#34;args&#34;: [[&#34;q&#34;, [0]], [&#34;q&#34;, [1]]], &#34;op&#34;: {&#34;params&#34;: [&#34;a&#34;, &#34;b&#34;, &#34;c&#34;], &#34;type&#34;: &#34;TK2&#34;}}], &#34;created_qubits&#34;: [], &#34;discarded_qubits&#34;: [], &#34;implicit_permutation&#34;: [[[&#34;q&#34;, [0]], [&#34;q&#34;, [0]]], [[&#34;q&#34;, [1]], [&#34;q&#34;, [1]]]], &#34;phase&#34;: &#34;0.0&#34;, &#34;qubits&#34;: [[&#34;q&#34;, [0]], [&#34;q&#34;, [1]]]}&lt;/div&gt;\n",
       "        &lt;/div&gt;\n",
       "        &lt;circuit-display-container\n",
       "                :circuit-element-str=&#34;&#39;#circuit-json-to-display&#39;&#34;\n",
       "                :init-render-options=&#34;initRenderOptions&#34;\n",
       "        &gt;&lt;/circuit-display-container&gt;\n",
       "    &lt;/div&gt;\n",
       "    &lt;script type=&#34;application/javascript&#34;&gt;\n",
       "      const circuitRendererUid = &#34;4b96f44c-e144-4632-a2c5-24bca1b3ab08&#34;;\n",
       "      const displayOptions = JSON.parse(&#39;{}&#39;);\n",
       "\n",
       "      // Script to initialise the circuit renderer app\n",
       "\n",
       "const { createApp } = Vue;\n",
       "const circuitDisplayContainer = window[&#34;pytket-circuit-renderer&#34;].default;\n",
       "// Init variables to be shared between circuit display instances\n",
       "if (typeof window.pytketCircuitDisplays === &#34;undefined&#34;) {\n",
       "    window.pytketCircuitDisplays = {};\n",
       "}\n",
       "// Create the root Vue component\n",
       "const app = createApp({\n",
       "    delimiters: [&#39;[[#&#39;, &#39;#]]&#39;],\n",
       "    components: { circuitDisplayContainer },\n",
       "    data () {\n",
       "      return {\n",
       "        initRenderOptions: displayOptions,\n",
       "      }\n",
       "    }\n",
       "})\n",
       "app.config.unwrapInjectedRef = true;\n",
       "app.mount(&#34;#circuit-display-vue-container-&#34;+circuitRendererUid);\n",
       "window.pytketCircuitDisplays[circuitRendererUid] = app;\n",
       "    &lt;/script&gt;\n",
       "\n",
       "\n",
       "\n",
       "&lt;/body&gt;\n",
       "&lt;/html&gt;\n",
       "\"\n",
       "            width=\"100%\" height=\"100%\"\n",
       "            style=\"border: none; outline: none; overflow: auto\"></iframe>\n",
       "</div>\n",
       "\n"
      ],
      "text/plain": [
       "<IPython.core.display.HTML object>"
      ]
     },
     "metadata": {},
     "output_type": "display_data"
    }
   ],
   "source": [
    "from pytket.circuit.display import render_circuit_jupyter\n",
    "from pytket.circuit import Circuit\n",
    "from sympy import Symbol\n",
    "\n",
    "symbols = [Symbol(\"a\"), Symbol(\"b\"), Symbol(\"c\")]\n",
    "circuit = Circuit(2)\n",
    "circuit.TK2(*symbols, *circuit.qubits)\n",
    "render_circuit_jupyter(circuit)"
   ]
  },
  {
   "attachments": {},
   "cell_type": "markdown",
   "id": "ad806573",
   "metadata": {},
   "source": [
    "This circuit can be converted to a QASM string using the [`circuit_to_qasm_str`](https://tket.quantinuum.com/api-docs/qasm.html#pytket.qasm.circuit_to_qasm_str) function and by specifying the Quantinuum header `hqslib1`."
   ]
  },
  {
   "cell_type": "code",
   "execution_count": 2,
   "id": "644ff6a4",
   "metadata": {},
   "outputs": [
    {
     "name": "stdout",
     "output_type": "stream",
     "text": [
      "OPENQASM 2.0;\n",
      "include \"hqslib1.inc\";\n",
      "\n",
      "qreg q[2];\n",
      "Rxxyyzz((a)*pi,(b)*pi,(c)*pi) q[0],q[1];\n",
      "\n"
     ]
    }
   ],
   "source": [
    "from pytket.qasm.qasm import circuit_to_qasm_str\n",
    "\n",
    "print(circuit_to_qasm_str(circuit, header=\"hqslib1\"))"
   ]
  },
  {
   "attachments": {},
   "cell_type": "markdown",
   "id": "e84f63cb-dcc8-4b60-9039-cb9ad343e039",
   "metadata": {},
   "source": [
    "### Controlling H-Series Hardware Compiler Optimizations\n",
    "\n",
    "Users have the option of submitting circuits using whichever quantum gate set they desire. Users do not need to think about which physical gates will be executed or how physical qubits will move around the device since the hardware compiler manages this. In certain cases, however, users may want to know that the circuit they submit is going to be run on the device exactly as they write it. For example, when running benchmarking circuits users may want circuits to be executed exactly as specified in the circuit even if its not the most optimal in total number of two-qubit gates. \n",
    "\n",
    "Within the Quantinuum stack, the ability to control levels of TKET optimizations and control over what is executed on the hardware is provided between 4 different job submission parameters in the API.\n",
    "\n",
    "There are two ways to think about using these options:\n",
    "1. [Circuits written in any gate set](#Circuits-written-in-any-gate-set)\n",
    "2. [Circuits written in the hardware's native gate set](#Circuits-written-in-the-hardware's-native-gate-set)"
   ]
  },
  {
   "attachments": {},
   "cell_type": "markdown",
   "id": "590f80a9-b75c-49d5-b302-db46fabb16bb",
   "metadata": {},
   "source": [
    "#### Circuits written in any gate set\n",
    "\n",
    "Users are free to submit circuits written with any gate set, not just the native gate set of the hardware. In this case, the options for control over what optimizations are applied are given at the TKET level. TKET will rebase the circuit to the native gate set it believes is most optimal and the hardware compiler will handle further optimizations of gate combinations as it applies to transport and ion assignment. **We recommend this for the majority of use cases.**\n",
    "\n",
    "* `tket-opt-level`: the `tket` optimization level to apply (default: `2`), with `tket` optimizations turned on, the hardware compiler will provide further gate combination logic as makes sense for ions and transport\n",
    "  * `2`: powerful optimizations, can use approximate methods, compilation can be expensive\n",
    "  * `1`: basic optimization, compiles quickly\n",
    "  * `0`: rebase the circuit with `tket`\n",
    "  * `null`: rebase the circuit without `tket`, using the hardware compiler only"
   ]
  },
  {
   "attachments": {},
   "cell_type": "markdown",
   "id": "ec5d9cba-e47b-4721-a8fe-664c137e94eb",
   "metadata": {},
   "source": [
    "#### Circuits written in the hardware's native gate set\n",
    "\n",
    "For circuits that are written only using gates in the hardware's native gate set, various levels of control are provided for what optimizations will be performed in the stack.\n",
    "\n",
    "Users may still choose to apply `tket` optimizations specified above to their circuit and control this with `tket-opt-level`, even if the circuit is written in the native gate set since further reductions in the number of quantum gates may be found, which will improve results. \n",
    "\n",
    "To use the native gates and circuit as the user submits it `tket-opt-level` must be set to `null` when submitting and the following options must be used.\n",
    "\n",
    "* `no-opt`: turns off all `tket` optimizations *and* all hardware compiler gate combination logic. (default: `False`)\n",
    "    * If more than 1 native gate is used in the circuit, the circuit will be rebased to 1 native gate, but no further gate combination logic will occur.\n",
    "    * The job will fail if `no-opt` is set to `True` and the circuit contains non-native gates. \n",
    "* `noreduce`: turns off all `tket` optimizations, all hardware compiler gate combination logic, and requires exact 1:1 correspondence of two-qubit gates with gates on the system. This requires the circuit be submitted using one of the native two-qubit gates on the system, otherwise an error will be returned. (default: `False`)\n",
    "\n",
    "Note that `tket-opt-level` set to `null`, `no-opt` set to `True`, and `noreduce` set to `True` all disable `tket` optimizations, but `no-opt` and `noreduce` also turn off all hardware gate combination logic.\n",
    "\n",
    "**Create plot of quantum circuit -> tket opt or no-opt or nativetq or noreduce**"
   ]
  },
  {
   "attachments": {},
   "cell_type": "markdown",
   "id": "3c79e573-04c6-4142-9eb5-6d74cfb97b24",
   "metadata": {},
   "source": [
    "## Use-Case: Quantum Volume Test"
   ]
  },
  {
   "attachments": {},
   "cell_type": "markdown",
   "id": "23000d21-7f61-475b-a5f4-ddf2f5cdf0c5",
   "metadata": {},
   "source": [
    "### Quantum Volume Test Circuit\n",
    "\n",
    "Quantum volume is a benchmarking test that was initially proposed by IBM [TODO: insert reference]. It is a test that aims to verify the quality as well as the quantity of qubits on the machine. The test does this by peforming rounds of single and two qubit gates between random pairs of qubits for as many rounds as qubits in the test. For example, for quantum volume of 2^N where N=4, 4 random rounds of gates are performed. If the quantum computer performing the test passes, it verifies that the quantum computer can perform quality computation with equal depth as width of the circuit. The advantage to using quantum volume is that it gives users the confidence that not only do they have the number of qubits to support running their circuit, but the two-qubit gate fidelity is there to support circuits of significant depth as well. Quantum algorithms need not only qubits, but the ability to run many gates consecutively as well. Quantinuum has steadily been increasing the quantum volume of H-Series machines. "
   ]
  },
  {
   "attachments": {},
   "cell_type": "markdown",
   "id": "36ee92ad",
   "metadata": {},
   "source": [
    "#### Decomposing a random SU(4) unitary into a circuit primitive"
   ]
  },
  {
   "attachments": {},
   "cell_type": "markdown",
   "id": "d8b19910",
   "metadata": {},
   "source": [
    "The function in the code-cell below defines a `pytket.circuit.CircBox`. This box contains a blueprint for the decomposition of a random SU(4) unitary distributed with the Haar Measure into a circuit primitive over 2-qubits. The implementation is based on [arxiv.0609050](http://arxiv.org/abs/math-ph/0609050). The random SU(4) unitary is generated using [`scipy.stats.unitary_group`](https://docs.scipy.org/doc/scipy/reference/generated/scipy.stats.unitary_group.html#scipy-stats-unitary-group)."
   ]
  },
  {
   "cell_type": "code",
   "execution_count": 3,
   "id": "b3725abd",
   "metadata": {},
   "outputs": [],
   "source": [
    "from pytket.circuit import CircBox, Circuit, Unitary2qBox\n",
    "import numpy as np\n",
    "from scipy.stats import unitary_group\n",
    "\n",
    "def haar_random_su4_box() -> CircBox:\n",
    "    r = unitary_group.rvs(dim=4)\n",
    "    circuit = Circuit(2)\n",
    "    box = Unitary2qBox(r)\n",
    "    circuit.add_unitary2qbox(box, 0, 1)\n",
    "    return CircBox(circuit)"
   ]
  },
  {
   "cell_type": "code",
   "execution_count": 4,
   "id": "298b70c3",
   "metadata": {},
   "outputs": [
    {
     "data": {
      "text/html": [
       "\n",
       "\n",
       "\n",
       "\n",
       "\n",
       "\n",
       "<div style=\"resize: vertical; overflow: auto; height: 400px; display: block\">\n",
       "    <iframe srcdoc=\"\n",
       "&lt;!DOCTYPE html&gt;\n",
       "&lt;html lang=&#34;en&#34;&gt;\n",
       "&lt;head&gt;\n",
       "    &lt;meta charset=&#34;UTF-8&#34;&gt;\n",
       "    &lt;!-- Download Vue 3--&gt;\n",
       "&lt;script type=&#34;application/javascript&#34; src=&#34;https://cdn.jsdelivr.net/npm/vue@3&#34;&gt;&lt;/script&gt;\n",
       "&lt;!-- Download Circuit Renderer with styles --&gt;\n",
       "&lt;script type=&#34;application/javascript&#34; src=&#34;https://unpkg.com/pytket-circuit-renderer@0.7/dist/pytket-circuit-renderer.umd.js&#34;&gt;&lt;/script&gt;\n",
       "&lt;link rel=&#34;stylesheet&#34; href=&#34;https://unpkg.com/pytket-circuit-renderer@0.7/dist/pytket-circuit-renderer.css&#34;&gt;\n",
       "&lt;/head&gt;\n",
       "&lt;body&gt;\n",
       "\n",
       "\n",
       "\n",
       "    &lt;div id=&#34;circuit-display-vue-container-90e1ccbd-ba83-453e-902f-c483e7f33e60&#34; class=&#34;pytket-circuit-display-container&#34;&gt;\n",
       "        &lt;div style=&#34;display: none&#34;&gt;\n",
       "            &lt;div id=&#34;circuit-json-to-display&#34;&gt;{&#34;bits&#34;: [], &#34;commands&#34;: [{&#34;args&#34;: [[&#34;q&#34;, [0]], [&#34;q&#34;, [1]]], &#34;op&#34;: {&#34;box&#34;: {&#34;id&#34;: &#34;79a089f6-0dfc-4f5e-9c48-ccbf2d0012bc&#34;, &#34;matrix&#34;: [[[0.46512263404563936, 0.20131157326314533], [0.1877203244326306, -0.7474686271559897], [-0.04595152068967225, -0.23479422476559672], [0.07970348487875106, -0.29256418311615545]], [[0.12447346982108956, -0.688927806789169], [0.383245116350072, 0.26676022394363974], [-0.06597874199833556, -0.3190544523113258], [0.14408410435870425, -0.4061253858040763]], [[-0.2653530190949375, 0.2649893569125823], [-0.29082979313318336, 0.10886159328158221], [-0.5331917786358933, -0.5341958265722614], [0.43340623137579437, -0.07372913662227182]], [[-0.3310617339424112, -0.0527822168104886], [-0.25578185249659474, -0.161730404672474], [0.3749002097991117, 0.35553111057700615], [0.5097153624914762, -0.5189111652201642]]], &#34;type&#34;: &#34;Unitary2qBox&#34;}, &#34;type&#34;: &#34;Unitary2qBox&#34;}}], &#34;created_qubits&#34;: [], &#34;discarded_qubits&#34;: [], &#34;implicit_permutation&#34;: [[[&#34;q&#34;, [0]], [&#34;q&#34;, [0]]], [[&#34;q&#34;, [1]], [&#34;q&#34;, [1]]]], &#34;phase&#34;: &#34;0.0&#34;, &#34;qubits&#34;: [[&#34;q&#34;, [0]], [&#34;q&#34;, [1]]]}&lt;/div&gt;\n",
       "        &lt;/div&gt;\n",
       "        &lt;circuit-display-container\n",
       "                :circuit-element-str=&#34;&#39;#circuit-json-to-display&#39;&#34;\n",
       "                :init-render-options=&#34;initRenderOptions&#34;\n",
       "        &gt;&lt;/circuit-display-container&gt;\n",
       "    &lt;/div&gt;\n",
       "    &lt;script type=&#34;application/javascript&#34;&gt;\n",
       "      const circuitRendererUid = &#34;90e1ccbd-ba83-453e-902f-c483e7f33e60&#34;;\n",
       "      const displayOptions = JSON.parse(&#39;{}&#39;);\n",
       "\n",
       "      // Script to initialise the circuit renderer app\n",
       "\n",
       "const { createApp } = Vue;\n",
       "const circuitDisplayContainer = window[&#34;pytket-circuit-renderer&#34;].default;\n",
       "// Init variables to be shared between circuit display instances\n",
       "if (typeof window.pytketCircuitDisplays === &#34;undefined&#34;) {\n",
       "    window.pytketCircuitDisplays = {};\n",
       "}\n",
       "// Create the root Vue component\n",
       "const app = createApp({\n",
       "    delimiters: [&#39;[[#&#39;, &#39;#]]&#39;],\n",
       "    components: { circuitDisplayContainer },\n",
       "    data () {\n",
       "      return {\n",
       "        initRenderOptions: displayOptions,\n",
       "      }\n",
       "    }\n",
       "})\n",
       "app.config.unwrapInjectedRef = true;\n",
       "app.mount(&#34;#circuit-display-vue-container-&#34;+circuitRendererUid);\n",
       "window.pytketCircuitDisplays[circuitRendererUid] = app;\n",
       "    &lt;/script&gt;\n",
       "\n",
       "\n",
       "\n",
       "&lt;/body&gt;\n",
       "&lt;/html&gt;\n",
       "\"\n",
       "            width=\"100%\" height=\"100%\"\n",
       "            style=\"border: none; outline: none; overflow: auto\"></iframe>\n",
       "</div>\n",
       "\n"
      ],
      "text/plain": [
       "<IPython.core.display.HTML object>"
      ]
     },
     "metadata": {},
     "output_type": "display_data"
    }
   ],
   "source": [
    "from pytket.circuit.display import render_circuit_jupyter\n",
    "\n",
    "circuit = haar_random_su4_box().get_circuit()\n",
    "render_circuit_jupyter(circuit)"
   ]
  },
  {
   "attachments": {},
   "cell_type": "markdown",
   "id": "3664595e",
   "metadata": {},
   "source": [
    "The `pytket` sequence pass, consists of two passes:\n",
    "* [`pytket.passes.DecomposeBoxes`](https://tket.quantinuum.com/api-docs/passes.html#pytket.passes.DecomposeBoxes)\n",
    "* [`pytket.passes.KAKDecomposition`](https://tket.quantinuum.com/api-docs/passes.html#pytket.passes.KAKDecomposition)\n",
    "\n",
    "Both passes are argument to [`pytket.passes.SequencePass`](https://tket.quantinuum.com/api-docs/passes.html#pytket.passes.SequencePass). `SequencePass` allows both passes to be applied to the input circuit with one `apply` call."
   ]
  },
  {
   "cell_type": "code",
   "execution_count": 5,
   "id": "d814f1d2",
   "metadata": {},
   "outputs": [],
   "source": [
    "from pytket.passes import DecomposeBoxes, KAKDecomposition, SequencePass\n",
    "from pytket.circuit import OpType\n",
    "\n",
    "sequence_pass = SequencePass([DecomposeBoxes(), KAKDecomposition(target_2qb_gate=OpType.TK2)])"
   ]
  },
  {
   "cell_type": "code",
   "execution_count": 6,
   "id": "2d00279b",
   "metadata": {},
   "outputs": [
    {
     "data": {
      "text/html": [
       "\n",
       "\n",
       "\n",
       "\n",
       "\n",
       "\n",
       "<div style=\"resize: vertical; overflow: auto; height: 400px; display: block\">\n",
       "    <iframe srcdoc=\"\n",
       "&lt;!DOCTYPE html&gt;\n",
       "&lt;html lang=&#34;en&#34;&gt;\n",
       "&lt;head&gt;\n",
       "    &lt;meta charset=&#34;UTF-8&#34;&gt;\n",
       "    &lt;!-- Download Vue 3--&gt;\n",
       "&lt;script type=&#34;application/javascript&#34; src=&#34;https://cdn.jsdelivr.net/npm/vue@3&#34;&gt;&lt;/script&gt;\n",
       "&lt;!-- Download Circuit Renderer with styles --&gt;\n",
       "&lt;script type=&#34;application/javascript&#34; src=&#34;https://unpkg.com/pytket-circuit-renderer@0.7/dist/pytket-circuit-renderer.umd.js&#34;&gt;&lt;/script&gt;\n",
       "&lt;link rel=&#34;stylesheet&#34; href=&#34;https://unpkg.com/pytket-circuit-renderer@0.7/dist/pytket-circuit-renderer.css&#34;&gt;\n",
       "&lt;/head&gt;\n",
       "&lt;body&gt;\n",
       "\n",
       "\n",
       "\n",
       "    &lt;div id=&#34;circuit-display-vue-container-2ad63671-b14f-4c34-8ac7-ad237726b402&#34; class=&#34;pytket-circuit-display-container&#34;&gt;\n",
       "        &lt;div style=&#34;display: none&#34;&gt;\n",
       "            &lt;div id=&#34;circuit-json-to-display&#34;&gt;{&#34;bits&#34;: [], &#34;commands&#34;: [{&#34;args&#34;: [[&#34;q&#34;, [0]]], &#34;op&#34;: {&#34;params&#34;: [&#34;0.730781871789858&#34;, &#34;0.509042403441438&#34;, &#34;0.709501786538281&#34;], &#34;type&#34;: &#34;TK1&#34;}}, {&#34;args&#34;: [[&#34;q&#34;, [1]]], &#34;op&#34;: {&#34;params&#34;: [&#34;-0.491839663576182&#34;, &#34;0.137880195498152&#34;, &#34;0.643649128048308&#34;], &#34;type&#34;: &#34;TK1&#34;}}, {&#34;args&#34;: [[&#34;q&#34;, [0]]], &#34;op&#34;: {&#34;type&#34;: &#34;Vdg&#34;}}, {&#34;args&#34;: [[&#34;q&#34;, [1]]], &#34;op&#34;: {&#34;type&#34;: &#34;Vdg&#34;}}, {&#34;args&#34;: [[&#34;q&#34;, [0]]], &#34;op&#34;: {&#34;type&#34;: &#34;Z&#34;}}, {&#34;args&#34;: [[&#34;q&#34;, [0]]], &#34;op&#34;: {&#34;type&#34;: &#34;X&#34;}}, {&#34;args&#34;: [[&#34;q&#34;, [0]], [&#34;q&#34;, [1]]], &#34;op&#34;: {&#34;params&#34;: [&#34;0.494225323397934&#34;, &#34;0.0986436638914294&#34;, &#34;-0.0439547221447882&#34;], &#34;type&#34;: &#34;TK2&#34;}}, {&#34;args&#34;: [[&#34;q&#34;, [0]]], &#34;op&#34;: {&#34;type&#34;: &#34;Z&#34;}}, {&#34;args&#34;: [[&#34;q&#34;, [1]]], &#34;op&#34;: {&#34;type&#34;: &#34;Z&#34;}}, {&#34;args&#34;: [[&#34;q&#34;, [0]]], &#34;op&#34;: {&#34;type&#34;: &#34;V&#34;}}, {&#34;args&#34;: [[&#34;q&#34;, [1]]], &#34;op&#34;: {&#34;type&#34;: &#34;X&#34;}}, {&#34;args&#34;: [[&#34;q&#34;, [0]]], &#34;op&#34;: {&#34;params&#34;: [&#34;-0.268800113092717&#34;, &#34;0.707904467010582&#34;, &#34;-1.47321806449985&#34;], &#34;type&#34;: &#34;TK1&#34;}}, {&#34;args&#34;: [[&#34;q&#34;, [1]]], &#34;op&#34;: {&#34;type&#34;: &#34;Z&#34;}}, {&#34;args&#34;: [[&#34;q&#34;, [1]]], &#34;op&#34;: {&#34;type&#34;: &#34;V&#34;}}, {&#34;args&#34;: [[&#34;q&#34;, [1]]], &#34;op&#34;: {&#34;params&#34;: [&#34;0.265609642806547&#34;, &#34;0.158291541533601&#34;, &#34;-0.0656053341626531&#34;], &#34;type&#34;: &#34;TK1&#34;}}], &#34;created_qubits&#34;: [], &#34;discarded_qubits&#34;: [], &#34;implicit_permutation&#34;: [[[&#34;q&#34;, [0]], [&#34;q&#34;, [0]]], [[&#34;q&#34;, [1]], [&#34;q&#34;, [1]]]], &#34;phase&#34;: &#34;1.31097712145872&#34;, &#34;qubits&#34;: [[&#34;q&#34;, [0]], [&#34;q&#34;, [1]]]}&lt;/div&gt;\n",
       "        &lt;/div&gt;\n",
       "        &lt;circuit-display-container\n",
       "                :circuit-element-str=&#34;&#39;#circuit-json-to-display&#39;&#34;\n",
       "                :init-render-options=&#34;initRenderOptions&#34;\n",
       "        &gt;&lt;/circuit-display-container&gt;\n",
       "    &lt;/div&gt;\n",
       "    &lt;script type=&#34;application/javascript&#34;&gt;\n",
       "      const circuitRendererUid = &#34;2ad63671-b14f-4c34-8ac7-ad237726b402&#34;;\n",
       "      const displayOptions = JSON.parse(&#39;{}&#39;);\n",
       "\n",
       "      // Script to initialise the circuit renderer app\n",
       "\n",
       "const { createApp } = Vue;\n",
       "const circuitDisplayContainer = window[&#34;pytket-circuit-renderer&#34;].default;\n",
       "// Init variables to be shared between circuit display instances\n",
       "if (typeof window.pytketCircuitDisplays === &#34;undefined&#34;) {\n",
       "    window.pytketCircuitDisplays = {};\n",
       "}\n",
       "// Create the root Vue component\n",
       "const app = createApp({\n",
       "    delimiters: [&#39;[[#&#39;, &#39;#]]&#39;],\n",
       "    components: { circuitDisplayContainer },\n",
       "    data () {\n",
       "      return {\n",
       "        initRenderOptions: displayOptions,\n",
       "      }\n",
       "    }\n",
       "})\n",
       "app.config.unwrapInjectedRef = true;\n",
       "app.mount(&#34;#circuit-display-vue-container-&#34;+circuitRendererUid);\n",
       "window.pytketCircuitDisplays[circuitRendererUid] = app;\n",
       "    &lt;/script&gt;\n",
       "\n",
       "\n",
       "\n",
       "&lt;/body&gt;\n",
       "&lt;/html&gt;\n",
       "\"\n",
       "            width=\"100%\" height=\"100%\"\n",
       "            style=\"border: none; outline: none; overflow: auto\"></iframe>\n",
       "</div>\n",
       "\n"
      ],
      "text/plain": [
       "<IPython.core.display.HTML object>"
      ]
     },
     "metadata": {},
     "output_type": "display_data"
    }
   ],
   "source": [
    "sequence_pass.apply(circuit)\n",
    "render_circuit_jupyter(circuit)"
   ]
  },
  {
   "attachments": {},
   "cell_type": "markdown",
   "id": "a6ebaa7a",
   "metadata": {},
   "source": [
    "#### Building the Quantum Volume Test Circuit"
   ]
  },
  {
   "attachments": {},
   "cell_type": "markdown",
   "id": "edc7d59b",
   "metadata": {},
   "source": [
    "An $n$-qubit Quantum Volume Test (QVT) consists of $n$ rounds of parallel SU(4) sequences. Each sequence is partitioned by permutations on the qubit IDs. In the code-cell below, the `haar_random_su4_box` is used to apply SU(4) unitaries."
   ]
  },
  {
   "cell_type": "code",
   "execution_count": 7,
   "id": "5405081c",
   "metadata": {},
   "outputs": [
    {
     "data": {
      "text/plain": [
       "[CircBox q[0], q[1]; CircBox q[2], q[3]; CircBox q[0], q[3]; CircBox q[2], q[1]; CircBox q[0], q[1]; CircBox q[2], q[3]; CircBox q[0], q[1]; CircBox q[2], q[3]; Measure q[0] --> c[0]; Measure q[1] --> c[1]; Measure q[2] --> c[2]; Measure q[3] --> c[3]; ]"
      ]
     },
     "execution_count": 7,
     "metadata": {},
     "output_type": "execute_result"
    }
   ],
   "source": [
    "circuit = Circuit(4)\n",
    "for _ in range(4):\n",
    "    permutation = np.random.permutation(circuit.qubits)\n",
    "    for i in range(0, 4, 2):\n",
    "        box = haar_random_su4_box()\n",
    "        circuit.add_circbox(box, [permutation[i], permutation[i+1]])\n",
    "circuit.measure_all()"
   ]
  },
  {
   "attachments": {},
   "cell_type": "markdown",
   "id": "9c3e8b09",
   "metadata": {},
   "source": [
    "The `SequencePass` defined in the code-cell in the previous subsection is used below on the QVT circuit"
   ]
  },
  {
   "cell_type": "code",
   "execution_count": 8,
   "id": "88fe0b26",
   "metadata": {},
   "outputs": [
    {
     "data": {
      "text/html": [
       "\n",
       "\n",
       "\n",
       "\n",
       "\n",
       "\n",
       "<div style=\"resize: vertical; overflow: auto; height: 400px; display: block\">\n",
       "    <iframe srcdoc=\"\n",
       "&lt;!DOCTYPE html&gt;\n",
       "&lt;html lang=&#34;en&#34;&gt;\n",
       "&lt;head&gt;\n",
       "    &lt;meta charset=&#34;UTF-8&#34;&gt;\n",
       "    &lt;!-- Download Vue 3--&gt;\n",
       "&lt;script type=&#34;application/javascript&#34; src=&#34;https://cdn.jsdelivr.net/npm/vue@3&#34;&gt;&lt;/script&gt;\n",
       "&lt;!-- Download Circuit Renderer with styles --&gt;\n",
       "&lt;script type=&#34;application/javascript&#34; src=&#34;https://unpkg.com/pytket-circuit-renderer@0.7/dist/pytket-circuit-renderer.umd.js&#34;&gt;&lt;/script&gt;\n",
       "&lt;link rel=&#34;stylesheet&#34; href=&#34;https://unpkg.com/pytket-circuit-renderer@0.7/dist/pytket-circuit-renderer.css&#34;&gt;\n",
       "&lt;/head&gt;\n",
       "&lt;body&gt;\n",
       "\n",
       "\n",
       "\n",
       "    &lt;div id=&#34;circuit-display-vue-container-0970cfae-06b8-4a43-b56f-8a1e4eca2cf7&#34; class=&#34;pytket-circuit-display-container&#34;&gt;\n",
       "        &lt;div style=&#34;display: none&#34;&gt;\n",
       "            &lt;div id=&#34;circuit-json-to-display&#34;&gt;{&#34;bits&#34;: [[&#34;c&#34;, [0]], [&#34;c&#34;, [1]], [&#34;c&#34;, [2]], [&#34;c&#34;, [3]]], &#34;commands&#34;: [{&#34;args&#34;: [[&#34;q&#34;, [0]]], &#34;op&#34;: {&#34;params&#34;: [&#34;0.0757997999002299&#34;, &#34;-0.699693784108462&#34;, &#34;0.688170858288435&#34;], &#34;type&#34;: &#34;TK1&#34;}}, {&#34;args&#34;: [[&#34;q&#34;, [1]]], &#34;op&#34;: {&#34;params&#34;: [&#34;0.490427213721112&#34;, &#34;-0.842333564133558&#34;, &#34;0.0368849770835847&#34;], &#34;type&#34;: &#34;TK1&#34;}}, {&#34;args&#34;: [[&#34;q&#34;, [2]]], &#34;op&#34;: {&#34;params&#34;: [&#34;1.23623550518523&#34;, &#34;-0.89608863308358&#34;, &#34;0.174254810720518&#34;], &#34;type&#34;: &#34;TK1&#34;}}, {&#34;args&#34;: [[&#34;q&#34;, [3]]], &#34;op&#34;: {&#34;params&#34;: [&#34;-0.521434214941971&#34;, &#34;-0.500406182384789&#34;, &#34;0.788023940994691&#34;], &#34;type&#34;: &#34;TK1&#34;}}, {&#34;args&#34;: [[&#34;q&#34;, [0]], [&#34;q&#34;, [1]]], &#34;op&#34;: {&#34;params&#34;: [&#34;0.416829169309646&#34;, &#34;0.339383327374884&#34;, &#34;0.0221001430100739&#34;], &#34;type&#34;: &#34;TK2&#34;}}, {&#34;args&#34;: [[&#34;q&#34;, [2]], [&#34;q&#34;, [3]]], &#34;op&#34;: {&#34;params&#34;: [&#34;0.413408253379007&#34;, &#34;0.190778581552707&#34;, &#34;-0.142773068666127&#34;], &#34;type&#34;: &#34;TK2&#34;}}, {&#34;args&#34;: [[&#34;q&#34;, [0]]], &#34;op&#34;: {&#34;params&#34;: [&#34;0.544175104379296&#34;, &#34;-0.634269096157818&#34;, &#34;0.850163914689322&#34;], &#34;type&#34;: &#34;TK1&#34;}}, {&#34;args&#34;: [[&#34;q&#34;, [1]]], &#34;op&#34;: {&#34;params&#34;: [&#34;0.35843055664049&#34;, &#34;-0.639478652370456&#34;, &#34;-0.700311305132321&#34;], &#34;type&#34;: &#34;TK1&#34;}}, {&#34;args&#34;: [[&#34;q&#34;, [2]]], &#34;op&#34;: {&#34;params&#34;: [&#34;0.37759773591606&#34;, &#34;-0.586810122022992&#34;, &#34;1.90843774337335&#34;], &#34;type&#34;: &#34;TK1&#34;}}, {&#34;args&#34;: [[&#34;q&#34;, [3]]], &#34;op&#34;: {&#34;params&#34;: [&#34;1.61521337488698&#34;, &#34;-0.568180966834091&#34;, &#34;0.643912334212624&#34;], &#34;type&#34;: &#34;TK1&#34;}}, {&#34;args&#34;: [[&#34;q&#34;, [0]], [&#34;q&#34;, [3]]], &#34;op&#34;: {&#34;params&#34;: [&#34;0.378007047164634&#34;, &#34;0.187281686774163&#34;, &#34;-0.0726340233525291&#34;], &#34;type&#34;: &#34;TK2&#34;}}, {&#34;args&#34;: [[&#34;q&#34;, [2]], [&#34;q&#34;, [1]]], &#34;op&#34;: {&#34;params&#34;: [&#34;0.336407648607405&#34;, &#34;0.275324737917525&#34;, &#34;0.0377181935571906&#34;], &#34;type&#34;: &#34;TK2&#34;}}, {&#34;args&#34;: [[&#34;q&#34;, [0]]], &#34;op&#34;: {&#34;params&#34;: [&#34;0.0367395798412803&#34;, &#34;-0.887693256304875&#34;, &#34;1.08291846154444&#34;], &#34;type&#34;: &#34;TK1&#34;}}, {&#34;args&#34;: [[&#34;q&#34;, [1]]], &#34;op&#34;: {&#34;params&#34;: [&#34;0.0365754814684671&#34;, &#34;-0.805270709400944&#34;, &#34;0.22100243263136&#34;], &#34;type&#34;: &#34;TK1&#34;}}, {&#34;args&#34;: [[&#34;q&#34;, [2]]], &#34;op&#34;: {&#34;params&#34;: [&#34;0.870279532253916&#34;, &#34;-0.190504891197047&#34;, &#34;0.11872801777479&#34;], &#34;type&#34;: &#34;TK1&#34;}}, {&#34;args&#34;: [[&#34;q&#34;, [3]]], &#34;op&#34;: {&#34;params&#34;: [&#34;-1.35627634599502&#34;, &#34;-0.495418483307751&#34;, &#34;1.4395596418144&#34;], &#34;type&#34;: &#34;TK1&#34;}}, {&#34;args&#34;: [[&#34;q&#34;, [0]], [&#34;q&#34;, [1]]], &#34;op&#34;: {&#34;params&#34;: [&#34;0.493844279958662&#34;, &#34;0.173767121057968&#34;, &#34;0.0136821731115955&#34;], &#34;type&#34;: &#34;TK2&#34;}}, {&#34;args&#34;: [[&#34;q&#34;, [2]], [&#34;q&#34;, [3]]], &#34;op&#34;: {&#34;params&#34;: [&#34;0.480046555837247&#34;, &#34;0.276463205687019&#34;, &#34;0.0337242882765878&#34;], &#34;type&#34;: &#34;TK2&#34;}}, {&#34;args&#34;: [[&#34;q&#34;, [0]]], &#34;op&#34;: {&#34;params&#34;: [&#34;-0.93844363646059&#34;, &#34;-0.211797019934212&#34;, &#34;0.738800933231169&#34;], &#34;type&#34;: &#34;TK1&#34;}}, {&#34;args&#34;: [[&#34;q&#34;, [1]]], &#34;op&#34;: {&#34;params&#34;: [&#34;-0.907478162612504&#34;, &#34;-0.525840128738212&#34;, &#34;1.02754530075681&#34;], &#34;type&#34;: &#34;TK1&#34;}}, {&#34;args&#34;: [[&#34;q&#34;, [2]]], &#34;op&#34;: {&#34;params&#34;: [&#34;-0.0805294787057644&#34;, &#34;-0.250284883897427&#34;, &#34;1.64160742829131&#34;], &#34;type&#34;: &#34;TK1&#34;}}, {&#34;args&#34;: [[&#34;q&#34;, [3]]], &#34;op&#34;: {&#34;params&#34;: [&#34;1.37679539553537&#34;, &#34;-0.301946795073961&#34;, &#34;-0.0984436832784447&#34;], &#34;type&#34;: &#34;TK1&#34;}}, {&#34;args&#34;: [[&#34;q&#34;, [0]], [&#34;c&#34;, [0]]], &#34;op&#34;: {&#34;type&#34;: &#34;Measure&#34;}}, {&#34;args&#34;: [[&#34;q&#34;, [1]], [&#34;c&#34;, [1]]], &#34;op&#34;: {&#34;type&#34;: &#34;Measure&#34;}}, {&#34;args&#34;: [[&#34;q&#34;, [2]], [&#34;c&#34;, [2]]], &#34;op&#34;: {&#34;type&#34;: &#34;Measure&#34;}}, {&#34;args&#34;: [[&#34;q&#34;, [3]], [&#34;c&#34;, [3]]], &#34;op&#34;: {&#34;type&#34;: &#34;Measure&#34;}}], &#34;created_qubits&#34;: [], &#34;discarded_qubits&#34;: [], &#34;implicit_permutation&#34;: [[[&#34;q&#34;, [0]], [&#34;q&#34;, [0]]], [[&#34;q&#34;, [1]], [&#34;q&#34;, [1]]], [[&#34;q&#34;, [2]], [&#34;q&#34;, [2]]], [[&#34;q&#34;, [3]], [&#34;q&#34;, [3]]]], &#34;phase&#34;: &#34;0.95460893101475&#34;, &#34;qubits&#34;: [[&#34;q&#34;, [0]], [&#34;q&#34;, [1]], [&#34;q&#34;, [2]], [&#34;q&#34;, [3]]]}&lt;/div&gt;\n",
       "        &lt;/div&gt;\n",
       "        &lt;circuit-display-container\n",
       "                :circuit-element-str=&#34;&#39;#circuit-json-to-display&#39;&#34;\n",
       "                :init-render-options=&#34;initRenderOptions&#34;\n",
       "        &gt;&lt;/circuit-display-container&gt;\n",
       "    &lt;/div&gt;\n",
       "    &lt;script type=&#34;application/javascript&#34;&gt;\n",
       "      const circuitRendererUid = &#34;0970cfae-06b8-4a43-b56f-8a1e4eca2cf7&#34;;\n",
       "      const displayOptions = JSON.parse(&#39;{}&#39;);\n",
       "\n",
       "      // Script to initialise the circuit renderer app\n",
       "\n",
       "const { createApp } = Vue;\n",
       "const circuitDisplayContainer = window[&#34;pytket-circuit-renderer&#34;].default;\n",
       "// Init variables to be shared between circuit display instances\n",
       "if (typeof window.pytketCircuitDisplays === &#34;undefined&#34;) {\n",
       "    window.pytketCircuitDisplays = {};\n",
       "}\n",
       "// Create the root Vue component\n",
       "const app = createApp({\n",
       "    delimiters: [&#39;[[#&#39;, &#39;#]]&#39;],\n",
       "    components: { circuitDisplayContainer },\n",
       "    data () {\n",
       "      return {\n",
       "        initRenderOptions: displayOptions,\n",
       "      }\n",
       "    }\n",
       "})\n",
       "app.config.unwrapInjectedRef = true;\n",
       "app.mount(&#34;#circuit-display-vue-container-&#34;+circuitRendererUid);\n",
       "window.pytketCircuitDisplays[circuitRendererUid] = app;\n",
       "    &lt;/script&gt;\n",
       "\n",
       "\n",
       "\n",
       "&lt;/body&gt;\n",
       "&lt;/html&gt;\n",
       "\"\n",
       "            width=\"100%\" height=\"100%\"\n",
       "            style=\"border: none; outline: none; overflow: auto\"></iframe>\n",
       "</div>\n",
       "\n"
      ],
      "text/plain": [
       "<IPython.core.display.HTML object>"
      ]
     },
     "metadata": {},
     "output_type": "display_data"
    }
   ],
   "source": [
    "sequence_pass.apply(circuit)\n",
    "from pytket.circuit.display import render_circuit_jupyter\n",
    "render_circuit_jupyter(circuit)"
   ]
  },
  {
   "attachments": {},
   "cell_type": "markdown",
   "id": "afb64b66",
   "metadata": {},
   "source": [
    "### Define default native two-qubit gate with `QuantinuumBackend`"
   ]
  },
  {
   "attachments": {},
   "cell_type": "markdown",
   "id": "8e956d94",
   "metadata": {},
   "source": [
    "#### SU(4) gate - OpType.TK2 (Rxxyyzz)"
   ]
  },
  {
   "attachments": {},
   "cell_type": "markdown",
   "id": "c6ca6da8",
   "metadata": {},
   "source": [
    "In order to simulate a circuit containing the native SU(4) gate on a H-Series device or emulator, the `QuantinuumBackendCompilationConfig` needs to specify that `OpType.TK2` is the native two-qubit to use by default. In addition, the `tket-op-level` L4 option needs to be set to None. This disables any additional tket optimisation in the stack"
   ]
  },
  {
   "cell_type": "code",
   "execution_count": null,
   "id": "b8243f95",
   "metadata": {},
   "outputs": [],
   "source": [
    "from pytket.extensions.quantinuum import QuantinuumBackend\n",
    "from pytket.extensions.quantinuum.backends.quantinuum import QuantinuumBackendCompilationConfig\n",
    "\n",
    "from pytket.circuit import OpType\n",
    "\n",
    "compilation_config = QuantinuumBackendCompilationConfig(allow_implicit_swaps=True, target_2qb_gate=OpType.TK2)\n",
    "compilation_config.target_2qb_gate\n",
    "\n",
    "quantinuum_backend = QuantinuumBackend(device_name=\"H1-1\", compilation_config=compilation_config, options={\"tket-op-level\": None})\n",
    "quantinuum_backend.login()"
   ]
  },
  {
   "cell_type": "code",
   "execution_count": 10,
   "id": "6460640a",
   "metadata": {},
   "outputs": [
    {
     "data": {
      "text/plain": [
       "{<OpType.Barrier: 8>,\n",
       " <OpType.WASM: 14>,\n",
       " <OpType.SetBits: 15>,\n",
       " <OpType.CopyBits: 16>,\n",
       " <OpType.RangePredicate: 17>,\n",
       " <OpType.ExplicitPredicate: 18>,\n",
       " <OpType.ExplicitModifier: 19>,\n",
       " <OpType.MultiBit: 20>,\n",
       " <OpType.Rz: 36>,\n",
       " <OpType.TK2: 41>,\n",
       " <OpType.Measure: 63>,\n",
       " <OpType.Reset: 65>,\n",
       " <OpType.PhasedX: 68>,\n",
       " <OpType.ZZMax: 70>,\n",
       " <OpType.ZZPhase: 73>,\n",
       " <OpType.ClassicalExpBox: 103>}"
      ]
     },
     "execution_count": 10,
     "metadata": {},
     "output_type": "execute_result"
    }
   ],
   "source": [
    "quantinuum_backend.backend_info.gate_set"
   ]
  },
  {
   "cell_type": "code",
   "execution_count": 12,
   "id": "c687d9fc",
   "metadata": {},
   "outputs": [
    {
     "name": "stdout",
     "output_type": "stream",
     "text": [
      "Number of TK2 (Rxxyyzz) Gates: 18\n"
     ]
    },
    {
     "data": {
      "text/html": [
       "\n",
       "\n",
       "\n",
       "\n",
       "\n",
       "\n",
       "<div style=\"resize: vertical; overflow: auto; height: 400px; display: block\">\n",
       "    <iframe srcdoc=\"\n",
       "&lt;!DOCTYPE html&gt;\n",
       "&lt;html lang=&#34;en&#34;&gt;\n",
       "&lt;head&gt;\n",
       "    &lt;meta charset=&#34;UTF-8&#34;&gt;\n",
       "    &lt;!-- Download Vue 3--&gt;\n",
       "&lt;script type=&#34;application/javascript&#34; src=&#34;https://cdn.jsdelivr.net/npm/vue@3&#34;&gt;&lt;/script&gt;\n",
       "&lt;!-- Download Circuit Renderer with styles --&gt;\n",
       "&lt;script type=&#34;application/javascript&#34; src=&#34;https://unpkg.com/pytket-circuit-renderer@0.7/dist/pytket-circuit-renderer.umd.js&#34;&gt;&lt;/script&gt;\n",
       "&lt;link rel=&#34;stylesheet&#34; href=&#34;https://unpkg.com/pytket-circuit-renderer@0.7/dist/pytket-circuit-renderer.css&#34;&gt;\n",
       "&lt;/head&gt;\n",
       "&lt;body&gt;\n",
       "\n",
       "\n",
       "\n",
       "    &lt;div id=&#34;circuit-display-vue-container-4e8d137a-8f53-4c42-9b24-bbc6609fad6f&#34; class=&#34;pytket-circuit-display-container&#34;&gt;\n",
       "        &lt;div style=&#34;display: none&#34;&gt;\n",
       "            &lt;div id=&#34;circuit-json-to-display&#34;&gt;{&#34;bits&#34;: [[&#34;c&#34;, [0]], [&#34;c&#34;, [1]], [&#34;c&#34;, [2]], [&#34;c&#34;, [3]]], &#34;commands&#34;: [{&#34;args&#34;: [[&#34;q&#34;, [0]]], &#34;op&#34;: {&#34;params&#34;: [&#34;0.561163505584571&#34;, &#34;-1.1431185506708&#34;], &#34;type&#34;: &#34;PhasedX&#34;}}, {&#34;args&#34;: [[&#34;q&#34;, [1]]], &#34;op&#34;: {&#34;params&#34;: [&#34;0.657588681141238&#34;, &#34;1.95223552499593&#34;], &#34;type&#34;: &#34;PhasedX&#34;}}, {&#34;args&#34;: [[&#34;q&#34;, [2]]], &#34;op&#34;: {&#34;params&#34;: [&#34;0.430457430596228&#34;, &#34;0.553401820124356&#34;], &#34;type&#34;: &#34;PhasedX&#34;}}, {&#34;args&#34;: [[&#34;q&#34;, [3]]], &#34;op&#34;: {&#34;params&#34;: [&#34;0.0214380573949184&#34;, &#34;-0.282001749208577&#34;], &#34;type&#34;: &#34;PhasedX&#34;}}, {&#34;args&#34;: [[&#34;q&#34;, [0]], [&#34;q&#34;, [1]]], &#34;op&#34;: {&#34;params&#34;: [&#34;0&#34;, &#34;0&#34;, &#34;0.416829169309646&#34;], &#34;type&#34;: &#34;TK2&#34;}}, {&#34;args&#34;: [[&#34;q&#34;, [2]], [&#34;q&#34;, [3]]], &#34;op&#34;: {&#34;params&#34;: [&#34;0&#34;, &#34;0&#34;, &#34;0.413408253379007&#34;], &#34;type&#34;: &#34;TK2&#34;}}, {&#34;args&#34;: [[&#34;q&#34;, [0]]], &#34;op&#34;: {&#34;params&#34;: [&#34;0.5&#34;, &#34;-0.939075785540555&#34;], &#34;type&#34;: &#34;PhasedX&#34;}}, {&#34;args&#34;: [[&#34;q&#34;, [1]]], &#34;op&#34;: {&#34;params&#34;: [&#34;0.5&#34;, &#34;2.44706509967668&#34;], &#34;type&#34;: &#34;PhasedX&#34;}}, {&#34;args&#34;: [[&#34;q&#34;, [2]]], &#34;op&#34;: {&#34;params&#34;: [&#34;0.5&#34;, &#34;1.13123810279623&#34;], &#34;type&#34;: &#34;PhasedX&#34;}}, {&#34;args&#34;: [[&#34;q&#34;, [3]]], &#34;op&#34;: {&#34;params&#34;: [&#34;0.5&#34;, &#34;-1.28803762183424&#34;], &#34;type&#34;: &#34;PhasedX&#34;}}, {&#34;args&#34;: [[&#34;q&#34;, [0]], [&#34;q&#34;, [1]]], &#34;op&#34;: {&#34;params&#34;: [&#34;0&#34;, &#34;0&#34;, &#34;0.339383327374884&#34;], &#34;type&#34;: &#34;TK2&#34;}}, {&#34;args&#34;: [[&#34;q&#34;, [2]], [&#34;q&#34;, [3]]], &#34;op&#34;: {&#34;params&#34;: [&#34;0&#34;, &#34;0&#34;, &#34;0.190778581552707&#34;], &#34;type&#34;: &#34;TK2&#34;}}, {&#34;args&#34;: [[&#34;q&#34;, [0]]], &#34;op&#34;: {&#34;params&#34;: [&#34;1/2&#34;, &#34;-1.43907578554055&#34;], &#34;type&#34;: &#34;PhasedX&#34;}}, {&#34;args&#34;: [[&#34;q&#34;, [1]]], &#34;op&#34;: {&#34;params&#34;: [&#34;1/2&#34;, &#34;1.94706509967668&#34;], &#34;type&#34;: &#34;PhasedX&#34;}}, {&#34;args&#34;: [[&#34;q&#34;, [2]]], &#34;op&#34;: {&#34;params&#34;: [&#34;1/2&#34;, &#34;0.631238102796228&#34;], &#34;type&#34;: &#34;PhasedX&#34;}}, {&#34;args&#34;: [[&#34;q&#34;, [3]]], &#34;op&#34;: {&#34;params&#34;: [&#34;1/2&#34;, &#34;-1.78803762183424&#34;], &#34;type&#34;: &#34;PhasedX&#34;}}, {&#34;args&#34;: [[&#34;q&#34;, [0]], [&#34;q&#34;, [1]]], &#34;op&#34;: {&#34;params&#34;: [&#34;0&#34;, &#34;0&#34;, &#34;0.0221001430100739&#34;], &#34;type&#34;: &#34;TK2&#34;}}, {&#34;args&#34;: [[&#34;q&#34;, [2]], [&#34;q&#34;, [3]]], &#34;op&#34;: {&#34;params&#34;: [&#34;0&#34;, &#34;0&#34;, &#34;-0.142773068666127&#34;], &#34;type&#34;: &#34;TK2&#34;}}, {&#34;args&#34;: [[&#34;q&#34;, [0]]], &#34;op&#34;: {&#34;params&#34;: [&#34;0.859066153002757&#34;, &#34;-0.184586316364405&#34;], &#34;type&#34;: &#34;PhasedX&#34;}}, {&#34;args&#34;: [[&#34;q&#34;, [1]]], &#34;op&#34;: {&#34;params&#34;: [&#34;0.8046024613591&#34;, &#34;2.3789168248193&#34;], &#34;type&#34;: &#34;PhasedX&#34;}}, {&#34;args&#34;: [[&#34;q&#34;, [2]]], &#34;op&#34;: {&#34;params&#34;: [&#34;0.851200304256671&#34;, &#34;-1.5902699634763&#34;], &#34;type&#34;: &#34;PhasedX&#34;}}, {&#34;args&#34;: [[&#34;q&#34;, [3]]], &#34;op&#34;: {&#34;params&#34;: [&#34;0.133106559889544&#34;, &#34;-3.09478064081669&#34;], &#34;type&#34;: &#34;PhasedX&#34;}}, {&#34;args&#34;: [[&#34;q&#34;, [0]], [&#34;q&#34;, [3]]], &#34;op&#34;: {&#34;params&#34;: [&#34;0&#34;, &#34;0&#34;, &#34;0.378007047164634&#34;], &#34;type&#34;: &#34;TK2&#34;}}, {&#34;args&#34;: [[&#34;q&#34;, [2]], [&#34;q&#34;, [1]]], &#34;op&#34;: {&#34;params&#34;: [&#34;0&#34;, &#34;0&#34;, &#34;0.336407648607405&#34;], &#34;type&#34;: &#34;TK2&#34;}}, {&#34;args&#34;: [[&#34;q&#34;, [0]]], &#34;op&#34;: {&#34;params&#34;: [&#34;0.5&#34;, &#34;0.410594961943392&#34;], &#34;type&#34;: &#34;PhasedX&#34;}}, {&#34;args&#34;: [[&#34;q&#34;, [1]]], &#34;op&#34;: {&#34;params&#34;: [&#34;0.5&#34;, &#34;2.64248311947306&#34;], &#34;type&#34;: &#34;PhasedX&#34;}}, {&#34;args&#34;: [[&#34;q&#34;, [2]]], &#34;op&#34;: {&#34;params&#34;: [&#34;0.5&#34;, &#34;-3.38633914015363&#34;], &#34;type&#34;: &#34;PhasedX&#34;}}, {&#34;args&#34;: [[&#34;q&#34;, [3]]], &#34;op&#34;: {&#34;params&#34;: [&#34;0.5&#34;, &#34;-2.91942798102031&#34;], &#34;type&#34;: &#34;PhasedX&#34;}}, {&#34;args&#34;: [[&#34;q&#34;, [0]], [&#34;q&#34;, [3]]], &#34;op&#34;: {&#34;params&#34;: [&#34;0&#34;, &#34;0&#34;, &#34;0.187281686774163&#34;], &#34;type&#34;: &#34;TK2&#34;}}, {&#34;args&#34;: [[&#34;q&#34;, [2]], [&#34;q&#34;, [1]]], &#34;op&#34;: {&#34;params&#34;: [&#34;0&#34;, &#34;0&#34;, &#34;0.275324737917525&#34;], &#34;type&#34;: &#34;TK2&#34;}}, {&#34;args&#34;: [[&#34;q&#34;, [0]]], &#34;op&#34;: {&#34;params&#34;: [&#34;1/2&#34;, &#34;-0.0894050380566082&#34;], &#34;type&#34;: &#34;PhasedX&#34;}}, {&#34;args&#34;: [[&#34;q&#34;, [1]]], &#34;op&#34;: {&#34;params&#34;: [&#34;1/2&#34;, &#34;2.14248311947306&#34;], &#34;type&#34;: &#34;PhasedX&#34;}}, {&#34;args&#34;: [[&#34;q&#34;, [2]]], &#34;op&#34;: {&#34;params&#34;: [&#34;1/2&#34;, &#34;-3.88633914015363&#34;], &#34;type&#34;: &#34;PhasedX&#34;}}, {&#34;args&#34;: [[&#34;q&#34;, [3]]], &#34;op&#34;: {&#34;params&#34;: [&#34;1/2&#34;, &#34;-3.41942798102031&#34;], &#34;type&#34;: &#34;PhasedX&#34;}}, {&#34;args&#34;: [[&#34;q&#34;, [0]], [&#34;q&#34;, [3]]], &#34;op&#34;: {&#34;params&#34;: [&#34;0&#34;, &#34;0&#34;, &#34;-0.0726340233525296&#34;], &#34;type&#34;: &#34;TK2&#34;}}, {&#34;args&#34;: [[&#34;q&#34;, [2]], [&#34;q&#34;, [1]]], &#34;op&#34;: {&#34;params&#34;: [&#34;0&#34;, &#34;0&#34;, &#34;0.0377181935571906&#34;], &#34;type&#34;: &#34;TK2&#34;}}, {&#34;args&#34;: [[&#34;q&#34;, [0]]], &#34;op&#34;: {&#34;params&#34;: [&#34;0.487329557342078&#34;, &#34;-0.637828780967815&#34;], &#34;type&#34;: &#34;PhasedX&#34;}}, {&#34;args&#34;: [[&#34;q&#34;, [1]]], &#34;op&#34;: {&#34;params&#34;: [&#34;0.479025380870988&#34;, &#34;2.4514662447692&#34;], &#34;type&#34;: &#34;PhasedX&#34;}}, {&#34;args&#34;: [[&#34;q&#34;, [2]]], &#34;op&#34;: {&#34;params&#34;: [&#34;0.571681912960194&#34;, &#34;-5.39601490511614&#34;], &#34;type&#34;: &#34;PhasedX&#34;}}, {&#34;args&#34;: [[&#34;q&#34;, [3]]], &#34;op&#34;: {&#34;params&#34;: [&#34;0.856208370253553&#34;, &#34;-4.34954298207613&#34;], &#34;type&#34;: &#34;PhasedX&#34;}}, {&#34;args&#34;: [[&#34;q&#34;, [0]], [&#34;q&#34;, [1]]], &#34;op&#34;: {&#34;params&#34;: [&#34;0&#34;, &#34;0&#34;, &#34;0.493844279958662&#34;], &#34;type&#34;: &#34;TK2&#34;}}, {&#34;args&#34;: [[&#34;q&#34;, [2]], [&#34;q&#34;, [3]]], &#34;op&#34;: {&#34;params&#34;: [&#34;0&#34;, &#34;0&#34;, &#34;0.480046555837247&#34;], &#34;type&#34;: &#34;TK2&#34;}}, {&#34;args&#34;: [[&#34;q&#34;, [0]]], &#34;op&#34;: {&#34;params&#34;: [&#34;0.5&#34;, &#34;-2.02620933793449&#34;], &#34;type&#34;: &#34;PhasedX&#34;}}, {&#34;args&#34;: [[&#34;q&#34;, [1]]], &#34;op&#34;: {&#34;params&#34;: [&#34;0.5&#34;, &#34;1.1452065172292&#34;], &#34;type&#34;: &#34;PhasedX&#34;}}, {&#34;args&#34;: [[&#34;q&#34;, [2]]], &#34;op&#34;: {&#34;params&#34;: [&#34;0.5&#34;, &#34;-5.07406815112083&#34;], &#34;type&#34;: &#34;PhasedX&#34;}}, {&#34;args&#34;: [[&#34;q&#34;, [3]]], &#34;op&#34;: {&#34;params&#34;: [&#34;0.5&#34;, &#34;-4.33904605995607&#34;], &#34;type&#34;: &#34;PhasedX&#34;}}, {&#34;args&#34;: [[&#34;q&#34;, [0]], [&#34;q&#34;, [1]]], &#34;op&#34;: {&#34;params&#34;: [&#34;0&#34;, &#34;0&#34;, &#34;0.173767121057968&#34;], &#34;type&#34;: &#34;TK2&#34;}}, {&#34;args&#34;: [[&#34;q&#34;, [2]], [&#34;q&#34;, [3]]], &#34;op&#34;: {&#34;params&#34;: [&#34;0&#34;, &#34;0&#34;, &#34;0.276463205687019&#34;], &#34;type&#34;: &#34;TK2&#34;}}, {&#34;args&#34;: [[&#34;q&#34;, [0]]], &#34;op&#34;: {&#34;params&#34;: [&#34;1/2&#34;, &#34;-2.52620933793449&#34;], &#34;type&#34;: &#34;PhasedX&#34;}}, {&#34;args&#34;: [[&#34;q&#34;, [1]]], &#34;op&#34;: {&#34;params&#34;: [&#34;1/2&#34;, &#34;0.645206517229198&#34;], &#34;type&#34;: &#34;PhasedX&#34;}}, {&#34;args&#34;: [[&#34;q&#34;, [2]]], &#34;op&#34;: {&#34;params&#34;: [&#34;1/2&#34;, &#34;-5.57406815112083&#34;], &#34;type&#34;: &#34;PhasedX&#34;}}, {&#34;args&#34;: [[&#34;q&#34;, [3]]], &#34;op&#34;: {&#34;params&#34;: [&#34;1/2&#34;, &#34;-4.83904605995607&#34;], &#34;type&#34;: &#34;PhasedX&#34;}}, {&#34;args&#34;: [[&#34;q&#34;, [0]], [&#34;q&#34;, [1]]], &#34;op&#34;: {&#34;params&#34;: [&#34;0&#34;, &#34;0&#34;, &#34;0.0136821731115955&#34;], &#34;type&#34;: &#34;TK2&#34;}}, {&#34;args&#34;: [[&#34;q&#34;, [2]], [&#34;q&#34;, [3]]], &#34;op&#34;: {&#34;params&#34;: [&#34;0&#34;, &#34;0&#34;, &#34;0.0337242882765877&#34;], &#34;type&#34;: &#34;TK2&#34;}}, {&#34;args&#34;: [[&#34;q&#34;, [0]]], &#34;op&#34;: {&#34;params&#34;: [&#34;-0.211797019934212&#34;, &#34;-2.26501027116565&#34;], &#34;type&#34;: &#34;PhasedX&#34;}}, {&#34;args&#34;: [[&#34;q&#34;, [1]]], &#34;op&#34;: {&#34;params&#34;: [&#34;-0.525840128738212&#34;, &#34;0.617661216472392&#34;], &#34;type&#34;: &#34;PhasedX&#34;}}, {&#34;args&#34;: [[&#34;q&#34;, [2]]], &#34;op&#34;: {&#34;params&#34;: [&#34;-0.749715116102572&#34;, &#34;-6.93246072282952&#34;], &#34;type&#34;: &#34;PhasedX&#34;}}, {&#34;args&#34;: [[&#34;q&#34;, [3]]], &#34;op&#34;: {&#34;params&#34;: [&#34;-0.698053204926038&#34;, &#34;-5.93748974323452&#34;], &#34;type&#34;: &#34;PhasedX&#34;}}, {&#34;args&#34;: [[&#34;q&#34;, [0]], [&#34;c&#34;, [0]]], &#34;op&#34;: {&#34;type&#34;: &#34;Measure&#34;}}, {&#34;args&#34;: [[&#34;q&#34;, [1]], [&#34;c&#34;, [1]]], &#34;op&#34;: {&#34;type&#34;: &#34;Measure&#34;}}, {&#34;args&#34;: [[&#34;q&#34;, [2]], [&#34;c&#34;, [2]]], &#34;op&#34;: {&#34;type&#34;: &#34;Measure&#34;}}, {&#34;args&#34;: [[&#34;q&#34;, [3]], [&#34;c&#34;, [3]]], &#34;op&#34;: {&#34;type&#34;: &#34;Measure&#34;}}], &#34;created_qubits&#34;: [], &#34;discarded_qubits&#34;: [], &#34;implicit_permutation&#34;: [[[&#34;q&#34;, [0]], [&#34;q&#34;, [0]]], [[&#34;q&#34;, [1]], [&#34;q&#34;, [1]]], [[&#34;q&#34;, [2]], [&#34;q&#34;, [2]]], [[&#34;q&#34;, [3]], [&#34;q&#34;, [3]]]], &#34;name&#34;: &#34;QV Example with SU(4)&#34;, &#34;phase&#34;: &#34;1.95460893101475&#34;, &#34;qubits&#34;: [[&#34;q&#34;, [0]], [&#34;q&#34;, [1]], [&#34;q&#34;, [2]], [&#34;q&#34;, [3]]]}&lt;/div&gt;\n",
       "        &lt;/div&gt;\n",
       "        &lt;circuit-display-container\n",
       "                :circuit-element-str=&#34;&#39;#circuit-json-to-display&#39;&#34;\n",
       "                :init-render-options=&#34;initRenderOptions&#34;\n",
       "        &gt;&lt;/circuit-display-container&gt;\n",
       "    &lt;/div&gt;\n",
       "    &lt;script type=&#34;application/javascript&#34;&gt;\n",
       "      const circuitRendererUid = &#34;4e8d137a-8f53-4c42-9b24-bbc6609fad6f&#34;;\n",
       "      const displayOptions = JSON.parse(&#39;{}&#39;);\n",
       "\n",
       "      // Script to initialise the circuit renderer app\n",
       "\n",
       "const { createApp } = Vue;\n",
       "const circuitDisplayContainer = window[&#34;pytket-circuit-renderer&#34;].default;\n",
       "// Init variables to be shared between circuit display instances\n",
       "if (typeof window.pytketCircuitDisplays === &#34;undefined&#34;) {\n",
       "    window.pytketCircuitDisplays = {};\n",
       "}\n",
       "// Create the root Vue component\n",
       "const app = createApp({\n",
       "    delimiters: [&#39;[[#&#39;, &#39;#]]&#39;],\n",
       "    components: { circuitDisplayContainer },\n",
       "    data () {\n",
       "      return {\n",
       "        initRenderOptions: displayOptions,\n",
       "      }\n",
       "    }\n",
       "})\n",
       "app.config.unwrapInjectedRef = true;\n",
       "app.mount(&#34;#circuit-display-vue-container-&#34;+circuitRendererUid);\n",
       "window.pytketCircuitDisplays[circuitRendererUid] = app;\n",
       "    &lt;/script&gt;\n",
       "\n",
       "\n",
       "\n",
       "&lt;/body&gt;\n",
       "&lt;/html&gt;\n",
       "\"\n",
       "            width=\"100%\" height=\"100%\"\n",
       "            style=\"border: none; outline: none; overflow: auto\"></iframe>\n",
       "</div>\n",
       "\n"
      ],
      "text/plain": [
       "<IPython.core.display.HTML object>"
      ]
     },
     "metadata": {},
     "output_type": "display_data"
    }
   ],
   "source": [
    "qv_circuit_wSU4 = quantinuum_backend.get_compiled_circuit(circuit, optimisation_level=2)\n",
    "qv_circuit_wSU4.name = \"QV Example with SU(4)\"\n",
    "print(f\"Number of TK2 (Rxxyyzz) Gates: {qv_circuit_wSU4.n_2qb_gates()}\")\n",
    "render_circuit_jupyter(qv_circuit_wSU4)"
   ]
  },
  {
   "cell_type": "code",
   "execution_count": 13,
   "id": "abdda9d9",
   "metadata": {},
   "outputs": [
    {
     "ename": "SyntaxError",
     "evalue": "unterminated string literal (detected at line 2) (2097166687.py, line 2)",
     "output_type": "error",
     "traceback": [
      "\u001b[0;36m  Cell \u001b[0;32mIn[13], line 2\u001b[0;36m\u001b[0m\n\u001b[0;31m    print(f\"SU(4) circuit cost: {cost} HQC)\u001b[0m\n\u001b[0m          ^\u001b[0m\n\u001b[0;31mSyntaxError\u001b[0m\u001b[0;31m:\u001b[0m unterminated string literal (detected at line 2)\n"
     ]
    }
   ],
   "source": [
    "cost = quantinuum_backend.cost(qv_circuit_wSU4, n_shots=100, syntax_checker=\"H1-1SC\")\n",
    "print(f\"SU(4) circuit cost: {cost} HQC)"
   ]
  },
  {
   "cell_type": "code",
   "execution_count": null,
   "id": "098b750a",
   "metadata": {},
   "outputs": [],
   "source": [
    "handle = quantinuum_backend.process_circuit(qv_circuit_wSU4, n_shots=100)"
   ]
  },
  {
   "cell_type": "code",
   "execution_count": null,
   "id": "eb509c74",
   "metadata": {},
   "outputs": [
    {
     "ename": "ConnectionClosedError",
     "evalue": "sent 1011 (internal error) keepalive ping timeout; no close frame received",
     "output_type": "error",
     "traceback": [
      "\u001b[0;31m---------------------------------------------------------------------------\u001b[0m",
      "\u001b[0;31mCircuitNotRunError\u001b[0m                        Traceback (most recent call last)",
      "File \u001b[0;32m~/projects/pytket-quantinuum/.venv/lib/python3.10/site-packages/pytket/extensions/quantinuum/backends/quantinuum.py:1125\u001b[0m, in \u001b[0;36mQuantinuumBackend.get_result\u001b[0;34m(self, handle, **kwargs)\u001b[0m\n\u001b[1;32m   1124\u001b[0m \u001b[39mtry\u001b[39;00m:\n\u001b[0;32m-> 1125\u001b[0m     \u001b[39mreturn\u001b[39;00m \u001b[39msuper\u001b[39;49m()\u001b[39m.\u001b[39;49mget_result(handle)\n\u001b[1;32m   1126\u001b[0m \u001b[39mexcept\u001b[39;00m CircuitNotRunError:\n",
      "File \u001b[0;32m~/projects/pytket-quantinuum/.venv/lib/python3.10/site-packages/pytket/backends/backend.py:347\u001b[0m, in \u001b[0;36mBackend.get_result\u001b[0;34m(self, handle, **kwargs)\u001b[0m\n\u001b[1;32m    346\u001b[0m     \u001b[39mreturn\u001b[39;00m cast(BackendResult, \u001b[39mself\u001b[39m\u001b[39m.\u001b[39m_cache[handle][\u001b[39m\"\u001b[39m\u001b[39mresult\u001b[39m\u001b[39m\"\u001b[39m])\n\u001b[0;32m--> 347\u001b[0m \u001b[39mraise\u001b[39;00m CircuitNotRunError(handle)\n",
      "\u001b[0;31mCircuitNotRunError\u001b[0m: Circuit corresponding to ResultHandle('bd5002db51d2487a83ba702fb1ca546e', 'null', 4, '[[\"c\", 0], [\"c\", 1], [\"c\", 2], [\"c\", 3]]') has not been run by this backend instance.",
      "\nDuring handling of the above exception, another exception occurred:\n",
      "\u001b[0;31mCancelledError\u001b[0m                            Traceback (most recent call last)",
      "File \u001b[0;32m/usr/lib/python3.10/asyncio/tasks.py:234\u001b[0m, in \u001b[0;36mTask.__step\u001b[0;34m(***failed resolving arguments***)\u001b[0m\n\u001b[1;32m    233\u001b[0m     \u001b[39melse\u001b[39;00m:\n\u001b[0;32m--> 234\u001b[0m         result \u001b[39m=\u001b[39m coro\u001b[39m.\u001b[39;49mthrow(exc)\n\u001b[1;32m    235\u001b[0m \u001b[39mexcept\u001b[39;00m \u001b[39mStopIteration\u001b[39;00m \u001b[39mas\u001b[39;00m exc:\n",
      "File \u001b[0;32m~/projects/pytket-quantinuum/.venv/lib/python3.10/site-packages/websockets/legacy/protocol.py:963\u001b[0m, in \u001b[0;36mWebSocketCommonProtocol.transfer_data\u001b[0;34m(self)\u001b[0m\n\u001b[1;32m    962\u001b[0m \u001b[39mwhile\u001b[39;00m \u001b[39mTrue\u001b[39;00m:\n\u001b[0;32m--> 963\u001b[0m     message \u001b[39m=\u001b[39m \u001b[39mawait\u001b[39;00m \u001b[39mself\u001b[39m\u001b[39m.\u001b[39mread_message()\n\u001b[1;32m    965\u001b[0m     \u001b[39m# Exit the loop when receiving a close frame.\u001b[39;00m\n",
      "File \u001b[0;32m~/projects/pytket-quantinuum/.venv/lib/python3.10/site-packages/websockets/legacy/protocol.py:1033\u001b[0m, in \u001b[0;36mWebSocketCommonProtocol.read_message\u001b[0;34m(self)\u001b[0m\n\u001b[1;32m   1025\u001b[0m \u001b[39m\u001b[39m\u001b[39m\"\"\"\u001b[39;00m\n\u001b[1;32m   1026\u001b[0m \u001b[39mRead a single message from the connection.\u001b[39;00m\n\u001b[1;32m   1027\u001b[0m \n\u001b[0;32m   (...)\u001b[0m\n\u001b[1;32m   1031\u001b[0m \n\u001b[1;32m   1032\u001b[0m \u001b[39m\"\"\"\u001b[39;00m\n\u001b[0;32m-> 1033\u001b[0m frame \u001b[39m=\u001b[39m \u001b[39mawait\u001b[39;00m \u001b[39mself\u001b[39m\u001b[39m.\u001b[39mread_data_frame(max_size\u001b[39m=\u001b[39m\u001b[39mself\u001b[39m\u001b[39m.\u001b[39mmax_size)\n\u001b[1;32m   1035\u001b[0m \u001b[39m# A close frame was received.\u001b[39;00m\n",
      "File \u001b[0;32m~/projects/pytket-quantinuum/.venv/lib/python3.10/site-packages/websockets/legacy/protocol.py:1108\u001b[0m, in \u001b[0;36mWebSocketCommonProtocol.read_data_frame\u001b[0;34m(self, max_size)\u001b[0m\n\u001b[1;32m   1107\u001b[0m \u001b[39mwhile\u001b[39;00m \u001b[39mTrue\u001b[39;00m:\n\u001b[0;32m-> 1108\u001b[0m     frame \u001b[39m=\u001b[39m \u001b[39mawait\u001b[39;00m \u001b[39mself\u001b[39m\u001b[39m.\u001b[39mread_frame(max_size)\n\u001b[1;32m   1110\u001b[0m     \u001b[39m# 5.5. Control Frames\u001b[39;00m\n",
      "File \u001b[0;32m~/projects/pytket-quantinuum/.venv/lib/python3.10/site-packages/websockets/legacy/protocol.py:1165\u001b[0m, in \u001b[0;36mWebSocketCommonProtocol.read_frame\u001b[0;34m(self, max_size)\u001b[0m\n\u001b[1;32m   1161\u001b[0m \u001b[39m\u001b[39m\u001b[39m\"\"\"\u001b[39;00m\n\u001b[1;32m   1162\u001b[0m \u001b[39mRead a single frame from the connection.\u001b[39;00m\n\u001b[1;32m   1163\u001b[0m \n\u001b[1;32m   1164\u001b[0m \u001b[39m\"\"\"\u001b[39;00m\n\u001b[0;32m-> 1165\u001b[0m frame \u001b[39m=\u001b[39m \u001b[39mawait\u001b[39;00m Frame\u001b[39m.\u001b[39mread(\n\u001b[1;32m   1166\u001b[0m     \u001b[39mself\u001b[39m\u001b[39m.\u001b[39mreader\u001b[39m.\u001b[39mreadexactly,\n\u001b[1;32m   1167\u001b[0m     mask\u001b[39m=\u001b[39m\u001b[39mnot\u001b[39;00m \u001b[39mself\u001b[39m\u001b[39m.\u001b[39mis_client,\n\u001b[1;32m   1168\u001b[0m     max_size\u001b[39m=\u001b[39mmax_size,\n\u001b[1;32m   1169\u001b[0m     extensions\u001b[39m=\u001b[39m\u001b[39mself\u001b[39m\u001b[39m.\u001b[39mextensions,\n\u001b[1;32m   1170\u001b[0m )\n\u001b[1;32m   1171\u001b[0m \u001b[39mif\u001b[39;00m \u001b[39mself\u001b[39m\u001b[39m.\u001b[39mdebug:\n",
      "File \u001b[0;32m~/projects/pytket-quantinuum/.venv/lib/python3.10/site-packages/websockets/legacy/framing.py:68\u001b[0m, in \u001b[0;36mFrame.read\u001b[0;34m(cls, reader, mask, max_size, extensions)\u001b[0m\n\u001b[1;32m     67\u001b[0m \u001b[39m# Read the header.\u001b[39;00m\n\u001b[0;32m---> 68\u001b[0m data \u001b[39m=\u001b[39m \u001b[39mawait\u001b[39;00m reader(\u001b[39m2\u001b[39m)\n\u001b[1;32m     69\u001b[0m head1, head2 \u001b[39m=\u001b[39m struct\u001b[39m.\u001b[39munpack(\u001b[39m\"\u001b[39m\u001b[39m!BB\u001b[39m\u001b[39m\"\u001b[39m, data)\n",
      "File \u001b[0;32m/usr/lib/python3.10/asyncio/streams.py:708\u001b[0m, in \u001b[0;36mStreamReader.readexactly\u001b[0;34m(self, n)\u001b[0m\n\u001b[1;32m    706\u001b[0m         \u001b[39mraise\u001b[39;00m exceptions\u001b[39m.\u001b[39mIncompleteReadError(incomplete, n)\n\u001b[0;32m--> 708\u001b[0m     \u001b[39mawait\u001b[39;00m \u001b[39mself\u001b[39m\u001b[39m.\u001b[39m_wait_for_data(\u001b[39m'\u001b[39m\u001b[39mreadexactly\u001b[39m\u001b[39m'\u001b[39m)\n\u001b[1;32m    710\u001b[0m \u001b[39mif\u001b[39;00m \u001b[39mlen\u001b[39m(\u001b[39mself\u001b[39m\u001b[39m.\u001b[39m_buffer) \u001b[39m==\u001b[39m n:\n",
      "File \u001b[0;32m/usr/lib/python3.10/asyncio/streams.py:501\u001b[0m, in \u001b[0;36mStreamReader._wait_for_data\u001b[0;34m(self, func_name)\u001b[0m\n\u001b[1;32m    500\u001b[0m \u001b[39mtry\u001b[39;00m:\n\u001b[0;32m--> 501\u001b[0m     \u001b[39mawait\u001b[39;00m \u001b[39mself\u001b[39m\u001b[39m.\u001b[39m_waiter\n\u001b[1;32m    502\u001b[0m \u001b[39mfinally\u001b[39;00m:\n",
      "File \u001b[0;32m/usr/lib/python3.10/asyncio/futures.py:285\u001b[0m, in \u001b[0;36mFuture.__await__\u001b[0;34m(self)\u001b[0m\n\u001b[1;32m    284\u001b[0m     \u001b[39mself\u001b[39m\u001b[39m.\u001b[39m_asyncio_future_blocking \u001b[39m=\u001b[39m \u001b[39mTrue\u001b[39;00m\n\u001b[0;32m--> 285\u001b[0m     \u001b[39myield\u001b[39;00m \u001b[39mself\u001b[39m  \u001b[39m# This tells Task to wait for completion.\u001b[39;00m\n\u001b[1;32m    286\u001b[0m \u001b[39mif\u001b[39;00m \u001b[39mnot\u001b[39;00m \u001b[39mself\u001b[39m\u001b[39m.\u001b[39mdone():\n",
      "File \u001b[0;32m/usr/lib/python3.10/asyncio/tasks.py:304\u001b[0m, in \u001b[0;36mTask.__wakeup\u001b[0;34m(self, future)\u001b[0m\n\u001b[1;32m    303\u001b[0m \u001b[39mtry\u001b[39;00m:\n\u001b[0;32m--> 304\u001b[0m     future\u001b[39m.\u001b[39;49mresult()\n\u001b[1;32m    305\u001b[0m \u001b[39mexcept\u001b[39;00m \u001b[39mBaseException\u001b[39;00m \u001b[39mas\u001b[39;00m exc:\n\u001b[1;32m    306\u001b[0m     \u001b[39m# This may also be a cancellation.\u001b[39;00m\n",
      "File \u001b[0;32m/usr/lib/python3.10/asyncio/futures.py:196\u001b[0m, in \u001b[0;36mFuture.result\u001b[0;34m(self)\u001b[0m\n\u001b[1;32m    195\u001b[0m     exc \u001b[39m=\u001b[39m \u001b[39mself\u001b[39m\u001b[39m.\u001b[39m_make_cancelled_error()\n\u001b[0;32m--> 196\u001b[0m     \u001b[39mraise\u001b[39;00m exc\n\u001b[1;32m    197\u001b[0m \u001b[39mif\u001b[39;00m \u001b[39mself\u001b[39m\u001b[39m.\u001b[39m_state \u001b[39m!=\u001b[39m _FINISHED:\n",
      "\u001b[0;31mCancelledError\u001b[0m: ",
      "\nThe above exception was the direct cause of the following exception:\n",
      "\u001b[0;31mConnectionClosedError\u001b[0m                     Traceback (most recent call last)",
      "Cell \u001b[0;32mIn[19], line 1\u001b[0m\n\u001b[0;32m----> 1\u001b[0m result \u001b[39m=\u001b[39m quantinuum_backend\u001b[39m.\u001b[39;49mget_result(handle)\n\u001b[1;32m      2\u001b[0m \u001b[39mprint\u001b[39m(result\u001b[39m.\u001b[39mget_distribution())\n",
      "File \u001b[0;32m~/projects/pytket-quantinuum/.venv/lib/python3.10/site-packages/pytket/extensions/quantinuum/backends/quantinuum.py:1161\u001b[0m, in \u001b[0;36mQuantinuumBackend.get_result\u001b[0;34m(self, handle, **kwargs)\u001b[0m\n\u001b[1;32m   1158\u001b[0m     wait \u001b[39m=\u001b[39m \u001b[39mint\u001b[39m(wait)\n\u001b[1;32m   1159\u001b[0m use_websocket \u001b[39m=\u001b[39m cast(Optional[\u001b[39mbool\u001b[39m], kwargs\u001b[39m.\u001b[39mget(\u001b[39m\"\u001b[39m\u001b[39muse_websocket\u001b[39m\u001b[39m\"\u001b[39m, \u001b[39mNone\u001b[39;00m))\n\u001b[0;32m-> 1161\u001b[0m job_retrieve \u001b[39m=\u001b[39m \u001b[39mself\u001b[39;49m\u001b[39m.\u001b[39;49m_retrieve_job(jobid, timeout, wait, use_websocket)\n\u001b[1;32m   1162\u001b[0m circ_status \u001b[39m=\u001b[39m _parse_status(job_retrieve)\n\u001b[1;32m   1163\u001b[0m \u001b[39mif\u001b[39;00m circ_status\u001b[39m.\u001b[39mstatus \u001b[39mnot\u001b[39;00m \u001b[39min\u001b[39;00m (\n\u001b[1;32m   1164\u001b[0m     StatusEnum\u001b[39m.\u001b[39mCOMPLETED,\n\u001b[1;32m   1165\u001b[0m     StatusEnum\u001b[39m.\u001b[39mCANCELLED,\n\u001b[1;32m   1166\u001b[0m ):\n",
      "File \u001b[0;32m~/projects/pytket-quantinuum/.venv/lib/python3.10/site-packages/pytket/extensions/quantinuum/backends/quantinuum.py:1022\u001b[0m, in \u001b[0;36mQuantinuumBackend._retrieve_job\u001b[0;34m(self, jobid, timeout, wait, use_websocket)\u001b[0m\n\u001b[1;32m   1019\u001b[0m     \u001b[39mraise\u001b[39;00m \u001b[39mRuntimeError\u001b[39;00m(\u001b[39m\"\u001b[39m\u001b[39mAPI handler not set\u001b[39m\u001b[39m\"\u001b[39m)\n\u001b[1;32m   1020\u001b[0m \u001b[39mwith\u001b[39;00m \u001b[39mself\u001b[39m\u001b[39m.\u001b[39mapi_handler\u001b[39m.\u001b[39moverride_timeouts(timeout\u001b[39m=\u001b[39mtimeout, retry_timeout\u001b[39m=\u001b[39mwait):\n\u001b[1;32m   1021\u001b[0m     \u001b[39m# set and unset optional timeout parameters\u001b[39;00m\n\u001b[0;32m-> 1022\u001b[0m     job_dict \u001b[39m=\u001b[39m \u001b[39mself\u001b[39;49m\u001b[39m.\u001b[39;49mapi_handler\u001b[39m.\u001b[39;49mretrieve_job(jobid, use_websocket)\n\u001b[1;32m   1024\u001b[0m \u001b[39mif\u001b[39;00m job_dict \u001b[39mis\u001b[39;00m \u001b[39mNone\u001b[39;00m:\n\u001b[1;32m   1025\u001b[0m     \u001b[39mraise\u001b[39;00m \u001b[39mRuntimeError\u001b[39;00m(\u001b[39mf\u001b[39m\u001b[39m\"\u001b[39m\u001b[39mUnable to retrieve job \u001b[39m\u001b[39m{\u001b[39;00mjobid\u001b[39m}\u001b[39;00m\u001b[39m\"\u001b[39m)\n",
      "File \u001b[0;32m~/projects/pytket-quantinuum/.venv/lib/python3.10/site-packages/pytket/extensions/quantinuum/backends/api_wrappers.py:380\u001b[0m, in \u001b[0;36mQuantinuumAPI.retrieve_job\u001b[0;34m(self, job_id, use_websocket)\u001b[0m\n\u001b[1;32m    378\u001b[0m \u001b[39mtry\u001b[39;00m:\n\u001b[1;32m    379\u001b[0m     loop \u001b[39m=\u001b[39m asyncio\u001b[39m.\u001b[39mget_event_loop()\n\u001b[0;32m--> 380\u001b[0m     jr \u001b[39m=\u001b[39m loop\u001b[39m.\u001b[39;49mrun_until_complete(\u001b[39mself\u001b[39;49m\u001b[39m.\u001b[39;49m_wait_results(job_id))\n\u001b[1;32m    381\u001b[0m \u001b[39mexcept\u001b[39;00m \u001b[39mRuntimeError\u001b[39;00m:\n\u001b[1;32m    382\u001b[0m     \u001b[39m# no event loop in thread, call asyncio.run to use a new loop\u001b[39;00m\n\u001b[1;32m    383\u001b[0m     jr \u001b[39m=\u001b[39m asyncio\u001b[39m.\u001b[39mrun(\u001b[39mself\u001b[39m\u001b[39m.\u001b[39m_wait_results(job_id))\n",
      "File \u001b[0;32m~/projects/pytket-quantinuum/.venv/lib/python3.10/site-packages/nest_asyncio.py:99\u001b[0m, in \u001b[0;36m_patch_loop.<locals>.run_until_complete\u001b[0;34m(self, future)\u001b[0m\n\u001b[1;32m     96\u001b[0m \u001b[39mif\u001b[39;00m \u001b[39mnot\u001b[39;00m f\u001b[39m.\u001b[39mdone():\n\u001b[1;32m     97\u001b[0m     \u001b[39mraise\u001b[39;00m \u001b[39mRuntimeError\u001b[39;00m(\n\u001b[1;32m     98\u001b[0m         \u001b[39m'\u001b[39m\u001b[39mEvent loop stopped before Future completed.\u001b[39m\u001b[39m'\u001b[39m)\n\u001b[0;32m---> 99\u001b[0m \u001b[39mreturn\u001b[39;00m f\u001b[39m.\u001b[39;49mresult()\n",
      "File \u001b[0;32m/usr/lib/python3.10/asyncio/futures.py:201\u001b[0m, in \u001b[0;36mFuture.result\u001b[0;34m(self)\u001b[0m\n\u001b[1;32m    199\u001b[0m \u001b[39mself\u001b[39m\u001b[39m.\u001b[39m__log_traceback \u001b[39m=\u001b[39m \u001b[39mFalse\u001b[39;00m\n\u001b[1;32m    200\u001b[0m \u001b[39mif\u001b[39;00m \u001b[39mself\u001b[39m\u001b[39m.\u001b[39m_exception \u001b[39mis\u001b[39;00m \u001b[39mnot\u001b[39;00m \u001b[39mNone\u001b[39;00m:\n\u001b[0;32m--> 201\u001b[0m     \u001b[39mraise\u001b[39;00m \u001b[39mself\u001b[39m\u001b[39m.\u001b[39m_exception\u001b[39m.\u001b[39mwith_traceback(\u001b[39mself\u001b[39m\u001b[39m.\u001b[39m_exception_tb)\n\u001b[1;32m    202\u001b[0m \u001b[39mreturn\u001b[39;00m \u001b[39mself\u001b[39m\u001b[39m.\u001b[39m_result\n",
      "File \u001b[0;32m/usr/lib/python3.10/asyncio/tasks.py:232\u001b[0m, in \u001b[0;36mTask.__step\u001b[0;34m(***failed resolving arguments***)\u001b[0m\n\u001b[1;32m    228\u001b[0m \u001b[39mtry\u001b[39;00m:\n\u001b[1;32m    229\u001b[0m     \u001b[39mif\u001b[39;00m exc \u001b[39mis\u001b[39;00m \u001b[39mNone\u001b[39;00m:\n\u001b[1;32m    230\u001b[0m         \u001b[39m# We use the `send` method directly, because coroutines\u001b[39;00m\n\u001b[1;32m    231\u001b[0m         \u001b[39m# don't have `__iter__` and `__next__` methods.\u001b[39;00m\n\u001b[0;32m--> 232\u001b[0m         result \u001b[39m=\u001b[39m coro\u001b[39m.\u001b[39;49msend(\u001b[39mNone\u001b[39;49;00m)\n\u001b[1;32m    233\u001b[0m     \u001b[39melse\u001b[39;00m:\n\u001b[1;32m    234\u001b[0m         result \u001b[39m=\u001b[39m coro\u001b[39m.\u001b[39mthrow(exc)\n",
      "File \u001b[0;32m~/projects/pytket-quantinuum/.venv/lib/python3.10/site-packages/pytket/extensions/quantinuum/backends/api_wrappers.py:448\u001b[0m, in \u001b[0;36mQuantinuumAPI._wait_results\u001b[0;34m(self, job_id)\u001b[0m\n\u001b[1;32m    442\u001b[0m \u001b[39mexcept\u001b[39;00m (\n\u001b[1;32m    443\u001b[0m     asyncio\u001b[39m.\u001b[39mTimeoutError,\n\u001b[1;32m    444\u001b[0m     exceptions\u001b[39m.\u001b[39mConnectionClosed,\n\u001b[1;32m    445\u001b[0m ):\n\u001b[1;32m    446\u001b[0m     \u001b[39mtry\u001b[39;00m:\n\u001b[1;32m    447\u001b[0m         \u001b[39m# Try to keep the connection alive...\u001b[39;00m\n\u001b[0;32m--> 448\u001b[0m         pong \u001b[39m=\u001b[39m \u001b[39mawait\u001b[39;00m websocket\u001b[39m.\u001b[39mping()\n\u001b[1;32m    449\u001b[0m         \u001b[39mawait\u001b[39;00m asyncio\u001b[39m.\u001b[39mwait_for(pong, timeout\u001b[39m=\u001b[39m\u001b[39m10\u001b[39m)\n\u001b[1;32m    450\u001b[0m         \u001b[39mcontinue\u001b[39;00m\n",
      "File \u001b[0;32m~/projects/pytket-quantinuum/.venv/lib/python3.10/site-packages/websockets/legacy/protocol.py:847\u001b[0m, in \u001b[0;36mWebSocketCommonProtocol.ping\u001b[0;34m(self, data)\u001b[0m\n\u001b[1;32m    808\u001b[0m \u001b[39masync\u001b[39;00m \u001b[39mdef\u001b[39;00m \u001b[39mping\u001b[39m(\u001b[39mself\u001b[39m, data: Optional[Data] \u001b[39m=\u001b[39m \u001b[39mNone\u001b[39;00m) \u001b[39m-\u001b[39m\u001b[39m>\u001b[39m Awaitable[\u001b[39mNone\u001b[39;00m]:\n\u001b[1;32m    809\u001b[0m \u001b[39m    \u001b[39m\u001b[39m\"\"\"\u001b[39;00m\n\u001b[1;32m    810\u001b[0m \u001b[39m    Send a Ping_.\u001b[39;00m\n\u001b[1;32m    811\u001b[0m \n\u001b[0;32m   (...)\u001b[0m\n\u001b[1;32m    845\u001b[0m \n\u001b[1;32m    846\u001b[0m \u001b[39m    \"\"\"\u001b[39;00m\n\u001b[0;32m--> 847\u001b[0m     \u001b[39mawait\u001b[39;00m \u001b[39mself\u001b[39m\u001b[39m.\u001b[39mensure_open()\n\u001b[1;32m    849\u001b[0m     \u001b[39mif\u001b[39;00m data \u001b[39mis\u001b[39;00m \u001b[39mnot\u001b[39;00m \u001b[39mNone\u001b[39;00m:\n\u001b[1;32m    850\u001b[0m         data \u001b[39m=\u001b[39m prepare_ctrl(data)\n",
      "File \u001b[0;32m~/projects/pytket-quantinuum/.venv/lib/python3.10/site-packages/websockets/legacy/protocol.py:939\u001b[0m, in \u001b[0;36mWebSocketCommonProtocol.ensure_open\u001b[0;34m(self)\u001b[0m\n\u001b[1;32m    936\u001b[0m         \u001b[39mreturn\u001b[39;00m\n\u001b[1;32m    938\u001b[0m \u001b[39mif\u001b[39;00m \u001b[39mself\u001b[39m\u001b[39m.\u001b[39mstate \u001b[39mis\u001b[39;00m State\u001b[39m.\u001b[39mCLOSED:\n\u001b[0;32m--> 939\u001b[0m     \u001b[39mraise\u001b[39;00m \u001b[39mself\u001b[39m\u001b[39m.\u001b[39mconnection_closed_exc()\n\u001b[1;32m    941\u001b[0m \u001b[39mif\u001b[39;00m \u001b[39mself\u001b[39m\u001b[39m.\u001b[39mstate \u001b[39mis\u001b[39;00m State\u001b[39m.\u001b[39mCLOSING:\n\u001b[1;32m    942\u001b[0m     \u001b[39m# If we started the closing handshake, wait for its completion to\u001b[39;00m\n\u001b[1;32m    943\u001b[0m     \u001b[39m# get the proper close code and reason. self.close_connection_task\u001b[39;00m\n\u001b[1;32m    944\u001b[0m     \u001b[39m# will complete within 4 or 5 * close_timeout after close(). The\u001b[39;00m\n\u001b[1;32m    945\u001b[0m     \u001b[39m# CLOSING state also occurs when failing the connection. In that\u001b[39;00m\n\u001b[1;32m    946\u001b[0m     \u001b[39m# case self.close_connection_task will complete even faster.\u001b[39;00m\n\u001b[1;32m    947\u001b[0m     \u001b[39mawait\u001b[39;00m asyncio\u001b[39m.\u001b[39mshield(\u001b[39mself\u001b[39m\u001b[39m.\u001b[39mclose_connection_task)\n",
      "\u001b[0;31mConnectionClosedError\u001b[0m: sent 1011 (internal error) keepalive ping timeout; no close frame received"
     ]
    }
   ],
   "source": [
    "result = quantinuum_backend.get_result(handle)\n",
    "print(result.get_distribution())"
   ]
  },
  {
   "cell_type": "markdown",
   "id": "df587fab",
   "metadata": {},
   "source": [
    "#### Arbitrary Angle ZZ Gate - OpType.ZZPhase (Rzz)"
   ]
  },
  {
   "cell_type": "code",
   "execution_count": null,
   "id": "af166650",
   "metadata": {},
   "outputs": [],
   "source": [
    "quantinuum_backend.set_compilation_config_target_2qb_gate(OpType.ZZPhase)"
   ]
  },
  {
   "cell_type": "code",
   "execution_count": null,
   "id": "acad9e53",
   "metadata": {},
   "outputs": [
    {
     "data": {
      "text/plain": [
       "[U3(0.800268, 0.516276, 1.5618) q[0]; U3(2.90919, 0.444819, 1.87851) q[1]; U3(0.834017, 0.231266, 0.933179) q[2]; U3(1.30676, 0.506151, 0.356742) q[3]; U3(2.99557, 0.429204, 1.5708) q[0]; U3(2.99557, 0.429204, 1.5708) q[1]; U3(2.99557, 0.429204, 1.5708) q[2]; U3(2.99557, 0.429204, 1.5708) q[3]; U3(0, 0.429204, 0.712389) q[0]; U3(0.712389, 0, 0.712389) q[1]; U3(1.5708, 0.429204, 1.5708) q[2]; U3(1.5708, 0.429204, 1.5708) q[3]; U3(3.14159, 0.429204, 1.5708) q[0]; CX q[1], q[3]; U3(0.712389, 0, 0.712389) q[0]; U3(2.99557, 0.697067, 1.5708) q[1]; U3(3.14159, 0, 0.14751) q[3]; CX q[0], q[2]; CX q[1], q[3]; U3(2.99557, 0.601965, 1.5708) q[0]; U3(1.5708, 0, 1.5708) q[1]; U3(3.14159, 0, 1.92842) q[2]; U3(0, 0.429204, 0.0334044) q[3]; CX q[0], q[2]; CX q[1], q[3]; U3(1.5708, 0, 1.5708) q[0]; U3(1.5708, 0.429204, 1.5708) q[1]; U3(0, 0.429204, 0.0921141) q[2]; U3(1.5708, 0.429204, 1.5708) q[3]; CX q[0], q[2]; U3(0.802236, 1.74342, 0.729375) q[1]; U3(1.33296, 0.821419, 0.944898) q[3]; U3(3.14159, 0.429204, 1.5708) q[0]; U3(2.40271, 1.30542, 1.41612) q[1]; U3(3.14159, 0.429204, 1.5708) q[2]; U3(0.705322, 0.855322, 0.337803) q[3]; U3(1.5708, 0.429204, 1.5708) q[0]; U3(2.99557, 0.429204, 1.5708) q[1]; U3(0, 0.429204, 0.712389) q[2]; U3(2.99557, 0.429204, 1.5708) q[3]; U3(2.10328, 0.102752, 1.62083) q[0]; U3(0, 0.429204, 0.712389) q[1]; U3(3.14159, 0.429204, 1.5708) q[2]; U3(1.5708, 0.429204, 1.5708) q[3]; U3(2.17083, 1.46059, 1.20243) q[0]; U3(3.14159, 0.429204, 1.5708) q[1]; U3(1.5708, 0.429204, 1.5708) q[2]; U3(2.99557, 0.429204, 1.5708) q[0]; U3(0.712389, 0, 0.712389) q[1]; U3(2.68377, 1.81411, 1.05411) q[2]; U3(0, 0.429204, 0.712389) q[0]; U3(1.72907, 1.32696, 0.897001) q[2]; U3(3.14159, 0.429204, 1.5708) q[0]; U3(2.99557, 0.429204, 1.5708) q[2]; U3(0.712389, 0, 0.712389) q[0]; U3(1.5708, 0.429204, 1.5708) q[2]; CX q[0], q[3]; CX q[1], q[2]; U3(2.99557, 0.773559, 1.5708) q[0]; U3(2.99557, 0.936073, 1.5708) q[1]; U3(3.14159, 0, 0.108926) q[2]; U3(3.14159, 0, 0.0279141) q[3]; CX q[0], q[3]; CX q[1], q[2]; U3(1.5708, 0, 1.5708) q[0]; U3(1.5708, 0, 1.5708) q[1]; U3(0, 0.429204, 0.220003) q[2]; U3(0, 0.429204, 1.78669) q[3]; CX q[0], q[3]; CX q[1], q[2]; U3(0, 0.429204, 0.712389) q[0]; U3(3.14159, 0.429204, 1.5708) q[1]; U3(3.14159, 0.429204, 1.5708) q[2]; U3(3.14159, 0.429204, 1.5708) q[3]; U3(1.5708, 0.429204, 1.5708) q[0]; U3(1.5708, 0.429204, 1.5708) q[1]; U3(0, 0.429204, 0.712389) q[2]; U3(0, 0.429204, 0.712389) q[3]; U3(2.21253, 0.692138, 1.76816) q[0]; U3(1.75975, 1.4306, 0.295924) q[1]; U3(3.14159, 0.429204, 1.5708) q[2]; U3(0, 0.429204, 0.712389) q[3]; U3(0.712077, 0.527242, 1.20829) q[0]; U3(0.867785, 1.43786, 0.895855) q[1]; U3(1.5708, 0.429204, 1.5708) q[2]; U3(1.5708, 0.429204, 1.5708) q[3]; U3(2.99557, 0.429204, 1.5708) q[0]; U3(0, 0.429204, 0.566371) q[1]; U3(1.25418, 0.433206, 1.55921) q[2]; U3(0.548197, 0.00709463, 0.252547) q[3]; U3(0.712389, 0, 0.712389) q[0]; U3(2.99557, 0.429204, 1.5708) q[1]; U3(0.127452, 1.84638, 1.67208) q[2]; U3(2.33264, 0.015238, 1.93402) q[3]; U3(0, 0.429204, 0.566371) q[1]; U3(0, 0.429204, 0.566371) q[2]; U3(2.99557, 0.429204, 1.5708) q[3]; U3(0.712389, 0, 0.712389) q[1]; U3(2.99557, 0.429204, 1.5708) q[2]; U3(1.5708, 0.429204, 1.5708) q[3]; CX q[0], q[3]; U3(0, 0.429204, 0.566371) q[2]; U3(2.99557, 0.961021, 1.5708) q[0]; U3(1.5708, 0.429204, 1.5708) q[2]; U3(3.14159, 0, 1.93747) q[3]; CX q[0], q[3]; CX q[1], q[2]; U3(1.5708, 0, 1.5708) q[0]; U3(2.99557, 0.957509, 1.5708) q[1]; U3(3.14159, 0, 0.443336) q[2]; U3(0, 0.429204, 1.82535) q[3]; CX q[0], q[3]; CX q[1], q[2]; U3(1.5708, 0.429204, 1.5708) q[0]; U3(1.5708, 0, 1.5708) q[1]; U3(0, 0.429204, 0.972375) q[2]; U3(1.5708, 0.429204, 1.5708) q[3]; U3(2.69698, 0.507108, 1.61356) q[0]; CX q[1], q[2]; U3(2.59045, 0.391862, 0.709184) q[3]; U3(1.55387, 1.8723, 1.29114) q[0]; U3(0, 0.429204, 0.712389) q[1]; U3(0, 0.429204, 0.712389) q[2]; U3(2.6015, 0.54545, 1.89418) q[3]; U3(2.99557, 0.429204, 1.5708) q[0]; U3(0, 0.429204, 0.712389) q[1]; U3(0, 0.429204, 0.712389) q[2]; U3(1.5708, 0.429204, 1.5708) q[3]; U3(0, 0.429204, 0.712389) q[0]; U3(0, 0.429204, 0.712389) q[1]; U3(0, 0.429204, 0.712389) q[2]; U3(3.14159, 0.429204, 1.5708) q[0]; U3(3.14159, 0, 0.566371) q[1]; U3(3.14159, 0, 0.566371) q[2]; U3(0.712389, 0, 0.712389) q[0]; U3(3.14159, 0.429204, 1.5708) q[1]; U3(3.14159, 0.429204, 1.5708) q[2]; U3(0, 0.429204, 1.14159) q[1]; U3(0, 0.429204, 1.14159) q[2]; U3(1.5708, 0.429204, 1.5708) q[1]; U3(1.5708, 0.429204, 1.5708) q[2]; U3(0, 0.429204, 1.14159) q[1]; U3(0, 0.429204, 1.14159) q[2]; U3(1.74508, 0.32304, 1.47526) q[1]; U3(2.06846, 0.732299, 1.69266) q[2]; U3(2.56164, 1.97173, 0.306478) q[1]; U3(1.58818, 0.63572, 1.31759) q[2]; U3(0, 0.429204, 0.712389) q[1]; U3(2.99557, 0.429204, 1.5708) q[2]; U3(3.14159, 0.429204, 1.5708) q[1]; U3(1.5708, 0.429204, 1.5708) q[2]; CX q[0], q[2]; U3(0.712389, 0, 0.712389) q[1]; U3(2.99557, 0.935561, 1.5708) q[0]; CX q[1], q[3]; U3(3.14159, 0, 1.81368) q[2]; CX q[0], q[2]; U3(2.99557, 0.489646, 1.5708) q[1]; U3(3.14159, 0, 1.9329) q[3]; U3(1.5708, 0, 1.5708) q[0]; CX q[1], q[3]; U3(0, 0.429204, 1.9062) q[2]; CX q[0], q[2]; U3(1.5708, 0, 1.5708) q[1]; U3(0, 0.429204, 1.98995) q[3]; U3(0, 0.429204, 0.712389) q[0]; CX q[1], q[3]; U3(0, 0.429204, 0.712389) q[2]; U3(0, 0.429204, 0.712389) q[0]; U3(3.14159, 0.429204, 1.5708) q[1]; U3(0, 0.429204, 0.712389) q[2]; U3(3.14159, 0.429204, 1.5708) q[3]; U3(0, 0.429204, 0.712389) q[0]; U3(0.0821495, 0.508749, 0.579305) q[1]; U3(0, 0.429204, 0.712389) q[2]; U3(0, 0.429204, 0.712389) q[3]; Measure q[1] --> c[1]; U3(1.5708, 0.429204, 1.5708) q[0]; U3(3.14159, 0.429204, 1.5708) q[2]; U3(3.14159, 0.429204, 1.5708) q[3]; U3(1.25796, 0.781804, 0.170761) q[0]; U3(0, 0.429204, 0.712389) q[2]; U3(1.61613, 0.127531, 0.103627) q[3]; Measure q[0] --> c[0]; Measure q[3] --> c[3]; U3(1.5708, 0.429204, 1.5708) q[2]; U3(2.21973, 1.54354, 1.25557) q[2]; Measure q[2] --> c[2]; ]"
      ]
     },
     "execution_count": 15,
     "metadata": {},
     "output_type": "execute_result"
    }
   ],
   "source": [
    "qv_circuit_no_SU4 = quantinuum_backend.get_compiled_circuit(circuit, optimisation_level=2)\n",
    "qv_circuit_no_SU4.name = \"QV Example without SU(4)\"\n",
    "print(f\"Number of ZZPhase Gates: {qv_circuit_no_SU4.n_2qb_gates()}\")\n",
    "render_circuit_jupyter(qv_circuit_no_SU4)"
   ]
  },
  {
   "cell_type": "markdown",
   "id": "b7ac403a-1ac6-4b24-9f4e-9d5ff575e423",
   "metadata": {},
   "source": [
    "<div align=\"center\"> &copy; 2024 by Quantinuum. All Rights Reserved. </div>"
   ]
  }
 ],
 "metadata": {
  "interpreter": {
   "hash": "fa09926369ab226b30f0f4d8b39a7b037b96c84df8a0d093a9349ea6fad58125"
  },
  "kernelspec": {
   "display_name": "Python 3 (ipykernel)",
   "language": "python",
   "name": "python3"
  },
  "language_info": {
   "codemirror_mode": {
    "name": "ipython",
    "version": 3
   },
   "file_extension": ".py",
   "mimetype": "text/x-python",
   "name": "python",
   "nbconvert_exporter": "python",
   "pygments_lexer": "ipython3",
   "version": "3.10.12"
  }
 },
 "nbformat": 4,
 "nbformat_minor": 5
}
