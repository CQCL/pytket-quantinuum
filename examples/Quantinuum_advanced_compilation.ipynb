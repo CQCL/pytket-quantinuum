{
 "cells": [
  {
   "cell_type": "markdown",
   "id": "d791c1ee",
   "metadata": {},
   "source": [
    "<div style=\"text-align: center;\">\n",
    "<img src=\"https://assets-global.website-files.com/62b9d45fb3f64842a96c9686/62d84db4aeb2f6552f3a2f78_Quantinuum%20Logo__horizontal%20blue.svg\" width=\"200\" height=\"200\" /></div>"
   ]
  },
  {
   "cell_type": "markdown",
   "id": "7cc7cc2c-704f-4560-81b4-98b4564abf8d",
   "metadata": {},
   "source": [
    "# Advanced Compilation Options with H-Series"
   ]
  },
  {
   "cell_type": "markdown",
   "id": "f7f3e2d2",
   "metadata": {},
   "source": [
    "A general $SU(4)$ entangler gate is available on the H-Series device. This gate is available as `Optype.TK2` via `tket`. This article showcases the workflow to prepare and submit a circuit with the $SU(4)$ gate with a QVT (Quantum Volume Test) use-case.\n",
    "\n",
    "Native gates are gates on a quantum computer that the hardware physically executes. Different quantum computers may have different gates that are physically executed on the hardware. Writing a gate in a quantum circuit submitted to hardware doesn't guarantee its physical execution on the device. For instance, on H-Series quantum computers, a Hadamard gate written in the circuit is not the actual gate executed. When users submit circuits using a Hadamard gate, the gate is translated into a $U1q$ gate followed by a $Rz$ gate, which the ion trap device physically executes. For a listing of the H-Series hardware native gates, see the following links: \n",
    "* *System Model H1 Product Data Sheet* available at [System Model H1](https://www.quantinuum.com/hardware/h1); \n",
    "* *System Model H2 Product Data Sheet* available at [System Model H2](https://www.quantinuum.com/hardware/h2). \n",
    "\n",
    "The H-Series hardware compiler handles the translation from circuits users submit to the native gates run on hardware. In the H-Series Quantum Charge-Coupled Device (QCCD) architecture, the hardware compilation includes the assignment of which physical qubit corresponds to which qubit in a circuit as well as how qubits will be transported around the device. Since transport, as well as gating, incurs a small amount of error with each operation, the H-Series compiler aims to minimize the number of gates that need to be executed. \n",
    "\n",
    "<div style=\"text-align: center;\">\n",
    "         <img src=\"figures/hseries-compilation-stack.png\" width=\"800\" />\n",
    "</div>"
   ]
  },
  {
   "cell_type": "markdown",
   "id": "755ce7b6",
   "metadata": {},
   "source": [
    "**Contents:**\n",
    "* [H-Series Hardware Compilation](#H-Series-Hardware-Compilation)\n",
    "  * [Compiling to H-Series Hardware Native Gates](#Compiling-to-H-Series-Hardware-Native-Gates)\n",
    "  * [The General $SU(4)$ Entangler Gate](#The-General-$SU\\(4\\)$-Entangler-Gate)\n",
    "  * [Quantinuum API Compiler Options](#Quantinuum-API-Compiler-Options)\n",
    "* [Use-Case: Quantum Volume Test](#Use-Case:-Quantum-Volume-Test)\n",
    "  * [Decomposing a random $SU(4)$ unitary into a circuit primitive](#Decomposing-a-random-$SU\\(4\\)$-unitary-into-a-circuit-primitive)\n",
    "  * [Building the Quantum Volume Test Circuit](#Building-the-Quantum-Volume-Test-Circuit)\n",
    "  * [Define Native Two-Qubit Gate to Use With `QuantinuumBackend`](#Define-Native-Two-Qubit-Gate-to-Use-With-QuantinuumBackend)\n",
    "    * [Generalized $SU(4)$ Entangler](#Generalized-$SU\\(4\\)$-Entangler)\n",
    "    * [Arbitrary Angle ZZ Gate](#Arbitrary-Angle-ZZ-Gate)\n",
    "* [Summary](#Summary)"
   ]
  },
  {
   "cell_type": "markdown",
   "id": "2a37a860",
   "metadata": {},
   "source": [
    "## H-Series Hardware Compilation"
   ]
  },
  {
   "cell_type": "markdown",
   "id": "cad1e184",
   "metadata": {},
   "source": [
    "### Compiling to H-Series Hardware Native Gates"
   ]
  },
  {
   "cell_type": "markdown",
   "id": "ca352fad-d574-475a-a6ec-af3cd8fcc288",
   "metadata": {},
   "source": [
    "On the Quantinuum H-Series devices, there are different native two-qubit gates available. The default native two-qubit gates are an arbitrary-angle two-qubit gate, $Rzz(\\theta)$, or a fully entangling two-qubit gate, $ZZ()$. The fully entangling two-qubit gate is equal to, $Rzz(\\frac{\\pi}{2})$. An additional native gate is available, the General $SU(4)$ Entangler gate, $Rxxyyzz(\\alpha, \\beta\\, \\gamma)$. This is available as `OpType.TK2` within `tket`.\n",
    "\n",
    "`tket` by default, compiles to the arbitrary angle two-qubit gate, $Rzz(\\theta)$ gate (`OpType.ZZPhase`). Currently, only one native gate can be specified at a time. This ensures everything aligns in the global operations of the circuit. The other two native gates are `OpType.ZZMax` and `OpType.TK2`.\n",
    "\n",
    "Usage of the general $SU(4)$ entangler gate requires further specification of the default native two-qubit gate via: \n",
    "* `QuantinuumBackendCompilationConfig` option. The `native_2qb_gate` argument needs to be set to `OpType.TK2` to enable use of the SU(4) gate. \n",
    "* `QuantinuumBackend.set_compilation_config_target_2qb_gate` instance method. The argument needs to be `OpType.TK2`.\n",
    "\n",
    "\n",
    "When using `tket`, the following Quantinuum API options are predefined with defaults to prevent further modification of the submitted circuit in the H-Series stack:\n",
    "* `no-reduce`: `True`\n",
    "* `no-opt`: True\n",
    "* `tket-opt-level`: None"
   ]
  },
  {
   "cell_type": "markdown",
   "id": "3f299fe5",
   "metadata": {},
   "source": [
    "\n",
    "<div style=\"text-align: center;\">\n",
    "         <img src=\"figures/hseries-stack-options.png\" width=\"800\" />\n",
    "</div>"
   ]
  },
  {
   "cell_type": "markdown",
   "id": "115d526c",
   "metadata": {},
   "source": [
    "### The General $SU(4)$ Entangler Gate\n",
    "\n",
    "The General $SU(4)$ Entangler gate is available in TKET as [`OpType.TK2`](https://tket.quantinuum.com/api-docs/circuit_class.html#pytket.circuit.Circuit.TK2). This gate is a combination of `OpType.XXPhase`, `OpType.YYPhase` and `OpType.ZZPhase`, and requires three angles as input, $\\alpha$, $\\beta$ and $\\gamma$. The definition of the gate is provided below:\n",
    "\n",
    "$$\\small \\begin{equation} \\textrm{TK2}(\\alpha, \\beta, \\gamma) = \\exp\\left\\{-\\frac{1}{2} i \\alpha (\\hat{X} \\bigotimes \\hat{X}) -\\frac{1}{2} i \\pi \\beta (\\hat{Y} \\bigotimes \\hat{Y}) -\\frac{1}{2} i \\pi \\gamma (\\hat{Z} \\bigotimes \\hat{Z})\\right\\} \\end{equation} \\normalsize$$\n",
    "\n",
    "This gate can be used as follows within TKET."
   ]
  },
  {
   "cell_type": "code",
   "execution_count": null,
   "id": "8314af95",
   "metadata": {},
   "outputs": [],
   "source": [
    "from pytket.circuit.display import render_circuit_jupyter\n",
    "from pytket.circuit import Circuit\n",
    "from sympy import Symbol\n",
    "\n",
    "symbols = [Symbol(\"a\"), Symbol(\"b\"), Symbol(\"c\")]\n",
    "circuit = Circuit(2)\n",
    "circuit.TK2(*symbols, *circuit.qubits)\n",
    "render_circuit_jupyter(circuit)"
   ]
  },
  {
   "cell_type": "markdown",
   "id": "ad806573",
   "metadata": {},
   "source": [
    "This circuit can be converted to a QASM string using the [`circuit_to_qasm_str`](https://tket.quantinuum.com/api-docs/qasm.html#pytket.qasm.circuit_to_qasm_str) function and by specifying the Quantinuum header `hqslib1`."
   ]
  },
  {
   "cell_type": "code",
   "execution_count": null,
   "id": "644ff6a4",
   "metadata": {},
   "outputs": [],
   "source": [
    "from pytket.qasm.qasm import circuit_to_qasm_str\n",
    "\n",
    "print(circuit_to_qasm_str(circuit, header=\"hqslib1\"))"
   ]
  },
  {
   "cell_type": "markdown",
   "id": "2894473d",
   "metadata": {},
   "source": [
    "### Quantum API Compiler Options"
   ]
  },
  {
   "cell_type": "markdown",
   "id": "8b1d7666",
   "metadata": {},
   "source": [
    "The following Quantinuum API options enable circuit compilation in the H-Series stack. They can be defined using the `options` keyword argument in the `QuantinuumBackend` constructor or `process_circuit` (`process_circuits`) instance method.\n",
    "\n",
    "Quantinuum API Options:\n",
    "* `no-reduce`: turns off all `tket` optimizations, all hardware compiler gate combination logic, and requires \n",
    "    exact 1:1 correspondence of two-qubit gates with gates on the system. This requires the circuit be submitted using \n",
    "    one of the native two-qubit gates on the system, otherwise an error will be returned.\n",
    "* `no-opt`: turns off all `tket` optimizations *and* all hardware compiler gate combination logic.\n",
    "    * If more than 1 native gate is used in the circuit, the circuit will be rebased to 1 native gate, but no further gate combination logic will occur.\n",
    "    * The job will fail if `no-opt` is set to `True` and the circuit contains non-native gates. \n",
    "* `tket-opt-level`: the `tket` optimization level to apply, with `tket` optimizations turned on, the hardware compiler will provide further gate combination logic as makes sense for ions and transport.\n",
    "  * `2`: powerful optimizations, compilation can be time-consuming\n",
    "  * `1`: basic optimization, compiles quickly\n",
    "  * `0`: rebase the circuit with `tket`\n",
    "  * `None`: rebase the circuit without `tket`, using the hardware compiler only."
   ]
  },
  {
   "cell_type": "markdown",
   "id": "c9088c9a",
   "metadata": {},
   "source": [
    "## Use-Case: Quantum Volume Test"
   ]
  },
  {
   "cell_type": "markdown",
   "id": "3c79e573-04c6-4142-9eb5-6d74cfb97b24",
   "metadata": {},
   "source": [
    "Now we illustrate the above compilation options using the Quantum Volume Test. \n",
    "\n",
    "Quantum volume is a benchmarking test that was initially proposed by IBM ([arXiv:1811.12926](https://arxiv.org/abs/1811.12926)). It is a test that aims to verify the quality as well as the quantity of qubits on the machine. The test does this by performing rounds of single and two qubit gates between random pairs of qubits for as many rounds as qubits in the test. For example, for quantum volume of $2^N$ where $N=4$, there are 4 layers of repeat operations over 4-qubits. It verifies the quantum computer can perform quality computation with reasonable-sized circuits. The advantage to using quantum volume is that it gives users the confidence that not only do they have the number of qubits to support running their circuit, but the two-qubit gate fidelity meets the threshold to support circuits of significant depth as well. Quantum algorithms need not only qubits, but the ability to run many gates. Quantinuum has steadily been increasing the quantum volume of H-Series machines. \n",
    "\n",
    "The workflow involves specifying the use of the desired native gate both in the `tket` compiler options as well as the hardware options when submitting circuits with `process_circuit`.\n",
    "\n",
    "<div style=\"text-align: center;\">\n",
    "         <img src=\"figures/native-gates-workflow.png\" width=\"300\" />\n",
    "</div>\n",
    "\n",
    "First we import the functions we need in `tket`.   "
   ]
  },
  {
   "cell_type": "code",
   "execution_count": null,
   "id": "c5cd7eda-ed96-4b84-896f-103349601b43",
   "metadata": {},
   "outputs": [],
   "source": [
    "import numpy as np\n",
    "\n",
    "from pytket import Circuit, OpType\n",
    "from pytket.circuit.display import render_circuit_jupyter\n",
    "\n",
    "from pytket.extensions.quantinuum import QuantinuumBackend\n",
    "from pytket.extensions.quantinuum.backends.quantinuum import (\n",
    "    QuantinuumBackendCompilationConfig,\n",
    ")"
   ]
  },
  {
   "cell_type": "markdown",
   "id": "fc930451",
   "metadata": {},
   "source": [
    "### Decomposing a random $SU(4)$ unitary into a circuit primitive\n",
    "\n",
    "To set up the Quantum Volume test, we start by building up the repeated circuit elements. The function in the code cell below defines a `tket` Circuit Box with [`pytket.circuit.CircBox`](https://tket.quantinuum.com/api-docs/circuit.html#pytket.circuit.CircBox). Circuit Boxes are useful for composing larger circuits from smaller subcircuits that utilize the same set of gates.\n",
    "\n",
    "The Circuit box below contains a blueprint for the decomposition of a random generalized $SU(4)$ unitary distributed with the Haar Measure into a circuit primitive over 2-qubits. The implementation is based on [arxiv.0609050](http://arxiv.org/abs/math-ph/0609050). The random $SU(4)$ unitary is generated using [`scipy.stats.unitary_group`](https://docs.scipy.org/doc/scipy/reference/generated/scipy.stats.unitary_group.html#scipy-stats-unitary-group)."
   ]
  },
  {
   "cell_type": "code",
   "execution_count": null,
   "id": "c687d9fc",
   "metadata": {},
   "outputs": [],
   "source": [
    "from pytket.circuit import CircBox, Circuit, Unitary2qBox\n",
    "import numpy as np\n",
    "from scipy.stats import unitary_group\n",
    "\n",
    "\n",
    "def haar_random_su4_box() -> CircBox:\n",
    "    r = unitary_group.rvs(dim=4)\n",
    "    circuit = Circuit(2)\n",
    "    box = Unitary2qBox(r)\n",
    "    circuit.add_unitary2qbox(box, 0, 1)\n",
    "    return CircBox(circuit)"
   ]
  },
  {
   "cell_type": "code",
   "execution_count": null,
   "id": "ec997759",
   "metadata": {},
   "outputs": [],
   "source": [
    "from pytket.circuit.display import render_circuit_jupyter\n",
    "\n",
    "circuit = haar_random_su4_box().get_circuit()\n",
    "render_circuit_jupyter(circuit)"
   ]
  },
  {
   "cell_type": "markdown",
   "id": "407f42d9",
   "metadata": {},
   "source": [
    "In the code-cell below, the CircBox is inspected and further optimisation are applied on the gate. `DecomposeBoxes` simplifies `OpType.CircBox` operations into the underlying gate operations recursively. Further decompositions  are performed with the `KAKDecomposition` function. We specify use of `OpType.TK2` gate in this function call as the target 2-qubit gate after decomposition. \n",
    "\n",
    "The `pytket` sequence pass, consists of two passes:\n",
    "* [`pytket.passes.DecomposeBoxes`](https://tket.quantinuum.com/api-docs/passes.html#pytket.passes.DecomposeBoxes)\n",
    "* [`pytket.passes.KAKDecomposition`](https://tket.quantinuum.com/api-docs/passes.html#pytket.passes.KAKDecomposition)\n",
    "\n",
    "Both passes are arguments to [`pytket.passes.SequencePass`](https://tket.quantinuum.com/api-docs/passes.html#pytket.passes.SequencePass). `SequencePass` allows both passes to be applied to the input circuit with one `apply` call."
   ]
  },
  {
   "cell_type": "code",
   "execution_count": null,
   "id": "ebc9a20f",
   "metadata": {},
   "outputs": [],
   "source": [
    "from pytket.passes import DecomposeBoxes, KAKDecomposition, SequencePass\n",
    "from pytket.circuit import OpType\n",
    "\n",
    "sequence_pass = SequencePass(\n",
    "    [DecomposeBoxes(), KAKDecomposition(target_2qb_gate=OpType.TK2)]\n",
    ")"
   ]
  },
  {
   "cell_type": "code",
   "execution_count": null,
   "id": "15c103e8",
   "metadata": {},
   "outputs": [],
   "source": [
    "sequence_pass.apply(circuit)\n",
    "render_circuit_jupyter(circuit)"
   ]
  },
  {
   "cell_type": "markdown",
   "id": "22f8fccd",
   "metadata": {},
   "source": [
    "### Building the Quantum Volume Test Circuit"
   ]
  },
  {
   "cell_type": "markdown",
   "id": "07a18465",
   "metadata": {},
   "source": [
    "Now we're ready to set up a Quantum Volume test circuit using the Circuit Box we created. The steps to set up the circuit are straightforward using the `CircBox` instances to build up the full circuit."
   ]
  },
  {
   "cell_type": "code",
   "execution_count": null,
   "id": "114c43c8",
   "metadata": {},
   "outputs": [],
   "source": [
    "circuit = Circuit(4)\n",
    "for _ in range(4):\n",
    "    permutation = np.random.permutation(circuit.qubits)\n",
    "    for i in range(0, 4, 2):\n",
    "        box = haar_random_su4_box()\n",
    "        circuit.add_circbox(box, [permutation[i], permutation[i + 1]])\n",
    "circuit.measure_all()"
   ]
  },
  {
   "cell_type": "markdown",
   "id": "528a9178",
   "metadata": {},
   "source": [
    "The `SequencePass` defined in the code cell in the previous subsection is used below on the QVT circuit and we can see the full set of gates in the circuit as well as the result of optimizations performed by `KAKDecomposition`. "
   ]
  },
  {
   "cell_type": "code",
   "execution_count": null,
   "id": "ec391c2d",
   "metadata": {},
   "outputs": [],
   "source": [
    "sequence_pass.apply(circuit)\n",
    "from pytket.circuit.display import render_circuit_jupyter\n",
    "\n",
    "render_circuit_jupyter(circuit)"
   ]
  },
  {
   "cell_type": "markdown",
   "id": "e334f32d",
   "metadata": {},
   "source": [
    "### Define Native Two-Qubit Gate to Use With `QuantinuumBackend`\n",
    "\n",
    "Now that the circuit has been set up, we will demonstrate submission of the circuit for H-Series backends using both the $SU(4)$ (`OpType.TK2`) gate and $Rzz$ (`OpType.ZZPhase`) as the target two-qubit gate."
   ]
  },
  {
   "cell_type": "markdown",
   "id": "63db55fd",
   "metadata": {},
   "source": [
    "#### Generalized $SU(4)$ Entangler"
   ]
  },
  {
   "cell_type": "markdown",
   "id": "d0a1c482",
   "metadata": {},
   "source": [
    "To run a circuit containing the generalized $SU(4)$ gate on H-Series devices, the compilation configuration for the `QuantinuumBackend` needs to have `OpType.TK2` set as the native two-qubit to use by default. This is done using `QuantinuumBackendCompilationConfig` and setting the compilation configuration when intializing `QuantinuumBackend`. By setting `target_2qb_gate`, local tket compilation and submission (for costing and processing) to H-Series with `OpType.TK2` is enabled."
   ]
  },
  {
   "cell_type": "code",
   "execution_count": null,
   "id": "779d01d8",
   "metadata": {},
   "outputs": [],
   "source": [
    "from pytket.extensions.quantinuum import QuantinuumBackend\n",
    "from pytket.extensions.quantinuum.backends.quantinuum import (\n",
    "    QuantinuumBackendCompilationConfig,\n",
    ")\n",
    "\n",
    "from pytket.circuit import OpType\n",
    "\n",
    "compilation_config = QuantinuumBackendCompilationConfig(\n",
    "    allow_implicit_swaps=True, target_2qb_gate=OpType.TK2\n",
    ")\n",
    "\n",
    "quantinuum_backend = QuantinuumBackend(\n",
    "    device_name=\"H1-1E\", compilation_config=compilation_config\n",
    ")\n",
    "quantinuum_backend.login()"
   ]
  },
  {
   "cell_type": "code",
   "execution_count": null,
   "id": "9c6eb047",
   "metadata": {},
   "outputs": [],
   "source": [
    "compilation_config.target_2qb_gate"
   ]
  },
  {
   "cell_type": "code",
   "execution_count": null,
   "id": "0b0e16b8",
   "metadata": {},
   "outputs": [],
   "source": [
    "quantinuum_backend.backend_info.gate_set"
   ]
  },
  {
   "cell_type": "code",
   "execution_count": null,
   "id": "f23f8e6e",
   "metadata": {},
   "outputs": [],
   "source": [
    "qv_circuit_wSU4 = quantinuum_backend.get_compiled_circuit(circuit, optimisation_level=2)\n",
    "qv_circuit_wSU4.name = \"QV Example with SU(4)\"\n",
    "print(f\"Number of SU(4) Gates: {qv_circuit_wSU4.n_2qb_gates()}\")\n",
    "render_circuit_jupyter(qv_circuit_wSU4)"
   ]
  },
  {
   "cell_type": "code",
   "execution_count": null,
   "id": "7530676f",
   "metadata": {},
   "outputs": [],
   "source": [
    "cost = quantinuum_backend.cost(qv_circuit_wSU4, n_shots=100, syntax_checker=\"H1-1SC\")\n",
    "print(f\"SU(4) circuit cost: {cost} HQC\")"
   ]
  },
  {
   "cell_type": "code",
   "execution_count": null,
   "id": "47a4bedb",
   "metadata": {},
   "outputs": [],
   "source": [
    "handle = quantinuum_backend.process_circuit(qv_circuit_wSU4, n_shots=100)"
   ]
  },
  {
   "cell_type": "code",
   "execution_count": null,
   "id": "eb91761a",
   "metadata": {},
   "outputs": [],
   "source": [
    "result = quantinuum_backend.get_result(handle)\n",
    "print(result.get_distribution())"
   ]
  },
  {
   "cell_type": "code",
   "execution_count": null,
   "id": "83e3ea81",
   "metadata": {},
   "outputs": [],
   "source": [
    "handle = quantinuum_backend.process_circuit(circuit, n_shots=100)"
   ]
  },
  {
   "cell_type": "code",
   "execution_count": null,
   "id": "61e44f93",
   "metadata": {},
   "outputs": [],
   "source": [
    "result = quantinuum_backend.get_result(handle)\n",
    "print(result.get_distribution())"
   ]
  },
  {
   "cell_type": "markdown",
   "id": "495dd170",
   "metadata": {},
   "source": [
    "#### Arbitrary Angle ZZ Gate"
   ]
  },
  {
   "cell_type": "markdown",
   "id": "5369eeb6",
   "metadata": {},
   "source": [
    "The default native two-qubit gate can also be changed using [`set_compilation_config_target_2qb_gate`](https://tket.quantinuum.com/extensions/pytket-quantinuum/api.html#pytket.extensions.quantinuum.QuantinuumBackend.set_compilation_config_target_2qb_gate). In the example below, we change to using a different native two-qubit gate, `OpType.ZZPhase` and display the compiled circuit after `tket` compilation."
   ]
  },
  {
   "cell_type": "code",
   "execution_count": null,
   "id": "87a818be",
   "metadata": {},
   "outputs": [],
   "source": [
    "quantinuum_backend.set_compilation_config_target_2qb_gate(OpType.ZZPhase)"
   ]
  },
  {
   "cell_type": "code",
   "execution_count": null,
   "id": "f9f39b9a",
   "metadata": {},
   "outputs": [],
   "source": [
    "qv_circuit_no_SU4 = quantinuum_backend.get_compiled_circuit(\n",
    "    circuit, optimisation_level=2\n",
    ")\n",
    "qv_circuit_no_SU4.name = \"QV Example without SU(4)\"\n",
    "print(f\"Number of ZZPhase Gates: {qv_circuit_no_SU4.n_2qb_gates()}\")\n",
    "render_circuit_jupyter(qv_circuit_no_SU4)"
   ]
  },
  {
   "cell_type": "markdown",
   "id": "b2ada63e",
   "metadata": {},
   "source": [
    "### Summary"
   ]
  },
  {
   "cell_type": "markdown",
   "id": "d4e01af7",
   "metadata": {},
   "source": [
    "`pytket-quantinuum` enables you to change the default native two-qubit gate for H-Series devices and emulators. This can be acheived with the `Quantinuum` API compiler options or with `QuantinuumBackendCompilationConfig` and `QuantinuumBackend.set_compilation_config_target_2qb_gate`.\n",
    "\n",
    "The Quantum Volume Test is one use case where the $SU(4)$ gate (`OpType.TK2`) can be employed. `QuantinuumBackend` can be used to compile circuits to a gatset that uses the $SU(4)$ gate as well as to submit those circuits for processing and costing via the H-Series service."
   ]
  },
  {
   "cell_type": "markdown",
   "id": "ee98b381",
   "metadata": {},
   "source": [
    "<div align=\"center\"> &copy; 2024 by Quantinuum. All Rights Reserved. </div>"
   ]
  }
 ],
 "metadata": {
  "kernelspec": {
   "display_name": "Python 3 (ipykernel)",
   "language": "python",
   "name": "python3"
  },
  "language_info": {
   "codemirror_mode": {
    "name": "ipython",
    "version": 3
   },
   "file_extension": ".py",
   "mimetype": "text/x-python",
   "name": "python",
   "nbconvert_exporter": "python",
   "pygments_lexer": "ipython3",
   "version": "3.10.12"
  },
  "nbTranslate": {
   "displayLangs": [
    "*"
   ],
   "hotkey": "alt-t",
   "langInMainMenu": true,
   "sourceLang": "en",
   "targetLang": "fr",
   "useGoogleTranslate": true
  },
  "vscode": {
   "interpreter": {
    "hash": "6b9472b0f24fab47ade41b906e50eefbfaf5da6c3d6807a4d2286a29be937560"
   }
  }
 },
 "nbformat": 4,
 "nbformat_minor": 5
}
