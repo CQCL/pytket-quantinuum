{
 "cells": [
  {
   "attachments": {},
   "cell_type": "markdown",
   "id": "d791c1ee",
   "metadata": {},
   "source": [
    "<div style=\"text-align: center;\">\n",
    "<img src=\"https://assets-global.website-files.com/62b9d45fb3f64842a96c9686/62d84db4aeb2f6552f3a2f78_Quantinuum%20Logo__horizontal%20blue.svg\" width=\"200\" height=\"200\" /></div>"
   ]
  },
  {
   "attachments": {},
   "cell_type": "markdown",
   "id": "7cc7cc2c-704f-4560-81b4-98b4564abf8d",
   "metadata": {},
   "source": [
    "# Advanced Compilation Options with H-Series\n",
    "\n",
    "* [H-Series Hardware Compilation](#H-Series-Hardware-Compilation)\n",
    "  * [Comnp.np.piling to H-Series Hardware Native Gates](#Comnp.piling-to-H-Series-Hardware-Native-Gates)\n",
    "  * [The General SU(4) Entangler Gate](#The-General-SU(4)-Entangler-Gate)\n",
    "  * [Controlling H-Series Hardware Compiler Optimizations](#Controlling-H-Series-Hardware-Compiler-Optimizations)\n",
    "    * [Circuits written in any gate set](#Circuits-written-in-any-gate-set)\n",
    "    * [Circuits written in the hardware's native gate set](#Circuits-written-in-the-hardware's-native-gate-set)\n",
    "* [Examples](#Examples)\n",
    "    * [1. Benchmarking Circuit in non-native gate set](#1.-Benchmarking-Circuit-in-non-native-gate-set)\n",
    "    * [2. QFT Circuits in native gate set](#2.-QFT-Circuits-in-native-gate-set)\n",
    "    * [3. Circuit using $SU(4)$](#Circuit-using-$SU(4)$)"
   ]
  },
  {
   "attachments": {},
   "cell_type": "markdown",
   "id": "e0df2c73-4ed6-4958-9327-9c7009a497cf",
   "metadata": {},
   "source": [
    "## H-Series Hardware Compilation\n",
    "\n",
    "Native gates are gates on a quantum computer that the hardware physically executes. Different quantum computers may have different gates that are physically executed on the hardware. Writing a gate in a quantum circuit doesn't guarantee its physical execution on the device. For instance, on H-Series quantum computers, a Hadamard gate written in the circuit is not the actual gate executed. When users submit circuits using a Hadamard gate, the gate is translated into a $U1q$ gate followed by a $Rz$ gate, which the ion trap device physically executes. See the *System Model H1 Product Data Sheet* on the [System Model H1](https://www.quantinuum.com/hardware/h1) page or the *System Model H2 Product Data Sheet* on the [System Model H2](https://www.quantinuum.com/hardware/h2) page for a listing of the H-Series hardware native gates. \n",
    "\n",
    "The H-Series hardware compiler handles the translation from circuits users submit to the native gates run on hardware. In the H-Series Quantum Charge-Coupled Device (QCCD) architecture, the hardware compilation includes the assignment of which physical qubit corresponds to which qubit in a circuit as well as how qubits will be transported around the device. Since transport, as well as gating, incurs a small amount of error with each operation, the H-Series compiler aims to minimize the number of gates that need to be executed. \n",
    "\n",
    "<div style=\"text-align: center;\">\r\n",
    "         <img src=\"figureshseries-compilation-stac6.png\" width=\"400\" />\r\n",
    "</div>"
   ]
  },
  {
   "attachments": {},
   "cell_type": "markdown",
   "id": "ca352fad-d574-475a-a6ec-af3cd8fcc288",
   "metadata": {},
   "source": [
    "### Compiling to H-Series Hardware Native Gates\n",
    "\n",
    "On the Quantinuum H-Series devices, there are different native two-qubit gates available. The default native two-qubit gates include a fully entangling two-qubit gate, $ZZ()$, and an arbitrary angle ZZ gate, $Rzz(\\theta)$. Another native gate available on the hardware is the General $SU(4)$ Entangler gate.\n",
    "\n",
    "By default, the hardware compiler compiles to the $ZZ()$ or $Rzz(\\theta)$ gate. Currently, only one native gate can be specified at a time. This ensures everything aligns in the global operations of the circuit. \n",
    "\n",
    "If users would like to use the General $SU(4)$ Entangler gate and not have the circuit rebased to $ZZ()$ or $Rzz(\\theta)$ by the hardware compiler, they need to specify the $SU(4)$ gate using the `nativetq` option. The `nativetq` option is available to override the hardware stack's default two-qubit gate and use the supplied gate instead.\n",
    "\n",
    "* `nativetq`: override the stack's default native two-qubit gate and use the supplied gate as the gate instead\n",
    "  * `ZZ`: compile circuit to the $ZZ$ gate\n",
    "  * `RZZ`: compile circuit to the $Rzz(\\theta)$ gate, known as the `Optype.ZZPhase` gate within `pytket`.\n",
    "  * `Rxxyyzz`: compile circuit to the $SU(4)$ gate, known as `Optype.TK2` within `pytket`."
   ]
  },
  {
   "attachments": {},
   "cell_type": "markdown",
   "id": "115d526c",
   "metadata": {},
   "source": [
    "### The General $SU(4)$ Entangler Gate\n",
    "\n",
    "The General $SU(4)$ Entangler gate, or `Rxxyyzz`, is available in TKET as [`OpType.TK2`](https://tket.quantinuum.com/api-docs/circuit_class.html#pytket.circuit.Circuit.TK2). This gate is a combination of `OpType.XXPhase`, `OpType.YYPhase` and `OpType.ZZPhase`, and requires three angles as input, $\\alpha$, $\\beta$ and $\\gamma$. The definition of the gate is provided below:\n",
    "\n",
    "$$\\begin{equation} \\textrm{TK2}(\\alpha, \\beta, \\gamma) = e^{-\\frac{1}{2} i \\pi \\alpha (\\hat{X} \\bigotimes \\hat{X})} \\quad e^{-\\frac{1}{2} i \\pi \\beta (\\hat{Y} \\bigotimes \\hat{Y})} \\quad e^{-\\frac{1}{2} \\pi \\gamma (\\hat{Z} \\bigotimes \\hat{Z})} = e^{-\\frac{1}{2} i \\alpha (\\hat{X} \\bigotimes \\hat{X}) + \\beta (\\hat{Y} \\bigotimes \\hat{Y}) + \\gamma (\\hat{Z} \\bigotimes \\hat{Z})} \\end{equation} $$\n",
    "\n",
    "This gate can be used as follows within TKET."
   ]
  },
  {
   "cell_type": "code",
   "execution_count": 1,
   "id": "8314af95",
   "metadata": {},
   "outputs": [
    {
     "data": {
      "text/html": [
       "\n",
       "\n",
       "\n",
       "\n",
       "\n",
       "\n",
       "<div style=\"resize: vertical; overflow: auto; height: 400px; display: block\">\n",
       "    <iframe srcdoc=\"\n",
       "&lt;!DOCTYPE html&gt;\n",
       "&lt;html lang=&#34;en&#34;&gt;\n",
       "&lt;head&gt;\n",
       "    &lt;meta charset=&#34;UTF-8&#34;&gt;\n",
       "    &lt;!-- Download Vue 3--&gt;\n",
       "&lt;script type=&#34;application/javascript&#34; src=&#34;https://cdn.jsdelivr.net/npm/vue@3&#34;&gt;&lt;/script&gt;\n",
       "&lt;!-- Download Circuit Renderer with styles --&gt;\n",
       "&lt;script type=&#34;application/javascript&#34; src=&#34;https://unpkg.com/pytket-circuit-renderer@0.7/dist/pytket-circuit-renderer.umd.js&#34;&gt;&lt;/script&gt;\n",
       "&lt;link rel=&#34;stylesheet&#34; href=&#34;https://unpkg.com/pytket-circuit-renderer@0.7/dist/pytket-circuit-renderer.css&#34;&gt;\n",
       "&lt;/head&gt;\n",
       "&lt;body&gt;\n",
       "\n",
       "\n",
       "\n",
       "    &lt;div id=&#34;circuit-display-vue-container-c6d7d3f7-760c-4ad7-89d3-68503918dc77&#34; class=&#34;pytket-circuit-display-container&#34;&gt;\n",
       "        &lt;div style=&#34;display: none&#34;&gt;\n",
       "            &lt;div id=&#34;circuit-json-to-display&#34;&gt;{&#34;bits&#34;: [], &#34;commands&#34;: [{&#34;args&#34;: [[&#34;q&#34;, [0]], [&#34;q&#34;, [1]]], &#34;op&#34;: {&#34;params&#34;: [&#34;a&#34;, &#34;b&#34;, &#34;c&#34;], &#34;type&#34;: &#34;TK2&#34;}}], &#34;created_qubits&#34;: [], &#34;discarded_qubits&#34;: [], &#34;implicit_permutation&#34;: [[[&#34;q&#34;, [0]], [&#34;q&#34;, [0]]], [[&#34;q&#34;, [1]], [&#34;q&#34;, [1]]]], &#34;phase&#34;: &#34;0.0&#34;, &#34;qubits&#34;: [[&#34;q&#34;, [0]], [&#34;q&#34;, [1]]]}&lt;/div&gt;\n",
       "        &lt;/div&gt;\n",
       "        &lt;circuit-display-container\n",
       "                :circuit-element-str=&#34;&#39;#circuit-json-to-display&#39;&#34;\n",
       "                :init-render-options=&#34;initRenderOptions&#34;\n",
       "        &gt;&lt;/circuit-display-container&gt;\n",
       "    &lt;/div&gt;\n",
       "    &lt;script type=&#34;application/javascript&#34;&gt;\n",
       "      const circuitRendererUid = &#34;c6d7d3f7-760c-4ad7-89d3-68503918dc77&#34;;\n",
       "      const displayOptions = JSON.parse(&#39;{}&#39;);\n",
       "\n",
       "      // Script to initialise the circuit renderer app\n",
       "\n",
       "const { createApp } = Vue;\n",
       "const circuitDisplayContainer = window[&#34;pytket-circuit-renderer&#34;].default;\n",
       "// Init variables to be shared between circuit display instances\n",
       "if (typeof window.pytketCircuitDisplays === &#34;undefined&#34;) {\n",
       "    window.pytketCircuitDisplays = {};\n",
       "}\n",
       "// Create the root Vue component\n",
       "const app = createApp({\n",
       "    delimiters: [&#39;[[#&#39;, &#39;#]]&#39;],\n",
       "    components: { circuitDisplayContainer },\n",
       "    data () {\n",
       "      return {\n",
       "        initRenderOptions: displayOptions,\n",
       "      }\n",
       "    }\n",
       "})\n",
       "app.config.unwrapInjectedRef = true;\n",
       "app.mount(&#34;#circuit-display-vue-container-&#34;+circuitRendererUid);\n",
       "window.pytketCircuitDisplays[circuitRendererUid] = app;\n",
       "    &lt;/script&gt;\n",
       "\n",
       "\n",
       "\n",
       "&lt;/body&gt;\n",
       "&lt;/html&gt;\n",
       "\"\n",
       "            width=\"100%\" height=\"100%\"\n",
       "            style=\"border: none; outline: none; overflow: auto\"></iframe>\n",
       "</div>\n",
       "\n"
      ],
      "text/plain": [
       "<IPython.core.display.HTML object>"
      ]
     },
     "metadata": {},
     "output_type": "display_data"
    }
   ],
   "source": [
    "from pytket.circuit.display import render_circuit_jupyter\n",
    "from pytket.circuit import Circuit\n",
    "from sympy import Symbol\n",
    "\n",
    "symbols = [Symbol(\"a\"), Symbol(\"b\"), Symbol(\"c\")]\n",
    "circuit = Circuit(2)\n",
    "circuit.TK2(*symbols, *circuit.qubits)\n",
    "render_circuit_jupyter(circuit)"
   ]
  },
  {
   "attachments": {},
   "cell_type": "markdown",
   "id": "ad806573",
   "metadata": {},
   "source": [
    "This circuit can be converted to a QASM string using the [`circuit_to_qasm_str`](https://tket.quantinuum.com/api-docs/qasm.html#pytket.qasm.circuit_to_qasm_str) function and by specifying the Quantinuum header `hqslib1`."
   ]
  },
  {
   "cell_type": "code",
   "execution_count": 2,
   "id": "644ff6a4",
   "metadata": {},
   "outputs": [
    {
     "name": "stdout",
     "output_type": "stream",
     "text": [
      "OPENQASM 2.0;\n",
      "include \"hqslib1.inc\";\n",
      "\n",
      "qreg q[2];\n",
      "Rxxyyzz((a)*pi,(b)*pi,(c)*pi) q[0],q[1];\n",
      "\n"
     ]
    }
   ],
   "source": [
    "from pytket.qasm.qasm import circuit_to_qasm_str\n",
    "\n",
    "print(circuit_to_qasm_str(circuit, header=\"hqslib1\"))"
   ]
  },
  {
   "attachments": {},
   "cell_type": "markdown",
   "id": "e84f63cb-dcc8-4b60-9039-cb9ad343e039",
   "metadata": {},
   "source": [
    "### Controlling H-Series Hardware Compiler Optimizations\n",
    "\n",
    "Users have the option of submitting circuits using whichever quantum gate set they desire. Users do not need to think about which physical gates will be executed or how physical qubits will move around the device since the hardware compiler manages this. In certain cases, however, users may want to know that the circuit they submit is going to be run on the device exactly as they write it. For example, when running benchmarking circuits users may want circuits to be executed exactly as specified in the circuit even if its not the most optimal in total number of two-qubit gates. \n",
    "\n",
    "Within the Quantinuum stack, the ability to control levels of TKET optimizations and control over what is executed on the hardware is provided between 4 different job submission parameters in the API.\n",
    "\n",
    "There are two ways to think about using these options:\n",
    "1. [Circuits written in any gate set](#Circuits-written-in-any-gate-set)\n",
    "2. [Circuits written in the hardware's native gate set](#Circuits-written-in-the-hardware's-native-gate-set)"
   ]
  },
  {
   "attachments": {},
   "cell_type": "markdown",
   "id": "590f80a9-b75c-49d5-b302-db46fabb16bb",
   "metadata": {},
   "source": [
    "#### Circuits written in any gate set\n",
    "\n",
    "Users are free to submit circuits written with any gate set, not just the native gate set of the hardware. In this case, the options for control over what optimizations are applied are given at the TKET level. TKET will rebase the circuit to the native gate set it believes is most optimal and the hardware compiler will handle further optimizations of gate combinations as it applies to transport and ion assignment. **We recommend this for the majority of use cases.**\n",
    "\n",
    "* `tket-opt-level`: the `tket` optimization level to apply (default: `2`), with `tket` optimizations turned on, the hardware compiler will provide further gate combination logic as makes sense for ions and transport\n",
    "  * `2`: powerful optimizations, can use approximate methods, compilation can be expensive\n",
    "  * `1`: basic optimization, compiles quickly\n",
    "  * `0`: rebase the circuit with `tket`\n",
    "  * `null`: rebase the circuit without `tket`, using the hardware compiler only"
   ]
  },
  {
   "attachments": {},
   "cell_type": "markdown",
   "id": "ec5d9cba-e47b-4721-a8fe-664c137e94eb",
   "metadata": {},
   "source": [
    "#### Circuits written in the hardware's native gate set\n",
    "\n",
    "For circuits that are written only using gates in the hardware's native gate set, various levels of control are provided for what optimizations will be performed in the stack.\n",
    "\n",
    "Users may still choose to apply `tket` optimizations specified above to their circuit and control this with `tket-opt-level`, even if the circuit is written in the native gate set since further reductions in the number of quantum gates may be found, which will improve results. \n",
    "\n",
    "To use the native gates and circuit as the user submits it `tket-opt-level` must be set to `null` when submitting and the following options must be used.\n",
    "\n",
    "* `no-opt`: turns off all `tket` optimizations *and* all hardware compiler gate combination logic. (default: `False`)\n",
    "    * If more than 1 native gate is used in the circuit, the circuit will be rebased to 1 native gate, but no further gate combination logic will occur.\n",
    "    * The job will fail if `no-opt` is set to `True` and the circuit contains non-native gates. \n",
    "* `noreduce`: turns off all `tket` optimizations, all hardware compiler gate combination logic, and requires exact 1:1 correspondence of two-qubit gates with gates on the system. This requires the circuit be submitted using one of the native two-qubit gates on the system, otherwise an error will be returned. (default: `False`)\n",
    "\n",
    "Note that `tket-opt-level` set to `null`, `no-opt` set to `True`, and `noreduce` set to `True` all disable `tket` optimizations, but `no-opt` and `noreduce` also turn off all hardware gate combination logic.\n",
    "\n",
    "**Create plot of quantum circuit -> tket opt or no-opt or nativetq or noreduce**"
   ]
  },
  {
   "attachments": {},
   "cell_type": "markdown",
   "id": "3c79e573-04c6-4142-9eb5-6d74cfb97b24",
   "metadata": {},
   "source": [
    "## Examples\n",
    "\n",
    "Now we illustrate the above options with a few examples. First we import the functions we need in `pytket`.   "
   ]
  },
  {
   "cell_type": "code",
   "execution_count": 3,
   "id": "c5cd7eda-ed96-4b84-896f-103349601b43",
   "metadata": {},
   "outputs": [],
   "source": [
    "import numpy as np\n",
    "import pandas as pd\n",
    "\n",
    "from pytket import Circuit\n",
    "from pytket.circuit.display import render_circuit_jupyter\n",
    "\n",
    "from pytket.extensions.quantinuum import QuantinuumBackend"
   ]
  },
  {
   "cell_type": "code",
   "execution_count": 4,
   "id": "03d340da",
   "metadata": {},
   "outputs": [],
   "source": [
    "from pytket.qasm.qasm import circuit_to_qasm_str, circuit_from_qasm, circuit_from_qasm_str"
   ]
  },
  {
   "attachments": {},
   "cell_type": "markdown",
   "id": "afb64b66",
   "metadata": {},
   "source": [
    "### Define default native two-qubit gate with `QuantinuumBackend`"
   ]
  },
  {
   "attachments": {},
   "cell_type": "markdown",
   "id": "a4ee2e3f",
   "metadata": {},
   "source": []
  },
  {
   "cell_type": "code",
   "execution_count": 22,
   "id": "b8243f95",
   "metadata": {},
   "outputs": [
    {
     "data": {
      "text/plain": [
       "<OpType.TK2: 41>"
      ]
     },
     "execution_count": 22,
     "metadata": {},
     "output_type": "execute_result"
    }
   ],
   "source": [
    "from pytket.extensions.quantinuum import QuantinuumBackend\n",
    "from pytket.extensions.quantinuum.backends.quantinuum import QuantinuumBackendCompilationConfig\n",
    "\n",
    "from pytket.circuit import OpType\n",
    "\n",
    "compilation_config = QuantinuumBackendCompilationConfig(allow_implicit_swaps=True, target_2qb_gate=OpType.TK2)\n",
    "compilation_config.target_2qb_gate"
   ]
  },
  {
   "cell_type": "code",
   "execution_count": 23,
   "id": "3c729a6f",
   "metadata": {},
   "outputs": [],
   "source": [
    "quantinuum_backend = QuantinuumBackend(device_name=\"H1-1E\", compilation_config=compilation_config, options={\"tket-op-level\": None})\n",
    "quantinuum_backend.login()"
   ]
  },
  {
   "cell_type": "markdown",
   "id": "23000d21-7f61-475b-a5f4-ddf2f5cdf0c5",
   "metadata": {},
   "source": [
    "### Quantum Volume Circuits with and without the General $SU(4)$ Entangler\n",
    "\n",
    "Quantum volume is a benchmarking test that was initially proposed by IBM [TODO: insert reference]. It is a test that aims to verify the quality as well as the quantity of qubits on the machine. The test does this by peforming rounds of single and two qubit gates between random pairs of qubits for as many rounds as qubits in the test. For example, for quantum volume of 2^N where N=4, 4 random rounds of gates are performed. If the quantum computer performing the test passes, it verifies that the quantum computer can perform quality computation with equal depth as width of the circuit. The advantage to using quantum volume is that it gives users the confidence that not only do they have the number of qubits to support running their circuit, but the two-qubit gate fidelity is there to support circuits of significant depth as well. Quantum algorithms need not only qubits, but the ability to run many gates consecutively as well. Quantinuum has steadily been increasing the quantum volume of H-Series machines. "
   ]
  },
  {
   "cell_type": "code",
   "execution_count": 24,
   "id": "c687d9fc",
   "metadata": {},
   "outputs": [
    {
     "data": {
      "text/plain": [
       "[U3(2.1992, 1.94333, 1.11126) q[0]; U3(3.18803, 1.70188, 1.85022) q[1]; U3(2.82499, 1.03341, 0.377709) q[2]; U3(3.48262, 1.70021, 1.2128) q[3]; TK2(1.17719, 0.786829, 0.521318) q[0], q[2]; TK2(1.27229, 1.00592, 0.462608) q[1], q[3]; U3(0.307538, 1.34563, 1.27589) q[0]; U3(1.60448, 1.40717, 1.78363) q[1]; U3(3.22217, 0.180014, 0.30165) q[2]; U3(3.10781, 0.175801, 1.83296) q[3]; TK2(1.38091, 1.03496, 0.706343) q[0], q[3]; TK2(0.966402, 0.782345, 0.384476) q[1], q[2]; U3(1.50289, 1.31867, 0.0575445) q[0]; U3(2.61667, 0.0711633, 0.943708) q[1]; U3(2.88894, 0.846843, 1.98687) q[2]; U3(2.41066, 1.41513, 0.252315) q[3]; TK2(1.51078, 0.672082, 0.335401) q[0], q[2]; TK2(1.06487, 0.791308, 0.419155) q[1], q[3]; U3(3.89875, 1.36347, 1.66183) q[0]; U3(3.22374, 0.508749, 1.12866) q[1]; U3(2.46428, 0.935502, 0.364839) q[2]; U3(3.89931, 0.127531, 1.5284) q[3]; Measure q[0] --> c[0]; Measure q[1] --> c[1]; Measure q[2] --> c[2]; Measure q[3] --> c[3]; ]"
      ]
     },
     "execution_count": 24,
     "metadata": {},
     "output_type": "execute_result"
    }
   ],
   "source": [
    "qv_circuit_wSU4 = Circuit(4, name=\"QV Example with SU(4)\")\n",
    "\n",
    "# Round 1\n",
    "qv_circuit_wSU4.U3(3.2465066100946998*np.pi, 2.5284408131911524*np.pi, 4.1734440424380335*np.pi, 0)\n",
    "qv_circuit_wSU4.U3(3.56126038967905*np.pi, 0.5417259593027202*np.pi, 0.5889430256705375*np.pi, 1)\n",
    "qv_circuit_wSU4.U3(3.4457004625001506*np.pi, 2.238803660106308*np.pi, 2.666707582855283*np.pi, 2)\n",
    "qv_circuit_wSU4.U3(3.6550299908952426*np.pi, -0.09542555037191236*np.pi, 2.2959051047685524*np.pi, 3)\n",
    "\n",
    "qv_circuit_wSU4.TK2(0.3747103659393297*np.pi, 0.25045542681642363*np.pi, 0.16594061155215553*np.pi, 0, 2)\n",
    "qv_circuit_wSU4.TK2(0.4049821668324701*np.pi, 0.3201934298378358*np.pi, 0.14725271101077092*np.pi, 1, 3)\n",
    "\n",
    "# Round 2\n",
    "qv_circuit_wSU4.U3(3.9176110504261077*np.pi, 2.9748059513568568*np.pi, 3.5892285844018543*np.pi, 0)\n",
    "qv_circuit_wSU4.U3(3.057201228666834*np.pi, 2.3577755337975868*np.pi, 3.7508467917045114*np.pi, 1)\n",
    "qv_circuit_wSU4.U3(3.5721279036823654*np.pi, 0.05730037730060722*np.pi, 3.2791170965521705*np.pi, 2)\n",
    "qv_circuit_wSU4.U3(3.535724388746909*np.pi, 0.05595930815342476*np.pi, 3.1299299416986477*np.pi, 3)\n",
    "\n",
    "qv_circuit_wSU4.TK2(0.43955814978837976*np.pi, 0.3294379018024353*np.pi, 0.22483582064207827*np.pi, 0, 3)\n",
    "qv_circuit_wSU4.TK2(0.30761522377699807*np.pi, 0.24902805179116916*np.pi, 3.9421010293613925*np.pi, 1, 2)\n",
    "\n",
    "# Round 3\n",
    "qv_circuit_wSU4.U3(3.024862371165571*np.pi, 2.3296051463212555*np.pi, 4.47465538899325*np.pi, 0)\n",
    "qv_circuit_wSU4.U3(3.3793899755344796*np.pi, 1.2958915291565876*np.pi, 0.9370112066521646*np.pi, 1)\n",
    "qv_circuit_wSU4.U3(3.466056716208809*np.pi, 3.4526574409721653*np.pi, 1.2690606129862783*np.pi, 2)\n",
    "qv_circuit_wSU4.U3(3.3138153252630116*np.pi, 2.996929687445126*np.pi, 3.2634131850838957*np.pi, 3)\n",
    "\n",
    "qv_circuit_wSU4.TK2(0.48089722439645044*np.pi, 0.21393048476072266*np.pi, 3.92648010233256*np.pi, 0, 2)\n",
    "qv_circuit_wSU4.TK2(0.33895792181776946*np.pi, 0.2518811716342433*np.pi, 0.13342119970597022*np.pi, 1, 3)\n",
    "\n",
    "# Round 4\n",
    "qv_circuit_wSU4.U3(3.787489505597836*np.pi, -0.2026128585756619*np.pi, 1.1655980797683991*np.pi, 0)\n",
    "qv_circuit_wSU4.U3(1.0261490063596848*np.pi, 0.16193977105724777*np.pi, 1.6325026187234268*np.pi, 1)\n",
    "qv_circuit_wSU4.U3(3.330882266512557*np.pi, 2.2076389369717675*np.pi, 0.752751605442116*np.pi, 2)\n",
    "qv_circuit_wSU4.U3(2.5144296195023776*np.pi, 0.04059434060036249*np.pi, 4.306225020434145*np.pi, 3)\n",
    "qv_circuit_wSU4.measure_all()"
   ]
  },
  {
   "cell_type": "code",
   "execution_count": 28,
   "id": "71f05c7e",
   "metadata": {},
   "outputs": [
    {
     "name": "stdout",
     "output_type": "stream",
     "text": [
      "Number of TK2 (Rxxyyzz) Gates: 18\n"
     ]
    },
    {
     "data": {
      "text/html": [
       "\n",
       "\n",
       "\n",
       "\n",
       "\n",
       "\n",
       "<div style=\"resize: vertical; overflow: auto; height: 400px; display: block\">\n",
       "    <iframe srcdoc=\"\n",
       "&lt;!DOCTYPE html&gt;\n",
       "&lt;html lang=&#34;en&#34;&gt;\n",
       "&lt;head&gt;\n",
       "    &lt;meta charset=&#34;UTF-8&#34;&gt;\n",
       "    &lt;!-- Download Vue 3--&gt;\n",
       "&lt;script type=&#34;application/javascript&#34; src=&#34;https://cdn.jsdelivr.net/npm/vue@3&#34;&gt;&lt;/script&gt;\n",
       "&lt;!-- Download Circuit Renderer with styles --&gt;\n",
       "&lt;script type=&#34;application/javascript&#34; src=&#34;https://unpkg.com/pytket-circuit-renderer@0.7/dist/pytket-circuit-renderer.umd.js&#34;&gt;&lt;/script&gt;\n",
       "&lt;link rel=&#34;stylesheet&#34; href=&#34;https://unpkg.com/pytket-circuit-renderer@0.7/dist/pytket-circuit-renderer.css&#34;&gt;\n",
       "&lt;/head&gt;\n",
       "&lt;body&gt;\n",
       "\n",
       "\n",
       "\n",
       "    &lt;div id=&#34;circuit-display-vue-container-7bfee155-eb7f-4407-8751-bfa2da6cb810&#34; class=&#34;pytket-circuit-display-container&#34;&gt;\n",
       "        &lt;div style=&#34;display: none&#34;&gt;\n",
       "            &lt;div id=&#34;circuit-json-to-display&#34;&gt;{&#34;bits&#34;: [[&#34;c&#34;, [0]], [&#34;c&#34;, [1]], [&#34;c&#34;, [2]], [&#34;c&#34;, [3]]], &#34;commands&#34;: [{&#34;args&#34;: [[&#34;q&#34;, [0]]], &#34;op&#34;: {&#34;params&#34;: [&#34;0.800798683895789&#34;, &#34;-1.61126114389141&#34;], &#34;type&#34;: &#34;PhasedX&#34;}}, {&#34;args&#34;: [[&#34;q&#34;, [1]]], &#34;op&#34;: {&#34;params&#34;: [&#34;0.811970522263972&#34;, &#34;-0.350219082829505&#34;], &#34;type&#34;: &#34;PhasedX&#34;}}, {&#34;args&#34;: [[&#34;q&#34;, [2]]], &#34;op&#34;: {&#34;params&#34;: [&#34;0.824987259461425&#34;, &#34;-1.87770895157035&#34;], &#34;type&#34;: &#34;PhasedX&#34;}}, {&#34;args&#34;: [[&#34;q&#34;, [3]]], &#34;op&#34;: {&#34;params&#34;: [&#34;0.517384631953136&#34;, &#34;0.287201389519812&#34;], &#34;type&#34;: &#34;PhasedX&#34;}}, {&#34;args&#34;: [[&#34;q&#34;, [0]], [&#34;q&#34;, [2]]], &#34;op&#34;: {&#34;params&#34;: [&#34;0&#34;, &#34;0&#34;, &#34;0.478682193815551&#34;], &#34;type&#34;: &#34;TK2&#34;}}, {&#34;args&#34;: [[&#34;q&#34;, [1]], [&#34;q&#34;, [3]]], &#34;op&#34;: {&#34;params&#34;: [&#34;0&#34;, &#34;0&#34;, &#34;0.462608035132619&#34;], &#34;type&#34;: &#34;TK2&#34;}}, {&#34;args&#34;: [[&#34;q&#34;, [0]]], &#34;op&#34;: {&#34;params&#34;: [&#34;0.5&#34;, &#34;-2.16793006013349&#34;], &#34;type&#34;: &#34;PhasedX&#34;}}, {&#34;args&#34;: [[&#34;q&#34;, [1]]], &#34;op&#34;: {&#34;params&#34;: [&#34;0.5&#34;, &#34;-0.0521013768338126&#34;], &#34;type&#34;: &#34;PhasedX&#34;}}, {&#34;args&#34;: [[&#34;q&#34;, [2]]], &#34;op&#34;: {&#34;params&#34;: [&#34;0.5&#34;, &#34;-1.41111808299027&#34;], &#34;type&#34;: &#34;PhasedX&#34;}}, {&#34;args&#34;: [[&#34;q&#34;, [3]]], &#34;op&#34;: {&#34;params&#34;: [&#34;0.5&#34;, &#34;0.586989597532975&#34;], &#34;type&#34;: &#34;PhasedX&#34;}}, {&#34;args&#34;: [[&#34;q&#34;, [0]], [&#34;q&#34;, [2]]], &#34;op&#34;: {&#34;params&#34;: [&#34;0&#34;, &#34;0&#34;, &#34;0.213171071061828&#34;], &#34;type&#34;: &#34;TK2&#34;}}, {&#34;args&#34;: [[&#34;q&#34;, [1]], [&#34;q&#34;, [3]]], &#34;op&#34;: {&#34;params&#34;: [&#34;0&#34;, &#34;0&#34;, &#34;0.272289000155764&#34;], &#34;type&#34;: &#34;TK2&#34;}}, {&#34;args&#34;: [[&#34;q&#34;, [0]]], &#34;op&#34;: {&#34;params&#34;: [&#34;1/2&#34;, &#34;-2.66793006013349&#34;], &#34;type&#34;: &#34;PhasedX&#34;}}, {&#34;args&#34;: [[&#34;q&#34;, [1]]], &#34;op&#34;: {&#34;params&#34;: [&#34;1/2&#34;, &#34;-0.552101376833813&#34;], &#34;type&#34;: &#34;PhasedX&#34;}}, {&#34;args&#34;: [[&#34;q&#34;, [2]]], &#34;op&#34;: {&#34;params&#34;: [&#34;1/2&#34;, &#34;-1.91111808299027&#34;], &#34;type&#34;: &#34;PhasedX&#34;}}, {&#34;args&#34;: [[&#34;q&#34;, [3]]], &#34;op&#34;: {&#34;params&#34;: [&#34;1/2&#34;, &#34;0.0869895975329749&#34;], &#34;type&#34;: &#34;PhasedX&#34;}}, {&#34;args&#34;: [[&#34;q&#34;, [0]], [&#34;q&#34;, [2]]], &#34;op&#34;: {&#34;params&#34;: [&#34;0&#34;, &#34;0&#34;, &#34;0.177187332858942&#34;], &#34;type&#34;: &#34;TK2&#34;}}, {&#34;args&#34;: [[&#34;q&#34;, [1]], [&#34;q&#34;, [3]]], &#34;op&#34;: {&#34;params&#34;: [&#34;0&#34;, &#34;0&#34;, &#34;0.00591732690626436&#34;], &#34;type&#34;: &#34;TK2&#34;}}, {&#34;args&#34;: [[&#34;q&#34;, [0]]], &#34;op&#34;: {&#34;params&#34;: [&#34;0.667693377498065&#34;, &#34;-3.52159747127792&#34;], &#34;type&#34;: &#34;PhasedX&#34;}}, {&#34;args&#34;: [[&#34;q&#34;, [1]]], &#34;op&#34;: {&#34;params&#34;: [&#34;0.297140067357132&#34;, &#34;-0.683477186047753&#34;], &#34;type&#34;: &#34;PhasedX&#34;}}, {&#34;args&#34;: [[&#34;q&#34;, [2]]], &#34;op&#34;: {&#34;params&#34;: [&#34;0.377626278921247&#34;, &#34;-3.60145984791192&#34;], &#34;type&#34;: &#34;PhasedX&#34;}}, {&#34;args&#34;: [[&#34;q&#34;, [3]]], &#34;op&#34;: {&#34;params&#34;: [&#34;0.827264643904582&#34;, &#34;-1.09750975368872&#34;], &#34;type&#34;: &#34;PhasedX&#34;}}, {&#34;args&#34;: [[&#34;q&#34;, [0]], [&#34;q&#34;, [3]]], &#34;op&#34;: {&#34;params&#34;: [&#34;0&#34;, &#34;0&#34;, &#34;0.380912654200696&#34;], &#34;type&#34;: &#34;TK2&#34;}}, {&#34;args&#34;: [[&#34;q&#34;, [1]], [&#34;q&#34;, [2]]], &#34;op&#34;: {&#34;params&#34;: [&#34;0&#34;, &#34;0&#34;, &#34;0.38447563355051&#34;], &#34;type&#34;: &#34;TK2&#34;}}, {&#34;args&#34;: [[&#34;q&#34;, [0]]], &#34;op&#34;: {&#34;params&#34;: [&#34;0.5&#34;, &#34;-4.23287882710935&#34;], &#34;type&#34;: &#34;PhasedX&#34;}}, {&#34;args&#34;: [[&#34;q&#34;, [1]]], &#34;op&#34;: {&#34;params&#34;: [&#34;0.5&#34;, &#34;-1.00951511705889&#34;], &#34;type&#34;: &#34;PhasedX&#34;}}, {&#34;args&#34;: [[&#34;q&#34;, [2]]], &#34;op&#34;: {&#34;params&#34;: [&#34;0.5&#34;, &#34;-3.94167928350932&#34;], &#34;type&#34;: &#34;PhasedX&#34;}}, {&#34;args&#34;: [[&#34;q&#34;, [3]]], &#34;op&#34;: {&#34;params&#34;: [&#34;0.5&#34;, &#34;-0.701974223335991&#34;], &#34;type&#34;: &#34;PhasedX&#34;}}, {&#34;args&#34;: [[&#34;q&#34;, [0]], [&#34;q&#34;, [3]]], &#34;op&#34;: {&#34;params&#34;: [&#34;0&#34;, &#34;0&#34;, &#34;0.293657437607015&#34;], &#34;type&#34;: &#34;TK2&#34;}}, {&#34;args&#34;: [[&#34;q&#34;, [1]], [&#34;q&#34;, [2]]], &#34;op&#34;: {&#34;params&#34;: [&#34;0&#34;, &#34;0&#34;, &#34;0.217655301955084&#34;], &#34;type&#34;: &#34;TK2&#34;}}, {&#34;args&#34;: [[&#34;q&#34;, [0]]], &#34;op&#34;: {&#34;params&#34;: [&#34;1/2&#34;, &#34;-4.73287882710935&#34;], &#34;type&#34;: &#34;PhasedX&#34;}}, {&#34;args&#34;: [[&#34;q&#34;, [1]]], &#34;op&#34;: {&#34;params&#34;: [&#34;1/2&#34;, &#34;-1.50951511705889&#34;], &#34;type&#34;: &#34;PhasedX&#34;}}, {&#34;args&#34;: [[&#34;q&#34;, [2]]], &#34;op&#34;: {&#34;params&#34;: [&#34;1/2&#34;, &#34;-4.44167928350932&#34;], &#34;type&#34;: &#34;PhasedX&#34;}}, {&#34;args&#34;: [[&#34;q&#34;, [3]]], &#34;op&#34;: {&#34;params&#34;: [&#34;1/2&#34;, &#34;-1.20197422333599&#34;], &#34;type&#34;: &#34;PhasedX&#34;}}, {&#34;args&#34;: [[&#34;q&#34;, [0]], [&#34;q&#34;, [3]]], &#34;op&#34;: {&#34;params&#34;: [&#34;0&#34;, &#34;0&#34;, &#34;-0.034959692116566&#34;], &#34;type&#34;: &#34;TK2&#34;}}, {&#34;args&#34;: [[&#34;q&#34;, [1]], [&#34;q&#34;, [2]]], &#34;op&#34;: {&#34;params&#34;: [&#34;0&#34;, &#34;0&#34;, &#34;0.0335982728498026&#34;], &#34;type&#34;: &#34;TK2&#34;}}, {&#34;args&#34;: [[&#34;q&#34;, [0]]], &#34;op&#34;: {&#34;params&#34;: [&#34;0.811225486685982&#34;, &#34;-6.64839931815597&#34;], &#34;type&#34;: &#34;PhasedX&#34;}}, {&#34;args&#34;: [[&#34;q&#34;, [1]]], &#34;op&#34;: {&#34;params&#34;: [&#34;0.128982532094089&#34;, &#34;-0.146305759434243&#34;], &#34;type&#34;: &#34;PhasedX&#34;}}, {&#34;args&#34;: [[&#34;q&#34;, [2]]], &#34;op&#34;: {&#34;params&#34;: [&#34;0.175740920278596&#34;, &#34;-6.24558143375821&#34;], &#34;type&#34;: &#34;PhasedX&#34;}}, {&#34;args&#34;: [[&#34;q&#34;, [3]]], &#34;op&#34;: {&#34;params&#34;: [&#34;0.260081864632104&#34;, &#34;-1.82601758480228&#34;], &#34;type&#34;: &#34;PhasedX&#34;}}, {&#34;args&#34;: [[&#34;q&#34;, [0]], [&#34;q&#34;, [2]]], &#34;op&#34;: {&#34;params&#34;: [&#34;0&#34;, &#34;0&#34;, &#34;0.489216812704389&#34;], &#34;type&#34;: &#34;TK2&#34;}}, {&#34;args&#34;: [[&#34;q&#34;, [1]], [&#34;q&#34;, [3]]], &#34;op&#34;: {&#34;params&#34;: [&#34;0&#34;, &#34;0&#34;, &#34;0.419155060829413&#34;], &#34;type&#34;: &#34;TK2&#34;}}, {&#34;args&#34;: [[&#34;q&#34;, [0]]], &#34;op&#34;: {&#34;params&#34;: [&#34;0.5&#34;, &#34;-7.04414845889373&#34;], &#34;type&#34;: &#34;PhasedX&#34;}}, {&#34;args&#34;: [[&#34;q&#34;, [1]]], &#34;op&#34;: {&#34;params&#34;: [&#34;0.5&#34;, &#34;-1.42789227457872&#34;], &#34;type&#34;: &#34;PhasedX&#34;}}, {&#34;args&#34;: [[&#34;q&#34;, [2]]], &#34;op&#34;: {&#34;params&#34;: [&#34;0.5&#34;, &#34;-5.97134826384363&#34;], &#34;type&#34;: &#34;PhasedX&#34;}}, {&#34;args&#34;: [[&#34;q&#34;, [3]]], &#34;op&#34;: {&#34;params&#34;: [&#34;0.5&#34;, &#34;-2.32366984086709&#34;], &#34;type&#34;: &#34;PhasedX&#34;}}, {&#34;args&#34;: [[&#34;q&#34;, [0]], [&#34;q&#34;, [2]]], &#34;op&#34;: {&#34;params&#34;: [&#34;0&#34;, &#34;0&#34;, &#34;0.335401043954469&#34;], &#34;type&#34;: &#34;TK2&#34;}}, {&#34;args&#34;: [[&#34;q&#34;, [1]], [&#34;q&#34;, [3]]], &#34;op&#34;: {&#34;params&#34;: [&#34;0&#34;, &#34;0&#34;, &#34;0.208691961616271&#34;], &#34;type&#34;: &#34;TK2&#34;}}, {&#34;args&#34;: [[&#34;q&#34;, [0]]], &#34;op&#34;: {&#34;params&#34;: [&#34;1/2&#34;, &#34;-7.54414845889373&#34;], &#34;type&#34;: &#34;PhasedX&#34;}}, {&#34;args&#34;: [[&#34;q&#34;, [1]]], &#34;op&#34;: {&#34;params&#34;: [&#34;1/2&#34;, &#34;-1.92789227457872&#34;], &#34;type&#34;: &#34;PhasedX&#34;}}, {&#34;args&#34;: [[&#34;q&#34;, [2]]], &#34;op&#34;: {&#34;params&#34;: [&#34;1/2&#34;, &#34;-6.47134826384363&#34;], &#34;type&#34;: &#34;PhasedX&#34;}}, {&#34;args&#34;: [[&#34;q&#34;, [3]]], &#34;op&#34;: {&#34;params&#34;: [&#34;1/2&#34;, &#34;-2.82366984086709&#34;], &#34;type&#34;: &#34;PhasedX&#34;}}, {&#34;args&#34;: [[&#34;q&#34;, [0]], [&#34;q&#34;, [2]]], &#34;op&#34;: {&#34;params&#34;: [&#34;0&#34;, &#34;0&#34;, &#34;0.327917560696811&#34;], &#34;type&#34;: &#34;TK2&#34;}}, {&#34;args&#34;: [[&#34;q&#34;, [1]], [&#34;q&#34;, [3]]], &#34;op&#34;: {&#34;params&#34;: [&#34;0&#34;, &#34;0&#34;, &#34;-0.0648677170587675&#34;], &#34;type&#34;: &#34;TK2&#34;}}, {&#34;args&#34;: [[&#34;q&#34;, [0]]], &#34;op&#34;: {&#34;params&#34;: [&#34;-0.58807997322661&#34;, &#34;-6.59473907119792&#34;], &#34;type&#34;: &#34;PhasedX&#34;}}, {&#34;args&#34;: [[&#34;q&#34;, [1]]], &#34;op&#34;: {&#34;params&#34;: [&#34;-0.297409961780661&#34;, &#34;-3.53027349841442&#34;], &#34;type&#34;: &#34;PhasedX&#34;}}, {&#34;args&#34;: [[&#34;q&#34;, [2]]], &#34;op&#34;: {&#34;params&#34;: [&#34;-0.139524448700669&#34;, &#34;-7.88634650167271&#34;], &#34;type&#34;: &#34;PhasedX&#34;}}, {&#34;args&#34;: [[&#34;q&#34;, [3]]], &#34;op&#34;: {&#34;params&#34;: [&#34;-0.491174766286515&#34;, &#34;-3.42398164435771&#34;], &#34;type&#34;: &#34;PhasedX&#34;}}, {&#34;args&#34;: [[&#34;q&#34;, [0]], [&#34;c&#34;, [0]]], &#34;op&#34;: {&#34;type&#34;: &#34;Measure&#34;}}, {&#34;args&#34;: [[&#34;q&#34;, [1]], [&#34;c&#34;, [1]]], &#34;op&#34;: {&#34;type&#34;: &#34;Measure&#34;}}, {&#34;args&#34;: [[&#34;q&#34;, [2]], [&#34;c&#34;, [2]]], &#34;op&#34;: {&#34;type&#34;: &#34;Measure&#34;}}, {&#34;args&#34;: [[&#34;q&#34;, [3]], [&#34;c&#34;, [3]]], &#34;op&#34;: {&#34;type&#34;: &#34;Measure&#34;}}], &#34;created_qubits&#34;: [], &#34;discarded_qubits&#34;: [], &#34;implicit_permutation&#34;: [[[&#34;q&#34;, [0]], [&#34;q&#34;, [0]]], [[&#34;q&#34;, [1]], [&#34;q&#34;, [1]]], [[&#34;q&#34;, [2]], [&#34;q&#34;, [2]]], [[&#34;q&#34;, [3]], [&#34;q&#34;, [3]]]], &#34;name&#34;: &#34;QV Example with SU(4)&#34;, &#34;phase&#34;: &#34;1.37240881026239&#34;, &#34;qubits&#34;: [[&#34;q&#34;, [0]], [&#34;q&#34;, [1]], [&#34;q&#34;, [2]], [&#34;q&#34;, [3]]]}&lt;/div&gt;\n",
       "        &lt;/div&gt;\n",
       "        &lt;circuit-display-container\n",
       "                :circuit-element-str=&#34;&#39;#circuit-json-to-display&#39;&#34;\n",
       "                :init-render-options=&#34;initRenderOptions&#34;\n",
       "        &gt;&lt;/circuit-display-container&gt;\n",
       "    &lt;/div&gt;\n",
       "    &lt;script type=&#34;application/javascript&#34;&gt;\n",
       "      const circuitRendererUid = &#34;7bfee155-eb7f-4407-8751-bfa2da6cb810&#34;;\n",
       "      const displayOptions = JSON.parse(&#39;{}&#39;);\n",
       "\n",
       "      // Script to initialise the circuit renderer app\n",
       "\n",
       "const { createApp } = Vue;\n",
       "const circuitDisplayContainer = window[&#34;pytket-circuit-renderer&#34;].default;\n",
       "// Init variables to be shared between circuit display instances\n",
       "if (typeof window.pytketCircuitDisplays === &#34;undefined&#34;) {\n",
       "    window.pytketCircuitDisplays = {};\n",
       "}\n",
       "// Create the root Vue component\n",
       "const app = createApp({\n",
       "    delimiters: [&#39;[[#&#39;, &#39;#]]&#39;],\n",
       "    components: { circuitDisplayContainer },\n",
       "    data () {\n",
       "      return {\n",
       "        initRenderOptions: displayOptions,\n",
       "      }\n",
       "    }\n",
       "})\n",
       "app.config.unwrapInjectedRef = true;\n",
       "app.mount(&#34;#circuit-display-vue-container-&#34;+circuitRendererUid);\n",
       "window.pytketCircuitDisplays[circuitRendererUid] = app;\n",
       "    &lt;/script&gt;\n",
       "\n",
       "\n",
       "\n",
       "&lt;/body&gt;\n",
       "&lt;/html&gt;\n",
       "\"\n",
       "            width=\"100%\" height=\"100%\"\n",
       "            style=\"border: none; outline: none; overflow: auto\"></iframe>\n",
       "</div>\n",
       "\n"
      ],
      "text/plain": [
       "<IPython.core.display.HTML object>"
      ]
     },
     "metadata": {},
     "output_type": "display_data"
    }
   ],
   "source": [
    "compiled_circuit_wsu4 = quantinuum_backend.get_compiled_circuit(qv_circuit_wSU4, optimisation_level=2)\n",
    "print(f\"Number of TK2 (Rxxyyzz) Gates: {compiled_circuit_wsu4.n_2qb_gates()}\")\n",
    "render_circuit_jupyter(compiled_circuit_wsu4)"
   ]
  },
  {
   "cell_type": "code",
   "execution_count": 30,
   "id": "abdda9d9",
   "metadata": {},
   "outputs": [
    {
     "name": "stdout",
     "output_type": "stream",
     "text": [
      "10.2\n"
     ]
    }
   ],
   "source": [
    "cost = quantinuum_backend.cost(compiled_circuit_wsu4, n_shots=100, syntax_checker=\"H1-1SC\")\n",
    "print(cost)"
   ]
  },
  {
   "cell_type": "code",
   "execution_count": 32,
   "id": "098b750a",
   "metadata": {},
   "outputs": [],
   "source": [
    "handle = quantinuum_backend.process_circuit(compiled_circuit_wsu4, n_shots=100)"
   ]
  },
  {
   "cell_type": "code",
   "execution_count": 36,
   "id": "eb509c74",
   "metadata": {},
   "outputs": [
    {
     "name": "stdout",
     "output_type": "stream",
     "text": [
      "{(0, 0, 0, 0): 0.08, (0, 0, 0, 1): 0.05, (0, 0, 1, 0): 0.03, (0, 1, 0, 0): 0.06, (0, 1, 0, 1): 0.24, (0, 1, 1, 1): 0.03, (1, 0, 0, 0): 0.03, (1, 0, 0, 1): 0.03, (1, 0, 1, 0): 0.04, (1, 1, 0, 0): 0.04, (1, 1, 0, 1): 0.14, (1, 1, 1, 0): 0.01, (1, 1, 1, 1): 0.22}\n"
     ]
    }
   ],
   "source": [
    "result = quantinuum_backend.get_result(handle)\n",
    "print(result.get_distribution())"
   ]
  },
  {
   "cell_type": "code",
   "execution_count": 14,
   "id": "af166650",
   "metadata": {},
   "outputs": [],
   "source": [
    "quantinuum_backend.set_compilation_config_target_2qb_gate(OpType.ZZPhase)"
   ]
  },
  {
   "cell_type": "code",
   "execution_count": 15,
   "id": "acad9e53",
   "metadata": {},
   "outputs": [
    {
     "data": {
      "text/plain": [
       "[U3(0.800268, 0.516276, 1.5618) q[0]; U3(2.90919, 0.444819, 1.87851) q[1]; U3(0.834017, 0.231266, 0.933179) q[2]; U3(1.30676, 0.506151, 0.356742) q[3]; U3(2.99557, 0.429204, 1.5708) q[0]; U3(2.99557, 0.429204, 1.5708) q[1]; U3(2.99557, 0.429204, 1.5708) q[2]; U3(2.99557, 0.429204, 1.5708) q[3]; U3(0, 0.429204, 0.712389) q[0]; U3(0.712389, 0, 0.712389) q[1]; U3(1.5708, 0.429204, 1.5708) q[2]; U3(1.5708, 0.429204, 1.5708) q[3]; U3(3.14159, 0.429204, 1.5708) q[0]; CX q[1], q[3]; U3(0.712389, 0, 0.712389) q[0]; U3(2.99557, 0.697067, 1.5708) q[1]; U3(3.14159, 0, 0.14751) q[3]; CX q[0], q[2]; CX q[1], q[3]; U3(2.99557, 0.601965, 1.5708) q[0]; U3(1.5708, 0, 1.5708) q[1]; U3(3.14159, 0, 1.92842) q[2]; U3(0, 0.429204, 0.0334044) q[3]; CX q[0], q[2]; CX q[1], q[3]; U3(1.5708, 0, 1.5708) q[0]; U3(1.5708, 0.429204, 1.5708) q[1]; U3(0, 0.429204, 0.0921141) q[2]; U3(1.5708, 0.429204, 1.5708) q[3]; CX q[0], q[2]; U3(0.802236, 1.74342, 0.729375) q[1]; U3(1.33296, 0.821419, 0.944898) q[3]; U3(3.14159, 0.429204, 1.5708) q[0]; U3(2.40271, 1.30542, 1.41612) q[1]; U3(3.14159, 0.429204, 1.5708) q[2]; U3(0.705322, 0.855322, 0.337803) q[3]; U3(1.5708, 0.429204, 1.5708) q[0]; U3(2.99557, 0.429204, 1.5708) q[1]; U3(0, 0.429204, 0.712389) q[2]; U3(2.99557, 0.429204, 1.5708) q[3]; U3(2.10328, 0.102752, 1.62083) q[0]; U3(0, 0.429204, 0.712389) q[1]; U3(3.14159, 0.429204, 1.5708) q[2]; U3(1.5708, 0.429204, 1.5708) q[3]; U3(2.17083, 1.46059, 1.20243) q[0]; U3(3.14159, 0.429204, 1.5708) q[1]; U3(1.5708, 0.429204, 1.5708) q[2]; U3(2.99557, 0.429204, 1.5708) q[0]; U3(0.712389, 0, 0.712389) q[1]; U3(2.68377, 1.81411, 1.05411) q[2]; U3(0, 0.429204, 0.712389) q[0]; U3(1.72907, 1.32696, 0.897001) q[2]; U3(3.14159, 0.429204, 1.5708) q[0]; U3(2.99557, 0.429204, 1.5708) q[2]; U3(0.712389, 0, 0.712389) q[0]; U3(1.5708, 0.429204, 1.5708) q[2]; CX q[0], q[3]; CX q[1], q[2]; U3(2.99557, 0.773559, 1.5708) q[0]; U3(2.99557, 0.936073, 1.5708) q[1]; U3(3.14159, 0, 0.108926) q[2]; U3(3.14159, 0, 0.0279141) q[3]; CX q[0], q[3]; CX q[1], q[2]; U3(1.5708, 0, 1.5708) q[0]; U3(1.5708, 0, 1.5708) q[1]; U3(0, 0.429204, 0.220003) q[2]; U3(0, 0.429204, 1.78669) q[3]; CX q[0], q[3]; CX q[1], q[2]; U3(0, 0.429204, 0.712389) q[0]; U3(3.14159, 0.429204, 1.5708) q[1]; U3(3.14159, 0.429204, 1.5708) q[2]; U3(3.14159, 0.429204, 1.5708) q[3]; U3(1.5708, 0.429204, 1.5708) q[0]; U3(1.5708, 0.429204, 1.5708) q[1]; U3(0, 0.429204, 0.712389) q[2]; U3(0, 0.429204, 0.712389) q[3]; U3(2.21253, 0.692138, 1.76816) q[0]; U3(1.75975, 1.4306, 0.295924) q[1]; U3(3.14159, 0.429204, 1.5708) q[2]; U3(0, 0.429204, 0.712389) q[3]; U3(0.712077, 0.527242, 1.20829) q[0]; U3(0.867785, 1.43786, 0.895855) q[1]; U3(1.5708, 0.429204, 1.5708) q[2]; U3(1.5708, 0.429204, 1.5708) q[3]; U3(2.99557, 0.429204, 1.5708) q[0]; U3(0, 0.429204, 0.566371) q[1]; U3(1.25418, 0.433206, 1.55921) q[2]; U3(0.548197, 0.00709463, 0.252547) q[3]; U3(0.712389, 0, 0.712389) q[0]; U3(2.99557, 0.429204, 1.5708) q[1]; U3(0.127452, 1.84638, 1.67208) q[2]; U3(2.33264, 0.015238, 1.93402) q[3]; U3(0, 0.429204, 0.566371) q[1]; U3(0, 0.429204, 0.566371) q[2]; U3(2.99557, 0.429204, 1.5708) q[3]; U3(0.712389, 0, 0.712389) q[1]; U3(2.99557, 0.429204, 1.5708) q[2]; U3(1.5708, 0.429204, 1.5708) q[3]; CX q[0], q[3]; U3(0, 0.429204, 0.566371) q[2]; U3(2.99557, 0.961021, 1.5708) q[0]; U3(1.5708, 0.429204, 1.5708) q[2]; U3(3.14159, 0, 1.93747) q[3]; CX q[0], q[3]; CX q[1], q[2]; U3(1.5708, 0, 1.5708) q[0]; U3(2.99557, 0.957509, 1.5708) q[1]; U3(3.14159, 0, 0.443336) q[2]; U3(0, 0.429204, 1.82535) q[3]; CX q[0], q[3]; CX q[1], q[2]; U3(1.5708, 0.429204, 1.5708) q[0]; U3(1.5708, 0, 1.5708) q[1]; U3(0, 0.429204, 0.972375) q[2]; U3(1.5708, 0.429204, 1.5708) q[3]; U3(2.69698, 0.507108, 1.61356) q[0]; CX q[1], q[2]; U3(2.59045, 0.391862, 0.709184) q[3]; U3(1.55387, 1.8723, 1.29114) q[0]; U3(0, 0.429204, 0.712389) q[1]; U3(0, 0.429204, 0.712389) q[2]; U3(2.6015, 0.54545, 1.89418) q[3]; U3(2.99557, 0.429204, 1.5708) q[0]; U3(0, 0.429204, 0.712389) q[1]; U3(0, 0.429204, 0.712389) q[2]; U3(1.5708, 0.429204, 1.5708) q[3]; U3(0, 0.429204, 0.712389) q[0]; U3(0, 0.429204, 0.712389) q[1]; U3(0, 0.429204, 0.712389) q[2]; U3(3.14159, 0.429204, 1.5708) q[0]; U3(3.14159, 0, 0.566371) q[1]; U3(3.14159, 0, 0.566371) q[2]; U3(0.712389, 0, 0.712389) q[0]; U3(3.14159, 0.429204, 1.5708) q[1]; U3(3.14159, 0.429204, 1.5708) q[2]; U3(0, 0.429204, 1.14159) q[1]; U3(0, 0.429204, 1.14159) q[2]; U3(1.5708, 0.429204, 1.5708) q[1]; U3(1.5708, 0.429204, 1.5708) q[2]; U3(0, 0.429204, 1.14159) q[1]; U3(0, 0.429204, 1.14159) q[2]; U3(1.74508, 0.32304, 1.47526) q[1]; U3(2.06846, 0.732299, 1.69266) q[2]; U3(2.56164, 1.97173, 0.306478) q[1]; U3(1.58818, 0.63572, 1.31759) q[2]; U3(0, 0.429204, 0.712389) q[1]; U3(2.99557, 0.429204, 1.5708) q[2]; U3(3.14159, 0.429204, 1.5708) q[1]; U3(1.5708, 0.429204, 1.5708) q[2]; CX q[0], q[2]; U3(0.712389, 0, 0.712389) q[1]; U3(2.99557, 0.935561, 1.5708) q[0]; CX q[1], q[3]; U3(3.14159, 0, 1.81368) q[2]; CX q[0], q[2]; U3(2.99557, 0.489646, 1.5708) q[1]; U3(3.14159, 0, 1.9329) q[3]; U3(1.5708, 0, 1.5708) q[0]; CX q[1], q[3]; U3(0, 0.429204, 1.9062) q[2]; CX q[0], q[2]; U3(1.5708, 0, 1.5708) q[1]; U3(0, 0.429204, 1.98995) q[3]; U3(0, 0.429204, 0.712389) q[0]; CX q[1], q[3]; U3(0, 0.429204, 0.712389) q[2]; U3(0, 0.429204, 0.712389) q[0]; U3(3.14159, 0.429204, 1.5708) q[1]; U3(0, 0.429204, 0.712389) q[2]; U3(3.14159, 0.429204, 1.5708) q[3]; U3(0, 0.429204, 0.712389) q[0]; U3(0.0821495, 0.508749, 0.579305) q[1]; U3(0, 0.429204, 0.712389) q[2]; U3(0, 0.429204, 0.712389) q[3]; Measure q[1] --> c[1]; U3(1.5708, 0.429204, 1.5708) q[0]; U3(3.14159, 0.429204, 1.5708) q[2]; U3(3.14159, 0.429204, 1.5708) q[3]; U3(1.25796, 0.781804, 0.170761) q[0]; U3(0, 0.429204, 0.712389) q[2]; U3(1.61613, 0.127531, 0.103627) q[3]; Measure q[0] --> c[0]; Measure q[3] --> c[3]; U3(1.5708, 0.429204, 1.5708) q[2]; U3(2.21973, 1.54354, 1.25557) q[2]; Measure q[2] --> c[2]; ]"
      ]
     },
     "execution_count": 15,
     "metadata": {},
     "output_type": "execute_result"
    }
   ],
   "source": [
    "qv_circuit_no_SU4 = Circuit(4, name=\"QV Example without SU(4)\")\n",
    "\n",
    "qv_circuit_no_SU4.U3(0.25473320252075615*np.pi,-0.4722839623120936*np.pi,1.1337576181565758*np.pi, 0)\n",
    "qv_circuit_no_SU4.U3(0.9260248851696505*np.pi,2.6880694641488283*np.pi,3.781045841193389*np.pi, 1)\n",
    "qv_circuit_no_SU4.U3(0.2654757321735285*np.pi,0.0736141120852053*np.pi,4.116758761767741*np.pi, 2)\n",
    "qv_circuit_no_SU4.U3(0.4159547432138166*np.pi,0.16111290510915977*np.pi,0.7501741218212356*np.pi, 3)\n",
    "qv_circuit_no_SU4.U3(3.5*np.pi,-0.5*np.pi,0.5*np.pi, 0)\n",
    "qv_circuit_no_SU4.U3(3.5*np.pi,-0.5*np.pi,0.5*np.pi, 1)\n",
    "qv_circuit_no_SU4.U3(3.5*np.pi,-0.5*np.pi,0.5*np.pi, 2)\n",
    "qv_circuit_no_SU4.U3(3.5*np.pi,-0.5*np.pi,0.5*np.pi, 3)\n",
    "qv_circuit_no_SU4.U3(0.0*np.pi,-0.5*np.pi,1.5*np.pi, 0)\n",
    "qv_circuit_no_SU4.U3(1.5*np.pi,0.0*np.pi,1.5*np.pi, 1)\n",
    "qv_circuit_no_SU4.U3(0.5*np.pi,-0.5*np.pi,0.5*np.pi, 2)\n",
    "qv_circuit_no_SU4.U3(0.5*np.pi,-0.5*np.pi,0.5*np.pi, 3)\n",
    "qv_circuit_no_SU4.U3(1.0*np.pi,-0.5*np.pi,0.5*np.pi, 0)\n",
    "qv_circuit_no_SU4.CX(1, 3)\n",
    "qv_circuit_no_SU4.U3(1.5*np.pi,0.0*np.pi,1.5*np.pi, 0)\n",
    "qv_circuit_no_SU4.U3(3.5*np.pi,3.4049821668324665*np.pi,0.5*np.pi, 1)\n",
    "qv_circuit_no_SU4.U3(1.0*np.pi,0.0*np.pi,1.3201934298378362*np.pi, 3)\n",
    "qv_circuit_no_SU4.CX(0, 2)\n",
    "qv_circuit_no_SU4.CX(1, 3)\n",
    "qv_circuit_no_SU4.U3(3.5*np.pi,3.3747103659393294*np.pi,0.5*np.pi, 0)\n",
    "qv_circuit_no_SU4.U3(0.5*np.pi,0.0*np.pi,0.5*np.pi, 1)\n",
    "qv_circuit_no_SU4.U3(1.0*np.pi,0.0*np.pi,1.2504554268164243*np.pi, 2)\n",
    "qv_circuit_no_SU4.U3(0.0*np.pi,-0.5*np.pi,0.6472527110107711*np.pi, 3)\n",
    "qv_circuit_no_SU4.CX(0, 2)\n",
    "qv_circuit_no_SU4.CX(1, 3)\n",
    "qv_circuit_no_SU4.U3(0.5*np.pi,0.0*np.pi,0.5*np.pi, 0)\n",
    "qv_circuit_no_SU4.U3(0.5*np.pi,-0.5*np.pi,0.5*np.pi, 1)\n",
    "qv_circuit_no_SU4.U3(0.0*np.pi,-0.5*np.pi,0.6659406115521548*np.pi, 2)\n",
    "qv_circuit_no_SU4.U3(0.5*np.pi,-0.5*np.pi,0.5*np.pi, 3)\n",
    "qv_circuit_no_SU4.CX(0, 2)\n",
    "qv_circuit_no_SU4.U3(0.25535963651944854*np.pi,3.1014277080861374*np.pi,0.8687871783780351*np.pi, 1)\n",
    "qv_circuit_no_SU4.U3(0.4242946197076395*np.pi,0.2614656370005698*np.pi,3.4838692502872806*np.pi, 3)\n",
    "qv_circuit_no_SU4.U3(1.0*np.pi,-0.5*np.pi,0.5*np.pi, 0)\n",
    "qv_circuit_no_SU4.U3(0.7648074607597222*np.pi,-0.22109305574283394*np.pi,4.270484169822186*np.pi, 1)\n",
    "qv_circuit_no_SU4.U3(1.0*np.pi,-0.5*np.pi,0.5*np.pi, 2)\n",
    "qv_circuit_no_SU4.U3(0.22451081382324406*np.pi,0.27225730267610504*np.pi,3.927244666700967*np.pi, 3)\n",
    "qv_circuit_no_SU4.U3(0.5*np.pi,-0.5*np.pi,0.5*np.pi, 0)\n",
    "qv_circuit_no_SU4.U3(3.5*np.pi,-0.5*np.pi,0.5*np.pi, 1)\n",
    "qv_circuit_no_SU4.U3(0.0*np.pi,-0.5*np.pi,1.5*np.pi, 2)\n",
    "qv_circuit_no_SU4.U3(3.5*np.pi,-0.5*np.pi,0.5*np.pi, 3)\n",
    "qv_circuit_no_SU4.U3(0.66949436019446*np.pi,2.5791859689113434*np.pi,3.699026291695842*np.pi, 0)\n",
    "qv_circuit_no_SU4.U3(0.0*np.pi,-0.5*np.pi,1.5*np.pi, 1)\n",
    "qv_circuit_no_SU4.U3(1.0*np.pi,-0.5*np.pi,0.5*np.pi, 2)\n",
    "qv_circuit_no_SU4.U3(0.5*np.pi,-0.5*np.pi,0.5*np.pi, 3)\n",
    "qv_circuit_no_SU4.U3(0.6909969444247932*np.pi,-0.17170015925367116*np.pi,1.0193666698299448*np.pi, 0)\n",
    "qv_circuit_no_SU4.U3(1.0*np.pi,-0.5*np.pi,0.5*np.pi, 1)\n",
    "qv_circuit_no_SU4.U3(0.5*np.pi,-0.5*np.pi,0.5*np.pi, 2)\n",
    "qv_circuit_no_SU4.U3(3.5*np.pi,-0.5*np.pi,0.5*np.pi, 0)\n",
    "qv_circuit_no_SU4.U3(1.5*np.pi,0.0*np.pi,1.5*np.pi, 1)\n",
    "qv_circuit_no_SU4.U3(0.8542699271757708*np.pi,3.1239275299676947*np.pi,2.8820137020693153*np.pi, 2)\n",
    "qv_circuit_no_SU4.U3(0.0*np.pi,-0.5*np.pi,1.5*np.pi, 0)\n",
    "qv_circuit_no_SU4.U3(0.5503794877412841*np.pi,1.059003801067796*np.pi,0.9221441436832603*np.pi, 2)\n",
    "qv_circuit_no_SU4.U3(1.0*np.pi,-0.5*np.pi,0.5*np.pi, 0)\n",
    "qv_circuit_no_SU4.U3(3.5*np.pi,-0.5*np.pi,0.5*np.pi, 2)\n",
    "qv_circuit_no_SU4.U3(1.5*np.pi,0.0*np.pi,1.5*np.pi, 0)\n",
    "qv_circuit_no_SU4.U3(0.5*np.pi,-0.5*np.pi,0.5*np.pi, 2)\n",
    "qv_circuit_no_SU4.CX(0, 3)\n",
    "qv_circuit_no_SU4.CX(1, 2)\n",
    "qv_circuit_no_SU4.U3(3.5*np.pi,3.4293302654969113*np.pi,0.5*np.pi, 0)\n",
    "qv_circuit_no_SU4.U3(3.5*np.pi,3.4810601554611322*np.pi,0.5*np.pi, 1)\n",
    "qv_circuit_no_SU4.U3(1.0*np.pi,0.0*np.pi,1.3079118604508042*np.pi, 2)\n",
    "qv_circuit_no_SU4.U3(1.0*np.pi,0.0*np.pi,1.2821248812866428*np.pi, 3)\n",
    "qv_circuit_no_SU4.CX(0, 3)\n",
    "qv_circuit_no_SU4.CX(1, 2)\n",
    "qv_circuit_no_SU4.U3(0.5*np.pi,0.0*np.pi,0.5*np.pi, 0)\n",
    "qv_circuit_no_SU4.U3(0.5*np.pi,0.0*np.pi,0.5*np.pi, 1)\n",
    "qv_circuit_no_SU4.U3(0.0*np.pi,-0.5*np.pi,0.7066487742208293*np.pi, 2)\n",
    "qv_circuit_no_SU4.U3(0.0*np.pi,-0.5*np.pi,0.568720952507614*np.pi, 3)\n",
    "qv_circuit_no_SU4.CX(0, 3)\n",
    "qv_circuit_no_SU4.CX(1, 2)\n",
    "qv_circuit_no_SU4.U3(0.0*np.pi,-0.5*np.pi,1.5*np.pi, 0)\n",
    "qv_circuit_no_SU4.U3(1.0*np.pi,-0.5*np.pi,0.5*np.pi, 1)\n",
    "qv_circuit_no_SU4.U3(1.0*np.pi,-0.5*np.pi,0.5*np.pi, 2)\n",
    "qv_circuit_no_SU4.U3(1.0*np.pi,-0.5*np.pi,0.5*np.pi, 3)\n",
    "qv_circuit_no_SU4.U3(0.5*np.pi,-0.5*np.pi,0.5*np.pi, 0)\n",
    "qv_circuit_no_SU4.U3(0.5*np.pi,-0.5*np.pi,0.5*np.pi, 1)\n",
    "qv_circuit_no_SU4.U3(0.0*np.pi,-0.5*np.pi,1.5*np.pi, 2)\n",
    "qv_circuit_no_SU4.U3(0.0*np.pi,-0.5*np.pi,1.5*np.pi, 3)\n",
    "qv_circuit_no_SU4.U3(0.7042706963515156*np.pi,0.8569341596745985*np.pi,4.382539932255121*np.pi, 0)\n",
    "qv_circuit_no_SU4.U3(0.5601447710772369*np.pi,1.09199384065995*np.pi,0.7308152830574234*np.pi, 1)\n",
    "qv_circuit_no_SU4.U3(1.0*np.pi,-0.5*np.pi,0.5*np.pi, 2)\n",
    "qv_circuit_no_SU4.U3(0.0*np.pi,-0.5*np.pi,1.5*np.pi, 3)\n",
    "qv_circuit_no_SU4.U3(0.2266612071559701*np.pi,0.16782619554269707*np.pi,1.021229946537722*np.pi, 0)\n",
    "qv_circuit_no_SU4.U3(0.2762246138123449*np.pi,0.4576836920669646*np.pi,4.104878292146786*np.pi, 1)\n",
    "qv_circuit_no_SU4.U3(0.5*np.pi,-0.5*np.pi,0.5*np.pi, 2)\n",
    "qv_circuit_no_SU4.U3(0.5*np.pi,-0.5*np.pi,0.5*np.pi, 3)\n",
    "qv_circuit_no_SU4.U3(3.5*np.pi,-0.5*np.pi,0.5*np.pi, 0)\n",
    "qv_circuit_no_SU4.U3(0.0*np.pi,-0.5*np.pi,4.0*np.pi, 1)\n",
    "qv_circuit_no_SU4.U3(0.3992168256084478*np.pi,3.32099255409016*np.pi,4.316031829539449*np.pi, 2)\n",
    "qv_circuit_no_SU4.U3(0.17449638263602396*np.pi,0.6388780639818601*np.pi,0.7170079306262069*np.pi, 3)\n",
    "qv_circuit_no_SU4.U3(1.5*np.pi,0.0*np.pi,1.5*np.pi, 0)\n",
    "qv_circuit_no_SU4.U3(3.5*np.pi,-0.5*np.pi,0.5*np.pi, 1)\n",
    "qv_circuit_no_SU4.U3(0.04056918324275033*np.pi,2.4975811387857263*np.pi,1.1688582372774654*np.pi, 2)\n",
    "qv_circuit_no_SU4.U3(0.7425014918208815*np.pi,2.5513295057684955*np.pi,3.798716571514106*np.pi, 3)\n",
    "qv_circuit_no_SU4.U3(0.0*np.pi,-0.5*np.pi,4.0*np.pi, 1)\n",
    "qv_circuit_no_SU4.U3(0.0*np.pi,-0.5*np.pi,4.0*np.pi, 2)\n",
    "qv_circuit_no_SU4.U3(3.5*np.pi,-0.5*np.pi,0.5*np.pi, 3)\n",
    "qv_circuit_no_SU4.U3(1.5*np.pi,0.0*np.pi,1.5*np.pi, 1)\n",
    "qv_circuit_no_SU4.U3(3.5*np.pi,-0.5*np.pi,0.5*np.pi, 2)\n",
    "qv_circuit_no_SU4.U3(0.5*np.pi,-0.5*np.pi,0.5*np.pi, 3)\n",
    "qv_circuit_no_SU4.CX(0, 3)\n",
    "qv_circuit_no_SU4.U3(0.0*np.pi,-0.5*np.pi,4.0*np.pi, 2)\n",
    "qv_circuit_no_SU4.U3(3.5*np.pi,3.489001455095616*np.pi,0.5*np.pi, 0)\n",
    "qv_circuit_no_SU4.U3(0.5*np.pi,-0.5*np.pi,0.5*np.pi, 2)\n",
    "qv_circuit_no_SU4.U3(1.0*np.pi,0.0*np.pi,1.2533359797863637*np.pi, 3)\n",
    "qv_circuit_no_SU4.CX(0, 3)\n",
    "qv_circuit_no_SU4.CX(1, 2)\n",
    "qv_circuit_no_SU4.U3(0.5*np.pi,0.0*np.pi,0.5*np.pi, 0)\n",
    "qv_circuit_no_SU4.U3(3.5*np.pi,3.4878835207861334*np.pi,0.5*np.pi, 1)\n",
    "qv_circuit_no_SU4.U3(1.0*np.pi,0.0*np.pi,1.4143578707787503*np.pi, 2)\n",
    "qv_circuit_no_SU4.U3(0.0*np.pi,-0.5*np.pi,0.5810281952595922*np.pi, 3)\n",
    "qv_circuit_no_SU4.CX(0, 3)\n",
    "qv_circuit_no_SU4.CX(1, 2)\n",
    "qv_circuit_no_SU4.U3(0.5*np.pi,-0.5*np.pi,0.5*np.pi, 0)\n",
    "qv_circuit_no_SU4.U3(0.5*np.pi,0.0*np.pi,0.5*np.pi, 1)\n",
    "qv_circuit_no_SU4.U3(0.0*np.pi,-0.5*np.pi,4.129235226639673*np.pi, 2)\n",
    "qv_circuit_no_SU4.U3(0.5*np.pi,-0.5*np.pi,0.5*np.pi, 3)\n",
    "qv_circuit_no_SU4.U3(0.858475273889848*np.pi,3.344516428913573*np.pi,3.0600916412099446*np.pi, 0)\n",
    "qv_circuit_no_SU4.CX(1, 2)\n",
    "qv_circuit_no_SU4.U3(0.8245657987254952*np.pi,0.12473351582941017*np.pi,0.8623599356030089*np.pi, 3)\n",
    "qv_circuit_no_SU4.U3(0.4946111147607045*np.pi,-0.040647131861198005*np.pi,3.594081508778993*np.pi, 0)\n",
    "qv_circuit_no_SU4.U3(0.0*np.pi,-0.5*np.pi,1.5*np.pi, 1)\n",
    "qv_circuit_no_SU4.U3(0.0*np.pi,-0.5*np.pi,1.5*np.pi, 2)\n",
    "qv_circuit_no_SU4.U3(0.8280822479969498*np.pi,3.3567211044985177*np.pi,3.7860353910345665*np.pi, 3)\n",
    "qv_circuit_no_SU4.U3(3.5*np.pi,-0.5*np.pi,0.5*np.pi, 0)\n",
    "qv_circuit_no_SU4.U3(0.0*np.pi,-0.5*np.pi,1.5*np.pi, 1)\n",
    "qv_circuit_no_SU4.U3(0.0*np.pi,-0.5*np.pi,1.5*np.pi, 2)\n",
    "qv_circuit_no_SU4.U3(0.5*np.pi,-0.5*np.pi,0.5*np.pi, 3)\n",
    "qv_circuit_no_SU4.U3(0.0*np.pi,-0.5*np.pi,1.5*np.pi, 0)\n",
    "qv_circuit_no_SU4.U3(0.0*np.pi,-0.5*np.pi,1.5*np.pi, 1)\n",
    "qv_circuit_no_SU4.U3(0.0*np.pi,-0.5*np.pi,1.5*np.pi, 2)\n",
    "qv_circuit_no_SU4.U3(1.0*np.pi,-0.5*np.pi,0.5*np.pi, 0)\n",
    "qv_circuit_no_SU4.U3(1.0*np.pi,0.0*np.pi,4.0*np.pi, 1)\n",
    "qv_circuit_no_SU4.U3(1.0*np.pi,0.0*np.pi,4.0*np.pi, 2)\n",
    "qv_circuit_no_SU4.U3(1.5*np.pi,0.0*np.pi,1.5*np.pi, 0)\n",
    "qv_circuit_no_SU4.U3(1.0*np.pi,-0.5*np.pi,0.5*np.pi, 1)\n",
    "qv_circuit_no_SU4.U3(1.0*np.pi,-0.5*np.pi,0.5*np.pi, 2)\n",
    "qv_circuit_no_SU4.U3(0.0*np.pi,-0.5*np.pi,1.0*np.pi, 1)\n",
    "qv_circuit_no_SU4.U3(0.0*np.pi,-0.5*np.pi,1.0*np.pi, 2)\n",
    "qv_circuit_no_SU4.U3(0.5*np.pi,-0.5*np.pi,0.5*np.pi, 1)\n",
    "qv_circuit_no_SU4.U3(0.5*np.pi,-0.5*np.pi,0.5*np.pi, 2)\n",
    "qv_circuit_no_SU4.U3(0.0*np.pi,-0.5*np.pi,1.0*np.pi, 1)\n",
    "qv_circuit_no_SU4.U3(0.0*np.pi,-0.5*np.pi,1.0*np.pi, 2)\n",
    "qv_circuit_no_SU4.U3(0.5554762677015984*np.pi,3.2859255637424867*np.pi,4.289308300879274*np.pi, 1)\n",
    "qv_circuit_no_SU4.U3(0.6584101141439711*np.pi,2.779577244162456*np.pi,3.721888657269012*np.pi, 2)\n",
    "qv_circuit_no_SU4.U3(0.8153952155638982*np.pi,-0.008997488527685837*np.pi,3.9172737166210907*np.pi, 1)\n",
    "qv_circuit_no_SU4.U3(0.5055323943045988*np.pi,0.20235580219106175*np.pi,3.602501861285357*np.pi, 2)\n",
    "qv_circuit_no_SU4.U3(0.0*np.pi,-0.5*np.pi,1.5*np.pi, 1)\n",
    "qv_circuit_no_SU4.U3(3.5*np.pi,-0.5*np.pi,0.5*np.pi, 2)\n",
    "qv_circuit_no_SU4.U3(1.0*np.pi,-0.5*np.pi,0.5*np.pi, 1)\n",
    "qv_circuit_no_SU4.U3(0.5*np.pi,-0.5*np.pi,0.5*np.pi, 2)\n",
    "qv_circuit_no_SU4.CX(0, 2)\n",
    "qv_circuit_no_SU4.U3(1.5*np.pi,0.0*np.pi,1.5*np.pi, 1)\n",
    "qv_circuit_no_SU4.U3(3.5*np.pi,3.480897224396455*np.pi,0.5*np.pi, 0)\n",
    "qv_circuit_no_SU4.CX(1, 3)\n",
    "qv_circuit_no_SU4.U3(1.0*np.pi,0.0*np.pi,1.213930484760723*np.pi, 2)\n",
    "qv_circuit_no_SU4.CX(0, 2)\n",
    "qv_circuit_no_SU4.U3(3.5*np.pi,3.338957921817773*np.pi,0.5*np.pi, 1)\n",
    "qv_circuit_no_SU4.U3(1.0*np.pi,0.0*np.pi,1.2518811716342444*np.pi, 3)\n",
    "qv_circuit_no_SU4.U3(0.5*np.pi,0.0*np.pi,0.5*np.pi, 0)\n",
    "qv_circuit_no_SU4.CX(1, 3)\n",
    "qv_circuit_no_SU4.U3(0.0*np.pi,-0.5*np.pi,4.426480102332563*np.pi, 2)\n",
    "qv_circuit_no_SU4.CX(0, 2)\n",
    "qv_circuit_no_SU4.U3(0.5*np.pi,0.0*np.pi,0.5*np.pi, 1)\n",
    "qv_circuit_no_SU4.U3(0.0*np.pi,-0.5*np.pi,0.6334211997059697*np.pi, 3)\n",
    "qv_circuit_no_SU4.U3(0.0*np.pi,-0.5*np.pi,1.5*np.pi, 0)\n",
    "qv_circuit_no_SU4.CX(1, 3)\n",
    "qv_circuit_no_SU4.U3(0.0*np.pi,-0.5*np.pi,1.5*np.pi, 2)\n",
    "qv_circuit_no_SU4.U3(0.0*np.pi,-0.5*np.pi,1.5*np.pi, 0)\n",
    "qv_circuit_no_SU4.U3(1.0*np.pi,-0.5*np.pi,0.5*np.pi, 1)\n",
    "qv_circuit_no_SU4.U3(0.0*np.pi,-0.5*np.pi,1.5*np.pi, 2)\n",
    "qv_circuit_no_SU4.U3(1.0*np.pi,-0.5*np.pi,0.5*np.pi, 3)\n",
    "qv_circuit_no_SU4.U3(0.0*np.pi,-0.5*np.pi,1.5*np.pi, 0)\n",
    "qv_circuit_no_SU4.U3(0.026149006359698555*np.pi,0.16193977105725021*np.pi,3.367497381276574*np.pi, 1)\n",
    "qv_circuit_no_SU4.U3(0.0*np.pi,-0.5*np.pi,1.5*np.pi, 2)\n",
    "qv_circuit_no_SU4.U3(0.0*np.pi,-0.5*np.pi,1.5*np.pi, 3)\n",
    "# qv_circuit_no_SU4.Measure(1, 1)\n",
    "qv_circuit_no_SU4.U3(0.5*np.pi,-0.5*np.pi,0.5*np.pi, 0)\n",
    "qv_circuit_no_SU4.U3(1.0*np.pi,-0.5*np.pi,0.5*np.pi, 2)\n",
    "qv_circuit_no_SU4.U3(1.0*np.pi,-0.5*np.pi,0.5*np.pi, 3)\n",
    "qv_circuit_no_SU4.U3(0.40042121316676804*np.pi,3.4319547249435396*np.pi,0.6909747338081911*np.pi, 0)\n",
    "qv_circuit_no_SU4.U3(0.0*np.pi,-0.5*np.pi,1.5*np.pi, 2)\n",
    "qv_circuit_no_SU4.U3(0.5144296195023755*np.pi,0.04059434060036193*np.pi,1.306225020434144*np.pi, 3)\n",
    "# qv_circuit_no_SU4.Measure(0, 0)\n",
    "# qv_circuit_no_SU4.Measure(3, 3)\n",
    "qv_circuit_no_SU4.U3(0.5*np.pi,-0.5*np.pi,0.5*np.pi, 2)\n",
    "qv_circuit_no_SU4.U3(0.7065628237937605*np.pi,-0.1452950236479406*np.pi,4.219378673097818*np.pi, 2)\n",
    "# qv_circuit_no_SU4.Measure(2, 2)\n",
    "qv_circuit_no_SU4.measure_all()"
   ]
  },
  {
   "cell_type": "code",
   "execution_count": 16,
   "id": "336bcabb",
   "metadata": {},
   "outputs": [
    {
     "name": "stdout",
     "output_type": "stream",
     "text": [
      "Number of ZZPhase Gates: 18\n"
     ]
    },
    {
     "data": {
      "text/html": [
       "\n",
       "\n",
       "\n",
       "\n",
       "\n",
       "\n",
       "<div style=\"resize: vertical; overflow: auto; height: 400px; display: block\">\n",
       "    <iframe srcdoc=\"\n",
       "&lt;!DOCTYPE html&gt;\n",
       "&lt;html lang=&#34;en&#34;&gt;\n",
       "&lt;head&gt;\n",
       "    &lt;meta charset=&#34;UTF-8&#34;&gt;\n",
       "    &lt;!-- Download Vue 3--&gt;\n",
       "&lt;script type=&#34;application/javascript&#34; src=&#34;https://cdn.jsdelivr.net/npm/vue@3&#34;&gt;&lt;/script&gt;\n",
       "&lt;!-- Download Circuit Renderer with styles --&gt;\n",
       "&lt;script type=&#34;application/javascript&#34; src=&#34;https://unpkg.com/pytket-circuit-renderer@0.7/dist/pytket-circuit-renderer.umd.js&#34;&gt;&lt;/script&gt;\n",
       "&lt;link rel=&#34;stylesheet&#34; href=&#34;https://unpkg.com/pytket-circuit-renderer@0.7/dist/pytket-circuit-renderer.css&#34;&gt;\n",
       "&lt;/head&gt;\n",
       "&lt;body&gt;\n",
       "\n",
       "\n",
       "\n",
       "    &lt;div id=&#34;circuit-display-vue-container-a92514b1-e332-4e28-afac-b91cd14e1aab&#34; class=&#34;pytket-circuit-display-container&#34;&gt;\n",
       "        &lt;div style=&#34;display: none&#34;&gt;\n",
       "            &lt;div id=&#34;circuit-json-to-display&#34;&gt;{&#34;bits&#34;: [[&#34;c&#34;, [0]], [&#34;c&#34;, [1]], [&#34;c&#34;, [2]], [&#34;c&#34;, [3]]], &#34;commands&#34;: [{&#34;args&#34;: [[&#34;q&#34;, [0]]], &#34;op&#34;: {&#34;params&#34;: [&#34;0.709075408535801&#34;, &#34;-2.50793246029551&#34;], &#34;type&#34;: &#34;PhasedX&#34;}}, {&#34;args&#34;: [[&#34;q&#34;, [1]]], &#34;op&#34;: {&#34;params&#34;: [&#34;0.51865961883694&#34;, &#34;-1.20047218152237&#34;], &#34;type&#34;: &#34;PhasedX&#34;}}, {&#34;args&#34;: [[&#34;q&#34;, [2]]], &#34;op&#34;: {&#34;params&#34;: [&#34;0.0811314322300521&#34;, &#34;-1.44525506968336&#34;], &#34;type&#34;: &#34;PhasedX&#34;}}, {&#34;args&#34;: [[&#34;q&#34;, [3]]], &#34;op&#34;: {&#34;params&#34;: [&#34;0.646774471652348&#34;, &#34;-2.72520226625166&#34;], &#34;type&#34;: &#34;PhasedX&#34;}}, {&#34;args&#34;: [[&#34;q&#34;, [0]], [&#34;q&#34;, [2]]], &#34;op&#34;: {&#34;params&#34;: [&#34;0.469693197280468&#34;], &#34;type&#34;: &#34;ZZPhase&#34;}}, {&#34;args&#34;: [[&#34;q&#34;, [1]], [&#34;q&#34;, [3]]], &#34;op&#34;: {&#34;params&#34;: [&#34;0.470410228404639&#34;], &#34;type&#34;: &#34;ZZPhase&#34;}}, {&#34;args&#34;: [[&#34;q&#34;, [0]]], &#34;op&#34;: {&#34;params&#34;: [&#34;0.5&#34;, &#34;-3.10613241328945&#34;], &#34;type&#34;: &#34;PhasedX&#34;}}, {&#34;args&#34;: [[&#34;q&#34;, [1]]], &#34;op&#34;: {&#34;params&#34;: [&#34;0.5&#34;, &#34;-1.01765468907798&#34;], &#34;type&#34;: &#34;PhasedX&#34;}}, {&#34;args&#34;: [[&#34;q&#34;, [2]]], &#34;op&#34;: {&#34;params&#34;: [&#34;0.5&#34;, &#34;-1.66969471084166&#34;], &#34;type&#34;: &#34;PhasedX&#34;}}, {&#34;args&#34;: [[&#34;q&#34;, [3]]], &#34;op&#34;: {&#34;params&#34;: [&#34;0.5&#34;, &#34;-3.71162196448761&#34;], &#34;type&#34;: &#34;PhasedX&#34;}}, {&#34;args&#34;: [[&#34;q&#34;, [0]], [&#34;q&#34;, [2]]], &#34;op&#34;: {&#34;params&#34;: [&#34;0.0707316992677786&#34;], &#34;type&#34;: &#34;ZZPhase&#34;}}, {&#34;args&#34;: [[&#34;q&#34;, [1]], [&#34;q&#34;, [3]]], &#34;op&#34;: {&#34;params&#34;: [&#34;0.144997209078931&#34;], &#34;type&#34;: &#34;ZZPhase&#34;}}, {&#34;args&#34;: [[&#34;q&#34;, [0]]], &#34;op&#34;: {&#34;params&#34;: [&#34;1/2&#34;, &#34;-3.60613241328945&#34;], &#34;type&#34;: &#34;PhasedX&#34;}}, {&#34;args&#34;: [[&#34;q&#34;, [1]]], &#34;op&#34;: {&#34;params&#34;: [&#34;1/2&#34;, &#34;-1.51765468907798&#34;], &#34;type&#34;: &#34;PhasedX&#34;}}, {&#34;args&#34;: [[&#34;q&#34;, [2]]], &#34;op&#34;: {&#34;params&#34;: [&#34;1/2&#34;, &#34;-2.16969471084166&#34;], &#34;type&#34;: &#34;PhasedX&#34;}}, {&#34;args&#34;: [[&#34;q&#34;, [3]]], &#34;op&#34;: {&#34;params&#34;: [&#34;1/2&#34;, &#34;-4.21162196448761&#34;], &#34;type&#34;: &#34;PhasedX&#34;}}, {&#34;args&#34;: [[&#34;q&#34;, [0]], [&#34;q&#34;, [2]]], &#34;op&#34;: {&#34;params&#34;: [&#34;-0.0037484238983807&#34;], &#34;type&#34;: &#34;ZZPhase&#34;}}, {&#34;args&#34;: [[&#34;q&#34;, [1]], [&#34;q&#34;, [3]]], &#34;op&#34;: {&#34;params&#34;: [&#34;0.00291500606267431&#34;], &#34;type&#34;: &#34;ZZPhase&#34;}}, {&#34;args&#34;: [[&#34;q&#34;, [0]]], &#34;op&#34;: {&#34;params&#34;: [&#34;0.377025307310455&#34;, &#34;-2.78771554027116&#34;], &#34;type&#34;: &#34;PhasedX&#34;}}, {&#34;args&#34;: [[&#34;q&#34;, [1]]], &#34;op&#34;: {&#34;params&#34;: [&#34;0.574524515377429&#34;, &#34;-0.376673372499946&#34;], &#34;type&#34;: &#34;PhasedX&#34;}}, {&#34;args&#34;: [[&#34;q&#34;, [2]]], &#34;op&#34;: {&#34;params&#34;: [&#34;0.527774586685322&#34;, &#34;-4.18497524600408&#34;], &#34;type&#34;: &#34;PhasedX&#34;}}, {&#34;args&#34;: [[&#34;q&#34;, [3]]], &#34;op&#34;: {&#34;params&#34;: [&#34;0.245600151965234&#34;, &#34;-3.3737417332071&#34;], &#34;type&#34;: &#34;PhasedX&#34;}}, {&#34;args&#34;: [[&#34;q&#34;, [0]], [&#34;q&#34;, [3]]], &#34;op&#34;: {&#34;params&#34;: [&#34;0.444938988633829&#34;], &#34;type&#34;: &#34;ZZPhase&#34;}}, {&#34;args&#34;: [[&#34;q&#34;, [1]], [&#34;q&#34;, [2]]], &#34;op&#34;: {&#34;params&#34;: [&#34;0.454383815007933&#34;], &#34;type&#34;: &#34;ZZPhase&#34;}}, {&#34;args&#34;: [[&#34;q&#34;, [0]]], &#34;op&#34;: {&#34;params&#34;: [&#34;0.5&#34;, &#34;-2.26318172014761&#34;], &#34;type&#34;: &#34;PhasedX&#34;}}, {&#34;args&#34;: [[&#34;q&#34;, [1]]], &#34;op&#34;: {&#34;params&#34;: [&#34;0.5&#34;, &#34;-0.168232229129949&#34;], &#34;type&#34;: &#34;PhasedX&#34;}}, {&#34;args&#34;: [[&#34;q&#34;, [2]]], &#34;op&#34;: {&#34;params&#34;: [&#34;0.5&#34;, &#34;-4.65335699699085&#34;], &#34;type&#34;: &#34;PhasedX&#34;}}, {&#34;args&#34;: [[&#34;q&#34;, [3]]], &#34;op&#34;: {&#34;params&#34;: [&#34;0.5&#34;, &#34;-4.14839372591035&#34;], &#34;type&#34;: &#34;PhasedX&#34;}}, {&#34;args&#34;: [[&#34;q&#34;, [0]], [&#34;q&#34;, [3]]], &#34;op&#34;: {&#34;params&#34;: [&#34;0.243999321848116&#34;], &#34;type&#34;: &#34;ZZPhase&#34;}}, {&#34;args&#34;: [[&#34;q&#34;, [1]], [&#34;q&#34;, [2]]], &#34;op&#34;: {&#34;params&#34;: [&#34;0.0914708501847175&#34;], &#34;type&#34;: &#34;ZZPhase&#34;}}, {&#34;args&#34;: [[&#34;q&#34;, [0]]], &#34;op&#34;: {&#34;params&#34;: [&#34;1/2&#34;, &#34;-2.76318172014761&#34;], &#34;type&#34;: &#34;PhasedX&#34;}}, {&#34;args&#34;: [[&#34;q&#34;, [1]]], &#34;op&#34;: {&#34;params&#34;: [&#34;1/2&#34;, &#34;-0.668232229129949&#34;], &#34;type&#34;: &#34;PhasedX&#34;}}, {&#34;args&#34;: [[&#34;q&#34;, [2]]], &#34;op&#34;: {&#34;params&#34;: [&#34;1/2&#34;, &#34;-5.15335699699085&#34;], &#34;type&#34;: &#34;PhasedX&#34;}}, {&#34;args&#34;: [[&#34;q&#34;, [3]]], &#34;op&#34;: {&#34;params&#34;: [&#34;1/2&#34;, &#34;-4.64839372591035&#34;], &#34;type&#34;: &#34;PhasedX&#34;}}, {&#34;args&#34;: [[&#34;q&#34;, [0]], [&#34;q&#34;, [3]]], &#34;op&#34;: {&#34;params&#34;: [&#34;-0.0472763995838892&#34;], &#34;type&#34;: &#34;ZZPhase&#34;}}, {&#34;args&#34;: [[&#34;q&#34;, [1]], [&#34;q&#34;, [2]]], &#34;op&#34;: {&#34;params&#34;: [&#34;0.0394761142855113&#34;], &#34;type&#34;: &#34;ZZPhase&#34;}}, {&#34;args&#34;: [[&#34;q&#34;, [0]]], &#34;op&#34;: {&#34;params&#34;: [&#34;0.629806942069391&#34;, &#34;-3.46386463927302&#34;], &#34;type&#34;: &#34;PhasedX&#34;}}, {&#34;args&#34;: [[&#34;q&#34;, [1]]], &#34;op&#34;: {&#34;params&#34;: [&#34;0.754160576806745&#34;, &#34;-0.186376079408982&#34;], &#34;type&#34;: &#34;PhasedX&#34;}}, {&#34;args&#34;: [[&#34;q&#34;, [2]]], &#34;op&#34;: {&#34;params&#34;: [&#34;0.165625143879912&#34;, &#34;-7.20553328809449&#34;], &#34;type&#34;: &#34;PhasedX&#34;}}, {&#34;args&#34;: [[&#34;q&#34;, [3]]], &#34;op&#34;: {&#34;params&#34;: [&#34;0.278724285639611&#34;, &#34;-5.92952411700077&#34;], &#34;type&#34;: &#34;PhasedX&#34;}}, {&#34;args&#34;: [[&#34;q&#34;, [0]], [&#34;q&#34;, [2]]], &#34;op&#34;: {&#34;params&#34;: [&#34;0.475350720748557&#34;], &#34;type&#34;: &#34;ZZPhase&#34;}}, {&#34;args&#34;: [[&#34;q&#34;, [1]], [&#34;q&#34;, [3]]], &#34;op&#34;: {&#34;params&#34;: [&#34;0.470764685152989&#34;], &#34;type&#34;: &#34;ZZPhase&#34;}}, {&#34;args&#34;: [[&#34;q&#34;, [0]]], &#34;op&#34;: {&#34;params&#34;: [&#34;0.5&#34;, &#34;-4.32904896735178&#34;], &#34;type&#34;: &#34;PhasedX&#34;}}, {&#34;args&#34;: [[&#34;q&#34;, [1]]], &#34;op&#34;: {&#34;params&#34;: [&#34;0.5&#34;, &#34;-0.892918598213054&#34;], &#34;type&#34;: &#34;PhasedX&#34;}}, {&#34;args&#34;: [[&#34;q&#34;, [2]]], &#34;op&#34;: {&#34;params&#34;: [&#34;0.5&#34;, &#34;-8.07239454956067&#34;], &#34;type&#34;: &#34;PhasedX&#34;}}, {&#34;args&#34;: [[&#34;q&#34;, [3]]], &#34;op&#34;: {&#34;params&#34;: [&#34;0.5&#34;, &#34;-6.80339942529274&#34;], &#34;type&#34;: &#34;PhasedX&#34;}}, {&#34;args&#34;: [[&#34;q&#34;, [0]], [&#34;q&#34;, [2]]], &#34;op&#34;: {&#34;params&#34;: [&#34;0.191908829604569&#34;], &#34;type&#34;: &#34;ZZPhase&#34;}}, {&#34;args&#34;: [[&#34;q&#34;, [1]], [&#34;q&#34;, [3]]], &#34;op&#34;: {&#34;params&#34;: [&#34;0.0737027362760076&#34;], &#34;type&#34;: &#34;ZZPhase&#34;}}, {&#34;args&#34;: [[&#34;q&#34;, [0]]], &#34;op&#34;: {&#34;params&#34;: [&#34;1/2&#34;, &#34;-4.82904896735178&#34;], &#34;type&#34;: &#34;PhasedX&#34;}}, {&#34;args&#34;: [[&#34;q&#34;, [1]]], &#34;op&#34;: {&#34;params&#34;: [&#34;1/2&#34;, &#34;-1.39291859821305&#34;], &#34;type&#34;: &#34;PhasedX&#34;}}, {&#34;args&#34;: [[&#34;q&#34;, [2]]], &#34;op&#34;: {&#34;params&#34;: [&#34;1/2&#34;, &#34;-8.57239454956067&#34;], &#34;type&#34;: &#34;PhasedX&#34;}}, {&#34;args&#34;: [[&#34;q&#34;, [3]]], &#34;op&#34;: {&#34;params&#34;: [&#34;1/2&#34;, &#34;-7.30339942529274&#34;], &#34;type&#34;: &#34;PhasedX&#34;}}, {&#34;args&#34;: [[&#34;q&#34;, [0]], [&#34;q&#34;, [2]]], &#34;op&#34;: {&#34;params&#34;: [&#34;7.32344697096268e-05&#34;], &#34;type&#34;: &#34;ZZPhase&#34;}}, {&#34;args&#34;: [[&#34;q&#34;, [1]], [&#34;q&#34;, [3]]], &#34;op&#34;: {&#34;params&#34;: [&#34;-0.00375703527341997&#34;], &#34;type&#34;: &#34;ZZPhase&#34;}}, {&#34;args&#34;: [[&#34;q&#34;, [0]]], &#34;op&#34;: {&#34;params&#34;: [&#34;-0.247848410539674&#34;, &#34;-5.91899338221352&#34;], &#34;type&#34;: &#34;PhasedX&#34;}}, {&#34;args&#34;: [[&#34;q&#34;, [1]]], &#34;op&#34;: {&#34;params&#34;: [&#34;-0.512161606807884&#34;, &#34;-2.81585555699706&#34;], &#34;type&#34;: &#34;PhasedX&#34;}}, {&#34;args&#34;: [[&#34;q&#34;, [2]]], &#34;op&#34;: {&#34;params&#34;: [&#34;-0.323892952158562&#34;, &#34;-8.30260072610763&#34;], &#34;type&#34;: &#34;PhasedX&#34;}}, {&#34;args&#34;: [[&#34;q&#34;, [3]]], &#34;op&#34;: {&#34;params&#34;: [&#34;-0.461149954277408&#34;, &#34;-8.77356538423109&#34;], &#34;type&#34;: &#34;PhasedX&#34;}}, {&#34;args&#34;: [[&#34;q&#34;, [0]], [&#34;c&#34;, [0]]], &#34;op&#34;: {&#34;type&#34;: &#34;Measure&#34;}}, {&#34;args&#34;: [[&#34;q&#34;, [1]], [&#34;c&#34;, [1]]], &#34;op&#34;: {&#34;type&#34;: &#34;Measure&#34;}}, {&#34;args&#34;: [[&#34;q&#34;, [2]], [&#34;c&#34;, [2]]], &#34;op&#34;: {&#34;type&#34;: &#34;Measure&#34;}}, {&#34;args&#34;: [[&#34;q&#34;, [3]], [&#34;c&#34;, [3]]], &#34;op&#34;: {&#34;type&#34;: &#34;Measure&#34;}}], &#34;created_qubits&#34;: [], &#34;discarded_qubits&#34;: [], &#34;implicit_permutation&#34;: [[[&#34;q&#34;, [0]], [&#34;q&#34;, [0]]], [[&#34;q&#34;, [1]], [&#34;q&#34;, [1]]], [[&#34;q&#34;, [2]], [&#34;q&#34;, [2]]], [[&#34;q&#34;, [3]], [&#34;q&#34;, [3]]]], &#34;name&#34;: &#34;QV Example without SU(4)&#34;, &#34;phase&#34;: &#34;0.984089533465522&#34;, &#34;qubits&#34;: [[&#34;q&#34;, [0]], [&#34;q&#34;, [1]], [&#34;q&#34;, [2]], [&#34;q&#34;, [3]]]}&lt;/div&gt;\n",
       "        &lt;/div&gt;\n",
       "        &lt;circuit-display-container\n",
       "                :circuit-element-str=&#34;&#39;#circuit-json-to-display&#39;&#34;\n",
       "                :init-render-options=&#34;initRenderOptions&#34;\n",
       "        &gt;&lt;/circuit-display-container&gt;\n",
       "    &lt;/div&gt;\n",
       "    &lt;script type=&#34;application/javascript&#34;&gt;\n",
       "      const circuitRendererUid = &#34;a92514b1-e332-4e28-afac-b91cd14e1aab&#34;;\n",
       "      const displayOptions = JSON.parse(&#39;{}&#39;);\n",
       "\n",
       "      // Script to initialise the circuit renderer app\n",
       "\n",
       "const { createApp } = Vue;\n",
       "const circuitDisplayContainer = window[&#34;pytket-circuit-renderer&#34;].default;\n",
       "// Init variables to be shared between circuit display instances\n",
       "if (typeof window.pytketCircuitDisplays === &#34;undefined&#34;) {\n",
       "    window.pytketCircuitDisplays = {};\n",
       "}\n",
       "// Create the root Vue component\n",
       "const app = createApp({\n",
       "    delimiters: [&#39;[[#&#39;, &#39;#]]&#39;],\n",
       "    components: { circuitDisplayContainer },\n",
       "    data () {\n",
       "      return {\n",
       "        initRenderOptions: displayOptions,\n",
       "      }\n",
       "    }\n",
       "})\n",
       "app.config.unwrapInjectedRef = true;\n",
       "app.mount(&#34;#circuit-display-vue-container-&#34;+circuitRendererUid);\n",
       "window.pytketCircuitDisplays[circuitRendererUid] = app;\n",
       "    &lt;/script&gt;\n",
       "\n",
       "\n",
       "\n",
       "&lt;/body&gt;\n",
       "&lt;/html&gt;\n",
       "\"\n",
       "            width=\"100%\" height=\"100%\"\n",
       "            style=\"border: none; outline: none; overflow: auto\"></iframe>\n",
       "</div>\n",
       "\n"
      ],
      "text/plain": [
       "<IPython.core.display.HTML object>"
      ]
     },
     "metadata": {},
     "output_type": "display_data"
    }
   ],
   "source": [
    "compiled_circuit_no_su4 = quantinuum_backend.get_compiled_circuit(qv_circuit_no_SU4, optimisation_level=2)\n",
    "print(f\"Number of ZZPhase Gates: {compiled_circuit_no_su4.n_2qb_gates()}\")\n",
    "render_circuit_jupyter(compiled_circuit_no_su4)"
   ]
  },
  {
   "cell_type": "markdown",
   "id": "b7ac403a-1ac6-4b24-9f4e-9d5ff575e423",
   "metadata": {},
   "source": [
    "<div align=\"center\"> &copy; 2024 by Quantinuum. All Rights Reserved. </div>"
   ]
  }
 ],
 "metadata": {
  "interpreter": {
   "hash": "fa09926369ab226b30f0f4d8b39a7b037b96c84df8a0d093a9349ea6fad58125"
  },
  "kernelspec": {
   "display_name": "Python 3 (ipykernel)",
   "language": "python",
   "name": "python3"
  },
  "language_info": {
   "codemirror_mode": {
    "name": "ipython",
    "version": 3
   },
   "file_extension": ".py",
   "mimetype": "text/x-python",
   "name": "python",
   "nbconvert_exporter": "python",
   "pygments_lexer": "ipython3",
   "version": "3.10.12"
  }
 },
 "nbformat": 4,
 "nbformat_minor": 5
}
