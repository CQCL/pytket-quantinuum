{
 "cells": [
  {
   "cell_type": "markdown",
   "id": "d791c1ee",
   "metadata": {},
   "source": [
    "<div style=\"text-align: center;\">\n",
    "<img src=\"https://assets-global.website-files.com/62b9d45fb3f64842a96c9686/62d84db4aeb2f6552f3a2f78_Quantinuum%20Logo__horizontal%20blue.svg\" width=\"200\" height=\"200\" /></div>"
   ]
  },
  {
   "cell_type": "markdown",
   "id": "7cc7cc2c-704f-4560-81b4-98b4564abf8d",
   "metadata": {},
   "source": [
    "# Advanced Compilation Options with H-Series"
   ]
  },
  {
   "cell_type": "markdown",
   "id": "f7f3e2d2",
   "metadata": {},
   "source": [
    "A general $SU(4)$ entangler gate is available on the H-Series device. This gate is available as `Optype.TK2` via `tket`. This article showcases the workflow to prepare and submit a circuit with the $SU(4)$ gate with a QVT (Quantum Volume Test) use-case.\n",
    "\n",
    "Native gates are gates on a quantum computer that the hardware physically executes. Different quantum computers may have different gates that are physically executed on the hardware. Writing a gate in a quantum circuit submitted to hardware doesn't guarantee its physical execution on the device. For instance, on H-Series quantum computers, a Hadamard gate written in the circuit is not the actual gate executed. When users submit circuits using a Hadamard gate, the gate is translated into a $U1q$ gate followed by a $Rz$ gate, which the ion trap device physically executes. For a listing of the H-Series hardware native gates, see the following links: \n",
    "* *System Model H1 Product Data Sheet* available at [System Model H1](https://www.quantinuum.com/hardware/h1); \n",
    "* *System Model H2 Product Data Sheet* available at [System Model H2](https://www.quantinuum.com/hardware/h2). \n",
    "\n",
    "The H-Series hardware compiler handles the translation from circuits users submit to the native gates run on hardware. In the H-Series Quantum Charge-Coupled Device (QCCD) architecture, the hardware compilation includes the assignment of which physical qubit corresponds to which qubit in a circuit as well as how qubits will be transported around the device. Since transport, as well as gating, incurs a small amount of error with each operation, the H-Series compiler aims to minimize the number of gates that need to be executed. \n",
    "\n",
    "<div style=\"text-align: center;\">\n",
    "         <img src=\"figures/hseries-compilation-stack.png\" width=\"800\" />\n",
    "</div>"
   ]
  },
  {
   "cell_type": "markdown",
   "id": "755ce7b6",
   "metadata": {},
   "source": [
    "**Contents:**\n",
    "* [H-Series Hardware Compilation](#H-Series-Hardware-Compilation)\n",
    "  * [Compiling to H-Series Hardware Native Gates](#Compiling-to-H-Series-Hardware-Native-Gates)\n",
    "  * [The General $SU(4)$ Entangler Gate](#The-General-$SU\\(4\\)$-Entangler-Gate)\n",
    "  * [Quantinuum API Compiler Options](#Quantinuum-API-Compiler-Options)\n",
    "* [Use-Case: Quantum Volume Test](#Use-Case:-Quantum-Volume-Test)\n",
    "  * [Decomposing a random $SU(4)$ unitary into a circuit primitive](#Decomposing-a-random-$SU\\(4\\)$-unitary-into-a-circuit-primitive)\n",
    "  * [Building the Quantum Volume Test Circuit](#Building-the-Quantum-Volume-Test-Circuit)\n",
    "  * [Define Native Two-Qubit Gate to Use With `QuantinuumBackend`](#Define-Native-Two-Qubit-Gate-to-Use-With-QuantinuumBackend)\n",
    "    * [Generalized $SU(4)$ Entangler](#Generalized-$SU\\(4\\)$-Entangler)\n",
    "    * [Arbitrary Angle ZZ Gate](#Arbitrary-Angle-ZZ-Gate)\n",
    "* [Summary](#Summary)"
   ]
  },
  {
   "cell_type": "markdown",
   "id": "2a37a860",
   "metadata": {},
   "source": [
    "## H-Series Hardware Compilation"
   ]
  },
  {
   "cell_type": "markdown",
   "id": "cad1e184",
   "metadata": {},
   "source": [
    "### Compiling to H-Series Hardware Native Gates"
   ]
  },
  {
   "cell_type": "markdown",
   "id": "ca352fad-d574-475a-a6ec-af3cd8fcc288",
   "metadata": {},
   "source": [
    "On the Quantinuum H-Series devices, there are different native two-qubit gates available. The default native two-qubit gates are an arbitrary-angle two-qubit gate, $Rzz(\\theta)$, or a fully entangling two-qubit gate, $ZZ()$. The fully entangling two-qubit gate is equal to, $Rzz(\\frac{\\pi}{2})$. An additional native gate is available, the General $SU(4)$ Entangler gate, $Rxxyyzz(\\alpha, \\beta\\, \\gamma)$. This is available as `OpType.TK2` within `tket`.\n",
    "\n",
    "`tket` by default, compiles to the arbitrary angle two-qubit gate, $Rzz(\\theta)$ gate (`OpType.ZZPhase`). Currently, only one native gate can be specified at a time. This ensures everything aligns in the global operations of the circuit. The other two native gates are `OpType.ZZMax` and `OpType.TK2`.\n",
    "\n",
    "Usage of the general $SU(4)$ entangler gate requires further specification of the default native two-qubit gate via: \n",
    "* `QuantinuumBackendCompilationConfig` option. The `native_2qb_gate` argument needs to be set to `OpType.TK2` to enable use of the SU(4) gate. \n",
    "* `QuantinuumBackend.set_compilation_config_target_2qb_gate` instance method. The argument needs to be `OpType.TK2`.\n",
    "\n",
    "\n",
    "When using `tket`, the following Quantinuum API options are predefined with defaults to prevent further modification of the submitted circuit in the H-Series stack:\n",
    "* `no-reduce`: `True`\n",
    "* `no-opt`: True\n",
    "* `tket-opt-level`: None"
   ]
  },
  {
   "cell_type": "markdown",
   "id": "3f299fe5",
   "metadata": {},
   "source": [
    "\n",
    "<div style=\"text-align: center;\">\n",
    "         <img src=\"figures/hseries-stack-options.png\" width=\"800\" />\n",
    "</div>"
   ]
  },
  {
   "cell_type": "markdown",
   "id": "115d526c",
   "metadata": {},
   "source": [
    "### The General $SU(4)$ Entangler Gate\n",
    "\n",
    "The General $SU(4)$ Entangler gate is available in TKET as [`OpType.TK2`](https://tket.quantinuum.com/api-docs/circuit_class.html#pytket.circuit.Circuit.TK2). This gate is a combination of `OpType.XXPhase`, `OpType.YYPhase` and `OpType.ZZPhase`, and requires three angles as input, $\\alpha$, $\\beta$ and $\\gamma$. The definition of the gate is provided below:\n",
    "\n",
    "$$\\begin{align} \\textrm{TK2}(\\alpha, \\beta, \\gamma) &= \\exp\\left\\{-\\frac{1}{2} i \\pi \\alpha (\\hat{X} \\bigotimes \\hat{X})\\right\\} \\quad \\exp\\left\\{-\\frac{1}{2} i \\pi \\beta (\\hat{Y} \\bigotimes \\hat{Y})\\right\\} \\quad \\exp\\left\\{-\\frac{1}{2} \\pi \\gamma (\\hat{Z} \\bigotimes \\hat{Z})\\right\\} \\\\ &= \\exp\\left\\{-\\frac{1}{2} i \\alpha (\\hat{X} \\bigotimes \\hat{X}) -\\frac{1}{2} i \\pi \\beta (\\hat{Y} \\bigotimes \\hat{Y}) -\\frac{1}{2} i \\pi \\gamma (\\hat{Z} \\bigotimes \\hat{Z})\\right\\} \\end{align} $$\n",
    "\n",
    "This gate can be used as follows within TKET."
   ]
  },
  {
   "cell_type": "code",
   "execution_count": 1,
   "id": "8314af95",
   "metadata": {},
   "outputs": [
    {
     "data": {
      "text/html": [
       "\n",
       "\n",
       "\n",
       "\n",
       "\n",
       "\n",
       "<div style=\"resize: vertical; overflow: auto; height: 400px; display: block\">\n",
       "    <iframe srcdoc=\"\n",
       "&lt;!DOCTYPE html&gt;\n",
       "&lt;html lang=&#34;en&#34;&gt;\n",
       "&lt;head&gt;\n",
       "    &lt;meta charset=&#34;UTF-8&#34;&gt;\n",
       "    &lt;!-- Download Vue 3--&gt;\n",
       "&lt;script type=&#34;application/javascript&#34; src=&#34;https://cdn.jsdelivr.net/npm/vue@3&#34;&gt;&lt;/script&gt;\n",
       "&lt;!-- Download Circuit Renderer with styles --&gt;\n",
       "&lt;script type=&#34;application/javascript&#34; src=&#34;https://unpkg.com/pytket-circuit-renderer@0.7/dist/pytket-circuit-renderer.umd.js&#34;&gt;&lt;/script&gt;\n",
       "&lt;link rel=&#34;stylesheet&#34; href=&#34;https://unpkg.com/pytket-circuit-renderer@0.7/dist/pytket-circuit-renderer.css&#34;&gt;\n",
       "&lt;/head&gt;\n",
       "&lt;body&gt;\n",
       "\n",
       "\n",
       "\n",
       "    &lt;div id=&#34;circuit-display-vue-container-7d801d3e-ab4c-4c59-94fd-a0766bf81366&#34; class=&#34;pytket-circuit-display-container&#34;&gt;\n",
       "        &lt;div style=&#34;display: none&#34;&gt;\n",
       "            &lt;div id=&#34;circuit-json-to-display&#34;&gt;{&#34;bits&#34;: [], &#34;commands&#34;: [{&#34;args&#34;: [[&#34;q&#34;, [0]], [&#34;q&#34;, [1]]], &#34;op&#34;: {&#34;params&#34;: [&#34;a&#34;, &#34;b&#34;, &#34;c&#34;], &#34;type&#34;: &#34;TK2&#34;}}], &#34;created_qubits&#34;: [], &#34;discarded_qubits&#34;: [], &#34;implicit_permutation&#34;: [[[&#34;q&#34;, [0]], [&#34;q&#34;, [0]]], [[&#34;q&#34;, [1]], [&#34;q&#34;, [1]]]], &#34;phase&#34;: &#34;0.0&#34;, &#34;qubits&#34;: [[&#34;q&#34;, [0]], [&#34;q&#34;, [1]]]}&lt;/div&gt;\n",
       "        &lt;/div&gt;\n",
       "        &lt;circuit-display-container\n",
       "                :circuit-element-str=&#34;&#39;#circuit-json-to-display&#39;&#34;\n",
       "                :init-render-options=&#34;initRenderOptions&#34;\n",
       "        &gt;&lt;/circuit-display-container&gt;\n",
       "    &lt;/div&gt;\n",
       "    &lt;script type=&#34;application/javascript&#34;&gt;\n",
       "      const circuitRendererUid = &#34;7d801d3e-ab4c-4c59-94fd-a0766bf81366&#34;;\n",
       "      const displayOptions = JSON.parse(&#39;{}&#39;);\n",
       "\n",
       "      // Script to initialise the circuit renderer app\n",
       "\n",
       "const { createApp } = Vue;\n",
       "const circuitDisplayContainer = window[&#34;pytket-circuit-renderer&#34;].default;\n",
       "// Init variables to be shared between circuit display instances\n",
       "if (typeof window.pytketCircuitDisplays === &#34;undefined&#34;) {\n",
       "    window.pytketCircuitDisplays = {};\n",
       "}\n",
       "// Create the root Vue component\n",
       "const app = createApp({\n",
       "    delimiters: [&#39;[[#&#39;, &#39;#]]&#39;],\n",
       "    components: { circuitDisplayContainer },\n",
       "    data () {\n",
       "      return {\n",
       "        initRenderOptions: displayOptions,\n",
       "      }\n",
       "    }\n",
       "})\n",
       "app.config.unwrapInjectedRef = true;\n",
       "app.mount(&#34;#circuit-display-vue-container-&#34;+circuitRendererUid);\n",
       "window.pytketCircuitDisplays[circuitRendererUid] = app;\n",
       "    &lt;/script&gt;\n",
       "\n",
       "\n",
       "\n",
       "&lt;/body&gt;\n",
       "&lt;/html&gt;\n",
       "\"\n",
       "            width=\"100%\" height=\"100%\"\n",
       "            style=\"border: none; outline: none; overflow: auto\"></iframe>\n",
       "</div>\n",
       "\n"
      ],
      "text/plain": [
       "<IPython.core.display.HTML object>"
      ]
     },
     "metadata": {},
     "output_type": "display_data"
    }
   ],
   "source": [
    "from pytket.circuit.display import render_circuit_jupyter\n",
    "from pytket.circuit import Circuit\n",
    "from sympy import Symbol\n",
    "\n",
    "symbols = [Symbol(\"a\"), Symbol(\"b\"), Symbol(\"c\")]\n",
    "circuit = Circuit(2)\n",
    "circuit.TK2(*symbols, *circuit.qubits)\n",
    "render_circuit_jupyter(circuit)"
   ]
  },
  {
   "cell_type": "markdown",
   "id": "ad806573",
   "metadata": {},
   "source": [
    "This circuit can be converted to a QASM string using the [`circuit_to_qasm_str`](https://tket.quantinuum.com/api-docs/qasm.html#pytket.qasm.circuit_to_qasm_str) function and by specifying the Quantinuum header `hqslib1`."
   ]
  },
  {
   "cell_type": "code",
   "execution_count": 2,
   "id": "644ff6a4",
   "metadata": {},
   "outputs": [
    {
     "name": "stdout",
     "output_type": "stream",
     "text": [
      "OPENQASM 2.0;\n",
      "include \"hqslib1.inc\";\n",
      "\n",
      "qreg q[2];\n",
      "Rxxyyzz((a)*pi,(b)*pi,(c)*pi) q[0],q[1];\n",
      "\n"
     ]
    }
   ],
   "source": [
    "from pytket.qasm.qasm import circuit_to_qasm_str\n",
    "\n",
    "print(circuit_to_qasm_str(circuit, header=\"hqslib1\"))"
   ]
  },
  {
   "cell_type": "markdown",
   "id": "2894473d",
   "metadata": {},
   "source": [
    "### Quantum API Compiler Options"
   ]
  },
  {
   "cell_type": "markdown",
   "id": "8b1d7666",
   "metadata": {},
   "source": [
    "The following Quantinuum API options enable circuit compilation in the H-Series stack. They can be defined using the `options` keyword argument in the `QuantinuumBackend` constructor or `process_circuit` (`process_circuits`) instance method.\n",
    "\n",
    "Quantinuum API Options:\n",
    "* `no-reduce`: turns off all `tket` optimizations, all hardware compiler gate combination logic, and requires \n",
    "    exact 1:1 correspondence of two-qubit gates with gates on the system. This requires the circuit be submitted using \n",
    "    one of the native two-qubit gates on the system, otherwise an error will be returned.\n",
    "* `no-opt`: turns off all `tket` optimizations *and* all hardware compiler gate combination logic.\n",
    "    * If more than 1 native gate is used in the circuit, the circuit will be rebased to 1 native gate, but no further gate combination logic will occur.\n",
    "    * The job will fail if `no-opt` is set to `True` and the circuit contains non-native gates. \n",
    "* `tket-opt-level`: the `tket` optimization level to apply, with `tket` optimizations turned on, the hardware compiler will provide further gate combination logic as makes sense for ions and transport.\n",
    "  * `2`: powerful optimizations, compilation can be time-consuming\n",
    "  * `1`: basic optimization, compiles quickly\n",
    "  * `0`: rebase the circuit with `tket`\n",
    "  * `None`: rebase the circuit without `tket`, using the hardware compiler only."
   ]
  },
  {
   "cell_type": "markdown",
   "id": "c9088c9a",
   "metadata": {},
   "source": [
    "## Use-Case: Quantum Volume Test"
   ]
  },
  {
   "cell_type": "markdown",
   "id": "3c79e573-04c6-4142-9eb5-6d74cfb97b24",
   "metadata": {},
   "source": [
    "Now we illustrate the above compilation options using the Quantum Volume Test. \n",
    "\n",
    "Quantum volume is a benchmarking test that was initially proposed by IBM ([arXiv:1811.12926](https://arxiv.org/abs/1811.12926)). It is a test that aims to verify the quality as well as the quantity of qubits on the machine. The test does this by performing rounds of single and two qubit gates between random pairs of qubits for as many rounds as qubits in the test. For example, for quantum volume of $2^N$ where $N=4$, 4 random rounds of gates are performed. If the quantum computer performing the test passes, it verifies that the quantum computer can perform quality computation with reasonable-sized circuits. The advantage to using quantum volume is that it gives users the confidence that not only do they have the number of qubits to support running their circuit, but the two-qubit gate fidelity is there to support circuits of significant depth as well. Quantum algorithms need not only qubits, but the ability to run many gates. Quantinuum has steadily been increasing the quantum volume of H-Series machines. \n",
    "\n",
    "The workflow involves specifying the use of the desired native gate both in the `tket` compiler options as well as the hardware options when submitting circuits with `process_circuit`.\n",
    "\n",
    "<div style=\"text-align: center;\">\n",
    "         <img src=\"figures/native-gates-workflow.png\" width=\"300\" />\n",
    "</div>\n",
    "\n",
    "First we import the functions we need in `tket`.   "
   ]
  },
  {
   "cell_type": "code",
   "execution_count": 3,
   "id": "c5cd7eda-ed96-4b84-896f-103349601b43",
   "metadata": {},
   "outputs": [],
   "source": [
    "import numpy as np\n",
    "\n",
    "from pytket import Circuit, OpType\n",
    "from pytket.circuit.display import render_circuit_jupyter\n",
    "\n",
    "from pytket.extensions.quantinuum import QuantinuumBackend\n",
    "from pytket.extensions.quantinuum.backends.quantinuum import QuantinuumBackendCompilationConfig"
   ]
  },
  {
   "cell_type": "markdown",
   "id": "fc930451",
   "metadata": {},
   "source": [
    "### Decomposing a random $SU(4)$ unitary into a circuit primitive\n",
    "\n",
    "To set up the Quantum Volume test, we start by building up the repeated circuit elements. The function in the code cell below defines a `tket` Circuit Box with [`pytket.circuit.CircBox`](https://tket.quantinuum.com/api-docs/circuit.html#pytket.circuit.CircBox). Circuit Boxes are useful for composing larger circuits from smaller subcircuits that utilize the same set of gates.\n",
    "\n",
    "The Circuit box below contains a blueprint for the decomposition of a random generalized $SU(4)$ unitary distributed with the Haar Measure into a circuit primitive over 2-qubits. The implementation is based on [arxiv.0609050](http://arxiv.org/abs/math-ph/0609050). The random $SU(4)$ unitary is generated using [`scipy.stats.unitary_group`](https://docs.scipy.org/doc/scipy/reference/generated/scipy.stats.unitary_group.html#scipy-stats-unitary-group)."
   ]
  },
  {
   "cell_type": "code",
   "execution_count": 4,
   "id": "c687d9fc",
   "metadata": {},
   "outputs": [],
   "source": [
    "from pytket.circuit import CircBox, Circuit, Unitary2qBox\n",
    "import numpy as np\n",
    "from scipy.stats import unitary_group\n",
    "\n",
    "def haar_random_su4_box() -> CircBox:\n",
    "    r = unitary_group.rvs(dim=4)\n",
    "    circuit = Circuit(2)\n",
    "    box = Unitary2qBox(r)\n",
    "    circuit.add_unitary2qbox(box, 0, 1)\n",
    "    return CircBox(circuit)"
   ]
  },
  {
   "cell_type": "code",
   "execution_count": 5,
   "id": "ec997759",
   "metadata": {},
   "outputs": [
    {
     "data": {
      "text/html": [
       "\n",
       "\n",
       "\n",
       "\n",
       "\n",
       "\n",
       "<div style=\"resize: vertical; overflow: auto; height: 400px; display: block\">\n",
       "    <iframe srcdoc=\"\n",
       "&lt;!DOCTYPE html&gt;\n",
       "&lt;html lang=&#34;en&#34;&gt;\n",
       "&lt;head&gt;\n",
       "    &lt;meta charset=&#34;UTF-8&#34;&gt;\n",
       "    &lt;!-- Download Vue 3--&gt;\n",
       "&lt;script type=&#34;application/javascript&#34; src=&#34;https://cdn.jsdelivr.net/npm/vue@3&#34;&gt;&lt;/script&gt;\n",
       "&lt;!-- Download Circuit Renderer with styles --&gt;\n",
       "&lt;script type=&#34;application/javascript&#34; src=&#34;https://unpkg.com/pytket-circuit-renderer@0.7/dist/pytket-circuit-renderer.umd.js&#34;&gt;&lt;/script&gt;\n",
       "&lt;link rel=&#34;stylesheet&#34; href=&#34;https://unpkg.com/pytket-circuit-renderer@0.7/dist/pytket-circuit-renderer.css&#34;&gt;\n",
       "&lt;/head&gt;\n",
       "&lt;body&gt;\n",
       "\n",
       "\n",
       "\n",
       "    &lt;div id=&#34;circuit-display-vue-container-f0879441-87c7-4dc9-9a85-a9387f289df0&#34; class=&#34;pytket-circuit-display-container&#34;&gt;\n",
       "        &lt;div style=&#34;display: none&#34;&gt;\n",
       "            &lt;div id=&#34;circuit-json-to-display&#34;&gt;{&#34;bits&#34;: [], &#34;commands&#34;: [{&#34;args&#34;: [[&#34;q&#34;, [0]], [&#34;q&#34;, [1]]], &#34;op&#34;: {&#34;box&#34;: {&#34;id&#34;: &#34;88337e78-bade-4527-9334-78ce99c46b43&#34;, &#34;matrix&#34;: [[[0.5889751068085725, -0.1899131448105188], [0.22517606174714278, -0.38489675468818635], [0.3369696477666219, 0.49595645663343313], [-0.036310773656456276, 0.2394822076035636]], [[-0.06623775390310618, -0.49814016793428195], [0.5494946869531606, 0.16790512342239652], [-0.38638968642619137, -0.049922336815325805], [0.4573320904138312, 0.23746688437573035]], [[-0.24186615118871757, 0.05093660919965018], [-0.3966350098199389, 0.4215773690877992], [0.09431538952145681, 0.6252985672375334], [0.3301895217715378, 0.3081243359959285]], [[-0.4135304800377348, -0.36388050630453617], [0.28049709829861214, 0.2393496536231292], [0.21015775280817955, 0.21125682986056243], [-0.6867863134642221, 0.012061126728731865]]], &#34;type&#34;: &#34;Unitary2qBox&#34;}, &#34;type&#34;: &#34;Unitary2qBox&#34;}}], &#34;created_qubits&#34;: [], &#34;discarded_qubits&#34;: [], &#34;implicit_permutation&#34;: [[[&#34;q&#34;, [0]], [&#34;q&#34;, [0]]], [[&#34;q&#34;, [1]], [&#34;q&#34;, [1]]]], &#34;phase&#34;: &#34;0.0&#34;, &#34;qubits&#34;: [[&#34;q&#34;, [0]], [&#34;q&#34;, [1]]]}&lt;/div&gt;\n",
       "        &lt;/div&gt;\n",
       "        &lt;circuit-display-container\n",
       "                :circuit-element-str=&#34;&#39;#circuit-json-to-display&#39;&#34;\n",
       "                :init-render-options=&#34;initRenderOptions&#34;\n",
       "        &gt;&lt;/circuit-display-container&gt;\n",
       "    &lt;/div&gt;\n",
       "    &lt;script type=&#34;application/javascript&#34;&gt;\n",
       "      const circuitRendererUid = &#34;f0879441-87c7-4dc9-9a85-a9387f289df0&#34;;\n",
       "      const displayOptions = JSON.parse(&#39;{}&#39;);\n",
       "\n",
       "      // Script to initialise the circuit renderer app\n",
       "\n",
       "const { createApp } = Vue;\n",
       "const circuitDisplayContainer = window[&#34;pytket-circuit-renderer&#34;].default;\n",
       "// Init variables to be shared between circuit display instances\n",
       "if (typeof window.pytketCircuitDisplays === &#34;undefined&#34;) {\n",
       "    window.pytketCircuitDisplays = {};\n",
       "}\n",
       "// Create the root Vue component\n",
       "const app = createApp({\n",
       "    delimiters: [&#39;[[#&#39;, &#39;#]]&#39;],\n",
       "    components: { circuitDisplayContainer },\n",
       "    data () {\n",
       "      return {\n",
       "        initRenderOptions: displayOptions,\n",
       "      }\n",
       "    }\n",
       "})\n",
       "app.config.unwrapInjectedRef = true;\n",
       "app.mount(&#34;#circuit-display-vue-container-&#34;+circuitRendererUid);\n",
       "window.pytketCircuitDisplays[circuitRendererUid] = app;\n",
       "    &lt;/script&gt;\n",
       "\n",
       "\n",
       "\n",
       "&lt;/body&gt;\n",
       "&lt;/html&gt;\n",
       "\"\n",
       "            width=\"100%\" height=\"100%\"\n",
       "            style=\"border: none; outline: none; overflow: auto\"></iframe>\n",
       "</div>\n",
       "\n"
      ],
      "text/plain": [
       "<IPython.core.display.HTML object>"
      ]
     },
     "metadata": {},
     "output_type": "display_data"
    }
   ],
   "source": [
    "from pytket.circuit.display import render_circuit_jupyter\n",
    "\n",
    "circuit = haar_random_su4_box().get_circuit()\n",
    "render_circuit_jupyter(circuit)"
   ]
  },
  {
   "cell_type": "markdown",
   "id": "407f42d9",
   "metadata": {},
   "source": [
    "Next we can take a look inside the $SU(4)$ circuit we set up to see the gates inside of the Circuit Box as well as apply further gate reductions. We can take a look inside Circuit Boxes with the `DecomposeBoxes` function and perform further decompositions with the `KAKDecomposition` function. We specify use of the $SU(4)$ gate in this function call as the target 2-qubit gate after decomposition. \n",
    "\n",
    "The `pytket` sequence pass, consists of two passes:\n",
    "* [`pytket.passes.DecomposeBoxes`](https://tket.quantinuum.com/api-docs/passes.html#pytket.passes.DecomposeBoxes)\n",
    "* [`pytket.passes.KAKDecomposition`](https://tket.quantinuum.com/api-docs/passes.html#pytket.passes.KAKDecomposition)\n",
    "\n",
    "Both passes are arguments to [`pytket.passes.SequencePass`](https://tket.quantinuum.com/api-docs/passes.html#pytket.passes.SequencePass). `SequencePass` allows both passes to be applied to the input circuit with one `apply` call."
   ]
  },
  {
   "cell_type": "code",
   "execution_count": 6,
   "id": "ebc9a20f",
   "metadata": {},
   "outputs": [],
   "source": [
    "from pytket.passes import DecomposeBoxes, KAKDecomposition, SequencePass\n",
    "from pytket.circuit import OpType\n",
    "\n",
    "sequence_pass = SequencePass([DecomposeBoxes(), KAKDecomposition(target_2qb_gate=OpType.TK2)])"
   ]
  },
  {
   "cell_type": "code",
   "execution_count": 7,
   "id": "15c103e8",
   "metadata": {},
   "outputs": [
    {
     "data": {
      "text/html": [
       "\n",
       "\n",
       "\n",
       "\n",
       "\n",
       "\n",
       "<div style=\"resize: vertical; overflow: auto; height: 400px; display: block\">\n",
       "    <iframe srcdoc=\"\n",
       "&lt;!DOCTYPE html&gt;\n",
       "&lt;html lang=&#34;en&#34;&gt;\n",
       "&lt;head&gt;\n",
       "    &lt;meta charset=&#34;UTF-8&#34;&gt;\n",
       "    &lt;!-- Download Vue 3--&gt;\n",
       "&lt;script type=&#34;application/javascript&#34; src=&#34;https://cdn.jsdelivr.net/npm/vue@3&#34;&gt;&lt;/script&gt;\n",
       "&lt;!-- Download Circuit Renderer with styles --&gt;\n",
       "&lt;script type=&#34;application/javascript&#34; src=&#34;https://unpkg.com/pytket-circuit-renderer@0.7/dist/pytket-circuit-renderer.umd.js&#34;&gt;&lt;/script&gt;\n",
       "&lt;link rel=&#34;stylesheet&#34; href=&#34;https://unpkg.com/pytket-circuit-renderer@0.7/dist/pytket-circuit-renderer.css&#34;&gt;\n",
       "&lt;/head&gt;\n",
       "&lt;body&gt;\n",
       "\n",
       "\n",
       "\n",
       "    &lt;div id=&#34;circuit-display-vue-container-7686eedf-3cff-4c9d-a4f1-73b74a969b8a&#34; class=&#34;pytket-circuit-display-container&#34;&gt;\n",
       "        &lt;div style=&#34;display: none&#34;&gt;\n",
       "            &lt;div id=&#34;circuit-json-to-display&#34;&gt;{&#34;bits&#34;: [], &#34;commands&#34;: [{&#34;args&#34;: [[&#34;q&#34;, [0]]], &#34;op&#34;: {&#34;params&#34;: [&#34;-0.954039966496666&#34;, &#34;0.803622092352815&#34;, &#34;-0.733347998331925&#34;], &#34;type&#34;: &#34;TK1&#34;}}, {&#34;args&#34;: [[&#34;q&#34;, [1]]], &#34;op&#34;: {&#34;params&#34;: [&#34;0.0754896384249971&#34;, &#34;0.32330756896229&#34;, &#34;-0.145641416122621&#34;], &#34;type&#34;: &#34;TK1&#34;}}, {&#34;args&#34;: [[&#34;q&#34;, [0]]], &#34;op&#34;: {&#34;type&#34;: &#34;Vdg&#34;}}, {&#34;args&#34;: [[&#34;q&#34;, [1]]], &#34;op&#34;: {&#34;type&#34;: &#34;Vdg&#34;}}, {&#34;args&#34;: [[&#34;q&#34;, [0]]], &#34;op&#34;: {&#34;type&#34;: &#34;Z&#34;}}, {&#34;args&#34;: [[&#34;q&#34;, [0]]], &#34;op&#34;: {&#34;type&#34;: &#34;X&#34;}}, {&#34;args&#34;: [[&#34;q&#34;, [0]], [&#34;q&#34;, [1]]], &#34;op&#34;: {&#34;params&#34;: [&#34;0.424878180602413&#34;, &#34;0.146097841003951&#34;, &#34;0.00281867270664238&#34;], &#34;type&#34;: &#34;TK2&#34;}}, {&#34;args&#34;: [[&#34;q&#34;, [0]]], &#34;op&#34;: {&#34;type&#34;: &#34;Z&#34;}}, {&#34;args&#34;: [[&#34;q&#34;, [1]]], &#34;op&#34;: {&#34;type&#34;: &#34;X&#34;}}, {&#34;args&#34;: [[&#34;q&#34;, [0]]], &#34;op&#34;: {&#34;type&#34;: &#34;V&#34;}}, {&#34;args&#34;: [[&#34;q&#34;, [1]]], &#34;op&#34;: {&#34;type&#34;: &#34;Z&#34;}}, {&#34;args&#34;: [[&#34;q&#34;, [0]]], &#34;op&#34;: {&#34;params&#34;: [&#34;-0.302975018966231&#34;, &#34;0.216372388102979&#34;, &#34;0.735302624863004&#34;], &#34;type&#34;: &#34;TK1&#34;}}, {&#34;args&#34;: [[&#34;q&#34;, [1]]], &#34;op&#34;: {&#34;type&#34;: &#34;Z&#34;}}, {&#34;args&#34;: [[&#34;q&#34;, [1]]], &#34;op&#34;: {&#34;type&#34;: &#34;V&#34;}}, {&#34;args&#34;: [[&#34;q&#34;, [1]]], &#34;op&#34;: {&#34;params&#34;: [&#34;0.780189949581339&#34;, &#34;0.678712612724445&#34;, &#34;0.528379603981164&#34;], &#34;type&#34;: &#34;TK1&#34;}}], &#34;created_qubits&#34;: [], &#34;discarded_qubits&#34;: [], &#34;implicit_permutation&#34;: [[[&#34;q&#34;, [0]], [&#34;q&#34;, [0]]], [[&#34;q&#34;, [1]], [&#34;q&#34;, [1]]]], &#34;phase&#34;: &#34;0.375650113765566&#34;, &#34;qubits&#34;: [[&#34;q&#34;, [0]], [&#34;q&#34;, [1]]]}&lt;/div&gt;\n",
       "        &lt;/div&gt;\n",
       "        &lt;circuit-display-container\n",
       "                :circuit-element-str=&#34;&#39;#circuit-json-to-display&#39;&#34;\n",
       "                :init-render-options=&#34;initRenderOptions&#34;\n",
       "        &gt;&lt;/circuit-display-container&gt;\n",
       "    &lt;/div&gt;\n",
       "    &lt;script type=&#34;application/javascript&#34;&gt;\n",
       "      const circuitRendererUid = &#34;7686eedf-3cff-4c9d-a4f1-73b74a969b8a&#34;;\n",
       "      const displayOptions = JSON.parse(&#39;{}&#39;);\n",
       "\n",
       "      // Script to initialise the circuit renderer app\n",
       "\n",
       "const { createApp } = Vue;\n",
       "const circuitDisplayContainer = window[&#34;pytket-circuit-renderer&#34;].default;\n",
       "// Init variables to be shared between circuit display instances\n",
       "if (typeof window.pytketCircuitDisplays === &#34;undefined&#34;) {\n",
       "    window.pytketCircuitDisplays = {};\n",
       "}\n",
       "// Create the root Vue component\n",
       "const app = createApp({\n",
       "    delimiters: [&#39;[[#&#39;, &#39;#]]&#39;],\n",
       "    components: { circuitDisplayContainer },\n",
       "    data () {\n",
       "      return {\n",
       "        initRenderOptions: displayOptions,\n",
       "      }\n",
       "    }\n",
       "})\n",
       "app.config.unwrapInjectedRef = true;\n",
       "app.mount(&#34;#circuit-display-vue-container-&#34;+circuitRendererUid);\n",
       "window.pytketCircuitDisplays[circuitRendererUid] = app;\n",
       "    &lt;/script&gt;\n",
       "\n",
       "\n",
       "\n",
       "&lt;/body&gt;\n",
       "&lt;/html&gt;\n",
       "\"\n",
       "            width=\"100%\" height=\"100%\"\n",
       "            style=\"border: none; outline: none; overflow: auto\"></iframe>\n",
       "</div>\n",
       "\n"
      ],
      "text/plain": [
       "<IPython.core.display.HTML object>"
      ]
     },
     "metadata": {},
     "output_type": "display_data"
    }
   ],
   "source": [
    "sequence_pass.apply(circuit)\n",
    "render_circuit_jupyter(circuit)"
   ]
  },
  {
   "cell_type": "markdown",
   "id": "22f8fccd",
   "metadata": {},
   "source": [
    "### Building the Quantum Volume Test Circuit"
   ]
  },
  {
   "cell_type": "markdown",
   "id": "07a18465",
   "metadata": {},
   "source": [
    "Now we're ready to set up a Quantum Volume test circuit using the Circuit Box we created. The steps to set up the circuit are straightforward using the Circuit Box to build up the full circuit."
   ]
  },
  {
   "cell_type": "code",
   "execution_count": 8,
   "id": "114c43c8",
   "metadata": {},
   "outputs": [
    {
     "data": {
      "text/plain": [
       "[CircBox q[0], q[3]; CircBox q[1], q[2]; CircBox q[0], q[3]; CircBox q[2], q[1]; CircBox q[0], q[2]; CircBox q[1], q[3]; CircBox q[3], q[0]; CircBox q[2], q[1]; Measure q[0] --> c[0]; Measure q[1] --> c[1]; Measure q[2] --> c[2]; Measure q[3] --> c[3]; ]"
      ]
     },
     "execution_count": 8,
     "metadata": {},
     "output_type": "execute_result"
    }
   ],
   "source": [
    "circuit = Circuit(4)\n",
    "for _ in range(4):\n",
    "    permutation = np.random.permutation(circuit.qubits)\n",
    "    for i in range(0, 4, 2):\n",
    "        box = haar_random_su4_box()\n",
    "        circuit.add_circbox(box, [permutation[i], permutation[i+1]])\n",
    "circuit.measure_all()"
   ]
  },
  {
   "cell_type": "markdown",
   "id": "528a9178",
   "metadata": {},
   "source": [
    "The `SequencePass` defined in the code cell in the previous subsection is used below on the QVT circuit and we can see the full set of gates in the circuit as well as the result of optimizations performed by `KAKDecomposition`. "
   ]
  },
  {
   "cell_type": "code",
   "execution_count": 9,
   "id": "ec391c2d",
   "metadata": {},
   "outputs": [
    {
     "data": {
      "text/html": [
       "\n",
       "\n",
       "\n",
       "\n",
       "\n",
       "\n",
       "<div style=\"resize: vertical; overflow: auto; height: 400px; display: block\">\n",
       "    <iframe srcdoc=\"\n",
       "&lt;!DOCTYPE html&gt;\n",
       "&lt;html lang=&#34;en&#34;&gt;\n",
       "&lt;head&gt;\n",
       "    &lt;meta charset=&#34;UTF-8&#34;&gt;\n",
       "    &lt;!-- Download Vue 3--&gt;\n",
       "&lt;script type=&#34;application/javascript&#34; src=&#34;https://cdn.jsdelivr.net/npm/vue@3&#34;&gt;&lt;/script&gt;\n",
       "&lt;!-- Download Circuit Renderer with styles --&gt;\n",
       "&lt;script type=&#34;application/javascript&#34; src=&#34;https://unpkg.com/pytket-circuit-renderer@0.7/dist/pytket-circuit-renderer.umd.js&#34;&gt;&lt;/script&gt;\n",
       "&lt;link rel=&#34;stylesheet&#34; href=&#34;https://unpkg.com/pytket-circuit-renderer@0.7/dist/pytket-circuit-renderer.css&#34;&gt;\n",
       "&lt;/head&gt;\n",
       "&lt;body&gt;\n",
       "\n",
       "\n",
       "\n",
       "    &lt;div id=&#34;circuit-display-vue-container-220eaedd-7d7e-4209-983d-8027e24f7770&#34; class=&#34;pytket-circuit-display-container&#34;&gt;\n",
       "        &lt;div style=&#34;display: none&#34;&gt;\n",
       "            &lt;div id=&#34;circuit-json-to-display&#34;&gt;{&#34;bits&#34;: [[&#34;c&#34;, [0]], [&#34;c&#34;, [1]], [&#34;c&#34;, [2]], [&#34;c&#34;, [3]]], &#34;commands&#34;: [{&#34;args&#34;: [[&#34;q&#34;, [0]]], &#34;op&#34;: {&#34;params&#34;: [&#34;0.660493463985424&#34;, &#34;-0.666144036262832&#34;, &#34;-0.37645351226484&#34;], &#34;type&#34;: &#34;TK1&#34;}}, {&#34;args&#34;: [[&#34;q&#34;, [1]]], &#34;op&#34;: {&#34;params&#34;: [&#34;0.236227066566811&#34;, &#34;-0.214547246083053&#34;, &#34;-2.0522211208729&#34;], &#34;type&#34;: &#34;TK1&#34;}}, {&#34;args&#34;: [[&#34;q&#34;, [2]]], &#34;op&#34;: {&#34;params&#34;: [&#34;0.030360870698099&#34;, &#34;-0.5691670964991&#34;, &#34;-0.778231871084463&#34;], &#34;type&#34;: &#34;TK1&#34;}}, {&#34;args&#34;: [[&#34;q&#34;, [3]]], &#34;op&#34;: {&#34;params&#34;: [&#34;0.795908298151654&#34;, &#34;-0.128769796843316&#34;, &#34;-0.205271663880106&#34;], &#34;type&#34;: &#34;TK1&#34;}}, {&#34;args&#34;: [[&#34;q&#34;, [0]], [&#34;q&#34;, [3]]], &#34;op&#34;: {&#34;params&#34;: [&#34;0.203410323688585&#34;, &#34;0.0875944561306436&#34;, &#34;0.00792989698305036&#34;], &#34;type&#34;: &#34;TK2&#34;}}, {&#34;args&#34;: [[&#34;q&#34;, [1]], [&#34;q&#34;, [2]]], &#34;op&#34;: {&#34;params&#34;: [&#34;0.450743839127932&#34;, &#34;0.334023634585891&#34;, &#34;0.22110982846739&#34;], &#34;type&#34;: &#34;TK2&#34;}}, {&#34;args&#34;: [[&#34;q&#34;, [0]]], &#34;op&#34;: {&#34;params&#34;: [&#34;-0.497483328899937&#34;, &#34;-0.651266876047188&#34;, &#34;1/2 + 1.17337917913813*pi**(-1)&#34;], &#34;type&#34;: &#34;TK1&#34;}}, {&#34;args&#34;: [[&#34;q&#34;, [1]]], &#34;op&#34;: {&#34;params&#34;: [&#34;1.44536686199695&#34;, &#34;-0.246356194533215&#34;, &#34;0.947395152527661&#34;], &#34;type&#34;: &#34;TK1&#34;}}, {&#34;args&#34;: [[&#34;q&#34;, [2]]], &#34;op&#34;: {&#34;params&#34;: [&#34;0.132541840689345&#34;, &#34;-0.647407791612083&#34;, &#34;1.54353363786542&#34;], &#34;type&#34;: &#34;TK1&#34;}}, {&#34;args&#34;: [[&#34;q&#34;, [3]]], &#34;op&#34;: {&#34;params&#34;: [&#34;-0.626804731281178&#34;, &#34;-1.64085779467014&#34;, &#34;1.36579741328224/pi&#34;], &#34;type&#34;: &#34;TK1&#34;}}, {&#34;args&#34;: [[&#34;q&#34;, [0]], [&#34;q&#34;, [2]]], &#34;op&#34;: {&#34;params&#34;: [&#34;0.285270729239472&#34;, &#34;0.0626058718049691&#34;, &#34;0.0404912750416782&#34;], &#34;type&#34;: &#34;TK2&#34;}}, {&#34;args&#34;: [[&#34;q&#34;, [1]], [&#34;q&#34;, [3]]], &#34;op&#34;: {&#34;params&#34;: [&#34;0.408867077288663&#34;, &#34;0.293847049150428&#34;, &#34;-0.118149701899377&#34;], &#34;type&#34;: &#34;TK2&#34;}}, {&#34;args&#34;: [[&#34;q&#34;, [0]]], &#34;op&#34;: {&#34;params&#34;: [&#34;0.566050759821582&#34;, &#34;-0.475345015839729&#34;, &#34;-0.111195207683302&#34;], &#34;type&#34;: &#34;TK1&#34;}}, {&#34;args&#34;: [[&#34;q&#34;, [1]]], &#34;op&#34;: {&#34;params&#34;: [&#34;-0.650049009493673&#34;, &#34;-0.318646755052455&#34;, &#34;-2.03661629696591&#34;], &#34;type&#34;: &#34;TK1&#34;}}, {&#34;args&#34;: [[&#34;q&#34;, [2]]], &#34;op&#34;: {&#34;params&#34;: [&#34;-0.824706773021422&#34;, &#34;-0.318135514497995&#34;, &#34;0.0522927125312463&#34;], &#34;type&#34;: &#34;TK1&#34;}}, {&#34;args&#34;: [[&#34;q&#34;, [3]]], &#34;op&#34;: {&#34;params&#34;: [&#34;1.73405808559052&#34;, &#34;-0.237112189980787&#34;, &#34;0.875584083110942&#34;], &#34;type&#34;: &#34;TK1&#34;}}, {&#34;args&#34;: [[&#34;q&#34;, [3]], [&#34;q&#34;, [0]]], &#34;op&#34;: {&#34;params&#34;: [&#34;0.463957553386026&#34;, &#34;0.23916732765211&#34;, &#34;-0.14969965392952&#34;], &#34;type&#34;: &#34;TK2&#34;}}, {&#34;args&#34;: [[&#34;q&#34;, [2]], [&#34;q&#34;, [1]]], &#34;op&#34;: {&#34;params&#34;: [&#34;0.435364405806042&#34;, &#34;0.368165983874092&#34;, &#34;0.0782801369964008&#34;], &#34;type&#34;: &#34;TK2&#34;}}, {&#34;args&#34;: [[&#34;q&#34;, [0]]], &#34;op&#34;: {&#34;params&#34;: [&#34;0.741842686221948&#34;, &#34;-0.777305139931615&#34;, &#34;1.6178727214958&#34;], &#34;type&#34;: &#34;TK1&#34;}}, {&#34;args&#34;: [[&#34;q&#34;, [1]]], &#34;op&#34;: {&#34;params&#34;: [&#34;0.0461040284158729&#34;, &#34;-0.21285487151221&#34;, &#34;0.181063816544845&#34;], &#34;type&#34;: &#34;TK1&#34;}}, {&#34;args&#34;: [[&#34;q&#34;, [2]]], &#34;op&#34;: {&#34;params&#34;: [&#34;-1.36915909113027&#34;, &#34;-0.841742280463757&#34;, &#34;0.593116716296811&#34;], &#34;type&#34;: &#34;TK1&#34;}}, {&#34;args&#34;: [[&#34;q&#34;, [3]]], &#34;op&#34;: {&#34;params&#34;: [&#34;-1.39394099318651&#34;, &#34;-0.485738128138346&#34;, &#34;1.12605311386627&#34;], &#34;type&#34;: &#34;TK1&#34;}}, {&#34;args&#34;: [[&#34;q&#34;, [0]], [&#34;c&#34;, [0]]], &#34;op&#34;: {&#34;type&#34;: &#34;Measure&#34;}}, {&#34;args&#34;: [[&#34;q&#34;, [1]], [&#34;c&#34;, [1]]], &#34;op&#34;: {&#34;type&#34;: &#34;Measure&#34;}}, {&#34;args&#34;: [[&#34;q&#34;, [2]], [&#34;c&#34;, [2]]], &#34;op&#34;: {&#34;type&#34;: &#34;Measure&#34;}}, {&#34;args&#34;: [[&#34;q&#34;, [3]], [&#34;c&#34;, [3]]], &#34;op&#34;: {&#34;type&#34;: &#34;Measure&#34;}}], &#34;created_qubits&#34;: [], &#34;discarded_qubits&#34;: [], &#34;implicit_permutation&#34;: [[[&#34;q&#34;, [0]], [&#34;q&#34;, [0]]], [[&#34;q&#34;, [1]], [&#34;q&#34;, [1]]], [[&#34;q&#34;, [2]], [&#34;q&#34;, [2]]], [[&#34;q&#34;, [3]], [&#34;q&#34;, [3]]]], &#34;phase&#34;: &#34;0.358863770845552&#34;, &#34;qubits&#34;: [[&#34;q&#34;, [0]], [&#34;q&#34;, [1]], [&#34;q&#34;, [2]], [&#34;q&#34;, [3]]]}&lt;/div&gt;\n",
       "        &lt;/div&gt;\n",
       "        &lt;circuit-display-container\n",
       "                :circuit-element-str=&#34;&#39;#circuit-json-to-display&#39;&#34;\n",
       "                :init-render-options=&#34;initRenderOptions&#34;\n",
       "        &gt;&lt;/circuit-display-container&gt;\n",
       "    &lt;/div&gt;\n",
       "    &lt;script type=&#34;application/javascript&#34;&gt;\n",
       "      const circuitRendererUid = &#34;220eaedd-7d7e-4209-983d-8027e24f7770&#34;;\n",
       "      const displayOptions = JSON.parse(&#39;{}&#39;);\n",
       "\n",
       "      // Script to initialise the circuit renderer app\n",
       "\n",
       "const { createApp } = Vue;\n",
       "const circuitDisplayContainer = window[&#34;pytket-circuit-renderer&#34;].default;\n",
       "// Init variables to be shared between circuit display instances\n",
       "if (typeof window.pytketCircuitDisplays === &#34;undefined&#34;) {\n",
       "    window.pytketCircuitDisplays = {};\n",
       "}\n",
       "// Create the root Vue component\n",
       "const app = createApp({\n",
       "    delimiters: [&#39;[[#&#39;, &#39;#]]&#39;],\n",
       "    components: { circuitDisplayContainer },\n",
       "    data () {\n",
       "      return {\n",
       "        initRenderOptions: displayOptions,\n",
       "      }\n",
       "    }\n",
       "})\n",
       "app.config.unwrapInjectedRef = true;\n",
       "app.mount(&#34;#circuit-display-vue-container-&#34;+circuitRendererUid);\n",
       "window.pytketCircuitDisplays[circuitRendererUid] = app;\n",
       "    &lt;/script&gt;\n",
       "\n",
       "\n",
       "\n",
       "&lt;/body&gt;\n",
       "&lt;/html&gt;\n",
       "\"\n",
       "            width=\"100%\" height=\"100%\"\n",
       "            style=\"border: none; outline: none; overflow: auto\"></iframe>\n",
       "</div>\n",
       "\n"
      ],
      "text/plain": [
       "<IPython.core.display.HTML object>"
      ]
     },
     "metadata": {},
     "output_type": "display_data"
    }
   ],
   "source": [
    "sequence_pass.apply(circuit)\n",
    "from pytket.circuit.display import render_circuit_jupyter\n",
    "render_circuit_jupyter(circuit)"
   ]
  },
  {
   "cell_type": "markdown",
   "id": "e334f32d",
   "metadata": {},
   "source": [
    "### Define Native Two-Qubit Gate to Use With `QuantinuumBackend`\n",
    "\n",
    "Now that the circuit has been set up, we will demonstrate submission of the circuit for H-Series backends using both the $SU(4)$ gate and $Rzz$ as the target two-qubit gate."
   ]
  },
  {
   "cell_type": "markdown",
   "id": "63db55fd",
   "metadata": {},
   "source": [
    "#### Generalized $SU(4)$ Entangler"
   ]
  },
  {
   "cell_type": "markdown",
   "id": "d0a1c482",
   "metadata": {},
   "source": [
    "To run a circuit containing the generalized $SU(4)$ gate on H-Series devices, the compilation configuration for the `QuantinuumBackend` needs to have `OpType.TK2` set as the native two-qubit to use by default. This is done using `QuantinuumBackendCompilationConfig` and setting the compilation configuration when intializing `QuantinuumBackend`. By setting `target_2qb_gate`, local tket compilation and submission (for costing and processing) to H-Series with `OpType.TK2` is enabled."
   ]
  },
  {
   "cell_type": "code",
   "execution_count": 10,
   "id": "779d01d8",
   "metadata": {},
   "outputs": [
    {
     "name": "stdout",
     "output_type": "stream",
     "text": [
      "Enter your Quantinuum email: irfan.khan@quantinuum.com\n",
      "Enter your Quantinuum password: ········\n"
     ]
    }
   ],
   "source": [
    "from pytket.extensions.quantinuum import QuantinuumBackend\n",
    "from pytket.extensions.quantinuum.backends.quantinuum import QuantinuumBackendCompilationConfig\n",
    "\n",
    "from pytket.circuit import OpType\n",
    "\n",
    "compilation_config = QuantinuumBackendCompilationConfig(allow_implicit_swaps=True, target_2qb_gate=OpType.TK2)\n",
    "compilation_config.target_2qb_gate\n",
    "\n",
    "quantinuum_backend = QuantinuumBackend(device_name=\"H1-1E\", compilation_config=compilation_config)\n",
    "quantinuum_backend.login()"
   ]
  },
  {
   "cell_type": "code",
   "execution_count": 11,
   "id": "0b0e16b8",
   "metadata": {},
   "outputs": [
    {
     "data": {
      "text/plain": [
       "{<OpType.Barrier: 8>,\n",
       " <OpType.WASM: 14>,\n",
       " <OpType.SetBits: 15>,\n",
       " <OpType.CopyBits: 16>,\n",
       " <OpType.RangePredicate: 17>,\n",
       " <OpType.ExplicitPredicate: 18>,\n",
       " <OpType.ExplicitModifier: 19>,\n",
       " <OpType.MultiBit: 20>,\n",
       " <OpType.Rz: 36>,\n",
       " <OpType.TK2: 41>,\n",
       " <OpType.Measure: 63>,\n",
       " <OpType.Reset: 65>,\n",
       " <OpType.PhasedX: 68>,\n",
       " <OpType.ZZMax: 70>,\n",
       " <OpType.ZZPhase: 73>,\n",
       " <OpType.ClassicalExpBox: 104>}"
      ]
     },
     "execution_count": 11,
     "metadata": {},
     "output_type": "execute_result"
    }
   ],
   "source": [
    "quantinuum_backend.backend_info.gate_set"
   ]
  },
  {
   "cell_type": "code",
   "execution_count": 12,
   "id": "f23f8e6e",
   "metadata": {},
   "outputs": [
    {
     "name": "stdout",
     "output_type": "stream",
     "text": [
      "Number of SU(4) Gates: 6\n"
     ]
    },
    {
     "data": {
      "text/html": [
       "\n",
       "\n",
       "\n",
       "\n",
       "\n",
       "\n",
       "<div style=\"resize: vertical; overflow: auto; height: 400px; display: block\">\n",
       "    <iframe srcdoc=\"\n",
       "&lt;!DOCTYPE html&gt;\n",
       "&lt;html lang=&#34;en&#34;&gt;\n",
       "&lt;head&gt;\n",
       "    &lt;meta charset=&#34;UTF-8&#34;&gt;\n",
       "    &lt;!-- Download Vue 3--&gt;\n",
       "&lt;script type=&#34;application/javascript&#34; src=&#34;https://cdn.jsdelivr.net/npm/vue@3&#34;&gt;&lt;/script&gt;\n",
       "&lt;!-- Download Circuit Renderer with styles --&gt;\n",
       "&lt;script type=&#34;application/javascript&#34; src=&#34;https://unpkg.com/pytket-circuit-renderer@0.7/dist/pytket-circuit-renderer.umd.js&#34;&gt;&lt;/script&gt;\n",
       "&lt;link rel=&#34;stylesheet&#34; href=&#34;https://unpkg.com/pytket-circuit-renderer@0.7/dist/pytket-circuit-renderer.css&#34;&gt;\n",
       "&lt;/head&gt;\n",
       "&lt;body&gt;\n",
       "\n",
       "\n",
       "\n",
       "    &lt;div id=&#34;circuit-display-vue-container-5cb567fa-9397-4e46-8ee7-33d2c32b51bb&#34; class=&#34;pytket-circuit-display-container&#34;&gt;\n",
       "        &lt;div style=&#34;display: none&#34;&gt;\n",
       "            &lt;div id=&#34;circuit-json-to-display&#34;&gt;{&#34;bits&#34;: [[&#34;c&#34;, [0]], [&#34;c&#34;, [1]], [&#34;c&#34;, [2]], [&#34;c&#34;, [3]]], &#34;commands&#34;: [{&#34;args&#34;: [[&#34;q&#34;, [0]]], &#34;op&#34;: {&#34;params&#34;: [&#34;-0.666144036262833&#34;, &#34;0.376453512264839&#34;], &#34;type&#34;: &#34;PhasedX&#34;}}, {&#34;args&#34;: [[&#34;q&#34;, [1]]], &#34;op&#34;: {&#34;params&#34;: [&#34;-0.785452753916947&#34;, &#34;5.0522211208729&#34;], &#34;type&#34;: &#34;PhasedX&#34;}}, {&#34;args&#34;: [[&#34;q&#34;, [2]]], &#34;op&#34;: {&#34;params&#34;: [&#34;-0.4308329035009&#34;, &#34;-0.221768128915537&#34;], &#34;type&#34;: &#34;PhasedX&#34;}}, {&#34;args&#34;: [[&#34;q&#34;, [3]]], &#34;op&#34;: {&#34;params&#34;: [&#34;-0.128769796843316&#34;, &#34;4.2052716638801&#34;], &#34;type&#34;: &#34;PhasedX&#34;}}, {&#34;args&#34;: [[&#34;q&#34;, [0]]], &#34;op&#34;: {&#34;params&#34;: [&#34;0.284039951720585&#34;], &#34;type&#34;: &#34;Rz&#34;}}, {&#34;args&#34;: [[&#34;q&#34;, [1]]], &#34;op&#34;: {&#34;params&#34;: [&#34;-5.28844818743971&#34;], &#34;type&#34;: &#34;Rz&#34;}}, {&#34;args&#34;: [[&#34;q&#34;, [2]]], &#34;op&#34;: {&#34;params&#34;: [&#34;0.191407258217438&#34;], &#34;type&#34;: &#34;Rz&#34;}}, {&#34;args&#34;: [[&#34;q&#34;, [3]]], &#34;op&#34;: {&#34;params&#34;: [&#34;-3.40936336572845&#34;], &#34;type&#34;: &#34;Rz&#34;}}, {&#34;args&#34;: [[&#34;q&#34;, [0]], [&#34;q&#34;, [3]]], &#34;op&#34;: {&#34;params&#34;: [&#34;0.203410323688585&#34;, &#34;0.0875944561306436&#34;, &#34;0.00792989698305036&#34;], &#34;type&#34;: &#34;TK2&#34;}}, {&#34;args&#34;: [[&#34;q&#34;, [1]], [&#34;q&#34;, [2]]], &#34;op&#34;: {&#34;params&#34;: [&#34;0.450743839127932&#34;, &#34;0.334023634585891&#34;, &#34;0.22110982846739&#34;], &#34;type&#34;: &#34;TK2&#34;}}, {&#34;args&#34;: [[&#34;q&#34;, [0]]], &#34;op&#34;: {&#34;params&#34;: [&#34;-0.348733123952813&#34;, &#34;-1.87349819296189&#34;], &#34;type&#34;: &#34;PhasedX&#34;}}, {&#34;args&#34;: [[&#34;q&#34;, [1]]], &#34;op&#34;: {&#34;params&#34;: [&#34;-0.246356194533217&#34;, &#34;-0.05260484747234&#34;], &#34;type&#34;: &#34;PhasedX&#34;}}, {&#34;args&#34;: [[&#34;q&#34;, [2]]], &#34;op&#34;: {&#34;params&#34;: [&#34;-0.647407791612083&#34;, &#34;-1.45646636213458&#34;], &#34;type&#34;: &#34;PhasedX&#34;}}, {&#34;args&#34;: [[&#34;q&#34;, [3]]], &#34;op&#34;: {&#34;params&#34;: [&#34;-0.640857794670139&#34;, &#34;-0.434746819171985&#34;], &#34;type&#34;: &#34;PhasedX&#34;}}, {&#34;args&#34;: [[&#34;q&#34;, [0]]], &#34;op&#34;: {&#34;params&#34;: [&#34;2.37098152186182&#34;], &#34;type&#34;: &#34;Rz&#34;}}, {&#34;args&#34;: [[&#34;q&#34;, [1]]], &#34;op&#34;: {&#34;params&#34;: [&#34;0.607237985475388&#34;], &#34;type&#34;: &#34;Rz&#34;}}, {&#34;args&#34;: [[&#34;q&#34;, [2]]], &#34;op&#34;: {&#34;params&#34;: [&#34;2.32392452144523&#34;], &#34;type&#34;: &#34;Rz&#34;}}, {&#34;args&#34;: [[&#34;q&#34;, [3]]], &#34;op&#34;: {&#34;params&#34;: [&#34;1.06155155045316&#34;], &#34;type&#34;: &#34;Rz&#34;}}, {&#34;args&#34;: [[&#34;q&#34;, [0]], [&#34;q&#34;, [2]]], &#34;op&#34;: {&#34;params&#34;: [&#34;0.285270729239473&#34;, &#34;0.0626058718049691&#34;, &#34;0.0404912750416782&#34;], &#34;type&#34;: &#34;TK2&#34;}}, {&#34;args&#34;: [[&#34;q&#34;, [1]], [&#34;q&#34;, [3]]], &#34;op&#34;: {&#34;params&#34;: [&#34;0.408867077288663&#34;, &#34;0.293847049150428&#34;, &#34;-0.118149701899376&#34;], &#34;type&#34;: &#34;TK2&#34;}}, {&#34;args&#34;: [[&#34;q&#34;, [0]]], &#34;op&#34;: {&#34;params&#34;: [&#34;-0.475345015839729&#34;, &#34;0.888804792316699&#34;], &#34;type&#34;: &#34;PhasedX&#34;}}, {&#34;args&#34;: [[&#34;q&#34;, [1]]], &#34;op&#34;: {&#34;params&#34;: [&#34;-0.681353244947545&#34;, &#34;-1.03661629696591&#34;], &#34;type&#34;: &#34;PhasedX&#34;}}, {&#34;args&#34;: [[&#34;q&#34;, [2]]], &#34;op&#34;: {&#34;params&#34;: [&#34;-0.681864485502005&#34;, &#34;0.0522927125312442&#34;], &#34;type&#34;: &#34;PhasedX&#34;}}, {&#34;args&#34;: [[&#34;q&#34;, [3]]], &#34;op&#34;: {&#34;params&#34;: [&#34;-0.237112189980787&#34;, &#34;-1.12441591688906&#34;], &#34;type&#34;: &#34;PhasedX&#34;}}, {&#34;args&#34;: [[&#34;q&#34;, [0]]], &#34;op&#34;: {&#34;params&#34;: [&#34;-0.45485555213828&#34;], &#34;type&#34;: &#34;Rz&#34;}}, {&#34;args&#34;: [[&#34;q&#34;, [1]]], &#34;op&#34;: {&#34;params&#34;: [&#34;1.38656728747223&#34;], &#34;type&#34;: &#34;Rz&#34;}}, {&#34;args&#34;: [[&#34;q&#34;, [2]]], &#34;op&#34;: {&#34;params&#34;: [&#34;-1.87699948555267&#34;], &#34;type&#34;: &#34;Rz&#34;}}, {&#34;args&#34;: [[&#34;q&#34;, [3]]], &#34;op&#34;: {&#34;params&#34;: [&#34;0.390357831298541&#34;], &#34;type&#34;: &#34;Rz&#34;}}, {&#34;args&#34;: [[&#34;q&#34;, [3]], [&#34;q&#34;, [0]]], &#34;op&#34;: {&#34;params&#34;: [&#34;0.463957553386026&#34;, &#34;0.23916732765211&#34;, &#34;-0.149699653929519&#34;], &#34;type&#34;: &#34;TK2&#34;}}, {&#34;args&#34;: [[&#34;q&#34;, [2]], [&#34;q&#34;, [1]]], &#34;op&#34;: {&#34;params&#34;: [&#34;0.435364405806042&#34;, &#34;0.368165983874092&#34;, &#34;0.0782801369964008&#34;], &#34;type&#34;: &#34;TK2&#34;}}, {&#34;args&#34;: [[&#34;q&#34;, [0]]], &#34;op&#34;: {&#34;params&#34;: [&#34;-0.222694860068387&#34;, &#34;-0.382127278504198&#34;], &#34;type&#34;: &#34;PhasedX&#34;}}, {&#34;args&#34;: [[&#34;q&#34;, [1]]], &#34;op&#34;: {&#34;params&#34;: [&#34;-0.212854871512212&#34;, &#34;-0.181063816544845&#34;], &#34;type&#34;: &#34;PhasedX&#34;}}, {&#34;args&#34;: [[&#34;q&#34;, [2]]], &#34;op&#34;: {&#34;params&#34;: [&#34;-0.841742280463756&#34;, &#34;-0.593116716296811&#34;], &#34;type&#34;: &#34;PhasedX&#34;}}, {&#34;args&#34;: [[&#34;q&#34;, [3]]], &#34;op&#34;: {&#34;params&#34;: [&#34;-0.514261871861654&#34;, &#34;-0.873946886133728&#34;], &#34;type&#34;: &#34;PhasedX&#34;}}, {&#34;args&#34;: [[&#34;q&#34;, [0]], [&#34;c&#34;, [0]]], &#34;op&#34;: {&#34;type&#34;: &#34;Measure&#34;}}, {&#34;args&#34;: [[&#34;q&#34;, [1]], [&#34;c&#34;, [1]]], &#34;op&#34;: {&#34;type&#34;: &#34;Measure&#34;}}, {&#34;args&#34;: [[&#34;q&#34;, [2]], [&#34;c&#34;, [2]]], &#34;op&#34;: {&#34;type&#34;: &#34;Measure&#34;}}, {&#34;args&#34;: [[&#34;q&#34;, [3]], [&#34;c&#34;, [3]]], &#34;op&#34;: {&#34;type&#34;: &#34;Measure&#34;}}], &#34;created_qubits&#34;: [], &#34;discarded_qubits&#34;: [], &#34;implicit_permutation&#34;: [[[&#34;q&#34;, [0]], [&#34;q&#34;, [0]]], [[&#34;q&#34;, [1]], [&#34;q&#34;, [1]]], [[&#34;q&#34;, [2]], [&#34;q&#34;, [2]]], [[&#34;q&#34;, [3]], [&#34;q&#34;, [3]]]], &#34;name&#34;: &#34;QV Example with SU(4)&#34;, &#34;phase&#34;: &#34;0.358863770845545&#34;, &#34;qubits&#34;: [[&#34;q&#34;, [0]], [&#34;q&#34;, [1]], [&#34;q&#34;, [2]], [&#34;q&#34;, [3]]]}&lt;/div&gt;\n",
       "        &lt;/div&gt;\n",
       "        &lt;circuit-display-container\n",
       "                :circuit-element-str=&#34;&#39;#circuit-json-to-display&#39;&#34;\n",
       "                :init-render-options=&#34;initRenderOptions&#34;\n",
       "        &gt;&lt;/circuit-display-container&gt;\n",
       "    &lt;/div&gt;\n",
       "    &lt;script type=&#34;application/javascript&#34;&gt;\n",
       "      const circuitRendererUid = &#34;5cb567fa-9397-4e46-8ee7-33d2c32b51bb&#34;;\n",
       "      const displayOptions = JSON.parse(&#39;{}&#39;);\n",
       "\n",
       "      // Script to initialise the circuit renderer app\n",
       "\n",
       "const { createApp } = Vue;\n",
       "const circuitDisplayContainer = window[&#34;pytket-circuit-renderer&#34;].default;\n",
       "// Init variables to be shared between circuit display instances\n",
       "if (typeof window.pytketCircuitDisplays === &#34;undefined&#34;) {\n",
       "    window.pytketCircuitDisplays = {};\n",
       "}\n",
       "// Create the root Vue component\n",
       "const app = createApp({\n",
       "    delimiters: [&#39;[[#&#39;, &#39;#]]&#39;],\n",
       "    components: { circuitDisplayContainer },\n",
       "    data () {\n",
       "      return {\n",
       "        initRenderOptions: displayOptions,\n",
       "      }\n",
       "    }\n",
       "})\n",
       "app.config.unwrapInjectedRef = true;\n",
       "app.mount(&#34;#circuit-display-vue-container-&#34;+circuitRendererUid);\n",
       "window.pytketCircuitDisplays[circuitRendererUid] = app;\n",
       "    &lt;/script&gt;\n",
       "\n",
       "\n",
       "\n",
       "&lt;/body&gt;\n",
       "&lt;/html&gt;\n",
       "\"\n",
       "            width=\"100%\" height=\"100%\"\n",
       "            style=\"border: none; outline: none; overflow: auto\"></iframe>\n",
       "</div>\n",
       "\n"
      ],
      "text/plain": [
       "<IPython.core.display.HTML object>"
      ]
     },
     "metadata": {},
     "output_type": "display_data"
    }
   ],
   "source": [
    "qv_circuit_wSU4 = quantinuum_backend.get_compiled_circuit(circuit, optimisation_level=2)\n",
    "qv_circuit_wSU4.name = \"QV Example with SU(4)\"\n",
    "print(f\"Number of SU(4) Gates: {qv_circuit_wSU4.n_2qb_gates()}\")\n",
    "render_circuit_jupyter(qv_circuit_wSU4)"
   ]
  },
  {
   "cell_type": "code",
   "execution_count": 13,
   "id": "7530676f",
   "metadata": {},
   "outputs": [
    {
     "name": "stdout",
     "output_type": "stream",
     "text": [
      "SU(4) circuit cost: 7.32 HQC\n"
     ]
    }
   ],
   "source": [
    "cost = quantinuum_backend.cost(qv_circuit_wSU4, n_shots=100, syntax_checker=\"H1-1SC\")\n",
    "print(f\"SU(4) circuit cost: {cost} HQC\")"
   ]
  },
  {
   "cell_type": "code",
   "execution_count": 14,
   "id": "47a4bedb",
   "metadata": {},
   "outputs": [],
   "source": [
    "handle = quantinuum_backend.process_circuit(qv_circuit_wSU4, n_shots=100)"
   ]
  },
  {
   "cell_type": "code",
   "execution_count": null,
   "id": "eb91761a",
   "metadata": {},
   "outputs": [],
   "source": [
    "result = quantinuum_backend.get_result(handle)\n",
    "print(result.get_distribution())"
   ]
  },
  {
   "cell_type": "code",
   "execution_count": null,
   "id": "83e3ea81",
   "metadata": {},
   "outputs": [],
   "source": [
    "handle = quantinuum_backend.process_circuit(circuit, n_shots=100)"
   ]
  },
  {
   "cell_type": "code",
   "execution_count": null,
   "id": "61e44f93",
   "metadata": {},
   "outputs": [],
   "source": [
    "result = quantinuum_backend.get_result(handle)\n",
    "print(result.get_distribution())"
   ]
  },
  {
   "cell_type": "markdown",
   "id": "495dd170",
   "metadata": {},
   "source": [
    "#### Arbitrary Angle ZZ Gate"
   ]
  },
  {
   "cell_type": "markdown",
   "id": "5369eeb6",
   "metadata": {},
   "source": [
    "The default native two-qubit gate can also be changed using [`set_compilation_config_target_2qb_gate`](https://tket.quantinuum.com/extensions/pytket-quantinuum/api.html#pytket.extensions.quantinuum.QuantinuumBackend.set_compilation_config_target_2qb_gate). In the example below, we change to using a different native two-qubit gate, `OpType.ZZPhase` and display the compiled circuit after `tket` compilation."
   ]
  },
  {
   "cell_type": "code",
   "execution_count": null,
   "id": "87a818be",
   "metadata": {},
   "outputs": [],
   "source": [
    "quantinuum_backend.set_compilation_config_target_2qb_gate(OpType.ZZPhase)"
   ]
  },
  {
   "cell_type": "code",
   "execution_count": null,
   "id": "f9f39b9a",
   "metadata": {},
   "outputs": [],
   "source": [
    "qv_circuit_no_SU4 = quantinuum_backend.get_compiled_circuit(circuit, optimisation_level=2)\n",
    "qv_circuit_no_SU4.name = \"QV Example without SU(4)\"\n",
    "print(f\"Number of ZZPhase Gates: {qv_circuit_no_SU4.n_2qb_gates()}\")\n",
    "render_circuit_jupyter(qv_circuit_no_SU4)"
   ]
  },
  {
   "cell_type": "markdown",
   "id": "b2ada63e",
   "metadata": {},
   "source": [
    "### Summary"
   ]
  },
  {
   "cell_type": "markdown",
   "id": "d4e01af7",
   "metadata": {},
   "source": [
    "`pytket-quantinuum` enables you to change the native two-qubit gate to use on all H-Series devices and emulators. This can be acheived with the `Quantinuum` API compiler options or with `QuantinuumBackendCompilationConfig` and `QuantinuumBackend.set_compilation_config_target_2qb_gate`.\n",
    "\n",
    "The Quantum Volume Test is one use case where the $SU(4)$ gate (`OpType.TK2`) can be employed. `QuantinuumBackend` can be used to compile circuits to a gatset that uses the $SU(4)$ gate as well as to submit those circuits for processing and costing via the H-Series service."
   ]
  },
  {
   "cell_type": "markdown",
   "id": "ee98b381",
   "metadata": {},
   "source": [
    "<div align=\"center\"> &copy; 2024 by Quantinuum. All Rights Reserved. </div>"
   ]
  }
 ],
 "metadata": {
  "kernelspec": {
   "display_name": "Python 3 (ipykernel)",
   "language": "python",
   "name": "python3"
  },
  "language_info": {
   "codemirror_mode": {
    "name": "ipython",
    "version": 3
   },
   "file_extension": ".py",
   "mimetype": "text/x-python",
   "name": "python",
   "nbconvert_exporter": "python",
   "pygments_lexer": "ipython3",
   "version": "3.10.12"
  },
  "nbTranslate": {
   "displayLangs": [
    "*"
   ],
   "hotkey": "alt-t",
   "langInMainMenu": true,
   "sourceLang": "en",
   "targetLang": "fr",
   "useGoogleTranslate": true
  },
  "vscode": {
   "interpreter": {
    "hash": "6b9472b0f24fab47ade41b906e50eefbfaf5da6c3d6807a4d2286a29be937560"
   }
  }
 },
 "nbformat": 4,
 "nbformat_minor": 5
}
