{
 "cells": [
  {
   "attachments": {},
   "cell_type": "markdown",
   "id": "d791c1ee",
   "metadata": {},
   "source": [
    "<div style=\"text-align: center;\">\n",
    "<img src=\"https://assets-global.website-files.com/62b9d45fb3f64842a96c9686/62d84db4aeb2f6552f3a2f78_Quantinuum%20Logo__horizontal%20blue.svg\" width=\"200\" height=\"200\" /></div>"
   ]
  },
  {
   "attachments": {},
   "cell_type": "markdown",
   "id": "7cc7cc2c-704f-4560-81b4-98b4564abf8d",
   "metadata": {},
   "source": [
    "# Advanced Compilation Options with H-Series\n",
    "\n",
    "* [H-Series Hardware Compilation](#H-Series-Hardware-Compilation)\n",
    "  * [Compiling to H-Series Hardware Native Gates](#Compiling-to-H-Series-Hardware-Native-Gates)\n",
    "  * [The SU(4) Gate](#The-SU(4)-Gate)\n",
    "  * [Controlling H-Series Hardware Compiler Optimizations](#Controlling-H-Series-Hardware-Compiler-Optimizations)\n",
    "    * [Circuits written in any gate set](#Circuits-written-in-any-gate-set)\n",
    "    * [Circuits written in the hardware's native gate set](#Circuits-written-in-the-hardware's-native-gate-set)\n",
    "* [Examples](#Examples)\n",
    "    * [1. Benchmarking Circuit in non-native gate set](#1.-Benchmarking-Circuit-in-non-native-gate-set)\n",
    "    * [2. QFT Circuits in native gate set](#2.-QFT-Circuits-in-native-gate-set)\n",
    "    * [3. Circuit using $SU(4)$](#Circuit-using-$SU(4)$)"
   ]
  },
  {
   "cell_type": "markdown",
   "id": "9f65651d-c03e-481a-ae77-d8ba4f171477",
   "metadata": {},
   "source": [
    "## H-Series Hardware Compilation\n",
    "\n",
    "Native gates are gates on a quantum computer that the hardware physically executes. Different quantum computers may have different gates that are physically executed on the hardware. Writing a gate in a quantum circuit doesn't guarantee its physical execution on the device. For instance, on H-Series quantum computers, a Hadamard gate written in the circuit is not the actual gate executed. When users submit circuits using a Hadamard gate, the gate is translated into a $U1q$ gate followed by a $Rz$ gate, which the ion trap device physically executes. See the *System Model H1 Product Data Sheet* on the [System Model H1](https://www.quantinuum.com/hardware/h1) page or the *System Model H2 Product Data Sheet* on the [System Model H2](https://www.quantinuum.com/hardware/h2) page for a listing of the H-Series' hardware native gates. \n",
    "\n",
    "The H-Series hardware compiler handles the translation from circuits users submit to the native gates run on hardware. In the H-Series Quantum Charge-Coupled Device (QCCD) architecture, the hardware compilation includes the assignment of which physical qubit corresponds to which qubit in a circuit as well as how qubits will be transported around the device. Since transport, as well as gating, incurs a small amount of error with each operation, the H-Series compiler aims to minimize the number of gates that need to be executed. \n",
    "\n",
    "**Insert illustration of job --> TKET --> hardware compiler --> hardware.**"
   ]
  },
  {
   "attachments": {},
   "cell_type": "markdown",
   "id": "ca352fad-d574-475a-a6ec-af3cd8fcc288",
   "metadata": {},
   "source": [
    "### Compiling to H-Series Hardware Native Gates\n",
    "\n",
    "On the Quantinuum H-Series devices, there are different native two-qubit gates available. The default native two-qubit gates include a fully entangling two-qubit gate, $ZZ()$, and an arbitrary angle ZZ gate, $Rzz(\\theta)$. Another native gate available on the hardware is the $SU(4)$ gate.\n",
    "\n",
    "By default, the hardware compiler compiles to the $ZZ()$ or $Rzz(\\theta)$ gate. Currently, only one native gate can be specified at a time. This ensures everything aligns in the global operations of the circuit. \n",
    "\n",
    "If users would like to use the $SU(4)$ gate and not have the circuit rebased to $ZZ()$ or $Rzz(\\theta)$ by the hardware compiler, they need to specify the $SU(4)$ gate using the `nativetq` option. The `nativetq` option is available to override the hardware stack's default two-qubit gate and use the supplied gate instead.\n",
    "\n",
    "* `nativetq`: override the stack's default native two-qubit gate and use the supplied gate as the gate instead\n",
    "  * `ZZ`: compile circuit to the $ZZ$ gate\n",
    "  * `RZZ`: compile circuit to the $Rzz(\\theta)$ gate\n",
    "  * `Rxxyyzz`: compile circuit to the $SU(4)$ gate. This is also known as `Optype.TK2` within `tket`."
   ]
  },
  {
   "attachments": {},
   "cell_type": "markdown",
   "id": "115d526c",
   "metadata": {},
   "source": [
    "### The $SU(4)$ Gate\n",
    "The $SU(4)$ gate is available in `tket` as [`OpType.TK2`](https://tket.quantinuum.com/api-docs/circuit_class.html#pytket.circuit.Circuit.TK2). The gate is a combination of `OpType.XXPhase`, `OpType.YYPhase` and `OpType.ZZPhase`, and requires three angles as input, $\\alpha$, $\\beta$ and $\\gamma$. The definition of the gate is provided below:\n",
    "$$\\begin{equation} \\textrm{TK2}(\\alpha, \\beta, \\gamma) = e^{-\\frac{1}{2} j \\pi \\alpha (\\hat{X} \\bigotimes \\hat{X})} \\quad e^{-\\frac{1}{2} j \\pi \\beta (\\hat{Y} \\bigotimes \\hat{Y})} \\quad e^{-\\frac{1}{2} \\pi \\gamma (\\hat{Z} \\bigotimes \\hat{Z})} \\end{equation}$$\n",
    "Within `QuantinuumAPI`, this gate is known as `Rxxyyzz`. The gate can be used as follows within `tket`."
   ]
  },
  {
   "cell_type": "code",
   "execution_count": 2,
   "id": "8314af95",
   "metadata": {},
   "outputs": [
    {
     "data": {
      "text/html": [
       "\n",
       "\n",
       "\n",
       "\n",
       "\n",
       "\n",
       "<div style=\"resize: vertical; overflow: auto; height: 400px; display: block\">\n",
       "    <iframe srcdoc=\"\n",
       "&lt;!DOCTYPE html&gt;\n",
       "&lt;html lang=&#34;en&#34;&gt;\n",
       "&lt;head&gt;\n",
       "    &lt;meta charset=&#34;UTF-8&#34;&gt;\n",
       "    &lt;!-- Download Vue 3--&gt;\n",
       "&lt;script type=&#34;application/javascript&#34; src=&#34;https://cdn.jsdelivr.net/npm/vue@3&#34;&gt;&lt;/script&gt;\n",
       "&lt;!-- Download Circuit Renderer with styles --&gt;\n",
       "&lt;script type=&#34;application/javascript&#34; src=&#34;https://unpkg.com/pytket-circuit-renderer@0.7/dist/pytket-circuit-renderer.umd.js&#34;&gt;&lt;/script&gt;\n",
       "&lt;link rel=&#34;stylesheet&#34; href=&#34;https://unpkg.com/pytket-circuit-renderer@0.7/dist/pytket-circuit-renderer.css&#34;&gt;\n",
       "&lt;/head&gt;\n",
       "&lt;body&gt;\n",
       "\n",
       "\n",
       "\n",
       "    &lt;div id=&#34;circuit-display-vue-container-9bd157e7-8daa-4a3e-9b02-8a25a2e473d2&#34; class=&#34;pytket-circuit-display-container&#34;&gt;\n",
       "        &lt;div style=&#34;display: none&#34;&gt;\n",
       "            &lt;div id=&#34;circuit-json-to-display&#34;&gt;{&#34;bits&#34;: [], &#34;commands&#34;: [{&#34;args&#34;: [[&#34;q&#34;, [0]], [&#34;q&#34;, [1]]], &#34;op&#34;: {&#34;params&#34;: [&#34;a&#34;, &#34;b&#34;, &#34;c&#34;], &#34;type&#34;: &#34;TK2&#34;}}], &#34;created_qubits&#34;: [], &#34;discarded_qubits&#34;: [], &#34;implicit_permutation&#34;: [[[&#34;q&#34;, [0]], [&#34;q&#34;, [0]]], [[&#34;q&#34;, [1]], [&#34;q&#34;, [1]]]], &#34;phase&#34;: &#34;0.0&#34;, &#34;qubits&#34;: [[&#34;q&#34;, [0]], [&#34;q&#34;, [1]]]}&lt;/div&gt;\n",
       "        &lt;/div&gt;\n",
       "        &lt;circuit-display-container\n",
       "                :circuit-element-str=&#34;&#39;#circuit-json-to-display&#39;&#34;\n",
       "                :init-render-options=&#34;initRenderOptions&#34;\n",
       "        &gt;&lt;/circuit-display-container&gt;\n",
       "    &lt;/div&gt;\n",
       "    &lt;script type=&#34;application/javascript&#34;&gt;\n",
       "      const circuitRendererUid = &#34;9bd157e7-8daa-4a3e-9b02-8a25a2e473d2&#34;;\n",
       "      const displayOptions = JSON.parse(&#39;{}&#39;);\n",
       "\n",
       "      // Script to initialise the circuit renderer app\n",
       "\n",
       "const { createApp } = Vue;\n",
       "const circuitDisplayContainer = window[&#34;pytket-circuit-renderer&#34;].default;\n",
       "// Init variables to be shared between circuit display instances\n",
       "if (typeof window.pytketCircuitDisplays === &#34;undefined&#34;) {\n",
       "    window.pytketCircuitDisplays = {};\n",
       "}\n",
       "// Create the root Vue component\n",
       "const app = createApp({\n",
       "    delimiters: [&#39;[[#&#39;, &#39;#]]&#39;],\n",
       "    components: { circuitDisplayContainer },\n",
       "    data () {\n",
       "      return {\n",
       "        initRenderOptions: displayOptions,\n",
       "      }\n",
       "    }\n",
       "})\n",
       "app.config.unwrapInjectedRef = true;\n",
       "app.mount(&#34;#circuit-display-vue-container-&#34;+circuitRendererUid);\n",
       "window.pytketCircuitDisplays[circuitRendererUid] = app;\n",
       "    &lt;/script&gt;\n",
       "\n",
       "\n",
       "\n",
       "&lt;/body&gt;\n",
       "&lt;/html&gt;\n",
       "\"\n",
       "            width=\"100%\" height=\"100%\"\n",
       "            style=\"border: none; outline: none; overflow: auto\"></iframe>\n",
       "</div>\n",
       "\n"
      ],
      "text/plain": [
       "<IPython.core.display.HTML object>"
      ]
     },
     "metadata": {},
     "output_type": "display_data"
    }
   ],
   "source": [
    "from pytket.circuit.display import render_circuit_jupyter\n",
    "from pytket.circuit import Circuit\n",
    "from sympy import Symbol\n",
    "\n",
    "symbols = [Symbol(\"a\"), Symbol(\"b\"), Symbol(\"c\")]\n",
    "circuit = Circuit(2)\n",
    "circuit.TK2(*symbols, *circuit.qubits)\n",
    "render_circuit_jupyter(circuit)"
   ]
  },
  {
   "attachments": {},
   "cell_type": "markdown",
   "id": "ad806573",
   "metadata": {},
   "source": [
    "This circuits can be converted to qasm using the [`circuit_to_qasm_str`](https://tket.quantinuum.com/api-docs/qasm.html#pytket.qasm.circuit_to_qasm_str) function and specifying the header `hqslib1`."
   ]
  },
  {
   "cell_type": "code",
   "execution_count": 6,
   "id": "644ff6a4",
   "metadata": {},
   "outputs": [
    {
     "data": {
      "text/plain": [
       "'OPENQASM 2.0;\\ninclude \"hqslib1.inc\";\\n\\nqreg q[2];\\nRxxyyzz((a)*pi,(b)*pi,(c)*pi) q[0],q[1];\\n'"
      ]
     },
     "execution_count": 6,
     "metadata": {},
     "output_type": "execute_result"
    }
   ],
   "source": [
    "from pytket.qasm.qasm import circuit_to_qasm_str\n",
    "\n",
    "circuit_to_qasm_str(circuit, header=\"hqslib1\")"
   ]
  },
  {
   "attachments": {},
   "cell_type": "markdown",
   "id": "e84f63cb-dcc8-4b60-9039-cb9ad343e039",
   "metadata": {},
   "source": [
    "### Controlling H-Series Hardware Compiler Optimizations\n",
    "\n",
    "Users have the option of submitting circuits using whichever quantum gate set they desire. Users do not need to think about which physical gates will be executed or how physical qubits will move around the device since the hardware compiler handles this. In certain cases, however, users may want to know that the circuit they submit is going to be run on the device exactly as they write it. For example, when running benchmarking circuits users may want circuits to be executed exactly as specified in the circuit, even if its not the most optimal in total number of two-qubit gates. \n",
    "\n",
    "Within the Quantinuum stack, the ability to control levels of optimizations and control over what is executed on the hardware is provided between 4 different job submission parameters in the API.\n",
    "\n",
    "Users may choose to apply `tket` optimizations remotely to their circuit and control this with `tket-opt-level`, even if the circuit is written in the native gate set since further reductions in the number of quantum gates may be found, which will improve results. If a user submits a circuit in the native gate set of the hardware, `tket` optimizations will run on that gate set to identify further optimizations.\n",
    "\n",
    "* `tket-opt-level`: the `tket` optimization level to apply (default: `2`), with `tket` optimizations turned on, the hardware compiler will provide further gate combination logic as makes sense for ions and transport\n",
    "  * `2`: powerful optimizations, can use approximate methods, compilation can be expensive\n",
    "  * `1`: basic optimization, compiles quickly\n",
    "  * `0`: rebase the circuit with `tket`\n",
    "  * `null`: rebase the circuit without `tket`, using the hardware compiler only\n",
    "\n",
    "There are two ways to think about using these options:\n",
    "1. [Circuits written in any gate set](#Circuits-written-in-any-gate-set)\n",
    "2. [Circuits written in the hardware's native gate set](#Circuits-written-in-the-hardware's-native-gate-set)"
   ]
  },
  {
   "attachments": {},
   "cell_type": "markdown",
   "id": "590f80a9-b75c-49d5-b302-db46fabb16bb",
   "metadata": {},
   "source": [
    "#### Circuits written in any gate set\n",
    "\n",
    "Users are free to submit circuits written with any gate set, not just the native gate set of the hardware. In this case, the options for control over what optimizations are applied are given at the TKET level. TKET will rebase the circuit to the native gate set it believes is most optimal and the hardware compiler will handle further optimizations of gate combinations as it applies to transport and ion assignment. We recommend this for the majority of use cases."
   ]
  },
  {
   "attachments": {},
   "cell_type": "markdown",
   "id": "ec5d9cba-e47b-4721-a8fe-664c137e94eb",
   "metadata": {},
   "source": [
    "#### Circuits written in the hardware's native gate set\n",
    "\n",
    "For circuits that are written only using gates in the hardware's native gate set, various levels of control are provided for what optimizations will be performed in the stack.\n",
    "\n",
    "In cases where a user's circuit is written in the native gate set, but the user desires more control over what types, if any, additional optimizations are performed on their circuit, the following options are available. \n",
    "\n",
    "*Note:* To use these options, the `tket-opt-level` must be set to `null` when submitting. \n",
    "\n",
    "* `no-opt`: turns off all `tket` optimizations *and* all hardware compiler gate combination logic. If more than 1 native gate is used in the circuit, the circuit will be rebased to 1 native gate since that is all the hardware performs at this point, as noted above, but no further gate combination logic will occur. (default: `False`)\n",
    "    * The job will fail if `no-opt` is set to `True` and the circuit contains non-native gates. \n",
    "* `noreduce`: turns off all `tket` optimizations, all hardware compiler gate combination logic, and requires exact 1:1 correspondence of two-qubit gates with gates on the system. This requires the circuit be submitted using one 1 of the native two-qubit gates on the system, otherwise an error will be returned. (default: `False`)\n",
    "\n",
    "Note that `tket-opt-level` set to `null`, `no-opt` set to `True`, and `noreduce` set to `True` all disable `tket` optimizations, but `no-opt` and `noreduce` also turn off all hardware gate combination logic.\n",
    "\n",
    "**Create plot of quantum circuit -> tket opt or no-opt or nativetq or noreduce**"
   ]
  },
  {
   "attachments": {},
   "cell_type": "markdown",
   "id": "3c79e573-04c6-4142-9eb5-6d74cfb97b24",
   "metadata": {},
   "source": [
    "## Examples\n",
    "\n",
    "\n",
    "\n",
    "Now we illustrate the above options with a few examples. First we import the functions we need in pytket.   "
   ]
  },
  {
   "cell_type": "code",
   "execution_count": 6,
   "id": "c5cd7eda-ed96-4b84-896f-103349601b43",
   "metadata": {},
   "outputs": [],
   "source": [
    "import pandas as pd\n",
    "\n",
    "from pytket import Circuit\n",
    "from pytket.circuit.display import render_circuit_jupyter\n",
    "\n",
    "from pytket.extensions.quantinuum import QuantinuumBackend"
   ]
  },
  {
   "cell_type": "markdown",
   "id": "bca4c339-a00e-49aa-9cf5-d1ea9195bb90",
   "metadata": {},
   "source": [
    "### 1. Benchmarking Circuit in non-native gate set"
   ]
  },
  {
   "cell_type": "code",
   "execution_count": null,
   "id": "eb0d455a-340c-456e-aeba-eac72a584845",
   "metadata": {},
   "outputs": [],
   "source": [
    "circuit = Circuit(2)\n",
    " \n",
    "circuit.X(0)\n",
    "circuit.CX(0,1)\n",
    "circuit.X(0)\n",
    "circuit.X(1)\n",
    " \n",
    "circuit.add_barrier([0,1])\n",
    " \n",
    "circuit.Z(0)\n",
    "circuit.CX(0,1)\n",
    "circuit.Z(0)\n",
    " \n",
    "circuit.add_barrier([0,1])\n",
    " \n",
    "circuit.Y(1)\n",
    "circuit.CX(0,1)\n",
    "circuit.Z(0)\n",
    "circuit.X(1)\n",
    " \n",
    "circuit.add_barrier([0,1])\n",
    " \n",
    "circuit.Z(1)\n",
    "circuit.CX(0,1)\n",
    "circuit.Z(0)\n",
    "circuit.Z(1)\n",
    " \n",
    "render_circuit_jupyter(circuit)"
   ]
  },
  {
   "cell_type": "code",
   "execution_count": null,
   "id": "536abeeb-3e16-4ab2-8541-8eb03e0567a1",
   "metadata": {},
   "outputs": [],
   "source": [
    "machine = 'H1-1E'\n",
    "backend = QuantinuumBackend(device_name=machine)\n",
    "backend.login()"
   ]
  },
  {
   "cell_type": "markdown",
   "id": "f4586714-2100-482b-a5cd-de31f0d90037",
   "metadata": {},
   "source": [
    "Essentially if users don't submit in native gate set, their circuit will go through TKET, so its a matter of deciding what TKET optimization level to use."
   ]
  },
  {
   "cell_type": "code",
   "execution_count": null,
   "id": "bdbe9c60-6afb-4d40-b89f-9f82e250ec39",
   "metadata": {},
   "outputs": [],
   "source": [
    "compiled_circuit_0 = backend.get_compiled_circuit(circuit, optimisation_level=0)\n",
    "compiled_circuit_1 = backend.get_compiled_circuit(circuit, optimisation_level=1)\n",
    "compiled_circuit_2 = backend.get_compiled_circuit(circuit, optimisation_level=2)"
   ]
  },
  {
   "cell_type": "code",
   "execution_count": null,
   "id": "517b2c94-2f1f-41a7-bf5d-cc5c3a45edef",
   "metadata": {},
   "outputs": [],
   "source": [
    "print(compiled_circuit_0.n_2qb_gates(), compiled_circuit_0.n_1qb_gates(), compiled_circuit_0.n_gates)\n",
    "print(compiled_circuit_1.n_2qb_gates(), compiled_circuit_1.n_1qb_gates(), compiled_circuit_1.n_gates)\n",
    "print(compiled_circuit_2.n_2qb_gates(), compiled_circuit_2.n_1qb_gates(), compiled_circuit_2.n_gates)"
   ]
  },
  {
   "cell_type": "code",
   "execution_count": null,
   "id": "83a19557-7000-45ff-a803-333a88164848",
   "metadata": {},
   "outputs": [],
   "source": [
    "n_shots = 100\n",
    "backend.cost(compiled_circuit, n_shots=n_shots, syntax_checker='H1-1SC')"
   ]
  },
  {
   "cell_type": "code",
   "execution_count": null,
   "id": "441c5068-dc4c-43e3-a44c-d17e662fe505",
   "metadata": {},
   "outputs": [],
   "source": [
    "handle = backend.process_circuit(compiled_circuit, \n",
    "                                 n_shots=n_shots,\n",
    "                                options={'tket-opt-level': None})\n",
    "print(handle)"
   ]
  },
  {
   "cell_type": "code",
   "execution_count": null,
   "id": "88c61074-3d84-4d21-b54b-6a9afd8df713",
   "metadata": {},
   "outputs": [],
   "source": [
    "result = backend.get_result(handle)"
   ]
  },
  {
   "cell_type": "code",
   "execution_count": null,
   "id": "d8b6152a-34b1-49ce-b7a5-2908d5985215",
   "metadata": {},
   "outputs": [],
   "source": [
    "import json\n",
    "\n",
    "with open('pytket_example.json', 'w') as file:\n",
    "    json.dump(result.to_dict(), file)"
   ]
  },
  {
   "cell_type": "code",
   "execution_count": null,
   "id": "faff640b-c83f-46d0-96d4-0b1cf475ebc1",
   "metadata": {},
   "outputs": [],
   "source": [
    "result = backend.get_result(handle)\n",
    "print(result.get_distribution())\n",
    "print(result.get_counts())"
   ]
  },
  {
   "cell_type": "markdown",
   "id": "4f27d607-ddd6-4f59-b656-8df37d941ae0",
   "metadata": {},
   "source": [
    "### 2. QFT Circuits in native gate set"
   ]
  },
  {
   "cell_type": "code",
   "execution_count": 2,
   "id": "a9522c2a-a877-4d97-ae86-89ec15485cf5",
   "metadata": {},
   "outputs": [],
   "source": [
    "def control_phase(circ, theta, q0, q1, arbZZ=False):\n",
    "    \"\"\"circuit gadget for performing controlled-[1 0;0 e^i theta]\n",
    "    Inputs:\n",
    "        circ: pytket Circuit object\n",
    "        theta: Z rotation angle (in units of pi)\n",
    "        q0: control qubit\n",
    "        q1: target qubit\n",
    "        arbZZ (bool): enables arbitrary angle RZZ gate\n",
    "    \"\"\"\n",
    "    if arbZZ == False:\n",
    "        # decompose into CNOTs\n",
    "        circ.Rz(theta / 2, q1)\n",
    "        circ.CX(q0, q1)\n",
    "        circ.Rz(-theta / 2, q1)\n",
    "        circ.CX(q0, q1)\n",
    "        circ.Rz(theta / 2, q0)\n",
    "    elif arbZZ == True:\n",
    "        circ.Rz(theta / 2, q0)\n",
    "        circ.Rz(theta / 2, q1)\n",
    "        if theta > 0:\n",
    "            circ.X(q0)\n",
    "            circ.ZZPhase(theta / 2, q0, q1)\n",
    "            circ.X(q0)\n",
    "        elif theta <= 0:\n",
    "            circ.ZZPhase(-theta / 2, q0, q1)"
   ]
  },
  {
   "cell_type": "code",
   "execution_count": 3,
   "id": "b44b507d-9056-4ff5-8c75-0fedab9378df",
   "metadata": {},
   "outputs": [],
   "source": [
    "def QFT(n, **kwargs):\n",
    "    \"\"\"\n",
    "    Function to implement the Quantum Fourier Transform\n",
    "    n : number of qubits\n",
    "    approx: if set to integer k, then sets that largest\n",
    "                 value of pi/2**k occuring in controlled rotation\n",
    "    returns circ: pytket Circuit object\n",
    "    \"\"\"\n",
    "\n",
    "    # optional keyword arguments\n",
    "    arbZZ = kwargs.get(\"arbZZ\", False)\n",
    "    approx = kwargs.get(\"approx\", None)\n",
    "\n",
    "    # initialize\n",
    "    circ_name = \"QFT-arbZZ\" if arbZZ else \"QFT-fixed\"\n",
    "    circ = Circuit(n, n, name=circ_name)\n",
    "    for j in range(n - 1):\n",
    "        q = n - 1 - j\n",
    "        circ.H(q)\n",
    "        for i in range(j + 1):\n",
    "            if approx == None or approx >= j + 1 - i:\n",
    "                control_phase(\n",
    "                    circ, 1 / (2 ** (j + 1 - i)), q - 1, n - 1 - i, arbZZ=arbZZ\n",
    "                )\n",
    "    circ.H(0)\n",
    "    circ.measure_all()\n",
    "    return circ"
   ]
  },
  {
   "cell_type": "code",
   "execution_count": 4,
   "id": "bd20a2b8-36b6-4711-a23e-54862d35c8db",
   "metadata": {},
   "outputs": [],
   "source": [
    "n_qubits = 12\n",
    "qft_fixed = QFT(n_qubits, arbZZ=False)\n",
    "qft_arbZZ = QFT(n_qubits, arbZZ=True)"
   ]
  },
  {
   "cell_type": "code",
   "execution_count": null,
   "id": "eee3645b-c41a-47ba-8f18-cccd83cb34be",
   "metadata": {},
   "outputs": [],
   "source": [
    "render_circuit_jupyter(qft_fixed)"
   ]
  },
  {
   "cell_type": "code",
   "execution_count": null,
   "id": "dd9ef147-5c46-4a9f-bcfb-d45fba9cb9cf",
   "metadata": {},
   "outputs": [],
   "source": [
    "render_circuit_jupyter(qft_arbZZ)"
   ]
  },
  {
   "cell_type": "code",
   "execution_count": 7,
   "id": "220b4153-109d-44e6-bbd0-705aedcff438",
   "metadata": {},
   "outputs": [
    {
     "name": "stdout",
     "output_type": "stream",
     "text": [
      "Enter your Quantinuum email:  megan.l.kohagen@quantinuum.com\n",
      "Enter your Quantinuum password:  ········\n"
     ]
    }
   ],
   "source": [
    "machine = 'H1-1E'\n",
    "backend = QuantinuumBackend(device_name=machine)\n",
    "backend.login()"
   ]
  },
  {
   "cell_type": "code",
   "execution_count": 8,
   "id": "1bae5e58-8843-460b-a34e-6df0a05dc74b",
   "metadata": {},
   "outputs": [],
   "source": [
    "qft_fixed_circuit_0 = backend.get_compiled_circuit(qft_fixed, optimisation_level=0)\n",
    "qft_fixed_circuit_1 = backend.get_compiled_circuit(qft_fixed, optimisation_level=1)\n",
    "qft_fixed_circuit_2 = backend.get_compiled_circuit(qft_fixed, optimisation_level=2)\n",
    "\n",
    "qft_arbZZ_circuit_0 = backend.get_compiled_circuit(qft_arbZZ, optimisation_level=0)\n",
    "qft_arbZZ_circuit_1 = backend.get_compiled_circuit(qft_arbZZ, optimisation_level=1)\n",
    "qft_arbZZ_circuit_2 = backend.get_compiled_circuit(qft_arbZZ, optimisation_level=2)"
   ]
  },
  {
   "cell_type": "code",
   "execution_count": 16,
   "id": "8feddce1-41b2-45bc-80bb-27f8e3d1a6d6",
   "metadata": {},
   "outputs": [],
   "source": [
    "def circuit_stats(circuit, opt_level, n_shots):\n",
    "    \"\"\" Summarize circuit stats in a list \"\"\"\n",
    "    circuit_cost = backend.cost(circuit, n_shots=n_shots, syntax_checker='H1-1SC')\n",
    "    circuit_row = [circuit.name, opt_level, circuit.n_2qb_gates(), circuit.n_1qb_gates(), circuit.n_gates, circuit_cost]\n",
    "    return circuit_row"
   ]
  },
  {
   "cell_type": "code",
   "execution_count": 18,
   "id": "c6acaa6b-2170-4f53-a989-29a9f7bf7992",
   "metadata": {},
   "outputs": [],
   "source": [
    "n_shots = 100\n",
    "qft_data = pd.DataFrame([circuit_stats(qft_fixed_circuit_0, 0, n_shots), circuit_stats(qft_fixed_circuit_1, 1, n_shots),\n",
    "                         circuit_stats(qft_fixed_circuit_2, 2, n_shots), circuit_stats(qft_arbZZ_circuit_0, 0, n_shots),\n",
    "                         circuit_stats(qft_arbZZ_circuit_1, 1, n_shots), circuit_stats(qft_arbZZ_circuit_2, 2, n_shots)], \n",
    "                        columns=[\"qft_type\", \"tket_opt_level\", \"n_2q_gates\", \"n_1q_gates\", \"n_gates\", \"hqc_cost\"])"
   ]
  },
  {
   "cell_type": "code",
   "execution_count": 19,
   "id": "226f2402-5810-41dc-8116-a0a412b42560",
   "metadata": {},
   "outputs": [
    {
     "data": {
      "text/html": [
       "<div>\n",
       "<style scoped>\n",
       "    .dataframe tbody tr th:only-of-type {\n",
       "        vertical-align: middle;\n",
       "    }\n",
       "\n",
       "    .dataframe tbody tr th {\n",
       "        vertical-align: top;\n",
       "    }\n",
       "\n",
       "    .dataframe thead th {\n",
       "        text-align: right;\n",
       "    }\n",
       "</style>\n",
       "<table border=\"1\" class=\"dataframe\">\n",
       "  <thead>\n",
       "    <tr style=\"text-align: right;\">\n",
       "      <th></th>\n",
       "      <th>qft_type</th>\n",
       "      <th>tket_opt_level</th>\n",
       "      <th>n_2q_gates</th>\n",
       "      <th>n_1q_gates</th>\n",
       "      <th>n_gates</th>\n",
       "      <th>hqc_cost</th>\n",
       "    </tr>\n",
       "  </thead>\n",
       "  <tbody>\n",
       "    <tr>\n",
       "      <th>4</th>\n",
       "      <td>QFT-arbZZ</td>\n",
       "      <td>1</td>\n",
       "      <td>66</td>\n",
       "      <td>23</td>\n",
       "      <td>101</td>\n",
       "      <td>21.06</td>\n",
       "    </tr>\n",
       "    <tr>\n",
       "      <th>2</th>\n",
       "      <td>QFT-fixed</td>\n",
       "      <td>2</td>\n",
       "      <td>66</td>\n",
       "      <td>73</td>\n",
       "      <td>151</td>\n",
       "      <td>22.06</td>\n",
       "    </tr>\n",
       "    <tr>\n",
       "      <th>5</th>\n",
       "      <td>QFT-arbZZ</td>\n",
       "      <td>2</td>\n",
       "      <td>66</td>\n",
       "      <td>85</td>\n",
       "      <td>163</td>\n",
       "      <td>22.30</td>\n",
       "    </tr>\n",
       "    <tr>\n",
       "      <th>3</th>\n",
       "      <td>QFT-arbZZ</td>\n",
       "      <td>0</td>\n",
       "      <td>66</td>\n",
       "      <td>288</td>\n",
       "      <td>366</td>\n",
       "      <td>23.48</td>\n",
       "    </tr>\n",
       "    <tr>\n",
       "      <th>1</th>\n",
       "      <td>QFT-fixed</td>\n",
       "      <td>1</td>\n",
       "      <td>132</td>\n",
       "      <td>144</td>\n",
       "      <td>288</td>\n",
       "      <td>36.68</td>\n",
       "    </tr>\n",
       "    <tr>\n",
       "      <th>0</th>\n",
       "      <td>QFT-fixed</td>\n",
       "      <td>0</td>\n",
       "      <td>132</td>\n",
       "      <td>1014</td>\n",
       "      <td>1158</td>\n",
       "      <td>39.32</td>\n",
       "    </tr>\n",
       "  </tbody>\n",
       "</table>\n",
       "</div>"
      ],
      "text/plain": [
       "    qft_type  tket_opt_level  n_2q_gates  n_1q_gates  n_gates  hqc_cost\n",
       "4  QFT-arbZZ               1          66          23      101     21.06\n",
       "2  QFT-fixed               2          66          73      151     22.06\n",
       "5  QFT-arbZZ               2          66          85      163     22.30\n",
       "3  QFT-arbZZ               0          66         288      366     23.48\n",
       "1  QFT-fixed               1         132         144      288     36.68\n",
       "0  QFT-fixed               0         132        1014     1158     39.32"
      ]
     },
     "execution_count": 19,
     "metadata": {},
     "output_type": "execute_result"
    }
   ],
   "source": [
    "qft_data.sort_values(by='hqc_cost')"
   ]
  },
  {
   "cell_type": "code",
   "execution_count": null,
   "id": "5a84d9bb-069c-47f8-8fb3-0e58c6a33a0d",
   "metadata": {},
   "outputs": [],
   "source": [
    "# Default behavior\n",
    "# handle = backend.process_circuit(compiled_circuit, \n",
    "#                                  n_shots=n_shots,\n",
    "#                                 options={'tket-opt-level': 2,\n",
    "#                                          'nativetq': 'ZZ',\n",
    "#                                          'no-opt': False,\n",
    "#                                          'noreduce': False\n",
    "#                                         }\n",
    "#                                 )\n",
    "# print(handle)"
   ]
  },
  {
   "cell_type": "code",
   "execution_count": null,
   "id": "b8fd67f3-6d15-4717-96a1-ac245e39a2ac",
   "metadata": {},
   "outputs": [],
   "source": [
    "handle = backend.process_circuit(compiled_circuit, \n",
    "                                 n_shots=n_shots,\n",
    "                                options={'tket-opt-level': None,\n",
    "                                         'nativetq': '',\n",
    "                                         'no-opt': True,\n",
    "                                         'noreduce': True\n",
    "                                        }\n",
    "                                )\n",
    "print(handle)"
   ]
  },
  {
   "cell_type": "code",
   "execution_count": 22,
   "id": "5739bdc3-56b8-458c-93f1-675873d4ba04",
   "metadata": {},
   "outputs": [
    {
     "data": {
      "text/plain": [
       "<property at 0x222c8f26520>"
      ]
     },
     "execution_count": 22,
     "metadata": {},
     "output_type": "execute_result"
    }
   ],
   "source": [
    "QuantinuumBackend.two_qubit_gate_set"
   ]
  },
  {
   "cell_type": "markdown",
   "id": "f48bb764-625a-4d43-8d21-0604c5133366",
   "metadata": {},
   "source": [
    "Because we ran the TKET optimization using `get_compiled_circuit` and we have the circuit we want to run, we turn off further TKET optimizations."
   ]
  },
  {
   "cell_type": "code",
   "execution_count": null,
   "id": "1f206062-7338-49f5-8af9-8b4918a0e372",
   "metadata": {},
   "outputs": [],
   "source": [
    "handle = backend.process_circuit(qft_fixed, \n",
    "                                 n_shots=n_shots,\n",
    "                                options={'tket-opt-level': None})\n",
    "print(handle)"
   ]
  },
  {
   "cell_type": "markdown",
   "id": "a9ebf024-dc6c-4ce7-92de-406804bce3f9",
   "metadata": {},
   "source": [
    "The arbitrary angle ZZ QFT benefits from the ZZPhase gate, so we specify it as the native two-qubit gate to use using the `nativetq` option."
   ]
  },
  {
   "cell_type": "code",
   "execution_count": null,
   "id": "5198158a-a78d-4d83-aeb0-7d52c02e79b0",
   "metadata": {},
   "outputs": [],
   "source": [
    "handle = backend.process_circuit(qft_arbZZ_circuit_1, \n",
    "                                 n_shots=n_shots,\n",
    "                                 options={'tket-opt-level': None,\n",
    "                                          'nativetq': 'RZZ'}\n",
    "                                )\n",
    "print(handle)"
   ]
  },
  {
   "cell_type": "code",
   "execution_count": null,
   "id": "38df9057-15a7-4ada-a6db-42e6d31a0971",
   "metadata": {},
   "outputs": [],
   "source": [
    "handle = backend.process_circuit(compiled_circuit, \n",
    "                                 n_shots=n_shots,\n",
    "                                options={'tket-opt-level': None,\n",
    "                                         'nativetq': 'RZZ',\n",
    "                                         'no-opt': True\n",
    "                                        }\n",
    "                                )\n",
    "print(handle)"
   ]
  },
  {
   "cell_type": "code",
   "execution_count": null,
   "id": "380d4afa-dba0-4418-9c53-3e364e6b4803",
   "metadata": {},
   "outputs": [],
   "source": [
    "handle = backend.process_circuit(compiled_circuit, \n",
    "                                 n_shots=n_shots,\n",
    "                                options={'tket-opt-level': None,\n",
    "                                         'nativetq': 'RZZ',\n",
    "                                         'no-opt': True,\n",
    "                                         'noreduce': True\n",
    "                                        }\n",
    "                                )\n",
    "print(handle)"
   ]
  },
  {
   "cell_type": "code",
   "execution_count": null,
   "id": "1399398f-8934-4440-93b2-8abe91b3c696",
   "metadata": {},
   "outputs": [],
   "source": [
    "result = backend.get_result(handle)"
   ]
  },
  {
   "cell_type": "code",
   "execution_count": null,
   "id": "d4a4617f-432e-4d55-b2a6-59b018e7c8de",
   "metadata": {},
   "outputs": [],
   "source": [
    "import json\n",
    "\n",
    "with open('pytket_example.json', 'w') as file:\n",
    "    json.dump(result.to_dict(), file)"
   ]
  },
  {
   "cell_type": "code",
   "execution_count": null,
   "id": "a0467c13-3b8a-40a3-8e83-8fbca8de150c",
   "metadata": {},
   "outputs": [],
   "source": [
    "result = backend.get_result(handle)\n",
    "print(result.get_distribution())\n",
    "print(result.get_counts())"
   ]
  },
  {
   "cell_type": "markdown",
   "id": "23000d21-7f61-475b-a5f4-ddf2f5cdf0c5",
   "metadata": {},
   "source": [
    "### 3. Circuit using $SU(4)$"
   ]
  },
  {
   "cell_type": "code",
   "execution_count": null,
   "id": "8f7808de-38d4-4674-85df-1be1f6bfd897",
   "metadata": {},
   "outputs": [],
   "source": []
  },
  {
   "cell_type": "markdown",
   "id": "b7ac403a-1ac6-4b24-9f4e-9d5ff575e423",
   "metadata": {},
   "source": [
    "<div align=\"center\"> &copy; 2024 by Quantinuum. All Rights Reserved. </div>"
   ]
  }
 ],
 "metadata": {
  "interpreter": {
   "hash": "fa09926369ab226b30f0f4d8b39a7b037b96c84df8a0d093a9349ea6fad58125"
  },
  "kernelspec": {
   "display_name": "Python 3 (ipykernel)",
   "language": "python",
   "name": "python3"
  },
  "language_info": {
   "codemirror_mode": {
    "name": "ipython",
    "version": 3
   },
   "file_extension": ".py",
   "mimetype": "text/x-python",
   "name": "python",
   "nbconvert_exporter": "python",
   "pygments_lexer": "ipython3",
   "version": "3.10.12"
  }
 },
 "nbformat": 4,
 "nbformat_minor": 5
}
