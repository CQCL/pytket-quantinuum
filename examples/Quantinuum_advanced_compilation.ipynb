{
 "cells": [
  {
   "attachments": {},
   "cell_type": "markdown",
   "id": "d791c1ee",
   "metadata": {},
   "source": [
    "<div style=\"text-align: center;\">\n",
    "<img src=\"https://assets-global.website-files.com/62b9d45fb3f64842a96c9686/62d84db4aeb2f6552f3a2f78_Quantinuum%20Logo__horizontal%20blue.svg\" width=\"200\" height=\"200\" /></div>"
   ]
  },
  {
   "attachments": {},
   "cell_type": "markdown",
   "id": "7cc7cc2c-704f-4560-81b4-98b4564abf8d",
   "metadata": {},
   "source": [
    "# Advanced Compilation Options with H-Series\n",
    "\n",
    "* [H-Series Hardware Compilation](#H-Series-Hardware-Compilation)\n",
    "  * [Comnp.np.piling to H-Series Hardware Native Gates](#Comnp.piling-to-H-Series-Hardware-Native-Gates)\n",
    "  * [The General SU(4) Entangler Gate](#The-General-SU(4)-Entangler-Gate)\n",
    "  * [Controlling H-Series Hardware Compiler Optimizations](#Controlling-H-Series-Hardware-Compiler-Optimizations)\n",
    "    * [Circuits written in any gate set](#Circuits-written-in-any-gate-set)\n",
    "    * [Circuits written in the hardware's native gate set](#Circuits-written-in-the-hardware's-native-gate-set)\n",
    "* [Examples](#Examples)\n",
    "    * [1. Benchmarking Circuit in non-native gate set](#1.-Benchmarking-Circuit-in-non-native-gate-set)\n",
    "    * [2. QFT Circuits in native gate set](#2.-QFT-Circuits-in-native-gate-set)\n",
    "    * [3. Circuit using $SU(4)$](#Circuit-using-$SU(4)$)"
   ]
  },
  {
   "attachments": {},
   "cell_type": "markdown",
   "id": "e0df2c73-4ed6-4958-9327-9c7009a497cf",
   "metadata": {},
   "source": [
    "## H-Series Hardware Compilation\n",
    "\n",
    "Native gates are gates on a quantum computer that the hardware physically executes. Different quantum computers may have different gates that are physically executed on the hardware. Writing a gate in a quantum circuit doesn't guarantee its physical execution on the device. For instance, on H-Series quantum computers, a Hadamard gate written in the circuit is not the actual gate executed. When users submit circuits using a Hadamard gate, the gate is translated into a $U1q$ gate followed by a $Rz$ gate, which the ion trap device physically executes. See the *System Model H1 Product Data Sheet* on the [System Model H1](https://www.quantinuum.com/hardware/h1) page or the *System Model H2 Product Data Sheet* on the [System Model H2](https://www.quantinuum.com/hardware/h2) page for a listing of the H-Series hardware native gates. \n",
    "\n",
    "The H-Series hardware compiler handles the translation from circuits users submit to the native gates run on hardware. In the H-Series Quantum Charge-Coupled Device (QCCD) architecture, the hardware compilation includes the assignment of which physical qubit corresponds to which qubit in a circuit as well as how qubits will be transported around the device. Since transport, as well as gating, incurs a small amount of error with each operation, the H-Series compiler aims to minimize the number of gates that need to be executed. \n",
    "\n",
    "<div style=\"text-align: center;\">\r\n",
    "         <img src=\"figureshseries-compilation-stac6.png\" width=\"400\" />\r\n",
    "</div>"
   ]
  },
  {
   "attachments": {},
   "cell_type": "markdown",
   "id": "ca352fad-d574-475a-a6ec-af3cd8fcc288",
   "metadata": {},
   "source": [
    "### Compiling to H-Series Hardware Native Gates\n",
    "\n",
    "On the Quantinuum H-Series devices, there are different native two-qubit gates available. The default native two-qubit gates include a fully entangling two-qubit gate, $ZZ()$, and an arbitrary angle ZZ gate, $Rzz(\\theta)$. Another native gate available on the hardware is the General $SU(4)$ Entangler gate.\n",
    "\n",
    "By default, the hardware compiler compiles to the $ZZ()$ or $Rzz(\\theta)$ gate. Currently, only one native gate can be specified at a time. This ensures everything aligns in the global operations of the circuit. \n",
    "\n",
    "If users would like to use the General $SU(4)$ Entangler gate and not have the circuit rebased to $ZZ()$ or $Rzz(\\theta)$ by the hardware compiler, they need to specify the $SU(4)$ gate using the `nativetq` option. The `nativetq` option is available to override the hardware stack's default two-qubit gate and use the supplied gate instead.\n",
    "\n",
    "* `nativetq`: override the stack's default native two-qubit gate and use the supplied gate as the gate instead\n",
    "  * `ZZ`: compile circuit to the $ZZ$ gate\n",
    "  * `RZZ`: compile circuit to the $Rzz(\\theta)$ gate, known as the `Optype.ZZPhase` gate within `pytket`.\n",
    "  * `Rxxyyzz`: compile circuit to the $SU(4)$ gate, known as `Optype.TK2` within `pytket`."
   ]
  },
  {
   "attachments": {},
   "cell_type": "markdown",
   "id": "115d526c",
   "metadata": {},
   "source": [
    "### The General $SU(4)$ Entangler Gate\n",
    "\n",
    "The General $SU(4)$ Entangler gate, or `Rxxyyzz`, is available in TKET as [`OpType.TK2`](https://tket.quantinuum.com/api-docs/circuit_class.html#pytket.circuit.Circuit.TK2). This gate is a combination of `OpType.XXPhase`, `OpType.YYPhase` and `OpType.ZZPhase`, and requires three angles as input, $\\alpha$, $\\beta$ and $\\gamma$. The definition of the gate is provided below:\n",
    "\n",
    "$$\\begin{equation} \\textrm{TK2}(\\alpha, \\beta, \\gamma) = e^{-\\frac{1}{2} i \\pi \\alpha (\\hat{X} \\bigotimes \\hat{X})} \\quad e^{-\\frac{1}{2} i \\pi \\beta (\\hat{Y} \\bigotimes \\hat{Y})} \\quad e^{-\\frac{1}{2} \\pi \\gamma (\\hat{Z} \\bigotimes \\hat{Z})} = e^{-\\frac{1}{2} i \\alpha (\\hat{X} \\bigotimes \\hat{X}) + \\beta (\\hat{Y} \\bigotimes \\hat{Y}) + \\gamma (\\hat{Z} \\bigotimes \\hat{Z})} \\end{equation} $$\n",
    "\n",
    "This gate can be used as follows within TKET."
   ]
  },
  {
   "cell_type": "code",
   "execution_count": null,
   "id": "8314af95",
   "metadata": {},
   "outputs": [],
   "source": [
    "from pytket.circuit.display import render_circuit_jupyter\n",
    "from pytket.circuit import Circuit\n",
    "from sympy import Symbol\n",
    "\n",
    "symbols = [Symbol(\"a\"), Symbol(\"b\"), Symbol(\"c\")]\n",
    "circuit = Circuit(2)\n",
    "circuit.TK2(*symbols, *circuit.qubits)\n",
    "render_circuit_jupyter(circuit)"
   ]
  },
  {
   "attachments": {},
   "cell_type": "markdown",
   "id": "ad806573",
   "metadata": {},
   "source": [
    "This circuit can be converted to a QASM string using the [`circuit_to_qasm_str`](https://tket.quantinuum.com/api-docs/qasm.html#pytket.qasm.circuit_to_qasm_str) function and by specifying the Quantinuum header `hqslib1`."
   ]
  },
  {
   "cell_type": "code",
   "execution_count": null,
   "id": "644ff6a4",
   "metadata": {},
   "outputs": [],
   "source": [
    "from pytket.qasm.qasm import circuit_to_qasm_str\n",
    "\n",
    "print(circuit_to_qasm_str(circuit, header=\"hqslib1\"))"
   ]
  },
  {
   "attachments": {},
   "cell_type": "markdown",
   "id": "e84f63cb-dcc8-4b60-9039-cb9ad343e039",
   "metadata": {},
   "source": [
    "### Controlling H-Series Hardware Compiler Optimizations\n",
    "\n",
    "Users have the option of submitting circuits using whichever quantum gate set they desire. Users do not need to think about which physical gates will be executed or how physical qubits will move around the device since the hardware compiler manages this. In certain cases, however, users may want to know that the circuit they submit is going to be run on the device exactly as they write it. For example, when running benchmarking circuits users may want circuits to be executed exactly as specified in the circuit even if its not the most optimal in total number of two-qubit gates. \n",
    "\n",
    "Within the Quantinuum stack, the ability to control levels of TKET optimizations and control over what is executed on the hardware is provided between 4 different job submission parameters in the API.\n",
    "\n",
    "There are two ways to think about using these options:\n",
    "1. [Circuits written in any gate set](#Circuits-written-in-any-gate-set)\n",
    "2. [Circuits written in the hardware's native gate set](#Circuits-written-in-the-hardware's-native-gate-set)"
   ]
  },
  {
   "attachments": {},
   "cell_type": "markdown",
   "id": "590f80a9-b75c-49d5-b302-db46fabb16bb",
   "metadata": {},
   "source": [
    "#### Circuits written in any gate set\n",
    "\n",
    "Users are free to submit circuits written with any gate set, not just the native gate set of the hardware. In this case, the options for control over what optimizations are applied are given at the TKET level. TKET will rebase the circuit to the native gate set it believes is most optimal and the hardware compiler will handle further optimizations of gate combinations as it applies to transport and ion assignment. **We recommend this for the majority of use cases.**\n",
    "\n",
    "* `tket-opt-level`: the `tket` optimization level to apply (default: `2`), with `tket` optimizations turned on, the hardware compiler will provide further gate combination logic as makes sense for ions and transport\n",
    "  * `2`: powerful optimizations, can use approximate methods, compilation can be expensive\n",
    "  * `1`: basic optimization, compiles quickly\n",
    "  * `0`: rebase the circuit with `tket`\n",
    "  * `null`: rebase the circuit without `tket`, using the hardware compiler only"
   ]
  },
  {
   "attachments": {},
   "cell_type": "markdown",
   "id": "ec5d9cba-e47b-4721-a8fe-664c137e94eb",
   "metadata": {},
   "source": [
    "#### Circuits written in the hardware's native gate set\n",
    "\n",
    "For circuits that are written only using gates in the hardware's native gate set, various levels of control are provided for what optimizations will be performed in the stack.\n",
    "\n",
    "Users may still choose to apply `tket` optimizations specified above to their circuit and control this with `tket-opt-level`, even if the circuit is written in the native gate set since further reductions in the number of quantum gates may be found, which will improve results. \n",
    "\n",
    "To use the native gates and circuit as the user submits it `tket-opt-level` must be set to `null` when submitting and the following options must be used.\n",
    "\n",
    "* `no-opt`: turns off all `tket` optimizations *and* all hardware compiler gate combination logic. (default: `False`)\n",
    "    * If more than 1 native gate is used in the circuit, the circuit will be rebased to 1 native gate, but no further gate combination logic will occur.\n",
    "    * The job will fail if `no-opt` is set to `True` and the circuit contains non-native gates. \n",
    "* `noreduce`: turns off all `tket` optimizations, all hardware compiler gate combination logic, and requires exact 1:1 correspondence of two-qubit gates with gates on the system. This requires the circuit be submitted using one 1 of the native two-qubit gates on the system, otherwise an error will be returned. (default: `False`)\n",
    "\n",
    "Note that `tket-opt-level` set to `null`, `no-opt` set to `True`, and `noreduce` set to `True` all disable `tket` optimizations, but `no-opt` and `noreduce` also turn off all hardware gate combination logic.\n",
    "\n",
    "**Create plot of quantum circuit -> tket opt or no-opt or nativetq or noreduce**"
   ]
  },
  {
   "attachments": {},
   "cell_type": "markdown",
   "id": "3c79e573-04c6-4142-9eb5-6d74cfb97b24",
   "metadata": {},
   "source": [
    "## Examples\n",
    "\n",
    "Now we illustrate the above options with a few examples. First we import the functions we need in `pytket`.   "
   ]
  },
  {
   "cell_type": "code",
   "execution_count": 14,
   "id": "c5cd7eda-ed96-4b84-896f-103349601b43",
   "metadata": {},
   "outputs": [],
   "source": [
    "import numpy as np\n",
    "import pandas as pd\n",
    "\n",
    "from pytket import Circuit\n",
    "from pytket.circuit.display import render_circuit_jupyter"
   ]
  },
  {
   "cell_type": "markdown",
   "id": "23000d21-7f61-475b-a5f4-ddf2f5cdf0c5",
   "metadata": {},
   "source": [
    "### Quantum Volume Circuits with and without the General $SU(4)$ Entangler\n",
    "\n",
    "Quantum volume is a benchmarking test that was initially proposed by IBM [TODO: insert reference]. It is a test that aims to verify the quality as well as the quantity of qubits on the machine. The test does this by peforming rounds of single and two qubit gates between random pairs of qubits for as many rounds as qubits in the test. For example, for quantum volume of 2^N where N=4, 4 random rounds of gates are performed. If the quantum computer performing the test passes, it verifies that the quantum computer can perform quality computation with equal depth as width of the circuit. The advantage to using quantum volume is that it gives users the confidence that not only do they have the number of qubits to support running their circuit, but the two-qubit gate fidelity is there to support circuits of significant depth as well. Quantum algorithms need not only qubits, but the ability to run many gates consecutively as well. Quantinuum has steadily been increasing the quantum volume of H-Series machines. "
   ]
  },
  {
   "cell_type": "code",
   "execution_count": 2,
   "id": "483b255e-6972-4132-8785-09240a648699",
   "metadata": {},
   "outputs": [
    {
     "data": {
      "text/html": [
       "\n",
       "\n",
       "\n",
       "\n",
       "\n",
       "\n",
       "<div style=\"resize: vertical; overflow: auto; height: 400px; display: block\">\n",
       "    <iframe srcdoc=\"\n",
       "&lt;!DOCTYPE html&gt;\n",
       "&lt;html lang=&#34;en&#34;&gt;\n",
       "&lt;head&gt;\n",
       "    &lt;meta charset=&#34;UTF-8&#34;&gt;\n",
       "    &lt;!-- Download Vue 3--&gt;\n",
       "&lt;script type=&#34;application/javascript&#34; src=&#34;https://cdn.jsdelivr.net/npm/vue@3&#34;&gt;&lt;/script&gt;\n",
       "&lt;!-- Download Circuit Renderer with styles --&gt;\n",
       "&lt;script type=&#34;application/javascript&#34; src=&#34;https://unpkg.com/pytket-circuit-renderer@0.7/dist/pytket-circuit-renderer.umd.js&#34;&gt;&lt;/script&gt;\n",
       "&lt;link rel=&#34;stylesheet&#34; href=&#34;https://unpkg.com/pytket-circuit-renderer@0.7/dist/pytket-circuit-renderer.css&#34;&gt;\n",
       "&lt;/head&gt;\n",
       "&lt;body&gt;\n",
       "\n",
       "\n",
       "\n",
       "    &lt;div id=&#34;circuit-display-vue-container-d8af838c-8e69-4e3d-922a-528ac55969ec&#34; class=&#34;pytket-circuit-display-container&#34;&gt;\n",
       "        &lt;div style=&#34;display: none&#34;&gt;\n",
       "            &lt;div id=&#34;circuit-json-to-display&#34;&gt;{&#34;bits&#34;: [[&#34;c&#34;, [0]], [&#34;c&#34;, [1]], [&#34;c&#34;, [2]], [&#34;c&#34;, [3]]], &#34;commands&#34;: [{&#34;args&#34;: [[&#34;q&#34;, [0]]], &#34;op&#34;: {&#34;params&#34;: [&#34;10.1992013161042&#34;, &#34;7.94333108375793&#34;, &#34;13.1112611438914&#34;], &#34;type&#34;: &#34;U3&#34;}}, {&#34;args&#34;: [[&#34;q&#34;, [1]]], &#34;op&#34;: {&#34;params&#34;: [&#34;11.188029477736&#34;, &#34;1.70188229400431&#34;, &#34;1.85021908282951&#34;], &#34;type&#34;: &#34;U3&#34;}}, {&#34;args&#34;: [[&#34;q&#34;, [2]]], &#34;op&#34;: {&#34;params&#34;: [&#34;10.8249872594614&#34;, &#34;7.03340913141992&#34;, &#34;8.37770895157035&#34;], &#34;type&#34;: &#34;U3&#34;}}, {&#34;args&#34;: [[&#34;q&#34;, [3]]], &#34;op&#34;: {&#34;params&#34;: [&#34;11.4826153680469&#34;, &#34;-0.299788208013163&#34;, &#34;7.21279861048019&#34;], &#34;type&#34;: &#34;U3&#34;}}, {&#34;args&#34;: [[&#34;q&#34;, [0]], [&#34;q&#34;, [2]]], &#34;op&#34;: {&#34;params&#34;: [&#34;1.17718733285894&#34;, &#34;0.786828928938173&#34;, &#34;0.521317806184449&#34;], &#34;type&#34;: &#34;TK2&#34;}}, {&#34;args&#34;: [[&#34;q&#34;, [1]], [&#34;q&#34;, [3]]], &#34;op&#34;: {&#34;params&#34;: [&#34;1.27228900015576&#34;, &#34;1.00591732690626&#34;, &#34;0.462608035132619&#34;], &#34;type&#34;: &#34;TK2&#34;}}, {&#34;args&#34;: [[&#34;q&#34;, [0]]], &#34;op&#34;: {&#34;params&#34;: [&#34;12.3075380956409&#34;, &#34;9.3456285226379&#34;, &#34;11.2758941528114&#34;], &#34;type&#34;: &#34;U3&#34;}}, {&#34;args&#34;: [[&#34;q&#34;, [1]]], &#34;op&#34;: {&#34;params&#34;: [&#34;9.60448092052541&#34;, &#34;7.40717029579225&#34;, &#34;11.7836327255597&#34;], &#34;type&#34;: &#34;U3&#34;}}, {&#34;args&#34;: [[&#34;q&#34;, [2]]], &#34;op&#34;: {&#34;params&#34;: [&#34;11.2221707798916&#34;, &#34;0.180014444375511&#34;, &#34;10.301650180789&#34;], &#34;type&#34;: &#34;U3&#34;}}, {&#34;args&#34;: [[&#34;q&#34;, [3]]], &#34;op&#34;: {&#34;params&#34;: [&#34;11.1078057648056&#34;, &#34;0.175801351394767&#34;, &#34;9.8329649110912&#34;], &#34;type&#34;: &#34;U3&#34;}}, {&#34;args&#34;: [[&#34;q&#34;, [0]], [&#34;q&#34;, [3]]], &#34;op&#34;: {&#34;params&#34;: [&#34;1.3809126542007&#34;, &#34;1.03495969211657&#34;, &#34;0.706342562392985&#34;], &#34;type&#34;: &#34;TK2&#34;}}, {&#34;args&#34;: [[&#34;q&#34;, [1]], [&#34;q&#34;, [2]]], &#34;op&#34;: {&#34;params&#34;: [&#34;0.966401727150197&#34;, &#34;0.782344698044916&#34;, &#34;12.3844756335505&#34;], &#34;type&#34;: &#34;TK2&#34;}}, {&#34;args&#34;: [[&#34;q&#34;, [0]]], &#34;op&#34;: {&#34;params&#34;: [&#34;9.50288540337396&#34;, &#34;7.31867041344783&#34;, &#34;14.0575444974072&#34;], &#34;type&#34;: &#34;U3&#34;}}, {&#34;args&#34;: [[&#34;q&#34;, [1]]], &#34;op&#34;: {&#34;params&#34;: [&#34;10.6166667207541&#34;, &#34;4.07116330784758&#34;, &#34;2.94370752314975&#34;], &#34;type&#34;: &#34;U3&#34;}}, {&#34;args&#34;: [[&#34;q&#34;, [2]]], &#34;op&#34;: {&#34;params&#34;: [&#34;10.8889383165672&#34;, &#34;10.8468432519203&#34;, &#34;3.98687149871785&#34;], &#34;type&#34;: &#34;U3&#34;}}, {&#34;args&#34;: [[&#34;q&#34;, [3]]], &#34;op&#34;: {&#34;params&#34;: [&#34;10.4106578811995&#34;, &#34;9.41513228940276&#34;, &#34;10.2523148878876&#34;], &#34;type&#34;: &#34;U3&#34;}}, {&#34;args&#34;: [[&#34;q&#34;, [0]], [&#34;q&#34;, [2]]], &#34;op&#34;: {&#34;params&#34;: [&#34;1.51078318729561&#34;, &#34;0.672082439303189&#34;, &#34;12.3354010439545&#34;], &#34;type&#34;: &#34;TK2&#34;}}, {&#34;args&#34;: [[&#34;q&#34;, [1]], [&#34;q&#34;, [3]]], &#34;op&#34;: {&#34;params&#34;: [&#34;1.06486771705877&#34;, &#34;0.791308038383728&#34;, &#34;0.419155060829413&#34;], &#34;type&#34;: &#34;TK2&#34;}}, {&#34;args&#34;: [[&#34;q&#34;, [0]]], &#34;op&#34;: {&#34;params&#34;: [&#34;11.8987492063346&#34;, &#34;-0.636527068024127&#34;, &#34;3.66183436443877&#34;], &#34;type&#34;: &#34;U3&#34;}}, {&#34;args&#34;: [[&#34;q&#34;, [1]]], &#34;op&#34;: {&#34;params&#34;: [&#34;3.22374217986805&#34;, &#34;0.508748795077463&#34;, &#34;5.12865823394762&#34;], &#34;type&#34;: &#34;U3&#34;}}, {&#34;args&#34;: [[&#34;q&#34;, [2]]], &#34;op&#34;: {&#34;params&#34;: [&#34;10.4642752584484&#34;, &#34;6.93550226616929&#34;, &#34;2.36483891363487&#34;], &#34;type&#34;: &#34;U3&#34;}}, {&#34;args&#34;: [[&#34;q&#34;, [3]]], &#34;op&#34;: {&#34;params&#34;: [&#34;7.89931362059725&#34;, &#34;0.127530882207421&#34;, &#34;13.5284048889005&#34;], &#34;type&#34;: &#34;U3&#34;}}, {&#34;args&#34;: [[&#34;q&#34;, [0]], [&#34;c&#34;, [0]]], &#34;op&#34;: {&#34;type&#34;: &#34;Measure&#34;}}, {&#34;args&#34;: [[&#34;q&#34;, [1]], [&#34;c&#34;, [1]]], &#34;op&#34;: {&#34;type&#34;: &#34;Measure&#34;}}, {&#34;args&#34;: [[&#34;q&#34;, [2]], [&#34;c&#34;, [2]]], &#34;op&#34;: {&#34;type&#34;: &#34;Measure&#34;}}, {&#34;args&#34;: [[&#34;q&#34;, [3]], [&#34;c&#34;, [3]]], &#34;op&#34;: {&#34;type&#34;: &#34;Measure&#34;}}], &#34;created_qubits&#34;: [], &#34;discarded_qubits&#34;: [], &#34;implicit_permutation&#34;: [[[&#34;q&#34;, [0]], [&#34;q&#34;, [0]]], [[&#34;q&#34;, [1]], [&#34;q&#34;, [1]]], [[&#34;q&#34;, [2]], [&#34;q&#34;, [2]]], [[&#34;q&#34;, [3]], [&#34;q&#34;, [3]]]], &#34;name&#34;: &#34;QV Example with SU(4)&#34;, &#34;phase&#34;: &#34;0.0&#34;, &#34;qubits&#34;: [[&#34;q&#34;, [0]], [&#34;q&#34;, [1]], [&#34;q&#34;, [2]], [&#34;q&#34;, [3]]]}&lt;/div&gt;\n",
       "        &lt;/div&gt;\n",
       "        &lt;circuit-display-container\n",
       "                :circuit-element-str=&#34;&#39;#circuit-json-to-display&#39;&#34;\n",
       "                :init-render-options=&#34;initRenderOptions&#34;\n",
       "        &gt;&lt;/circuit-display-container&gt;\n",
       "    &lt;/div&gt;\n",
       "    &lt;script type=&#34;application/javascript&#34;&gt;\n",
       "      const circuitRendererUid = &#34;d8af838c-8e69-4e3d-922a-528ac55969ec&#34;;\n",
       "      const displayOptions = JSON.parse(&#39;{}&#39;);\n",
       "\n",
       "      // Script to initialise the circuit renderer app\r\n",
       "\r\n",
       "const { createApp } = Vue;\r\n",
       "const circuitDisplayContainer = window[&#34;pytket-circuit-renderer&#34;].default;\r\n",
       "// Init variables to be shared between circuit display instances\r\n",
       "if (typeof window.pytketCircuitDisplays === &#34;undefined&#34;) {\r\n",
       "    window.pytketCircuitDisplays = {};\r\n",
       "}\r\n",
       "// Create the root Vue component\r\n",
       "const app = createApp({\r\n",
       "    delimiters: [&#39;[[#&#39;, &#39;#]]&#39;],\r\n",
       "    components: { circuitDisplayContainer },\r\n",
       "    data () {\r\n",
       "      return {\r\n",
       "        initRenderOptions: displayOptions,\r\n",
       "      }\r\n",
       "    }\r\n",
       "})\r\n",
       "app.config.unwrapInjectedRef = true;\r\n",
       "app.mount(&#34;#circuit-display-vue-container-&#34;+circuitRendererUid);\r\n",
       "window.pytketCircuitDisplays[circuitRendererUid] = app;\n",
       "    &lt;/script&gt;\n",
       "\n",
       "\n",
       "\n",
       "&lt;/body&gt;\n",
       "&lt;/html&gt;\n",
       "\"\n",
       "            width=\"100%\" height=\"100%\"\n",
       "            style=\"border: none; outline: none; overflow: auto\"></iframe>\n",
       "</div>\n",
       "\n"
      ],
      "text/plain": [
       "<IPython.core.display.HTML object>"
      ]
     },
     "metadata": {},
     "output_type": "display_data"
    }
   ],
   "source": [
    "qv_circuit_wSU4 = Circuit(4, name=\"QV Example with SU(4)\")\n",
    "\n",
    "# Round 1\n",
    "qv_circuit_wSU4.U3(3.2465066100946998*np.pi, 2.5284408131911524*np.pi, 4.1734440424380335*np.pi, 0)\n",
    "qv_circuit_wSU4.U3(3.56126038967905*np.pi, 0.5417259593027202*np.pi, 0.5889430256705375*np.pi, 1)\n",
    "qv_circuit_wSU4.U3(3.4457004625001506*np.pi, 2.238803660106308*np.pi, 2.666707582855283*np.pi, 2)\n",
    "qv_circuit_wSU4.U3(3.6550299908952426*np.pi, -0.09542555037191236*np.pi, 2.2959051047685524*np.pi, 3)\n",
    "\n",
    "qv_circuit_wSU4.TK2(0.3747103659393297*np.pi, 0.25045542681642363*np.pi, 0.16594061155215553*np.pi, 0, 2)\n",
    "qv_circuit_wSU4.TK2(0.4049821668324701*np.pi, 0.3201934298378358*np.pi, 0.14725271101077092*np.pi, 1, 3)\n",
    "\n",
    "# Round 2\n",
    "qv_circuit_wSU4.U3(3.9176110504261077*np.pi, 2.9748059513568568*np.pi, 3.5892285844018543*np.pi, 0)\n",
    "qv_circuit_wSU4.U3(3.057201228666834*np.pi, 2.3577755337975868*np.pi, 3.7508467917045114*np.pi, 1)\n",
    "qv_circuit_wSU4.U3(3.5721279036823654*np.pi, 0.05730037730060722*np.pi, 3.2791170965521705*np.pi, 2)\n",
    "qv_circuit_wSU4.U3(3.535724388746909*np.pi, 0.05595930815342476*np.pi, 3.1299299416986477*np.pi, 3)\n",
    "\n",
    "qv_circuit_wSU4.TK2(0.43955814978837976*np.pi, 0.3294379018024353*np.pi, 0.22483582064207827*np.pi, 0, 3)\n",
    "qv_circuit_wSU4.TK2(0.30761522377699807*np.pi, 0.24902805179116916*np.pi, 3.9421010293613925*np.pi, 1, 2)\n",
    "\n",
    "# Round 3\n",
    "qv_circuit_wSU4.U3(3.024862371165571*np.pi, 2.3296051463212555*np.pi, 4.47465538899325*np.pi, 0)\n",
    "qv_circuit_wSU4.U3(3.3793899755344796*np.pi, 1.2958915291565876*np.pi, 0.9370112066521646*np.pi, 1)\n",
    "qv_circuit_wSU4.U3(3.466056716208809*np.pi, 3.4526574409721653*np.pi, 1.2690606129862783*np.pi, 2)\n",
    "qv_circuit_wSU4.U3(3.3138153252630116*np.pi, 2.996929687445126*np.pi, 3.2634131850838957*np.pi, 3)\n",
    "\n",
    "qv_circuit_wSU4.TK2(0.48089722439645044*np.pi, 0.21393048476072266*np.pi, 3.92648010233256*np.pi, 0, 2)\n",
    "qv_circuit_wSU4.TK2(0.33895792181776946*np.pi, 0.2518811716342433*np.pi, 0.13342119970597022*np.pi, 1, 3)\n",
    "\n",
    "# Round 4\n",
    "qv_circuit_wSU4.U3(3.787489505597836*np.pi, -0.2026128585756619*np.pi, 1.1655980797683991*np.pi, 0)\n",
    "qv_circuit_wSU4.U3(1.0261490063596848*np.pi, 0.16193977105724777*np.pi, 1.6325026187234268*np.pi, 1)\n",
    "qv_circuit_wSU4.U3(3.330882266512557*np.pi, 2.2076389369717675*np.pi, 0.752751605442116*np.pi, 2)\n",
    "qv_circuit_wSU4.U3(2.5144296195023776*np.pi, 0.04059434060036249*np.pi, 4.306225020434145*np.pi, 3)\n",
    "\n",
    "qv_circuit_wSU4.measure_all()\n",
    "\n",
    "render_circuit_jupyter(qv_circuit_wSU4)"
   ]
  },
  {
   "cell_type": "code",
   "execution_count": 3,
   "id": "acad9e53",
   "metadata": {},
   "outputs": [
    {
     "data": {
      "text/html": [
       "\n",
       "\n",
       "\n",
       "\n",
       "\n",
       "\n",
       "<div style=\"resize: vertical; overflow: auto; height: 400px; display: block\">\n",
       "    <iframe srcdoc=\"\n",
       "&lt;!DOCTYPE html&gt;\n",
       "&lt;html lang=&#34;en&#34;&gt;\n",
       "&lt;head&gt;\n",
       "    &lt;meta charset=&#34;UTF-8&#34;&gt;\n",
       "    &lt;!-- Download Vue 3--&gt;\n",
       "&lt;script type=&#34;application/javascript&#34; src=&#34;https://cdn.jsdelivr.net/npm/vue@3&#34;&gt;&lt;/script&gt;\n",
       "&lt;!-- Download Circuit Renderer with styles --&gt;\n",
       "&lt;script type=&#34;application/javascript&#34; src=&#34;https://unpkg.com/pytket-circuit-renderer@0.7/dist/pytket-circuit-renderer.umd.js&#34;&gt;&lt;/script&gt;\n",
       "&lt;link rel=&#34;stylesheet&#34; href=&#34;https://unpkg.com/pytket-circuit-renderer@0.7/dist/pytket-circuit-renderer.css&#34;&gt;\n",
       "&lt;/head&gt;\n",
       "&lt;body&gt;\n",
       "\n",
       "\n",
       "\n",
       "    &lt;div id=&#34;circuit-display-vue-container-102ce31e-0f74-4dc0-ad7b-62ea16152ba7&#34; class=&#34;pytket-circuit-display-container&#34;&gt;\n",
       "        &lt;div style=&#34;display: none&#34;&gt;\n",
       "            &lt;div id=&#34;circuit-json-to-display&#34;&gt;{&#34;bits&#34;: [[&#34;c&#34;, [0]], [&#34;c&#34;, [1]], [&#34;c&#34;, [2]], [&#34;c&#34;, [3]]], &#34;commands&#34;: [{&#34;args&#34;: [[&#34;q&#34;, [0]]], &#34;op&#34;: {&#34;params&#34;: [&#34;10.1992013161042&#34;, &#34;4.80173843016813&#34;, &#34;0.544890529532244&#34;], &#34;type&#34;: &#34;U3&#34;}}, {&#34;args&#34;: [[&#34;q&#34;, [1]]], &#34;op&#34;: {&#34;params&#34;: [&#34;10.8031190973925&#34;, &#34;1.43971035958549&#34;, &#34;4.9918117364193&#34;], &#34;type&#34;: &#34;U3&#34;}}, {&#34;args&#34;: [[&#34;q&#34;, [2]]], &#34;op&#34;: {&#34;params&#34;: [&#34;10.8249872594614&#34;, &#34;3.89181647783013&#34;, &#34;2.09452364439077&#34;], &#34;type&#34;: &#34;U3&#34;}}, {&#34;args&#34;: [[&#34;q&#34;, [3]]], &#34;op&#34;: {&#34;params&#34;: [&#34;10.5085332070817&#34;, &#34;3.44138086160296&#34;, &#34;4.0712059568904&#34;], &#34;type&#34;: &#34;U3&#34;}}, {&#34;args&#34;: [[&#34;q&#34;, [0]]], &#34;op&#34;: {&#34;params&#34;: [&#34;1.5707963267949&#34;, &#34;0.0&#34;, &#34;3.14159265358979&#34;], &#34;type&#34;: &#34;U3&#34;}}, {&#34;args&#34;: [[&#34;q&#34;, [1]]], &#34;op&#34;: {&#34;params&#34;: [&#34;1.5707963267949&#34;, &#34;0.0&#34;, &#34;3.14159265358979&#34;], &#34;type&#34;: &#34;U3&#34;}}, {&#34;args&#34;: [[&#34;q&#34;, [2]]], &#34;op&#34;: {&#34;params&#34;: [&#34;1.5707963267949&#34;, &#34;0.0&#34;, &#34;3.14159265358979&#34;], &#34;type&#34;: &#34;U3&#34;}}, {&#34;args&#34;: [[&#34;q&#34;, [3]]], &#34;op&#34;: {&#34;params&#34;: [&#34;1.5707963267949&#34;, &#34;0.0&#34;, &#34;3.14159265358979&#34;], &#34;type&#34;: &#34;U3&#34;}}, {&#34;args&#34;: [[&#34;q&#34;, [0]], [&#34;q&#34;, [2]]], &#34;op&#34;: {&#34;params&#34;: [&#34;1.17718733285894&#34;], &#34;type&#34;: &#34;ZZPhase&#34;}}, {&#34;args&#34;: [[&#34;q&#34;, [1]], [&#34;q&#34;, [3]]], &#34;op&#34;: {&#34;params&#34;: [&#34;1.27228900015575&#34;], &#34;type&#34;: &#34;ZZPhase&#34;}}, {&#34;args&#34;: [[&#34;q&#34;, [0]]], &#34;op&#34;: {&#34;params&#34;: [&#34;1.5707963267949&#34;, &#34;0.0&#34;, &#34;3.14159265358979&#34;], &#34;type&#34;: &#34;U3&#34;}}, {&#34;args&#34;: [[&#34;q&#34;, [1]]], &#34;op&#34;: {&#34;params&#34;: [&#34;1.5707963267949&#34;, &#34;0.0&#34;, &#34;3.14159265358979&#34;], &#34;type&#34;: &#34;U3&#34;}}, {&#34;args&#34;: [[&#34;q&#34;, [2]]], &#34;op&#34;: {&#34;params&#34;: [&#34;1.5707963267949&#34;, &#34;0.0&#34;, &#34;3.14159265358979&#34;], &#34;type&#34;: &#34;U3&#34;}}, {&#34;args&#34;: [[&#34;q&#34;, [3]]], &#34;op&#34;: {&#34;params&#34;: [&#34;1.5707963267949&#34;, &#34;0.0&#34;, &#34;3.14159265358979&#34;], &#34;type&#34;: &#34;U3&#34;}}, {&#34;args&#34;: [[&#34;q&#34;, [0]]], &#34;op&#34;: {&#34;params&#34;: [&#34;10.9955742875643&#34;, &#34;4.71238898038469&#34;, &#34;1.5707963267949&#34;], &#34;type&#34;: &#34;U3&#34;}}, {&#34;args&#34;: [[&#34;q&#34;, [1]]], &#34;op&#34;: {&#34;params&#34;: [&#34;10.9955742875643&#34;, &#34;4.71238898038469&#34;, &#34;1.5707963267949&#34;], &#34;type&#34;: &#34;U3&#34;}}, {&#34;args&#34;: [[&#34;q&#34;, [2]]], &#34;op&#34;: {&#34;params&#34;: [&#34;10.9955742875643&#34;, &#34;4.71238898038469&#34;, &#34;1.5707963267949&#34;], &#34;type&#34;: &#34;U3&#34;}}, {&#34;args&#34;: [[&#34;q&#34;, [3]]], &#34;op&#34;: {&#34;params&#34;: [&#34;10.9955742875643&#34;, &#34;4.71238898038469&#34;, &#34;1.5707963267949&#34;], &#34;type&#34;: &#34;U3&#34;}}, {&#34;args&#34;: [[&#34;q&#34;, [0]], [&#34;q&#34;, [2]]], &#34;op&#34;: {&#34;params&#34;: [&#34;0.786828928938174&#34;], &#34;type&#34;: &#34;ZZPhase&#34;}}, {&#34;args&#34;: [[&#34;q&#34;, [1]], [&#34;q&#34;, [3]]], &#34;op&#34;: {&#34;params&#34;: [&#34;1.00591732690626&#34;], &#34;type&#34;: &#34;ZZPhase&#34;}}, {&#34;args&#34;: [[&#34;q&#34;, [0]]], &#34;op&#34;: {&#34;params&#34;: [&#34;1.5707963267949&#34;, &#34;4.71238898038469&#34;, &#34;1.5707963267949&#34;], &#34;type&#34;: &#34;U3&#34;}}, {&#34;args&#34;: [[&#34;q&#34;, [1]]], &#34;op&#34;: {&#34;params&#34;: [&#34;1.5707963267949&#34;, &#34;4.71238898038469&#34;, &#34;1.5707963267949&#34;], &#34;type&#34;: &#34;U3&#34;}}, {&#34;args&#34;: [[&#34;q&#34;, [2]]], &#34;op&#34;: {&#34;params&#34;: [&#34;1.5707963267949&#34;, &#34;4.71238898038469&#34;, &#34;1.5707963267949&#34;], &#34;type&#34;: &#34;U3&#34;}}, {&#34;args&#34;: [[&#34;q&#34;, [3]]], &#34;op&#34;: {&#34;params&#34;: [&#34;1.5707963267949&#34;, &#34;4.71238898038469&#34;, &#34;1.5707963267949&#34;], &#34;type&#34;: &#34;U3&#34;}}, {&#34;args&#34;: [[&#34;q&#34;, [0]], [&#34;q&#34;, [2]]], &#34;op&#34;: {&#34;params&#34;: [&#34;0.521317806184447&#34;], &#34;type&#34;: &#34;ZZPhase&#34;}}, {&#34;args&#34;: [[&#34;q&#34;, [1]], [&#34;q&#34;, [3]]], &#34;op&#34;: {&#34;params&#34;: [&#34;0.462608035132617&#34;], &#34;type&#34;: &#34;ZZPhase&#34;}}, {&#34;args&#34;: [[&#34;q&#34;, [0]]], &#34;op&#34;: {&#34;params&#34;: [&#34;9.68361047948768&#34;, &#34;0.079149438131468&#34;, &#34;4.99270884563174&#34;], &#34;type&#34;: &#34;U3&#34;}}, {&#34;args&#34;: [[&#34;q&#34;, [1]]], &#34;op&#34;: {&#34;params&#34;: [&#34;9.60448092052536&#34;, &#34;5.15920031856697&#34;, &#34;0.782737888799471&#34;], &#34;type&#34;: &#34;U3&#34;}}, {&#34;args&#34;: [[&#34;q&#34;, [2]]], &#34;op&#34;: {&#34;params&#34;: [&#34;10.7689777952369&#34;, &#34;2.96157820921434&#34;, &#34;4.01846487360939&#34;], &#34;type&#34;: &#34;U3&#34;}}, {&#34;args&#34;: [[&#34;q&#34;, [3]]], &#34;op&#34;: {&#34;params&#34;: [&#34;11.1078057648056&#34;, &#34;6.10738395578483&#34;, &#34;2.73340570326794&#34;], &#34;type&#34;: &#34;U3&#34;}}, {&#34;args&#34;: [[&#34;q&#34;, [0]]], &#34;op&#34;: {&#34;params&#34;: [&#34;1.5707963267949&#34;, &#34;0.0&#34;, &#34;3.14159265358979&#34;], &#34;type&#34;: &#34;U3&#34;}}, {&#34;args&#34;: [[&#34;q&#34;, [1]]], &#34;op&#34;: {&#34;params&#34;: [&#34;1.5707963267949&#34;, &#34;0.0&#34;, &#34;3.14159265358979&#34;], &#34;type&#34;: &#34;U3&#34;}}, {&#34;args&#34;: [[&#34;q&#34;, [2]]], &#34;op&#34;: {&#34;params&#34;: [&#34;1.5707963267949&#34;, &#34;0.0&#34;, &#34;3.14159265358979&#34;], &#34;type&#34;: &#34;U3&#34;}}, {&#34;args&#34;: [[&#34;q&#34;, [3]]], &#34;op&#34;: {&#34;params&#34;: [&#34;1.5707963267949&#34;, &#34;0.0&#34;, &#34;3.14159265358979&#34;], &#34;type&#34;: &#34;U3&#34;}}, {&#34;args&#34;: [[&#34;q&#34;, [0]], [&#34;q&#34;, [3]]], &#34;op&#34;: {&#34;params&#34;: [&#34;1.38091265420069&#34;], &#34;type&#34;: &#34;ZZPhase&#34;}}, {&#34;args&#34;: [[&#34;q&#34;, [1]], [&#34;q&#34;, [2]]], &#34;op&#34;: {&#34;params&#34;: [&#34;0.966401727150204&#34;], &#34;type&#34;: &#34;ZZPhase&#34;}}, {&#34;args&#34;: [[&#34;q&#34;, [0]]], &#34;op&#34;: {&#34;params&#34;: [&#34;1.5707963267949&#34;, &#34;0.0&#34;, &#34;3.14159265358979&#34;], &#34;type&#34;: &#34;U3&#34;}}, {&#34;args&#34;: [[&#34;q&#34;, [1]]], &#34;op&#34;: {&#34;params&#34;: [&#34;1.5707963267949&#34;, &#34;0.0&#34;, &#34;3.14159265358979&#34;], &#34;type&#34;: &#34;U3&#34;}}, {&#34;args&#34;: [[&#34;q&#34;, [2]]], &#34;op&#34;: {&#34;params&#34;: [&#34;1.5707963267949&#34;, &#34;0.0&#34;, &#34;3.14159265358979&#34;], &#34;type&#34;: &#34;U3&#34;}}, {&#34;args&#34;: [[&#34;q&#34;, [3]]], &#34;op&#34;: {&#34;params&#34;: [&#34;1.5707963267949&#34;, &#34;0.0&#34;, &#34;3.14159265358979&#34;], &#34;type&#34;: &#34;U3&#34;}}, {&#34;args&#34;: [[&#34;q&#34;, [0]]], &#34;op&#34;: {&#34;params&#34;: [&#34;10.9955742875643&#34;, &#34;4.71238898038469&#34;, &#34;1.5707963267949&#34;], &#34;type&#34;: &#34;U3&#34;}}, {&#34;args&#34;: [[&#34;q&#34;, [1]]], &#34;op&#34;: {&#34;params&#34;: [&#34;10.9955742875643&#34;, &#34;4.71238898038469&#34;, &#34;1.5707963267949&#34;], &#34;type&#34;: &#34;U3&#34;}}, {&#34;args&#34;: [[&#34;q&#34;, [2]]], &#34;op&#34;: {&#34;params&#34;: [&#34;10.9955742875643&#34;, &#34;4.71238898038469&#34;, &#34;1.5707963267949&#34;], &#34;type&#34;: &#34;U3&#34;}}, {&#34;args&#34;: [[&#34;q&#34;, [3]]], &#34;op&#34;: {&#34;params&#34;: [&#34;10.9955742875643&#34;, &#34;4.71238898038469&#34;, &#34;1.5707963267949&#34;], &#34;type&#34;: &#34;U3&#34;}}, {&#34;args&#34;: [[&#34;q&#34;, [0]], [&#34;q&#34;, [3]]], &#34;op&#34;: {&#34;params&#34;: [&#34;1.03495969211657&#34;], &#34;type&#34;: &#34;ZZPhase&#34;}}, {&#34;args&#34;: [[&#34;q&#34;, [1]], [&#34;q&#34;, [2]]], &#34;op&#34;: {&#34;params&#34;: [&#34;0.782344698044917&#34;], &#34;type&#34;: &#34;ZZPhase&#34;}}, {&#34;args&#34;: [[&#34;q&#34;, [0]]], &#34;op&#34;: {&#34;params&#34;: [&#34;1.5707963267949&#34;, &#34;4.71238898038469&#34;, &#34;1.5707963267949&#34;], &#34;type&#34;: &#34;U3&#34;}}, {&#34;args&#34;: [[&#34;q&#34;, [1]]], &#34;op&#34;: {&#34;params&#34;: [&#34;1.5707963267949&#34;, &#34;4.71238898038469&#34;, &#34;1.5707963267949&#34;], &#34;type&#34;: &#34;U3&#34;}}, {&#34;args&#34;: [[&#34;q&#34;, [2]]], &#34;op&#34;: {&#34;params&#34;: [&#34;1.5707963267949&#34;, &#34;4.71238898038469&#34;, &#34;1.5707963267949&#34;], &#34;type&#34;: &#34;U3&#34;}}, {&#34;args&#34;: [[&#34;q&#34;, [3]]], &#34;op&#34;: {&#34;params&#34;: [&#34;1.5707963267949&#34;, &#34;4.71238898038469&#34;, &#34;1.5707963267949&#34;], &#34;type&#34;: &#34;U3&#34;}}, {&#34;args&#34;: [[&#34;q&#34;, [0]], [&#34;q&#34;, [3]]], &#34;op&#34;: {&#34;params&#34;: [&#34;0.706342562392986&#34;], &#34;type&#34;: &#34;ZZPhase&#34;}}, {&#34;args&#34;: [[&#34;q&#34;, [1]], [&#34;q&#34;, [2]]], &#34;op&#34;: {&#34;params&#34;: [&#34;12.3844756335505&#34;], &#34;type&#34;: &#34;ZZPhase&#34;}}, {&#34;args&#34;: [[&#34;q&#34;, [0]]], &#34;op&#34;: {&#34;params&#34;: [&#34;9.50288540337394&#34;, &#34;2.10610754732141&#34;, &#34;4.79201142413144&#34;], &#34;type&#34;: &#34;U3&#34;}}, {&#34;args&#34;: [[&#34;q&#34;, [1]]], &#34;op&#34;: {&#34;params&#34;: [&#34;10.6166667207541&#34;, &#34;2.21202199933202&#34;, &#34;3.33947778402983&#34;], &#34;type&#34;: &#34;U3&#34;}}, {&#34;args&#34;: [[&#34;q&#34;, [2]]], &#34;op&#34;: {&#34;params&#34;: [&#34;10.8889383165671&#34;, &#34;4.8611200160287&#34;, &#34;2.29631380846172&#34;], &#34;type&#34;: &#34;U3&#34;}}, {&#34;args&#34;: [[&#34;q&#34;, [3]]], &#34;op&#34;: {&#34;params&#34;: [&#34;10.4106578811995&#34;, &#34;3.15123832495641&#34;, &#34;2.31405572647152&#34;], &#34;type&#34;: &#34;U3&#34;}}, {&#34;args&#34;: [[&#34;q&#34;, [0]]], &#34;op&#34;: {&#34;params&#34;: [&#34;1.5707963267949&#34;, &#34;0.0&#34;, &#34;3.14159265358979&#34;], &#34;type&#34;: &#34;U3&#34;}}, {&#34;args&#34;: [[&#34;q&#34;, [1]]], &#34;op&#34;: {&#34;params&#34;: [&#34;1.5707963267949&#34;, &#34;0.0&#34;, &#34;3.14159265358979&#34;], &#34;type&#34;: &#34;U3&#34;}}, {&#34;args&#34;: [[&#34;q&#34;, [2]]], &#34;op&#34;: {&#34;params&#34;: [&#34;1.5707963267949&#34;, &#34;0.0&#34;, &#34;3.14159265358979&#34;], &#34;type&#34;: &#34;U3&#34;}}, {&#34;args&#34;: [[&#34;q&#34;, [3]]], &#34;op&#34;: {&#34;params&#34;: [&#34;1.5707963267949&#34;, &#34;0.0&#34;, &#34;3.14159265358979&#34;], &#34;type&#34;: &#34;U3&#34;}}, {&#34;args&#34;: [[&#34;q&#34;, [0]], [&#34;q&#34;, [2]]], &#34;op&#34;: {&#34;params&#34;: [&#34;1.51078318729563&#34;], &#34;type&#34;: &#34;ZZPhase&#34;}}, {&#34;args&#34;: [[&#34;q&#34;, [1]], [&#34;q&#34;, [3]]], &#34;op&#34;: {&#34;params&#34;: [&#34;1.06486771705878&#34;], &#34;type&#34;: &#34;ZZPhase&#34;}}, {&#34;args&#34;: [[&#34;q&#34;, [0]]], &#34;op&#34;: {&#34;params&#34;: [&#34;1.5707963267949&#34;, &#34;0.0&#34;, &#34;3.14159265358979&#34;], &#34;type&#34;: &#34;U3&#34;}}, {&#34;args&#34;: [[&#34;q&#34;, [1]]], &#34;op&#34;: {&#34;params&#34;: [&#34;1.5707963267949&#34;, &#34;0.0&#34;, &#34;3.14159265358979&#34;], &#34;type&#34;: &#34;U3&#34;}}, {&#34;args&#34;: [[&#34;q&#34;, [2]]], &#34;op&#34;: {&#34;params&#34;: [&#34;1.5707963267949&#34;, &#34;0.0&#34;, &#34;3.14159265358979&#34;], &#34;type&#34;: &#34;U3&#34;}}, {&#34;args&#34;: [[&#34;q&#34;, [3]]], &#34;op&#34;: {&#34;params&#34;: [&#34;1.5707963267949&#34;, &#34;0.0&#34;, &#34;3.14159265358979&#34;], &#34;type&#34;: &#34;U3&#34;}}, {&#34;args&#34;: [[&#34;q&#34;, [0]]], &#34;op&#34;: {&#34;params&#34;: [&#34;10.9955742875643&#34;, &#34;4.71238898038469&#34;, &#34;1.5707963267949&#34;], &#34;type&#34;: &#34;U3&#34;}}, {&#34;args&#34;: [[&#34;q&#34;, [1]]], &#34;op&#34;: {&#34;params&#34;: [&#34;10.9955742875643&#34;, &#34;4.71238898038469&#34;, &#34;1.5707963267949&#34;], &#34;type&#34;: &#34;U3&#34;}}, {&#34;args&#34;: [[&#34;q&#34;, [2]]], &#34;op&#34;: {&#34;params&#34;: [&#34;10.9955742875643&#34;, &#34;4.71238898038469&#34;, &#34;1.5707963267949&#34;], &#34;type&#34;: &#34;U3&#34;}}, {&#34;args&#34;: [[&#34;q&#34;, [3]]], &#34;op&#34;: {&#34;params&#34;: [&#34;10.9955742875643&#34;, &#34;4.71238898038469&#34;, &#34;1.5707963267949&#34;], &#34;type&#34;: &#34;U3&#34;}}, {&#34;args&#34;: [[&#34;q&#34;, [0]], [&#34;q&#34;, [2]]], &#34;op&#34;: {&#34;params&#34;: [&#34;0.67208243930319&#34;], &#34;type&#34;: &#34;ZZPhase&#34;}}, {&#34;args&#34;: [[&#34;q&#34;, [1]], [&#34;q&#34;, [3]]], &#34;op&#34;: {&#34;params&#34;: [&#34;0.791308038383731&#34;], &#34;type&#34;: &#34;ZZPhase&#34;}}, {&#34;args&#34;: [[&#34;q&#34;, [0]]], &#34;op&#34;: {&#34;params&#34;: [&#34;1.5707963267949&#34;, &#34;4.71238898038469&#34;, &#34;1.5707963267949&#34;], &#34;type&#34;: &#34;U3&#34;}}, {&#34;args&#34;: [[&#34;q&#34;, [1]]], &#34;op&#34;: {&#34;params&#34;: [&#34;1.5707963267949&#34;, &#34;4.71238898038469&#34;, &#34;1.5707963267949&#34;], &#34;type&#34;: &#34;U3&#34;}}, {&#34;args&#34;: [[&#34;q&#34;, [2]]], &#34;op&#34;: {&#34;params&#34;: [&#34;1.5707963267949&#34;, &#34;4.71238898038469&#34;, &#34;1.5707963267949&#34;], &#34;type&#34;: &#34;U3&#34;}}, {&#34;args&#34;: [[&#34;q&#34;, [3]]], &#34;op&#34;: {&#34;params&#34;: [&#34;1.5707963267949&#34;, &#34;4.71238898038469&#34;, &#34;1.5707963267949&#34;], &#34;type&#34;: &#34;U3&#34;}}, {&#34;args&#34;: [[&#34;q&#34;, [0]], [&#34;q&#34;, [2]]], &#34;op&#34;: {&#34;params&#34;: [&#34;12.3354010439545&#34;], &#34;type&#34;: &#34;ZZPhase&#34;}}, {&#34;args&#34;: [[&#34;q&#34;, [1]], [&#34;q&#34;, [3]]], &#34;op&#34;: {&#34;params&#34;: [&#34;0.419155060829413&#34;], &#34;type&#34;: &#34;ZZPhase&#34;}}, {&#34;args&#34;: [[&#34;q&#34;, [0]]], &#34;op&#34;: {&#34;params&#34;: [&#34;10.092399368794&#34;, &#34;2.50506558556566&#34;, &#34;2.62135094274081&#34;], &#34;type&#34;: &#34;U3&#34;}}, {&#34;args&#34;: [[&#34;q&#34;, [1]]], &#34;op&#34;: {&#34;params&#34;: [&#34;6.20103578090131&#34;, &#34;3.65034144866727&#34;, &#34;4.29611972682176&#34;], &#34;type&#34;: &#34;U3&#34;}}, {&#34;args&#34;: [[&#34;q&#34;, [2]]], &#34;op&#34;: {&#34;params&#34;: [&#34;11.5268733166802&#34;, &#34;3.7939096125795&#34;, &#34;3.91834639354471&#34;], &#34;type&#34;: &#34;U3&#34;}}, {&#34;args&#34;: [[&#34;q&#34;, [3]]], &#34;op&#34;: {&#34;params&#34;: [&#34;7.80864964735172&#34;, &#34;3.26912353579721&#34;, &#34;2.1795583790485&#34;], &#34;type&#34;: &#34;U3&#34;}}, {&#34;args&#34;: [[&#34;q&#34;, [0]], [&#34;c&#34;, [0]]], &#34;op&#34;: {&#34;type&#34;: &#34;Measure&#34;}}, {&#34;args&#34;: [[&#34;q&#34;, [1]], [&#34;c&#34;, [1]]], &#34;op&#34;: {&#34;type&#34;: &#34;Measure&#34;}}, {&#34;args&#34;: [[&#34;q&#34;, [2]], [&#34;c&#34;, [2]]], &#34;op&#34;: {&#34;type&#34;: &#34;Measure&#34;}}, {&#34;args&#34;: [[&#34;q&#34;, [3]], [&#34;c&#34;, [3]]], &#34;op&#34;: {&#34;type&#34;: &#34;Measure&#34;}}], &#34;created_qubits&#34;: [], &#34;discarded_qubits&#34;: [], &#34;implicit_permutation&#34;: [[[&#34;q&#34;, [0]], [&#34;q&#34;, [0]]], [[&#34;q&#34;, [1]], [&#34;q&#34;, [1]]], [[&#34;q&#34;, [2]], [&#34;q&#34;, [2]]], [[&#34;q&#34;, [3]], [&#34;q&#34;, [3]]]], &#34;name&#34;: &#34;QV Example without SU(4)&#34;, &#34;phase&#34;: &#34;0.0&#34;, &#34;qubits&#34;: [[&#34;q&#34;, [0]], [&#34;q&#34;, [1]], [&#34;q&#34;, [2]], [&#34;q&#34;, [3]]]}&lt;/div&gt;\n",
       "        &lt;/div&gt;\n",
       "        &lt;circuit-display-container\n",
       "                :circuit-element-str=&#34;&#39;#circuit-json-to-display&#39;&#34;\n",
       "                :init-render-options=&#34;initRenderOptions&#34;\n",
       "        &gt;&lt;/circuit-display-container&gt;\n",
       "    &lt;/div&gt;\n",
       "    &lt;script type=&#34;application/javascript&#34;&gt;\n",
       "      const circuitRendererUid = &#34;102ce31e-0f74-4dc0-ad7b-62ea16152ba7&#34;;\n",
       "      const displayOptions = JSON.parse(&#39;{}&#39;);\n",
       "\n",
       "      // Script to initialise the circuit renderer app\r\n",
       "\r\n",
       "const { createApp } = Vue;\r\n",
       "const circuitDisplayContainer = window[&#34;pytket-circuit-renderer&#34;].default;\r\n",
       "// Init variables to be shared between circuit display instances\r\n",
       "if (typeof window.pytketCircuitDisplays === &#34;undefined&#34;) {\r\n",
       "    window.pytketCircuitDisplays = {};\r\n",
       "}\r\n",
       "// Create the root Vue component\r\n",
       "const app = createApp({\r\n",
       "    delimiters: [&#39;[[#&#39;, &#39;#]]&#39;],\r\n",
       "    components: { circuitDisplayContainer },\r\n",
       "    data () {\r\n",
       "      return {\r\n",
       "        initRenderOptions: displayOptions,\r\n",
       "      }\r\n",
       "    }\r\n",
       "})\r\n",
       "app.config.unwrapInjectedRef = true;\r\n",
       "app.mount(&#34;#circuit-display-vue-container-&#34;+circuitRendererUid);\r\n",
       "window.pytketCircuitDisplays[circuitRendererUid] = app;\n",
       "    &lt;/script&gt;\n",
       "\n",
       "\n",
       "\n",
       "&lt;/body&gt;\n",
       "&lt;/html&gt;\n",
       "\"\n",
       "            width=\"100%\" height=\"100%\"\n",
       "            style=\"border: none; outline: none; overflow: auto\"></iframe>\n",
       "</div>\n",
       "\n"
      ],
      "text/plain": [
       "<IPython.core.display.HTML object>"
      ]
     },
     "metadata": {},
     "output_type": "display_data"
    }
   ],
   "source": [
    "qv_circuit_no_SU4 = Circuit(4, name=\"QV Example without SU(4)\")\n",
    "\n",
    "qv_circuit_no_SU4.U3(3.2465066100946993*np.pi,1.5284408131911527*np.pi,0.1734440424380339*np.pi, 0)\n",
    "qv_circuit_no_SU4.U3(3.438739610320952*np.pi,0.45827404069728117*np.pi,1.5889430256705381*np.pi, 1)\n",
    "qv_circuit_no_SU4.U3(3.445700462500151*np.pi,1.2388036601063086*np.pi,0.6667075828552846*np.pi, 2)\n",
    "qv_circuit_no_SU4.U3(3.344970009104757*np.pi,1.095425550371913*np.pi,1.2959051047685524*np.pi, 3)\n",
    "qv_circuit_no_SU4.U3(0.5*np.pi,0.0*np.pi,1.0*np.pi, 0)\n",
    "qv_circuit_no_SU4.U3(0.5*np.pi,0.0*np.pi,1.0*np.pi, 1)\n",
    "qv_circuit_no_SU4.U3(0.5*np.pi,0.0*np.pi,1.0*np.pi, 2)\n",
    "qv_circuit_no_SU4.U3(0.5*np.pi,0.0*np.pi,1.0*np.pi, 3)\n",
    "qv_circuit_no_SU4.ZZPhase(0.3747103659393289*np.pi, 0, 2)\n",
    "qv_circuit_no_SU4.ZZPhase(0.4049821668324666*np.pi, 1, 3)\n",
    "\n",
    "qv_circuit_no_SU4.U3(0.5*np.pi,0.0*np.pi,1.0*np.pi, 0)\n",
    "qv_circuit_no_SU4.U3(0.5*np.pi,0.0*np.pi,1.0*np.pi, 1)\n",
    "qv_circuit_no_SU4.U3(0.5*np.pi,0.0*np.pi,1.0*np.pi, 2)\n",
    "qv_circuit_no_SU4.U3(0.5*np.pi,0.0*np.pi,1.0*np.pi, 3)\n",
    "qv_circuit_no_SU4.U3(3.5*np.pi,1.5*np.pi,0.5*np.pi, 0)\n",
    "qv_circuit_no_SU4.U3(3.5*np.pi,1.5*np.pi,0.5*np.pi, 1)\n",
    "qv_circuit_no_SU4.U3(3.5*np.pi,1.5*np.pi,0.5*np.pi, 2)\n",
    "qv_circuit_no_SU4.U3(3.5*np.pi,1.5*np.pi,0.5*np.pi, 3)\n",
    "qv_circuit_no_SU4.ZZPhase(0.2504554268164241*np.pi, 0, 2)\n",
    "qv_circuit_no_SU4.ZZPhase(0.32019342983783544*np.pi, 1, 3)\n",
    "\n",
    "qv_circuit_no_SU4.U3(0.5*np.pi,1.5*np.pi,0.5*np.pi, 0)\n",
    "qv_circuit_no_SU4.U3(0.5*np.pi,1.5*np.pi,0.5*np.pi, 1)\n",
    "qv_circuit_no_SU4.U3(0.5*np.pi,1.5*np.pi,0.5*np.pi, 2)\n",
    "qv_circuit_no_SU4.U3(0.5*np.pi,1.5*np.pi,0.5*np.pi, 3)\n",
    "qv_circuit_no_SU4.ZZPhase(0.16594061155215475*np.pi, 0, 2)\n",
    "qv_circuit_no_SU4.ZZPhase(0.14725271101077048*np.pi, 1, 3)\n",
    "\n",
    "qv_circuit_no_SU4.U3(3.082388949573886*np.pi,0.025194048643138567*np.pi,1.5892285844018454*np.pi, 0)\n",
    "qv_circuit_no_SU4.U3(3.057201228666816*np.pi,1.6422244662024277*np.pi,0.24915320829550014*np.pi, 1)\n",
    "qv_circuit_no_SU4.U3(3.42787209631763*np.pi,0.9426996226994098*np.pi,1.279117096552166*np.pi, 2)\n",
    "qv_circuit_no_SU4.U3(3.5357243887469094*np.pi,1.9440406918465785*np.pi,0.8700700583013419*np.pi, 3)\n",
    "qv_circuit_no_SU4.U3(0.5*np.pi,0.0*np.pi,1.0*np.pi, 0)\n",
    "qv_circuit_no_SU4.U3(0.5*np.pi,0.0*np.pi,1.0*np.pi, 1)\n",
    "qv_circuit_no_SU4.U3(0.5*np.pi,0.0*np.pi,1.0*np.pi, 2)\n",
    "qv_circuit_no_SU4.U3(0.5*np.pi,0.0*np.pi,1.0*np.pi, 3)\n",
    "qv_circuit_no_SU4.ZZPhase(0.4395581497883781*np.pi, 0, 3)\n",
    "qv_circuit_no_SU4.ZZPhase(0.30761522377700024*np.pi, 1, 2)\n",
    "\n",
    "qv_circuit_no_SU4.U3(0.5*np.pi,0.0*np.pi,1.0*np.pi, 0)\n",
    "qv_circuit_no_SU4.U3(0.5*np.pi,0.0*np.pi,1.0*np.pi, 1)\n",
    "qv_circuit_no_SU4.U3(0.5*np.pi,0.0*np.pi,1.0*np.pi, 2)\n",
    "qv_circuit_no_SU4.U3(0.5*np.pi,0.0*np.pi,1.0*np.pi, 3)\n",
    "qv_circuit_no_SU4.U3(3.5*np.pi,1.5*np.pi,0.5*np.pi, 0)\n",
    "qv_circuit_no_SU4.U3(3.5*np.pi,1.5*np.pi,0.5*np.pi, 1)\n",
    "qv_circuit_no_SU4.U3(3.5*np.pi,1.5*np.pi,0.5*np.pi, 2)\n",
    "qv_circuit_no_SU4.U3(3.5*np.pi,1.5*np.pi,0.5*np.pi, 3)\n",
    "qv_circuit_no_SU4.ZZPhase(0.3294379018024374*np.pi, 0, 3)\n",
    "qv_circuit_no_SU4.ZZPhase(0.2490280517911696*np.pi, 1, 2)\n",
    "\n",
    "qv_circuit_no_SU4.U3(0.5*np.pi,1.5*np.pi,0.5*np.pi, 0)\n",
    "qv_circuit_no_SU4.U3(0.5*np.pi,1.5*np.pi,0.5*np.pi, 1)\n",
    "qv_circuit_no_SU4.U3(0.5*np.pi,1.5*np.pi,0.5*np.pi, 2)\n",
    "qv_circuit_no_SU4.U3(0.5*np.pi,1.5*np.pi,0.5*np.pi, 3)\n",
    "qv_circuit_no_SU4.ZZPhase(0.22483582064207847*np.pi, 0, 3)\n",
    "qv_circuit_no_SU4.ZZPhase(3.942101029361395*np.pi, 1, 2)\n",
    "\n",
    "qv_circuit_no_SU4.U3(3.0248623711655656*np.pi,0.6703948536786994*np.pi,1.525344611006704*np.pi, 0)\n",
    "qv_circuit_no_SU4.U3(3.37938997553448*np.pi,0.7041084708434175*np.pi,1.0629887933478317*np.pi, 1)\n",
    "qv_circuit_no_SU4.U3(3.4660567162088007*np.pi,1.5473425590278413*np.pi,0.7309393870137169*np.pi, 2)\n",
    "qv_circuit_no_SU4.U3(3.313815325263007*np.pi,1.0030703125548746*np.pi,0.7365868149161*np.pi, 3)\n",
    "qv_circuit_no_SU4.U3(0.5*np.pi,0.0*np.pi,1.0*np.pi, 0)\n",
    "qv_circuit_no_SU4.U3(0.5*np.pi,0.0*np.pi,1.0*np.pi, 1)\n",
    "qv_circuit_no_SU4.U3(0.5*np.pi,0.0*np.pi,1.0*np.pi, 2)\n",
    "qv_circuit_no_SU4.U3(0.5*np.pi,0.0*np.pi,1.0*np.pi, 3)\n",
    "qv_circuit_no_SU4.ZZPhase(0.48089722439645505*np.pi, 0, 2)\n",
    "qv_circuit_no_SU4.ZZPhase(0.33895792181777307*np.pi, 1, 3)\n",
    "\n",
    "qv_circuit_no_SU4.U3(0.5*np.pi,0.0*np.pi,1.0*np.pi, 0)\n",
    "qv_circuit_no_SU4.U3(0.5*np.pi,0.0*np.pi,1.0*np.pi, 1)\n",
    "qv_circuit_no_SU4.U3(0.5*np.pi,0.0*np.pi,1.0*np.pi, 2)\n",
    "qv_circuit_no_SU4.U3(0.5*np.pi,0.0*np.pi,1.0*np.pi, 3)\n",
    "qv_circuit_no_SU4.U3(3.5*np.pi,1.5*np.pi,0.5*np.pi, 0)\n",
    "qv_circuit_no_SU4.U3(3.5*np.pi,1.5*np.pi,0.5*np.pi, 1)\n",
    "qv_circuit_no_SU4.U3(3.5*np.pi,1.5*np.pi,0.5*np.pi, 2)\n",
    "qv_circuit_no_SU4.U3(3.5*np.pi,1.5*np.pi,0.5*np.pi, 3)\n",
    "qv_circuit_no_SU4.ZZPhase(0.2139304847607227*np.pi, 0, 2)\n",
    "qv_circuit_no_SU4.ZZPhase(0.25188117163424417*np.pi, 1, 3)\n",
    "\n",
    "qv_circuit_no_SU4.U3(0.5*np.pi,1.5*np.pi,0.5*np.pi, 0)\n",
    "qv_circuit_no_SU4.U3(0.5*np.pi,1.5*np.pi,0.5*np.pi, 1)\n",
    "qv_circuit_no_SU4.U3(0.5*np.pi,1.5*np.pi,0.5*np.pi, 2)\n",
    "qv_circuit_no_SU4.U3(0.5*np.pi,1.5*np.pi,0.5*np.pi, 3)\n",
    "qv_circuit_no_SU4.ZZPhase(3.9264801023325635*np.pi, 0, 2)\n",
    "qv_circuit_no_SU4.ZZPhase(0.13342119970597022*np.pi, 1, 3)\n",
    "\n",
    "qv_circuit_no_SU4.U3(3.2125104944021645*np.pi,0.7973871414243372*np.pi,0.8344019202316*np.pi, 0)\n",
    "qv_circuit_no_SU4.U3(1.9738509936403101*np.pi,1.1619397710572517*np.pi,1.367497381276573*np.pi, 1)\n",
    "qv_circuit_no_SU4.U3(3.6691177334874423*np.pi,1.20763893697177*np.pi,1.2472483945578832*np.pi, 2)\n",
    "qv_circuit_no_SU4.U3(2.4855703804976246*np.pi,1.0405943406003615*np.pi,0.6937749795658569*np.pi, 3)\n",
    "\n",
    "qv_circuit_no_SU4.measure_all()\n",
    "\n",
    "render_circuit_jupyter(qv_circuit_no_SU4)"
   ]
  },
  {
   "cell_type": "code",
   "execution_count": null,
   "id": "c0177729-ef4d-4efc-9ddd-3845a741c3e5",
   "metadata": {},
   "outputs": [],
   "source": [
    "from pytket.circuit import OpType\n",
    "\n",
    "from pytket.extensions.quantinuum import QuantinuumBackend, QuantinuumBackendCompilationConfig"
   ]
  },
  {
   "cell_type": "code",
   "execution_count": 39,
   "id": "b9853a0a-ddf4-4527-834d-ea5d385612a0",
   "metadata": {},
   "outputs": [
    {
     "name": "stdin",
     "output_type": "stream",
     "text": [
      "Enter your Quantinuum email:  megan.l.kohagen@quantinuum.com\n",
      "Enter your Quantinuum password:  ········\n"
     ]
    }
   ],
   "source": [
    "machine = \"H1-1E\"\n",
    "\n",
    "# This didn't do anything since TK2 isn't in the \"_GATE_SET\"\n",
    "# config = QuantinuumBackendCompilationConfig(target_2qb_gate=OpType.TK2)\n",
    "# backend = QuantinuumBackend(device_name=machine, compilation_config=config)\n",
    "\n",
    "backend = QuantinuumBackend(device_name=machine)\n",
    "backend.login()"
   ]
  },
  {
   "cell_type": "code",
   "execution_count": null,
   "id": "4590221a-7b1a-4c45-a21e-c57b565d021e",
   "metadata": {},
   "outputs": [],
   "source": [
    "# compiled_circuit = backend.get_compiled_circuit(circuit, optimisation_level=0)"
   ]
  },
  {
   "cell_type": "code",
   "execution_count": null,
   "id": "45012ccf-8d53-44d3-93f9-921968e092f6",
   "metadata": {},
   "outputs": [],
   "source": [
    "# Add TK2 as a two-qubite gate in the backend's gate set\n",
    "backend._gate_set.add(OpType.TK2)\n",
    "\n",
    "# Set the target 2-qubit compilation gate\n",
    "backend.set_compilation_config_target_2qb_gate(target_2qb_gate=OpType.TK2)"
   ]
  },
  {
   "cell_type": "code",
   "execution_count": 46,
   "id": "c535bbf6-4920-416f-8548-461eaac1c2d1",
   "metadata": {},
   "outputs": [
    {
     "data": {
      "text/plain": [
       "{<OpType.TK2: 41>, <OpType.ZZMax: 70>, <OpType.ZZPhase: 73>}"
      ]
     },
     "execution_count": 46,
     "metadata": {},
     "output_type": "execute_result"
    }
   ],
   "source": [
    "backend.two_qubit_gate_set"
   ]
  },
  {
   "cell_type": "code",
   "execution_count": 47,
   "id": "e096961d-ca92-41b7-9dca-d759caa6f6ce",
   "metadata": {},
   "outputs": [
    {
     "data": {
      "text/plain": [
       "[NoSymbolsPredicate,\n",
       " GateSetPredicate:{ Reset RangePredicate Rz PhasedX MultiBit ZZMax ClassicalExpBox Barrier ZZPhase TK2 WASM SetBits Measure CopyBits ExplicitPredicate ExplicitModifier },\n",
       " MaxNQubitsPredicate(20),\n",
       " MaxNClRegPredicate(120)]"
      ]
     },
     "execution_count": 47,
     "metadata": {},
     "output_type": "execute_result"
    }
   ],
   "source": [
    "backend.required_predicates"
   ]
  },
  {
   "cell_type": "code",
   "execution_count": 48,
   "id": "c7184172-b34c-4ed9-bfbf-b26e0baf832f",
   "metadata": {},
   "outputs": [
    {
     "data": {
      "text/html": [
       "\n",
       "\n",
       "\n",
       "\n",
       "\n",
       "\n",
       "<div style=\"resize: vertical; overflow: auto; height: 400px; display: block\">\n",
       "    <iframe srcdoc=\"\n",
       "&lt;!DOCTYPE html&gt;\n",
       "&lt;html lang=&#34;en&#34;&gt;\n",
       "&lt;head&gt;\n",
       "    &lt;meta charset=&#34;UTF-8&#34;&gt;\n",
       "    &lt;!-- Download Vue 3--&gt;\n",
       "&lt;script type=&#34;application/javascript&#34; src=&#34;https://cdn.jsdelivr.net/npm/vue@3&#34;&gt;&lt;/script&gt;\n",
       "&lt;!-- Download Circuit Renderer with styles --&gt;\n",
       "&lt;script type=&#34;application/javascript&#34; src=&#34;https://unpkg.com/pytket-circuit-renderer@0.7/dist/pytket-circuit-renderer.umd.js&#34;&gt;&lt;/script&gt;\n",
       "&lt;link rel=&#34;stylesheet&#34; href=&#34;https://unpkg.com/pytket-circuit-renderer@0.7/dist/pytket-circuit-renderer.css&#34;&gt;\n",
       "&lt;/head&gt;\n",
       "&lt;body&gt;\n",
       "\n",
       "\n",
       "\n",
       "    &lt;div id=&#34;circuit-display-vue-container-4c2e1b24-3a44-4c16-88cf-d9c246f32b14&#34; class=&#34;pytket-circuit-display-container&#34;&gt;\n",
       "        &lt;div style=&#34;display: none&#34;&gt;\n",
       "            &lt;div id=&#34;circuit-json-to-display&#34;&gt;{&#34;bits&#34;: [[&#34;c&#34;, [0]], [&#34;c&#34;, [1]], [&#34;c&#34;, [2]], [&#34;c&#34;, [3]]], &#34;commands&#34;: [{&#34;args&#34;: [[&#34;q&#34;, [0]]], &#34;op&#34;: {&#34;params&#34;: [&#34;21.0545922276493&#34;], &#34;type&#34;: &#34;Rz&#34;}}, {&#34;args&#34;: [[&#34;q&#34;, [1]]], &#34;op&#34;: {&#34;params&#34;: [&#34;3.55210137683381&#34;], &#34;type&#34;: &#34;Rz&#34;}}, {&#34;args&#34;: [[&#34;q&#34;, [2]]], &#34;op&#34;: {&#34;params&#34;: [&#34;15.4111180829903&#34;], &#34;type&#34;: &#34;Rz&#34;}}, {&#34;args&#34;: [[&#34;q&#34;, [3]]], &#34;op&#34;: {&#34;params&#34;: [&#34;6.91301040246703&#34;], &#34;type&#34;: &#34;Rz&#34;}}, {&#34;args&#34;: [[&#34;q&#34;, [0]]], &#34;op&#34;: {&#34;params&#34;: [&#34;10.1992013161042&#34;, &#34;8.44333108375793&#34;], &#34;type&#34;: &#34;PhasedX&#34;}}, {&#34;args&#34;: [[&#34;q&#34;, [1]]], &#34;op&#34;: {&#34;params&#34;: [&#34;11.188029477736&#34;, &#34;2.20188229400431&#34;], &#34;type&#34;: &#34;PhasedX&#34;}}, {&#34;args&#34;: [[&#34;q&#34;, [2]]], &#34;op&#34;: {&#34;params&#34;: [&#34;10.8249872594614&#34;, &#34;7.53340913141992&#34;], &#34;type&#34;: &#34;PhasedX&#34;}}, {&#34;args&#34;: [[&#34;q&#34;, [3]]], &#34;op&#34;: {&#34;params&#34;: [&#34;11.4826153680469&#34;, &#34;0.200211791986837&#34;], &#34;type&#34;: &#34;PhasedX&#34;}}, {&#34;args&#34;: [[&#34;q&#34;, [0]], [&#34;q&#34;, [2]]], &#34;op&#34;: {&#34;params&#34;: [&#34;1.17718733285894&#34;, &#34;0.786828928938173&#34;, &#34;0.521317806184449&#34;], &#34;type&#34;: &#34;TK2&#34;}}, {&#34;args&#34;: [[&#34;q&#34;, [1]], [&#34;q&#34;, [3]]], &#34;op&#34;: {&#34;params&#34;: [&#34;1.27228900015576&#34;, &#34;1.00591732690626&#34;, &#34;0.462608035132619&#34;], &#34;type&#34;: &#34;TK2&#34;}}, {&#34;args&#34;: [[&#34;q&#34;, [0]]], &#34;op&#34;: {&#34;params&#34;: [&#34;20.6215226754493&#34;], &#34;type&#34;: &#34;Rz&#34;}}, {&#34;args&#34;: [[&#34;q&#34;, [1]]], &#34;op&#34;: {&#34;params&#34;: [&#34;19.190803021352&#34;], &#34;type&#34;: &#34;Rz&#34;}}, {&#34;args&#34;: [[&#34;q&#34;, [2]]], &#34;op&#34;: {&#34;params&#34;: [&#34;10.4816646251645&#34;], &#34;type&#34;: &#34;Rz&#34;}}, {&#34;args&#34;: [[&#34;q&#34;, [3]]], &#34;op&#34;: {&#34;params&#34;: [&#34;10.008766262486&#34;], &#34;type&#34;: &#34;Rz&#34;}}, {&#34;args&#34;: [[&#34;q&#34;, [0]]], &#34;op&#34;: {&#34;params&#34;: [&#34;12.3075380956409&#34;, &#34;9.8456285226379&#34;], &#34;type&#34;: &#34;PhasedX&#34;}}, {&#34;args&#34;: [[&#34;q&#34;, [1]]], &#34;op&#34;: {&#34;params&#34;: [&#34;9.60448092052541&#34;, &#34;7.90717029579225&#34;], &#34;type&#34;: &#34;PhasedX&#34;}}, {&#34;args&#34;: [[&#34;q&#34;, [2]]], &#34;op&#34;: {&#34;params&#34;: [&#34;11.2221707798916&#34;, &#34;0.680014444375511&#34;], &#34;type&#34;: &#34;PhasedX&#34;}}, {&#34;args&#34;: [[&#34;q&#34;, [3]]], &#34;op&#34;: {&#34;params&#34;: [&#34;11.1078057648056&#34;, &#34;0.675801351394767&#34;], &#34;type&#34;: &#34;PhasedX&#34;}}, {&#34;args&#34;: [[&#34;q&#34;, [0]], [&#34;q&#34;, [3]]], &#34;op&#34;: {&#34;params&#34;: [&#34;1.3809126542007&#34;, &#34;1.03495969211657&#34;, &#34;0.706342562392985&#34;], &#34;type&#34;: &#34;TK2&#34;}}, {&#34;args&#34;: [[&#34;q&#34;, [1]], [&#34;q&#34;, [2]]], &#34;op&#34;: {&#34;params&#34;: [&#34;0.966401727150197&#34;, &#34;0.782344698044916&#34;, &#34;12.3844756335505&#34;], &#34;type&#34;: &#34;TK2&#34;}}, {&#34;args&#34;: [[&#34;q&#34;, [0]]], &#34;op&#34;: {&#34;params&#34;: [&#34;21.376214910855&#34;], &#34;type&#34;: &#34;Rz&#34;}}, {&#34;args&#34;: [[&#34;q&#34;, [1]]], &#34;op&#34;: {&#34;params&#34;: [&#34;7.01487083099733&#34;], &#34;type&#34;: &#34;Rz&#34;}}, {&#34;args&#34;: [[&#34;q&#34;, [2]]], &#34;op&#34;: {&#34;params&#34;: [&#34;14.8337147506381&#34;], &#34;type&#34;: &#34;Rz&#34;}}, {&#34;args&#34;: [[&#34;q&#34;, [3]]], &#34;op&#34;: {&#34;params&#34;: [&#34;19.6674471772904&#34;], &#34;type&#34;: &#34;Rz&#34;}}, {&#34;args&#34;: [[&#34;q&#34;, [0]]], &#34;op&#34;: {&#34;params&#34;: [&#34;9.50288540337396&#34;, &#34;7.81867041344783&#34;], &#34;type&#34;: &#34;PhasedX&#34;}}, {&#34;args&#34;: [[&#34;q&#34;, [1]]], &#34;op&#34;: {&#34;params&#34;: [&#34;10.6166667207541&#34;, &#34;4.57116330784758&#34;], &#34;type&#34;: &#34;PhasedX&#34;}}, {&#34;args&#34;: [[&#34;q&#34;, [2]]], &#34;op&#34;: {&#34;params&#34;: [&#34;10.8889383165672&#34;, &#34;11.3468432519203&#34;], &#34;type&#34;: &#34;PhasedX&#34;}}, {&#34;args&#34;: [[&#34;q&#34;, [3]]], &#34;op&#34;: {&#34;params&#34;: [&#34;10.4106578811995&#34;, &#34;9.91513228940276&#34;], &#34;type&#34;: &#34;PhasedX&#34;}}, {&#34;args&#34;: [[&#34;q&#34;, [0]], [&#34;q&#34;, [2]]], &#34;op&#34;: {&#34;params&#34;: [&#34;1.51078318729561&#34;, &#34;0.672082439303189&#34;, &#34;12.3354010439545&#34;], &#34;type&#34;: &#34;TK2&#34;}}, {&#34;args&#34;: [[&#34;q&#34;, [1]], [&#34;q&#34;, [3]]], &#34;op&#34;: {&#34;params&#34;: [&#34;1.06486771705877&#34;, &#34;0.791308038383728&#34;, &#34;0.419155060829413&#34;], &#34;type&#34;: &#34;TK2&#34;}}, {&#34;args&#34;: [[&#34;q&#34;, [0]]], &#34;op&#34;: {&#34;params&#34;: [&#34;3.02530729641465&#34;], &#34;type&#34;: &#34;Rz&#34;}}, {&#34;args&#34;: [[&#34;q&#34;, [1]]], &#34;op&#34;: {&#34;params&#34;: [&#34;5.63740702902508&#34;], &#34;type&#34;: &#34;Rz&#34;}}, {&#34;args&#34;: [[&#34;q&#34;, [2]]], &#34;op&#34;: {&#34;params&#34;: [&#34;9.30034117980416&#34;], &#34;type&#34;: &#34;Rz&#34;}}, {&#34;args&#34;: [[&#34;q&#34;, [3]]], &#34;op&#34;: {&#34;params&#34;: [&#34;13.6559357711079&#34;], &#34;type&#34;: &#34;Rz&#34;}}, {&#34;args&#34;: [[&#34;q&#34;, [0]]], &#34;op&#34;: {&#34;params&#34;: [&#34;11.8987492063346&#34;, &#34;-0.136527068024127&#34;], &#34;type&#34;: &#34;PhasedX&#34;}}, {&#34;args&#34;: [[&#34;q&#34;, [1]]], &#34;op&#34;: {&#34;params&#34;: [&#34;3.22374217986805&#34;, &#34;1.00874879507746&#34;], &#34;type&#34;: &#34;PhasedX&#34;}}, {&#34;args&#34;: [[&#34;q&#34;, [2]]], &#34;op&#34;: {&#34;params&#34;: [&#34;10.4642752584484&#34;, &#34;7.43550226616929&#34;], &#34;type&#34;: &#34;PhasedX&#34;}}, {&#34;args&#34;: [[&#34;q&#34;, [3]]], &#34;op&#34;: {&#34;params&#34;: [&#34;7.89931362059725&#34;, &#34;0.627530882207421&#34;], &#34;type&#34;: &#34;PhasedX&#34;}}, {&#34;args&#34;: [[&#34;q&#34;, [0]], [&#34;c&#34;, [0]]], &#34;op&#34;: {&#34;type&#34;: &#34;Measure&#34;}}, {&#34;args&#34;: [[&#34;q&#34;, [1]], [&#34;c&#34;, [1]]], &#34;op&#34;: {&#34;type&#34;: &#34;Measure&#34;}}, {&#34;args&#34;: [[&#34;q&#34;, [2]], [&#34;c&#34;, [2]]], &#34;op&#34;: {&#34;type&#34;: &#34;Measure&#34;}}, {&#34;args&#34;: [[&#34;q&#34;, [3]], [&#34;c&#34;, [3]]], &#34;op&#34;: {&#34;type&#34;: &#34;Measure&#34;}}], &#34;created_qubits&#34;: [], &#34;discarded_qubits&#34;: [], &#34;implicit_permutation&#34;: [[[&#34;q&#34;, [0]], [&#34;q&#34;, [0]]], [[&#34;q&#34;, [1]], [&#34;q&#34;, [1]]], [[&#34;q&#34;, [2]], [&#34;q&#34;, [2]]], [[&#34;q&#34;, [3]], [&#34;q&#34;, [3]]]], &#34;name&#34;: &#34;QV Example with SU(4)&#34;, &#34;phase&#34;: &#34;0.872408810262403&#34;, &#34;qubits&#34;: [[&#34;q&#34;, [0]], [&#34;q&#34;, [1]], [&#34;q&#34;, [2]], [&#34;q&#34;, [3]]]}&lt;/div&gt;\n",
       "        &lt;/div&gt;\n",
       "        &lt;circuit-display-container\n",
       "                :circuit-element-str=&#34;&#39;#circuit-json-to-display&#39;&#34;\n",
       "                :init-render-options=&#34;initRenderOptions&#34;\n",
       "        &gt;&lt;/circuit-display-container&gt;\n",
       "    &lt;/div&gt;\n",
       "    &lt;script type=&#34;application/javascript&#34;&gt;\n",
       "      const circuitRendererUid = &#34;4c2e1b24-3a44-4c16-88cf-d9c246f32b14&#34;;\n",
       "      const displayOptions = JSON.parse(&#39;{}&#39;);\n",
       "\n",
       "      // Script to initialise the circuit renderer app\r\n",
       "\r\n",
       "const { createApp } = Vue;\r\n",
       "const circuitDisplayContainer = window[&#34;pytket-circuit-renderer&#34;].default;\r\n",
       "// Init variables to be shared between circuit display instances\r\n",
       "if (typeof window.pytketCircuitDisplays === &#34;undefined&#34;) {\r\n",
       "    window.pytketCircuitDisplays = {};\r\n",
       "}\r\n",
       "// Create the root Vue component\r\n",
       "const app = createApp({\r\n",
       "    delimiters: [&#39;[[#&#39;, &#39;#]]&#39;],\r\n",
       "    components: { circuitDisplayContainer },\r\n",
       "    data () {\r\n",
       "      return {\r\n",
       "        initRenderOptions: displayOptions,\r\n",
       "      }\r\n",
       "    }\r\n",
       "})\r\n",
       "app.config.unwrapInjectedRef = true;\r\n",
       "app.mount(&#34;#circuit-display-vue-container-&#34;+circuitRendererUid);\r\n",
       "window.pytketCircuitDisplays[circuitRendererUid] = app;\n",
       "    &lt;/script&gt;\n",
       "\n",
       "\n",
       "\n",
       "&lt;/body&gt;\n",
       "&lt;/html&gt;\n",
       "\"\n",
       "            width=\"100%\" height=\"100%\"\n",
       "            style=\"border: none; outline: none; overflow: auto\"></iframe>\n",
       "</div>\n",
       "\n"
      ],
      "text/plain": [
       "<IPython.core.display.HTML object>"
      ]
     },
     "metadata": {},
     "output_type": "display_data"
    }
   ],
   "source": [
    "compiled_circuit_wSU4 = backend.get_compiled_circuit(qv_circuit_wSU4, optimisation_level=0)\n",
    "render_circuit_jupyter(compiled_circuit_wSU4)"
   ]
  },
  {
   "cell_type": "code",
   "execution_count": 51,
   "id": "b5c1df2b-ffd0-4717-a836-d2aa27a77803",
   "metadata": {},
   "outputs": [
    {
     "data": {
      "text/plain": [
       "[NoSymbolsPredicate,\n",
       " GateSetPredicate:{ Reset RangePredicate Rz PhasedX MultiBit ZZMax ClassicalExpBox Barrier ZZPhase TK2 WASM SetBits Measure CopyBits ExplicitPredicate ExplicitModifier },\n",
       " MaxNQubitsPredicate(20),\n",
       " MaxNClRegPredicate(120)]"
      ]
     },
     "execution_count": 51,
     "metadata": {},
     "output_type": "execute_result"
    }
   ],
   "source": [
    "backend.required_predicates"
   ]
  },
  {
   "cell_type": "code",
   "execution_count": 50,
   "id": "273e468b-1178-4dfc-b368-69dd1ed360b5",
   "metadata": {},
   "outputs": [
    {
     "ename": "CircuitNotValidError",
     "evalue": "Circuit with index 0 in submitted does not satisfy GateSetPredicate:{ Reset RangePredicate Rz PhasedX MultiBit ZZMax ClassicalExpBox Barrier ZZPhase WASM SetBits Measure CopyBits ExplicitPredicate ExplicitModifier } (try compiling with backend.get_compiled_circuits first).",
     "output_type": "error",
     "traceback": [
      "\u001b[1;31m---------------------------------------------------------------------------\u001b[0m",
      "\u001b[1;31mCircuitNotValidError\u001b[0m                      Traceback (most recent call last)",
      "Cell \u001b[1;32mIn[50], line 3\u001b[0m\n\u001b[0;32m      1\u001b[0m n_shots \u001b[38;5;241m=\u001b[39m \u001b[38;5;241m100\u001b[39m\n\u001b[0;32m      2\u001b[0m \u001b[38;5;66;03m# backend.cost(qv_circuit_wSU4, n_shots=n_shots, syntax_checker=\"H1-1SC\")\u001b[39;00m\n\u001b[1;32m----> 3\u001b[0m \u001b[43mbackend\u001b[49m\u001b[38;5;241;43m.\u001b[39;49m\u001b[43mcost\u001b[49m\u001b[43m(\u001b[49m\u001b[43mcompiled_circuit_wSU4\u001b[49m\u001b[43m,\u001b[49m\u001b[43m \u001b[49m\u001b[43mn_shots\u001b[49m\u001b[38;5;241;43m=\u001b[39;49m\u001b[43mn_shots\u001b[49m\u001b[43m,\u001b[49m\u001b[43m \u001b[49m\u001b[43msyntax_checker\u001b[49m\u001b[38;5;241;43m=\u001b[39;49m\u001b[38;5;124;43m\"\u001b[39;49m\u001b[38;5;124;43mH1-1SC\u001b[39;49m\u001b[38;5;124;43m\"\u001b[39;49m\u001b[43m)\u001b[49m\n",
      "File \u001b[1;32m~\\Documents\\environments\\test\\Lib\\site-packages\\pytket\\extensions\\quantinuum\\backends\\quantinuum.py:1271\u001b[0m, in \u001b[0;36mQuantinuumBackend.cost\u001b[1;34m(self, circuit, n_shots, syntax_checker, use_websocket, **kwargs)\u001b[0m\n\u001b[0;32m   1268\u001b[0m     \u001b[38;5;28;01mraise\u001b[39;00m \u001b[38;5;167;01mValueError\u001b[39;00m(\u001b[38;5;124mf\u001b[39m\u001b[38;5;124m\"\u001b[39m\u001b[38;5;124mDevice \u001b[39m\u001b[38;5;132;01m{\u001b[39;00mbackend\u001b[38;5;241m.\u001b[39m_device_name\u001b[38;5;132;01m}\u001b[39;00m\u001b[38;5;124m is not a syntax checker.\u001b[39m\u001b[38;5;124m\"\u001b[39m)\n\u001b[0;32m   1270\u001b[0m \u001b[38;5;28;01mtry\u001b[39;00m:\n\u001b[1;32m-> 1271\u001b[0m     handle \u001b[38;5;241m=\u001b[39m \u001b[43mbackend\u001b[49m\u001b[38;5;241;43m.\u001b[39;49m\u001b[43mprocess_circuit\u001b[49m\u001b[43m(\u001b[49m\u001b[43mcircuit\u001b[49m\u001b[43m,\u001b[49m\u001b[43m \u001b[49m\u001b[43mn_shots\u001b[49m\u001b[43m,\u001b[49m\u001b[43m \u001b[49m\u001b[43mkwargs\u001b[49m\u001b[38;5;241;43m=\u001b[39;49m\u001b[43mkwargs\u001b[49m\u001b[43m)\u001b[49m  \u001b[38;5;66;03m# type: ignore\u001b[39;00m\n\u001b[0;32m   1272\u001b[0m \u001b[38;5;28;01mexcept\u001b[39;00m DeviceNotAvailable \u001b[38;5;28;01mas\u001b[39;00m e:\n\u001b[0;32m   1273\u001b[0m     \u001b[38;5;28;01mraise\u001b[39;00m \u001b[38;5;167;01mValueError\u001b[39;00m(\n\u001b[0;32m   1274\u001b[0m         \u001b[38;5;124mf\u001b[39m\u001b[38;5;124m\"\u001b[39m\u001b[38;5;124mCannot find syntax checker for device \u001b[39m\u001b[38;5;132;01m{\u001b[39;00m\u001b[38;5;28mself\u001b[39m\u001b[38;5;241m.\u001b[39m_device_name\u001b[38;5;132;01m}\u001b[39;00m\u001b[38;5;124m. \u001b[39m\u001b[38;5;124m\"\u001b[39m\n\u001b[0;32m   1275\u001b[0m         \u001b[38;5;124m\"\u001b[39m\u001b[38;5;124mTry setting the `syntax_checker` key word argument\u001b[39m\u001b[38;5;124m\"\u001b[39m\n\u001b[0;32m   1276\u001b[0m         \u001b[38;5;124m\"\u001b[39m\u001b[38;5;124m to the appropriate syntax checker for\u001b[39m\u001b[38;5;124m\"\u001b[39m\n\u001b[0;32m   1277\u001b[0m         \u001b[38;5;124m\"\u001b[39m\u001b[38;5;124m your device explicitly.\u001b[39m\u001b[38;5;124m\"\u001b[39m\n\u001b[0;32m   1278\u001b[0m     ) \u001b[38;5;28;01mfrom\u001b[39;00m \u001b[38;5;21;01me\u001b[39;00m\n",
      "File \u001b[1;32m~\\Documents\\environments\\test\\Lib\\site-packages\\pytket\\backends\\backend.py:257\u001b[0m, in \u001b[0;36mBackend.process_circuit\u001b[1;34m(self, circuit, n_shots, valid_check, **kwargs)\u001b[0m\n\u001b[0;32m    245\u001b[0m \u001b[38;5;28;01mdef\u001b[39;00m \u001b[38;5;21mprocess_circuit\u001b[39m(\n\u001b[0;32m    246\u001b[0m     \u001b[38;5;28mself\u001b[39m,\n\u001b[0;32m    247\u001b[0m     circuit: Circuit,\n\u001b[1;32m   (...)\u001b[0m\n\u001b[0;32m    250\u001b[0m     \u001b[38;5;241m*\u001b[39m\u001b[38;5;241m*\u001b[39mkwargs: KwargTypes,\n\u001b[0;32m    251\u001b[0m ) \u001b[38;5;241m-\u001b[39m\u001b[38;5;241m>\u001b[39m ResultHandle:\n\u001b[0;32m    252\u001b[0m \u001b[38;5;250m    \u001b[39m\u001b[38;5;124;03m\"\"\"\u001b[39;00m\n\u001b[0;32m    253\u001b[0m \u001b[38;5;124;03m    Submit a single circuit to the backend for running. See\u001b[39;00m\n\u001b[0;32m    254\u001b[0m \u001b[38;5;124;03m    :py:meth:`Backend.process_circuits`.\u001b[39;00m\n\u001b[0;32m    255\u001b[0m \u001b[38;5;124;03m    \"\"\"\u001b[39;00m\n\u001b[1;32m--> 257\u001b[0m     \u001b[38;5;28;01mreturn\u001b[39;00m \u001b[38;5;28;43mself\u001b[39;49m\u001b[38;5;241;43m.\u001b[39;49m\u001b[43mprocess_circuits\u001b[49m\u001b[43m(\u001b[49m\n\u001b[0;32m    258\u001b[0m \u001b[43m        \u001b[49m\u001b[43m[\u001b[49m\u001b[43mcircuit\u001b[49m\u001b[43m]\u001b[49m\u001b[43m,\u001b[49m\u001b[43m \u001b[49m\u001b[43mn_shots\u001b[49m\u001b[38;5;241;43m=\u001b[39;49m\u001b[43mn_shots\u001b[49m\u001b[43m,\u001b[49m\u001b[43m \u001b[49m\u001b[43mvalid_check\u001b[49m\u001b[38;5;241;43m=\u001b[39;49m\u001b[43mvalid_check\u001b[49m\u001b[43m,\u001b[49m\u001b[43m \u001b[49m\u001b[38;5;241;43m*\u001b[39;49m\u001b[38;5;241;43m*\u001b[39;49m\u001b[43mkwargs\u001b[49m\n\u001b[0;32m    259\u001b[0m \u001b[43m    \u001b[49m\u001b[43m)\u001b[49m[\u001b[38;5;241m0\u001b[39m]\n",
      "File \u001b[1;32m~\\Documents\\environments\\test\\Lib\\site-packages\\pytket\\extensions\\quantinuum\\backends\\quantinuum.py:805\u001b[0m, in \u001b[0;36mQuantinuumBackend.process_circuits\u001b[1;34m(self, circuits, n_shots, valid_check, **kwargs)\u001b[0m\n\u001b[0;32m    796\u001b[0m     circuits \u001b[38;5;241m=\u001b[39m [\n\u001b[0;32m    797\u001b[0m         \u001b[38;5;28mself\u001b[39m\u001b[38;5;241m.\u001b[39mget_compiled_circuit(\n\u001b[0;32m    798\u001b[0m             get_detection_circuit(c, \u001b[38;5;28mself\u001b[39m\u001b[38;5;241m.\u001b[39mbackend_info\u001b[38;5;241m.\u001b[39mn_nodes),  \u001b[38;5;66;03m# type: ignore\u001b[39;00m\n\u001b[1;32m   (...)\u001b[0m\n\u001b[0;32m    801\u001b[0m         \u001b[38;5;28;01mfor\u001b[39;00m c \u001b[38;5;129;01min\u001b[39;00m circuits\n\u001b[0;32m    802\u001b[0m     ]\n\u001b[0;32m    804\u001b[0m \u001b[38;5;28;01mif\u001b[39;00m valid_check:\n\u001b[1;32m--> 805\u001b[0m     \u001b[38;5;28;43mself\u001b[39;49m\u001b[38;5;241;43m.\u001b[39;49m\u001b[43m_check_all_circuits\u001b[49m\u001b[43m(\u001b[49m\u001b[43mcircuits\u001b[49m\u001b[43m)\u001b[49m\n\u001b[0;32m    807\u001b[0m postprocess \u001b[38;5;241m=\u001b[39m cast(\u001b[38;5;28mbool\u001b[39m, kwargs\u001b[38;5;241m.\u001b[39mget(\u001b[38;5;124m\"\u001b[39m\u001b[38;5;124mpostprocess\u001b[39m\u001b[38;5;124m\"\u001b[39m, \u001b[38;5;28;01mFalse\u001b[39;00m))\n\u001b[0;32m    808\u001b[0m simplify_initial \u001b[38;5;241m=\u001b[39m kwargs\u001b[38;5;241m.\u001b[39mget(\u001b[38;5;124m\"\u001b[39m\u001b[38;5;124msimplify_initial\u001b[39m\u001b[38;5;124m\"\u001b[39m, \u001b[38;5;28;01mFalse\u001b[39;00m)\n",
      "File \u001b[1;32m~\\Documents\\environments\\test\\Lib\\site-packages\\pytket\\backends\\backend.py:126\u001b[0m, in \u001b[0;36mBackend._check_all_circuits\u001b[1;34m(self, circuits, nomeasure_warn)\u001b[0m\n\u001b[0;32m    120\u001b[0m errors \u001b[38;5;241m=\u001b[39m (\n\u001b[0;32m    121\u001b[0m     CircuitNotValidError(i, \u001b[38;5;28mrepr\u001b[39m(pred))\n\u001b[0;32m    122\u001b[0m     \u001b[38;5;28;01mfor\u001b[39;00m pred \u001b[38;5;129;01min\u001b[39;00m \u001b[38;5;28mself\u001b[39m\u001b[38;5;241m.\u001b[39mrequired_predicates\n\u001b[0;32m    123\u001b[0m     \u001b[38;5;28;01mif\u001b[39;00m \u001b[38;5;129;01mnot\u001b[39;00m pred\u001b[38;5;241m.\u001b[39mverify(circ)\n\u001b[0;32m    124\u001b[0m )\n\u001b[0;32m    125\u001b[0m \u001b[38;5;28;01mfor\u001b[39;00m error \u001b[38;5;129;01min\u001b[39;00m errors:\n\u001b[1;32m--> 126\u001b[0m     \u001b[38;5;28;01mraise\u001b[39;00m error\n\u001b[0;32m    127\u001b[0m \u001b[38;5;28;01mif\u001b[39;00m nomeasure_warn:\n\u001b[0;32m    128\u001b[0m     \u001b[38;5;28;01mif\u001b[39;00m circ\u001b[38;5;241m.\u001b[39mn_gates_of_type(OpType\u001b[38;5;241m.\u001b[39mMeasure) \u001b[38;5;241m<\u001b[39m \u001b[38;5;241m1\u001b[39m:\n",
      "\u001b[1;31mCircuitNotValidError\u001b[0m: Circuit with index 0 in submitted does not satisfy GateSetPredicate:{ Reset RangePredicate Rz PhasedX MultiBit ZZMax ClassicalExpBox Barrier ZZPhase WASM SetBits Measure CopyBits ExplicitPredicate ExplicitModifier } (try compiling with backend.get_compiled_circuits first)."
     ]
    }
   ],
   "source": [
    "n_shots = 100\n",
    "# backend.cost(qv_circuit_wSU4, n_shots=n_shots, syntax_checker=\"H1-1SC\")\n",
    "backend.cost(compiled_circuit_wSU4, n_shots=n_shots, syntax_checker=\"H1-1SC\")"
   ]
  },
  {
   "cell_type": "code",
   "execution_count": null,
   "id": "3a845ec6-fd6c-470b-8395-5af45fb8aaf8",
   "metadata": {},
   "outputs": [],
   "source": [
    "handle = backend.process_circuit(compiled_circuit, n_shots=n_shots)\n",
    "print(handle)"
   ]
  },
  {
   "cell_type": "code",
   "execution_count": null,
   "id": "6309a1cf-cb57-49b1-8039-1901e16b7e8d",
   "metadata": {},
   "outputs": [],
   "source": [
    "import json\n",
    "with open(\"pytket_example_job_handle.json\", \"w\") as file:\n",
    "    json.dump(str(handle), file)"
   ]
  },
  {
   "cell_type": "code",
   "execution_count": null,
   "id": "b07c47ad-6210-47e3-b0a1-ee57ee23acb4",
   "metadata": {},
   "outputs": [],
   "source": [
    "from pytket.backends import ResultHandle"
   ]
  },
  {
   "cell_type": "code",
   "execution_count": null,
   "id": "c462deb6-0aec-43c0-a1eb-e92ba9eb9b30",
   "metadata": {},
   "outputs": [],
   "source": [
    "with open(\"pytket_example_job_handle.json\") as file:\n",
    "    handle_str = json.load(file)"
   ]
  },
  {
   "cell_type": "code",
   "execution_count": null,
   "id": "95f64a41-6eb4-419b-a548-cd4d1c571963",
   "metadata": {},
   "outputs": [],
   "source": [
    "handle = ResultHandle.from_str(handle_str)\n",
    "result = backend.get_result(handle)"
   ]
  },
  {
   "cell_type": "markdown",
   "id": "b7ac403a-1ac6-4b24-9f4e-9d5ff575e423",
   "metadata": {},
   "source": [
    "<div align=\"center\"> &copy; 2024 by Quantinuum. All Rights Reserved. </div>"
   ]
  }
 ],
 "metadata": {
  "interpreter": {
   "hash": "fa09926369ab226b30f0f4d8b39a7b037b96c84df8a0d093a9349ea6fad58125"
  },
  "kernelspec": {
   "display_name": "Python 3 (ipykernel)",
   "language": "python",
   "name": "python3"
  },
  "language_info": {
   "codemirror_mode": {
    "name": "ipython",
    "version": 3
   },
   "file_extension": ".py",
   "mimetype": "text/x-python",
   "name": "python",
   "nbconvert_exporter": "python",
   "pygments_lexer": "ipython3",
   "version": "3.11.7"
  }
 },
 "nbformat": 4,
 "nbformat_minor": 5
}
