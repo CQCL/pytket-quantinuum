{
 "cells": [
  {
   "attachments": {},
   "cell_type": "markdown",
   "id": "d791c1ee",
   "metadata": {},
   "source": [
    "<div style=\"text-align: center;\">\n",
    "<img src=\"https://assets-global.website-files.com/62b9d45fb3f64842a96c9686/62d84db4aeb2f6552f3a2f78_Quantinuum%20Logo__horizontal%20blue.svg\" width=\"200\" height=\"200\" /></div>"
   ]
  },
  {
   "attachments": {},
   "cell_type": "markdown",
   "id": "7cc7cc2c-704f-4560-81b4-98b4564abf8d",
   "metadata": {},
   "source": [
    "# Advanced Compilation Options with H-Series\n",
    "\n",
    "* [H-Series Hardware Compilation](#H-Series-Hardware-Compilation)\n",
    "  * [Comnp.np.piling to H-Series Hardware Native Gates](#Comnp.piling-to-H-Series-Hardware-Native-Gates)\n",
    "  * [The General SU(4) Entangler Gate](#The-General-SU(4)-Entangler-Gate)\n",
    "  * [Controlling H-Series Hardware Compiler Optimizations](#Controlling-H-Series-Hardware-Compiler-Optimizations)\n",
    "    * [Circuits written in any gate set](#Circuits-written-in-any-gate-set)\n",
    "    * [Circuits written in the hardware's native gate set](#Circuits-written-in-the-hardware's-native-gate-set)\n",
    "* [Examples](#Examples)\n",
    "    * [Circuit using $SU(4)$](#Circuit-using-$SU(4)$)"
   ]
  },
  {
   "attachments": {},
   "cell_type": "markdown",
   "id": "e0df2c73-4ed6-4958-9327-9c7009a497cf",
   "metadata": {},
   "source": [
    "## H-Series Hardware Compilation\n",
    "\n",
    "Native gates are gates on a quantum computer that the hardware physically executes. Different quantum computers may have different gates that are physically executed on the hardware. Writing a gate in a quantum circuit submitted to hardware doesn't guarantee its physical execution on the device. For instance, on H-Series quantum computers, a Hadamard gate written in the circuit is not the actual gate executed. When users submit circuits using a Hadamard gate, the gate is translated into a $U1q$ gate followed by a $Rz$ gate, which the ion trap device physically executes. See the *System Model H1 Product Data Sheet* on the [System Model H1](https://www.quantinuum.com/hardware/h1) page or the *System Model H2 Product Data Sheet* on the [System Model H2](https://www.quantinuum.com/hardware/h2) page for a listing of the H-Series hardware native gates. \n",
    "\n",
    "The H-Series hardware compiler handles the translation from circuits users submit to the native gates run on hardware. In the H-Series Quantum Charge-Coupled Device (QCCD) architecture, the hardware compilation includes the assignment of which physical qubit corresponds to which qubit in a circuit as well as how qubits will be transported around the device. Since transport, as well as gating, incurs a small amount of error with each operation, the H-Series compiler aims to minimize the number of gates that need to be executed. \n",
    "\n",
    "<div style=\"text-align: center;\">\n",
    "         <img src=\"figures/hseries-compilation-stack.png\" width=\"800\" />\n",
    "</div>"
   ]
  },
  {
   "attachments": {},
   "cell_type": "markdown",
   "id": "ca352fad-d574-475a-a6ec-af3cd8fcc288",
   "metadata": {},
   "source": [
    "### Compiling to H-Series Hardware Native Gates\n",
    "\n",
    "On the Quantinuum H-Series devices, there are different native two-qubit gates available. The default native two-qubit gates are an arbitrary angle ZZ gate, $Rzz(\\theta)$, or a fully entangling two-qubit gate, $ZZ()$. An additional native gate is available, the General $SU(4)$ Entangler gate, $Rxxyyzz(\\alpha, \\beta\\, \\gamma)$.\n",
    "\n",
    "By default, the hardware compiler compiles to the $Rzz(\\theta)$ or $ZZ()$ gate. Currently, only one native gate can be specified at a time. This ensures everything aligns in the global operations of the circuit. \n",
    "\n",
    "If users would like to use the General $SU(4)$ Entangler gate and not have the circuit rebased to $ZZ()$ or $Rzz(\\theta)$ by the hardware compiler, they need to specify the $SU(4)$ gate using the `nativetq` option. The `nativetq` option is available to override the hardware stack's default two-qubit gate and use the supplied gate instead.\n",
    "\n",
    "* `nativetq`: override the stack's default native two-qubit gate and use the supplied gate as the gate instead\n",
    "  * `ZZ`: compile circuit to the $ZZ$ gate\n",
    "  * `RZZ`: compile circuit to the $Rzz(\\theta)$ gate, known as the `Optype.ZZPhase` gate within `pytket`.\n",
    "  * `Rxxyyzz`: compile circuit to the $SU(4)$ gate, known as `Optype.TK2` within `pytket`."
   ]
  },
  {
   "attachments": {},
   "cell_type": "markdown",
   "id": "115d526c",
   "metadata": {},
   "source": [
    "### The General $SU(4)$ Entangler Gate\n",
    "\n",
    "The General $SU(4)$ Entangler gate, or $Rxxyyzz(\\alpha, \\beta\\, \\gamma)$, is available in TKET as [`OpType.TK2`](https://tket.quantinuum.com/api-docs/circuit_class.html#pytket.circuit.Circuit.TK2). This gate is a combination of `OpType.XXPhase`, `OpType.YYPhase` and `OpType.ZZPhase`, and requires three angles as input, $\\alpha$, $\\beta$ and $\\gamma$. The definition of the gate is provided below:\n",
    "\n",
    "$$\\begin{equation} \\textrm{TK2}(\\alpha, \\beta, \\gamma) = e^{-\\frac{1}{2} i \\pi \\alpha (\\hat{X} \\bigotimes \\hat{X})} \\quad e^{-\\frac{1}{2} i \\pi \\beta (\\hat{Y} \\bigotimes \\hat{Y})} \\quad e^{-\\frac{1}{2} \\pi \\gamma (\\hat{Z} \\bigotimes \\hat{Z})} = e^{-\\frac{1}{2} i \\alpha (\\hat{X} \\bigotimes \\hat{X}) + \\beta (\\hat{Y} \\bigotimes \\hat{Y}) + \\gamma (\\hat{Z} \\bigotimes \\hat{Z})} \\end{equation} $$\n",
    "\n",
    "This gate can be used as follows within TKET."
   ]
  },
  {
   "cell_type": "code",
   "execution_count": null,
   "id": "8314af95",
   "metadata": {},
   "outputs": [],
   "source": [
    "from pytket.circuit.display import render_circuit_jupyter\n",
    "from pytket.circuit import Circuit\n",
    "from sympy import Symbol\n",
    "\n",
    "symbols = [Symbol(\"a\"), Symbol(\"b\"), Symbol(\"c\")]\n",
    "circuit = Circuit(2)\n",
    "circuit.TK2(*symbols, *circuit.qubits)\n",
    "render_circuit_jupyter(circuit)"
   ]
  },
  {
   "attachments": {},
   "cell_type": "markdown",
   "id": "ad806573",
   "metadata": {},
   "source": [
    "This circuit can be converted to a QASM string using the [`circuit_to_qasm_str`](https://tket.quantinuum.com/api-docs/qasm.html#pytket.qasm.circuit_to_qasm_str) function and by specifying the Quantinuum header `hqslib1`."
   ]
  },
  {
   "cell_type": "code",
   "execution_count": null,
   "id": "644ff6a4",
   "metadata": {},
   "outputs": [],
   "source": [
    "from pytket.qasm.qasm import circuit_to_qasm_str\n",
    "\n",
    "print(circuit_to_qasm_str(circuit, header=\"hqslib1\"))"
   ]
  },
  {
   "attachments": {},
   "cell_type": "markdown",
   "id": "e84f63cb-dcc8-4b60-9039-cb9ad343e039",
   "metadata": {},
   "source": [
    "### Controlling H-Series Hardware Compiler Optimizations\n",
    "\n",
    "Users have the option of submitting circuits using whichever quantum gate set they desire. Users do not need to think about which physical gates will be executed or how physical qubits will move around the device since the hardware compiler manages this. In certain cases, however, users may want to know that the circuit they submit is going to be run on the device exactly as they write it. For example, when running benchmarking circuits users may want circuits to be executed exactly as specified in the circuit even if its not the most optimal in total number of two-qubit gates. \n",
    "\n",
    "Within the Quantinuum stack, the ability to control levels of TKET optimizations and control over what is executed on the hardware is provided between 4 different job submission parameters in the API.\n",
    "\n",
    "There are two ways to think about using these options:\n",
    "1. [Circuits written in any gate set](#Circuits-written-in-any-gate-set)\n",
    "2. [Circuits written in the hardware's native gate set](#Circuits-written-in-the-hardware's-native-gate-set)"
   ]
  },
  {
   "attachments": {},
   "cell_type": "markdown",
   "id": "590f80a9-b75c-49d5-b302-db46fabb16bb",
   "metadata": {},
   "source": [
    "#### Circuits written in any gate set\n",
    "\n",
    "Users are free to submit circuits written with any gate set, not just the native gate set of the hardware. In this case, the options for control over what optimizations are applied are given at the TKET level. TKET will rebase the circuit to the native gate set it believes is most optimal and the hardware compiler will handle further optimizations of gate combinations as it applies to transport and ion assignment. **We recommend this for the majority of use cases.**\n",
    "\n",
    "* `tket-opt-level`: the `tket` optimization level to apply (default: `2`), with `tket` optimizations turned on, the hardware compiler will provide further gate combination logic as makes sense for ions and transport\n",
    "  * `2`: powerful optimizations, can use approximate methods, compilation can be expensive\n",
    "  * `1`: basic optimization, compiles quickly\n",
    "  * `0`: rebase the circuit with `tket`\n",
    "  * `None`: rebase the circuit without `tket`, using the hardware compiler only\n",
    "\n",
    "In pytket, the optimization level can be explored before submitting to the device using the `get_compiled_circuit` function's `optimisation_level` option and controlled when submitting circuits via the `process_circuits` function."
   ]
  },
  {
   "attachments": {},
   "cell_type": "markdown",
   "id": "ec5d9cba-e47b-4721-a8fe-664c137e94eb",
   "metadata": {},
   "source": [
    "#### Circuits written in the hardware's native gate set\n",
    "\n",
    "For circuits that are written using only gates in the hardware's native gate set, various levels of control are provided for what optimizations will be performed in the stack.\n",
    "\n",
    "Users may still choose to apply TKET optimizations specified above to their circuit and control this with `tket-opt-level`, even if the circuit is written in the native gate set since further reductions in the number of quantum gates may be found, which will improve results. This can be explored before submitting using the `get_compiled_circuit` function.\n",
    "\n",
    "To use the native gates the user has specified in their circuit as is, `tket-opt-level` must be set to `None` when submitting and the following options must be used.\n",
    "\n",
    "* `no-opt`: turns off all TKET optimizations *and* all hardware compiler gate combination logic. (default: `False`)\n",
    "    * If more than 1 native gate is used in the circuit, the circuit will be rebased to 1 native gate, but no further gate combination logic will occur.\n",
    "    * The job will fail if `no-opt` is set to `True` and the circuit contains non-native gates. \n",
    "* `noreduce`: turns off all `tket` optimizations, all hardware compiler gate combination logic, and requires exact 1:1 correspondence of two-qubit gates with gates on the system. This requires the circuit be submitted using one of the native two-qubit gates on the system, otherwise an error will be returned. (default: `False`)\n",
    "\n",
    "Note that `tket-opt-level` set to `None`, `no-opt` set to `True`, and `noreduce` set to `True` all disable TKET optimizations, but `no-opt` and `noreduce` also turn off all hardware gate combination logic.\n",
    "\n",
    "<div style=\"text-align: center;\">\n",
    "         <img src=\"figures/hseries-stack-options.png\" width=\"800\" />\n",
    "</div>"
   ]
  },
  {
   "attachments": {},
   "cell_type": "markdown",
   "id": "3c79e573-04c6-4142-9eb5-6d74cfb97b24",
   "metadata": {},
   "source": [
    "## Examples\n",
    "\n",
    "Now we illustrate the above options with a few examples. The workflow involves specifying the use of the desired native gate both in the TKET compiler options as well as the hardware options when submitting circuits with `process_circuit`.\n",
    "\n",
    "<div style=\"text-align: center;\">\n",
    "         <img src=\"figures/native-gates-workflow.png\" width=\"300\" />\n",
    "</div>\n",
    "\n",
    "First we import the functions we need in `pytket`.   "
   ]
  },
  {
   "cell_type": "code",
   "execution_count": 1,
   "id": "c5cd7eda-ed96-4b84-896f-103349601b43",
   "metadata": {},
   "outputs": [],
   "source": [
    "import numpy as np\n",
    "\n",
    "from pytket import Circuit, OpType\n",
    "from pytket.circuit.display import render_circuit_jupyter\n",
    "\n",
    "from pytket.extensions.quantinuum import QuantinuumBackend\n",
    "from pytket.extensions.quantinuum.backends.quantinuum import QuantinuumBackendCompilationConfig"
   ]
  },
  {
   "cell_type": "markdown",
   "id": "367661b2",
   "metadata": {},
   "source": [
    "### Quantum Volume Circuits with and without the General $SU(4)$ Entangler\n",
    "\n",
    "Quantum volume is a benchmarking test that was initially proposed by IBM ([arXiv:1811.12926](https://arxiv.org/abs/1811.12926)). It is a test that aims to verify not only the quantity, but the quality of the qubits on a quantum computer. The test does this by peforming rounds of single and two qubit gates between random pairs of qubits for as many rounds as qubits in the test. For example, for quantum volume of 2^N where N=4, 4 random rounds of gates are performed. If the quantum computer performing the test passes, it verifies that the quantum computer can perform quality computation with equal depth as width of the circuit. \n",
    "\n",
    "The advantage to using quantum volume is that it gives users the confidence that not only do they have the number of qubits to support running their circuit, but the two-qubit gate fidelity is there to support circuits of significant depth as well. Quantinuum has steadily been increasing the quantum volume of H-Series machines. \n",
    "\n",
    "#### Set up the QV circuit with the General $SU(4)$ Entangler\n",
    "\n",
    "First, we set up the circuit."
   ]
  },
  {
   "cell_type": "code",
   "execution_count": 4,
   "id": "c687d9fc",
   "metadata": {},
   "outputs": [
    {
     "data": {
      "text/plain": [
       "[U3(2.1992, 1.94333, 1.11126) q[0]; U3(3.18803, 1.70188, 1.85022) q[1]; U3(2.82499, 1.03341, 0.377709) q[2]; U3(3.48262, 1.70021, 1.2128) q[3]; TK2(1.17719, 0.786829, 0.521318) q[0], q[2]; TK2(1.27229, 1.00592, 0.462608) q[1], q[3]; U3(0.307538, 1.34563, 1.27589) q[0]; U3(1.60448, 1.40717, 1.78363) q[1]; U3(3.22217, 0.180014, 0.30165) q[2]; U3(3.10781, 0.175801, 1.83296) q[3]; TK2(1.38091, 1.03496, 0.706343) q[0], q[3]; TK2(0.966402, 0.782345, 0.384476) q[1], q[2]; U3(1.50289, 1.31867, 0.0575445) q[0]; U3(2.61667, 0.0711633, 0.943708) q[1]; U3(2.88894, 0.846843, 1.98687) q[2]; U3(2.41066, 1.41513, 0.252315) q[3]; TK2(1.51078, 0.672082, 0.335401) q[0], q[2]; TK2(1.06487, 0.791308, 0.419155) q[1], q[3]; U3(3.89875, 1.36347, 1.66183) q[0]; U3(3.22374, 0.508749, 1.12866) q[1]; U3(2.46428, 0.935502, 0.364839) q[2]; U3(3.89931, 0.127531, 1.5284) q[3]; Measure q[0] --> c[0]; Measure q[1] --> c[1]; Measure q[2] --> c[2]; Measure q[3] --> c[3]; ]"
      ]
     },
     "execution_count": 4,
     "metadata": {},
     "output_type": "execute_result"
    }
   ],
   "source": [
    "qv_circuit_wSU4 = Circuit(4, name=\"QV Example with SU(4)\")\n",
    "\n",
    "# Round 1\n",
    "qv_circuit_wSU4.U3(3.2465066100946998*np.pi, 2.5284408131911524*np.pi, 4.1734440424380335*np.pi, 0)\n",
    "qv_circuit_wSU4.U3(3.56126038967905*np.pi, 0.5417259593027202*np.pi, 0.5889430256705375*np.pi, 1)\n",
    "qv_circuit_wSU4.U3(3.4457004625001506*np.pi, 2.238803660106308*np.pi, 2.666707582855283*np.pi, 2)\n",
    "qv_circuit_wSU4.U3(3.6550299908952426*np.pi, -0.09542555037191236*np.pi, 2.2959051047685524*np.pi, 3)\n",
    "\n",
    "qv_circuit_wSU4.TK2(0.3747103659393297*np.pi, 0.25045542681642363*np.pi, 0.16594061155215553*np.pi, 0, 2)\n",
    "qv_circuit_wSU4.TK2(0.4049821668324701*np.pi, 0.3201934298378358*np.pi, 0.14725271101077092*np.pi, 1, 3)\n",
    "\n",
    "# Round 2\n",
    "qv_circuit_wSU4.U3(3.9176110504261077*np.pi, 2.9748059513568568*np.pi, 3.5892285844018543*np.pi, 0)\n",
    "qv_circuit_wSU4.U3(3.057201228666834*np.pi, 2.3577755337975868*np.pi, 3.7508467917045114*np.pi, 1)\n",
    "qv_circuit_wSU4.U3(3.5721279036823654*np.pi, 0.05730037730060722*np.pi, 3.2791170965521705*np.pi, 2)\n",
    "qv_circuit_wSU4.U3(3.535724388746909*np.pi, 0.05595930815342476*np.pi, 3.1299299416986477*np.pi, 3)\n",
    "\n",
    "qv_circuit_wSU4.TK2(0.43955814978837976*np.pi, 0.3294379018024353*np.pi, 0.22483582064207827*np.pi, 0, 3)\n",
    "qv_circuit_wSU4.TK2(0.30761522377699807*np.pi, 0.24902805179116916*np.pi, 3.9421010293613925*np.pi, 1, 2)\n",
    "\n",
    "# Round 3\n",
    "qv_circuit_wSU4.U3(3.024862371165571*np.pi, 2.3296051463212555*np.pi, 4.47465538899325*np.pi, 0)\n",
    "qv_circuit_wSU4.U3(3.3793899755344796*np.pi, 1.2958915291565876*np.pi, 0.9370112066521646*np.pi, 1)\n",
    "qv_circuit_wSU4.U3(3.466056716208809*np.pi, 3.4526574409721653*np.pi, 1.2690606129862783*np.pi, 2)\n",
    "qv_circuit_wSU4.U3(3.3138153252630116*np.pi, 2.996929687445126*np.pi, 3.2634131850838957*np.pi, 3)\n",
    "\n",
    "qv_circuit_wSU4.TK2(0.48089722439645044*np.pi, 0.21393048476072266*np.pi, 3.92648010233256*np.pi, 0, 2)\n",
    "qv_circuit_wSU4.TK2(0.33895792181776946*np.pi, 0.2518811716342433*np.pi, 0.13342119970597022*np.pi, 1, 3)\n",
    "\n",
    "# Round 4\n",
    "qv_circuit_wSU4.U3(3.787489505597836*np.pi, -0.2026128585756619*np.pi, 1.1655980797683991*np.pi, 0)\n",
    "qv_circuit_wSU4.U3(1.0261490063596848*np.pi, 0.16193977105724777*np.pi, 1.6325026187234268*np.pi, 1)\n",
    "qv_circuit_wSU4.U3(3.330882266512557*np.pi, 2.2076389369717675*np.pi, 0.752751605442116*np.pi, 2)\n",
    "qv_circuit_wSU4.U3(2.5144296195023776*np.pi, 0.04059434060036249*np.pi, 4.306225020434145*np.pi, 3)\n",
    "\n",
    "qv_circuit_wSU4.measure_all()"
   ]
  },
  {
   "attachments": {},
   "cell_type": "markdown",
   "id": "afb64b66",
   "metadata": {},
   "source": [
    "#### Specify the native two-qubit gate target when initializing `QuantinuumBackend`\n",
    "\n",
    "In pytket, to compile to a specific native two-qubit gate, the gate must be specified as the desired target two-qubit gate for TKET to optimize to. This is done using `QuantinuumBackendCompilationConfig` and specifying the desired two-qubit compilation gate as `OpType.TK2`. Note the target gate could also be swapped out for $Rzz$ or $ZZ()$, which are `OpType.ZZPhase` or `OpType.ZZ` in TKET."
   ]
  },
  {
   "cell_type": "code",
   "execution_count": 2,
   "id": "b8243f95",
   "metadata": {},
   "outputs": [
    {
     "data": {
      "text/plain": [
       "<OpType.TK2: 41>"
      ]
     },
     "execution_count": 2,
     "metadata": {},
     "output_type": "execute_result"
    }
   ],
   "source": [
    "compilation_config = QuantinuumBackendCompilationConfig(allow_implicit_swaps=True, target_2qb_gate=OpType.TK2)\n",
    "compilation_config.target_2qb_gate"
   ]
  },
  {
   "cell_type": "markdown",
   "id": "b89719cf",
   "metadata": {},
   "source": [
    "Now, `QuantinuumBackend` is initialized using the compilation configuration."
   ]
  },
  {
   "cell_type": "code",
   "execution_count": 3,
   "id": "3c729a6f",
   "metadata": {},
   "outputs": [],
   "source": [
    "quantinuum_backend = QuantinuumBackend(device_name=\"H1-1E\", compilation_config=compilation_config)\n",
    "quantinuum_backend.login()"
   ]
  },
  {
   "cell_type": "markdown",
   "id": "406fc12a",
   "metadata": {},
   "source": [
    "#### Compile the circuit\n",
    "\n",
    "Now we compile the circuit and see that TKET compilation has preserved the use of the desired target two-qubit gate."
   ]
  },
  {
   "cell_type": "code",
   "execution_count": 6,
   "id": "71f05c7e",
   "metadata": {},
   "outputs": [
    {
     "name": "stdout",
     "output_type": "stream",
     "text": [
      "Number of TK2 (Rxxyyzz) Gates: 18\n"
     ]
    },
    {
     "data": {
      "text/html": [
       "\n",
       "\n",
       "\n",
       "\n",
       "\n",
       "\n",
       "<div style=\"resize: vertical; overflow: auto; height: 400px; display: block\">\n",
       "    <iframe srcdoc=\"\n",
       "&lt;!DOCTYPE html&gt;\n",
       "&lt;html lang=&#34;en&#34;&gt;\n",
       "&lt;head&gt;\n",
       "    &lt;meta charset=&#34;UTF-8&#34;&gt;\n",
       "    &lt;!-- Download Vue 3--&gt;\n",
       "&lt;script type=&#34;application/javascript&#34; src=&#34;https://cdn.jsdelivr.net/npm/vue@3&#34;&gt;&lt;/script&gt;\n",
       "&lt;!-- Download Circuit Renderer with styles --&gt;\n",
       "&lt;script type=&#34;application/javascript&#34; src=&#34;https://unpkg.com/pytket-circuit-renderer@0.7/dist/pytket-circuit-renderer.umd.js&#34;&gt;&lt;/script&gt;\n",
       "&lt;link rel=&#34;stylesheet&#34; href=&#34;https://unpkg.com/pytket-circuit-renderer@0.7/dist/pytket-circuit-renderer.css&#34;&gt;\n",
       "&lt;/head&gt;\n",
       "&lt;body&gt;\n",
       "\n",
       "\n",
       "\n",
       "    &lt;div id=&#34;circuit-display-vue-container-9e8f6b70-30f7-4ad9-8a57-6d307f0356a9&#34; class=&#34;pytket-circuit-display-container&#34;&gt;\n",
       "        &lt;div style=&#34;display: none&#34;&gt;\n",
       "            &lt;div id=&#34;circuit-json-to-display&#34;&gt;{&#34;bits&#34;: [[&#34;c&#34;, [0]], [&#34;c&#34;, [1]], [&#34;c&#34;, [2]], [&#34;c&#34;, [3]]], &#34;commands&#34;: [{&#34;args&#34;: [[&#34;q&#34;, [0]]], &#34;op&#34;: {&#34;params&#34;: [&#34;0.800798683895789&#34;, &#34;0.388738856108587&#34;], &#34;type&#34;: &#34;PhasedX&#34;}}, {&#34;args&#34;: [[&#34;q&#34;, [1]]], &#34;op&#34;: {&#34;params&#34;: [&#34;0.811970522263972&#34;, &#34;-0.350219082829505&#34;], &#34;type&#34;: &#34;PhasedX&#34;}}, {&#34;args&#34;: [[&#34;q&#34;, [2]]], &#34;op&#34;: {&#34;params&#34;: [&#34;0.824987259461425&#34;, &#34;0.122291048429648&#34;], &#34;type&#34;: &#34;PhasedX&#34;}}, {&#34;args&#34;: [[&#34;q&#34;, [3]]], &#34;op&#34;: {&#34;params&#34;: [&#34;0.517384631953137&#34;, &#34;-1.71279861048019&#34;], &#34;type&#34;: &#34;PhasedX&#34;}}, {&#34;args&#34;: [[&#34;q&#34;, [0]], [&#34;q&#34;, [2]]], &#34;op&#34;: {&#34;params&#34;: [&#34;0&#34;, &#34;0&#34;, &#34;0.478682193815551&#34;], &#34;type&#34;: &#34;TK2&#34;}}, {&#34;args&#34;: [[&#34;q&#34;, [1]], [&#34;q&#34;, [3]]], &#34;op&#34;: {&#34;params&#34;: [&#34;0&#34;, &#34;0&#34;, &#34;0.462608035132619&#34;], &#34;type&#34;: &#34;TK2&#34;}}, {&#34;args&#34;: [[&#34;q&#34;, [0]]], &#34;op&#34;: {&#34;params&#34;: [&#34;0.5&#34;, &#34;-0.167930060133485&#34;], &#34;type&#34;: &#34;PhasedX&#34;}}, {&#34;args&#34;: [[&#34;q&#34;, [1]]], &#34;op&#34;: {&#34;params&#34;: [&#34;0.5&#34;, &#34;-0.0521013768338128&#34;], &#34;type&#34;: &#34;PhasedX&#34;}}, {&#34;args&#34;: [[&#34;q&#34;, [2]]], &#34;op&#34;: {&#34;params&#34;: [&#34;0.5&#34;, &#34;0.58888191700973&#34;], &#34;type&#34;: &#34;PhasedX&#34;}}, {&#34;args&#34;: [[&#34;q&#34;, [3]]], &#34;op&#34;: {&#34;params&#34;: [&#34;0.5&#34;, &#34;-1.41301040246703&#34;], &#34;type&#34;: &#34;PhasedX&#34;}}, {&#34;args&#34;: [[&#34;q&#34;, [0]], [&#34;q&#34;, [2]]], &#34;op&#34;: {&#34;params&#34;: [&#34;0&#34;, &#34;0&#34;, &#34;0.213171071061827&#34;], &#34;type&#34;: &#34;TK2&#34;}}, {&#34;args&#34;: [[&#34;q&#34;, [1]], [&#34;q&#34;, [3]]], &#34;op&#34;: {&#34;params&#34;: [&#34;0&#34;, &#34;0&#34;, &#34;0.272289000155764&#34;], &#34;type&#34;: &#34;TK2&#34;}}, {&#34;args&#34;: [[&#34;q&#34;, [0]]], &#34;op&#34;: {&#34;params&#34;: [&#34;1/2&#34;, &#34;-0.667930060133485&#34;], &#34;type&#34;: &#34;PhasedX&#34;}}, {&#34;args&#34;: [[&#34;q&#34;, [1]]], &#34;op&#34;: {&#34;params&#34;: [&#34;1/2&#34;, &#34;-0.552101376833813&#34;], &#34;type&#34;: &#34;PhasedX&#34;}}, {&#34;args&#34;: [[&#34;q&#34;, [2]]], &#34;op&#34;: {&#34;params&#34;: [&#34;1/2&#34;, &#34;0.0888819170097301&#34;], &#34;type&#34;: &#34;PhasedX&#34;}}, {&#34;args&#34;: [[&#34;q&#34;, [3]]], &#34;op&#34;: {&#34;params&#34;: [&#34;1/2&#34;, &#34;-1.91301040246703&#34;], &#34;type&#34;: &#34;PhasedX&#34;}}, {&#34;args&#34;: [[&#34;q&#34;, [0]], [&#34;q&#34;, [2]]], &#34;op&#34;: {&#34;params&#34;: [&#34;0&#34;, &#34;0&#34;, &#34;0.177187332858941&#34;], &#34;type&#34;: &#34;TK2&#34;}}, {&#34;args&#34;: [[&#34;q&#34;, [1]], [&#34;q&#34;, [3]]], &#34;op&#34;: {&#34;params&#34;: [&#34;0&#34;, &#34;0&#34;, &#34;0.00591732690626436&#34;], &#34;type&#34;: &#34;TK2&#34;}}, {&#34;args&#34;: [[&#34;q&#34;, [0]]], &#34;op&#34;: {&#34;params&#34;: [&#34;0.667693377498066&#34;, &#34;0.478402528722079&#34;], &#34;type&#34;: &#34;PhasedX&#34;}}, {&#34;args&#34;: [[&#34;q&#34;, [1]]], &#34;op&#34;: {&#34;params&#34;: [&#34;0.297140067357131&#34;, &#34;1.31652281395225&#34;], &#34;type&#34;: &#34;PhasedX&#34;}}, {&#34;args&#34;: [[&#34;q&#34;, [2]]], &#34;op&#34;: {&#34;params&#34;: [&#34;0.377626278921249&#34;, &#34;0.398540152088079&#34;], &#34;type&#34;: &#34;PhasedX&#34;}}, {&#34;args&#34;: [[&#34;q&#34;, [3]]], &#34;op&#34;: {&#34;params&#34;: [&#34;0.827264643904582&#34;, &#34;-3.09750975368872&#34;], &#34;type&#34;: &#34;PhasedX&#34;}}, {&#34;args&#34;: [[&#34;q&#34;, [0]], [&#34;q&#34;, [3]]], &#34;op&#34;: {&#34;params&#34;: [&#34;0&#34;, &#34;0&#34;, &#34;0.380912654200696&#34;], &#34;type&#34;: &#34;TK2&#34;}}, {&#34;args&#34;: [[&#34;q&#34;, [1]], [&#34;q&#34;, [2]]], &#34;op&#34;: {&#34;params&#34;: [&#34;0&#34;, &#34;0&#34;, &#34;0.38447563355051&#34;], &#34;type&#34;: &#34;TK2&#34;}}, {&#34;args&#34;: [[&#34;q&#34;, [0]]], &#34;op&#34;: {&#34;params&#34;: [&#34;0.5&#34;, &#34;-0.232878827109345&#34;], &#34;type&#34;: &#34;PhasedX&#34;}}, {&#34;args&#34;: [[&#34;q&#34;, [1]]], &#34;op&#34;: {&#34;params&#34;: [&#34;0.5&#34;, &#34;-0.00951511705888652&#34;], &#34;type&#34;: &#34;PhasedX&#34;}}, {&#34;args&#34;: [[&#34;q&#34;, [2]]], &#34;op&#34;: {&#34;params&#34;: [&#34;0.5&#34;, &#34;-0.94167928350932&#34;], &#34;type&#34;: &#34;PhasedX&#34;}}, {&#34;args&#34;: [[&#34;q&#34;, [3]]], &#34;op&#34;: {&#34;params&#34;: [&#34;0.5&#34;, &#34;-2.70197422333599&#34;], &#34;type&#34;: &#34;PhasedX&#34;}}, {&#34;args&#34;: [[&#34;q&#34;, [0]], [&#34;q&#34;, [3]]], &#34;op&#34;: {&#34;params&#34;: [&#34;0&#34;, &#34;0&#34;, &#34;0.293657437607015&#34;], &#34;type&#34;: &#34;TK2&#34;}}, {&#34;args&#34;: [[&#34;q&#34;, [1]], [&#34;q&#34;, [2]]], &#34;op&#34;: {&#34;params&#34;: [&#34;0&#34;, &#34;0&#34;, &#34;0.217655301955085&#34;], &#34;type&#34;: &#34;TK2&#34;}}, {&#34;args&#34;: [[&#34;q&#34;, [0]]], &#34;op&#34;: {&#34;params&#34;: [&#34;1/2&#34;, &#34;-0.732878827109345&#34;], &#34;type&#34;: &#34;PhasedX&#34;}}, {&#34;args&#34;: [[&#34;q&#34;, [1]]], &#34;op&#34;: {&#34;params&#34;: [&#34;1/2&#34;, &#34;-0.509515117058887&#34;], &#34;type&#34;: &#34;PhasedX&#34;}}, {&#34;args&#34;: [[&#34;q&#34;, [2]]], &#34;op&#34;: {&#34;params&#34;: [&#34;1/2&#34;, &#34;-1.44167928350932&#34;], &#34;type&#34;: &#34;PhasedX&#34;}}, {&#34;args&#34;: [[&#34;q&#34;, [3]]], &#34;op&#34;: {&#34;params&#34;: [&#34;1/2&#34;, &#34;-3.20197422333599&#34;], &#34;type&#34;: &#34;PhasedX&#34;}}, {&#34;args&#34;: [[&#34;q&#34;, [0]], [&#34;q&#34;, [3]]], &#34;op&#34;: {&#34;params&#34;: [&#34;0&#34;, &#34;0&#34;, &#34;-0.0349596921165665&#34;], &#34;type&#34;: &#34;TK2&#34;}}, {&#34;args&#34;: [[&#34;q&#34;, [1]], [&#34;q&#34;, [2]]], &#34;op&#34;: {&#34;params&#34;: [&#34;0&#34;, &#34;0&#34;, &#34;0.0335982728498025&#34;], &#34;type&#34;: &#34;TK2&#34;}}, {&#34;args&#34;: [[&#34;q&#34;, [0]]], &#34;op&#34;: {&#34;params&#34;: [&#34;0.188774513314018&#34;, &#34;-1.64839931815597&#34;], &#34;type&#34;: &#34;PhasedX&#34;}}, {&#34;args&#34;: [[&#34;q&#34;, [1]]], &#34;op&#34;: {&#34;params&#34;: [&#34;0.871017467905913&#34;, &#34;1.12727552531647&#34;], &#34;type&#34;: &#34;PhasedX&#34;}}, {&#34;args&#34;: [[&#34;q&#34;, [2]]], &#34;op&#34;: {&#34;params&#34;: [&#34;0.175740920278594&#34;, &#34;-1.63777713326043&#34;], &#34;type&#34;: &#34;PhasedX&#34;}}, {&#34;args&#34;: [[&#34;q&#34;, [3]]], &#34;op&#34;: {&#34;params&#34;: [&#34;0.260081864632104&#34;, &#34;-3.82601758480228&#34;], &#34;type&#34;: &#34;PhasedX&#34;}}, {&#34;args&#34;: [[&#34;q&#34;, [0]], [&#34;q&#34;, [2]]], &#34;op&#34;: {&#34;params&#34;: [&#34;0&#34;, &#34;0&#34;, &#34;0.489216812704389&#34;], &#34;type&#34;: &#34;TK2&#34;}}, {&#34;args&#34;: [[&#34;q&#34;, [1]], [&#34;q&#34;, [3]]], &#34;op&#34;: {&#34;params&#34;: [&#34;0&#34;, &#34;0&#34;, &#34;0.419155060829413&#34;], &#34;type&#34;: &#34;TK2&#34;}}, {&#34;args&#34;: [[&#34;q&#34;, [0]]], &#34;op&#34;: {&#34;params&#34;: [&#34;0.5&#34;, &#34;-3.25265017741821&#34;], &#34;type&#34;: &#34;PhasedX&#34;}}, {&#34;args&#34;: [[&#34;q&#34;, [1]]], &#34;op&#34;: {&#34;params&#34;: [&#34;0.5&#34;, &#34;0.845689010171994&#34;], &#34;type&#34;: &#34;PhasedX&#34;}}, {&#34;args&#34;: [[&#34;q&#34;, [2]]], &#34;op&#34;: {&#34;params&#34;: [&#34;0.5&#34;, &#34;-2.91201030317501&#34;], &#34;type&#34;: &#34;PhasedX&#34;}}, {&#34;args&#34;: [[&#34;q&#34;, [3]]], &#34;op&#34;: {&#34;params&#34;: [&#34;0.5&#34;, &#34;-4.32366984086709&#34;], &#34;type&#34;: &#34;PhasedX&#34;}}, {&#34;args&#34;: [[&#34;q&#34;, [0]], [&#34;q&#34;, [2]]], &#34;op&#34;: {&#34;params&#34;: [&#34;0&#34;, &#34;0&#34;, &#34;0.335401043954469&#34;], &#34;type&#34;: &#34;TK2&#34;}}, {&#34;args&#34;: [[&#34;q&#34;, [1]], [&#34;q&#34;, [3]]], &#34;op&#34;: {&#34;params&#34;: [&#34;0&#34;, &#34;0&#34;, &#34;0.208691961616272&#34;], &#34;type&#34;: &#34;TK2&#34;}}, {&#34;args&#34;: [[&#34;q&#34;, [0]]], &#34;op&#34;: {&#34;params&#34;: [&#34;1/2&#34;, &#34;-3.75265017741821&#34;], &#34;type&#34;: &#34;PhasedX&#34;}}, {&#34;args&#34;: [[&#34;q&#34;, [1]]], &#34;op&#34;: {&#34;params&#34;: [&#34;1/2&#34;, &#34;0.345689010171994&#34;], &#34;type&#34;: &#34;PhasedX&#34;}}, {&#34;args&#34;: [[&#34;q&#34;, [2]]], &#34;op&#34;: {&#34;params&#34;: [&#34;1/2&#34;, &#34;-3.41201030317501&#34;], &#34;type&#34;: &#34;PhasedX&#34;}}, {&#34;args&#34;: [[&#34;q&#34;, [3]]], &#34;op&#34;: {&#34;params&#34;: [&#34;1/2&#34;, &#34;-4.82366984086709&#34;], &#34;type&#34;: &#34;PhasedX&#34;}}, {&#34;args&#34;: [[&#34;q&#34;, [0]], [&#34;q&#34;, [2]]], &#34;op&#34;: {&#34;params&#34;: [&#34;0&#34;, &#34;0&#34;, &#34;0.327917560696811&#34;], &#34;type&#34;: &#34;TK2&#34;}}, {&#34;args&#34;: [[&#34;q&#34;, [1]], [&#34;q&#34;, [3]]], &#34;op&#34;: {&#34;params&#34;: [&#34;0&#34;, &#34;0&#34;, &#34;-0.0648677170587675&#34;], &#34;type&#34;: &#34;TK2&#34;}}, {&#34;args&#34;: [[&#34;q&#34;, [0]]], &#34;op&#34;: {&#34;params&#34;: [&#34;-0.411920026773389&#34;, &#34;-4.70205956511402&#34;], &#34;type&#34;: &#34;PhasedX&#34;}}, {&#34;args&#34;: [[&#34;q&#34;, [1]]], &#34;op&#34;: {&#34;params&#34;: [&#34;-0.297409961780661&#34;, &#34;-1.25669221366371&#34;], &#34;type&#34;: &#34;PhasedX&#34;}}, {&#34;args&#34;: [[&#34;q&#34;, [2]]], &#34;op&#34;: {&#34;params&#34;: [&#34;-0.86047555129933&#34;, &#34;-3.99701206534593&#34;], &#34;type&#34;: &#34;PhasedX&#34;}}, {&#34;args&#34;: [[&#34;q&#34;, [3]]], &#34;op&#34;: {&#34;params&#34;: [&#34;-0.491174766286514&#34;, &#34;-5.42398164435771&#34;], &#34;type&#34;: &#34;PhasedX&#34;}}, {&#34;args&#34;: [[&#34;q&#34;, [0]], [&#34;c&#34;, [0]]], &#34;op&#34;: {&#34;type&#34;: &#34;Measure&#34;}}, {&#34;args&#34;: [[&#34;q&#34;, [1]], [&#34;c&#34;, [1]]], &#34;op&#34;: {&#34;type&#34;: &#34;Measure&#34;}}, {&#34;args&#34;: [[&#34;q&#34;, [2]], [&#34;c&#34;, [2]]], &#34;op&#34;: {&#34;type&#34;: &#34;Measure&#34;}}, {&#34;args&#34;: [[&#34;q&#34;, [3]], [&#34;c&#34;, [3]]], &#34;op&#34;: {&#34;type&#34;: &#34;Measure&#34;}}], &#34;created_qubits&#34;: [], &#34;discarded_qubits&#34;: [], &#34;implicit_permutation&#34;: [[[&#34;q&#34;, [0]], [&#34;q&#34;, [0]]], [[&#34;q&#34;, [1]], [&#34;q&#34;, [1]]], [[&#34;q&#34;, [2]], [&#34;q&#34;, [2]]], [[&#34;q&#34;, [3]], [&#34;q&#34;, [3]]]], &#34;name&#34;: &#34;QV Example with SU(4)&#34;, &#34;phase&#34;: &#34;1.37240881026239&#34;, &#34;qubits&#34;: [[&#34;q&#34;, [0]], [&#34;q&#34;, [1]], [&#34;q&#34;, [2]], [&#34;q&#34;, [3]]]}&lt;/div&gt;\n",
       "        &lt;/div&gt;\n",
       "        &lt;circuit-display-container\n",
       "                :circuit-element-str=&#34;&#39;#circuit-json-to-display&#39;&#34;\n",
       "                :init-render-options=&#34;initRenderOptions&#34;\n",
       "        &gt;&lt;/circuit-display-container&gt;\n",
       "    &lt;/div&gt;\n",
       "    &lt;script type=&#34;application/javascript&#34;&gt;\n",
       "      const circuitRendererUid = &#34;9e8f6b70-30f7-4ad9-8a57-6d307f0356a9&#34;;\n",
       "      const displayOptions = JSON.parse(&#39;{}&#39;);\n",
       "\n",
       "      // Script to initialise the circuit renderer app\n",
       "\n",
       "const { createApp } = Vue;\n",
       "const circuitDisplayContainer = window[&#34;pytket-circuit-renderer&#34;].default;\n",
       "// Init variables to be shared between circuit display instances\n",
       "if (typeof window.pytketCircuitDisplays === &#34;undefined&#34;) {\n",
       "    window.pytketCircuitDisplays = {};\n",
       "}\n",
       "// Create the root Vue component\n",
       "const app = createApp({\n",
       "    delimiters: [&#39;[[#&#39;, &#39;#]]&#39;],\n",
       "    components: { circuitDisplayContainer },\n",
       "    data () {\n",
       "      return {\n",
       "        initRenderOptions: displayOptions,\n",
       "      }\n",
       "    }\n",
       "})\n",
       "app.config.unwrapInjectedRef = true;\n",
       "app.mount(&#34;#circuit-display-vue-container-&#34;+circuitRendererUid);\n",
       "window.pytketCircuitDisplays[circuitRendererUid] = app;\n",
       "    &lt;/script&gt;\n",
       "\n",
       "\n",
       "\n",
       "&lt;/body&gt;\n",
       "&lt;/html&gt;\n",
       "\"\n",
       "            width=\"100%\" height=\"100%\"\n",
       "            style=\"border: none; outline: none; overflow: auto\"></iframe>\n",
       "</div>\n",
       "\n"
      ],
      "text/plain": [
       "<IPython.core.display.HTML object>"
      ]
     },
     "metadata": {},
     "output_type": "display_data"
    }
   ],
   "source": [
    "compiled_circuit_wsu4 = quantinuum_backend.get_compiled_circuit(qv_circuit_wSU4, optimisation_level=2)\n",
    "print(f\"Number of TK2 (Rxxyyzz) Gates: {compiled_circuit_wsu4.n_2qb_gates()}\")\n",
    "render_circuit_jupyter(compiled_circuit_wsu4)"
   ]
  },
  {
   "cell_type": "markdown",
   "id": "fbbdccd2",
   "metadata": {},
   "source": [
    "#### Set up options for the Hardware Compiler and Run\n",
    "\n",
    "To ensure the desired options are passed onto the H-Series compiler, an `options` dict is set up that will be passed through when checking the circuit cost and when submitting the quantum circuit.\n",
    "\n",
    "Because the desired TKET optimizations have already been performed with the `get_compiled_circuit` function, further TKET optimizations are turned off with `no-opt` set to `True`. The desired native two-qubit gate for the hardware compiler to use is specified using the `nativetq` option. "
   ]
  },
  {
   "cell_type": "code",
   "execution_count": 10,
   "id": "1a139d61",
   "metadata": {},
   "outputs": [],
   "source": [
    "su4_options={\"no-opt\": True,\n",
    "             \"nativetq\": 'Rxxyyzz' }"
   ]
  },
  {
   "cell_type": "markdown",
   "id": "6f38ef5e",
   "metadata": {},
   "source": [
    "Check the cost in HQCs of running the circuit."
   ]
  },
  {
   "cell_type": "code",
   "execution_count": 11,
   "id": "2329d233",
   "metadata": {},
   "outputs": [
    {
     "name": "stdout",
     "output_type": "stream",
     "text": [
      "7.32\n"
     ]
    }
   ],
   "source": [
    "cost = quantinuum_backend.cost(compiled_circuit_wsu4, n_shots=100, syntax_checker=\"H1-1SC\",\n",
    "                               options=su4_options)\n",
    "print(cost)"
   ]
  },
  {
   "cell_type": "markdown",
   "id": "b25672a2",
   "metadata": {},
   "source": [
    "Submit the circuit with the desired options for the hardware compiler."
   ]
  },
  {
   "cell_type": "code",
   "execution_count": 12,
   "id": "098b750a",
   "metadata": {},
   "outputs": [],
   "source": [
    "handle = quantinuum_backend.process_circuit(compiled_circuit_wsu4, n_shots=100, \n",
    "                                            options=su4_options)"
   ]
  },
  {
   "cell_type": "code",
   "execution_count": 13,
   "id": "5c9d2f1f",
   "metadata": {},
   "outputs": [
    {
     "name": "stdout",
     "output_type": "stream",
     "text": [
      "{(0, 0, 0, 0): 0.15, (0, 0, 0, 1): 0.04, (0, 0, 1, 0): 0.01, (0, 1, 0, 0): 0.07, (0, 1, 0, 1): 0.26, (1, 0, 0, 0): 0.03, (1, 0, 1, 0): 0.01, (1, 1, 0, 0): 0.04, (1, 1, 0, 1): 0.15, (1, 1, 1, 0): 0.02, (1, 1, 1, 1): 0.22}\n"
     ]
    }
   ],
   "source": [
    "result = quantinuum_backend.get_result(handle)\n",
    "print(result.get_distribution())"
   ]
  },
  {
   "cell_type": "markdown",
   "id": "0e911432",
   "metadata": {},
   "source": [
    "Additionally, the ability to turn off all hardware compiler optimizations is also provided via the `noreduce` option, as described above."
   ]
  },
  {
   "cell_type": "code",
   "execution_count": 14,
   "id": "9dd50245",
   "metadata": {},
   "outputs": [
    {
     "name": "stdout",
     "output_type": "stream",
     "text": [
      "7.32\n"
     ]
    }
   ],
   "source": [
    "su4_noreduce_options={\"noreduce\": True,\n",
    "                      \"nativetq\": 'Rxxyyzz' }\n",
    "\n",
    "cost = quantinuum_backend.cost(compiled_circuit_wsu4, n_shots=100, syntax_checker=\"H1-1SC\",\n",
    "                               options=su4_noreduce_options)\n",
    "print(cost)\n",
    "\n",
    "handle = quantinuum_backend.process_circuit(compiled_circuit_wsu4, n_shots=100, \n",
    "                                            options=su4_noreduce_options)"
   ]
  },
  {
   "cell_type": "code",
   "execution_count": 15,
   "id": "eb509c74",
   "metadata": {},
   "outputs": [
    {
     "name": "stdout",
     "output_type": "stream",
     "text": [
      "{(0, 0, 0, 0): 0.09, (0, 0, 0, 1): 0.04, (0, 0, 1, 0): 0.04, (0, 1, 0, 0): 0.06, (0, 1, 0, 1): 0.25, (0, 1, 1, 1): 0.03, (1, 0, 0, 0): 0.03, (1, 0, 0, 1): 0.04, (1, 1, 0, 0): 0.06, (1, 1, 0, 1): 0.11, (1, 1, 1, 1): 0.25}\n"
     ]
    }
   ],
   "source": [
    "result = quantinuum_backend.get_result(handle)\n",
    "print(result.get_distribution())"
   ]
  },
  {
   "cell_type": "markdown",
   "id": "2e1ec1e1",
   "metadata": {},
   "source": [
    "#### Compare Results without using the General $SU(4)$ Entangler\n",
    "\n",
    "Now we compare the results for a Quantum Volume circuit that does not use the the General $SU(4)$ Entangler and targets compilation using the $ZZ()$ gate instead.\n",
    "\n",
    "To target `QuantinuumBackend` to a different gate, the `set_compilation_config_target_2qb_gate` can be used."
   ]
  },
  {
   "cell_type": "code",
   "execution_count": 17,
   "id": "af166650",
   "metadata": {},
   "outputs": [
    {
     "data": {
      "text/plain": [
       "<OpType.ZZPhase: 73>"
      ]
     },
     "execution_count": 17,
     "metadata": {},
     "output_type": "execute_result"
    }
   ],
   "source": [
    "quantinuum_backend.set_compilation_config_target_2qb_gate(OpType.ZZPhase)\n",
    "compilation_config.target_2qb_gate"
   ]
  },
  {
   "cell_type": "markdown",
   "id": "7c46fa79",
   "metadata": {},
   "source": [
    "The quantum volume circuit is set up."
   ]
  },
  {
   "cell_type": "code",
   "execution_count": 19,
   "id": "acad9e53",
   "metadata": {},
   "outputs": [
    {
     "name": "stdout",
     "output_type": "stream",
     "text": [
      "Number of ZZPhase Gates: 18\n"
     ]
    },
    {
     "data": {
      "text/html": [
       "\n",
       "\n",
       "\n",
       "\n",
       "\n",
       "\n",
       "<div style=\"resize: vertical; overflow: auto; height: 400px; display: block\">\n",
       "    <iframe srcdoc=\"\n",
       "&lt;!DOCTYPE html&gt;\n",
       "&lt;html lang=&#34;en&#34;&gt;\n",
       "&lt;head&gt;\n",
       "    &lt;meta charset=&#34;UTF-8&#34;&gt;\n",
       "    &lt;!-- Download Vue 3--&gt;\n",
       "&lt;script type=&#34;application/javascript&#34; src=&#34;https://cdn.jsdelivr.net/npm/vue@3&#34;&gt;&lt;/script&gt;\n",
       "&lt;!-- Download Circuit Renderer with styles --&gt;\n",
       "&lt;script type=&#34;application/javascript&#34; src=&#34;https://unpkg.com/pytket-circuit-renderer@0.7/dist/pytket-circuit-renderer.umd.js&#34;&gt;&lt;/script&gt;\n",
       "&lt;link rel=&#34;stylesheet&#34; href=&#34;https://unpkg.com/pytket-circuit-renderer@0.7/dist/pytket-circuit-renderer.css&#34;&gt;\n",
       "&lt;/head&gt;\n",
       "&lt;body&gt;\n",
       "\n",
       "\n",
       "\n",
       "    &lt;div id=&#34;circuit-display-vue-container-81e4125e-7a45-4c27-bc75-1545e287a769&#34; class=&#34;pytket-circuit-display-container&#34;&gt;\n",
       "        &lt;div style=&#34;display: none&#34;&gt;\n",
       "            &lt;div id=&#34;circuit-json-to-display&#34;&gt;{&#34;bits&#34;: [[&#34;c&#34;, [0]], [&#34;c&#34;, [1]], [&#34;c&#34;, [2]], [&#34;c&#34;, [3]]], &#34;commands&#34;: [{&#34;args&#34;: [[&#34;q&#34;, [0]]], &#34;op&#34;: {&#34;params&#34;: [&#34;0.709075408535802&#34;, &#34;1.49206753970449&#34;], &#34;type&#34;: &#34;PhasedX&#34;}}, {&#34;args&#34;: [[&#34;q&#34;, [1]]], &#34;op&#34;: {&#34;params&#34;: [&#34;0.48134038116306&#34;, &#34;-2.20047218152237&#34;], &#34;type&#34;: &#34;PhasedX&#34;}}, {&#34;args&#34;: [[&#34;q&#34;, [2]]], &#34;op&#34;: {&#34;params&#34;: [&#34;0.0811314322300527&#34;, &#34;0.554744930316644&#34;], &#34;type&#34;: &#34;PhasedX&#34;}}, {&#34;args&#34;: [[&#34;q&#34;, [3]]], &#34;op&#34;: {&#34;params&#34;: [&#34;0.353225528347652&#34;, &#34;0.274797733748337&#34;], &#34;type&#34;: &#34;PhasedX&#34;}}, {&#34;args&#34;: [[&#34;q&#34;, [0]], [&#34;q&#34;, [2]]], &#34;op&#34;: {&#34;params&#34;: [&#34;0.469693197280468&#34;], &#34;type&#34;: &#34;ZZPhase&#34;}}, {&#34;args&#34;: [[&#34;q&#34;, [1]], [&#34;q&#34;, [3]]], &#34;op&#34;: {&#34;params&#34;: [&#34;0.470410228404639&#34;], &#34;type&#34;: &#34;ZZPhase&#34;}}, {&#34;args&#34;: [[&#34;q&#34;, [0]]], &#34;op&#34;: {&#34;params&#34;: [&#34;0.5&#34;, &#34;1.89386758671055&#34;], &#34;type&#34;: &#34;PhasedX&#34;}}, {&#34;args&#34;: [[&#34;q&#34;, [1]]], &#34;op&#34;: {&#34;params&#34;: [&#34;0.5&#34;, &#34;-2.38328967396676&#34;], &#34;type&#34;: &#34;PhasedX&#34;}}, {&#34;args&#34;: [[&#34;q&#34;, [2]]], &#34;op&#34;: {&#34;params&#34;: [&#34;0.5&#34;, &#34;1.33030528915834&#34;], &#34;type&#34;: &#34;PhasedX&#34;}}, {&#34;args&#34;: [[&#34;q&#34;, [3]]], &#34;op&#34;: {&#34;params&#34;: [&#34;0.5&#34;, &#34;-0.738782568015713&#34;], &#34;type&#34;: &#34;PhasedX&#34;}}, {&#34;args&#34;: [[&#34;q&#34;, [0]], [&#34;q&#34;, [2]]], &#34;op&#34;: {&#34;params&#34;: [&#34;0.0707316992677782&#34;], &#34;type&#34;: &#34;ZZPhase&#34;}}, {&#34;args&#34;: [[&#34;q&#34;, [1]], [&#34;q&#34;, [3]]], &#34;op&#34;: {&#34;params&#34;: [&#34;0.14499720907893&#34;], &#34;type&#34;: &#34;ZZPhase&#34;}}, {&#34;args&#34;: [[&#34;q&#34;, [0]]], &#34;op&#34;: {&#34;params&#34;: [&#34;1/2&#34;, &#34;1.39386758671055&#34;], &#34;type&#34;: &#34;PhasedX&#34;}}, {&#34;args&#34;: [[&#34;q&#34;, [1]]], &#34;op&#34;: {&#34;params&#34;: [&#34;1/2&#34;, &#34;-2.88328967396676&#34;], &#34;type&#34;: &#34;PhasedX&#34;}}, {&#34;args&#34;: [[&#34;q&#34;, [2]]], &#34;op&#34;: {&#34;params&#34;: [&#34;1/2&#34;, &#34;0.830305289158338&#34;], &#34;type&#34;: &#34;PhasedX&#34;}}, {&#34;args&#34;: [[&#34;q&#34;, [3]]], &#34;op&#34;: {&#34;params&#34;: [&#34;1/2&#34;, &#34;-1.23878256801571&#34;], &#34;type&#34;: &#34;PhasedX&#34;}}, {&#34;args&#34;: [[&#34;q&#34;, [0]], [&#34;q&#34;, [2]]], &#34;op&#34;: {&#34;params&#34;: [&#34;-0.0037484238983807&#34;], &#34;type&#34;: &#34;ZZPhase&#34;}}, {&#34;args&#34;: [[&#34;q&#34;, [1]], [&#34;q&#34;, [3]]], &#34;op&#34;: {&#34;params&#34;: [&#34;0.00291500606267424&#34;], &#34;type&#34;: &#34;ZZPhase&#34;}}, {&#34;args&#34;: [[&#34;q&#34;, [0]]], &#34;op&#34;: {&#34;params&#34;: [&#34;0.377025307310455&#34;, &#34;-1.42454928630774&#34;], &#34;type&#34;: &#34;PhasedX&#34;}}, {&#34;args&#34;: [[&#34;q&#34;, [1]]], &#34;op&#34;: {&#34;params&#34;: [&#34;0.574524515377428&#34;, &#34;-3.0242709905448&#34;], &#34;type&#34;: &#34;PhasedX&#34;}}, {&#34;args&#34;: [[&#34;q&#34;, [2]]], &#34;op&#34;: {&#34;params&#34;: [&#34;0.52777458668532&#34;, &#34;0.84558582432076&#34;], &#34;type&#34;: &#34;PhasedX&#34;}}, {&#34;args&#34;: [[&#34;q&#34;, [3]]], &#34;op&#34;: {&#34;params&#34;: [&#34;0.245600151965232&#34;, &#34;-1.07666279929623&#34;], &#34;type&#34;: &#34;PhasedX&#34;}}, {&#34;args&#34;: [[&#34;q&#34;, [0]], [&#34;q&#34;, [3]]], &#34;op&#34;: {&#34;params&#34;: [&#34;0.444938988633829&#34;], &#34;type&#34;: &#34;ZZPhase&#34;}}, {&#34;args&#34;: [[&#34;q&#34;, [1]], [&#34;q&#34;, [2]]], &#34;op&#34;: {&#34;params&#34;: [&#34;0.454383815007932&#34;], &#34;type&#34;: &#34;ZZPhase&#34;}}, {&#34;args&#34;: [[&#34;q&#34;, [0]]], &#34;op&#34;: {&#34;params&#34;: [&#34;0.5&#34;, &#34;-0.949083106431293&#34;], &#34;type&#34;: &#34;PhasedX&#34;}}, {&#34;args&#34;: [[&#34;q&#34;, [1]]], &#34;op&#34;: {&#34;params&#34;: [&#34;0.5&#34;, &#34;-4.23271213391479&#34;], &#34;type&#34;: &#34;PhasedX&#34;}}, {&#34;args&#34;: [[&#34;q&#34;, [2]]], &#34;op&#34;: {&#34;params&#34;: [&#34;0.5&#34;, &#34;0.313967575307527&#34;], &#34;type&#34;: &#34;PhasedX&#34;}}, {&#34;args&#34;: [[&#34;q&#34;, [3]]], &#34;op&#34;: {&#34;params&#34;: [&#34;0.5&#34;, &#34;-1.30201080659297&#34;], &#34;type&#34;: &#34;PhasedX&#34;}}, {&#34;args&#34;: [[&#34;q&#34;, [0]], [&#34;q&#34;, [3]]], &#34;op&#34;: {&#34;params&#34;: [&#34;0.243999321848116&#34;], &#34;type&#34;: &#34;ZZPhase&#34;}}, {&#34;args&#34;: [[&#34;q&#34;, [1]], [&#34;q&#34;, [2]]], &#34;op&#34;: {&#34;params&#34;: [&#34;0.0914708501847174&#34;], &#34;type&#34;: &#34;ZZPhase&#34;}}, {&#34;args&#34;: [[&#34;q&#34;, [0]]], &#34;op&#34;: {&#34;params&#34;: [&#34;1/2&#34;, &#34;-1.44908310643129&#34;], &#34;type&#34;: &#34;PhasedX&#34;}}, {&#34;args&#34;: [[&#34;q&#34;, [1]]], &#34;op&#34;: {&#34;params&#34;: [&#34;1/2&#34;, &#34;-4.73271213391479&#34;], &#34;type&#34;: &#34;PhasedX&#34;}}, {&#34;args&#34;: [[&#34;q&#34;, [2]]], &#34;op&#34;: {&#34;params&#34;: [&#34;1/2&#34;, &#34;-0.186032424692473&#34;], &#34;type&#34;: &#34;PhasedX&#34;}}, {&#34;args&#34;: [[&#34;q&#34;, [3]]], &#34;op&#34;: {&#34;params&#34;: [&#34;1/2&#34;, &#34;-1.80201080659297&#34;], &#34;type&#34;: &#34;PhasedX&#34;}}, {&#34;args&#34;: [[&#34;q&#34;, [0]], [&#34;q&#34;, [3]]], &#34;op&#34;: {&#34;params&#34;: [&#34;-0.0472763995838892&#34;], &#34;type&#34;: &#34;ZZPhase&#34;}}, {&#34;args&#34;: [[&#34;q&#34;, [1]], [&#34;q&#34;, [2]]], &#34;op&#34;: {&#34;params&#34;: [&#34;0.0394761142855107&#34;], &#34;type&#34;: &#34;ZZPhase&#34;}}, {&#34;args&#34;: [[&#34;q&#34;, [0]]], &#34;op&#34;: {&#34;params&#34;: [&#34;0.62980694206939&#34;, &#34;-3.74840018730589&#34;], &#34;type&#34;: &#34;PhasedX&#34;}}, {&#34;args&#34;: [[&#34;q&#34;, [1]]], &#34;op&#34;: {&#34;params&#34;: [&#34;0.754160576806745&#34;, &#34;-4.21456828363576&#34;], &#34;type&#34;: &#34;PhasedX&#34;}}, {&#34;args&#34;: [[&#34;q&#34;, [2]]], &#34;op&#34;: {&#34;params&#34;: [&#34;0.165625143879911&#34;, &#34;0.866143866411172&#34;], &#34;type&#34;: &#34;PhasedX&#34;}}, {&#34;args&#34;: [[&#34;q&#34;, [3]]], &#34;op&#34;: {&#34;params&#34;: [&#34;0.27872428563961&#34;, &#34;-3.52088041550255&#34;], &#34;type&#34;: &#34;PhasedX&#34;}}, {&#34;args&#34;: [[&#34;q&#34;, [0]], [&#34;q&#34;, [2]]], &#34;op&#34;: {&#34;params&#34;: [&#34;0.475350720748557&#34;], &#34;type&#34;: &#34;ZZPhase&#34;}}, {&#34;args&#34;: [[&#34;q&#34;, [1]], [&#34;q&#34;, [3]]], &#34;op&#34;: {&#34;params&#34;: [&#34;0.470764685152989&#34;], &#34;type&#34;: &#34;ZZPhase&#34;}}, {&#34;args&#34;: [[&#34;q&#34;, [0]]], &#34;op&#34;: {&#34;params&#34;: [&#34;0.5&#34;, &#34;-3.88321585922713&#34;], &#34;type&#34;: &#34;PhasedX&#34;}}, {&#34;args&#34;: [[&#34;q&#34;, [1]]], &#34;op&#34;: {&#34;params&#34;: [&#34;0.5&#34;, &#34;-4.50802576483169&#34;], &#34;type&#34;: &#34;PhasedX&#34;}}, {&#34;args&#34;: [[&#34;q&#34;, [2]]], &#34;op&#34;: {&#34;params&#34;: [&#34;0.5&#34;, &#34;0.733005127877355&#34;], &#34;type&#34;: &#34;PhasedX&#34;}}, {&#34;args&#34;: [[&#34;q&#34;, [3]]], &#34;op&#34;: {&#34;params&#34;: [&#34;0.5&#34;, &#34;-3.64700510721059&#34;], &#34;type&#34;: &#34;PhasedX&#34;}}, {&#34;args&#34;: [[&#34;q&#34;, [0]], [&#34;q&#34;, [2]]], &#34;op&#34;: {&#34;params&#34;: [&#34;0.191908829604569&#34;], &#34;type&#34;: &#34;ZZPhase&#34;}}, {&#34;args&#34;: [[&#34;q&#34;, [1]], [&#34;q&#34;, [3]]], &#34;op&#34;: {&#34;params&#34;: [&#34;0.0737027362760076&#34;], &#34;type&#34;: &#34;ZZPhase&#34;}}, {&#34;args&#34;: [[&#34;q&#34;, [0]]], &#34;op&#34;: {&#34;params&#34;: [&#34;1/2&#34;, &#34;-4.38321585922713&#34;], &#34;type&#34;: &#34;PhasedX&#34;}}, {&#34;args&#34;: [[&#34;q&#34;, [1]]], &#34;op&#34;: {&#34;params&#34;: [&#34;1/2&#34;, &#34;-5.00802576483169&#34;], &#34;type&#34;: &#34;PhasedX&#34;}}, {&#34;args&#34;: [[&#34;q&#34;, [2]]], &#34;op&#34;: {&#34;params&#34;: [&#34;1/2&#34;, &#34;0.233005127877355&#34;], &#34;type&#34;: &#34;PhasedX&#34;}}, {&#34;args&#34;: [[&#34;q&#34;, [3]]], &#34;op&#34;: {&#34;params&#34;: [&#34;1/2&#34;, &#34;-4.14700510721059&#34;], &#34;type&#34;: &#34;PhasedX&#34;}}, {&#34;args&#34;: [[&#34;q&#34;, [0]], [&#34;q&#34;, [2]]], &#34;op&#34;: {&#34;params&#34;: [&#34;7.32344697093264e-05&#34;], &#34;type&#34;: &#34;ZZPhase&#34;}}, {&#34;args&#34;: [[&#34;q&#34;, [1]], [&#34;q&#34;, [3]]], &#34;op&#34;: {&#34;params&#34;: [&#34;-0.00375703527342042&#34;], &#34;type&#34;: &#34;ZZPhase&#34;}}, {&#34;args&#34;: [[&#34;q&#34;, [0]]], &#34;op&#34;: {&#34;params&#34;: [&#34;-0.752151589460326&#34;, &#34;-3.29327144436538&#34;], &#34;type&#34;: &#34;PhasedX&#34;}}, {&#34;args&#34;: [[&#34;q&#34;, [1]]], &#34;op&#34;: {&#34;params&#34;: [&#34;-0.487838393192116&#34;, &#34;-5.58508880604768&#34;], &#34;type&#34;: &#34;PhasedX&#34;}}, {&#34;args&#34;: [[&#34;q&#34;, [2]]], &#34;op&#34;: {&#34;params&#34;: [&#34;-0.676107047841438&#34;, &#34;-0.0367886955756911&#34;], &#34;type&#34;: &#34;PhasedX&#34;}}, {&#34;args&#34;: [[&#34;q&#34;, [3]]], &#34;op&#34;: {&#34;params&#34;: [&#34;-0.538850045722591&#34;, &#34;-4.67683914827224&#34;], &#34;type&#34;: &#34;PhasedX&#34;}}, {&#34;args&#34;: [[&#34;q&#34;, [0]], [&#34;c&#34;, [0]]], &#34;op&#34;: {&#34;type&#34;: &#34;Measure&#34;}}, {&#34;args&#34;: [[&#34;q&#34;, [1]], [&#34;c&#34;, [1]]], &#34;op&#34;: {&#34;type&#34;: &#34;Measure&#34;}}, {&#34;args&#34;: [[&#34;q&#34;, [2]], [&#34;c&#34;, [2]]], &#34;op&#34;: {&#34;type&#34;: &#34;Measure&#34;}}, {&#34;args&#34;: [[&#34;q&#34;, [3]], [&#34;c&#34;, [3]]], &#34;op&#34;: {&#34;type&#34;: &#34;Measure&#34;}}], &#34;created_qubits&#34;: [], &#34;discarded_qubits&#34;: [], &#34;implicit_permutation&#34;: [[[&#34;q&#34;, [0]], [&#34;q&#34;, [0]]], [[&#34;q&#34;, [1]], [&#34;q&#34;, [1]]], [[&#34;q&#34;, [2]], [&#34;q&#34;, [2]]], [[&#34;q&#34;, [3]], [&#34;q&#34;, [3]]]], &#34;name&#34;: &#34;QV Example without SU(4)&#34;, &#34;phase&#34;: &#34;1.98408953346552&#34;, &#34;qubits&#34;: [[&#34;q&#34;, [0]], [&#34;q&#34;, [1]], [&#34;q&#34;, [2]], [&#34;q&#34;, [3]]]}&lt;/div&gt;\n",
       "        &lt;/div&gt;\n",
       "        &lt;circuit-display-container\n",
       "                :circuit-element-str=&#34;&#39;#circuit-json-to-display&#39;&#34;\n",
       "                :init-render-options=&#34;initRenderOptions&#34;\n",
       "        &gt;&lt;/circuit-display-container&gt;\n",
       "    &lt;/div&gt;\n",
       "    &lt;script type=&#34;application/javascript&#34;&gt;\n",
       "      const circuitRendererUid = &#34;81e4125e-7a45-4c27-bc75-1545e287a769&#34;;\n",
       "      const displayOptions = JSON.parse(&#39;{}&#39;);\n",
       "\n",
       "      // Script to initialise the circuit renderer app\n",
       "\n",
       "const { createApp } = Vue;\n",
       "const circuitDisplayContainer = window[&#34;pytket-circuit-renderer&#34;].default;\n",
       "// Init variables to be shared between circuit display instances\n",
       "if (typeof window.pytketCircuitDisplays === &#34;undefined&#34;) {\n",
       "    window.pytketCircuitDisplays = {};\n",
       "}\n",
       "// Create the root Vue component\n",
       "const app = createApp({\n",
       "    delimiters: [&#39;[[#&#39;, &#39;#]]&#39;],\n",
       "    components: { circuitDisplayContainer },\n",
       "    data () {\n",
       "      return {\n",
       "        initRenderOptions: displayOptions,\n",
       "      }\n",
       "    }\n",
       "})\n",
       "app.config.unwrapInjectedRef = true;\n",
       "app.mount(&#34;#circuit-display-vue-container-&#34;+circuitRendererUid);\n",
       "window.pytketCircuitDisplays[circuitRendererUid] = app;\n",
       "    &lt;/script&gt;\n",
       "\n",
       "\n",
       "\n",
       "&lt;/body&gt;\n",
       "&lt;/html&gt;\n",
       "\"\n",
       "            width=\"100%\" height=\"100%\"\n",
       "            style=\"border: none; outline: none; overflow: auto\"></iframe>\n",
       "</div>\n",
       "\n"
      ],
      "text/plain": [
       "<IPython.core.display.HTML object>"
      ]
     },
     "metadata": {},
     "output_type": "display_data"
    }
   ],
   "source": [
    "qv_circuit_no_SU4 = Circuit(4, name=\"QV Example without SU(4)\")\n",
    "\n",
    "qv_circuit_no_SU4.U3(0.25473320252075615*np.pi,-0.4722839623120936*np.pi,1.1337576181565758*np.pi, 0)\n",
    "qv_circuit_no_SU4.U3(0.9260248851696505*np.pi,2.6880694641488283*np.pi,3.781045841193389*np.pi, 1)\n",
    "qv_circuit_no_SU4.U3(0.2654757321735285*np.pi,0.0736141120852053*np.pi,4.116758761767741*np.pi, 2)\n",
    "qv_circuit_no_SU4.U3(0.4159547432138166*np.pi,0.16111290510915977*np.pi,0.7501741218212356*np.pi, 3)\n",
    "qv_circuit_no_SU4.U3(3.5*np.pi,-0.5*np.pi,0.5*np.pi, 0)\n",
    "qv_circuit_no_SU4.U3(3.5*np.pi,-0.5*np.pi,0.5*np.pi, 1)\n",
    "qv_circuit_no_SU4.U3(3.5*np.pi,-0.5*np.pi,0.5*np.pi, 2)\n",
    "qv_circuit_no_SU4.U3(3.5*np.pi,-0.5*np.pi,0.5*np.pi, 3)\n",
    "qv_circuit_no_SU4.U3(0.0*np.pi,-0.5*np.pi,1.5*np.pi, 0)\n",
    "qv_circuit_no_SU4.U3(1.5*np.pi,0.0*np.pi,1.5*np.pi, 1)\n",
    "qv_circuit_no_SU4.U3(0.5*np.pi,-0.5*np.pi,0.5*np.pi, 2)\n",
    "qv_circuit_no_SU4.U3(0.5*np.pi,-0.5*np.pi,0.5*np.pi, 3)\n",
    "qv_circuit_no_SU4.U3(1.0*np.pi,-0.5*np.pi,0.5*np.pi, 0)\n",
    "qv_circuit_no_SU4.CX(1, 3)\n",
    "qv_circuit_no_SU4.U3(1.5*np.pi,0.0*np.pi,1.5*np.pi, 0)\n",
    "qv_circuit_no_SU4.U3(3.5*np.pi,3.4049821668324665*np.pi,0.5*np.pi, 1)\n",
    "qv_circuit_no_SU4.U3(1.0*np.pi,0.0*np.pi,1.3201934298378362*np.pi, 3)\n",
    "qv_circuit_no_SU4.CX(0, 2)\n",
    "qv_circuit_no_SU4.CX(1, 3)\n",
    "qv_circuit_no_SU4.U3(3.5*np.pi,3.3747103659393294*np.pi,0.5*np.pi, 0)\n",
    "qv_circuit_no_SU4.U3(0.5*np.pi,0.0*np.pi,0.5*np.pi, 1)\n",
    "qv_circuit_no_SU4.U3(1.0*np.pi,0.0*np.pi,1.2504554268164243*np.pi, 2)\n",
    "qv_circuit_no_SU4.U3(0.0*np.pi,-0.5*np.pi,0.6472527110107711*np.pi, 3)\n",
    "qv_circuit_no_SU4.CX(0, 2)\n",
    "qv_circuit_no_SU4.CX(1, 3)\n",
    "qv_circuit_no_SU4.U3(0.5*np.pi,0.0*np.pi,0.5*np.pi, 0)\n",
    "qv_circuit_no_SU4.U3(0.5*np.pi,-0.5*np.pi,0.5*np.pi, 1)\n",
    "qv_circuit_no_SU4.U3(0.0*np.pi,-0.5*np.pi,0.6659406115521548*np.pi, 2)\n",
    "qv_circuit_no_SU4.U3(0.5*np.pi,-0.5*np.pi,0.5*np.pi, 3)\n",
    "qv_circuit_no_SU4.CX(0, 2)\n",
    "qv_circuit_no_SU4.U3(0.25535963651944854*np.pi,3.1014277080861374*np.pi,0.8687871783780351*np.pi, 1)\n",
    "qv_circuit_no_SU4.U3(0.4242946197076395*np.pi,0.2614656370005698*np.pi,3.4838692502872806*np.pi, 3)\n",
    "qv_circuit_no_SU4.U3(1.0*np.pi,-0.5*np.pi,0.5*np.pi, 0)\n",
    "qv_circuit_no_SU4.U3(0.7648074607597222*np.pi,-0.22109305574283394*np.pi,4.270484169822186*np.pi, 1)\n",
    "qv_circuit_no_SU4.U3(1.0*np.pi,-0.5*np.pi,0.5*np.pi, 2)\n",
    "qv_circuit_no_SU4.U3(0.22451081382324406*np.pi,0.27225730267610504*np.pi,3.927244666700967*np.pi, 3)\n",
    "qv_circuit_no_SU4.U3(0.5*np.pi,-0.5*np.pi,0.5*np.pi, 0)\n",
    "qv_circuit_no_SU4.U3(3.5*np.pi,-0.5*np.pi,0.5*np.pi, 1)\n",
    "qv_circuit_no_SU4.U3(0.0*np.pi,-0.5*np.pi,1.5*np.pi, 2)\n",
    "qv_circuit_no_SU4.U3(3.5*np.pi,-0.5*np.pi,0.5*np.pi, 3)\n",
    "qv_circuit_no_SU4.U3(0.66949436019446*np.pi,2.5791859689113434*np.pi,3.699026291695842*np.pi, 0)\n",
    "qv_circuit_no_SU4.U3(0.0*np.pi,-0.5*np.pi,1.5*np.pi, 1)\n",
    "qv_circuit_no_SU4.U3(1.0*np.pi,-0.5*np.pi,0.5*np.pi, 2)\n",
    "qv_circuit_no_SU4.U3(0.5*np.pi,-0.5*np.pi,0.5*np.pi, 3)\n",
    "qv_circuit_no_SU4.U3(0.6909969444247932*np.pi,-0.17170015925367116*np.pi,1.0193666698299448*np.pi, 0)\n",
    "qv_circuit_no_SU4.U3(1.0*np.pi,-0.5*np.pi,0.5*np.pi, 1)\n",
    "qv_circuit_no_SU4.U3(0.5*np.pi,-0.5*np.pi,0.5*np.pi, 2)\n",
    "qv_circuit_no_SU4.U3(3.5*np.pi,-0.5*np.pi,0.5*np.pi, 0)\n",
    "qv_circuit_no_SU4.U3(1.5*np.pi,0.0*np.pi,1.5*np.pi, 1)\n",
    "qv_circuit_no_SU4.U3(0.8542699271757708*np.pi,3.1239275299676947*np.pi,2.8820137020693153*np.pi, 2)\n",
    "qv_circuit_no_SU4.U3(0.0*np.pi,-0.5*np.pi,1.5*np.pi, 0)\n",
    "qv_circuit_no_SU4.U3(0.5503794877412841*np.pi,1.059003801067796*np.pi,0.9221441436832603*np.pi, 2)\n",
    "qv_circuit_no_SU4.U3(1.0*np.pi,-0.5*np.pi,0.5*np.pi, 0)\n",
    "qv_circuit_no_SU4.U3(3.5*np.pi,-0.5*np.pi,0.5*np.pi, 2)\n",
    "qv_circuit_no_SU4.U3(1.5*np.pi,0.0*np.pi,1.5*np.pi, 0)\n",
    "qv_circuit_no_SU4.U3(0.5*np.pi,-0.5*np.pi,0.5*np.pi, 2)\n",
    "qv_circuit_no_SU4.CX(0, 3)\n",
    "qv_circuit_no_SU4.CX(1, 2)\n",
    "qv_circuit_no_SU4.U3(3.5*np.pi,3.4293302654969113*np.pi,0.5*np.pi, 0)\n",
    "qv_circuit_no_SU4.U3(3.5*np.pi,3.4810601554611322*np.pi,0.5*np.pi, 1)\n",
    "qv_circuit_no_SU4.U3(1.0*np.pi,0.0*np.pi,1.3079118604508042*np.pi, 2)\n",
    "qv_circuit_no_SU4.U3(1.0*np.pi,0.0*np.pi,1.2821248812866428*np.pi, 3)\n",
    "qv_circuit_no_SU4.CX(0, 3)\n",
    "qv_circuit_no_SU4.CX(1, 2)\n",
    "qv_circuit_no_SU4.U3(0.5*np.pi,0.0*np.pi,0.5*np.pi, 0)\n",
    "qv_circuit_no_SU4.U3(0.5*np.pi,0.0*np.pi,0.5*np.pi, 1)\n",
    "qv_circuit_no_SU4.U3(0.0*np.pi,-0.5*np.pi,0.7066487742208293*np.pi, 2)\n",
    "qv_circuit_no_SU4.U3(0.0*np.pi,-0.5*np.pi,0.568720952507614*np.pi, 3)\n",
    "qv_circuit_no_SU4.CX(0, 3)\n",
    "qv_circuit_no_SU4.CX(1, 2)\n",
    "qv_circuit_no_SU4.U3(0.0*np.pi,-0.5*np.pi,1.5*np.pi, 0)\n",
    "qv_circuit_no_SU4.U3(1.0*np.pi,-0.5*np.pi,0.5*np.pi, 1)\n",
    "qv_circuit_no_SU4.U3(1.0*np.pi,-0.5*np.pi,0.5*np.pi, 2)\n",
    "qv_circuit_no_SU4.U3(1.0*np.pi,-0.5*np.pi,0.5*np.pi, 3)\n",
    "qv_circuit_no_SU4.U3(0.5*np.pi,-0.5*np.pi,0.5*np.pi, 0)\n",
    "qv_circuit_no_SU4.U3(0.5*np.pi,-0.5*np.pi,0.5*np.pi, 1)\n",
    "qv_circuit_no_SU4.U3(0.0*np.pi,-0.5*np.pi,1.5*np.pi, 2)\n",
    "qv_circuit_no_SU4.U3(0.0*np.pi,-0.5*np.pi,1.5*np.pi, 3)\n",
    "qv_circuit_no_SU4.U3(0.7042706963515156*np.pi,0.8569341596745985*np.pi,4.382539932255121*np.pi, 0)\n",
    "qv_circuit_no_SU4.U3(0.5601447710772369*np.pi,1.09199384065995*np.pi,0.7308152830574234*np.pi, 1)\n",
    "qv_circuit_no_SU4.U3(1.0*np.pi,-0.5*np.pi,0.5*np.pi, 2)\n",
    "qv_circuit_no_SU4.U3(0.0*np.pi,-0.5*np.pi,1.5*np.pi, 3)\n",
    "qv_circuit_no_SU4.U3(0.2266612071559701*np.pi,0.16782619554269707*np.pi,1.021229946537722*np.pi, 0)\n",
    "qv_circuit_no_SU4.U3(0.2762246138123449*np.pi,0.4576836920669646*np.pi,4.104878292146786*np.pi, 1)\n",
    "qv_circuit_no_SU4.U3(0.5*np.pi,-0.5*np.pi,0.5*np.pi, 2)\n",
    "qv_circuit_no_SU4.U3(0.5*np.pi,-0.5*np.pi,0.5*np.pi, 3)\n",
    "qv_circuit_no_SU4.U3(3.5*np.pi,-0.5*np.pi,0.5*np.pi, 0)\n",
    "qv_circuit_no_SU4.U3(0.0*np.pi,-0.5*np.pi,4.0*np.pi, 1)\n",
    "qv_circuit_no_SU4.U3(0.3992168256084478*np.pi,3.32099255409016*np.pi,4.316031829539449*np.pi, 2)\n",
    "qv_circuit_no_SU4.U3(0.17449638263602396*np.pi,0.6388780639818601*np.pi,0.7170079306262069*np.pi, 3)\n",
    "qv_circuit_no_SU4.U3(1.5*np.pi,0.0*np.pi,1.5*np.pi, 0)\n",
    "qv_circuit_no_SU4.U3(3.5*np.pi,-0.5*np.pi,0.5*np.pi, 1)\n",
    "qv_circuit_no_SU4.U3(0.04056918324275033*np.pi,2.4975811387857263*np.pi,1.1688582372774654*np.pi, 2)\n",
    "qv_circuit_no_SU4.U3(0.7425014918208815*np.pi,2.5513295057684955*np.pi,3.798716571514106*np.pi, 3)\n",
    "qv_circuit_no_SU4.U3(0.0*np.pi,-0.5*np.pi,4.0*np.pi, 1)\n",
    "qv_circuit_no_SU4.U3(0.0*np.pi,-0.5*np.pi,4.0*np.pi, 2)\n",
    "qv_circuit_no_SU4.U3(3.5*np.pi,-0.5*np.pi,0.5*np.pi, 3)\n",
    "qv_circuit_no_SU4.U3(1.5*np.pi,0.0*np.pi,1.5*np.pi, 1)\n",
    "qv_circuit_no_SU4.U3(3.5*np.pi,-0.5*np.pi,0.5*np.pi, 2)\n",
    "qv_circuit_no_SU4.U3(0.5*np.pi,-0.5*np.pi,0.5*np.pi, 3)\n",
    "qv_circuit_no_SU4.CX(0, 3)\n",
    "qv_circuit_no_SU4.U3(0.0*np.pi,-0.5*np.pi,4.0*np.pi, 2)\n",
    "qv_circuit_no_SU4.U3(3.5*np.pi,3.489001455095616*np.pi,0.5*np.pi, 0)\n",
    "qv_circuit_no_SU4.U3(0.5*np.pi,-0.5*np.pi,0.5*np.pi, 2)\n",
    "qv_circuit_no_SU4.U3(1.0*np.pi,0.0*np.pi,1.2533359797863637*np.pi, 3)\n",
    "qv_circuit_no_SU4.CX(0, 3)\n",
    "qv_circuit_no_SU4.CX(1, 2)\n",
    "qv_circuit_no_SU4.U3(0.5*np.pi,0.0*np.pi,0.5*np.pi, 0)\n",
    "qv_circuit_no_SU4.U3(3.5*np.pi,3.4878835207861334*np.pi,0.5*np.pi, 1)\n",
    "qv_circuit_no_SU4.U3(1.0*np.pi,0.0*np.pi,1.4143578707787503*np.pi, 2)\n",
    "qv_circuit_no_SU4.U3(0.0*np.pi,-0.5*np.pi,0.5810281952595922*np.pi, 3)\n",
    "qv_circuit_no_SU4.CX(0, 3)\n",
    "qv_circuit_no_SU4.CX(1, 2)\n",
    "qv_circuit_no_SU4.U3(0.5*np.pi,-0.5*np.pi,0.5*np.pi, 0)\n",
    "qv_circuit_no_SU4.U3(0.5*np.pi,0.0*np.pi,0.5*np.pi, 1)\n",
    "qv_circuit_no_SU4.U3(0.0*np.pi,-0.5*np.pi,4.129235226639673*np.pi, 2)\n",
    "qv_circuit_no_SU4.U3(0.5*np.pi,-0.5*np.pi,0.5*np.pi, 3)\n",
    "qv_circuit_no_SU4.U3(0.858475273889848*np.pi,3.344516428913573*np.pi,3.0600916412099446*np.pi, 0)\n",
    "qv_circuit_no_SU4.CX(1, 2)\n",
    "qv_circuit_no_SU4.U3(0.8245657987254952*np.pi,0.12473351582941017*np.pi,0.8623599356030089*np.pi, 3)\n",
    "qv_circuit_no_SU4.U3(0.4946111147607045*np.pi,-0.040647131861198005*np.pi,3.594081508778993*np.pi, 0)\n",
    "qv_circuit_no_SU4.U3(0.0*np.pi,-0.5*np.pi,1.5*np.pi, 1)\n",
    "qv_circuit_no_SU4.U3(0.0*np.pi,-0.5*np.pi,1.5*np.pi, 2)\n",
    "qv_circuit_no_SU4.U3(0.8280822479969498*np.pi,3.3567211044985177*np.pi,3.7860353910345665*np.pi, 3)\n",
    "qv_circuit_no_SU4.U3(3.5*np.pi,-0.5*np.pi,0.5*np.pi, 0)\n",
    "qv_circuit_no_SU4.U3(0.0*np.pi,-0.5*np.pi,1.5*np.pi, 1)\n",
    "qv_circuit_no_SU4.U3(0.0*np.pi,-0.5*np.pi,1.5*np.pi, 2)\n",
    "qv_circuit_no_SU4.U3(0.5*np.pi,-0.5*np.pi,0.5*np.pi, 3)\n",
    "qv_circuit_no_SU4.U3(0.0*np.pi,-0.5*np.pi,1.5*np.pi, 0)\n",
    "qv_circuit_no_SU4.U3(0.0*np.pi,-0.5*np.pi,1.5*np.pi, 1)\n",
    "qv_circuit_no_SU4.U3(0.0*np.pi,-0.5*np.pi,1.5*np.pi, 2)\n",
    "qv_circuit_no_SU4.U3(1.0*np.pi,-0.5*np.pi,0.5*np.pi, 0)\n",
    "qv_circuit_no_SU4.U3(1.0*np.pi,0.0*np.pi,4.0*np.pi, 1)\n",
    "qv_circuit_no_SU4.U3(1.0*np.pi,0.0*np.pi,4.0*np.pi, 2)\n",
    "qv_circuit_no_SU4.U3(1.5*np.pi,0.0*np.pi,1.5*np.pi, 0)\n",
    "qv_circuit_no_SU4.U3(1.0*np.pi,-0.5*np.pi,0.5*np.pi, 1)\n",
    "qv_circuit_no_SU4.U3(1.0*np.pi,-0.5*np.pi,0.5*np.pi, 2)\n",
    "qv_circuit_no_SU4.U3(0.0*np.pi,-0.5*np.pi,1.0*np.pi, 1)\n",
    "qv_circuit_no_SU4.U3(0.0*np.pi,-0.5*np.pi,1.0*np.pi, 2)\n",
    "qv_circuit_no_SU4.U3(0.5*np.pi,-0.5*np.pi,0.5*np.pi, 1)\n",
    "qv_circuit_no_SU4.U3(0.5*np.pi,-0.5*np.pi,0.5*np.pi, 2)\n",
    "qv_circuit_no_SU4.U3(0.0*np.pi,-0.5*np.pi,1.0*np.pi, 1)\n",
    "qv_circuit_no_SU4.U3(0.0*np.pi,-0.5*np.pi,1.0*np.pi, 2)\n",
    "qv_circuit_no_SU4.U3(0.5554762677015984*np.pi,3.2859255637424867*np.pi,4.289308300879274*np.pi, 1)\n",
    "qv_circuit_no_SU4.U3(0.6584101141439711*np.pi,2.779577244162456*np.pi,3.721888657269012*np.pi, 2)\n",
    "qv_circuit_no_SU4.U3(0.8153952155638982*np.pi,-0.008997488527685837*np.pi,3.9172737166210907*np.pi, 1)\n",
    "qv_circuit_no_SU4.U3(0.5055323943045988*np.pi,0.20235580219106175*np.pi,3.602501861285357*np.pi, 2)\n",
    "qv_circuit_no_SU4.U3(0.0*np.pi,-0.5*np.pi,1.5*np.pi, 1)\n",
    "qv_circuit_no_SU4.U3(3.5*np.pi,-0.5*np.pi,0.5*np.pi, 2)\n",
    "qv_circuit_no_SU4.U3(1.0*np.pi,-0.5*np.pi,0.5*np.pi, 1)\n",
    "qv_circuit_no_SU4.U3(0.5*np.pi,-0.5*np.pi,0.5*np.pi, 2)\n",
    "qv_circuit_no_SU4.CX(0, 2)\n",
    "qv_circuit_no_SU4.U3(1.5*np.pi,0.0*np.pi,1.5*np.pi, 1)\n",
    "qv_circuit_no_SU4.U3(3.5*np.pi,3.480897224396455*np.pi,0.5*np.pi, 0)\n",
    "qv_circuit_no_SU4.CX(1, 3)\n",
    "qv_circuit_no_SU4.U3(1.0*np.pi,0.0*np.pi,1.213930484760723*np.pi, 2)\n",
    "qv_circuit_no_SU4.CX(0, 2)\n",
    "qv_circuit_no_SU4.U3(3.5*np.pi,3.338957921817773*np.pi,0.5*np.pi, 1)\n",
    "qv_circuit_no_SU4.U3(1.0*np.pi,0.0*np.pi,1.2518811716342444*np.pi, 3)\n",
    "qv_circuit_no_SU4.U3(0.5*np.pi,0.0*np.pi,0.5*np.pi, 0)\n",
    "qv_circuit_no_SU4.CX(1, 3)\n",
    "qv_circuit_no_SU4.U3(0.0*np.pi,-0.5*np.pi,4.426480102332563*np.pi, 2)\n",
    "qv_circuit_no_SU4.CX(0, 2)\n",
    "qv_circuit_no_SU4.U3(0.5*np.pi,0.0*np.pi,0.5*np.pi, 1)\n",
    "qv_circuit_no_SU4.U3(0.0*np.pi,-0.5*np.pi,0.6334211997059697*np.pi, 3)\n",
    "qv_circuit_no_SU4.U3(0.0*np.pi,-0.5*np.pi,1.5*np.pi, 0)\n",
    "qv_circuit_no_SU4.CX(1, 3)\n",
    "qv_circuit_no_SU4.U3(0.0*np.pi,-0.5*np.pi,1.5*np.pi, 2)\n",
    "qv_circuit_no_SU4.U3(0.0*np.pi,-0.5*np.pi,1.5*np.pi, 0)\n",
    "qv_circuit_no_SU4.U3(1.0*np.pi,-0.5*np.pi,0.5*np.pi, 1)\n",
    "qv_circuit_no_SU4.U3(0.0*np.pi,-0.5*np.pi,1.5*np.pi, 2)\n",
    "qv_circuit_no_SU4.U3(1.0*np.pi,-0.5*np.pi,0.5*np.pi, 3)\n",
    "qv_circuit_no_SU4.U3(0.0*np.pi,-0.5*np.pi,1.5*np.pi, 0)\n",
    "qv_circuit_no_SU4.U3(0.026149006359698555*np.pi,0.16193977105725021*np.pi,3.367497381276574*np.pi, 1)\n",
    "qv_circuit_no_SU4.U3(0.0*np.pi,-0.5*np.pi,1.5*np.pi, 2)\n",
    "qv_circuit_no_SU4.U3(0.0*np.pi,-0.5*np.pi,1.5*np.pi, 3)\n",
    "# qv_circuit_no_SU4.Measure(1, 1)\n",
    "qv_circuit_no_SU4.U3(0.5*np.pi,-0.5*np.pi,0.5*np.pi, 0)\n",
    "qv_circuit_no_SU4.U3(1.0*np.pi,-0.5*np.pi,0.5*np.pi, 2)\n",
    "qv_circuit_no_SU4.U3(1.0*np.pi,-0.5*np.pi,0.5*np.pi, 3)\n",
    "qv_circuit_no_SU4.U3(0.40042121316676804*np.pi,3.4319547249435396*np.pi,0.6909747338081911*np.pi, 0)\n",
    "qv_circuit_no_SU4.U3(0.0*np.pi,-0.5*np.pi,1.5*np.pi, 2)\n",
    "qv_circuit_no_SU4.U3(0.5144296195023755*np.pi,0.04059434060036193*np.pi,1.306225020434144*np.pi, 3)\n",
    "# qv_circuit_no_SU4.Measure(0, 0)\n",
    "# qv_circuit_no_SU4.Measure(3, 3)\n",
    "qv_circuit_no_SU4.U3(0.5*np.pi,-0.5*np.pi,0.5*np.pi, 2)\n",
    "qv_circuit_no_SU4.U3(0.7065628237937605*np.pi,-0.1452950236479406*np.pi,4.219378673097818*np.pi, 2)\n",
    "# qv_circuit_no_SU4.Measure(2, 2)\n",
    "qv_circuit_no_SU4.measure_all()\n",
    "\n",
    "compiled_circuit_no_su4 = quantinuum_backend.get_compiled_circuit(qv_circuit_no_SU4, optimisation_level=2)\n",
    "print(f\"Number of ZZPhase Gates: {compiled_circuit_no_su4.n_2qb_gates()}\")\n",
    "render_circuit_jupyter(compiled_circuit_no_su4)"
   ]
  },
  {
   "cell_type": "markdown",
   "id": "2a60d66d",
   "metadata": {},
   "source": [
    "Now the options are specfied for the hardware compiler to compile to the $ZZ()$ gate with the `nativetq` option. Note that while the number of two-qubit gates is the same, the cost is higher for compiling to ZZ."
   ]
  },
  {
   "cell_type": "code",
   "execution_count": 21,
   "id": "6627e2c5",
   "metadata": {},
   "outputs": [
    {
     "name": "stdout",
     "output_type": "stream",
     "text": [
      "10.2\n"
     ]
    }
   ],
   "source": [
    "zz_options={\"no-opt\": True,\n",
    "            \"nativetq\": 'ZZ' }\n",
    "\n",
    "cost = quantinuum_backend.cost(compiled_circuit_no_su4, n_shots=100, syntax_checker=\"H1-1SC\",\n",
    "                               options=zz_options)\n",
    "print(cost)"
   ]
  },
  {
   "cell_type": "code",
   "execution_count": 22,
   "id": "a84afd34",
   "metadata": {},
   "outputs": [],
   "source": [
    "handle = quantinuum_backend.process_circuit(compiled_circuit_no_su4, n_shots=100, \n",
    "                                            options=zz_options)"
   ]
  },
  {
   "cell_type": "code",
   "execution_count": 23,
   "id": "6247aa0b",
   "metadata": {},
   "outputs": [
    {
     "name": "stdout",
     "output_type": "stream",
     "text": [
      "{(0, 0, 1, 0): 0.06, (0, 0, 1, 1): 0.06, (0, 1, 0, 0): 0.06, (0, 1, 0, 1): 0.08, (0, 1, 1, 0): 0.04, (0, 1, 1, 1): 0.19, (1, 0, 0, 0): 0.04, (1, 0, 0, 1): 0.08, (1, 0, 1, 0): 0.11, (1, 0, 1, 1): 0.02, (1, 1, 0, 0): 0.08, (1, 1, 0, 1): 0.01, (1, 1, 1, 0): 0.05, (1, 1, 1, 1): 0.12}\n"
     ]
    }
   ],
   "source": [
    "result = quantinuum_backend.get_result(handle)\n",
    "print(result.get_distribution())"
   ]
  },
  {
   "cell_type": "markdown",
   "id": "b7ac403a-1ac6-4b24-9f4e-9d5ff575e423",
   "metadata": {},
   "source": [
    "<div align=\"center\"> &copy; 2024 by Quantinuum. All Rights Reserved. </div>"
   ]
  }
 ],
 "metadata": {
  "interpreter": {
   "hash": "fa09926369ab226b30f0f4d8b39a7b037b96c84df8a0d093a9349ea6fad58125"
  },
  "kernelspec": {
   "display_name": "Python 3 (ipykernel)",
   "language": "python",
   "name": "python3"
  },
  "language_info": {
   "codemirror_mode": {
    "name": "ipython",
    "version": 3
   },
   "file_extension": ".py",
   "mimetype": "text/x-python",
   "name": "python",
   "nbconvert_exporter": "python",
   "pygments_lexer": "ipython3",
   "version": "3.12.0"
  }
 },
 "nbformat": 4,
 "nbformat_minor": 5
}
