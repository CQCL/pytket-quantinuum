{
 "cells": [
  {
   "cell_type": "markdown",
   "metadata": {},
   "source": [
    "![Quantinuum_logo](data:image/png;base64,iVBORw0KGgoAAAANSUhEUgAAAIIAAABLCAMAAACLOq%2BzAAACx1BMVEUAAAAAAP%2BAgIBVqqqAgIBmmZmAgKptkpKAgJ9xjo6AgJl0i6JqgJV2iZ1tgJJ3iJlwgJ94h5ZxgJx5hpRzgJl5hp50gJdvhZt1gJVwhZl2gJ12gJtyhJV3gJlzhJx4gJd0g5txgJZ1g5lxgJx1g5hygJp2g5ZzgJl2g5tzgJh3gpp0gJdxgpl0gJtygph1gJpygpd1gJlzgpt2gJhzgpp2gJd0gplygJt0gphygJp1gpdzgJl1gptzgJh1gpp2gZl0gJtygZh0gJpzgZh1gJlzgZp1gJhzgZp1gJh0gZl0gZhygJp0gZhzgJl0gZpzgJh1gZpzgJh1gZl0gJp1gZh0gJp0gJlzgZp0gJhzgZp1gJhzgZl1gJp0gZh1gJp0gZhzgJl0gZpzgJlzgJh1gZlzgJp1gZl1gZh0gJl0gJlzgZl0gJhzgZl1gJp0gZl1gJl0gZh1gJl0gZpzgJl0gZlzgJh0gZlzgJp0gZl0gJl1gJh1gJpzgJl0gJhzgJl0gJpzgJl0gJl1gJl0gJp1gJl0gJl1gJhzgJp0gJlzgJl0gJh0gJl1gJp0gJl1gJl0gJh1gJl0gJpzgJl0gJlzgJh0gJl0gJp0gJl0gJl1gJh0gJl1gJp0gJlzgJl0gJh0gJl0gJp0gJl0gJl0gJh1gJl0gJpzgJh0gJl0gJl0gJl1gJp0gJl1gJl0gJhzgJl0gJl0gJl0gJh0gJl0gJp0gJl0gJl1gJh0gJlzgJp0gJl0gJl0gJl0gJl0gJl0gJl0gJl0gJl1gJl0gJlzgJl0gJl0gJl0gJl0gJl0gJl0gJl0gJl1gJl0gJlzgJl0gJl0gJl0gJl0gJl0gJl0gJl0gJl0gJl1gJl0gJl0gJl0gJl0gJl0gJl0gJl0gJl0gJl0gJl0gJl0gJl0gJl0gJl0gJl0gJl0gJl0gJl0gJl0gJl0gJl0gJn%2F%2F%2F%2Bc0JCdAAAA63RSTlMAAQIDBAUGBwgJCgsMDQ4PEBESExQVFhcYGRocHR4fICEiIyQlJicoKSorLC0uLzAxMjM0NTY3ODk6Ozw9Pj9BQkNERUZHSElKS01OT1BRUlNUVVZXWFpbXF1eX2BhYmNkZWZoaWprbW5wcXJzdHV2d3h5ent8fX5%2FgIGDhYaHiImKjI2Oj5CSk5SVlpeYmZqbnJ2en6ChoqOkpaanqKmqq6ytrq%2Bws7a3ubq7vL2%2BwMHCw8TFxsfIycrLzM3Oz9DR0tPU1dbY2drb3N3e3%2BDh4uPk5ebn6Orr7O3u7%2FHy8%2FT19vf4%2Bfr7%2FP3%2B7Jw5zgAAAAFiS0dE7CG5sxsAAAVfSURBVBgZ7cGNV9X1AcfxNxcwnhRRaVCsKGszI%2BbDcs3KlDKldAmhGywz0ZyJOqLUHrBraVoKJD5E%2BBDaarXS2tZ0jmkqKjlLKR9SA6EFCNzPP7Hv7%2F7QmMm9nM754jkdXi9%2BsNCxL7x9uLb266qKZx%2BI5Ar4yYsn9J2GNyd46F6e%2BfW6RFWmh2404ANdxq6f022uOajL%2BvYPIXSPyN3qTFkY1vUBytW5tyOwLHE%2BjFMg73iwKqpyCCEHFFAhVpXsgfEKzJeBRWO1CDYpiK%2FisCbsU91N%2BDkFU4Q1WVIkqWrX%2BvGTv04Ih96Dp246o47aUrBlpxogR351z8XzHc%2F4j9TBGiz5lVQD82W0Lo7lErfv0EWN8dixTDoICyTV3Mn3heY36YK52LFf%2BgLypH%2FHcVlDT6vddqxI8EnfQLb29qMTg0%2FJ1RSNDQ%2FJiGJEVTydGlQv1%2F3YMEdGGp4BBJAt1xPYsFTGYoLYIL8l2LBZRhVBJDXJ8TI2%2FEmOewhilRwrsGGDHO8QxI1yvIgNa%2BQ3hiCqZCzChmXyq76KwBbLmIsN0%2BQqIbAHZEzGhmFql0dAKTKSsCGiRa622QQSI6kGO7bpgqWhBNAgrcSOabroX7fRuQ8%2Fqx6JHX2bdNH55ddxJZSrg5aNE6Lpdre06v80bnvVW5DfbnZuR6OxZKW6qhxL%2Btaoi97Altub1TWvY81jPnXJeuzJV5esw6LHW9UFa7Ep%2FayCK8Wqaz9QUKux7OFjCqIE28If2aeAiukGtxX%2B47w6VUT3iBg8Mdc1K%2F8S99GjR48ePXr06PHjkzRjycIxHhyR0%2BNwxOT0wxH64G%2F74xrzaDR%2B9%2F4SeDDzghDwZCZh3PdoJH7jhgLXZobhiH84Aph4E36TBgGpmem0S52eDuFLz8vYPwRjiMbj%2BJlycGRLr%2BKq1N964zi0HqjXBTEQockYB7UtGsexImCSYnHMVCJQl4cjwrcAWCaNxy%2F2tE4SskXb74i%2B5omGhhRgpDJwpGgGRtjhszuarsNvd5t2xmJ8XgYMHZ2WdqQuLS1tWBhEaQrGoTb9tTfGVyXAJF2NI0%2BJQF0Bjr5aACz31X%2FaC8cSfXOWDK0LwfjFt7tC4E49gmOEpmFMVW5KSyl%2Be%2F68QJX9gFPluHafwBWj32FUbynUjljg3GrgIf0UR74SgbrncAzQ08CKs7M0DyO56d2t9Ww%2FFYPfUxoOqZqN435lAeGf7fVQ0jIQx97NzNG%2BBKjbiKvyGK4%2BysE4vJYC7Y6H5lJgggbheF6JwJmXcFyvfOCVk6H7ziUAFa23ljdzeg2uFM2CG7QQxxSNA6ZrEiS3lOPYvwHm6EgyjZtx7TqCq69%2Bj3FkNTyp6iSP1gLpugvHMiUCp9bjSFEesPILRqkM7tFrlLbS8Bqu6%2FVHCP36n6EYmxv7QK9jenxKVu6J1sEYB8qAuTpxq68C18fVuOI0FePzYqBANalaDyRrHUbvmuO9gA%2FPxGE8rVFA0VHY4rsr7EBDAkUtHNiJK10ZwHy9lUD0cnmBmWq3FeNQGUaBarUV1%2FYqXP01DeNoMcYi1aoMY5MKI0neoRyMe31%2Fv5FeeS0fhQAlR2Fg8755WgirmnlWo%2FCLHRgKeFZIdY16Ixyu%2BrJy%2BDBHqW8IUF2G4xnpLVzvfYIrXtMxaopxPC%2BVY8T8ReePy1eI38xmX81%2FtedqjNVHgZfV9mUUrGok%2FvjpsXQ0svj90jSMG7zD8Yt%2BZiwwLwu%2FXG82rqzHcMV4R2AU%2FAa%2FGd7JOEImvv7e8mG0u3nJuxuzw3Fk5AP9vd7RwMQCGPQfHayoKClZ6R3FlRJV8MnJ2trG2trZXBH%2FA2RBOeTINIkQAAAAAElFTkSuQmCC)<br>\n",
    "# Quantinuum Variational Experiment on H-Series with tket"
   ]
  },
  {
   "attachments": {},
   "cell_type": "markdown",
   "metadata": {},
   "source": [
    "This notebook showcases how a variational experiment can be performed on H-Series \n",
    "hardware or emulator. `pytket` is used to synthesise a state-preperation circuit, \n",
    "prepare measurement circuits, and is also used to submit (retrieve) jobs in a batch to (from) \n",
    "the H-Series service. This circuit consists of fixed-angle one-qubit and two-qubit \n",
    "gates in addition to variable-angle one-qubit gates. \n",
    "\n",
    "Variable-angle one-qubit gates can have two types of parameters:\n",
    "* numerical parameters (`float`);\n",
    "* symbolic parameters (`sympy.symbol`).\n",
    "\n",
    "Numerical parameters are native python `float`s. Symbolic parameters require the use\n",
    "of the symbolic library, `sympy`, which is also a dependency of `pytket`. Throughout \n",
    "the variational experiment, symbolic parameters on the state-preparation circuit \n",
    "are replaced with additional numerical parameters. \n",
    "\n",
    "The variational procedure consists of $n$ iterations until a specific criterion is \n",
    "satisfied. A batch session is started to run over these $n$ iterations. Inactivity for over 10 minutes will lead to the batch session ending. \n",
    "\n",
    "The variational experiment requires the following as inputs: \n",
    "* a symbolic state-preparation circuit.\n",
    "* an observable defining the problem to be solved, i.e. this can be an Electronic \n",
    "Structure Hamiltonian or a Hamiltonian defining a QUBO (quadratic unconstrained binary optimisation)or MAXCUT instance. The \n",
    "observable is a sum of Pauli-strings (tensor product over `m` qubits of \n",
    "Pauli-$\\hat{X}$, Pauli-$\\hat{Y}$, Pauli-$\\hat{Z}$ & Pauli-$\\hat{I}$) multiplied \n",
    "by numerical coefficients.\n",
    "* a set of initial numerical parameters to substitute into the symbolic \n",
    "state-preparation circuit. For example, this can be a set of random numerical \n",
    "floating-point numbers.\n",
    "* the `pytket.backends.Backend` object to interface with the \n",
    "third-party quantum computing service. \n",
    "* the number of shots to simulate each circuit with to generate a distribution of measurements.\n",
    "* Maximum batch cost to limit the credit cost of the variational experiment.\n",
    "\n",
    "During the variational experiment, each iteration updates the numerical values in the parameter set. Subsequently, \n",
    "these are substituted into a new copy of the original symbolic state-preperation \n",
    "circuit. A set of sub-circuits, each containing measurement information defined by \n",
    "the input observable, are appended to the numerical state-preparation circuit, leading \n",
    "to a set of measurement circuits. Finally, these circuits are submitted to H-Series.\n",
    "\n",
    "Specifically, each iteration consists of: \n",
    "* classical pre-processing to define measurement circuits; \n",
    "* batch submission to H-Series;\n",
    "* retrieval of measurement results;\n",
    "* classical post-processing to evaluate the cost function \n",
    "determining whether to stop or continue the variational procedure.\n",
    "\n",
    "The `SciPy` minimiser is used to control the optimisation of the cost function. The minimised value of the cost function and the optimal parameters can be retrieved at the end of the variational experiment."
   ]
  },
  {
   "attachments": {},
   "cell_type": "markdown",
   "metadata": {},
   "source": [
    "**QuantinuumBackend**\n",
    "\n",
    "The `QuantinuumBackend` is used to submit and retreive all circuits required for the variational experiment. This backend is included in the `pytket-quantinuum` extension. With this backend, the end-user can access H-series emulators, syntax checkers and hardware. The QLLC user portal lists all devices and emulators the end-user can access.\n",
    "\n",
    "In  the code cell below, the instance of QuantinuumBackend uses the H-Series emulator, `H1-1E`. The H1 syntax checker is called `H1-1SC` and the device is name `H1-1`. The emulator is a useful utility to test and cost the performance of an algorithm before any hardware session. \n",
    "\n",
    "The `QuantinuumBackend` instance requires the user to be authenticated before any jobs can be submitted. The `login` method will allow authentication."
   ]
  },
  {
   "cell_type": "code",
   "execution_count": 1,
   "metadata": {},
   "outputs": [],
   "source": [
    "from pytket.extensions.quantinuum import QuantinuumBackend\n",
    "\n",
    "quantinuum_backend = QuantinuumBackend(device_name=\"H1-1E\")\n",
    "quantinuum_backend.login()"
   ]
  },
  {
   "attachments": {},
   "cell_type": "markdown",
   "metadata": {},
   "source": [
    "<b>Contents:</b>\n",
    "1. [Synthesise Symbolic State-Preparation Circuit](#state-prep)<br>\n",
    "2. [Hamiltonian Definition & Analysis](#hamiltonian)<br>\n",
    "3. [Computing Expectation Values](#expval)<br>\n",
    "4. [Variational Procedure with batches](#variational)<br>"
   ]
  },
  {
   "attachments": {},
   "cell_type": "markdown",
   "metadata": {},
   "source": [
    "## 1. Synthesise Symbolic State-Preparation Circuit <a class=\"anchor\" id=\"state-prep\"></a>"
   ]
  },
  {
   "attachments": {},
   "cell_type": "markdown",
   "metadata": {},
   "source": [
    "A 2-qubit circuit consisting of fixed-angle two-qubit `CX` gates (`pytket.circuit.OpType.CX`) \n",
    "and variable-angle one-qubit `Ry` gates (`pytket.circuit.OpType.Rz`). This state-preparation \n",
    "technique is known as the hardware-efficient ansatz. The hardware-efficient ansatz used in this \n",
    "example consists of one-layers (4-parameters) and only uses `Ry` gates. "
   ]
  },
  {
   "cell_type": "code",
   "execution_count": 2,
   "metadata": {},
   "outputs": [
    {
     "data": {
      "text/plain": [
       "[X q[0]; Ry(p1) q[1]; Ry(p0) q[0]; CX q[0], q[1]; Ry(p2) q[0]; Ry(p3) q[0]; ]"
      ]
     },
     "execution_count": 2,
     "metadata": {},
     "output_type": "execute_result"
    }
   ],
   "source": [
    "from pytket.circuit import Circuit\n",
    "from sympy import Symbol\n",
    "\n",
    "symbols = [Symbol(f\"p{i}\")for i in range(4)]\n",
    "symbolic_circuit = Circuit(2)\n",
    "\n",
    "symbolic_circuit.X(0)\n",
    "symbolic_circuit.Ry(symbols[0], 0).Ry(symbols[1], 1)\n",
    "symbolic_circuit.CX(0, 1)\n",
    "symbolic_circuit.Ry(symbols[2], 0).Ry(symbols[3], 0)"
   ]
  },
  {
   "attachments": {},
   "cell_type": "markdown",
   "metadata": {},
   "source": [
    "The symbolic state-preparation circuit can be visualised using the `pytket.circuit.display` submodule."
   ]
  },
  {
   "cell_type": "code",
   "execution_count": 3,
   "metadata": {},
   "outputs": [
    {
     "data": {
      "text/html": [
       "\n",
       "\n",
       "\n",
       "\n",
       "\n",
       "\n",
       "<div style=\"resize: vertical; overflow: auto; height: 400px; display: block\">\n",
       "    <iframe srcdoc=\"\n",
       "&lt;!DOCTYPE html&gt;\n",
       "&lt;html lang=&#34;en&#34;&gt;\n",
       "&lt;head&gt;\n",
       "    &lt;meta charset=&#34;UTF-8&#34;&gt;\n",
       "    &lt;!-- Download Vue 3--&gt;\n",
       "&lt;script type=&#34;application/javascript&#34; src=&#34;https://cdn.jsdelivr.net/npm/vue@3&#34;&gt;&lt;/script&gt;\n",
       "&lt;!-- Download Circuit Renderer with styles --&gt;\n",
       "&lt;script type=&#34;application/javascript&#34; src=&#34;https://unpkg.com/pytket-circuit-renderer@0.7/dist/pytket-circuit-renderer.umd.js&#34;&gt;&lt;/script&gt;\n",
       "&lt;link rel=&#34;stylesheet&#34; href=&#34;https://unpkg.com/pytket-circuit-renderer@0.7/dist/pytket-circuit-renderer.css&#34;&gt;\n",
       "&lt;/head&gt;\n",
       "&lt;body&gt;\n",
       "\n",
       "\n",
       "\n",
       "    &lt;div id=&#34;circuit-display-vue-container-e0889f80-4ecb-41c3-a289-0d6f18fdfd63&#34; class=&#34;pytket-circuit-display-container&#34;&gt;\n",
       "        &lt;div style=&#34;display: none&#34;&gt;\n",
       "            &lt;div id=&#34;circuit-json-to-display&#34;&gt;{&#34;bits&#34;: [], &#34;commands&#34;: [{&#34;args&#34;: [[&#34;q&#34;, [0]]], &#34;op&#34;: {&#34;type&#34;: &#34;X&#34;}}, {&#34;args&#34;: [[&#34;q&#34;, [1]]], &#34;op&#34;: {&#34;params&#34;: [&#34;p1&#34;], &#34;type&#34;: &#34;Ry&#34;}}, {&#34;args&#34;: [[&#34;q&#34;, [0]]], &#34;op&#34;: {&#34;params&#34;: [&#34;p0&#34;], &#34;type&#34;: &#34;Ry&#34;}}, {&#34;args&#34;: [[&#34;q&#34;, [0]], [&#34;q&#34;, [1]]], &#34;op&#34;: {&#34;type&#34;: &#34;CX&#34;}}, {&#34;args&#34;: [[&#34;q&#34;, [0]]], &#34;op&#34;: {&#34;params&#34;: [&#34;p2&#34;], &#34;type&#34;: &#34;Ry&#34;}}, {&#34;args&#34;: [[&#34;q&#34;, [0]]], &#34;op&#34;: {&#34;params&#34;: [&#34;p3&#34;], &#34;type&#34;: &#34;Ry&#34;}}], &#34;created_qubits&#34;: [], &#34;discarded_qubits&#34;: [], &#34;implicit_permutation&#34;: [[[&#34;q&#34;, [0]], [&#34;q&#34;, [0]]], [[&#34;q&#34;, [1]], [&#34;q&#34;, [1]]]], &#34;phase&#34;: &#34;0.0&#34;, &#34;qubits&#34;: [[&#34;q&#34;, [0]], [&#34;q&#34;, [1]]]}&lt;/div&gt;\n",
       "        &lt;/div&gt;\n",
       "        &lt;circuit-display-container\n",
       "                :circuit-element-str=&#34;&#39;#circuit-json-to-display&#39;&#34;\n",
       "                :init-render-options=&#34;initRenderOptions&#34;\n",
       "        &gt;&lt;/circuit-display-container&gt;\n",
       "    &lt;/div&gt;\n",
       "    &lt;script type=&#34;application/javascript&#34;&gt;\n",
       "      const circuitRendererUid = &#34;e0889f80-4ecb-41c3-a289-0d6f18fdfd63&#34;;\n",
       "      const displayOptions = JSON.parse(&#39;{}&#39;);\n",
       "\n",
       "      // Script to initialise the circuit renderer app\n",
       "\n",
       "const { createApp } = Vue;\n",
       "const circuitDisplayContainer = window[&#34;pytket-circuit-renderer&#34;].default;\n",
       "// Init variables to be shared between circuit display instances\n",
       "if (typeof window.pytketCircuitDisplays === &#34;undefined&#34;) {\n",
       "    window.pytketCircuitDisplays = {};\n",
       "}\n",
       "// Create the root Vue component\n",
       "const app = createApp({\n",
       "    delimiters: [&#39;[[#&#39;, &#39;#]]&#39;],\n",
       "    components: { circuitDisplayContainer },\n",
       "    data () {\n",
       "      return {\n",
       "        initRenderOptions: displayOptions,\n",
       "      }\n",
       "    }\n",
       "})\n",
       "app.config.unwrapInjectedRef = true;\n",
       "app.mount(&#34;#circuit-display-vue-container-&#34;+circuitRendererUid);\n",
       "window.pytketCircuitDisplays[circuitRendererUid] = app;\n",
       "    &lt;/script&gt;\n",
       "\n",
       "\n",
       "\n",
       "&lt;/body&gt;\n",
       "&lt;/html&gt;\n",
       "\"\n",
       "            width=\"100%\" height=\"100%\"\n",
       "            style=\"border: none; outline: none; overflow: auto\"></iframe>\n",
       "</div>\n",
       "\n"
      ],
      "text/plain": [
       "<IPython.core.display.HTML object>"
      ]
     },
     "metadata": {},
     "output_type": "display_data"
    }
   ],
   "source": [
    "from pytket.circuit.display import render_circuit_jupyter\n",
    "\n",
    "render_circuit_jupyter(symbolic_circuit)"
   ]
  },
  {
   "attachments": {},
   "cell_type": "markdown",
   "metadata": {},
   "source": [
    "This circuit can be compiled to a gate-set compatible with the H-Series devices and emulators, however the circuit cannot be submitted yet. We use the compilation pass `SynthesiseHQS()` from `pytket.passes` to change gate-set. Pre-compilation, the circuit consisted of `Ry` and `CX` gates. Post-compilation, the circuits consists of three fixed-angle two-qubit gate `ZZMax` (`OpType.ZZMax`) in addition to muitple variable-angle one-qubit gates: `PhasedX` (`OpType.PhasedX`) and `Rz` (`OpType.Rz`).\n",
    "\n",
    "A copy of the symbolic circuit is created to avoid modifying the original circuit, since compilation is inplace."
   ]
  },
  {
   "cell_type": "code",
   "execution_count": 4,
   "metadata": {},
   "outputs": [
    {
     "data": {
      "text/html": [
       "\n",
       "\n",
       "\n",
       "\n",
       "\n",
       "\n",
       "<div style=\"resize: vertical; overflow: auto; height: 400px; display: block\">\n",
       "    <iframe srcdoc=\"\n",
       "&lt;!DOCTYPE html&gt;\n",
       "&lt;html lang=&#34;en&#34;&gt;\n",
       "&lt;head&gt;\n",
       "    &lt;meta charset=&#34;UTF-8&#34;&gt;\n",
       "    &lt;!-- Download Vue 3--&gt;\n",
       "&lt;script type=&#34;application/javascript&#34; src=&#34;https://cdn.jsdelivr.net/npm/vue@3&#34;&gt;&lt;/script&gt;\n",
       "&lt;!-- Download Circuit Renderer with styles --&gt;\n",
       "&lt;script type=&#34;application/javascript&#34; src=&#34;https://unpkg.com/pytket-circuit-renderer@0.7/dist/pytket-circuit-renderer.umd.js&#34;&gt;&lt;/script&gt;\n",
       "&lt;link rel=&#34;stylesheet&#34; href=&#34;https://unpkg.com/pytket-circuit-renderer@0.7/dist/pytket-circuit-renderer.css&#34;&gt;\n",
       "&lt;/head&gt;\n",
       "&lt;body&gt;\n",
       "\n",
       "\n",
       "\n",
       "    &lt;div id=&#34;circuit-display-vue-container-06533c48-9128-4d85-bb38-5ffc86e24259&#34; class=&#34;pytket-circuit-display-container&#34;&gt;\n",
       "        &lt;div style=&#34;display: none&#34;&gt;\n",
       "            &lt;div id=&#34;circuit-json-to-display&#34;&gt;{&#34;bits&#34;: [], &#34;commands&#34;: [{&#34;args&#34;: [[&#34;q&#34;, [0]]], &#34;op&#34;: {&#34;params&#34;: [&#34;-2*atan2(-cos((1/2)*pi*p0), -sin((1/2)*pi*p0))/pi&#34;, &#34;1.5&#34;], &#34;type&#34;: &#34;PhasedX&#34;}}, {&#34;args&#34;: [[&#34;q&#34;, [1]]], &#34;op&#34;: {&#34;params&#34;: [&#34;p1&#34;, &#34;1/2&#34;], &#34;type&#34;: &#34;PhasedX&#34;}}, {&#34;args&#34;: [[&#34;q&#34;, [1]]], &#34;op&#34;: {&#34;params&#34;: [&#34;0.5&#34;, &#34;0&#34;], &#34;type&#34;: &#34;PhasedX&#34;}}, {&#34;args&#34;: [[&#34;q&#34;, [1]]], &#34;op&#34;: {&#34;params&#34;: [&#34;1.5&#34;], &#34;type&#34;: &#34;Rz&#34;}}, {&#34;args&#34;: [[&#34;q&#34;, [1]]], &#34;op&#34;: {&#34;params&#34;: [&#34;1.5&#34;, &#34;0&#34;], &#34;type&#34;: &#34;PhasedX&#34;}}, {&#34;args&#34;: [[&#34;q&#34;, [0]], [&#34;q&#34;, [1]]], &#34;op&#34;: {&#34;type&#34;: &#34;ZZMax&#34;}}, {&#34;args&#34;: [[&#34;q&#34;, [0]]], &#34;op&#34;: {&#34;params&#34;: [&#34;p2 + p3&#34;, &#34;0&#34;], &#34;type&#34;: &#34;PhasedX&#34;}}, {&#34;args&#34;: [[&#34;q&#34;, [1]]], &#34;op&#34;: {&#34;params&#34;: [&#34;1.5&#34;, &#34;0&#34;], &#34;type&#34;: &#34;PhasedX&#34;}}, {&#34;args&#34;: [[&#34;q&#34;, [0]]], &#34;op&#34;: {&#34;params&#34;: [&#34;1/2&#34;], &#34;type&#34;: &#34;Rz&#34;}}, {&#34;args&#34;: [[&#34;q&#34;, [1]]], &#34;op&#34;: {&#34;params&#34;: [&#34;1.5&#34;], &#34;type&#34;: &#34;Rz&#34;}}], &#34;created_qubits&#34;: [], &#34;discarded_qubits&#34;: [], &#34;implicit_permutation&#34;: [[[&#34;q&#34;, [0]], [&#34;q&#34;, [0]]], [[&#34;q&#34;, [1]], [&#34;q&#34;, [1]]]], &#34;phase&#34;: &#34;0.25&#34;, &#34;qubits&#34;: [[&#34;q&#34;, [0]], [&#34;q&#34;, [1]]]}&lt;/div&gt;\n",
       "        &lt;/div&gt;\n",
       "        &lt;circuit-display-container\n",
       "                :circuit-element-str=&#34;&#39;#circuit-json-to-display&#39;&#34;\n",
       "                :init-render-options=&#34;initRenderOptions&#34;\n",
       "        &gt;&lt;/circuit-display-container&gt;\n",
       "    &lt;/div&gt;\n",
       "    &lt;script type=&#34;application/javascript&#34;&gt;\n",
       "      const circuitRendererUid = &#34;06533c48-9128-4d85-bb38-5ffc86e24259&#34;;\n",
       "      const displayOptions = JSON.parse(&#39;{}&#39;);\n",
       "\n",
       "      // Script to initialise the circuit renderer app\n",
       "\n",
       "const { createApp } = Vue;\n",
       "const circuitDisplayContainer = window[&#34;pytket-circuit-renderer&#34;].default;\n",
       "// Init variables to be shared between circuit display instances\n",
       "if (typeof window.pytketCircuitDisplays === &#34;undefined&#34;) {\n",
       "    window.pytketCircuitDisplays = {};\n",
       "}\n",
       "// Create the root Vue component\n",
       "const app = createApp({\n",
       "    delimiters: [&#39;[[#&#39;, &#39;#]]&#39;],\n",
       "    components: { circuitDisplayContainer },\n",
       "    data () {\n",
       "      return {\n",
       "        initRenderOptions: displayOptions,\n",
       "      }\n",
       "    }\n",
       "})\n",
       "app.config.unwrapInjectedRef = true;\n",
       "app.mount(&#34;#circuit-display-vue-container-&#34;+circuitRendererUid);\n",
       "window.pytketCircuitDisplays[circuitRendererUid] = app;\n",
       "    &lt;/script&gt;\n",
       "\n",
       "\n",
       "\n",
       "&lt;/body&gt;\n",
       "&lt;/html&gt;\n",
       "\"\n",
       "            width=\"100%\" height=\"100%\"\n",
       "            style=\"border: none; outline: none; overflow: auto\"></iframe>\n",
       "</div>\n",
       "\n"
      ],
      "text/plain": [
       "<IPython.core.display.HTML object>"
      ]
     },
     "metadata": {},
     "output_type": "display_data"
    }
   ],
   "source": [
    "from pytket.passes import SynthesiseHQS\n",
    "\n",
    "pass_hqs = SynthesiseHQS()\n",
    "symbolic_circuit1 = symbolic_circuit.copy()\n",
    "pass_hqs.apply(symbolic_circuit1)\n",
    "render_circuit_jupyter(symbolic_circuit1)"
   ]
  },
  {
   "attachments": {},
   "cell_type": "markdown",
   "metadata": {},
   "source": [
    "## 2. Hamiltonian Definition and Analysis <a class=\"anchor\" id=\"hamiltonian\"></a>"
   ]
  },
  {
   "attachments": {},
   "cell_type": "markdown",
   "metadata": {},
   "source": [
    "A problem hamiltonian is define using the `pytket.utils.operator.QubitPauliOperator` class. Each `QubitPauliOperator` consists of complex coefficients and tensor products of Pauli-operations. The tensor products are referred to as Pauli-strings.\n",
    "\n",
    "This particular Hamiltonian consists of 5 terms operating on qubits `q[0]` and `q[1]`. The problem Hamiltonian, $\\hat{H}$, is defined as,\n",
    "\n",
    "$\\hat{H} = g_0 \\hat{I}_{q[0]} \\otimes \\hat{I}_{q[1]} + g_1 \\hat{Z}_{q[0]} \\otimes \\hat{I}_{q[1]}$\n",
    "$+ g_2 \\hat{I}_{q[0]} \\otimes \\hat{Z}_{q[1]} + g_3 \\hat{Z}_{q[0]} \\otimes \\hat{Z}_{q[1]}$\n",
    "$+ g_4 \\hat{X}_{q[0]} \\otimes \\hat{X}_{q[1]} + g_5 \\hat{Y}_{q[0]} \\otimes \\hat{Y}_{q[1]}$\n",
    "\n",
    "where $g_0, g_1, g_2$, $g_3$, $g_4$ and $g_5$ are real numercial coefficients."
   ]
  },
  {
   "attachments": {},
   "cell_type": "markdown",
   "metadata": {},
   "source": [
    "The `QubitPauliOperator` is a dictionary mapping `pytket.pauli.QubitPauliString` to a complex coefficient. These coefficients are sympified (converted from python `complex` types to sympy `complex` types). \n",
    "\n",
    "The `QubitPauliString` is a map from `pytket.circuit.Qubit` to `pytket.pauli.Pauli`."
   ]
  },
  {
   "cell_type": "code",
   "execution_count": 5,
   "metadata": {},
   "outputs": [
    {
     "name": "stdout",
     "output_type": "stream",
     "text": [
      "{(Iq[0], Iq[1]): -0.480400000000000, (Zq[0], Iq[1]): 0.343500000000000, (Iq[0], Zq[1]): -0.434700000000000, (Zq[0], Zq[1]): 0.571600000000000, (Xq[0], Xq[1]): 0.0910000000000000, (Yq[0], Yq[1]): 0.0910000000000000}\n"
     ]
    }
   ],
   "source": [
    "from pytket.utils.operators import QubitPauliOperator\n",
    "from pytket.pauli import Pauli, QubitPauliString\n",
    "from pytket.circuit import Qubit\n",
    "\n",
    "from numpy.random import randint\n",
    "\n",
    "\n",
    "coeffs = [-0.4804, 0.3435, -0.4347, 0.5716, 0.0910, 0.0910]\n",
    "\n",
    "term0 = {QubitPauliString({\n",
    "    Qubit(0): Pauli.I,\n",
    "    Qubit(1): Pauli.I,\n",
    "}): coeffs[0]}\n",
    "\n",
    "term1 = {QubitPauliString({\n",
    "    Qubit(0): Pauli.Z,\n",
    "    Qubit(1): Pauli.I\n",
    "}): coeffs[1]}\n",
    "\n",
    "term2 = {QubitPauliString({\n",
    "    Qubit(0): Pauli.I,\n",
    "    Qubit(1): Pauli.Z\n",
    "}): coeffs[2]}\n",
    "\n",
    "term3 = {QubitPauliString({\n",
    "    Qubit(0): Pauli.Z,\n",
    "    Qubit(1): Pauli.Z\n",
    "}): coeffs[3]}\n",
    "\n",
    "term4 = {QubitPauliString({\n",
    "    Qubit(0): Pauli.X,\n",
    "    Qubit(1): Pauli.X\n",
    "}): coeffs[4]}\n",
    "\n",
    "term5 = {QubitPauliString({\n",
    "    Qubit(0): Pauli.Y,\n",
    "    Qubit(1): Pauli.Y\n",
    "}): coeffs[5]}\n",
    "\n",
    "term_sum = {}\n",
    "term_sum.update(term0)\n",
    "term_sum.update(term1)\n",
    "term_sum.update(term2)\n",
    "term_sum.update(term3)\n",
    "term_sum.update(term4)\n",
    "term_sum.update(term5)\n",
    "\n",
    "\n",
    "hamiltonian = QubitPauliOperator(term_sum)\n",
    "print(hamiltonian)"
   ]
  },
  {
   "attachments": {},
   "cell_type": "markdown",
   "metadata": {},
   "source": [
    "To measure $\\hat{H}$ on hardware, naively 5 measurement circuits are required. The \n",
    "Identity term does not need to measured, since its expectation value always equals 1. \n",
    "\n",
    "With pytket, $\\hat{H}$ only requires simulating 2 measurement circuit, thanks to \n",
    "measurement reduction. The four terms $\\hat{X}_{q[0]} \\otimes \\hat{X}_{q[1]}$, \n",
    "$\\hat{Y}_{q[0]} \\otimes \\hat{Y}_{q[1]}$, $\\hat{Z}_{q[0]} \\otimes \\hat{Z}_{q[1]}$, $\\hat{Z}_{q[0]} \\otimes \\hat{Z}_{q[1]}$ and $\\hat{I}_{q[0]} \\otimes \\hat{Z}_{q[1]}$,\n",
    "form a commuting set and can be measured with two circuit instead of three. This partitioning can \n",
    "be performed automatically using the `measurement_reduction` function available in \n",
    "`pytket.partition` submodule. \n",
    "\n",
    "The measurement operations for the two commuting set, \n",
    "* $\\left\\{ \\hat{X}_{q[0]} \\otimes \\hat{X}_{q[1]}, \\hat{Y}_{q[0]} \\otimes \\hat{Y}_{q[1]} \\right\\}$, \n",
    "* $\\left\\{ \\hat{Z}_{q[0]} \\otimes \\hat{Z}_{q[1]}, \\hat{Z}_{q[0]} \\otimes \\hat{I}_{q[1]}, \\hat{I}_{q[0]} \\otimes \\hat{Z}_{q[1]}\\right\\}$\n",
    "\n",
    "include additional two-qubit gate resources."
   ]
  },
  {
   "cell_type": "code",
   "execution_count": 6,
   "metadata": {},
   "outputs": [],
   "source": [
    "from pytket.partition import (\n",
    "    measurement_reduction,\n",
    "    PauliPartitionStrat,\n",
    ")\n",
    "\n",
    "strat = PauliPartitionStrat.CommutingSets\n",
    "\n",
    "pauli_strings = [term for term in hamiltonian._dict.keys()]\n",
    "\n",
    "measurement_setup = measurement_reduction(pauli_strings, strat)"
   ]
  },
  {
   "attachments": {},
   "cell_type": "markdown",
   "metadata": {},
   "source": [
    "A measurement subcircuit contains the necessary operations to \n",
    "measure the terms in a commuting set. The subcircuit is appended to the numerical state-preparation \n",
    "circuit. Combining the numerical state-preparation circuit and the measurement subcircuits results \n",
    "in a set of measurement circuits required to solve the problem.\n",
    "\n",
    "The `MeasurementSetup` instance contains all the necessary sub-circuits to measure $\\hat{H}$.\n",
    "\n",
    "The next code cell lists and visualises all measurement subcircuits."
   ]
  },
  {
   "cell_type": "code",
   "execution_count": 7,
   "metadata": {},
   "outputs": [
    {
     "data": {
      "text/html": [
       "\n",
       "\n",
       "\n",
       "\n",
       "\n",
       "\n",
       "<div style=\"resize: vertical; overflow: auto; height: 400px; display: block\">\n",
       "    <iframe srcdoc=\"\n",
       "&lt;!DOCTYPE html&gt;\n",
       "&lt;html lang=&#34;en&#34;&gt;\n",
       "&lt;head&gt;\n",
       "    &lt;meta charset=&#34;UTF-8&#34;&gt;\n",
       "    &lt;!-- Download Vue 3--&gt;\n",
       "&lt;script type=&#34;application/javascript&#34; src=&#34;https://cdn.jsdelivr.net/npm/vue@3&#34;&gt;&lt;/script&gt;\n",
       "&lt;!-- Download Circuit Renderer with styles --&gt;\n",
       "&lt;script type=&#34;application/javascript&#34; src=&#34;https://unpkg.com/pytket-circuit-renderer@0.7/dist/pytket-circuit-renderer.umd.js&#34;&gt;&lt;/script&gt;\n",
       "&lt;link rel=&#34;stylesheet&#34; href=&#34;https://unpkg.com/pytket-circuit-renderer@0.7/dist/pytket-circuit-renderer.css&#34;&gt;\n",
       "&lt;/head&gt;\n",
       "&lt;body&gt;\n",
       "\n",
       "\n",
       "\n",
       "    &lt;div id=&#34;circuit-display-vue-container-20db074b-f334-4152-ba4a-776668fd9a22&#34; class=&#34;pytket-circuit-display-container&#34;&gt;\n",
       "        &lt;div style=&#34;display: none&#34;&gt;\n",
       "            &lt;div id=&#34;circuit-json-to-display&#34;&gt;{&#34;bits&#34;: [[&#34;c&#34;, [0]], [&#34;c&#34;, [1]]], &#34;commands&#34;: [{&#34;args&#34;: [[&#34;q&#34;, [0]], [&#34;c&#34;, [0]]], &#34;op&#34;: {&#34;type&#34;: &#34;Measure&#34;}}, {&#34;args&#34;: [[&#34;q&#34;, [1]], [&#34;c&#34;, [1]]], &#34;op&#34;: {&#34;type&#34;: &#34;Measure&#34;}}], &#34;created_qubits&#34;: [], &#34;discarded_qubits&#34;: [], &#34;implicit_permutation&#34;: [[[&#34;q&#34;, [0]], [&#34;q&#34;, [0]]], [[&#34;q&#34;, [1]], [&#34;q&#34;, [1]]]], &#34;phase&#34;: &#34;0.0&#34;, &#34;qubits&#34;: [[&#34;q&#34;, [0]], [&#34;q&#34;, [1]]]}&lt;/div&gt;\n",
       "        &lt;/div&gt;\n",
       "        &lt;circuit-display-container\n",
       "                :circuit-element-str=&#34;&#39;#circuit-json-to-display&#39;&#34;\n",
       "                :init-render-options=&#34;initRenderOptions&#34;\n",
       "        &gt;&lt;/circuit-display-container&gt;\n",
       "    &lt;/div&gt;\n",
       "    &lt;script type=&#34;application/javascript&#34;&gt;\n",
       "      const circuitRendererUid = &#34;20db074b-f334-4152-ba4a-776668fd9a22&#34;;\n",
       "      const displayOptions = JSON.parse(&#39;{}&#39;);\n",
       "\n",
       "      // Script to initialise the circuit renderer app\n",
       "\n",
       "const { createApp } = Vue;\n",
       "const circuitDisplayContainer = window[&#34;pytket-circuit-renderer&#34;].default;\n",
       "// Init variables to be shared between circuit display instances\n",
       "if (typeof window.pytketCircuitDisplays === &#34;undefined&#34;) {\n",
       "    window.pytketCircuitDisplays = {};\n",
       "}\n",
       "// Create the root Vue component\n",
       "const app = createApp({\n",
       "    delimiters: [&#39;[[#&#39;, &#39;#]]&#39;],\n",
       "    components: { circuitDisplayContainer },\n",
       "    data () {\n",
       "      return {\n",
       "        initRenderOptions: displayOptions,\n",
       "      }\n",
       "    }\n",
       "})\n",
       "app.config.unwrapInjectedRef = true;\n",
       "app.mount(&#34;#circuit-display-vue-container-&#34;+circuitRendererUid);\n",
       "window.pytketCircuitDisplays[circuitRendererUid] = app;\n",
       "    &lt;/script&gt;\n",
       "\n",
       "\n",
       "\n",
       "&lt;/body&gt;\n",
       "&lt;/html&gt;\n",
       "\"\n",
       "            width=\"100%\" height=\"100%\"\n",
       "            style=\"border: none; outline: none; overflow: auto\"></iframe>\n",
       "</div>\n",
       "\n"
      ],
      "text/plain": [
       "<IPython.core.display.HTML object>"
      ]
     },
     "metadata": {},
     "output_type": "display_data"
    },
    {
     "data": {
      "text/html": [
       "\n",
       "\n",
       "\n",
       "\n",
       "\n",
       "\n",
       "<div style=\"resize: vertical; overflow: auto; height: 400px; display: block\">\n",
       "    <iframe srcdoc=\"\n",
       "&lt;!DOCTYPE html&gt;\n",
       "&lt;html lang=&#34;en&#34;&gt;\n",
       "&lt;head&gt;\n",
       "    &lt;meta charset=&#34;UTF-8&#34;&gt;\n",
       "    &lt;!-- Download Vue 3--&gt;\n",
       "&lt;script type=&#34;application/javascript&#34; src=&#34;https://cdn.jsdelivr.net/npm/vue@3&#34;&gt;&lt;/script&gt;\n",
       "&lt;!-- Download Circuit Renderer with styles --&gt;\n",
       "&lt;script type=&#34;application/javascript&#34; src=&#34;https://unpkg.com/pytket-circuit-renderer@0.7/dist/pytket-circuit-renderer.umd.js&#34;&gt;&lt;/script&gt;\n",
       "&lt;link rel=&#34;stylesheet&#34; href=&#34;https://unpkg.com/pytket-circuit-renderer@0.7/dist/pytket-circuit-renderer.css&#34;&gt;\n",
       "&lt;/head&gt;\n",
       "&lt;body&gt;\n",
       "\n",
       "\n",
       "\n",
       "    &lt;div id=&#34;circuit-display-vue-container-b5ffdfb3-5e6d-4d41-beda-a23891dba408&#34; class=&#34;pytket-circuit-display-container&#34;&gt;\n",
       "        &lt;div style=&#34;display: none&#34;&gt;\n",
       "            &lt;div id=&#34;circuit-json-to-display&#34;&gt;{&#34;bits&#34;: [[&#34;c&#34;, [0]], [&#34;c&#34;, [1]]], &#34;commands&#34;: [{&#34;args&#34;: [[&#34;q&#34;, [0]], [&#34;q&#34;, [1]]], &#34;op&#34;: {&#34;type&#34;: &#34;CX&#34;}}, {&#34;args&#34;: [[&#34;q&#34;, [1]], [&#34;c&#34;, [1]]], &#34;op&#34;: {&#34;type&#34;: &#34;Measure&#34;}}, {&#34;args&#34;: [[&#34;q&#34;, [0]]], &#34;op&#34;: {&#34;type&#34;: &#34;H&#34;}}, {&#34;args&#34;: [[&#34;q&#34;, [0]], [&#34;c&#34;, [0]]], &#34;op&#34;: {&#34;type&#34;: &#34;Measure&#34;}}], &#34;created_qubits&#34;: [], &#34;discarded_qubits&#34;: [], &#34;implicit_permutation&#34;: [[[&#34;q&#34;, [0]], [&#34;q&#34;, [0]]], [[&#34;q&#34;, [1]], [&#34;q&#34;, [1]]]], &#34;phase&#34;: &#34;0.0&#34;, &#34;qubits&#34;: [[&#34;q&#34;, [0]], [&#34;q&#34;, [1]]]}&lt;/div&gt;\n",
       "        &lt;/div&gt;\n",
       "        &lt;circuit-display-container\n",
       "                :circuit-element-str=&#34;&#39;#circuit-json-to-display&#39;&#34;\n",
       "                :init-render-options=&#34;initRenderOptions&#34;\n",
       "        &gt;&lt;/circuit-display-container&gt;\n",
       "    &lt;/div&gt;\n",
       "    &lt;script type=&#34;application/javascript&#34;&gt;\n",
       "      const circuitRendererUid = &#34;b5ffdfb3-5e6d-4d41-beda-a23891dba408&#34;;\n",
       "      const displayOptions = JSON.parse(&#39;{}&#39;);\n",
       "\n",
       "      // Script to initialise the circuit renderer app\n",
       "\n",
       "const { createApp } = Vue;\n",
       "const circuitDisplayContainer = window[&#34;pytket-circuit-renderer&#34;].default;\n",
       "// Init variables to be shared between circuit display instances\n",
       "if (typeof window.pytketCircuitDisplays === &#34;undefined&#34;) {\n",
       "    window.pytketCircuitDisplays = {};\n",
       "}\n",
       "// Create the root Vue component\n",
       "const app = createApp({\n",
       "    delimiters: [&#39;[[#&#39;, &#39;#]]&#39;],\n",
       "    components: { circuitDisplayContainer },\n",
       "    data () {\n",
       "      return {\n",
       "        initRenderOptions: displayOptions,\n",
       "      }\n",
       "    }\n",
       "})\n",
       "app.config.unwrapInjectedRef = true;\n",
       "app.mount(&#34;#circuit-display-vue-container-&#34;+circuitRendererUid);\n",
       "window.pytketCircuitDisplays[circuitRendererUid] = app;\n",
       "    &lt;/script&gt;\n",
       "\n",
       "\n",
       "\n",
       "&lt;/body&gt;\n",
       "&lt;/html&gt;\n",
       "\"\n",
       "            width=\"100%\" height=\"100%\"\n",
       "            style=\"border: none; outline: none; overflow: auto\"></iframe>\n",
       "</div>\n",
       "\n"
      ],
      "text/plain": [
       "<IPython.core.display.HTML object>"
      ]
     },
     "metadata": {},
     "output_type": "display_data"
    }
   ],
   "source": [
    "from pytket.circuit.display import render_circuit_jupyter\n",
    "\n",
    "for measurement_subcircuit in measurement_setup.measurement_circs:\n",
    "    render_circuit_jupyter(measurement_subcircuit)"
   ]
  },
  {
   "attachments": {},
   "cell_type": "markdown",
   "metadata": {},
   "source": [
    "Once the quantum computation has been completed, the measurement results can be mapped back to the \n",
    "Pauli-operations and coefficients in the Hamiltonian. This enables calculation of the expectation value for the Hamiltonian.\n",
    "\n",
    "The results attribute in the `pytket.partition.MeasurementSetup` lists: \n",
    "* all the Pauli-strings that have been measured;\n",
    "* information to process the quantum computed measurement result in order \n",
    "to estimate the expectation value of each Pauli-strings."
   ]
  },
  {
   "cell_type": "code",
   "execution_count": 8,
   "metadata": {},
   "outputs": [
    {
     "name": "stdout",
     "output_type": "stream",
     "text": [
      "(Yq[0], Yq[1])\t[Circuit index: 1\n",
      "Bits: 0 1 \n",
      "Invert: True]\n",
      "\n",
      "(Xq[0], Xq[1])\t[Circuit index: 1\n",
      "Bits: 0 \n",
      "Invert: False]\n",
      "\n",
      "(Zq[0], Zq[1])\t[Circuit index: 0\n",
      "Bits: 0 1 \n",
      "Invert: False]\n",
      "\n",
      "(Zq[0], Iq[1])\t[Circuit index: 0\n",
      "Bits: 0 \n",
      "Invert: False]\n",
      "\n",
      "(Iq[0], Zq[1])\t[Circuit index: 0\n",
      "Bits: 1 \n",
      "Invert: False]\n",
      "\n",
      "(Iq[0], Iq[1])\t[Circuit index: 0\n",
      "Bits: \n",
      "Invert: False]\n",
      "\n"
     ]
    }
   ],
   "source": [
    "for i, (term, bitmap_list) in enumerate(measurement_setup.results.items()):\n",
    "    print(f\"{term}\\t{bitmap_list}\\n\")"
   ]
  },
  {
   "attachments": {},
   "cell_type": "markdown",
   "metadata": {},
   "source": [
    "## 3. Computing Expectation Values <a class=\"anchor\" id=\"expval\"></a>"
   ]
  },
  {
   "attachments": {},
   "cell_type": "markdown",
   "metadata": {},
   "source": [
    "Once the Hamiltonian has been partitioned into commuting sets, \n",
    "measurement circuits need to be constructed. These measurement \n",
    "circuits are submitted to hardware or emulators for simulation. \n",
    "Once the simulation is complete, a result is available to request, \n",
    "and can be retrieved using `pytket`. These results are the outcomes \n",
    "of the measurement circuit simulation. Each result is a \n",
    "distribution of outcomes, specifically, the probability of \n",
    "observing  specific bitstring. This distribution is \n",
    "post-processed to compute the expectation value of the Hamiltonian, \n",
    "a necessity to evaluate the cost function in a Hybrid \n",
    "Quantum-Classical variational procedure."
   ]
  },
  {
   "attachments": {},
   "cell_type": "markdown",
   "metadata": {},
   "source": [
    "### 3.1 Computing Expectation Values for Pauli-Strings"
   ]
  },
  {
   "attachments": {},
   "cell_type": "markdown",
   "metadata": {},
   "source": [
    "The Hamiltonian we are interested in consists of Pauli-strings. \n",
    "The expectation value of the Pauli-string is in the interval $[-1, 1]$.\n",
    "\n",
    "In the code cell below, a function is provided that calculates the expectation \n",
    "value of Pauli-string from a measured distribution. The MeasurementBitmap is \n",
    "used to extract the necessary data from the measured distribution. The resulting \n",
    "distribution can be summed over to estimate the expectation value of one \n",
    "Pauli-string."
   ]
  },
  {
   "cell_type": "code",
   "execution_count": 9,
   "metadata": {},
   "outputs": [],
   "source": [
    "from typing import Dict, Tuple\n",
    "from pytket.partition import MeasurementBitMap\n",
    "\n",
    "def compute_expectation_paulistring(\n",
    "    distribution: Dict[Tuple[int, ...], float],\n",
    "    bitmap: MeasurementBitMap\n",
    ") -> float:\n",
    "    value = 0\n",
    "    for bitstring, probability in distribution.items():\n",
    "        value += probability * (sum(bitstring[i] for i in bitmap.bits) % 2)\n",
    "    return ((-1) ** bitmap.invert) * (-2 * value + 1)"
   ]
  },
  {
   "attachments": {},
   "cell_type": "markdown",
   "metadata": {},
   "source": [
    "In the example below, the function `compute_expectation_paulistring` is called to calculate the expectation for \n",
    "the $\\hat{Z} \\otimes \\hat{Z}$. First the `QubitPauliString` is initialised, and that is used to extract the relevant \n",
    "data from the MeasurementSetup object defined in section 2. This data is used for postprocessing."
   ]
  },
  {
   "cell_type": "code",
   "execution_count": 10,
   "metadata": {},
   "outputs": [
    {
     "name": "stdout",
     "output_type": "stream",
     "text": [
      "0.5\n"
     ]
    }
   ],
   "source": [
    "from pytket.pauli import Pauli, QubitPauliString\n",
    "from pytket.circuit import Qubit\n",
    "\n",
    "distribution = {\n",
    "    (0, 0): 0.45, \n",
    "    (1, 1): 0.3,\n",
    "    (0, 1): 0.1,\n",
    "    (1, 0): 0.15 \n",
    "}\n",
    "\n",
    "zz = QubitPauliString([Qubit(0), Qubit(1)], [Pauli.Z, Pauli.Z])\n",
    "\n",
    "bitmap_list = measurement_setup.results.get(zz)\n",
    "\n",
    "for bitmap in bitmap_list:\n",
    "    ev = compute_expectation_paulistring(distribution, bitmap)\n",
    "    print(ev)"
   ]
  },
  {
   "attachments": {},
   "cell_type": "markdown",
   "metadata": {},
   "source": [
    "### 3.2 Computing Expectation Values for sums of Pauli-strings multiplied by coefficients"
   ]
  },
  {
   "attachments": {},
   "cell_type": "markdown",
   "metadata": {},
   "source": [
    "In this step, we will submit circuits to the H-Series emulator (H1-1E). This circuit will produce a result. The result \n",
    "can be retrieved with the `ResultHandle` object.\n",
    "\n",
    "First, the symbolic circuit is converted into a numerical circuit. The symbols in the circuit are substituted for \n",
    "numerical parameters."
   ]
  },
  {
   "cell_type": "code",
   "execution_count": 11,
   "metadata": {},
   "outputs": [],
   "source": [
    "symbol_map = {sym: 0.1 for sym in symbolic_circuit.free_symbols()}\n",
    "numerical_circuit = symbolic_circuit.copy()\n",
    "numerical_circuit.symbol_substitution(symbol_map)"
   ]
  },
  {
   "attachments": {},
   "cell_type": "markdown",
   "metadata": {},
   "source": [
    "### 3.3 Using QuantinuumBackend"
   ]
  },
  {
   "attachments": {},
   "cell_type": "markdown",
   "metadata": {},
   "source": [
    "The Quantinuum backend was initialised at the start of the notebook to use the H1-1E emulator. This backend will now be used to calculate the expectation value."
   ]
  },
  {
   "attachments": {},
   "cell_type": "markdown",
   "metadata": {},
   "source": [
    "The measurement operations from the `MeasurementSetup` object are appended to the \n",
    "numerical circuit. Once this step is complete, the circuit is ready for submission \n",
    "if tket optimisation in the H-Series stack is selected."
   ]
  },
  {
   "cell_type": "code",
   "execution_count": 12,
   "metadata": {},
   "outputs": [],
   "source": [
    "circuit_list = []\n",
    "for mc in measurement_setup.measurement_circs:\n",
    "    c = numerical_circuit.copy()\n",
    "    c.append(mc)\n",
    "    circuit_list += [c]\n",
    "\n",
    "compiled_circuit_list = quantinuum_backend.get_compiled_circuits(circuit_list, optimisation_level=2)\n",
    "handles = quantinuum_backend.process_circuits(compiled_circuit_list, n_shots=10, options={\"tket-op-level\": None})"
   ]
  },
  {
   "attachments": {},
   "cell_type": "markdown",
   "metadata": {},
   "source": [
    "The status of the jobs can be checked with ciruit_status method. This method requires the \n",
    "ResultHandle to be passed as input. In this example, the job has completed and the results \n",
    "are reported as being ready to request."
   ]
  },
  {
   "cell_type": "code",
   "execution_count": 13,
   "metadata": {},
   "outputs": [
    {
     "name": "stdout",
     "output_type": "stream",
     "text": [
      "CircuitStatus(status=<StatusEnum.QUEUED: 'Circuit is queued.'>, message='{\"name\": \"job\", \"submit-date\": \"2023-10-31T13:01:16.819106\", \"result-date\": null, \"queue-position\": null, \"cost\": \"5.068\", \"error\": null}', error_detail=None, completed_time=None, queued_time=None, submitted_time=None, running_time=None, cancelled_time=None, error_time=None, queue_position=None)\n",
      "CircuitStatus(status=<StatusEnum.QUEUED: 'Circuit is queued.'>, message='{\"name\": \"job\", \"submit-date\": \"2023-10-31T13:01:17.170005\", \"result-date\": null, \"queue-position\": null, \"cost\": null, \"error\": null}', error_detail=None, completed_time=None, queued_time=None, submitted_time=None, running_time=None, cancelled_time=None, error_time=None, queue_position=None)\n"
     ]
    }
   ],
   "source": [
    "for h in handles:\n",
    "    circuit_status = quantinuum_backend.circuit_status(h)\n",
    "    print(circuit_status)"
   ]
  },
  {
   "attachments": {},
   "cell_type": "markdown",
   "metadata": {},
   "source": [
    "The expectation value of the operator can be evaluated \n",
    "with the function `compute_expectation_value` in the \n",
    "next code cell. This function requires a list of \n",
    "`BackendResult` objects, a `MeasurementSetup` instance, \n",
    "and the `QubitPauliOperator` instance for the expectation \n",
    "value computation. It is assumed the `MeasurementSetup` \n",
    "instance contains the measurement info of all the \n",
    "Pauli-strings in the `QubitPauliOperator` instance. \n",
    "Otherwise the `compute_expectation_value` function will \n",
    "return zero."
   ]
  },
  {
   "cell_type": "code",
   "execution_count": 14,
   "metadata": {},
   "outputs": [],
   "source": [
    "from typing import List\n",
    "\n",
    "from pytket.utils.operators import QubitPauliOperator\n",
    "from pytket.partition import MeasurementSetup\n",
    "from pytket.backends.backendresult import BackendResult\n",
    "\n",
    "\n",
    "def compute_expectation_value(\n",
    "    results: List[BackendResult],\n",
    "    measurement_setup: MeasurementSetup,\n",
    "    operator: QubitPauliOperator\n",
    ") -> float:\n",
    "    energy = 0\n",
    "    for pauli_string, bitmaps in measurement_setup.results.items():\n",
    "        string_coeff = operator.get(pauli_string, 0.0)\n",
    "        if string_coeff > 0:\n",
    "            for bm in bitmaps:\n",
    "                index = bm.circ_index\n",
    "                distribution = results[index].get_distribution()\n",
    "                value = compute_expectation_paulistring(distribution, bm)\n",
    "                energy += complex(value * string_coeff).real\n",
    "    return energy"
   ]
  },
  {
   "attachments": {},
   "cell_type": "markdown",
   "metadata": {},
   "source": [
    "The results of the previously submitted circuits can be \n",
    "retrieved with the `get_results` method on `QuantinuumBackend`."
   ]
  },
  {
   "cell_type": "code",
   "execution_count": 15,
   "metadata": {},
   "outputs": [],
   "source": [
    "results = quantinuum_backend.get_results(handles)"
   ]
  },
  {
   "attachments": {},
   "cell_type": "markdown",
   "metadata": {},
   "source": [
    "Finally, the expectation value, $\\langle{\\psi (\\vec{\\theta}_r)} | \\hat{H} | { \\psi (\\vec{\\theta}_r)} \\rangle$, of the `QubitPauliOperator` instance, $\\hat{H}$, is calculated with respect to $| { \\psi (\\vec{\\theta}_r)} \\rangle$. The state, $| \\psi \\rangle$, is prepared with the state-preparation circuit, and $\\vec{\\theta}_r$ is a random parameter set."
   ]
  },
  {
   "cell_type": "code",
   "execution_count": 16,
   "metadata": {},
   "outputs": [
    {
     "name": "stdout",
     "output_type": "stream",
     "text": [
      "Expectation Value: 0.23298\n"
     ]
    }
   ],
   "source": [
    "expectation_value = compute_expectation_value(\n",
    "    results,\n",
    "    measurement_setup,\n",
    "    hamiltonian\n",
    ")\n",
    "print(f\"Expectation Value: {expectation_value}\")"
   ]
  },
  {
   "attachments": {},
   "cell_type": "markdown",
   "metadata": {},
   "source": [
    "## 4. Variational Procedure <a class=\"anchor\" id=\"variational\"></a>"
   ]
  },
  {
   "cell_type": "markdown",
   "metadata": {},
   "source": [
    "A hybrid quantum-classical variational procedure consists \n",
    "of multiple iterations, controlled by a \n",
    "classical parameter optimiser. The parameters are \n",
    "gate-angles on quantum circuits submitted to \n",
    "H-Series for simulation. \n",
    "\n",
    "In [step 3](#expval), a procedure is showcased to calculate \n",
    "the expectation value of a Hamiltonian with respect to a \n",
    "quantum state. It is show how to use the measurement reduction \n",
    "and Pauli-string partitioning facility in `pytket` to reduce \n",
    "measurement resources for the experiments. For the variational \n",
    "procedure demonstrated below, the cost function calculates the \n",
    "expectation of an input Hamiltonian. The aim is to find the \n",
    "optimal parameters that minimise this expectation value."
   ]
  },
  {
   "attachments": {},
   "cell_type": "markdown",
   "metadata": {},
   "source": [
    "### 4.1. Objective function"
   ]
  },
  {
   "attachments": {},
   "cell_type": "markdown",
   "metadata": {},
   "source": [
    "The `Objective` class defined in the code cell performs the following utilities:\n",
    "* Measurement Reduction;\n",
    "* Creation of a Batch session to use across the variational experiment;\n",
    "* Submission and retrieval of quantum circuits using QuantinuumBackend;\n",
    "* Expectation Value evaluation.\n",
    "\n",
    "The `Objective` class requires the following inputs:\n",
    "* Input symbolic state-preparation circuit;\n",
    "* A `QubitPauliOperator` instance of the Hamiltonian characterising the \n",
    "use-case of interest;\n",
    "* The backend to use. `QuantinuumBackend` is used to \n",
    "access H-Series service. The backend needs to be \n",
    "instantiated and the user needs to login within previous code cell.\n",
    "* Number of shots to perform per circuit. H-Series devices have an \n",
    "upper limit of 10000 shots per job.\n",
    "* Maximum consumable HQC credit before the batch is terminated.\n",
    "* Number of iterations before the variational experiment is terminated.\n",
    "\n",
    "The `Objective` class instance can be passed as a callable to `scipy.optimize.minimize`."
   ]
  },
  {
   "cell_type": "code",
   "execution_count": 17,
   "metadata": {},
   "outputs": [],
   "source": [
    "from typing import Callable\n",
    "\n",
    "from numpy import ndarray\n",
    "from numpy.random import random_sample\n",
    "\n",
    "from pytket.extensions.quantinuum import QuantinuumBackend\n",
    "from pytket.partition import PauliPartitionStrat\n",
    "from pytket.backends.resulthandle import ResultHandle\n",
    "\n",
    "\n",
    "class Objective:\n",
    "    def __init__(\n",
    "        self, \n",
    "        symbolic_circuit: Circuit, \n",
    "        problem_hamiltonian: QubitPauliOperator,\n",
    "        quantinuum_backend: QuantinuumBackend,\n",
    "        n_shots_per_circuit: int,\n",
    "        max_batch_cost: float = 300,\n",
    "        n_iterations: int = 10,\n",
    "    ) -> None:\n",
    "        r\"\"\" Returns the objective function needed for a variational \n",
    "        procedure on H-Series.\n",
    "        Args:\n",
    "            symbolic_circuit \n",
    "            (pytket.circuit.Circuit): State-preparation\n",
    "                circuit with symbolic parameters\n",
    "            problem_hamiltonian (pytket.utils.operators.QubitPauliOperator): \n",
    "                QubitPauliOperator instance defining the Hamiltonian of the \n",
    "                problem.\n",
    "            quantinuum_backend (pytket.extensions.quantinuum.QuantinuumBackend): Backend \n",
    "                instance to use for the simulation. This will be \n",
    "                QuantinuumBackend from the pytket.extensions.quantinuum \n",
    "                package to run experiments on H-Series devices and emulators.\n",
    "            n_shots_per_circuit (int): Number of shots per circuit.\n",
    "            max_batch_cost (float): Maximum cost of all jobs in batch. If \n",
    "                exceeded the batch will terminate.\n",
    "            n_iterations (int): Total number of iterations before ending \n",
    "                the batch session.\n",
    "        Returns:\n",
    "            Callable[[ndarray], float]\n",
    "        \"\"\"\n",
    "        terms = [term for term in problem_hamiltonian._dict.keys()]\n",
    "        self._symbolic_circuit: Circuit = symbolic_circuit\n",
    "        self._hamiltonian: QubitPauliOperator = problem_hamiltonian\n",
    "        self._backend: QuantinuumBackend = quantinuum_backend\n",
    "        self._nshots: int = n_shots_per_circuit\n",
    "        self._max_batch_cost: float = max_batch_cost\n",
    "        self._measurement_setup: MeasurementSetup = measurement_reduction(\n",
    "            terms, \n",
    "            strat=PauliPartitionStrat.CommutingSets\n",
    "        )\n",
    "        self._iteration_number: int = 0\n",
    "        self._niters: int = n_iterations\n",
    "\n",
    "    def __call__(\n",
    "        self, \n",
    "        parameter: ndarray\n",
    "    ) -> float:\n",
    "        value = self._objective_function(parameter, self._iteration_number)\n",
    "        self._iteration_number += 1\n",
    "        if self._iteration_number >= self._niters:\n",
    "            self._iteration_number = 0\n",
    "        return value\n",
    "    \n",
    "    def circuit_cost(\n",
    "        self, \n",
    "        syntax_checker: str = \"H1-1SC\"\n",
    "    ) -> float:\n",
    "        n = len(self._symbolic_circuit.free_symbols())\n",
    "        random_parameters = random_sample(n)\n",
    "        return sum([\n",
    "            self._backend.cost(c, self._nshots, syntax_checker=syntax_checker)\n",
    "            for c in self._build_circuits(random_parameters)\n",
    "        ])\n",
    "\n",
    "    def _objective_function(\n",
    "        self,\n",
    "        parameters: ndarray,\n",
    "        iteration_number: int,\n",
    "    ) -> float:\n",
    "        r\"\"\"Substitutes input parameters into the \n",
    "        symbolic state-preparation circuit, and \n",
    "        calculates the expectation value.\n",
    "        Args:\n",
    "            parameters (ndarray): A list of numpy.ndarray \n",
    "        Returns:\n",
    "            float\n",
    "        \"\"\"\n",
    "        assert len(parameters) == len(self._symbolic_circuit.free_symbols())\n",
    "        circuit_list = self._build_circuits(parameters)\n",
    "        if iteration_number == 0:\n",
    "            self._startjob = quantinuum_backend.start_batch(\n",
    "                self._max_batch_cost, \n",
    "                circuit_list[0], \n",
    "                self._nshots\n",
    "            )\n",
    "            handles = [self._startjob] + self._submit_batch(circuit_list[1:])\n",
    "        else:\n",
    "            handles = self._submit_batch(circuit_list)\n",
    "        results = self._backend.get_results(handles)\n",
    "        expval = compute_expectation_value(\n",
    "            results, \n",
    "            self._measurement_setup, \n",
    "            self._hamiltonian\n",
    "        )\n",
    "        return expval\n",
    "    \n",
    "    def _build_circuits(\n",
    "        self, \n",
    "        parameters: ndarray\n",
    "    ) -> List[Circuit]:\n",
    "        circuit = self._symbolic_circuit.copy()\n",
    "        symbol_dict = {s: p for s, p in zip(circuit.free_symbols(), parameters)}\n",
    "        circuit.symbol_substitution(symbol_dict)\n",
    "        circuit_list = []\n",
    "        for mc in self._measurement_setup.measurement_circs:\n",
    "            c = circuit.copy()\n",
    "            c.append(mc)\n",
    "            circuit_list.append(c)\n",
    "        cc_list = self._backend.get_compiled_circuits(circuit_list, optimisation_level=2)\n",
    "        return cc_list \n",
    "        \n",
    "    def _submit_batch(\n",
    "        self,\n",
    "        circuits: List[Circuit],\n",
    "    ) -> List[ResultHandle]:\n",
    "        r\"\"\"Submit a list of circuits with N shots each \n",
    "        to the H-Series batch.\n",
    "        Args:\n",
    "            circuits (List[Circuit]): A list of circuits \n",
    "                to submit to the batch on H-Series.\n",
    "            first job (ResultHandle): The result handle for the \n",
    "                first job submitted in the batch.\n",
    "        Returns:\n",
    "            List[ResultHandle]\n",
    "        \"\"\"\n",
    "        return [\n",
    "            self._backend.add_to_batch(self._startjob, c, self._nshots, options={\"tket-op-level\": None})\n",
    "            for c in circuits\n",
    "        ]"
   ]
  },
  {
   "attachments": {},
   "cell_type": "markdown",
   "metadata": {},
   "source": [
    "The `Objective` class is initialised with the essential data needed to perform the variational experiment.\n",
    "\n",
    "The object contains all the necessary information to compute the value of the objective function.\n",
    "\n",
    "A convenience method `circuit_cost` can be used to estimate the total number of HQC credits required to estimate the objective function. The variational loop will be multiple's of this value (number of function calls across the variational procedure multiplied by the HQC credit cost of evaluating the objective function)."
   ]
  },
  {
   "cell_type": "code",
   "execution_count": 26,
   "metadata": {},
   "outputs": [],
   "source": [
    "n_shots_per_circuit = 1000\n",
    "n_iterations = 10\n",
    "max_batch_cost = 500\n",
    "\n",
    "objective = Objective(\n",
    "    symbolic_circuit,\n",
    "    hamiltonian,\n",
    "    quantinuum_backend,\n",
    "    n_shots_per_circuit,\n",
    "    max_batch_cost=max_batch_cost,\n",
    "    n_iterations=n_iterations\n",
    ")"
   ]
  },
  {
   "cell_type": "code",
   "execution_count": 27,
   "metadata": {},
   "outputs": [
    {
     "data": {
      "text/plain": [
       "23.6"
      ]
     },
     "execution_count": 27,
     "metadata": {},
     "output_type": "execute_result"
    }
   ],
   "source": [
    "objective.circuit_cost(\"H1-1SC\")"
   ]
  },
  {
   "attachments": {},
   "cell_type": "markdown",
   "metadata": {},
   "source": [
    "### 4.2. Execute the Objective Function"
   ]
  },
  {
   "attachments": {},
   "cell_type": "markdown",
   "metadata": {},
   "source": [
    "The SciPy minimiser is used to optimise the value of the objective function. Initial parameters are pseudo-random. Passing the `Objective` instance into `scipy.optimize.minimize` will start the variational experiment.\n",
    "\n",
    "The first iteration creates a batch session, and all subsequent circuit submission are added to this batch. If additional circuits are not submitted within 10 minutes, the batch session will terminate."
   ]
  },
  {
   "cell_type": "code",
   "execution_count": 28,
   "metadata": {},
   "outputs": [],
   "source": [
    "from scipy.optimize import minimize\n",
    "from numpy.random import random_sample\n",
    "\n",
    "method = \"SLSQP\"\n",
    "initial_parameters = random_sample(len(symbolic_circuit.free_symbols()))\n",
    "result = minimize(\n",
    "    objective, \n",
    "    initial_parameters, \n",
    "    method=method, \n",
    "    options={\"disp\": True, \"maxiter\": objective._niters},\n",
    "    tol=1e-2\n",
    ")"
   ]
  },
  {
   "attachments": {},
   "cell_type": "markdown",
   "metadata": {},
   "source": [
    "The minimal value of the objective function can be retrieved with the `fun` attribute."
   ]
  },
  {
   "cell_type": "code",
   "execution_count": 24,
   "metadata": {},
   "outputs": [
    {
     "data": {
      "text/plain": [
       "-0.48566220000000004"
      ]
     },
     "execution_count": 24,
     "metadata": {},
     "output_type": "execute_result"
    }
   ],
   "source": [
    "result.fun"
   ]
  },
  {
   "attachments": {},
   "cell_type": "markdown",
   "metadata": {},
   "source": [
    "The optimal parameters can be retreived with the `x` attribute."
   ]
  },
  {
   "cell_type": "code",
   "execution_count": 25,
   "metadata": {},
   "outputs": [
    {
     "data": {
      "text/plain": [
       "array([ 1.75391324,  0.50202129, -0.05137163,  0.65076389])"
      ]
     },
     "execution_count": 25,
     "metadata": {},
     "output_type": "execute_result"
    }
   ],
   "source": [
    "result.x"
   ]
  },
  {
   "attachments": {},
   "cell_type": "markdown",
   "metadata": {},
   "source": [
    "<div align=\"center\"> &copy; 2023 by Quantinuum. All Rights Reserved. </div>"
   ]
  }
 ],
 "metadata": {
  "kernelspec": {
   "display_name": ".venv",
   "language": "python",
   "name": "python3"
  },
  "language_info": {
   "codemirror_mode": {
    "name": "ipython",
    "version": 3
   },
   "file_extension": ".py",
   "mimetype": "text/x-python",
   "name": "python",
   "nbconvert_exporter": "python",
   "pygments_lexer": "ipython3",
   "version": "3.10.6"
  },
  "orig_nbformat": 4
 },
 "nbformat": 4,
 "nbformat_minor": 2
}
