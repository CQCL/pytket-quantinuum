{
 "cells": [
  {
   "cell_type": "markdown",
   "metadata": {},
   "source": [
    "<div style=\"text-align: center;\"><br>\n",
    "<img src=\"https://assets-global.website-files.com/62b9d45fb3f64842a96c9686/62d84db4aeb2f6552f3a2f78_Quantinuum%20Logo__horizontal%20blue.svg\" width=\"200\" height=\"200\" /></div>"
   ]
  },
  {
   "cell_type": "markdown",
   "metadata": {},
   "source": [
    "# Circuit Stitching"
   ]
  },
  {
   "cell_type": "markdown",
   "metadata": {},
   "source": [
    "Circuit stitching enables end-users to minimize H-System Quantum Credits (HQCs) consumption for experiments consisting of multiple jobs. is a workflow to \"stitch\" multiple jobs into 1 job using the Mid-Circuit Measurement & Reset (MCMR) feature. Stitching involves appending circuits depth-wise and width-wise (across the qubit register). There are two components to cost jobs in terms of HQCs:\n",
    "\n",
    "1. a +5 contribution for each job submitted to H-Series;\n",
    "2. a job-specific cost accounting for the number of gate operations and shots.\n",
    "\n",
    "\\begin{equation}\n",
    "HQC = 5 + \\frac{C}{5000} \\left( N_{1q} + 10 N_{2q} + 5 N_m \\right)\n",
    "\\end{equation}\n",
    "\n",
    "<div style=\"text-align: center;\">\n",
    "    <img src=\"figures/circuit_stitching_figure_1.png\" width=\"1600\" />\n",
    "</div>\n",
    "\n",
    "The schematic above shows a basic stitching workflow. Instead of submitting multiple jobs to the H-Series device, the number of jobs can be minimized by stitching circuits together depth-wise. If the number of qubits needed is smaller than number of device qubits, then circuits can be stitched in parallel, across the qubit register. To ensure optimal performance, the following guidelines must be followed: \n",
    "\n",
    "* TKET programs of size ~1 MB;\n",
    "* less then 10,000 2-qubit gate operations;\n",
    "* a total cost of less then 30 HQCs;\n",
    "* less than a specifc number of classical registers, defined on a per-device basis;\n",
    "* contain classical registers with a width below a device-specific threshold."
   ]
  },
  {
   "cell_type": "markdown",
   "metadata": {},
   "source": [
    "**Contents:**\n",
    "* [GHZ State Preparation](#GHZ-State-Preparation)\n",
    "* [Circuit Stitching](#Circuit-Stitching)\n",
    "* [Job Costing and Submission](#Job-Costing-and-Submission)\n",
    "* [Result Destitching](#Result-Destitching)\n",
    "* [Conclusion](#Conclusion)"
   ]
  },
  {
   "cell_type": "markdown",
   "metadata": {},
   "source": [
    "## GHZ State Preparation"
   ]
  },
  {
   "cell_type": "markdown",
   "metadata": {},
   "source": [
    "The $N$-qubit GHZ state preparation, using the definition,\n",
    "\n",
    "\\begin{equation}\n",
    "| {GHZ}_N \\rangle = \\frac{1}{\\sqrt{2}} \\left( {| 0 \\rangle}^{\\bigotimes N} + {| 1 \\rangle}^{\\bigotimes N} \\right),\n",
    "\\end{equation}\n",
    "\n",
    "where $N=5$."
   ]
  },
  {
   "cell_type": "code",
   "execution_count": 180,
   "metadata": {},
   "outputs": [],
   "source": [
    "from pytket.circuit import Circuit\n",
    "\n",
    "n_qubits = 5\n",
    "circ = Circuit(n_qubits)\n",
    "circ.H(0)\n",
    "for i in range(n_qubits-1):\n",
    "    circ.CX(i,i+1)"
   ]
  },
  {
   "cell_type": "markdown",
   "metadata": {},
   "source": [
    "The functions below generate the measurement circuits necessary to measure the GHZ state fidelity.\n",
    "\n",
    "* `generate_population_circuit`: Generates a $N$-qubit circuit measuring the GHZ state in the computational basis.\n",
    "* `generate_parity_circuits`: Generates $N$-sets of $N$-qubit circuits, each with all qubits measuring the GHZ state in the $X$-$Y$ plane."
   ]
  },
  {
   "cell_type": "code",
   "execution_count": 299,
   "metadata": {},
   "outputs": [],
   "source": [
    "from typing import Tuple, List\n",
    "from pytket.circuit import Circuit\n",
    "\n",
    "def generate_population_circuit(\n",
    "    ghz_circuit: Circuit,\n",
    ") -> Circuit:\n",
    "    circuit = ghz_circuit.copy()\n",
    "    circuit.add_barrier(circuit.qubits)\n",
    "    circuit.measure_all()\n",
    "    return circuit\n",
    "\n",
    "def generate_parity_circuits(\n",
    "    ghz_circuit: Circuit,\n",
    ") -> Tuple[List[Circuit], List[float]]:\n",
    "    circuits = []\n",
    "    angles = []\n",
    "    for k in range(1, ghz_circuit.n_qubits + 1):\n",
    "        circuit = ghz_circuit.copy()\n",
    "        angle = k / ghz_circuit.n_qubits\n",
    "        for q in circuit.qubits:\n",
    "            circuit.Rz(-angle, q)\n",
    "            circuit.Ry(-0.5, q)\n",
    "        circuit.measure_all()\n",
    "        circuits += [circuit]\n",
    "        angles += [angle]\n",
    "    return circuits, angles"
   ]
  },
  {
   "cell_type": "code",
   "execution_count": 201,
   "metadata": {},
   "outputs": [],
   "source": [
    "population_circuit = generate_population_circuit(circ)\n",
    "parity_circuit_list, angles = generate_parity_circuits(circ)"
   ]
  },
  {
   "cell_type": "markdown",
   "metadata": {},
   "source": [
    "## Circuit Stitching"
   ]
  },
  {
   "cell_type": "markdown",
   "metadata": {},
   "source": [
    "An instance of the `QuantinuumBackend` is contructed and authenticated. This instance contains a `BackendInfo` attribute that reports useful device properties, such as maximum number of qubits, maximum number of classical bit registers and the maximum allowed width of any classical bit register."
   ]
  },
  {
   "cell_type": "code",
   "execution_count": 183,
   "metadata": {},
   "outputs": [],
   "source": [
    "from pytket.extensions.quantinuum import QuantinuumBackend\n",
    "\n",
    "backend = QuantinuumBackend(device_name=\"H1-1E\")\n",
    "backend.login()"
   ]
  },
  {
   "cell_type": "markdown",
   "metadata": {},
   "source": [
    "The `circuit_stitching` method requires a list of circuits as input, in addition to a BackendInfo instance. The method will parallelise the circuits across the qubit register (stitch width-wise) and then stitch the circuits depth-wise. The `BackendInfo` instance informs the method on how many circuits can be parallelised. The method assumes that all circuits inputted as a list, have the same number of qubits."
   ]
  },
  {
   "cell_type": "code",
   "execution_count": 223,
   "metadata": {},
   "outputs": [],
   "source": [
    "from typing import List, Dict, Tuple\n",
    "\n",
    "import numpy as np\n",
    "\n",
    "from pytket.circuit import Circuit, CircBox, Qubit, BitRegister\n",
    "from pytket.backends.backendinfo import BackendInfo\n",
    "\n",
    "\n",
    "def reset_operations(\n",
    "    n_qubits: int\n",
    ") -> CircBox:\n",
    "    r\"\"\"Generate a n-qubit CircBox instance containing OpType.Reset operations.\n",
    "\n",
    "    :param n_qubits: Number of qubits used in the CircBox instance\n",
    "    :param_type int:\n",
    "    :returns: CircBox\n",
    "    \"\"\"\n",
    "    circuit = Circuit(n_qubits)\n",
    "    circuit.name = \"Reset\"\n",
    "    for q in circuit.qubits:\n",
    "        circuit.Reset(q)\n",
    "    return CircBox(circuit)\n",
    "\n",
    "\n",
    "def _add_circuit(\n",
    "    circuit_instance: Circuit,\n",
    "    circbox: CircBox,\n",
    "    index: int,\n",
    "    qubits: List[Qubit],\n",
    "    resetbox: CircBox = None\n",
    "):\n",
    "    creg = circuit_instance.add_c_register(f\"creg_{index}\", len(qubits))\n",
    "    circuit_instance.add_circbox(circbox, qubits + list(creg))\n",
    "    if resetbox:\n",
    "        circuit_instance.add_circbox(resetbox, qubits)\n",
    "\n",
    "\n",
    "def circuit_stitching(\n",
    "    input_circuits: List[Circuit], \n",
    "    backend_info: BackendInfo,\n",
    ") -> Tuple[Circuit, Dict[int, BitRegister]]:\n",
    "    r\"\"\"Generate a stitched circuit based on a list of input circuits. The circuit is \n",
    "    stitched width-wise and then depth-wise.\n",
    "\n",
    "    :param input_circuit: Circuit instance to stitch `n` times.\n",
    "    :param backend_info: BackendInfo instance containing information on number \n",
    "        of device qubits, number of allowed classical register and maximum width \n",
    "        for each classical register.\n",
    "    :returns: Circuit\n",
    "    \"\"\"\n",
    "    if all(input_circuits[0] == c for c in input_circuits[1:]):\n",
    "        raise ValueError(\"All circuits should have the same number of qubits.\")\n",
    "    n_qubits_device = backend_info.architecture.nodes\n",
    "    p = np.floor_divide(len(n_qubits_device), input_circuits[0].n_qubits)\n",
    "    num_c_reg = 0\n",
    "    circuit = Circuit(len(n_qubits_device))\n",
    "    reset_box = reset_operations(input_circuits[0].n_qubits)\n",
    "\n",
    "    circuits_list = [[] for _ in range(p)]\n",
    "    for i, circ in enumerate(input_circuits):\n",
    "        j = i % p\n",
    "        circuits_list[j] += [circ]\n",
    "\n",
    "    for k, circuits in enumerate(circuits_list):\n",
    "        for i, c in enumerate(circuits):\n",
    "            circ = c.copy()\n",
    "            circ.name = f\"box_{num_c_reg}\"\n",
    "            a = i * circ.n_qubits\n",
    "            b = (i + 1) * circ.n_qubits\n",
    "            qubits = circuit.qubits[a: b]\n",
    "            if k == len(circuits_list) - 1:\n",
    "                reset_box = None\n",
    "            _add_circuit(circuit, CircBox(circ), num_c_reg, qubits, resetbox=reset_box)\n",
    "            num_c_reg += 1\n",
    "    return circuit"
   ]
  },
  {
   "cell_type": "markdown",
   "metadata": {},
   "source": [
    "The `circuit_stitching method` is used to stitch the 5-qubit GHZ population circuit and 5 GHZ parity circuits."
   ]
  },
  {
   "cell_type": "code",
   "execution_count": 224,
   "metadata": {},
   "outputs": [],
   "source": [
    "input_circuits = [population_circuit] + parity_circuit_list\n",
    "stitched_circuit = circuit_stitching(input_circuits, backend.backend_info, parallelize_across_register=True)"
   ]
  },
  {
   "cell_type": "markdown",
   "metadata": {},
   "source": [
    "The resulting circuit contains 6 distinct classical registers. Each classical register corresponds to a subcircuit in the stitched circuit."
   ]
  },
  {
   "cell_type": "code",
   "execution_count": 218,
   "metadata": {},
   "outputs": [],
   "source": [
    "registers = stitched_circuit.c_registers\n",
    "registers.sort(key=lambda a: int(a.name.split(\"_\")[-1]))"
   ]
  },
  {
   "cell_type": "code",
   "execution_count": 300,
   "metadata": {},
   "outputs": [
    {
     "name": "stdout",
     "output_type": "stream",
     "text": [
      "[BitRegister(\"creg_0\", 5), BitRegister(\"creg_1\", 5), BitRegister(\"creg_2\", 5), BitRegister(\"creg_3\", 5), BitRegister(\"creg_4\", 5), BitRegister(\"creg_5\", 5)]\n"
     ]
    }
   ],
   "source": [
    "print(registers)"
   ]
  },
  {
   "cell_type": "markdown",
   "metadata": {},
   "source": [
    "The classical registers are required to post-process the result after H-Series execution is complete. The classical register information should be saved to `JSON`, enabling this information to be used across python sessions. The ordering of the classical registers needs to preserved in JSON format, and the a record should be kept of the name and size of each classical register."
   ]
  },
  {
   "cell_type": "code",
   "execution_count": 225,
   "metadata": {},
   "outputs": [],
   "source": [
    "import json\n",
    "\n",
    "register_data = {reg.name: reg.size for reg in registers}\n",
    "\n",
    "with open(\"stitched_registers.json\", \"w\") as json_io:\n",
    "    json.dump(register_data, json_io)"
   ]
  },
  {
   "cell_type": "markdown",
   "metadata": {},
   "source": [
    "## Costing Analysis"
   ]
  },
  {
   "cell_type": "markdown",
   "metadata": {},
   "source": [
    "The stitched circuit is compiled to use the native H-Series gateset. The individual circuits, used to construct the stitched circuit, are also compiled for the costing analysis. "
   ]
  },
  {
   "cell_type": "code",
   "execution_count": 303,
   "metadata": {},
   "outputs": [],
   "source": [
    "compiled_stitched_circuit = backend.get_compiled_circuit(stitched_circuit, optimisation_level=2)\n",
    "compiled_circuits = backend.get_compiled_circuits([population_circuit] + parity_circuit_list, optimisation_level=2)"
   ]
  },
  {
   "cell_type": "markdown",
   "metadata": {},
   "source": [
    "The all circuits will be submitted and costed with 100 shots each."
   ]
  },
  {
   "cell_type": "code",
   "execution_count": 306,
   "metadata": {},
   "outputs": [],
   "source": [
    "n_shots = 100"
   ]
  },
  {
   "cell_type": "markdown",
   "metadata": {},
   "source": [
    "The function below calculates the HQC cost of a circuit, based on the number of operations and number of shots. As mentioned previously, there is a +5 overhead for each new job submitted to H-Series for execution."
   ]
  },
  {
   "cell_type": "code",
   "execution_count": 304,
   "metadata": {},
   "outputs": [],
   "source": [
    "from pytket.circuit import Circuit, OpType\n",
    "from pytket.backends.backendinfo import BackendInfo\n",
    "\n",
    "\n",
    "def _cost(\n",
    "    circuit: Circuit,\n",
    "    n_shots: int\n",
    ") -> int:\n",
    "    r\"\"\"Local estimation of HQCs (H-System Quantum Credits) \n",
    "    needed to execute stitched circuit.\n",
    "\n",
    "    :param circuit: circuit instance.\n",
    "    :returns: int\n",
    "    \"\"\"\n",
    "    n1q = circuit.n_1qb_gates()\n",
    "    n2q = circuit.n_2qb_gates()\n",
    "    nm = circuit.n_gates_of_type(OpType.Measure)\n",
    "    return n_shots/5000 * (n1q + 10 * n2q + 5 * nm) + 5"
   ]
  },
  {
   "cell_type": "markdown",
   "metadata": {},
   "source": [
    "Each measurement circuit approximately requires 40 HQCs, but the stitched circuit requires only 15 HQCs. By stitching the measurement circuits, an 2.5x decrease is observed in the required number of HQCs. "
   ]
  },
  {
   "cell_type": "code",
   "execution_count": 312,
   "metadata": {},
   "outputs": [
    {
     "data": {
      "text/plain": [
       "39.32000000000001"
      ]
     },
     "execution_count": 312,
     "metadata": {},
     "output_type": "execute_result"
    }
   ],
   "source": [
    "sum(_cost(c, n_shots) for c in compiled_circuits)"
   ]
  },
  {
   "cell_type": "code",
   "execution_count": 313,
   "metadata": {},
   "outputs": [
    {
     "data": {
      "text/plain": [
       "14.32"
      ]
     },
     "execution_count": 313,
     "metadata": {},
     "output_type": "execute_result"
    }
   ],
   "source": [
    "_cost(compiled_stitched_circuit, n_shots)"
   ]
  },
  {
   "cell_type": "markdown",
   "metadata": {},
   "source": [
    "The function below verifies the stitched circuit satisfies the various performance constraints before submission to H-Series:\n",
    "\n",
    "* less then 10,000 2-qubit gate operations;\n",
    "* a total cost of less then 30 HQCs;\n",
    "* less than a specifc number of classical registers, defined on a per-device basis;\n",
    "* contain classical registers with a width below a device-specific threshold."
   ]
  },
  {
   "cell_type": "code",
   "execution_count": null,
   "metadata": {},
   "outputs": [],
   "source": [
    "def verify_stitched_circuit(\n",
    "    circuit: Circuit,\n",
    "    n_shots: int,\n",
    "    backend_info: BackendInfo\n",
    ") -> Tuple[bool, Dict[str, float | int]]:\n",
    "    \"\"\"Verify the stitched circuit satisfies basic \n",
    "    constraints before submission to H-Series.\n",
    "\n",
    "    :param circuit: `Circuit` instance to stitch `n` times.\n",
    "    :param backend_info: `BackendInfo` instance containing information on number \n",
    "        of device qubits, number of allowed classical register and maximum width \n",
    "        for each classical register.\n",
    "    :returns: bool\n",
    "    \"\"\"\n",
    "    check = True\n",
    "    data = {}\n",
    "    data[\"cost\"] = [_cost(circuit, n_shots), 30]\n",
    "    data[\"n_2qb_gates\"] = [circuit.n_2qb_gates(), 10000]\n",
    "    data[\"c_registers\"] = [len(circuit.c_registers), backend_info.n_cl_reg]\n",
    "    data[\"max_cl_reg_width\"] = [max([a.size for a in circuit.c_registers]), backend_info.get_misc(\"cl_reg_width\")]\n",
    "\n",
    "    if _cost(circuit, n_shots) > 30:\n",
    "        check = False\n",
    "    if circuit.n_2qb_gates() > 10000:\n",
    "        check = False\n",
    "    if len(circuit.c_registers) > backend_info.n_cl_reg:\n",
    "        check = False\n",
    "    if all(a.size > backend_info.get_misc(\"cl_reg_width\") for a in circuit.c_registers):\n",
    "        check = False\n",
    "        \n",
    "    return check, data"
   ]
  },
  {
   "cell_type": "markdown",
   "metadata": {},
   "source": [
    "The method returns a boolean and a dictionary. The boolean determines whether the stitched circuit satisfies the performance constraints before submission (True is success). The dictionary reports the cost, two-qubit gate count, number of classical registers and maximum size across all classical registers. In addition, the limit for each property is reported."
   ]
  },
  {
   "cell_type": "code",
   "execution_count": 314,
   "metadata": {},
   "outputs": [
    {
     "name": "stdout",
     "output_type": "stream",
     "text": [
      "True\n",
      "{'cost': [14.32, 30], 'n_2qb_gates': [24, 10000], 'c_registers': [6, 120], 'max_cl_reg_width': [5, 32]}\n"
     ]
    }
   ],
   "source": [
    "check, data = verify_stitched_circuit(compiled_stitched_circuit, 100, backend.backend_info)\n",
    "print(check)\n",
    "print(data)"
   ]
  },
  {
   "cell_type": "markdown",
   "metadata": {},
   "source": [
    "`QuantinuumBackend` can be used to cost the stitched circuit as well. This will be similar to the estimate above."
   ]
  },
  {
   "cell_type": "code",
   "execution_count": 276,
   "metadata": {},
   "outputs": [
    {
     "name": "stdout",
     "output_type": "stream",
     "text": [
      "17.78\n"
     ]
    }
   ],
   "source": [
    "cost_hqc = backend.cost(compiled_stitched_circuit, n_shots=100, syntax_checker=\"H1-1SC\")\n",
    "print(cost_hqc)"
   ]
  },
  {
   "cell_type": "markdown",
   "metadata": {},
   "source": [
    "`QuantinuumBackend` is used to submit the circuit for execution to H-Series."
   ]
  },
  {
   "cell_type": "code",
   "execution_count": 290,
   "metadata": {},
   "outputs": [],
   "source": [
    "handle = backend.process_circuit(compiled_stitched_circuit, n_shots=100)"
   ]
  },
  {
   "cell_type": "markdown",
   "metadata": {},
   "source": [
    "## Result Destitching"
   ]
  },
  {
   "cell_type": "markdown",
   "metadata": {},
   "source": [
    "`QuantinuumBackend` is used to check the status of the stitched circuit job."
   ]
  },
  {
   "cell_type": "code",
   "execution_count": 292,
   "metadata": {},
   "outputs": [
    {
     "data": {
      "text/plain": [
       "CircuitStatus(status=<StatusEnum.COMPLETED: 'Circuit has completed. Results are ready.'>, message='{\"name\": \"job\", \"submit-date\": \"2024-08-22T17:18:28.109559\", \"result-date\": \"2024-08-22T17:18:45.585046\", \"queue-position\": null, \"cost\": \"17.78\", \"error\": null}', error_detail=None, completed_time=None, queued_time=None, submitted_time=None, running_time=None, cancelled_time=None, error_time=None, queue_position=None)"
      ]
     },
     "execution_count": 292,
     "metadata": {},
     "output_type": "execute_result"
    }
   ],
   "source": [
    "backend.circuit_status(handle)"
   ]
  },
  {
   "cell_type": "markdown",
   "metadata": {},
   "source": [
    "`QuantinuumBackend` can be used to retrieve the result from the backend."
   ]
  },
  {
   "cell_type": "code",
   "execution_count": 294,
   "metadata": {},
   "outputs": [],
   "source": [
    "result = backend.get_result(handle)"
   ]
  },
  {
   "cell_type": "markdown",
   "metadata": {},
   "source": [
    "The register JSON is opended and loaded into this jupyter session."
   ]
  },
  {
   "cell_type": "code",
   "execution_count": 295,
   "metadata": {},
   "outputs": [],
   "source": [
    "import json\n",
    "\n",
    "with open(\"stitched_registers.json\", \"r\") as json_io:\n",
    "    register_data = json.load(json_io)"
   ]
  },
  {
   "cell_type": "markdown",
   "metadata": {},
   "source": [
    "The JSON data is used to instiate a list of `BitRegister` instances."
   ]
  },
  {
   "cell_type": "code",
   "execution_count": 296,
   "metadata": {},
   "outputs": [],
   "source": [
    "from pytket.circuit import BitRegister\n",
    "\n",
    "register_list = [BitRegister(name, size) for name, size in register_data.items()]"
   ]
  },
  {
   "cell_type": "markdown",
   "metadata": {},
   "source": [
    "The result for the stitched circuit needs to be *destitched* into effective measurement results for each individual circuit."
   ]
  },
  {
   "cell_type": "code",
   "execution_count": 297,
   "metadata": {},
   "outputs": [],
   "source": [
    "from pytket.backends.backendresult import BackendResult\n",
    "from pytket.utils.outcomearray import OutcomeArray\n",
    "\n",
    "destitched_results = []\n",
    "for reg in register_list:\n",
    "    outcome_array = OutcomeArray.from_readouts(result.get_shots(reg))\n",
    "    destitched_results += [BackendResult(shots=outcome_array)]"
   ]
  },
  {
   "cell_type": "markdown",
   "metadata": {},
   "source": [
    "The dictionaries below report the effective measurement result for each individual measurement circuit. The effective measurement result is matches the ordering of the measurement circuits as inputted into the `circuit_stitching` function."
   ]
  },
  {
   "cell_type": "code",
   "execution_count": 298,
   "metadata": {},
   "outputs": [
    {
     "name": "stdout",
     "output_type": "stream",
     "text": [
      "{(0, 0, 0, 0, 0): 0.47, (1, 1, 1, 1, 1): 0.53}\n",
      "{(0, 0, 0, 0, 0): 0.1, (0, 0, 0, 0, 1): 0.01, (0, 0, 0, 1, 1): 0.05, (0, 0, 1, 0, 1): 0.07, (0, 0, 1, 1, 0): 0.07, (0, 1, 0, 0, 1): 0.05, (0, 1, 0, 1, 0): 0.07, (0, 1, 1, 0, 0): 0.04, (0, 1, 1, 1, 1): 0.06, (1, 0, 0, 0, 1): 0.06, (1, 0, 0, 1, 0): 0.04, (1, 0, 1, 0, 0): 0.05, (1, 0, 1, 1, 1): 0.04, (1, 1, 0, 0, 0): 0.07, (1, 1, 0, 1, 1): 0.06, (1, 1, 1, 0, 1): 0.06, (1, 1, 1, 1, 0): 0.1}\n",
      "{(0, 0, 0, 0, 1): 0.09, (0, 0, 0, 1, 0): 0.04, (0, 0, 1, 0, 0): 0.02, (0, 0, 1, 1, 1): 0.05, (0, 1, 0, 0, 0): 0.1, (0, 1, 0, 1, 0): 0.01, (0, 1, 0, 1, 1): 0.08, (0, 1, 1, 0, 1): 0.07, (0, 1, 1, 1, 0): 0.08, (1, 0, 0, 0, 0): 0.05, (1, 0, 0, 1, 1): 0.06, (1, 0, 1, 0, 0): 0.01, (1, 0, 1, 0, 1): 0.03, (1, 0, 1, 1, 0): 0.03, (1, 1, 0, 0, 1): 0.03, (1, 1, 0, 1, 0): 0.05, (1, 1, 1, 0, 0): 0.06, (1, 1, 1, 1, 0): 0.01, (1, 1, 1, 1, 1): 0.13}\n",
      "{(0, 0, 0, 0, 0): 0.01, (0, 0, 0, 0, 1): 0.04, (0, 0, 0, 1, 0): 0.1, (0, 0, 1, 0, 0): 0.09, (0, 0, 1, 1, 1): 0.06, (0, 1, 0, 0, 0): 0.06, (0, 1, 0, 1, 1): 0.06, (0, 1, 1, 0, 1): 0.01, (0, 1, 1, 1, 0): 0.1, (1, 0, 0, 0, 0): 0.05, (1, 0, 0, 1, 1): 0.06, (1, 0, 1, 0, 1): 0.02, (1, 0, 1, 1, 0): 0.06, (1, 1, 0, 0, 1): 0.08, (1, 1, 0, 1, 0): 0.04, (1, 1, 1, 0, 0): 0.07, (1, 1, 1, 1, 1): 0.09}\n",
      "{(0, 0, 0, 0, 0): 0.08, (0, 0, 0, 1, 1): 0.08, (0, 0, 1, 0, 1): 0.05, (0, 0, 1, 1, 0): 0.1, (0, 1, 0, 0, 1): 0.04, (0, 1, 0, 1, 0): 0.04, (0, 1, 1, 0, 0): 0.05, (0, 1, 1, 1, 1): 0.04, (1, 0, 0, 0, 1): 0.05, (1, 0, 0, 1, 0): 0.04, (1, 0, 1, 0, 0): 0.08, (1, 0, 1, 1, 1): 0.05, (1, 1, 0, 0, 0): 0.09, (1, 1, 0, 1, 1): 0.08, (1, 1, 1, 0, 1): 0.04, (1, 1, 1, 1, 0): 0.09}\n",
      "{(0, 0, 0, 0, 1): 0.1, (0, 0, 0, 1, 0): 0.06, (0, 0, 1, 0, 0): 0.04, (0, 0, 1, 0, 1): 0.01, (0, 0, 1, 1, 0): 0.01, (0, 0, 1, 1, 1): 0.08, (0, 1, 0, 0, 0): 0.12, (0, 1, 0, 1, 0): 0.01, (0, 1, 0, 1, 1): 0.04, (0, 1, 1, 0, 1): 0.06, (0, 1, 1, 1, 0): 0.03, (1, 0, 0, 0, 0): 0.08, (1, 0, 0, 1, 1): 0.04, (1, 0, 1, 0, 1): 0.12, (1, 0, 1, 1, 0): 0.04, (1, 1, 0, 0, 1): 0.03, (1, 1, 0, 1, 0): 0.05, (1, 1, 1, 0, 0): 0.04, (1, 1, 1, 1, 1): 0.04}\n"
     ]
    }
   ],
   "source": [
    "for r in destitched_results:\n",
    "    print(r.get_distribution())"
   ]
  },
  {
   "cell_type": "markdown",
   "metadata": {},
   "source": [
    "<div align=\"center\"> &copy; 2024 by Quantinuum. All Rights Reserved. </div>"
   ]
  }
 ],
 "metadata": {
  "kernelspec": {
   "display_name": "pytket-quantinuum-env",
   "language": "python",
   "name": "python3"
  },
  "language_info": {
   "codemirror_mode": {
    "name": "ipython",
    "version": 3
   },
   "file_extension": ".py",
   "mimetype": "text/x-python",
   "name": "python",
   "nbconvert_exporter": "python",
   "pygments_lexer": "ipython3",
   "version": "3.10.14"
  }
 },
 "nbformat": 4,
 "nbformat_minor": 2
}
