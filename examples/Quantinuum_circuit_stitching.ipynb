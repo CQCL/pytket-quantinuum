{
 "cells": [
  {
   "cell_type": "markdown",
   "metadata": {},
   "source": [
    "<div style=\"text-align: center;\"><br>\n",
    "<img src=\"https://assets-global.website-files.com/62b9d45fb3f64842a96c9686/62d84db4aeb2f6552f3a2f78_Quantinuum%20Logo__horizontal%20blue.svg\" width=\"200\" height=\"200\" /></div>"
   ]
  },
  {
   "cell_type": "markdown",
   "metadata": {},
   "source": [
    "# Circuit Stitching"
   ]
  },
  {
   "cell_type": "markdown",
   "metadata": {},
   "source": [
    "Circuit stitching is a workflow to \"stitch\" multiple jobs into 1 job using the Mid-Circuit Measurement & Reset (MCMR) feature. The first benefit is to minimize H-System Quantum Credits (HQCs) consumption for experiments consisting of multiple jobs. The second benefit is the reduction of job runtime, because many jobs are stitched into one job submission. For each new job, the H-Series performs a sequence of actions in repetition, which contribute to the overall job runtime. However, by \"stitching\" many jobs into one job, these actions are reduced. Circuit stitching for a 5-qubit classical shadows use-case, shows a 100x improvement in HQC credit cost. Similarly, a 2.5x improvement is demonstrated for a GHZ State fidelity use-case, as shown in the plot below.\n",
    "\n",
    "<div style=\"text-align: center;\">\n",
    "    <img src=\"figures/circuit_stitching_cost_data.png\" width=\"1000\" />\n",
    "</div>\n",
    "\n",
    "Stitching involves appending circuits depth-wise and width-wise (across the qubit register). There are two components to cost jobs in terms of HQCs:\n",
    "\n",
    "1. a +5 contribution for each job submitted to H-Series;\n",
    "2. a job-specific cost accounting for the number of gate operations and shots.\n",
    "\n",
    "\\begin{equation}\n",
    "HQC = 5 + \\frac{C}{5000} \\left( N_{1q} + 10 N_{2q} + 5 N_m \\right)\n",
    "\\end{equation}\n",
    "\n",
    "<div style=\"text-align: center;\">\n",
    "    <img src=\"figures/circuit_stitching_figure_1.png\" width=\"1000\" />\n",
    "</div>\n",
    "\n",
    "The schematic above shows a basic stitching workflow. Instead of submitting multiple jobs to the H-Series device, the number of jobs can be minimized by stitching circuits together depth-wise. If the number of qubits needed is smaller than number of device qubits, then circuits can be stitched in parallel, across the qubit register. To ensure optimal performance, the following guidelines must be followed: \n",
    "\n",
    "* TKET programs of size ~4 MB;\n",
    "* less then 10,000 2-qubit gate operations;\n",
    "* a total cost of less then 30 HQCs;\n",
    "* less than a specifc number of classical registers, defined on a per-device basis;\n",
    "* contain classical registers with a width below a device-specific threshold."
   ]
  },
  {
   "cell_type": "markdown",
   "metadata": {},
   "source": [
    "**Contents:**\n",
    "* [Backend Information](#backend-info)\n",
    "* [Circuit Stitching Workflow](#circuit-stitching)\n",
    "* [Classical Shadows](#classical-shadows)"
   ]
  },
  {
   "cell_type": "markdown",
   "metadata": {},
   "source": [
    "## Backend Information"
   ]
  },
  {
   "cell_type": "markdown",
   "metadata": {},
   "source": [
    "An instance of the `QuantinuumBackend` is contructed and authenticated."
   ]
  },
  {
   "cell_type": "code",
   "execution_count": 5,
   "metadata": {},
   "outputs": [],
   "source": [
    "from pytket.extensions.quantinuum import QuantinuumBackend\n",
    "\n",
    "backend = QuantinuumBackend(device_name=\"H1-1E\")\n",
    "backend.login()"
   ]
  },
  {
   "cell_type": "markdown",
   "metadata": {},
   "source": [
    "This instance contains a `BackendInfo` attribute that reports useful device properties, such as maximum number of qubits, maximum number of classical bit registers and the maximum allowed width of any classical bit register. The `BackendInfo` instance can be exported to a dictionary and printed."
   ]
  },
  {
   "cell_type": "markdown",
   "metadata": {},
   "source": [
    "The `get` method can be used directly on the `BackendInfo` instance to obtain the relevant quantities. The code cell below prints the number of qubits, number of classical registers, the max width of any classical register, in addition to device specific information."
   ]
  },
  {
   "cell_type": "code",
   "execution_count": 6,
   "metadata": {},
   "outputs": [
    {
     "name": "stdout",
     "output_type": "stream",
     "text": [
      "Number of device qubits:\t20\n",
      "Number of classical registers:\t32\n",
      "Max classical register width:\t120\n",
      "Supports MCMR:\t\t\tTrue\n",
      "Supports Fast Feed Forward:\tTrue\n",
      "Supports Reset:\t\t\tTrue\n"
     ]
    }
   ],
   "source": [
    "backend_info =  backend.backend_info\n",
    "\n",
    "device_qubits = backend_info.n_nodes\n",
    "cl_reg_width = backend_info.get_misc(\"cl_reg_width\")\n",
    "n_cl_reg = backend_info.n_cl_reg\n",
    "print(f\"Number of device qubits:\\t{device_qubits}\")\n",
    "print(f\"Number of classical registers:\\t{cl_reg_width}\")\n",
    "print(f\"Max classical register width:\\t{n_cl_reg}\")\n",
    "print(f\"Supports MCMR:\\t\\t\\t{backend_info.supports_midcircuit_measurement}\")\n",
    "print(f\"Supports Fast Feed Forward:\\t{backend_info.supports_fast_feedforward}\")\n",
    "print(f\"Supports Reset:\\t\\t\\t{backend_info.supports_reset}\")"
   ]
  },
  {
   "cell_type": "markdown",
   "metadata": {},
   "source": [
    "## Circuit Stitching"
   ]
  },
  {
   "cell_type": "markdown",
   "metadata": {},
   "source": [
    "### GHZ State Preparation"
   ]
  },
  {
   "cell_type": "markdown",
   "metadata": {},
   "source": [
    "The $N$-qubit GHZ state preparation, using the definition,\n",
    "\n",
    "$$\\begin{equation}\n",
    "| {GHZ}_N \\rangle = \\frac{1}{\\sqrt{2}} \\left( {| 0 \\rangle}^{\\bigotimes N} + {| 1 \\rangle}^{\\bigotimes N} \\right),\n",
    "\\end{equation}$$\n",
    "\n",
    "where $N=5$."
   ]
  },
  {
   "cell_type": "markdown",
   "metadata": {},
   "source": [
    "The `circuit_stitching` method requires a list of circuits as input, in addition to a BackendInfo instance. The method will parallelize the circuits across the qubit register (stitch width-wise) and then stitch the circuits depth-wise. The `BackendInfo` instance informs the method on how many circuits can be parallelzsed. The method assumes that all circuits inputted as a list have the same number of qubits."
   ]
  },
  {
   "cell_type": "code",
   "execution_count": 7,
   "metadata": {},
   "outputs": [],
   "source": [
    "from pytket.circuit import Circuit\n",
    "\n",
    "n_qubits = 5\n",
    "circ = Circuit(n_qubits)\n",
    "circ.H(0)\n",
    "for i in range(n_qubits-1):\n",
    "    circ.CX(i,i+1)"
   ]
  },
  {
   "cell_type": "markdown",
   "metadata": {},
   "source": [
    "The functions below generate the measurement circuits necessary to measure the GHZ state fidelity.\n",
    "\n",
    "* `generate_population_circuit`: Generates a $N$-qubit circuit measuring the GHZ state in the computational basis.\n",
    "* `generate_parity_circuits`: Generates $N$-sets of $N$-qubit circuits, each with all qubits measuring the GHZ state in the $X$-$Y$ plane."
   ]
  },
  {
   "cell_type": "code",
   "execution_count": 8,
   "metadata": {},
   "outputs": [],
   "source": [
    "from typing import Tuple, List\n",
    "from pytket.circuit import Circuit\n",
    "\n",
    "def generate_population_circuit(\n",
    "    ghz_circuit: Circuit,\n",
    ") -> Circuit:\n",
    "    circuit = ghz_circuit.copy()\n",
    "    circuit.add_barrier(circuit.qubits)\n",
    "    circuit.measure_all()\n",
    "    return circuit\n",
    "\n",
    "def generate_parity_circuits(\n",
    "    ghz_circuit: Circuit,\n",
    ") -> Tuple[List[Circuit], List[float]]:\n",
    "    circuits = []\n",
    "    angles = []\n",
    "    for k in range(1, ghz_circuit.n_qubits + 1):\n",
    "        circuit = ghz_circuit.copy()\n",
    "        angle = k / ghz_circuit.n_qubits\n",
    "        for q in circuit.qubits:\n",
    "            circuit.Rz(-angle, q)\n",
    "            circuit.Ry(-0.5, q)\n",
    "        circuit.measure_all()\n",
    "        circuits += [circuit]\n",
    "        angles += [angle]\n",
    "    return circuits, angles"
   ]
  },
  {
   "cell_type": "code",
   "execution_count": 9,
   "metadata": {},
   "outputs": [],
   "source": [
    "population_circuit = generate_population_circuit(circ)\n",
    "\n",
    "parity_circuit_list, angles = generate_parity_circuits(circ)"
   ]
  },
  {
   "cell_type": "markdown",
   "metadata": {},
   "source": [
    "### Circuit Stitching Setup"
   ]
  },
  {
   "cell_type": "markdown",
   "metadata": {},
   "source": [
    "The reset operation is required to \"stitch\" measurement circuits. After each measurement operation, a Reset operation is applied to set the qubit to the $|0 \\rangle$ state before proceeding with the operations in the next \"stitched\" circuit."
   ]
  },
  {
   "cell_type": "code",
   "execution_count": 10,
   "metadata": {},
   "outputs": [],
   "source": [
    "from pytket.circuit import Circuit, CircBox, Qubit, BitRegister\n",
    "from pytket.backends.backendinfo import BackendInfo\n",
    "\n",
    "\n",
    "def reset_operations(\n",
    "    n_qubits: int\n",
    ") -> CircBox:\n",
    "    r\"\"\"Generate a n-qubit CircBox instance containing OpType.Reset operations.\n",
    "\n",
    "    :param n_qubits: Number of qubits used in the CircBox instance\n",
    "    :param_type int:\n",
    "    :returns: CircBox\n",
    "    \"\"\"\n",
    "    circuit = Circuit(n_qubits)\n",
    "    circuit.name = \"Reset\"\n",
    "    for q in circuit.qubits:\n",
    "        circuit.Reset(q)\n",
    "    return CircBox(circuit)"
   ]
  },
  {
   "cell_type": "markdown",
   "metadata": {},
   "source": [
    "The `circuit_stitching` method accepts a list of circuits and attempts to stitch in parallel, across the qubit register, and then secondly depth-wise. The `input_circuit` list must be consistent in the number of qubits. This routine is followed until all circuits have been stitched. The number of classical registers on the output circuit is equal to the number of circuits stitched together. For parallel stitching, the function first checks the number of qubits in the circuit to be stitched are less than the number of device qubits. If this is true, a parameter, ``p`, estimates the number of times the input circuits will fit into the register. Based on this, a list of list of circuits is constructed. Each sublist is stitched depth-wise. Each circuit in the sublist is stitched in parallel across the register.\n",
    "\n",
    "<div style=\"text-align: center;\">\n",
    "    <img src=\"figures/stitching_workflow.png\" width=\"1200\" />\n",
    "</div>"
   ]
  },
  {
   "cell_type": "code",
   "execution_count": 13,
   "metadata": {},
   "outputs": [],
   "source": [
    "from typing import List, Dict, Tuple\n",
    "\n",
    "import numpy as np\n",
    "\n",
    "from pytket.circuit import Circuit, CircBox, Qubit, BitRegister\n",
    "from pytket.backends.backendinfo import BackendInfo\n",
    "\n",
    "def _add_circuit(\n",
    "    circuit_instance: Circuit,\n",
    "    circbox: CircBox,\n",
    "    index: int,\n",
    "    qubits: List[Qubit],\n",
    "    resetbox: CircBox = None\n",
    "):\n",
    "    creg = circuit_instance.add_c_register(f\"creg_{index}\", len(qubits))\n",
    "    circuit_instance.add_circbox(circbox, qubits + list(creg))\n",
    "    if resetbox:\n",
    "        circuit_instance.add_circbox(resetbox, qubits)\n",
    "\n",
    "\n",
    "def circuit_stitching(\n",
    "    input_circuits: List[Circuit], \n",
    "    backend_info: BackendInfo,\n",
    ") -> Tuple[Circuit, Dict[int, BitRegister]]:\n",
    "    r\"\"\"Generate a stitched circuit based on a list of input circuits. The circuit is \n",
    "    stitched width-wise and then depth-wise.\n",
    "\n",
    "    :param input_circuit: Circuit instance to stitch `n` times.\n",
    "    :param backend_info: BackendInfo instance containing information on number \n",
    "        of device qubits, number of allowed classical register and maximum width \n",
    "        for each classical register.\n",
    "    :returns: Circuit\n",
    "    \"\"\"\n",
    "    if all(input_circuits[0].n_qubits != c.n_qubits for c in input_circuits[1:]):\n",
    "        raise ValueError(\"All circuits should have the same number of qubits.\")\n",
    "    n_qubits_device = backend_info.architecture.nodes\n",
    "    p = np.floor_divide(len(n_qubits_device), input_circuits[0].n_qubits)\n",
    "    num_c_reg = 0\n",
    "    circuit = Circuit(len(n_qubits_device))\n",
    "    reset_box = reset_operations(input_circuits[0].n_qubits)\n",
    "\n",
    "    circuits_list = []\n",
    "    for i in range(0, len(input_circuits), p):\n",
    "        circuits_list += [input_circuits[i:i+p]]\n",
    "\n",
    "    for k, circuits in enumerate(circuits_list):\n",
    "        for i, c in enumerate(circuits):\n",
    "            circ = c.copy()\n",
    "            circ.name = f\"box_{num_c_reg}\"\n",
    "            a = i * circ.n_qubits\n",
    "            b = (i + 1) * circ.n_qubits\n",
    "            qubits = circuit.qubits[a: b]\n",
    "            if k == len(circuits_list) - 1:\n",
    "                reset_box = None\n",
    "            _add_circuit(circuit, CircBox(circ), num_c_reg, qubits, resetbox=reset_box)\n",
    "            num_c_reg += 1\n",
    "    return circuit"
   ]
  },
  {
   "cell_type": "markdown",
   "metadata": {},
   "source": [
    "The `circuit_stitching method` is used to stitch the 5-qubit GHZ population circuit and 5 GHZ parity circuits."
   ]
  },
  {
   "cell_type": "code",
   "execution_count": 14,
   "metadata": {},
   "outputs": [],
   "source": [
    "input_circuits = [population_circuit] + parity_circuit_list\n",
    "stitched_circuit = circuit_stitching(input_circuits, backend.backend_info)"
   ]
  },
  {
   "cell_type": "markdown",
   "metadata": {},
   "source": [
    "The resulting circuit contains 6 distinct classical registers. Each classical register corresponds to a subcircuit in the stitched circuit. Note, it is necessary to order the register based on the register name suffix (an integer). This ensures the order of the register is the same as the ordering of the stitched circuits."
   ]
  },
  {
   "cell_type": "code",
   "execution_count": 15,
   "metadata": {},
   "outputs": [],
   "source": [
    "registers = stitched_circuit.c_registers\n",
    "registers.sort(key=lambda a: int(a.name.split(\"_\")[-1]))"
   ]
  },
  {
   "cell_type": "code",
   "execution_count": 18,
   "metadata": {},
   "outputs": [
    {
     "name": "stdout",
     "output_type": "stream",
     "text": [
      "[BitRegister(\"creg_0\", 5), BitRegister(\"creg_1\", 5), BitRegister(\"creg_2\", 5), BitRegister(\"creg_3\", 5), BitRegister(\"creg_4\", 5), BitRegister(\"creg_5\", 5)]\n"
     ]
    }
   ],
   "source": [
    "print(registers)"
   ]
  },
  {
   "cell_type": "markdown",
   "metadata": {},
   "source": [
    "The classical registers are required to post-process the result after H-Series execution is complete. The classical register information should be saved to `JSON`, enabling this information to be used across python sessions. The ordering of the classical registers needs to preserved in `JSON` format, and the a record should be kept of the name and size of each classical register."
   ]
  },
  {
   "cell_type": "code",
   "execution_count": 19,
   "metadata": {},
   "outputs": [],
   "source": [
    "import json\n",
    "\n",
    "register_data = {reg.name: reg.size for reg in registers}\n",
    "\n",
    "with open(\"stitched_registers.json\", \"w\") as json_io:\n",
    "    json.dump(register_data, json_io)"
   ]
  },
  {
   "cell_type": "markdown",
   "metadata": {},
   "source": [
    "### Costing Analysis"
   ]
  },
  {
   "cell_type": "markdown",
   "metadata": {},
   "source": [
    "The stitched circuit is compiled to use the native H-Series gateset. The individual circuits, used to construct the stitched circuit, are also compiled for the costing analysis."
   ]
  },
  {
   "cell_type": "code",
   "execution_count": 20,
   "metadata": {},
   "outputs": [],
   "source": [
    "compiled_stitched_circuit = backend.get_compiled_circuit(stitched_circuit, optimisation_level=2)\n",
    "compiled_circuits = backend.get_compiled_circuits([population_circuit] + parity_circuit_list, optimisation_level=2)"
   ]
  },
  {
   "cell_type": "markdown",
   "metadata": {},
   "source": [
    "Then all circuits will be submitted and costed with 100 shots each."
   ]
  },
  {
   "cell_type": "code",
   "execution_count": 21,
   "metadata": {},
   "outputs": [],
   "source": [
    "n_shots = 100"
   ]
  },
  {
   "cell_type": "markdown",
   "metadata": {},
   "source": [
    "The function below calculates the HQC cost of a circuit, based on the number of operations and number of shots. As mentioned previously, there is a +5 overhead for each new job submitted to H-Series for execution."
   ]
  },
  {
   "cell_type": "code",
   "execution_count": 22,
   "metadata": {},
   "outputs": [],
   "source": [
    "from pytket.circuit import Circuit, OpType\n",
    "from pytket.backends.backendinfo import BackendInfo\n",
    "\n",
    "\n",
    "def _cost(\n",
    "    circuit: Circuit,\n",
    "    n_shots: int\n",
    ") -> int:\n",
    "    r\"\"\"Local estimation of HQCs (H-System Quantum Credits) \n",
    "    needed to execute stitched circuit.\n",
    "\n",
    "    :param circuit: circuit instance.\n",
    "    :returns: int\n",
    "    \"\"\"\n",
    "    n1q = circuit.n_1qb_gates()\n",
    "    n2q = circuit.n_2qb_gates()\n",
    "    nm = circuit.n_gates_of_type(OpType.Measure)\n",
    "    return n_shots/5000 * (n1q + 10 * n2q + 5 * nm) + 5"
   ]
  },
  {
   "cell_type": "markdown",
   "metadata": {},
   "source": [
    "Each measurement circuit approximately requires 40 HQCs, but the stitched circuit requires only 15 HQCs. By stitching the measurement circuits, an 2.5x decrease is observed in the required number of HQCs. "
   ]
  },
  {
   "cell_type": "code",
   "execution_count": 23,
   "metadata": {},
   "outputs": [
    {
     "data": {
      "text/plain": [
       "39.32000000000001"
      ]
     },
     "execution_count": 23,
     "metadata": {},
     "output_type": "execute_result"
    }
   ],
   "source": [
    "sum(_cost(c, n_shots) for c in compiled_circuits)"
   ]
  },
  {
   "cell_type": "code",
   "execution_count": 24,
   "metadata": {},
   "outputs": [
    {
     "data": {
      "text/plain": [
       "14.32"
      ]
     },
     "execution_count": 24,
     "metadata": {},
     "output_type": "execute_result"
    }
   ],
   "source": [
    "_cost(compiled_stitched_circuit, n_shots)"
   ]
  },
  {
   "cell_type": "markdown",
   "metadata": {},
   "source": [
    "The function below verifies the stitched circuit satisfies the various performance constraints before submission to H-Series:\n",
    "\n",
    "* less then 10,000 2-qubit gate operations;\n",
    "* a total cost of less then 30 HQCs;\n",
    "* less than a specific number of classical registers, defined on a per-device basis;\n",
    "* contain classical registers with a width below a device-specific threshold."
   ]
  },
  {
   "cell_type": "code",
   "execution_count": 25,
   "metadata": {},
   "outputs": [],
   "source": [
    "def verify_stitched_circuit(\n",
    "    circuit: Circuit,\n",
    "    n_shots: int,\n",
    "    backend_info: BackendInfo\n",
    ") -> Tuple[bool, Dict[str, float | int]]:\n",
    "    \"\"\"Verify the stitched circuit satisfies basic \n",
    "    constraints before submission to H-Series.\n",
    "\n",
    "    :param circuit: `Circuit` instance to stitch `n` times.\n",
    "    :param backend_info: `BackendInfo` instance containing information on number \n",
    "        of device qubits, number of allowed classical register and maximum width \n",
    "        for each classical register.\n",
    "    :returns: bool\n",
    "    \"\"\"\n",
    "    check = True\n",
    "    data = {}\n",
    "    data[\"cost\"] = [_cost(circuit, n_shots), 30]\n",
    "    data[\"n_2qb_gates\"] = [circuit.n_2qb_gates(), 10000]\n",
    "    data[\"c_registers\"] = [len(circuit.c_registers), backend_info.n_cl_reg]\n",
    "    data[\"max_cl_reg_width\"] = [max([a.size for a in circuit.c_registers]), backend_info.get_misc(\"cl_reg_width\")]\n",
    "\n",
    "    if _cost(circuit, n_shots) > 30:\n",
    "        check = False\n",
    "    if circuit.n_2qb_gates() > 10000:\n",
    "        check = False\n",
    "    if len(circuit.c_registers) > backend_info.n_cl_reg:\n",
    "        check = False\n",
    "    if all(a.size > backend_info.get_misc(\"cl_reg_width\") for a in circuit.c_registers):\n",
    "        check = False\n",
    "        \n",
    "    return check, data"
   ]
  },
  {
   "cell_type": "markdown",
   "metadata": {},
   "source": [
    "The method returns a boolean and a dictionary. The boolean determines whether the stitched circuit satisfies the performance constraints before submission (True is success). The dictionary reports the cost, two-qubit gate count, number of classical registers and maximum size across all classical registers. In addition, the limit for each property is reported."
   ]
  },
  {
   "cell_type": "code",
   "execution_count": 26,
   "metadata": {},
   "outputs": [
    {
     "name": "stdout",
     "output_type": "stream",
     "text": [
      "True\n",
      "{'cost': [14.32, 30], 'n_2qb_gates': [24, 10000], 'c_registers': [6, 120], 'max_cl_reg_width': [5, 32]}\n"
     ]
    }
   ],
   "source": [
    "check, data = verify_stitched_circuit(compiled_stitched_circuit, 100, backend.backend_info)\n",
    "print(check)\n",
    "print(data)"
   ]
  },
  {
   "cell_type": "markdown",
   "metadata": {},
   "source": [
    "`QuantinuumBackend` can be used to cost the stitched circuit as well. This will be similar to the estimate above."
   ]
  },
  {
   "cell_type": "code",
   "execution_count": null,
   "metadata": {},
   "outputs": [],
   "source": [
    "cost_hqc = backend.cost(compiled_stitched_circuit, n_shots=100, syntax_checker=\"H1-1SC\")\n",
    "print(cost_hqc)"
   ]
  },
  {
   "cell_type": "markdown",
   "metadata": {},
   "source": [
    "`QuantinuumBackend` is used to submit the circuit for execution to H-Series with 100 shots. This is equivalent to measuring each individual circuit with 100 shots each."
   ]
  },
  {
   "cell_type": "code",
   "execution_count": null,
   "metadata": {},
   "outputs": [],
   "source": [
    "handle = backend.process_circuit(compiled_stitched_circuit, n_shots=100)"
   ]
  },
  {
   "cell_type": "markdown",
   "metadata": {},
   "source": [
    "### Result Destitching"
   ]
  },
  {
   "cell_type": "markdown",
   "metadata": {},
   "source": [
    "`QuantinuumBackend` is used to check the status of the stitched circuit job."
   ]
  },
  {
   "cell_type": "code",
   "execution_count": null,
   "metadata": {},
   "outputs": [
    {
     "data": {
      "text/plain": [
       "CircuitStatus(status=<StatusEnum.COMPLETED: 'Circuit has completed. Results are ready.'>, message='{\"name\": \"job\", \"submit-date\": \"2024-08-22T17:18:28.109559\", \"result-date\": \"2024-08-22T17:18:45.585046\", \"queue-position\": null, \"cost\": \"17.78\", \"error\": null}', error_detail=None, completed_time=None, queued_time=None, submitted_time=None, running_time=None, cancelled_time=None, error_time=None, queue_position=None)"
      ]
     },
     "execution_count": 292,
     "metadata": {},
     "output_type": "execute_result"
    }
   ],
   "source": [
    "backend.circuit_status(handle)"
   ]
  },
  {
   "cell_type": "markdown",
   "metadata": {},
   "source": [
    "`QuantinuumBackend` can be used to retrieve the result from the backend."
   ]
  },
  {
   "cell_type": "code",
   "execution_count": null,
   "metadata": {},
   "outputs": [],
   "source": [
    "result = backend.get_result(handle)"
   ]
  },
  {
   "cell_type": "markdown",
   "metadata": {},
   "source": [
    "The register JSON is opended and loaded into this jupyter session."
   ]
  },
  {
   "cell_type": "code",
   "execution_count": null,
   "metadata": {},
   "outputs": [],
   "source": [
    "import json\n",
    "\n",
    "with open(\"stitched_registers.json\", \"r\") as json_io:\n",
    "    register_data = json.load(json_io)"
   ]
  },
  {
   "cell_type": "markdown",
   "metadata": {},
   "source": [
    "The JSON data is used to instiate a list of `BitRegister` instances."
   ]
  },
  {
   "cell_type": "code",
   "execution_count": null,
   "metadata": {},
   "outputs": [],
   "source": [
    "from pytket.circuit import BitRegister\n",
    "\n",
    "register_list = [BitRegister(name, size) for name, size in register_data.items()]"
   ]
  },
  {
   "cell_type": "markdown",
   "metadata": {},
   "source": [
    "The result for the stitched circuit needs to be *destitched* into effective measurement results for each individual circuit."
   ]
  },
  {
   "cell_type": "code",
   "execution_count": null,
   "metadata": {},
   "outputs": [],
   "source": [
    "from pytket.backends.backendresult import BackendResult\n",
    "from pytket.utils.outcomearray import OutcomeArray\n",
    "\n",
    "destitched_results = []\n",
    "for reg in register_list:\n",
    "    outcome_array = OutcomeArray.from_readouts(result.get_shots(reg))\n",
    "    destitched_results += [BackendResult(shots=outcome_array)]"
   ]
  },
  {
   "cell_type": "markdown",
   "metadata": {},
   "source": [
    "The dictionaries below report the effective measurement result for each individual measurement circuit. The effective measurement result is matches the ordering of the measurement circuits as inputted into the `circuit_stitching` function."
   ]
  },
  {
   "cell_type": "code",
   "execution_count": null,
   "metadata": {},
   "outputs": [
    {
     "name": "stdout",
     "output_type": "stream",
     "text": [
      "{(0, 0, 0, 0, 0): 0.47, (1, 1, 1, 1, 1): 0.53}\n",
      "{(0, 0, 0, 0, 0): 0.1, (0, 0, 0, 0, 1): 0.01, (0, 0, 0, 1, 1): 0.05, (0, 0, 1, 0, 1): 0.07, (0, 0, 1, 1, 0): 0.07, (0, 1, 0, 0, 1): 0.05, (0, 1, 0, 1, 0): 0.07, (0, 1, 1, 0, 0): 0.04, (0, 1, 1, 1, 1): 0.06, (1, 0, 0, 0, 1): 0.06, (1, 0, 0, 1, 0): 0.04, (1, 0, 1, 0, 0): 0.05, (1, 0, 1, 1, 1): 0.04, (1, 1, 0, 0, 0): 0.07, (1, 1, 0, 1, 1): 0.06, (1, 1, 1, 0, 1): 0.06, (1, 1, 1, 1, 0): 0.1}\n",
      "{(0, 0, 0, 0, 1): 0.09, (0, 0, 0, 1, 0): 0.04, (0, 0, 1, 0, 0): 0.02, (0, 0, 1, 1, 1): 0.05, (0, 1, 0, 0, 0): 0.1, (0, 1, 0, 1, 0): 0.01, (0, 1, 0, 1, 1): 0.08, (0, 1, 1, 0, 1): 0.07, (0, 1, 1, 1, 0): 0.08, (1, 0, 0, 0, 0): 0.05, (1, 0, 0, 1, 1): 0.06, (1, 0, 1, 0, 0): 0.01, (1, 0, 1, 0, 1): 0.03, (1, 0, 1, 1, 0): 0.03, (1, 1, 0, 0, 1): 0.03, (1, 1, 0, 1, 0): 0.05, (1, 1, 1, 0, 0): 0.06, (1, 1, 1, 1, 0): 0.01, (1, 1, 1, 1, 1): 0.13}\n",
      "{(0, 0, 0, 0, 0): 0.01, (0, 0, 0, 0, 1): 0.04, (0, 0, 0, 1, 0): 0.1, (0, 0, 1, 0, 0): 0.09, (0, 0, 1, 1, 1): 0.06, (0, 1, 0, 0, 0): 0.06, (0, 1, 0, 1, 1): 0.06, (0, 1, 1, 0, 1): 0.01, (0, 1, 1, 1, 0): 0.1, (1, 0, 0, 0, 0): 0.05, (1, 0, 0, 1, 1): 0.06, (1, 0, 1, 0, 1): 0.02, (1, 0, 1, 1, 0): 0.06, (1, 1, 0, 0, 1): 0.08, (1, 1, 0, 1, 0): 0.04, (1, 1, 1, 0, 0): 0.07, (1, 1, 1, 1, 1): 0.09}\n",
      "{(0, 0, 0, 0, 0): 0.08, (0, 0, 0, 1, 1): 0.08, (0, 0, 1, 0, 1): 0.05, (0, 0, 1, 1, 0): 0.1, (0, 1, 0, 0, 1): 0.04, (0, 1, 0, 1, 0): 0.04, (0, 1, 1, 0, 0): 0.05, (0, 1, 1, 1, 1): 0.04, (1, 0, 0, 0, 1): 0.05, (1, 0, 0, 1, 0): 0.04, (1, 0, 1, 0, 0): 0.08, (1, 0, 1, 1, 1): 0.05, (1, 1, 0, 0, 0): 0.09, (1, 1, 0, 1, 1): 0.08, (1, 1, 1, 0, 1): 0.04, (1, 1, 1, 1, 0): 0.09}\n",
      "{(0, 0, 0, 0, 1): 0.1, (0, 0, 0, 1, 0): 0.06, (0, 0, 1, 0, 0): 0.04, (0, 0, 1, 0, 1): 0.01, (0, 0, 1, 1, 0): 0.01, (0, 0, 1, 1, 1): 0.08, (0, 1, 0, 0, 0): 0.12, (0, 1, 0, 1, 0): 0.01, (0, 1, 0, 1, 1): 0.04, (0, 1, 1, 0, 1): 0.06, (0, 1, 1, 1, 0): 0.03, (1, 0, 0, 0, 0): 0.08, (1, 0, 0, 1, 1): 0.04, (1, 0, 1, 0, 1): 0.12, (1, 0, 1, 1, 0): 0.04, (1, 1, 0, 0, 1): 0.03, (1, 1, 0, 1, 0): 0.05, (1, 1, 1, 0, 0): 0.04, (1, 1, 1, 1, 1): 0.04}\n"
     ]
    }
   ],
   "source": [
    "for r in destitched_results:\n",
    "    print(r.get_distribution())"
   ]
  },
  {
   "cell_type": "markdown",
   "metadata": {},
   "source": [
    "## Classical Shadows"
   ]
  },
  {
   "cell_type": "markdown",
   "metadata": {},
   "source": [
    "Estimating properties of unknown quantum states is a key objective of quantum computing. Classical shadow approximation is one method to estimate those properties [[Huang et al](https://pennylane.ai/qml/demos/tutorial_classical_shadows/#huang2020)]. The workflow presented below reconstructs the classical shadow representation of an unknown quantum state. Initially, an $n$-qubit quantum state is prepared by a circuit, and renamed unitary $\\hat{U}$ is applied,\n",
    "\n",
    "$$\\begin{equation}\n",
    "    \\rho \\rightarrow \\hat{U} \\rho \\hat{U}^{\\dagger}.\n",
    "\\end{equation}$$\n",
    "\n",
    "Next, we measure in the computational basis and obtain a bit string of outcomes $|b \\rangle = |0011...10\\rangle$. If the unitaries, $\\hat{U}$, are chosen at random from a particular ensemble, then we can store the reverse operation, $\\hat{U} | b \\rangle \\langle b | \\hat{U}^{\\dagger}$, efficiently in classical memory. We call this a snapshot of the state. Moreover, we can view the average over these snapshots as a measurement channel,\n",
    "\n",
    "$$\\begin{equation}\n",
    "E \\left[\\hat{U} | b \\rangle \\langle b | \\hat{U}^{\\dagger} \\right] = M(\\rho).\n",
    "\\end{equation}$$\n",
    "\n",
    "If the ensemble of unitaries defines a tomographically complete set of measurements, we can invert the channel and reconstruct the state,\n",
    "\n",
    "$$\\begin{equation}\n",
    "\\rho = E \\left[ M^{-1} \\left( \\hat{U} | b \\rangle \\langle b | \\hat{U}^{\\dagger} \\right) \\right]\n",
    "\\end{equation}$$\n",
    "\n",
    "If we apply the procedure outlined above $N$-times, then the collection of inverted snapshots is what we call the classical shadow,\n",
    "\n",
    "$$\\begin{equation}\n",
    "    S(\\rho, N) = \\left\\{ \\hat{\\rho}_1 = M^{-1} \\left( \\hat{U}_1 | b_1 \\rangle \\langle b_1 | \\hat{U}^{\\dagger}_1 \\right), ... , \\hat{\\rho}_N = M^{-1} \\left( \\hat{U}_N | b_N \\rangle \\langle b_N | \\hat{U}^{\\dagger}_N \\right) \\right\\}.\n",
    "\\end{equation}$$"
   ]
  },
  {
   "cell_type": "markdown",
   "metadata": {},
   "source": [
    "The code-cell below generates subciruit containing measurement operations on qubits. This function requires a [`pytket.pauli.QubitPauliString`](https://tket.quantinuum.com/api-docs/pauli.html#pytket.pauli.QubitPauliString) as input and based on the [`pytket.pauli.Pauli`](https://tket.quantinuum.com/api-docs/pauli.html#pytket.pauli.Pauli) operation on each qubit, performs the relevant basis transformation on the circuit."
   ]
  },
  {
   "cell_type": "code",
   "execution_count": null,
   "metadata": {},
   "outputs": [],
   "source": [
    "from typing import Tuple, List\n",
    "\n",
    "from numpy.random import choice\n",
    "\n",
    "from pytket.circuit import Circuit, Bit, Qubit\n",
    "from pytket.partition import MeasurementSetup, MeasurementBitMap\n",
    "from pytket.pauli import Pauli, QubitPauliString\n",
    "\n",
    "def create_measurement_basis(\n",
    "    qps: QubitPauliString, \n",
    "    n_qubits: int\n",
    ") -> Circuit:\n",
    "    circuit = Circuit(n_qubits)\n",
    "    for qubit, pauli in qps.map.items():\n",
    "        bit = Bit(qubit.index[0])\n",
    "        circuit.add_bit(bit)\n",
    "        if pauli == Pauli.X:\n",
    "            circuit.H(qubit).Measure(qubit, bit)\n",
    "        elif pauli == Pauli.Y:\n",
    "            circuit.V(qubit).Measure(qubit, bit)\n",
    "        elif pauli == Pauli.Z:\n",
    "            circuit.Measure(qubit, bit)\n",
    "        else:\n",
    "            continue\n",
    "    return circuit"
   ]
  },
  {
   "cell_type": "markdown",
   "metadata": {},
   "source": [
    "The code-cell below generates $N$ subcircuits containing [`OpType.Measure`](https://tket.quantinuum.com/api-docs/optype.html#pytket.circuit.OpType) operations and basis transformations gates. The number of subcircuits is determined by the input parameter `measurement_budget`. This function calls `create_measurement_basis` internally. The number of qubits, `n_qubits` also needs to be passed as an integer. `n_qubits` must be equal to the number of qubits on the state-preparation circuit."
   ]
  },
  {
   "cell_type": "code",
   "execution_count": null,
   "metadata": {},
   "outputs": [],
   "source": [
    "def construct_randomized_shadows(\n",
    "    measurement_budget: int,\n",
    "    n_qubits: int,\n",
    ") -> Tuple[List[Circuit], MeasurementSetup]:\n",
    "    measurement_setup = MeasurementSetup()\n",
    "    circuit_list = []\n",
    "    PAULIS = [Pauli.X, Pauli.Y, Pauli.Z]\n",
    "    for j in range(measurement_budget):\n",
    "        qps = QubitPauliString({Qubit(i): choice(PAULIS) for i in range(n_qubits)})\n",
    "        measurement_circ = create_measurement_basis(qps, n_qubits)\n",
    "        circuit_list += [measurement_circ]\n",
    "        measurement_setup.add_measurement_circuit(measurement_circ)\n",
    "        if qps == QubitPauliString():\n",
    "            continue\n",
    "        bits = []\n",
    "        qps_items = qps.map.items()\n",
    "        if len(qps_items) != len(qps.map):\n",
    "            continue\n",
    "        for qubit, _ in qps_items:\n",
    "            bits += [qubit.index[0]]\n",
    "        if len(bits) > 0:\n",
    "            bits.sort()\n",
    "            bitmap = MeasurementBitMap(j, bits)\n",
    "            measurement_setup.add_result_for_term(qps, bitmap)\n",
    "    return circuit_list, measurement_setup"
   ]
  },
  {
   "cell_type": "markdown",
   "metadata": {},
   "source": [
    "The code-cell below generates 100 5-qubit subcircuits. "
   ]
  },
  {
   "cell_type": "code",
   "execution_count": null,
   "metadata": {},
   "outputs": [],
   "source": [
    "measurement_budget = 100\n",
    "n_qubits = 5\n",
    "\n",
    "mcircs, ms = construct_randomized_shadows(measurement_budget, n_qubits)"
   ]
  },
  {
   "cell_type": "markdown",
   "metadata": {},
   "source": [
    "The code-cell below synthesises the 5-qubit GHZ state."
   ]
  },
  {
   "cell_type": "code",
   "execution_count": null,
   "metadata": {},
   "outputs": [],
   "source": [
    "from pytket.circuit import Circuit\n",
    "\n",
    "circ = Circuit(n_qubits)\n",
    "circ.H(0)\n",
    "for i in range(n_qubits-1):\n",
    "    circ.CX(i,i+1)"
   ]
  },
  {
   "cell_type": "markdown",
   "metadata": {},
   "source": [
    "The code-cell below generates each measurement circuit by appending the measurement subcircuit to a copy of the state-preparation circuit. The circuit is compiled and submitted to H-Series with 1-shot."
   ]
  },
  {
   "cell_type": "code",
   "execution_count": null,
   "metadata": {},
   "outputs": [],
   "source": [
    "handles = []\n",
    "for i, mc in enumerate(mcircs):\n",
    "    c = circ.copy()\n",
    "    c.name = f\"job-{i}\"\n",
    "    c.append(mc)\n",
    "    cc = backend.get_compiled_circuit(c, optimisation_level=2)\n",
    "    h = backend.process_circuit(cc, n_shots=1)\n",
    "    handles += [h]"
   ]
  },
  {
   "cell_type": "markdown",
   "metadata": {},
   "source": [
    "The results handles are saved to disk and in the subsequent cell, reloaded to disk. This is an important step if using `ResultHandle` instances across python sessions."
   ]
  },
  {
   "cell_type": "code",
   "execution_count": null,
   "metadata": {},
   "outputs": [],
   "source": [
    "import json\n",
    "\n",
    "with open(\"result_handles_4.json\", \"w\") as json_io:\n",
    "    json.dump([str(h) for h in handles], json_io)"
   ]
  },
  {
   "cell_type": "code",
   "execution_count": null,
   "metadata": {},
   "outputs": [],
   "source": [
    "import json\n",
    "\n",
    "with open(\"result_handles_4.json\", \"r\") as json_io:\n",
    "    handles_data = json.load(json_io)"
   ]
  },
  {
   "cell_type": "code",
   "execution_count": null,
   "metadata": {},
   "outputs": [],
   "source": [
    "from pytket.backends.resulthandle import ResultHandle\n",
    "\n",
    "handles = [ResultHandle.from_str(h) for h in handles_data]"
   ]
  },
  {
   "cell_type": "markdown",
   "metadata": {},
   "source": [
    "The `ResultHandle` can be used to retrieve results."
   ]
  },
  {
   "cell_type": "code",
   "execution_count": null,
   "metadata": {},
   "outputs": [],
   "source": [
    "results = backend.get_results(handles)"
   ]
  },
  {
   "cell_type": "markdown",
   "metadata": {},
   "source": [
    "The code-cell below defines a function to reconstruct the state, $\\rho$, using the expression below,\n",
    "\n",
    "$$\\begin{equation}\n",
    "    \\hat{\\rho} = \\bigotimes_{j=1}^{n} \\left( 3 \\hat{U}_j^{\\dagger} | \\hat{b}_j \\rangle \\langle \\hat{b}_j | \\hat{U}_j - I \\right).\n",
    "\\end{equation}$$\n",
    "\n",
    "The snapshot, $\\rho$ would be averaged over multiple rounds."
   ]
  },
  {
   "cell_type": "code",
   "execution_count": null,
   "metadata": {},
   "outputs": [],
   "source": [
    "import numpy as np\n",
    "\n",
    "from pytket.backends.backendresult import BackendResult\n",
    "from pytket.partition import MeasurementSetup\n",
    "\n",
    "def shadow_reconstruction(\n",
    "    results: List[BackendResult], \n",
    "    measurement_setup: MeasurementSetup\n",
    ") -> np.ndarray:\n",
    "    zero_state = np.array([[1, 0], [0, 0]])\n",
    "    one_state = np.array([[0, 0], [0, 1]])  \n",
    "    factor = 1 / np.sqrt(2)\n",
    "    H = factor * np.asarray([[1, 1], [1, -1]])\n",
    "    vdg = factor * np.asarray([[1, 1j], [1j, 1]], dtype=complex)\n",
    "    identity = np.eye(2)\n",
    "\n",
    "    shadow_rho = np.zeros((2 ** n_qubits, 2 ** n_qubits), dtype=complex)\n",
    "    for qps, bitmap_list in list(measurement_setup.results.items()):\n",
    "        for bm in bitmap_list:\n",
    "            r = results[bm.circ_index]\n",
    "            assert len(bm.bits) == n_qubits\n",
    "            rho_snapshot = [1]\n",
    "            for pauli, bit in zip(qps.map.values(), r.get_shots()[0]):\n",
    "                if bit:\n",
    "                    state = one_state\n",
    "                else:\n",
    "                    state = zero_state\n",
    "                \n",
    "                if pauli == Pauli.X:\n",
    "                    op = H\n",
    "                elif pauli == Pauli.Y:\n",
    "                    op = vdg\n",
    "                else:\n",
    "                    op = identity\n",
    "                local_rho = 3 * (op.conj().T @ state @ op) - identity\n",
    "                rho_snapshot = np.kron(rho_snapshot, local_rho)\n",
    "            shadow_rho += rho_snapshot\n",
    "    return shadow_rho / measurement_budget"
   ]
  },
  {
   "cell_type": "markdown",
   "metadata": {},
   "source": [
    "The density matrix of the GHZ state is reconstructed using classical shadows below."
   ]
  },
  {
   "cell_type": "code",
   "execution_count": null,
   "metadata": {},
   "outputs": [
    {
     "data": {
      "text/plain": [
       "array([[ 4.7187500e-01+0.00000000e+00j, -3.0937500e-02+8.43750000e-03j,\n",
       "         5.2500000e-02+3.75000000e-02j, ...,\n",
       "        -1.5187500e-01+2.02500000e-01j, -7.5937500e-02+1.26562500e-01j,\n",
       "         3.0375000e-01-1.51875000e-01j],\n",
       "       [-3.0937500e-02-8.43750000e-03j,  8.7500000e-03+0.00000000e+00j,\n",
       "        -1.8281250e-01+7.03125000e-02j, ...,\n",
       "        -1.4343750e-01-2.53125000e-02j,  1.5187500e-01-1.51875000e-01j,\n",
       "         2.2781250e-01-2.53125000e-02j],\n",
       "       [ 5.2500000e-02-3.75000000e-02j, -1.8281250e-01-7.03125000e-02j,\n",
       "        -1.1875000e-02+0.00000000e+00j, ...,\n",
       "         1.5187500e-01-1.77635684e-17j,  8.4375000e-03+1.77187500e-01j,\n",
       "         4.4408921e-17+5.06250000e-02j],\n",
       "       ...,\n",
       "       [-1.5187500e-01-2.02500000e-01j, -1.4343750e-01+2.53125000e-02j,\n",
       "         1.5187500e-01+1.77635684e-17j, ...,\n",
       "        -1.9000000e-01+0.00000000e+00j, -1.4906250e-01-6.46875000e-02j,\n",
       "         1.8750000e-02-1.87500000e-03j],\n",
       "       [-7.5937500e-02-1.26562500e-01j,  1.5187500e-01+1.51875000e-01j,\n",
       "         8.4375000e-03-1.77187500e-01j, ...,\n",
       "        -1.4906250e-01+6.46875000e-02j, -6.4375000e-02+0.00000000e+00j,\n",
       "        -1.0406250e-01-1.65937500e-01j],\n",
       "       [ 3.0375000e-01+1.51875000e-01j,  2.2781250e-01+2.53125000e-02j,\n",
       "         4.4408921e-17-5.06250000e-02j, ...,\n",
       "         1.8750000e-02+1.87500000e-03j, -1.0406250e-01+1.65937500e-01j,\n",
       "         6.8750000e-01+0.00000000e+00j]])"
      ]
     },
     "execution_count": 196,
     "metadata": {},
     "output_type": "execute_result"
    }
   ],
   "source": [
    "shadow_state = shadow_reconstruction(results, ms)"
   ]
  },
  {
   "cell_type": "markdown",
   "metadata": {},
   "source": [
    "The theoretical GHZ density matrix is printed below."
   ]
  },
  {
   "cell_type": "code",
   "execution_count": null,
   "metadata": {},
   "outputs": [
    {
     "data": {
      "text/plain": [
       "array([[0.5+0.j, 0. +0.j, 0. +0.j, ..., 0. +0.j, 0. +0.j, 0.5+0.j],\n",
       "       [0. +0.j, 0. +0.j, 0. +0.j, ..., 0. +0.j, 0. +0.j, 0. +0.j],\n",
       "       [0. +0.j, 0. +0.j, 0. +0.j, ..., 0. +0.j, 0. +0.j, 0. +0.j],\n",
       "       ...,\n",
       "       [0. +0.j, 0. +0.j, 0. +0.j, ..., 0. +0.j, 0. +0.j, 0. +0.j],\n",
       "       [0. +0.j, 0. +0.j, 0. +0.j, ..., 0. +0.j, 0. +0.j, 0. +0.j],\n",
       "       [0.5+0.j, 0. +0.j, 0. +0.j, ..., 0. +0.j, 0. +0.j, 0.5+0.j]])"
      ]
     },
     "execution_count": 194,
     "metadata": {},
     "output_type": "execute_result"
    }
   ],
   "source": [
    "state = circ.get_statevector()\n",
    "\n",
    "ghz_state = np.outer(state, state.conj().T)"
   ]
  },
  {
   "cell_type": "markdown",
   "metadata": {},
   "source": [
    "### Stitched Classical Shadows"
   ]
  },
  {
   "cell_type": "markdown",
   "metadata": {},
   "source": [
    "The code-cell below estimates the number of circuits that can be stitched together into one job. Since, the measurement budget is 100, all circuits can be stitched into one circuit. The workflow below performs classical shadows but with the circuit stitching workflow. It is important to note that the stitched circuit is submitted with 1-shot. A 100x improvement in HQC cost is demonstrated with circuit stitching compared to regular job submission."
   ]
  },
  {
   "cell_type": "code",
   "execution_count": null,
   "metadata": {},
   "outputs": [
    {
     "data": {
      "text/plain": [
       "2500.0"
      ]
     },
     "execution_count": 197,
     "metadata": {},
     "output_type": "execute_result"
    }
   ],
   "source": [
    "10000 / circ.n_2qb_gates()"
   ]
  },
  {
   "cell_type": "code",
   "execution_count": null,
   "metadata": {},
   "outputs": [],
   "source": [
    "circuits = []\n",
    "for mc in mcircs:\n",
    "    c = circ.copy()\n",
    "    c.append(mc)\n",
    "    circuits += [c]"
   ]
  },
  {
   "cell_type": "code",
   "execution_count": null,
   "metadata": {},
   "outputs": [],
   "source": [
    "job_circuit = circuit_stitching(circuits, backend.backend_info)"
   ]
  },
  {
   "cell_type": "code",
   "execution_count": null,
   "metadata": {},
   "outputs": [],
   "source": [
    "job_compiled_circuit = backend.get_compiled_circuit(job_circuit, optimisation_level=2)"
   ]
  },
  {
   "cell_type": "code",
   "execution_count": null,
   "metadata": {},
   "outputs": [],
   "source": [
    "handle = backend.process_circuit(job_compiled_circuit, n_shots=1)"
   ]
  },
  {
   "cell_type": "code",
   "execution_count": null,
   "metadata": {},
   "outputs": [],
   "source": [
    "import json\n",
    "\n",
    "register_data = {reg.name: reg.size for reg in job_compiled_circuit.c_registers}\n",
    "\n",
    "with open(\"stitched_registers_shadows.json\", \"w\") as json_io:\n",
    "    json.dump(register_data, json_io)"
   ]
  },
  {
   "cell_type": "code",
   "execution_count": null,
   "metadata": {},
   "outputs": [],
   "source": [
    "result = backend.get_result(handle)"
   ]
  },
  {
   "cell_type": "code",
   "execution_count": null,
   "metadata": {},
   "outputs": [],
   "source": [
    "import json\n",
    "from pytket.circuit import BitRegister\n",
    "\n",
    "with open(\"stitched_registers_shadows.json\", \"r\") as json_io:\n",
    "    register_data = json.load(json_io)\n",
    "\n",
    "register_list = [BitRegister(name, size) for name, size in register_data.items()]\n",
    "register_list.sort(key=lambda k: int(k.name.split(\"_\")[-1]))"
   ]
  },
  {
   "cell_type": "code",
   "execution_count": null,
   "metadata": {},
   "outputs": [],
   "source": [
    "from pytket.utils.outcomearray import OutcomeArray\n",
    "\n",
    "destitched_results = []\n",
    "for reg in register_list:\n",
    "    outcome_array = OutcomeArray.from_readouts(result.get_shots(reg))\n",
    "    destitched_results += [BackendResult(shots=outcome_array)]"
   ]
  },
  {
   "cell_type": "code",
   "execution_count": null,
   "metadata": {},
   "outputs": [
    {
     "data": {
      "text/plain": [
       "array([[ 0.455    , -0.0271875, -0.12375  , ..., -0.354375 ,  0.0253125,\n",
       "         0.30375  ],\n",
       "       [-0.0271875, -0.053125 , -0.1321875, ..., -0.0084375,  0.151875 ,\n",
       "        -0.2784375],\n",
       "       [-0.12375  , -0.1321875, -0.00625  , ...,  0.151875 ,  0.1434375,\n",
       "         0.10125  ],\n",
       "       ...,\n",
       "       [-0.354375 , -0.0084375,  0.151875 , ..., -0.195625 , -0.0984375,\n",
       "        -0.14625  ],\n",
       "       [ 0.0253125,  0.151875 ,  0.1434375, ..., -0.0984375, -0.0025   ,\n",
       "         0.0234375],\n",
       "       [ 0.30375  , -0.2784375,  0.10125  , ..., -0.14625  ,  0.0234375,\n",
       "         0.704375 ]])"
      ]
     },
     "execution_count": 211,
     "metadata": {},
     "output_type": "execute_result"
    }
   ],
   "source": [
    "stitched_shadow_state = shadow_reconstruction(destitched_results, ms).real"
   ]
  },
  {
   "cell_type": "markdown",
   "metadata": {},
   "source": [
    "The code-cell below calculates the 2-norm between the reconstucted GHZ state using circuit stitching and the state not using circuit stitching."
   ]
  },
  {
   "cell_type": "code",
   "execution_count": null,
   "metadata": {},
   "outputs": [],
   "source": [
    "def operator_2_norm(R):\n",
    "    return np.sqrt(np.trace(R.conjugate().transpose() @ R))\n",
    "\n",
    "operator_2_norm(stitched_shadow_state - shadow_state.real)"
   ]
  },
  {
   "cell_type": "markdown",
   "metadata": {},
   "source": [
    "<div align=\"center\"> &copy; 2024 by Quantinuum. All Rights Reserved. </div>"
   ]
  }
 ],
 "metadata": {
  "kernelspec": {
   "display_name": "Python 3 (ipykernel)",
   "language": "python",
   "name": "python3"
  },
  "language_info": {
   "codemirror_mode": {
    "name": "ipython",
    "version": 3
   },
   "file_extension": ".py",
   "mimetype": "text/x-python",
   "name": "python",
   "nbconvert_exporter": "python",
   "pygments_lexer": "ipython3",
   "version": "3.10.12"
  },
  "nbTranslate": {
   "displayLangs": [
    "*"
   ],
   "hotkey": "alt-t",
   "langInMainMenu": true,
   "sourceLang": "en",
   "targetLang": "fr",
   "useGoogleTranslate": true
  }
 },
 "nbformat": 4,
 "nbformat_minor": 2
}
