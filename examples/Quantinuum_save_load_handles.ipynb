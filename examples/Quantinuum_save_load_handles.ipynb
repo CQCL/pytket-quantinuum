{
 "cells": [
  {
   "attachments": {},
   "cell_type": "markdown",
   "metadata": {},
   "source": [
    "<div style=\"text-align: center;\"><br>\n",
    "<img src=\"https://assets-global.website-files.com/62b9d45fb3f64842a96c9686/62d84db4aeb2f6552f3a2f78_Quantinuum%20Logo__horizontal%20blue.svg\" width=\"200\" height=\"200\" /></div>"
   ]
  },
  {
   "attachments": {},
   "cell_type": "markdown",
   "metadata": {},
   "source": [
    "# Saving and Reloading `ResultHandle` to Monitor Job Status"
   ]
  },
  {
   "attachments": {},
   "cell_type": "markdown",
   "metadata": {},
   "source": [
    "This document shows two workflows to use reference data (`pytket.backends.resulthandle.ResultHandle`) for H-Series jobs across different sessions.\n",
    "\n",
    "A H-Series job submission with pytket involves:\n",
    "1. circuit synthesis.\n",
    "2. compilation to the H-Series gate-set.\n",
    "3. submission of the circuit to H-Series (the job).\n",
    "4. retrieval of job results.\n",
    "\n",
    "Completion of step 3. produces a [`pytket.backends.resulthandle.ResultHandle`](https://docs.quantinuum.com/tket/api-docs/backends.html#pytket.backends.resulthandle.ResultHandle). This `ResultHandle` is required to complete step 4. Sometimes, a job may take hours or days to run, depending on demand for the device, operational hours (visible in the user portal), the fair-share queue and the customer's group- and user-priorities.\n",
    "\n",
    "In this scenario, it is recommended to save the `ResultHandle` data to disk after step 3. is completed and reload from disk once step 4. is possible."
   ]
  },
  {
   "attachments": {},
   "cell_type": "markdown",
   "metadata": {},
   "source": [
    "**Content**\n",
    "* [Save `ResultHandle` to Disk](#Save-ResultHandle-to-Disk)\n",
    "* [Reload `ResultHandle` from Disk](#Reload-ResultHandle-from-Disk)\n",
    "* [Reload `ResultHandle` using Job ID](#reload-resulthandle-using-Job-ID)"
   ]
  },
  {
   "attachments": {},
   "cell_type": "markdown",
   "metadata": {},
   "source": [
    "## Save `ResultHandle` to Disk"
   ]
  },
  {
   "attachments": {},
   "cell_type": "markdown",
   "metadata": {},
   "source": [
    "The `ResultHandle` is created after a circuit is submitted with QuantinuumBackend to H-Series."
   ]
  },
  {
   "cell_type": "code",
   "execution_count": 1,
   "metadata": {},
   "outputs": [],
   "source": [
    "from pytket.extensions.quantinuum import QuantinuumBackend\n",
    "\n",
    "backend = QuantinuumBackend(device_name=\"H1-1SC\")\n",
    "backend.login()"
   ]
  },
  {
   "cell_type": "code",
   "execution_count": 2,
   "metadata": {},
   "outputs": [],
   "source": [
    "from pytket.circuit import Circuit\n",
    "from numpy.random import random_sample\n",
    "\n",
    "circ = Circuit(10)\n",
    "for qubit in circ.qubits:\n",
    "    angles = random_sample(2) * 0.1\n",
    "    circ.PhasedX(*angles.tolist(), qubit)\n",
    "\n",
    "measurement_circuit = circ.copy().measure_all()"
   ]
  },
  {
   "cell_type": "code",
   "execution_count": 3,
   "metadata": {},
   "outputs": [],
   "source": [
    "result_handle = backend.process_circuit(\n",
    "    measurement_circuit, n_shots=10, options={\"tket-opt-level\": 2}\n",
    ")"
   ]
  },
  {
   "cell_type": "code",
   "execution_count": 11,
   "metadata": {},
   "outputs": [],
   "source": [
    "jobid = backend.get_jobid(result_handle)\n",
    "print(jobid)"
   ]
  },
  {
   "cell_type": "code",
   "execution_count": 12,
   "metadata": {},
   "outputs": [],
   "source": [
    "file_io = open(\"result_handles.txt\", \"w\")\n",
    "file_io.write(str(result_handle))\n",
    "file_io.close()"
   ]
  },
  {
   "attachments": {},
   "cell_type": "markdown",
   "metadata": {},
   "source": [
    "## Reload `ResultHandle` from Disk"
   ]
  },
  {
   "attachments": {},
   "cell_type": "markdown",
   "metadata": {},
   "source": [
    "The `ResultHandle` data is read from disk and reloaded into the `ResultHandle` object using the [`from_str`](https://docs.quantinuum.com/tket/api-docs/backends.html#pytket.backends.resulthandle.ResultHandle.from_str) method."
   ]
  },
  {
   "cell_type": "code",
   "execution_count": 13,
   "metadata": {},
   "outputs": [],
   "source": [
    "text_stream = open(\"result_handles.txt\", \"r\")\n",
    "result_handle_text = text_stream.read()\n",
    "text_stream.close()"
   ]
  },
  {
   "cell_type": "code",
   "execution_count": 14,
   "metadata": {},
   "outputs": [
    {
     "name": "stdout",
     "output_type": "stream",
     "text": [
      "('e1d4d707e3d4442bbb5fe6e7f529d90a', 'null', 10, '[[\"c\", 0], [\"c\", 1], [\"c\", 2], [\"c\", 3], [\"c\", 4], [\"c\", 5], [\"c\", 6], [\"c\", 7], [\"c\", 8], [\"c\", 9]]')\n"
     ]
    }
   ],
   "source": [
    "from pytket.backends.resulthandle import ResultHandle\n",
    "\n",
    "reloaded_result_handle = ResultHandle.from_str(result_handle_text)\n",
    "print(reloaded_result_handle)"
   ]
  },
  {
   "attachments": {},
   "cell_type": "markdown",
   "metadata": {},
   "source": [
    "This can now be used to retrieve job results from H-Series."
   ]
  },
  {
   "cell_type": "code",
   "execution_count": 15,
   "metadata": {},
   "outputs": [],
   "source": [
    "result = backend.get_result(reloaded_result_handle)"
   ]
  },
  {
   "cell_type": "code",
   "execution_count": 16,
   "metadata": {},
   "outputs": [
    {
     "name": "stdout",
     "output_type": "stream",
     "text": [
      "{(0, 0, 0, 0, 0, 0, 0, 0, 0, 0): 1.0}\n"
     ]
    }
   ],
   "source": [
    "print(result.get_distribution())"
   ]
  },
  {
   "attachments": {},
   "cell_type": "markdown",
   "metadata": {},
   "source": [
    "## Reload `ResultHandle` using Job ID"
   ]
  },
  {
   "attachments": {},
   "cell_type": "markdown",
   "metadata": {},
   "source": [
    "It is also possible to retrieve H-Series data using the Job ID alone. However, it is recommended to always save `ResultHandle` information to disk using the workflow above.\n",
    "\n",
    "All Job IDs are recorded in the user portal. A single Job ID is the first argument of `ResultHandle`. The second and fourth argument are the string \"null\" and the third argument is an integer, which is set to the integer 0 in the code-cell below."
   ]
  },
  {
   "cell_type": "code",
   "execution_count": 17,
   "metadata": {},
   "outputs": [],
   "source": [
    "handle_from_id = ResultHandle(jobid, \"null\", 0, \"null\")"
   ]
  },
  {
   "cell_type": "code",
   "execution_count": 18,
   "metadata": {},
   "outputs": [],
   "source": [
    "result_from_id = backend.get_result(handle_from_id)"
   ]
  },
  {
   "cell_type": "code",
   "execution_count": null,
   "metadata": {},
   "outputs": [
    {
     "name": "stdout",
     "output_type": "stream",
     "text": [
      "{(): 1.0}\n"
     ]
    }
   ],
   "source": [
    "print(result_from_id.get_distribution())"
   ]
  },
  {
   "attachments": {},
   "cell_type": "markdown",
   "metadata": {},
   "source": [
    "## Summary"
   ]
  },
  {
   "attachments": {},
   "cell_type": "markdown",
   "metadata": {},
   "source": [
    "This document shows two workflows to use reference data (`pytket.backends.resulthandle.ResultHandle`) for H-Series jobs across different sessions.\n",
    "1. Save and reload from disk.\n",
    "2. Reinstantiate using Job ID.\n",
    "\n",
    "This workflow is very useful when jobs are submitted and results are recovered on different days. It is recommended to use method 1 over method 2."
   ]
  }
 ],
 "metadata": {
  "kernelspec": {
   "display_name": ".venv",
   "language": "python",
   "name": "python3"
  },
  "language_info": {
   "codemirror_mode": {
    "name": "ipython",
    "version": 3
   },
   "file_extension": ".py",
   "mimetype": "text/x-python",
   "name": "python",
   "nbconvert_exporter": "python",
   "pygments_lexer": "ipython3",
   "version": "3.10.12"
  },
  "orig_nbformat": 4
 },
 "nbformat": 4,
 "nbformat_minor": 2
}
