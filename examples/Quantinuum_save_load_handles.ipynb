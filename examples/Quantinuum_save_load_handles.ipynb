{
 "cells": [
  {
   "attachments": {},
   "cell_type": "markdown",
   "metadata": {},
   "source": [
    "<div style=\"text-align: center;\"><br>\n",
    "<img src=\"https://assets-global.website-files.com/62b9d45fb3f64842a96c9686/62d84db4aeb2f6552f3a2f78_Quantinuum%20Logo__horizontal%20blue.svg\" width=\"200\" height=\"200\" /></div>"
   ]
  },
  {
   "attachments": {},
   "cell_type": "markdown",
   "metadata": {},
   "source": [
    "# Saving and Reloading `ResultHandle` to Monitor Job Status"
   ]
  },
  {
   "attachments": {},
   "cell_type": "markdown",
   "metadata": {},
   "source": [
    "This document shows two workflows to use reference data (`pytket.backends.resulthandle.ResultHandle`) for H-Series jobs across different sessions.\n",
    "\n",
    "A H-Series job submission with pytket involves:\n",
    "1. circuit synthesis.\n",
    "2. compilation to the H-Series gate-set.\n",
    "3. submission of the circuit to H-Series (the job).\n",
    "4. retrieval of job results.\n",
    "\n",
    "Completion of step 3. produces a [`pytket.backends.resulthandle.ResultHandle`](https://tket.quantinuum.com/api-docs/backends.html#pytket.backends.resulthandle.ResultHandle). This `ResultHandle` is required to complete step 4. Sometimes, a job may take hours or days to run, depending on demand for the device, operational hours (visible in the user portal), the fair-share queue and the customer's group- and user-priorities.\n",
    "\n",
    "In this scenario, it is recommended to save the `ResultHandle` data to disk after step 3. is completed and reload from disk once step 4. is possible."
   ]
  },
  {
   "attachments": {},
   "cell_type": "markdown",
   "metadata": {},
   "source": [
    "**Content**\n",
    "* [Save `ResultHandle` to Disk](#Save-ResultHandle-to-Disk)\n",
    "* [Reload `ResultHandle` from Disk](#Reload-ResultHandle-from-Disk)\n",
    "* [Reload `ResultHandle` using Job ID](#reload-resulthandle-using-Job-ID)"
   ]
  },
  {
   "attachments": {},
   "cell_type": "markdown",
   "metadata": {},
   "source": [
    "## Save `ResultHandle` to Disk"
   ]
  },
  {
   "attachments": {},
   "cell_type": "markdown",
   "metadata": {},
   "source": [
    "The `ResultHandle` is created after a circuit is submitted with QuantinuumBackend to H-Series."
   ]
  },
  {
   "cell_type": "code",
   "execution_count": 1,
   "metadata": {},
   "outputs": [],
   "source": [
    "from pytket.extensions.quantinuum import QuantinuumBackend\n",
    "\n",
    "backend = QuantinuumBackend(device_name=\"H1-1SC\")\n",
    "backend.login()"
   ]
  },
  {
   "cell_type": "code",
   "execution_count": 2,
   "metadata": {},
   "outputs": [],
   "source": [
    "from pytket.circuit import Circuit\n",
    "from numpy.random import random_sample\n",
    "\n",
    "circ = Circuit(10)\n",
    "for qubit in circ.qubits:\n",
    "    angles = random_sample(2) * 0.1\n",
    "    circ.PhasedX(*angles.tolist(), qubit)\n",
    "\n",
    "measurement_circuit = circ.copy().measure_all()"
   ]
  },
  {
   "cell_type": "code",
   "execution_count": 3,
   "metadata": {},
   "outputs": [],
   "source": [
    "result_handle = backend.process_circuit(\n",
    "    measurement_circuit, n_shots=10, options={\"tket-opt-level\": 2}\n",
    ")"
   ]
  },
  {
   "cell_type": "code",
   "execution_count": 4,
   "metadata": {},
   "outputs": [],
   "source": [
    "file_io = open(\"result_handles.txt\", \"w\")\n",
    "file_io.write(str(result_handle))\n",
    "file_io.close()"
   ]
  },
  {
   "attachments": {},
   "cell_type": "markdown",
   "metadata": {},
   "source": [
    "## Reload `ResultHandle` from Disk"
   ]
  },
  {
   "attachments": {},
   "cell_type": "markdown",
   "metadata": {},
   "source": [
    "The `ResultHandle` data is read from disk and reloaded into the `ResultHandle` object using the [`from_str`](https://tket.quantinuum.com/api-docs/backends.html#pytket.backends.resulthandle.ResultHandle.from_str) method."
   ]
  },
  {
   "cell_type": "code",
   "execution_count": 5,
   "metadata": {},
   "outputs": [],
   "source": [
    "text_stream = open(\"result_handles.txt\", \"r\")\n",
    "result_handle_text = text_stream.read()\n",
    "text_stream.close()"
   ]
  },
  {
   "cell_type": "code",
   "execution_count": 6,
   "metadata": {},
   "outputs": [
    {
     "name": "stdout",
     "output_type": "stream",
     "text": [
      "('93ab1856386641acaa0a55f3a70239c6', 'null', 10, '[[\"c\", 0], [\"c\", 1], [\"c\", 2], [\"c\", 3], [\"c\", 4], [\"c\", 5], [\"c\", 6], [\"c\", 7], [\"c\", 8], [\"c\", 9]]')\n"
     ]
    }
   ],
   "source": [
    "from pytket.backends.resulthandle import ResultHandle\n",
    "\n",
    "reloaded_result_handle = ResultHandle.from_str(result_handle_text)\n",
    "print(reloaded_result_handle)"
   ]
  },
  {
   "attachments": {},
   "cell_type": "markdown",
   "metadata": {},
   "source": [
    "This can now be used to retrieve job results from H-Series."
   ]
  },
  {
   "cell_type": "code",
   "execution_count": 7,
   "metadata": {},
   "outputs": [],
   "source": [
    "result = backend.get_result(reloaded_result_handle)"
   ]
  },
  {
   "cell_type": "code",
   "execution_count": 8,
   "metadata": {},
   "outputs": [
    {
     "name": "stdout",
     "output_type": "stream",
     "text": [
      "{(0, 0, 0, 0, 0, 0, 0, 0, 0, 0): 1.0}\n"
     ]
    }
   ],
   "source": [
    "print(result.get_distribution())"
   ]
  },
  {
   "attachments": {},
   "cell_type": "markdown",
   "metadata": {},
   "source": [
    "## Reload `ResultHandle` using Job ID"
   ]
  },
  {
   "attachments": {},
   "cell_type": "markdown",
   "metadata": {},
   "source": [
    "It is also possible to retrieve H-Series data using the Job ID alone. However, it is recommended to always save `ResultHandle` information to disk using the workflow above.\n",
    "\n",
    "All Job IDs are recorded in the user portal. A single Job ID is the first argument of `ResultHandle`. The second and fourth argument are the string \"null\" and the third argument is an integer, which is set to the integer 0 in the code-cell below."
   ]
  },
  {
   "cell_type": "code",
   "execution_count": 9,
   "metadata": {},
   "outputs": [],
   "source": [
    "handle_from_id = ResultHandle(\"66f2da298ea84373b2b7968a7bb6d7b7\", \"null\", 0, \"null\")"
   ]
  },
  {
   "cell_type": "code",
   "execution_count": 10,
   "metadata": {},
   "outputs": [
    {
     "ename": "QuantinuumAPIError",
     "evalue": "HTTP error attempting: job status.\n\nServer Response: {'error': {'code': 21, 'text': 'Error: job does not exist'}}",
     "output_type": "error",
     "traceback": [
      "\u001b[0;31m---------------------------------------------------------------------------\u001b[0m",
      "\u001b[0;31mCircuitNotRunError\u001b[0m                        Traceback (most recent call last)",
      "File \u001b[0;32m~/projects/pytket-quantinuum/pytket/extensions/quantinuum/backends/quantinuum.py:1280\u001b[0m, in \u001b[0;36mQuantinuumBackend.get_result\u001b[0;34m(self, handle, **kwargs)\u001b[0m\n\u001b[1;32m   1279\u001b[0m \u001b[38;5;28;01mtry\u001b[39;00m:\n\u001b[0;32m-> 1280\u001b[0m     \u001b[38;5;28;01mreturn\u001b[39;00m \u001b[38;5;28;43msuper\u001b[39;49m\u001b[43m(\u001b[49m\u001b[43m)\u001b[49m\u001b[38;5;241;43m.\u001b[39;49m\u001b[43mget_result\u001b[49m\u001b[43m(\u001b[49m\u001b[43mhandle\u001b[49m\u001b[43m)\u001b[49m\n\u001b[1;32m   1281\u001b[0m \u001b[38;5;28;01mexcept\u001b[39;00m CircuitNotRunError:\n",
      "File \u001b[0;32m~/projects/pytket-quantinuum/.venv/lib/python3.10/site-packages/pytket/backends/backend.py:347\u001b[0m, in \u001b[0;36mBackend.get_result\u001b[0;34m(self, handle, **kwargs)\u001b[0m\n\u001b[1;32m    346\u001b[0m     \u001b[38;5;28;01mreturn\u001b[39;00m cast(BackendResult, \u001b[38;5;28mself\u001b[39m\u001b[38;5;241m.\u001b[39m_cache[handle][\u001b[38;5;124m\"\u001b[39m\u001b[38;5;124mresult\u001b[39m\u001b[38;5;124m\"\u001b[39m])\n\u001b[0;32m--> 347\u001b[0m \u001b[38;5;28;01mraise\u001b[39;00m CircuitNotRunError(handle)\n",
      "\u001b[0;31mCircuitNotRunError\u001b[0m: Circuit corresponding to ResultHandle('66f2da298ea84373b2b7968a7bb6d7b7', 'null', 0, 'null') has not been run by this backend instance.",
      "\nDuring handling of the above exception, another exception occurred:\n",
      "\u001b[0;31mQuantinuumAPIError\u001b[0m                        Traceback (most recent call last)",
      "Cell \u001b[0;32mIn[10], line 1\u001b[0m\n\u001b[0;32m----> 1\u001b[0m result_from_id \u001b[38;5;241m=\u001b[39m \u001b[43mbackend\u001b[49m\u001b[38;5;241;43m.\u001b[39;49m\u001b[43mget_result\u001b[49m\u001b[43m(\u001b[49m\u001b[43mhandle_from_id\u001b[49m\u001b[43m)\u001b[49m\n",
      "File \u001b[0;32m~/projects/pytket-quantinuum/pytket/extensions/quantinuum/backends/quantinuum.py:1319\u001b[0m, in \u001b[0;36mQuantinuumBackend.get_result\u001b[0;34m(self, handle, **kwargs)\u001b[0m\n\u001b[1;32m   1316\u001b[0m     wait \u001b[38;5;241m=\u001b[39m \u001b[38;5;28mint\u001b[39m(wait)\n\u001b[1;32m   1317\u001b[0m use_websocket \u001b[38;5;241m=\u001b[39m cast(Optional[\u001b[38;5;28mbool\u001b[39m], kwargs\u001b[38;5;241m.\u001b[39mget(\u001b[38;5;124m\"\u001b[39m\u001b[38;5;124muse_websocket\u001b[39m\u001b[38;5;124m\"\u001b[39m, \u001b[38;5;28;01mNone\u001b[39;00m))\n\u001b[0;32m-> 1319\u001b[0m job_retrieve \u001b[38;5;241m=\u001b[39m \u001b[38;5;28;43mself\u001b[39;49m\u001b[38;5;241;43m.\u001b[39;49m\u001b[43m_retrieve_job\u001b[49m\u001b[43m(\u001b[49m\u001b[43mjobid\u001b[49m\u001b[43m,\u001b[49m\u001b[43m \u001b[49m\u001b[43mtimeout\u001b[49m\u001b[43m,\u001b[49m\u001b[43m \u001b[49m\u001b[43mwait\u001b[49m\u001b[43m,\u001b[49m\u001b[43m \u001b[49m\u001b[43muse_websocket\u001b[49m\u001b[43m)\u001b[49m\n\u001b[1;32m   1320\u001b[0m circ_status \u001b[38;5;241m=\u001b[39m _parse_status(job_retrieve)\n\u001b[1;32m   1321\u001b[0m \u001b[38;5;28;01mif\u001b[39;00m circ_status\u001b[38;5;241m.\u001b[39mstatus \u001b[38;5;129;01mnot\u001b[39;00m \u001b[38;5;129;01min\u001b[39;00m (\n\u001b[1;32m   1322\u001b[0m     StatusEnum\u001b[38;5;241m.\u001b[39mCOMPLETED,\n\u001b[1;32m   1323\u001b[0m     StatusEnum\u001b[38;5;241m.\u001b[39mCANCELLED,\n\u001b[1;32m   1324\u001b[0m ):\n",
      "File \u001b[0;32m~/projects/pytket-quantinuum/pytket/extensions/quantinuum/backends/quantinuum.py:1177\u001b[0m, in \u001b[0;36mQuantinuumBackend._retrieve_job\u001b[0;34m(self, jobid, timeout, wait, use_websocket)\u001b[0m\n\u001b[1;32m   1174\u001b[0m     \u001b[38;5;28;01mraise\u001b[39;00m \u001b[38;5;167;01mRuntimeError\u001b[39;00m(\u001b[38;5;124m\"\u001b[39m\u001b[38;5;124mAPI handler not set\u001b[39m\u001b[38;5;124m\"\u001b[39m)\n\u001b[1;32m   1175\u001b[0m \u001b[38;5;28;01mwith\u001b[39;00m \u001b[38;5;28mself\u001b[39m\u001b[38;5;241m.\u001b[39mapi_handler\u001b[38;5;241m.\u001b[39moverride_timeouts(timeout\u001b[38;5;241m=\u001b[39mtimeout, retry_timeout\u001b[38;5;241m=\u001b[39mwait):\n\u001b[1;32m   1176\u001b[0m     \u001b[38;5;66;03m# set and unset optional timeout parameters\u001b[39;00m\n\u001b[0;32m-> 1177\u001b[0m     job_dict \u001b[38;5;241m=\u001b[39m \u001b[38;5;28;43mself\u001b[39;49m\u001b[38;5;241;43m.\u001b[39;49m\u001b[43mapi_handler\u001b[49m\u001b[38;5;241;43m.\u001b[39;49m\u001b[43mretrieve_job\u001b[49m\u001b[43m(\u001b[49m\u001b[43mjobid\u001b[49m\u001b[43m,\u001b[49m\u001b[43m \u001b[49m\u001b[43muse_websocket\u001b[49m\u001b[43m)\u001b[49m\n\u001b[1;32m   1179\u001b[0m \u001b[38;5;28;01mif\u001b[39;00m job_dict \u001b[38;5;129;01mis\u001b[39;00m \u001b[38;5;28;01mNone\u001b[39;00m:\n\u001b[1;32m   1180\u001b[0m     \u001b[38;5;28;01mraise\u001b[39;00m \u001b[38;5;167;01mRuntimeError\u001b[39;00m(\u001b[38;5;124mf\u001b[39m\u001b[38;5;124m\"\u001b[39m\u001b[38;5;124mUnable to retrieve job \u001b[39m\u001b[38;5;132;01m{\u001b[39;00mjobid\u001b[38;5;132;01m}\u001b[39;00m\u001b[38;5;124m\"\u001b[39m)\n",
      "File \u001b[0;32m~/projects/pytket-quantinuum/pytket/extensions/quantinuum/backends/api_wrappers.py:370\u001b[0m, in \u001b[0;36mQuantinuumAPI.retrieve_job\u001b[0;34m(self, job_id, use_websocket)\u001b[0m\n\u001b[1;32m    358\u001b[0m \u001b[38;5;28;01mdef\u001b[39;00m \u001b[38;5;21mretrieve_job\u001b[39m(\n\u001b[1;32m    359\u001b[0m     \u001b[38;5;28mself\u001b[39m, job_id: \u001b[38;5;28mstr\u001b[39m, use_websocket: Optional[\u001b[38;5;28mbool\u001b[39m] \u001b[38;5;241m=\u001b[39m \u001b[38;5;28;01mNone\u001b[39;00m\n\u001b[1;32m    360\u001b[0m ) \u001b[38;5;241m-\u001b[39m\u001b[38;5;241m>\u001b[39m Optional[Dict]:\n\u001b[1;32m    361\u001b[0m \u001b[38;5;250m    \u001b[39m\u001b[38;5;124;03m\"\"\"\u001b[39;00m\n\u001b[1;32m    362\u001b[0m \u001b[38;5;124;03m    Retrieves job from device.\u001b[39;00m\n\u001b[1;32m    363\u001b[0m \n\u001b[0;32m   (...)\u001b[0m\n\u001b[1;32m    368\u001b[0m \n\u001b[1;32m    369\u001b[0m \u001b[38;5;124;03m    \"\"\"\u001b[39;00m\n\u001b[0;32m--> 370\u001b[0m     jr \u001b[38;5;241m=\u001b[39m \u001b[38;5;28;43mself\u001b[39;49m\u001b[38;5;241;43m.\u001b[39;49m\u001b[43mretrieve_job_status\u001b[49m\u001b[43m(\u001b[49m\u001b[43mjob_id\u001b[49m\u001b[43m,\u001b[49m\u001b[43m \u001b[49m\u001b[43muse_websocket\u001b[49m\u001b[43m)\u001b[49m\n\u001b[1;32m    371\u001b[0m     \u001b[38;5;28;01mif\u001b[39;00m \u001b[38;5;129;01mnot\u001b[39;00m jr:\n\u001b[1;32m    372\u001b[0m         \u001b[38;5;28;01mraise\u001b[39;00m QuantinuumAPIError(\u001b[38;5;124mf\u001b[39m\u001b[38;5;124m\"\u001b[39m\u001b[38;5;124mUnable to retrieve job \u001b[39m\u001b[38;5;132;01m{\u001b[39;00mjob_id\u001b[38;5;132;01m}\u001b[39;00m\u001b[38;5;124m\"\u001b[39m)\n",
      "File \u001b[0;32m~/projects/pytket-quantinuum/pytket/extensions/quantinuum/backends/api_wrappers.py:352\u001b[0m, in \u001b[0;36mQuantinuumAPI.retrieve_job_status\u001b[0;34m(self, job_id, use_websocket)\u001b[0m\n\u001b[1;32m    350\u001b[0m jr: Optional[Dict] \u001b[38;5;241m=\u001b[39m \u001b[38;5;28;01mNone\u001b[39;00m\n\u001b[1;32m    351\u001b[0m \u001b[38;5;66;03m# Check for invalid responses, and raise an exception if so\u001b[39;00m\n\u001b[0;32m--> 352\u001b[0m \u001b[38;5;28;43mself\u001b[39;49m\u001b[38;5;241;43m.\u001b[39;49m\u001b[43m_response_check\u001b[49m\u001b[43m(\u001b[49m\u001b[43mres\u001b[49m\u001b[43m,\u001b[49m\u001b[43m \u001b[49m\u001b[38;5;124;43m\"\u001b[39;49m\u001b[38;5;124;43mjob status\u001b[39;49m\u001b[38;5;124;43m\"\u001b[39;49m\u001b[43m)\u001b[49m\n\u001b[1;32m    353\u001b[0m \u001b[38;5;66;03m# if we successfully got status return the decoded details\u001b[39;00m\n\u001b[1;32m    354\u001b[0m \u001b[38;5;28;01mif\u001b[39;00m res\u001b[38;5;241m.\u001b[39mstatus_code \u001b[38;5;241m==\u001b[39m HTTPStatus\u001b[38;5;241m.\u001b[39mOK:\n",
      "File \u001b[0;32m~/projects/pytket-quantinuum/pytket/extensions/quantinuum/backends/api_wrappers.py:327\u001b[0m, in \u001b[0;36mQuantinuumAPI._response_check\u001b[0;34m(self, res, description)\u001b[0m\n\u001b[1;32m    325\u001b[0m \u001b[38;5;28;01melif\u001b[39;00m res\u001b[38;5;241m.\u001b[39mstatus_code \u001b[38;5;241m!=\u001b[39m HTTPStatus\u001b[38;5;241m.\u001b[39mOK:\n\u001b[1;32m    326\u001b[0m     jr \u001b[38;5;241m=\u001b[39m res\u001b[38;5;241m.\u001b[39mjson()\n\u001b[0;32m--> 327\u001b[0m     \u001b[38;5;28;01mraise\u001b[39;00m QuantinuumAPIError(\n\u001b[1;32m    328\u001b[0m         \u001b[38;5;124mf\u001b[39m\u001b[38;5;124m\"\u001b[39m\u001b[38;5;124mHTTP error attempting: \u001b[39m\u001b[38;5;132;01m{\u001b[39;00mdescription\u001b[38;5;132;01m}\u001b[39;00m\u001b[38;5;124m.\u001b[39m\u001b[38;5;130;01m\\n\u001b[39;00m\u001b[38;5;130;01m\\n\u001b[39;00m\u001b[38;5;124mServer Response: \u001b[39m\u001b[38;5;132;01m{\u001b[39;00mjr\u001b[38;5;132;01m}\u001b[39;00m\u001b[38;5;124m\"\u001b[39m\n\u001b[1;32m    329\u001b[0m     )\n",
      "\u001b[0;31mQuantinuumAPIError\u001b[0m: HTTP error attempting: job status.\n\nServer Response: {'error': {'code': 21, 'text': 'Error: job does not exist'}}"
     ]
    }
   ],
   "source": [
    "result_from_id = backend.get_result(handle_from_id)"
   ]
  },
  {
   "cell_type": "code",
   "execution_count": null,
   "metadata": {},
   "outputs": [
    {
     "name": "stdout",
     "output_type": "stream",
     "text": [
      "{(): 1.0}\n"
     ]
    }
   ],
   "source": [
    "print(result_from_id.get_distribution())"
   ]
  },
  {
   "attachments": {},
   "cell_type": "markdown",
   "metadata": {},
   "source": [
    "## Summary"
   ]
  },
  {
   "attachments": {},
   "cell_type": "markdown",
   "metadata": {},
   "source": [
    "This document shows two workflows to use reference data (`pytket.backends.resulthandle.ResultHandle`) for H-Series jobs across different sessions.\n",
    "1. Save and reload from disk.\n",
    "2. Reinstantiate using Job ID.\n",
    "\n",
    "This workflow is very useful when jobs are submitted and results are recovered on different days. It is recommended to use method 1 over method 2."
   ]
  }
 ],
 "metadata": {
  "kernelspec": {
   "display_name": ".venv",
   "language": "python",
   "name": "python3"
  },
  "language_info": {
   "codemirror_mode": {
    "name": "ipython",
    "version": 3
   },
   "file_extension": ".py",
   "mimetype": "text/x-python",
   "name": "python",
   "nbconvert_exporter": "python",
   "pygments_lexer": "ipython3",
   "version": "3.10.12"
  },
  "orig_nbformat": 4
 },
 "nbformat": 4,
 "nbformat_minor": 2
}
