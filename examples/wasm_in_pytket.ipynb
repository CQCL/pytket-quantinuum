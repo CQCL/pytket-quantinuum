{
 "cells": [
  {
   "cell_type": "markdown",
   "metadata": {},
   "source": [
    "# Wasm Calls with pytket\n",
    "\n",
    "The Wasm module in pytket allows you to add external classical functions from compiled web assembly (Wasm) to a quantum circuit. To begin, you need a compiled Wasm file that contains functions you'd like to call from your quantum circuit. "
   ]
  },
  {
   "cell_type": "markdown",
   "metadata": {},
   "source": [
    "## Set up `WasmFileHandler`\n",
    "\n",
    "Once you have a compiled Wasm file, you will create a `WasmFileHandler` object to call and use the compiled Wasm within your quantum circuit. The `WasmFileHandler` knows all available functions and the corresponding signatures within the Wasm file. "
   ]
  },
  {
   "cell_type": "code",
   "execution_count": 1,
   "metadata": {},
   "outputs": [],
   "source": [
    "from pytket import wasm, Circuit, Bit\n",
    "\n",
    "wfh = wasm.WasmFileHandler(\"testfile.wasm\")\n",
    "print(\"wasm file uid:\")\n",
    "print(wfh)"
   ]
  },
  {
   "cell_type": "markdown",
   "metadata": {},
   "source": [
    "If you are not sure about the signatures of the functions of your file, you can get a list of them from the `WasmFileHandler` as shown below. The parameters and result types of the supported functions must be `i32`. All functions that contain other types will be listed when printing the `WasmFileHandler` as well, but you will not be able to add them to a quantum circuit."
   ]
  },
  {
   "cell_type": "code",
   "execution_count": 3,
   "metadata": {},
   "outputs": [
    {
     "name": "stdout",
     "output_type": "stream",
     "text": [
      "wasm file repr:\n",
      "Functions in wasm file with the uid f5265965c9f207c02e626e3fd48183b545f74877a27c62c3fcc2cc68bee5a36a:\n",
      "function 'init' with 0 i32 parameter(s) and 0 i32 return value(s)\n",
      "function 'add_count' with 2 i32 parameter(s) and 1 i32 return value(s)\n",
      "\n"
     ]
    }
   ],
   "source": [
    "print(\"wasm file repr:\")\n",
    "print(repr(wfh))"
   ]
  },
  {
   "cell_type": "markdown",
   "metadata": {},
   "source": [
    "## Add classical function calls to your quantum circuit\n",
    "\n",
    "Next, we add the classical function calls to our quantum circuit. \n",
    "\n",
    "First we use the [add_wasm](https://cqcl.github.io/tket/pytket/api/circuit_class.html#pytket.circuit.Circuit.add_wasm) function and add the function `add_one`, defined in the WASM file. The first parameter will be read from `Bit(0)` and the result written to `Bit(1)`. The length of the two lists giving the number of bits is the number of parameters and the number of results. For more information on the `add_wasm` function, see [add_wasm](https://cqcl.github.io/tket/pytket/api/circuit_class.html#pytket.circuit.Circuit.add_wasm)."
   ]
  },
  {
   "cell_type": "code",
   "execution_count": 4,
   "metadata": {},
   "outputs": [],
   "source": [
    "c = Circuit(0, 8)\n",
    "\n",
    "c.add_wasm(\n",
    "    funcname=\"add_one\",    # Function in the Wasm file\n",
    "    filehandler=wfh,       # Wasm file handler\n",
    "    list_i=[1],            # Number of bits in the input variables in i32 format\n",
    "    list_o=[1],            # Number of bits in the output variables in i32 format\n",
    "    args=[Bit(0), Bit(1)], # List of circuit bits where the wasm op will be added to\n",
    ")  "
   ]
  },
  {
   "cell_type": "markdown",
   "metadata": {},
   "source": [
    "If you have more than one bit per parameter, you can add as shown below. This will add the function `add_one` to read from `Bit(0)` and `Bit(1)` for the first parameter and write the result to `Bit(2)`, `Bit(3)` and `Bit(4)`."
   ]
  },
  {
   "cell_type": "code",
   "execution_count": null,
   "metadata": {},
   "outputs": [],
   "source": [
    "c.add_wasm(\"add_one\", wfh, [2], [3], [Bit(0), Bit(1), Bit(2), Bit(3), Bit(4)])"
   ]
  },
  {
   "cell_type": "markdown",
   "metadata": {},
   "source": [
    "Functions with multiple parameters can be done in the same way."
   ]
  },
  {
   "cell_type": "code",
   "execution_count": null,
   "metadata": {},
   "outputs": [],
   "source": [
    "c.add_wasm(\"multi\",wfh,[2, 1],[3],[Bit(0), Bit(1), Bit(5), Bit(2), Bit(3), Bit(4)],)"
   ]
  },
  {
   "cell_type": "markdown",
   "metadata": {},
   "source": [
    "If you want to add two parameters with the same bits, that is fine too."
   ]
  },
  {
   "cell_type": "code",
   "execution_count": null,
   "metadata": {},
   "outputs": [],
   "source": [
    "c.add_wasm(\"multi\", wfh, [2, 2], [3], [Bit(0), Bit(1), Bit(0), Bit(1), Bit(2), Bit(3), Bit(4)])"
   ]
  },
  {
   "cell_type": "markdown",
   "metadata": {},
   "source": [
    "If you are working with registers in your circuit as a means to organize the classical bits, you can add Wasm to your circuit using registers for each parameter and result. For more information on the `add_wasm_to_reg` function, see [add_wasm_to_reg](https://cqcl.github.io/tket/pytket/api/circuit_class.html#pytket.circuit.Circuit.add_wasm_to_reg)."
   ]
  },
  {
   "cell_type": "code",
   "execution_count": null,
   "metadata": {},
   "outputs": [],
   "source": [
    "# Add registers to circuit\n",
    "c0 = c.add_c_register(\"c0\", 3)\n",
    "c1 = c.add_c_register(\"c1\", 4)\n",
    "c2 = c.add_c_register(\"c2\", 5)\n",
    "\n",
    "c.add_wasm_to_reg(\"multi\", wfh, [c0, c1], [c2])\n",
    "c.add_wasm_to_reg(\"add_one\", wfh, [c2], [c2])"
   ]
  },
  {
   "cell_type": "markdown",
   "metadata": {},
   "source": [
    "Your Wasm file might have some global data. To make sure this data is not affected by function calls in the wrong order, pytket will make sure that the order of the Wasm calls within a circuit is not restructured. For this purpose, pytket will add all wasm operations to a `wasm_wire` by default. If you are not worried about a possible restructure of the Wasm calls in your circuit, you have the option to not add the `wasm_wire` to your Wasm operations. If you only want to stop some special reordering for some of your wasm operations, you can add some the wasm operations to multiple `wasm_wire` to enable the restructuring in the intended way. Even if there are no `wasm_wire` given, pytket will only restructure the wasm operations if there are no dependencies in parameters or the results."
   ]
  },
  {
   "cell_type": "markdown",
   "metadata": {},
   "source": [
    "Here you can see that all operations we have created above are conected to the default `wasm_wire`:"
   ]
  },
  {
   "cell_type": "code",
   "execution_count": null,
   "metadata": {},
   "outputs": [],
   "source": [
    "for gate in c:\n",
    "    print(gate)"
   ]
  },
  {
   "cell_type": "markdown",
   "metadata": {},
   "source": [
    "We will now create a new circuit and add four operations. The two `add_one` operations should be allowed to commute, but we want to make sure that `multi` is executed after the two other functions. The last `add_two` operation can commute with all others."
   ]
  },
  {
   "cell_type": "code",
   "execution_count": null,
   "metadata": {},
   "outputs": [],
   "source": [
    "c = Circuit(0, 5)\n",
    "\n",
    "c.add_wasm(\"add_one\", wfh, [1], [1], [Bit(0), Bit(0)], [0])\n",
    "c.add_wasm(\"add_one\", wfh, [1], [1], [Bit(1), Bit(1)], [1])\n",
    "c.add_wasm(\"multi\", wfh, [1, 1], [1], [Bit(2), Bit(3), Bit(2)], [0, 1])\n",
    "c.add_wasm(\"add_two\", wfh, [1], [1], [Bit(4), Bit(4)], [])"
   ]
  },
  {
   "cell_type": "code",
   "execution_count": null,
   "metadata": {},
   "outputs": [],
   "source": [
    "for gate in c:\n",
    "    print(gate)"
   ]
  },
  {
   "cell_type": "markdown",
   "metadata": {},
   "source": [
    "One helpful feature is to plot the DAG of the circuit to get an overview of the different components of the circuit."
   ]
  },
  {
   "cell_type": "code",
   "execution_count": null,
   "metadata": {},
   "outputs": [],
   "source": [
    "from pytket.utils import Graph\n",
    "\n",
    "g = Graph(c)\n",
    "g.view_DAG()"
   ]
  },
  {
   "cell_type": "markdown",
   "metadata": {},
   "source": [
    "## Send Wasm to the Backend\n",
    "\n",
    "In the last step we want to send the circuit with wasm to a backend. First we create the backend. For this step you will need Quantinuum credentials."
   ]
  },
  {
   "cell_type": "code",
   "execution_count": null,
   "metadata": {},
   "outputs": [],
   "source": [
    "from pytket.extensions.quantinuum import QuantinuumBackend\n",
    "\n",
    "machine = \"H1-1E\"\n",
    "b = QuantinuumBackend(device_name=machine)\n",
    "b.login()"
   ]
  },
  {
   "cell_type": "markdown",
   "metadata": {},
   "source": [
    "When submitting the circuit to run in `process_circuits`, the `WasmFileHandler` is added as an input."
   ]
  },
  {
   "cell_type": "code",
   "execution_count": null,
   "metadata": {},
   "outputs": [],
   "source": [
    "c = Circuit(1, name=\"Test Wasm\")\n",
    "a = c.add_c_register(\"a\", 8)\n",
    "c.add_wasm_to_reg(\"add_one\", wfh, [a], [a])\n",
    "c = b.get_compiled_circuit(c)\n",
    "h = b.process_circuits([c], n_shots=10, wasm_file_handler=wfh)[0]"
   ]
  },
  {
   "cell_type": "code",
   "execution_count": null,
   "metadata": {},
   "outputs": [],
   "source": [
    "status = b.circuit_status(h)\n",
    "print(status)"
   ]
  },
  {
   "cell_type": "code",
   "execution_count": null,
   "metadata": {},
   "outputs": [],
   "source": [
    "result = b.get_result(h)\n",
    "print(result)"
   ]
  },
  {
   "cell_type": "code",
   "execution_count": null,
   "metadata": {},
   "outputs": [],
   "source": [
    "for shot in result.get_shots():\n",
    "    print(shot)"
   ]
  },
  {
   "cell_type": "markdown",
   "metadata": {},
   "source": [
    "<div align=\"center\"> &copy; 2023 by Quantinuum. All Rights Reserved. </div>"
   ]
  }
 ],
 "metadata": {
  "kernelspec": {
   "display_name": "Python 3 (ipykernel)",
   "language": "python",
   "name": "python3"
  },
  "language_info": {
   "codemirror_mode": {
    "name": "ipython",
    "version": 3
   },
   "file_extension": ".py",
   "mimetype": "text/x-python",
   "name": "python",
   "nbconvert_exporter": "python",
   "pygments_lexer": "ipython3",
   "version": "3.10.11"
  }
 },
 "nbformat": 4,
 "nbformat_minor": 2
}
