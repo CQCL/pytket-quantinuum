{
 "cells": [
  {
   "attachments": {},
   "cell_type": "markdown",
   "metadata": {},
   "source": [
    "<div style=\"text-align: left;\">\n",
    "<img src=\"https://assets-global.website-files.com/62b9d45fb3f64842a96c9686/62d84db4aeb2f6552f3a2f78_Quantinuum%20Logo__horizontal%20blue.svg\" width=\"200\" height=\"200\" /></div>\n",
    "\n",
    "# Ground-State Calculations with Chemically-Aware Unitary Coupled Cluster\n",
    "\n",
    "This notebook demonstrates a Hamiltonian Avaraging procedure for a 6-qubit  electronic structure chemistry problem on an H-Series device with the  Chemically-Aware Unitary Coupled Cluster (UCC) Ansatz.\n",
    "\n",
    "The aim is to estimate the energy of the $\\textrm{CH}_4$ molecule. The Hamiltonian Averaging procedure is used to estimate this quantity. \n",
    "\n",
    "\n",
    "VQE uses Hamiltonian Averaging, aiming to optimise an initial  parameter set to obtain the lowest energy. In this use case, only one iteration of VQE is executed on  H-Series. The optimal parameters characterising the ground-state of $\\textrm{CH}_4$ are obtained from  a noiseless statevector simulator on a classical computer - VQE is performed on a classical computer as  a pre-processing step. These parameters are substituted into the Chemically-Aware UCC circuit. This circuit is then combined with the measurement operations necessary to measure the $\\textrm{CH}_4$ Hamiltonian and executed on hardware. \n",
    "\n",
    "To minimise the two-qubit gate resources, approximations are made to represent this molecule with 6-qubits. The Chemically Aware UCC Ansatz can be defined with both arbitrary-angle two-qubit gates and fixed-angle two-qubit gates. With arbitrary-angle two-qubit gates, a higher quality output is \n",
    "expected.\n",
    "\n",
    "For further information on Quantinuum's computational chemistry capabilities, please see Quantinuum's premium Python-based R&D platform, [InQuanto](https://www.quantinuum.com/computationalchemistry/inquanto). Capabilities include, but are not limited to, ground-state and excited-state calculations with the proprietary Chemically-Aware UCC method, additional productivity tools to improve result quality, and resource cost for calculations on H-Series.\n",
    "\n",
    "The $\\textrm{CH}_4$ problem was simulated on H-series to estimate (1) optical spectra and (2) a chemical reaction to remove $\\textrm{CH}_4$, a greenhouse gas from the atmosphere [Link](https://pubs.aip.org/aip/jcp/article-abstract/158/21/214114/2893956/Chemically-aware-unitary-coupled-cluster-with-ab?redirectedFrom=fulltext).\n",
    "\n",
    "The following software packages are required by this notebook:\n",
    "\n",
    "\n",
    "| Package    | Version    |\n",
    "|------------|------------|\n",
    "| `pytket`   | v1.22.0    |\n",
    "| `numpy`    | v1.26.2    |\n",
    "| `sympy`    | v1.12.0    |\n",
    "| `pandas`   | v2.1.3     |\n",
    "| `seaborn`  | v0.13.0    |"
   ]
  },
  {
   "attachments": {},
   "cell_type": "markdown",
   "metadata": {},
   "source": [
    "### Links\n",
    "\n",
    "* [InQuanto Chemistry R&D Platform](https://www.quantinuum.com/computationalchemistry/inquanto)\n",
    "* [Chemically aware unitary coupled cluster with ab initio calculations on an ion trap quantum computer: A refrigerant chemicals’ application](https://pubs.aip.org/aip/jcp/article-abstract/158/21/214114/2893956/Chemically-aware-unitary-coupled-cluster-with-ab?redirectedFrom=fulltext)"
   ]
  },
  {
   "attachments": {},
   "cell_type": "markdown",
   "metadata": {},
   "source": [
    "## Contents\n",
    "\n",
    "* [Hamiltonian Specification](#Hamiltonian-Specification)\n",
    "* [Chemically-Aware UCC Circuit with Fixed-Angle Two-Qubit Gates](#Chemically-Aware-UCC-Circuit-with-Fixed-Angle-Two-Qubit-Gates)\n",
    "* [Chemically-Aware UCC Circuit with Fixed-Angle Two-Qubit Gates synthesised with `pytket` `PauliExpBox`](#Chemically-Aware-Unitary-Coupled-Cluster-Circuit-with-Fixed-Angle-Two-Qubit-Gates-synthesised-with-`pytket`-`PauliExpBox`)\n",
    "* [Chemically-Aware UCC Circuit with Arbitrary-Angle Two-Qubit Gates](#Chemically-Aware-UCC-Circuit-with-Arbitrary-Angle-Two-Qubit-Gates)\n",
    "* [Classical Variational Procedure on Noiseless Statevector Simulator](#Classical-Noiseless-Variational-Procedure-with-NumPy-and-SciPy)\n",
    "* [Hamiltonian Averaging](#Hamiltonian-Averaging)\n",
    "* [Jensen-Shannon Divergence](#Jensen-Shannon-Divergence)"
   ]
  },
  {
   "attachments": {},
   "cell_type": "markdown",
   "metadata": {},
   "source": [
    "## Hamiltonian Specification"
   ]
  },
  {
   "attachments": {},
   "cell_type": "markdown",
   "metadata": {},
   "source": [
    "First we load in a 6-qubit $\\textrm{CH}_4$ Hamiltonian from the `data` subdirectory. The Hamiltonian data is stored in a `json` file. This is loaded into the `QubitPauliOperator` instance using the class method `from_list`.\n",
    "\n",
    "This Hamiltonian is generated using InQuanto. For more information, please contact <inquanto-support@quantinuum.com>."
   ]
  },
  {
   "cell_type": "code",
   "execution_count": 1,
   "metadata": {},
   "outputs": [],
   "source": [
    "import json\n",
    "from pytket.utils.operators import QubitPauliOperator\n",
    "\n",
    "json_io = open(\"data/hamiltonian_ch4_6qb.json\", \"r\")\n",
    "hamiltonian_data = json.load(json_io)\n",
    "\n",
    "hamiltonian = QubitPauliOperator.from_list(hamiltonian_data)"
   ]
  },
  {
   "attachments": {},
   "cell_type": "markdown",
   "metadata": {},
   "source": [
    "## Chemically-Aware UCC Circuit with Fixed-Angle Two-Qubit Gates"
   ]
  },
  {
   "attachments": {},
   "cell_type": "markdown",
   "metadata": {},
   "source": [
    "The Chemically-Aware UCC state-preparation method for this $\\textrm{CH}_4$ consists of applying exponentiated Qubit Pauli operations to a reference input state. Our input state is $| 100000 \\rangle$. The aim is to generate the parameteric wavefunction, \n",
    "\n",
    "\\begin{equation*}\n",
    "|\\psi\\rangle = |110000\\rangle + \\alpha |001100\\rangle + \\beta |000011\\rangle,\n",
    "\\end{equation*}\n",
    "\n",
    "where $\\alpha$ and $\\beta$ are related to gate angles on the state-preparation circuit. \n",
    "\n",
    "In this problem, four operations are applied, the top equation first and the bottom equation last,\n",
    "\\begin{align*}\n",
    "e^{+\\theta_0 \\frac{\\pi}{2} \\hat{Y}_{q[0]} \\hat{X}_{q[2]}}, \\\\\n",
    "e^{-\\theta_0 \\frac{\\pi}{2} \\hat{X}_{q[0]} \\hat{Y}_{q[2]}}, \\\\\n",
    "e^{+\\theta_1 \\frac{\\pi}{2} \\hat{Y}_{q[0]} \\hat{X}_{q[4]}}, \\\\\n",
    "e^{-\\theta_1 \\frac{\\pi}{2} \\hat{X}_{q[0]} \\hat{Y}_{q[4]}}.\n",
    "\\end{align*}\n",
    "\n",
    "This will generate the state, $|100000\\rangle + \\alpha |001000\\rangle + \\beta |000010\\rangle$. Subsequently, three `CX` gates can be applied to generate the final target state, $|\\psi\\rangle$.\n",
    "\n",
    "This operation can be seen as exciting a pair of electrons from the least energetic spatial orbital to a higher energy spatial orbital. In  this problem, we have three spatial orbitals: one double occupied orbital, and two unoccupied or virtual orbitals. Each even-odd qubit pair  in the circuit corresponds to the spatial orbitals. Each spatial orbital consists of alpha (beta) spin orbitals or spin-up (spin-down) spin-orbitals. If the orbital is occupied, the qubit is toggled to a $|1\\rangle$ ($|0\\rangle$), the spin-orbital is occupied (unoccupied).\n",
    "\n",
    "InQuanto provides the Chemically Aware UCC method which can be used to synthesise pytket circuits for electronic structure problems involving single excitations, double excitations, including double excitations of pairs of electrons from spatial orbital to spatial orbital. Additionally, InQuanto uses system specific data, such as point-group symmetry, to improve the number of single and double excitations to synthesise in the state-preparation method.\n",
    "\n",
    "In the code cell below, the function generates the subcircuit for the  exponentiated operations. For the case of two spatial to spatial double excitations, 4 primitives are required with two symbols, $a$ and $b$. These primitives are returned as `pytket.circuit.CircBox` objects which can be appended onto the `pytket.circuit.Circuit` state-preparation instance.\n",
    "\n",
    "The primitive defined below is know as the Pauli-gadget primitive. For spatial to spatial double excitations, each Pauli-Gadget requires two `CX` gates."
   ]
  },
  {
   "cell_type": "code",
   "execution_count": 2,
   "metadata": {},
   "outputs": [],
   "source": [
    "from pytket.circuit import Circuit, CircBox\n",
    "from pytket.circuit.display import render_circuit_jupyter\n",
    "from sympy import Symbol\n",
    "\n",
    "def YX_primitive(\n",
    "    symbol: Symbol, \n",
    "    reverse: bool = False\n",
    ") -> Circuit:\n",
    "    circuit = Circuit(2)\n",
    "\n",
    "    if reverse:\n",
    "        circuit.H(0).V(1)\n",
    "    else:\n",
    "        circuit.V(0).H(1)\n",
    "\n",
    "    circuit.CX(0, 1)\n",
    "\n",
    "    if reverse:\n",
    "        symbol *= -1\n",
    "    circuit.Rz(symbol, 1)\n",
    "\n",
    "    circuit.CX(0, 1)\n",
    "\n",
    "    if reverse:\n",
    "        circuit.H(0).Vdg(1)\n",
    "    else:    \n",
    "        circuit.Vdg(0).H(1)\n",
    "\n",
    "    return CircBox(circuit)"
   ]
  },
  {
   "cell_type": "code",
   "execution_count": 3,
   "metadata": {},
   "outputs": [],
   "source": [
    "symbols = [Symbol(\"a\"), Symbol(\"b\")]\n",
    "n_qubits = 6\n",
    "\n",
    "yx_0 = YX_primitive(symbols[0])\n",
    "xy_0 = YX_primitive(symbols[0], reverse=True)\n",
    "\n",
    "yx_1 = YX_primitive(symbols[1])\n",
    "xy_1 = YX_primitive(symbols[1], reverse=True)"
   ]
  },
  {
   "cell_type": "code",
   "execution_count": 4,
   "metadata": {},
   "outputs": [
    {
     "data": {
      "text/html": [
       "\n",
       "\n",
       "\n",
       "\n",
       "\n",
       "\n",
       "<div style=\"resize: vertical; overflow: auto; height: 400px; display: block\">\n",
       "    <iframe srcdoc=\"\n",
       "&lt;!DOCTYPE html&gt;\n",
       "&lt;html lang=&#34;en&#34;&gt;\n",
       "&lt;head&gt;\n",
       "    &lt;meta charset=&#34;UTF-8&#34;&gt;\n",
       "    &lt;!-- Download Vue 3--&gt;\n",
       "&lt;script type=&#34;application/javascript&#34; src=&#34;https://cdn.jsdelivr.net/npm/vue@3&#34;&gt;&lt;/script&gt;\n",
       "&lt;!-- Download Circuit Renderer with styles --&gt;\n",
       "&lt;script type=&#34;application/javascript&#34; src=&#34;https://unpkg.com/pytket-circuit-renderer@0.7/dist/pytket-circuit-renderer.umd.js&#34;&gt;&lt;/script&gt;\n",
       "&lt;link rel=&#34;stylesheet&#34; href=&#34;https://unpkg.com/pytket-circuit-renderer@0.7/dist/pytket-circuit-renderer.css&#34;&gt;\n",
       "&lt;/head&gt;\n",
       "&lt;body&gt;\n",
       "\n",
       "\n",
       "\n",
       "    &lt;div id=&#34;circuit-display-vue-container-7b1ac929-8a31-4131-80a5-90318644746f&#34; class=&#34;pytket-circuit-display-container&#34;&gt;\n",
       "        &lt;div style=&#34;display: none&#34;&gt;\n",
       "            &lt;div id=&#34;circuit-json-to-display&#34;&gt;{&#34;bits&#34;: [], &#34;commands&#34;: [{&#34;args&#34;: [[&#34;q&#34;, [0]]], &#34;op&#34;: {&#34;type&#34;: &#34;V&#34;}}, {&#34;args&#34;: [[&#34;q&#34;, [1]]], &#34;op&#34;: {&#34;type&#34;: &#34;H&#34;}}, {&#34;args&#34;: [[&#34;q&#34;, [0]], [&#34;q&#34;, [1]]], &#34;op&#34;: {&#34;type&#34;: &#34;CX&#34;}}, {&#34;args&#34;: [[&#34;q&#34;, [1]]], &#34;op&#34;: {&#34;params&#34;: [&#34;a&#34;], &#34;type&#34;: &#34;Rz&#34;}}, {&#34;args&#34;: [[&#34;q&#34;, [0]], [&#34;q&#34;, [1]]], &#34;op&#34;: {&#34;type&#34;: &#34;CX&#34;}}, {&#34;args&#34;: [[&#34;q&#34;, [0]]], &#34;op&#34;: {&#34;type&#34;: &#34;Vdg&#34;}}, {&#34;args&#34;: [[&#34;q&#34;, [1]]], &#34;op&#34;: {&#34;type&#34;: &#34;H&#34;}}], &#34;created_qubits&#34;: [], &#34;discarded_qubits&#34;: [], &#34;implicit_permutation&#34;: [[[&#34;q&#34;, [0]], [&#34;q&#34;, [0]]], [[&#34;q&#34;, [1]], [&#34;q&#34;, [1]]]], &#34;phase&#34;: &#34;0.0&#34;, &#34;qubits&#34;: [[&#34;q&#34;, [0]], [&#34;q&#34;, [1]]]}&lt;/div&gt;\n",
       "        &lt;/div&gt;\n",
       "        &lt;circuit-display-container\n",
       "                :circuit-element-str=&#34;&#39;#circuit-json-to-display&#39;&#34;\n",
       "                :init-render-options=&#34;initRenderOptions&#34;\n",
       "        &gt;&lt;/circuit-display-container&gt;\n",
       "    &lt;/div&gt;\n",
       "    &lt;script type=&#34;application/javascript&#34;&gt;\n",
       "      const circuitRendererUid = &#34;7b1ac929-8a31-4131-80a5-90318644746f&#34;;\n",
       "      const displayOptions = JSON.parse(&#39;{}&#39;);\n",
       "\n",
       "      // Script to initialise the circuit renderer app\n",
       "\n",
       "const { createApp } = Vue;\n",
       "const circuitDisplayContainer = window[&#34;pytket-circuit-renderer&#34;].default;\n",
       "// Init variables to be shared between circuit display instances\n",
       "if (typeof window.pytketCircuitDisplays === &#34;undefined&#34;) {\n",
       "    window.pytketCircuitDisplays = {};\n",
       "}\n",
       "// Create the root Vue component\n",
       "const app = createApp({\n",
       "    delimiters: [&#39;[[#&#39;, &#39;#]]&#39;],\n",
       "    components: { circuitDisplayContainer },\n",
       "    data () {\n",
       "      return {\n",
       "        initRenderOptions: displayOptions,\n",
       "      }\n",
       "    }\n",
       "})\n",
       "app.config.unwrapInjectedRef = true;\n",
       "app.mount(&#34;#circuit-display-vue-container-&#34;+circuitRendererUid);\n",
       "window.pytketCircuitDisplays[circuitRendererUid] = app;\n",
       "    &lt;/script&gt;\n",
       "\n",
       "\n",
       "\n",
       "&lt;/body&gt;\n",
       "&lt;/html&gt;\n",
       "\"\n",
       "            width=\"100%\" height=\"100%\"\n",
       "            style=\"border: none; outline: none; overflow: auto\"></iframe>\n",
       "</div>\n",
       "\n"
      ],
      "text/plain": [
       "<IPython.core.display.HTML object>"
      ]
     },
     "metadata": {},
     "output_type": "display_data"
    }
   ],
   "source": [
    "render_circuit_jupyter(yx_0.get_circuit())"
   ]
  },
  {
   "attachments": {},
   "cell_type": "markdown",
   "metadata": {},
   "source": [
    "To map the state, $|100000\\rangle + \\alpha |001000\\rangle + \\beta |000010\\rangle$, to the final state, $|110000\\rangle + \\alpha |001100\\rangle + \\beta |000011\\rangle$, three `CX` operations are required. Each of these `CX` gates uses the even qubit as a control and the odd qubit as a target. In prior cells, the concept of spatial orbitals and electrons were introduced. This will now be expanded upon. There are three tuples of qubits, each representing spatial orbitals: \n",
    "\n",
    "* (`q[0]`, `q[1]`) \n",
    "* (`q[2]`, `q[3]`)\n",
    "* (`q[4]`, `q[5]`)\n",
    "\n",
    "The even-index (odd-index) qubit refers to the alpha (beta) spin-orbitals or spin-up (spin-down) orbitals. The purpose of the CX is to toggle the occupation of the beta spin-orbital, if the alpha-spin orbital is occupied."
   ]
  },
  {
   "cell_type": "code",
   "execution_count": 5,
   "metadata": {},
   "outputs": [
    {
     "data": {
      "text/html": [
       "\n",
       "\n",
       "\n",
       "\n",
       "\n",
       "\n",
       "<div style=\"resize: vertical; overflow: auto; height: 400px; display: block\">\n",
       "    <iframe srcdoc=\"\n",
       "&lt;!DOCTYPE html&gt;\n",
       "&lt;html lang=&#34;en&#34;&gt;\n",
       "&lt;head&gt;\n",
       "    &lt;meta charset=&#34;UTF-8&#34;&gt;\n",
       "    &lt;!-- Download Vue 3--&gt;\n",
       "&lt;script type=&#34;application/javascript&#34; src=&#34;https://cdn.jsdelivr.net/npm/vue@3&#34;&gt;&lt;/script&gt;\n",
       "&lt;!-- Download Circuit Renderer with styles --&gt;\n",
       "&lt;script type=&#34;application/javascript&#34; src=&#34;https://unpkg.com/pytket-circuit-renderer@0.7/dist/pytket-circuit-renderer.umd.js&#34;&gt;&lt;/script&gt;\n",
       "&lt;link rel=&#34;stylesheet&#34; href=&#34;https://unpkg.com/pytket-circuit-renderer@0.7/dist/pytket-circuit-renderer.css&#34;&gt;\n",
       "&lt;/head&gt;\n",
       "&lt;body&gt;\n",
       "\n",
       "\n",
       "\n",
       "    &lt;div id=&#34;circuit-display-vue-container-81860110-a2d1-4912-8e84-91d56f8a8e43&#34; class=&#34;pytket-circuit-display-container&#34;&gt;\n",
       "        &lt;div style=&#34;display: none&#34;&gt;\n",
       "            &lt;div id=&#34;circuit-json-to-display&#34;&gt;{&#34;bits&#34;: [], &#34;commands&#34;: [{&#34;args&#34;: [[&#34;q&#34;, [0]], [&#34;q&#34;, [1]]], &#34;op&#34;: {&#34;type&#34;: &#34;CX&#34;}}, {&#34;args&#34;: [[&#34;q&#34;, [2]], [&#34;q&#34;, [3]]], &#34;op&#34;: {&#34;type&#34;: &#34;CX&#34;}}, {&#34;args&#34;: [[&#34;q&#34;, [4]], [&#34;q&#34;, [5]]], &#34;op&#34;: {&#34;type&#34;: &#34;CX&#34;}}], &#34;created_qubits&#34;: [], &#34;discarded_qubits&#34;: [], &#34;implicit_permutation&#34;: [[[&#34;q&#34;, [0]], [&#34;q&#34;, [0]]], [[&#34;q&#34;, [1]], [&#34;q&#34;, [1]]], [[&#34;q&#34;, [2]], [&#34;q&#34;, [2]]], [[&#34;q&#34;, [3]], [&#34;q&#34;, [3]]], [[&#34;q&#34;, [4]], [&#34;q&#34;, [4]]], [[&#34;q&#34;, [5]], [&#34;q&#34;, [5]]]], &#34;phase&#34;: &#34;0.0&#34;, &#34;qubits&#34;: [[&#34;q&#34;, [0]], [&#34;q&#34;, [1]], [&#34;q&#34;, [2]], [&#34;q&#34;, [3]], [&#34;q&#34;, [4]], [&#34;q&#34;, [5]]]}&lt;/div&gt;\n",
       "        &lt;/div&gt;\n",
       "        &lt;circuit-display-container\n",
       "                :circuit-element-str=&#34;&#39;#circuit-json-to-display&#39;&#34;\n",
       "                :init-render-options=&#34;initRenderOptions&#34;\n",
       "        &gt;&lt;/circuit-display-container&gt;\n",
       "    &lt;/div&gt;\n",
       "    &lt;script type=&#34;application/javascript&#34;&gt;\n",
       "      const circuitRendererUid = &#34;81860110-a2d1-4912-8e84-91d56f8a8e43&#34;;\n",
       "      const displayOptions = JSON.parse(&#39;{}&#39;);\n",
       "\n",
       "      // Script to initialise the circuit renderer app\n",
       "\n",
       "const { createApp } = Vue;\n",
       "const circuitDisplayContainer = window[&#34;pytket-circuit-renderer&#34;].default;\n",
       "// Init variables to be shared between circuit display instances\n",
       "if (typeof window.pytketCircuitDisplays === &#34;undefined&#34;) {\n",
       "    window.pytketCircuitDisplays = {};\n",
       "}\n",
       "// Create the root Vue component\n",
       "const app = createApp({\n",
       "    delimiters: [&#39;[[#&#39;, &#39;#]]&#39;],\n",
       "    components: { circuitDisplayContainer },\n",
       "    data () {\n",
       "      return {\n",
       "        initRenderOptions: displayOptions,\n",
       "      }\n",
       "    }\n",
       "})\n",
       "app.config.unwrapInjectedRef = true;\n",
       "app.mount(&#34;#circuit-display-vue-container-&#34;+circuitRendererUid);\n",
       "window.pytketCircuitDisplays[circuitRendererUid] = app;\n",
       "    &lt;/script&gt;\n",
       "\n",
       "\n",
       "\n",
       "&lt;/body&gt;\n",
       "&lt;/html&gt;\n",
       "\"\n",
       "            width=\"100%\" height=\"100%\"\n",
       "            style=\"border: none; outline: none; overflow: auto\"></iframe>\n",
       "</div>\n",
       "\n"
      ],
      "text/plain": [
       "<IPython.core.display.HTML object>"
      ]
     },
     "metadata": {},
     "output_type": "display_data"
    }
   ],
   "source": [
    "circuit_cx = Circuit(n_qubits)\n",
    "circuit_cx.CX(0, 1).CX(2, 3).CX(4, 5)\n",
    "\n",
    "render_circuit_jupyter(circuit_cx)"
   ]
  },
  {
   "attachments": {},
   "cell_type": "markdown",
   "metadata": {},
   "source": [
    "The `pytket.circuit.CircBox` instances will be appended to the circuit encoding the initial state. The extra CX operations will be added last. A `pytket` compilation pass, `pytket.passes.DecomposeBoxes` needs to be used to decompose the appended `pytket.circuit.CircBox` commands on the circuits into native `CX`, `Rz`, `H`, `V` and `Vdg` gates."
   ]
  },
  {
   "cell_type": "code",
   "execution_count": 6,
   "metadata": {},
   "outputs": [],
   "source": [
    "from pytket.passes import DecomposeBoxes\n",
    "\n",
    "decompose_boxes = DecomposeBoxes"
   ]
  },
  {
   "cell_type": "code",
   "execution_count": 7,
   "metadata": {},
   "outputs": [
    {
     "data": {
      "text/plain": [
       "True"
      ]
     },
     "execution_count": 7,
     "metadata": {},
     "output_type": "execute_result"
    }
   ],
   "source": [
    "circ_fixed = Circuit(n_qubits)\n",
    "qubits = circ_fixed.qubits\n",
    "\n",
    "circ_fixed.X(0) # intial state |100000>\n",
    "\n",
    "circ_fixed.add_circbox(yx_0, [qubits[0], qubits[2]])\n",
    "circ_fixed.add_circbox(xy_0, [qubits[0], qubits[2]])\n",
    "circ_fixed.add_circbox(yx_1, [qubits[0], qubits[4]])\n",
    "circ_fixed.add_circbox(xy_1, [qubits[0], qubits[4]])\n",
    "circ_fixed.append(circuit_cx)\n",
    "decompose_boxes().apply(circ_fixed)"
   ]
  },
  {
   "cell_type": "code",
   "execution_count": 8,
   "metadata": {},
   "outputs": [
    {
     "data": {
      "text/html": [
       "\n",
       "\n",
       "\n",
       "\n",
       "\n",
       "\n",
       "<div style=\"resize: vertical; overflow: auto; height: 400px; display: block\">\n",
       "    <iframe srcdoc=\"\n",
       "&lt;!DOCTYPE html&gt;\n",
       "&lt;html lang=&#34;en&#34;&gt;\n",
       "&lt;head&gt;\n",
       "    &lt;meta charset=&#34;UTF-8&#34;&gt;\n",
       "    &lt;!-- Download Vue 3--&gt;\n",
       "&lt;script type=&#34;application/javascript&#34; src=&#34;https://cdn.jsdelivr.net/npm/vue@3&#34;&gt;&lt;/script&gt;\n",
       "&lt;!-- Download Circuit Renderer with styles --&gt;\n",
       "&lt;script type=&#34;application/javascript&#34; src=&#34;https://unpkg.com/pytket-circuit-renderer@0.7/dist/pytket-circuit-renderer.umd.js&#34;&gt;&lt;/script&gt;\n",
       "&lt;link rel=&#34;stylesheet&#34; href=&#34;https://unpkg.com/pytket-circuit-renderer@0.7/dist/pytket-circuit-renderer.css&#34;&gt;\n",
       "&lt;/head&gt;\n",
       "&lt;body&gt;\n",
       "\n",
       "\n",
       "\n",
       "    &lt;div id=&#34;circuit-display-vue-container-dc35bafa-e586-4c61-a40d-5c1f1fc09083&#34; class=&#34;pytket-circuit-display-container&#34;&gt;\n",
       "        &lt;div style=&#34;display: none&#34;&gt;\n",
       "            &lt;div id=&#34;circuit-json-to-display&#34;&gt;{&#34;bits&#34;: [], &#34;commands&#34;: [{&#34;args&#34;: [[&#34;q&#34;, [0]]], &#34;op&#34;: {&#34;type&#34;: &#34;X&#34;}}, {&#34;args&#34;: [[&#34;q&#34;, [2]]], &#34;op&#34;: {&#34;type&#34;: &#34;H&#34;}}, {&#34;args&#34;: [[&#34;q&#34;, [4]]], &#34;op&#34;: {&#34;type&#34;: &#34;H&#34;}}, {&#34;args&#34;: [[&#34;q&#34;, [0]]], &#34;op&#34;: {&#34;type&#34;: &#34;V&#34;}}, {&#34;args&#34;: [[&#34;q&#34;, [0]], [&#34;q&#34;, [2]]], &#34;op&#34;: {&#34;type&#34;: &#34;CX&#34;}}, {&#34;args&#34;: [[&#34;q&#34;, [2]]], &#34;op&#34;: {&#34;params&#34;: [&#34;a&#34;], &#34;type&#34;: &#34;Rz&#34;}}, {&#34;args&#34;: [[&#34;q&#34;, [0]], [&#34;q&#34;, [2]]], &#34;op&#34;: {&#34;type&#34;: &#34;CX&#34;}}, {&#34;args&#34;: [[&#34;q&#34;, [0]]], &#34;op&#34;: {&#34;type&#34;: &#34;Vdg&#34;}}, {&#34;args&#34;: [[&#34;q&#34;, [2]]], &#34;op&#34;: {&#34;type&#34;: &#34;H&#34;}}, {&#34;args&#34;: [[&#34;q&#34;, [0]]], &#34;op&#34;: {&#34;type&#34;: &#34;H&#34;}}, {&#34;args&#34;: [[&#34;q&#34;, [2]]], &#34;op&#34;: {&#34;type&#34;: &#34;V&#34;}}, {&#34;args&#34;: [[&#34;q&#34;, [0]], [&#34;q&#34;, [2]]], &#34;op&#34;: {&#34;type&#34;: &#34;CX&#34;}}, {&#34;args&#34;: [[&#34;q&#34;, [2]]], &#34;op&#34;: {&#34;params&#34;: [&#34;-a&#34;], &#34;type&#34;: &#34;Rz&#34;}}, {&#34;args&#34;: [[&#34;q&#34;, [0]], [&#34;q&#34;, [2]]], &#34;op&#34;: {&#34;type&#34;: &#34;CX&#34;}}, {&#34;args&#34;: [[&#34;q&#34;, [0]]], &#34;op&#34;: {&#34;type&#34;: &#34;H&#34;}}, {&#34;args&#34;: [[&#34;q&#34;, [2]]], &#34;op&#34;: {&#34;type&#34;: &#34;Vdg&#34;}}, {&#34;args&#34;: [[&#34;q&#34;, [0]]], &#34;op&#34;: {&#34;type&#34;: &#34;V&#34;}}, {&#34;args&#34;: [[&#34;q&#34;, [2]], [&#34;q&#34;, [3]]], &#34;op&#34;: {&#34;type&#34;: &#34;CX&#34;}}, {&#34;args&#34;: [[&#34;q&#34;, [0]], [&#34;q&#34;, [4]]], &#34;op&#34;: {&#34;type&#34;: &#34;CX&#34;}}, {&#34;args&#34;: [[&#34;q&#34;, [4]]], &#34;op&#34;: {&#34;params&#34;: [&#34;b&#34;], &#34;type&#34;: &#34;Rz&#34;}}, {&#34;args&#34;: [[&#34;q&#34;, [0]], [&#34;q&#34;, [4]]], &#34;op&#34;: {&#34;type&#34;: &#34;CX&#34;}}, {&#34;args&#34;: [[&#34;q&#34;, [0]]], &#34;op&#34;: {&#34;type&#34;: &#34;Vdg&#34;}}, {&#34;args&#34;: [[&#34;q&#34;, [4]]], &#34;op&#34;: {&#34;type&#34;: &#34;H&#34;}}, {&#34;args&#34;: [[&#34;q&#34;, [0]]], &#34;op&#34;: {&#34;type&#34;: &#34;H&#34;}}, {&#34;args&#34;: [[&#34;q&#34;, [4]]], &#34;op&#34;: {&#34;type&#34;: &#34;V&#34;}}, {&#34;args&#34;: [[&#34;q&#34;, [0]], [&#34;q&#34;, [4]]], &#34;op&#34;: {&#34;type&#34;: &#34;CX&#34;}}, {&#34;args&#34;: [[&#34;q&#34;, [4]]], &#34;op&#34;: {&#34;params&#34;: [&#34;-b&#34;], &#34;type&#34;: &#34;Rz&#34;}}, {&#34;args&#34;: [[&#34;q&#34;, [0]], [&#34;q&#34;, [4]]], &#34;op&#34;: {&#34;type&#34;: &#34;CX&#34;}}, {&#34;args&#34;: [[&#34;q&#34;, [0]]], &#34;op&#34;: {&#34;type&#34;: &#34;H&#34;}}, {&#34;args&#34;: [[&#34;q&#34;, [4]]], &#34;op&#34;: {&#34;type&#34;: &#34;Vdg&#34;}}, {&#34;args&#34;: [[&#34;q&#34;, [0]], [&#34;q&#34;, [1]]], &#34;op&#34;: {&#34;type&#34;: &#34;CX&#34;}}, {&#34;args&#34;: [[&#34;q&#34;, [4]], [&#34;q&#34;, [5]]], &#34;op&#34;: {&#34;type&#34;: &#34;CX&#34;}}], &#34;created_qubits&#34;: [], &#34;discarded_qubits&#34;: [], &#34;implicit_permutation&#34;: [[[&#34;q&#34;, [0]], [&#34;q&#34;, [0]]], [[&#34;q&#34;, [1]], [&#34;q&#34;, [1]]], [[&#34;q&#34;, [2]], [&#34;q&#34;, [2]]], [[&#34;q&#34;, [3]], [&#34;q&#34;, [3]]], [[&#34;q&#34;, [4]], [&#34;q&#34;, [4]]], [[&#34;q&#34;, [5]], [&#34;q&#34;, [5]]]], &#34;phase&#34;: &#34;0.0&#34;, &#34;qubits&#34;: [[&#34;q&#34;, [0]], [&#34;q&#34;, [1]], [&#34;q&#34;, [2]], [&#34;q&#34;, [3]], [&#34;q&#34;, [4]], [&#34;q&#34;, [5]]]}&lt;/div&gt;\n",
       "        &lt;/div&gt;\n",
       "        &lt;circuit-display-container\n",
       "                :circuit-element-str=&#34;&#39;#circuit-json-to-display&#39;&#34;\n",
       "                :init-render-options=&#34;initRenderOptions&#34;\n",
       "        &gt;&lt;/circuit-display-container&gt;\n",
       "    &lt;/div&gt;\n",
       "    &lt;script type=&#34;application/javascript&#34;&gt;\n",
       "      const circuitRendererUid = &#34;dc35bafa-e586-4c61-a40d-5c1f1fc09083&#34;;\n",
       "      const displayOptions = JSON.parse(&#39;{}&#39;);\n",
       "\n",
       "      // Script to initialise the circuit renderer app\n",
       "\n",
       "const { createApp } = Vue;\n",
       "const circuitDisplayContainer = window[&#34;pytket-circuit-renderer&#34;].default;\n",
       "// Init variables to be shared between circuit display instances\n",
       "if (typeof window.pytketCircuitDisplays === &#34;undefined&#34;) {\n",
       "    window.pytketCircuitDisplays = {};\n",
       "}\n",
       "// Create the root Vue component\n",
       "const app = createApp({\n",
       "    delimiters: [&#39;[[#&#39;, &#39;#]]&#39;],\n",
       "    components: { circuitDisplayContainer },\n",
       "    data () {\n",
       "      return {\n",
       "        initRenderOptions: displayOptions,\n",
       "      }\n",
       "    }\n",
       "})\n",
       "app.config.unwrapInjectedRef = true;\n",
       "app.mount(&#34;#circuit-display-vue-container-&#34;+circuitRendererUid);\n",
       "window.pytketCircuitDisplays[circuitRendererUid] = app;\n",
       "    &lt;/script&gt;\n",
       "\n",
       "\n",
       "\n",
       "&lt;/body&gt;\n",
       "&lt;/html&gt;\n",
       "\"\n",
       "            width=\"100%\" height=\"100%\"\n",
       "            style=\"border: none; outline: none; overflow: auto\"></iframe>\n",
       "</div>\n",
       "\n"
      ],
      "text/plain": [
       "<IPython.core.display.HTML object>"
      ]
     },
     "metadata": {},
     "output_type": "display_data"
    }
   ],
   "source": [
    "render_circuit_jupyter(circ_fixed)"
   ]
  },
  {
   "attachments": {},
   "cell_type": "markdown",
   "metadata": {},
   "source": [
    "## Chemically-Aware Unitary Coupled Cluster Circuit with Fixed-Angle Two-Qubit Gates synthesised with `pytket` `PauliExpBox`"
   ]
  },
  {
   "attachments": {},
   "cell_type": "markdown",
   "metadata": {},
   "source": [
    "The Chemically-Aware UCC circuit from the previous section can also be synthesised with `PauliExpBox` and `CircBox`. The motivation is to perform [Pauli-Gadget Synthesis](https://arxiv.org/abs/1906.01734) to synthesise the UCC state-preparation circuit. The benefit is that the circuit primitives from the previous section are now automatically created with `pytket` and there are additional savings in fixed-angle two-qubit gates. The user is required to input the Qubit Pauli exponents as a sequence of Paulis (`List[pytket.pauli.Pauli]`) alongside a symbolic parameter.\n",
    "\n",
    "Each spatial to spatial excitation consists of two exponeniated operations. In the code cell below, this would correspond to two `PauliExpBox` instances with the same symbolic parameter. Each pair of `PauliExpBox` instances belonging to the same excitation is appended to a `pytket.circuit.Circuit` instance and isolated with a `pytket.circuit.CircBox`."
   ]
  },
  {
   "cell_type": "code",
   "execution_count": 9,
   "metadata": {},
   "outputs": [],
   "source": [
    "from pytket.circuit import PauliExpBox, Circuit, CircBox, fresh_symbol\n",
    "from pytket.pauli import Pauli\n",
    "\n",
    "circ_0_1 = Circuit(2)\n",
    "yx_0_1 = PauliExpBox([Pauli.Y, Pauli.X], symbols[0])\n",
    "xy_0_1 = PauliExpBox([Pauli.X, Pauli.Y], -1 * symbols[0])\n",
    "circ_0_1.add_pauliexpbox(yx_0_1, circ_0_1.qubits).add_pauliexpbox(xy_0_1, circ_0_1.qubits)\n",
    "circbox_0_1 = CircBox(circ_0_1)\n",
    "\n",
    "circ_1_1 = Circuit(2)\n",
    "yx_1_1 = PauliExpBox([Pauli.Y, Pauli.X], symbols[1])\n",
    "xy_1_1 = PauliExpBox([Pauli.X, Pauli.Y], -1 * symbols[1])\n",
    "circ_1_1.add_pauliexpbox(yx_1_1, circ_1_1.qubits).add_pauliexpbox(xy_1_1, circ_1_1.qubits)\n",
    "circbox_1_1 = CircBox(circ_1_1)"
   ]
  },
  {
   "attachments": {},
   "cell_type": "markdown",
   "metadata": {},
   "source": [
    "In the code cell below, the two `pytket.circuit.CircBox`, each corresponding to two spatial to spatial orbital excitations, is added to a 6-qubit circuit, initialised with the reference state, $|100000\\rangle$. Two compilation passes are now applied, `DecomposeBoxes` and `PauliSimp`. The former decomposes CircBox commands on the circuit into one-qubit and fixed-angle two-qubit gates. The latter compilation pass optimises the number of fixed-angle two-qubit gates on the circuit. \n",
    "\n",
    "This new circuit contains 2 fixed-angle two-qubit gates per excitation, as opposed to 4 fixed-angle two-qubit gates as in the previous section."
   ]
  },
  {
   "cell_type": "code",
   "execution_count": 10,
   "metadata": {},
   "outputs": [],
   "source": [
    "from pytket.passes import GuidedPauliSimp\n",
    "circ_paulisimp = Circuit(6).X(0) # create reference state |100000>\n",
    "circ_paulisimp.add_circbox(circbox_0_1, [circ_paulisimp.qubits[0], circ_paulisimp.qubits[2]])\n",
    "circ_paulisimp.add_circbox(circbox_1_1, [circ_paulisimp.qubits[0], circ_paulisimp.qubits[4]])\n",
    "GuidedPauliSimp().apply(circ_paulisimp)\n",
    "circ_paulisimp.append(circuit_cx)"
   ]
  },
  {
   "cell_type": "code",
   "execution_count": 11,
   "metadata": {},
   "outputs": [
    {
     "data": {
      "text/html": [
       "\n",
       "\n",
       "\n",
       "\n",
       "\n",
       "\n",
       "<div style=\"resize: vertical; overflow: auto; height: 400px; display: block\">\n",
       "    <iframe srcdoc=\"\n",
       "&lt;!DOCTYPE html&gt;\n",
       "&lt;html lang=&#34;en&#34;&gt;\n",
       "&lt;head&gt;\n",
       "    &lt;meta charset=&#34;UTF-8&#34;&gt;\n",
       "    &lt;!-- Download Vue 3--&gt;\n",
       "&lt;script type=&#34;application/javascript&#34; src=&#34;https://cdn.jsdelivr.net/npm/vue@3&#34;&gt;&lt;/script&gt;\n",
       "&lt;!-- Download Circuit Renderer with styles --&gt;\n",
       "&lt;script type=&#34;application/javascript&#34; src=&#34;https://unpkg.com/pytket-circuit-renderer@0.7/dist/pytket-circuit-renderer.umd.js&#34;&gt;&lt;/script&gt;\n",
       "&lt;link rel=&#34;stylesheet&#34; href=&#34;https://unpkg.com/pytket-circuit-renderer@0.7/dist/pytket-circuit-renderer.css&#34;&gt;\n",
       "&lt;/head&gt;\n",
       "&lt;body&gt;\n",
       "\n",
       "\n",
       "\n",
       "    &lt;div id=&#34;circuit-display-vue-container-7219435e-68ab-45c1-b8bb-993ff91234bc&#34; class=&#34;pytket-circuit-display-container&#34;&gt;\n",
       "        &lt;div style=&#34;display: none&#34;&gt;\n",
       "            &lt;div id=&#34;circuit-json-to-display&#34;&gt;{&#34;bits&#34;: [], &#34;commands&#34;: [{&#34;args&#34;: [[&#34;q&#34;, [0]]], &#34;op&#34;: {&#34;type&#34;: &#34;X&#34;}}, {&#34;args&#34;: [[&#34;q&#34;, [2]]], &#34;op&#34;: {&#34;type&#34;: &#34;V&#34;}}, {&#34;args&#34;: [[&#34;q&#34;, [4]]], &#34;op&#34;: {&#34;type&#34;: &#34;V&#34;}}, {&#34;args&#34;: [[&#34;q&#34;, [0]]], &#34;op&#34;: {&#34;type&#34;: &#34;Sdg&#34;}}, {&#34;args&#34;: [[&#34;q&#34;, [0]]], &#34;op&#34;: {&#34;type&#34;: &#34;Vdg&#34;}}, {&#34;args&#34;: [[&#34;q&#34;, [2]], [&#34;q&#34;, [0]]], &#34;op&#34;: {&#34;type&#34;: &#34;CX&#34;}}, {&#34;args&#34;: [[&#34;q&#34;, [0]]], &#34;op&#34;: {&#34;params&#34;: [&#34;-a&#34;], &#34;type&#34;: &#34;Rz&#34;}}, {&#34;args&#34;: [[&#34;q&#34;, [2]]], &#34;op&#34;: {&#34;type&#34;: &#34;H&#34;}}, {&#34;args&#34;: [[&#34;q&#34;, [2]]], &#34;op&#34;: {&#34;params&#34;: [&#34;a&#34;], &#34;type&#34;: &#34;Rz&#34;}}, {&#34;args&#34;: [[&#34;q&#34;, [2]]], &#34;op&#34;: {&#34;type&#34;: &#34;H&#34;}}, {&#34;args&#34;: [[&#34;q&#34;, [2]], [&#34;q&#34;, [0]]], &#34;op&#34;: {&#34;type&#34;: &#34;CX&#34;}}, {&#34;args&#34;: [[&#34;q&#34;, [0]]], &#34;op&#34;: {&#34;type&#34;: &#34;V&#34;}}, {&#34;args&#34;: [[&#34;q&#34;, [2]]], &#34;op&#34;: {&#34;type&#34;: &#34;Vdg&#34;}}, {&#34;args&#34;: [[&#34;q&#34;, [0]]], &#34;op&#34;: {&#34;type&#34;: &#34;S&#34;}}, {&#34;args&#34;: [[&#34;q&#34;, [2]]], &#34;op&#34;: {&#34;type&#34;: &#34;S&#34;}}, {&#34;args&#34;: [[&#34;q&#34;, [0]]], &#34;op&#34;: {&#34;type&#34;: &#34;S&#34;}}, {&#34;args&#34;: [[&#34;q&#34;, [2]]], &#34;op&#34;: {&#34;type&#34;: &#34;H&#34;}}, {&#34;args&#34;: [[&#34;q&#34;, [0]]], &#34;op&#34;: {&#34;type&#34;: &#34;H&#34;}}, {&#34;args&#34;: [[&#34;q&#34;, [2]]], &#34;op&#34;: {&#34;type&#34;: &#34;S&#34;}}, {&#34;args&#34;: [[&#34;q&#34;, [0]]], &#34;op&#34;: {&#34;type&#34;: &#34;S&#34;}}, {&#34;args&#34;: [[&#34;q&#34;, [2]]], &#34;op&#34;: {&#34;type&#34;: &#34;V&#34;}}, {&#34;args&#34;: [[&#34;q&#34;, [0]]], &#34;op&#34;: {&#34;type&#34;: &#34;V&#34;}}, {&#34;args&#34;: [[&#34;q&#34;, [2]], [&#34;q&#34;, [3]]], &#34;op&#34;: {&#34;type&#34;: &#34;CX&#34;}}, {&#34;args&#34;: [[&#34;q&#34;, [0]]], &#34;op&#34;: {&#34;type&#34;: &#34;Sdg&#34;}}, {&#34;args&#34;: [[&#34;q&#34;, [0]]], &#34;op&#34;: {&#34;type&#34;: &#34;Vdg&#34;}}, {&#34;args&#34;: [[&#34;q&#34;, [4]], [&#34;q&#34;, [0]]], &#34;op&#34;: {&#34;type&#34;: &#34;CX&#34;}}, {&#34;args&#34;: [[&#34;q&#34;, [0]]], &#34;op&#34;: {&#34;params&#34;: [&#34;-b&#34;], &#34;type&#34;: &#34;Rz&#34;}}, {&#34;args&#34;: [[&#34;q&#34;, [4]]], &#34;op&#34;: {&#34;type&#34;: &#34;H&#34;}}, {&#34;args&#34;: [[&#34;q&#34;, [4]]], &#34;op&#34;: {&#34;params&#34;: [&#34;b&#34;], &#34;type&#34;: &#34;Rz&#34;}}, {&#34;args&#34;: [[&#34;q&#34;, [4]]], &#34;op&#34;: {&#34;type&#34;: &#34;H&#34;}}, {&#34;args&#34;: [[&#34;q&#34;, [4]], [&#34;q&#34;, [0]]], &#34;op&#34;: {&#34;type&#34;: &#34;CX&#34;}}, {&#34;args&#34;: [[&#34;q&#34;, [0]]], &#34;op&#34;: {&#34;type&#34;: &#34;V&#34;}}, {&#34;args&#34;: [[&#34;q&#34;, [4]]], &#34;op&#34;: {&#34;type&#34;: &#34;Vdg&#34;}}, {&#34;args&#34;: [[&#34;q&#34;, [0]]], &#34;op&#34;: {&#34;type&#34;: &#34;S&#34;}}, {&#34;args&#34;: [[&#34;q&#34;, [4]]], &#34;op&#34;: {&#34;type&#34;: &#34;S&#34;}}, {&#34;args&#34;: [[&#34;q&#34;, [0]]], &#34;op&#34;: {&#34;type&#34;: &#34;S&#34;}}, {&#34;args&#34;: [[&#34;q&#34;, [4]]], &#34;op&#34;: {&#34;type&#34;: &#34;H&#34;}}, {&#34;args&#34;: [[&#34;q&#34;, [0]]], &#34;op&#34;: {&#34;type&#34;: &#34;H&#34;}}, {&#34;args&#34;: [[&#34;q&#34;, [4]]], &#34;op&#34;: {&#34;type&#34;: &#34;S&#34;}}, {&#34;args&#34;: [[&#34;q&#34;, [0]]], &#34;op&#34;: {&#34;type&#34;: &#34;S&#34;}}, {&#34;args&#34;: [[&#34;q&#34;, [4]]], &#34;op&#34;: {&#34;type&#34;: &#34;V&#34;}}, {&#34;args&#34;: [[&#34;q&#34;, [0]]], &#34;op&#34;: {&#34;type&#34;: &#34;V&#34;}}, {&#34;args&#34;: [[&#34;q&#34;, [4]], [&#34;q&#34;, [5]]], &#34;op&#34;: {&#34;type&#34;: &#34;CX&#34;}}, {&#34;args&#34;: [[&#34;q&#34;, [0]], [&#34;q&#34;, [1]]], &#34;op&#34;: {&#34;type&#34;: &#34;CX&#34;}}], &#34;created_qubits&#34;: [], &#34;discarded_qubits&#34;: [], &#34;implicit_permutation&#34;: [[[&#34;q&#34;, [0]], [&#34;q&#34;, [0]]], [[&#34;q&#34;, [1]], [&#34;q&#34;, [1]]], [[&#34;q&#34;, [2]], [&#34;q&#34;, [2]]], [[&#34;q&#34;, [3]], [&#34;q&#34;, [3]]], [[&#34;q&#34;, [4]], [&#34;q&#34;, [4]]], [[&#34;q&#34;, [5]], [&#34;q&#34;, [5]]]], &#34;phase&#34;: &#34;0.0&#34;, &#34;qubits&#34;: [[&#34;q&#34;, [0]], [&#34;q&#34;, [1]], [&#34;q&#34;, [2]], [&#34;q&#34;, [3]], [&#34;q&#34;, [4]], [&#34;q&#34;, [5]]]}&lt;/div&gt;\n",
       "        &lt;/div&gt;\n",
       "        &lt;circuit-display-container\n",
       "                :circuit-element-str=&#34;&#39;#circuit-json-to-display&#39;&#34;\n",
       "                :init-render-options=&#34;initRenderOptions&#34;\n",
       "        &gt;&lt;/circuit-display-container&gt;\n",
       "    &lt;/div&gt;\n",
       "    &lt;script type=&#34;application/javascript&#34;&gt;\n",
       "      const circuitRendererUid = &#34;7219435e-68ab-45c1-b8bb-993ff91234bc&#34;;\n",
       "      const displayOptions = JSON.parse(&#39;{}&#39;);\n",
       "\n",
       "      // Script to initialise the circuit renderer app\n",
       "\n",
       "const { createApp } = Vue;\n",
       "const circuitDisplayContainer = window[&#34;pytket-circuit-renderer&#34;].default;\n",
       "// Init variables to be shared between circuit display instances\n",
       "if (typeof window.pytketCircuitDisplays === &#34;undefined&#34;) {\n",
       "    window.pytketCircuitDisplays = {};\n",
       "}\n",
       "// Create the root Vue component\n",
       "const app = createApp({\n",
       "    delimiters: [&#39;[[#&#39;, &#39;#]]&#39;],\n",
       "    components: { circuitDisplayContainer },\n",
       "    data () {\n",
       "      return {\n",
       "        initRenderOptions: displayOptions,\n",
       "      }\n",
       "    }\n",
       "})\n",
       "app.config.unwrapInjectedRef = true;\n",
       "app.mount(&#34;#circuit-display-vue-container-&#34;+circuitRendererUid);\n",
       "window.pytketCircuitDisplays[circuitRendererUid] = app;\n",
       "    &lt;/script&gt;\n",
       "\n",
       "\n",
       "\n",
       "&lt;/body&gt;\n",
       "&lt;/html&gt;\n",
       "\"\n",
       "            width=\"100%\" height=\"100%\"\n",
       "            style=\"border: none; outline: none; overflow: auto\"></iframe>\n",
       "</div>\n",
       "\n"
      ],
      "text/plain": [
       "<IPython.core.display.HTML object>"
      ]
     },
     "metadata": {},
     "output_type": "display_data"
    }
   ],
   "source": [
    "render_circuit_jupyter(circ_paulisimp)"
   ]
  },
  {
   "attachments": {},
   "cell_type": "markdown",
   "metadata": {},
   "source": [
    "## Chemically-Aware UCC Circuit with Arbitrary-Angle Two-Qubit Gates"
   ]
  },
  {
   "cell_type": "markdown",
   "metadata": {},
   "source": [
    "The circuits defined above used fixed-angle two-qubit (`CX`) gates. Compiling to the H-Series gateset results in circuits with `pytket.ciruit.OpType.ZZMax` or fully-entangling two-qubit gates. \n",
    "\n",
    "In this section, the Chemically-Aware UCC circuit is defined at 6-qubits with an  arbitrary-angle two-qubit gate (`pytket.circuit.OpType.ZZPhase`). This arbitrary-angle  two-qubit gate is a native gate on H-Series and for small angles, offers better fidelity than  the native fixed-angle two-qubit gate.\n",
    "\n",
    "In the code cell below, a function is defined, requiring a symbol and a boolean as input. The  symbol is the gate angle for the arbitrary-phase two-qubit gate. The boolean keyword argument  dictates whether to synthesise $e^{\\theta Y_{q[0]} X_{q[1]}}$ or $e^{\\theta X_{q[0]} Y_{q[1]}}$. The output of this function is a `pytket.circuit.CircBox`. As with the previous section, 2 excitations are synthesised, each excitation requiring 2 `pytket.circuit.CircBox` instances."
   ]
  },
  {
   "cell_type": "code",
   "execution_count": 12,
   "metadata": {},
   "outputs": [],
   "source": [
    "from pytket.circuit import Circuit, CircBox, OpType\n",
    "\n",
    "def yx_arbzz_primitive(\n",
    "    symbol: Symbol, \n",
    "    reverse: bool = False\n",
    ") -> CircBox:\n",
    "    circ = Circuit(2)\n",
    "    if reverse:\n",
    "        i, j = 1, 0\n",
    "        symbol *= -1\n",
    "    else:\n",
    "        i, j = 0, 1\n",
    "    circ.PhasedX(0.5, 0, i) # V\n",
    "    circ.PhasedX(0.5, 1.5, j).Rz(1, j) # Hadamard\n",
    "    circ.ZZPhase(symbol, 0, 1)\n",
    "    circ.PhasedX(1.5, 0, i) # Vdg\n",
    "    circ.PhasedX(0.5, 1.5, j).Rz(1, j) # Hadamard\n",
    "    return CircBox(circ)"
   ]
  },
  {
   "cell_type": "code",
   "execution_count": 13,
   "metadata": {},
   "outputs": [],
   "source": [
    "yx_0_2 = yx_arbzz_primitive(symbols[0])\n",
    "xy_0_2 = yx_arbzz_primitive(symbols[0], reverse=True)\n",
    "\n",
    "yx_1_2 = yx_arbzz_primitive(symbols[1])\n",
    "xy_1_2 = yx_arbzz_primitive(symbols[1], reverse=True)"
   ]
  },
  {
   "cell_type": "code",
   "execution_count": 14,
   "metadata": {},
   "outputs": [
    {
     "data": {
      "text/html": [
       "\n",
       "\n",
       "\n",
       "\n",
       "\n",
       "\n",
       "<div style=\"resize: vertical; overflow: auto; height: 400px; display: block\">\n",
       "    <iframe srcdoc=\"\n",
       "&lt;!DOCTYPE html&gt;\n",
       "&lt;html lang=&#34;en&#34;&gt;\n",
       "&lt;head&gt;\n",
       "    &lt;meta charset=&#34;UTF-8&#34;&gt;\n",
       "    &lt;!-- Download Vue 3--&gt;\n",
       "&lt;script type=&#34;application/javascript&#34; src=&#34;https://cdn.jsdelivr.net/npm/vue@3&#34;&gt;&lt;/script&gt;\n",
       "&lt;!-- Download Circuit Renderer with styles --&gt;\n",
       "&lt;script type=&#34;application/javascript&#34; src=&#34;https://unpkg.com/pytket-circuit-renderer@0.7/dist/pytket-circuit-renderer.umd.js&#34;&gt;&lt;/script&gt;\n",
       "&lt;link rel=&#34;stylesheet&#34; href=&#34;https://unpkg.com/pytket-circuit-renderer@0.7/dist/pytket-circuit-renderer.css&#34;&gt;\n",
       "&lt;/head&gt;\n",
       "&lt;body&gt;\n",
       "\n",
       "\n",
       "\n",
       "    &lt;div id=&#34;circuit-display-vue-container-ede1cfb2-98c0-4870-af27-0c5feef28769&#34; class=&#34;pytket-circuit-display-container&#34;&gt;\n",
       "        &lt;div style=&#34;display: none&#34;&gt;\n",
       "            &lt;div id=&#34;circuit-json-to-display&#34;&gt;{&#34;bits&#34;: [], &#34;commands&#34;: [{&#34;args&#34;: [[&#34;q&#34;, [0]]], &#34;op&#34;: {&#34;params&#34;: [&#34;0.5&#34;, &#34;0.0&#34;], &#34;type&#34;: &#34;PhasedX&#34;}}, {&#34;args&#34;: [[&#34;q&#34;, [1]]], &#34;op&#34;: {&#34;params&#34;: [&#34;0.5&#34;, &#34;1.5&#34;], &#34;type&#34;: &#34;PhasedX&#34;}}, {&#34;args&#34;: [[&#34;q&#34;, [1]]], &#34;op&#34;: {&#34;params&#34;: [&#34;1.0&#34;], &#34;type&#34;: &#34;Rz&#34;}}, {&#34;args&#34;: [[&#34;q&#34;, [0]], [&#34;q&#34;, [1]]], &#34;op&#34;: {&#34;params&#34;: [&#34;a&#34;], &#34;type&#34;: &#34;ZZPhase&#34;}}, {&#34;args&#34;: [[&#34;q&#34;, [0]]], &#34;op&#34;: {&#34;params&#34;: [&#34;1.5&#34;, &#34;0.0&#34;], &#34;type&#34;: &#34;PhasedX&#34;}}, {&#34;args&#34;: [[&#34;q&#34;, [1]]], &#34;op&#34;: {&#34;params&#34;: [&#34;0.5&#34;, &#34;1.5&#34;], &#34;type&#34;: &#34;PhasedX&#34;}}, {&#34;args&#34;: [[&#34;q&#34;, [1]]], &#34;op&#34;: {&#34;params&#34;: [&#34;1.0&#34;], &#34;type&#34;: &#34;Rz&#34;}}], &#34;created_qubits&#34;: [], &#34;discarded_qubits&#34;: [], &#34;implicit_permutation&#34;: [[[&#34;q&#34;, [0]], [&#34;q&#34;, [0]]], [[&#34;q&#34;, [1]], [&#34;q&#34;, [1]]]], &#34;phase&#34;: &#34;0.0&#34;, &#34;qubits&#34;: [[&#34;q&#34;, [0]], [&#34;q&#34;, [1]]]}&lt;/div&gt;\n",
       "        &lt;/div&gt;\n",
       "        &lt;circuit-display-container\n",
       "                :circuit-element-str=&#34;&#39;#circuit-json-to-display&#39;&#34;\n",
       "                :init-render-options=&#34;initRenderOptions&#34;\n",
       "        &gt;&lt;/circuit-display-container&gt;\n",
       "    &lt;/div&gt;\n",
       "    &lt;script type=&#34;application/javascript&#34;&gt;\n",
       "      const circuitRendererUid = &#34;ede1cfb2-98c0-4870-af27-0c5feef28769&#34;;\n",
       "      const displayOptions = JSON.parse(&#39;{}&#39;);\n",
       "\n",
       "      // Script to initialise the circuit renderer app\n",
       "\n",
       "const { createApp } = Vue;\n",
       "const circuitDisplayContainer = window[&#34;pytket-circuit-renderer&#34;].default;\n",
       "// Init variables to be shared between circuit display instances\n",
       "if (typeof window.pytketCircuitDisplays === &#34;undefined&#34;) {\n",
       "    window.pytketCircuitDisplays = {};\n",
       "}\n",
       "// Create the root Vue component\n",
       "const app = createApp({\n",
       "    delimiters: [&#39;[[#&#39;, &#39;#]]&#39;],\n",
       "    components: { circuitDisplayContainer },\n",
       "    data () {\n",
       "      return {\n",
       "        initRenderOptions: displayOptions,\n",
       "      }\n",
       "    }\n",
       "})\n",
       "app.config.unwrapInjectedRef = true;\n",
       "app.mount(&#34;#circuit-display-vue-container-&#34;+circuitRendererUid);\n",
       "window.pytketCircuitDisplays[circuitRendererUid] = app;\n",
       "    &lt;/script&gt;\n",
       "\n",
       "\n",
       "\n",
       "&lt;/body&gt;\n",
       "&lt;/html&gt;\n",
       "\"\n",
       "            width=\"100%\" height=\"100%\"\n",
       "            style=\"border: none; outline: none; overflow: auto\"></iframe>\n",
       "</div>\n",
       "\n"
      ],
      "text/plain": [
       "<IPython.core.display.HTML object>"
      ]
     },
     "metadata": {},
     "output_type": "display_data"
    }
   ],
   "source": [
    "render_circuit_jupyter(yx_0_2.get_circuit())"
   ]
  },
  {
   "cell_type": "code",
   "execution_count": 15,
   "metadata": {},
   "outputs": [
    {
     "data": {
      "text/html": [
       "\n",
       "\n",
       "\n",
       "\n",
       "\n",
       "\n",
       "<div style=\"resize: vertical; overflow: auto; height: 400px; display: block\">\n",
       "    <iframe srcdoc=\"\n",
       "&lt;!DOCTYPE html&gt;\n",
       "&lt;html lang=&#34;en&#34;&gt;\n",
       "&lt;head&gt;\n",
       "    &lt;meta charset=&#34;UTF-8&#34;&gt;\n",
       "    &lt;!-- Download Vue 3--&gt;\n",
       "&lt;script type=&#34;application/javascript&#34; src=&#34;https://cdn.jsdelivr.net/npm/vue@3&#34;&gt;&lt;/script&gt;\n",
       "&lt;!-- Download Circuit Renderer with styles --&gt;\n",
       "&lt;script type=&#34;application/javascript&#34; src=&#34;https://unpkg.com/pytket-circuit-renderer@0.7/dist/pytket-circuit-renderer.umd.js&#34;&gt;&lt;/script&gt;\n",
       "&lt;link rel=&#34;stylesheet&#34; href=&#34;https://unpkg.com/pytket-circuit-renderer@0.7/dist/pytket-circuit-renderer.css&#34;&gt;\n",
       "&lt;/head&gt;\n",
       "&lt;body&gt;\n",
       "\n",
       "\n",
       "\n",
       "    &lt;div id=&#34;circuit-display-vue-container-7e2f4931-d715-4858-86db-ac9efae587de&#34; class=&#34;pytket-circuit-display-container&#34;&gt;\n",
       "        &lt;div style=&#34;display: none&#34;&gt;\n",
       "            &lt;div id=&#34;circuit-json-to-display&#34;&gt;{&#34;bits&#34;: [], &#34;commands&#34;: [{&#34;args&#34;: [[&#34;q&#34;, [0]]], &#34;op&#34;: {&#34;params&#34;: [&#34;0.5&#34;, &#34;1.5&#34;], &#34;type&#34;: &#34;PhasedX&#34;}}, {&#34;args&#34;: [[&#34;q&#34;, [1]]], &#34;op&#34;: {&#34;params&#34;: [&#34;0.5&#34;, &#34;0.0&#34;], &#34;type&#34;: &#34;PhasedX&#34;}}, {&#34;args&#34;: [[&#34;q&#34;, [0]]], &#34;op&#34;: {&#34;params&#34;: [&#34;1.0&#34;], &#34;type&#34;: &#34;Rz&#34;}}, {&#34;args&#34;: [[&#34;q&#34;, [0]], [&#34;q&#34;, [1]]], &#34;op&#34;: {&#34;params&#34;: [&#34;-a&#34;], &#34;type&#34;: &#34;ZZPhase&#34;}}, {&#34;args&#34;: [[&#34;q&#34;, [0]]], &#34;op&#34;: {&#34;params&#34;: [&#34;0.5&#34;, &#34;1.5&#34;], &#34;type&#34;: &#34;PhasedX&#34;}}, {&#34;args&#34;: [[&#34;q&#34;, [1]]], &#34;op&#34;: {&#34;params&#34;: [&#34;1.5&#34;, &#34;0.0&#34;], &#34;type&#34;: &#34;PhasedX&#34;}}, {&#34;args&#34;: [[&#34;q&#34;, [0]]], &#34;op&#34;: {&#34;params&#34;: [&#34;1.0&#34;], &#34;type&#34;: &#34;Rz&#34;}}], &#34;created_qubits&#34;: [], &#34;discarded_qubits&#34;: [], &#34;implicit_permutation&#34;: [[[&#34;q&#34;, [0]], [&#34;q&#34;, [0]]], [[&#34;q&#34;, [1]], [&#34;q&#34;, [1]]]], &#34;phase&#34;: &#34;0.0&#34;, &#34;qubits&#34;: [[&#34;q&#34;, [0]], [&#34;q&#34;, [1]]]}&lt;/div&gt;\n",
       "        &lt;/div&gt;\n",
       "        &lt;circuit-display-container\n",
       "                :circuit-element-str=&#34;&#39;#circuit-json-to-display&#39;&#34;\n",
       "                :init-render-options=&#34;initRenderOptions&#34;\n",
       "        &gt;&lt;/circuit-display-container&gt;\n",
       "    &lt;/div&gt;\n",
       "    &lt;script type=&#34;application/javascript&#34;&gt;\n",
       "      const circuitRendererUid = &#34;7e2f4931-d715-4858-86db-ac9efae587de&#34;;\n",
       "      const displayOptions = JSON.parse(&#39;{}&#39;);\n",
       "\n",
       "      // Script to initialise the circuit renderer app\n",
       "\n",
       "const { createApp } = Vue;\n",
       "const circuitDisplayContainer = window[&#34;pytket-circuit-renderer&#34;].default;\n",
       "// Init variables to be shared between circuit display instances\n",
       "if (typeof window.pytketCircuitDisplays === &#34;undefined&#34;) {\n",
       "    window.pytketCircuitDisplays = {};\n",
       "}\n",
       "// Create the root Vue component\n",
       "const app = createApp({\n",
       "    delimiters: [&#39;[[#&#39;, &#39;#]]&#39;],\n",
       "    components: { circuitDisplayContainer },\n",
       "    data () {\n",
       "      return {\n",
       "        initRenderOptions: displayOptions,\n",
       "      }\n",
       "    }\n",
       "})\n",
       "app.config.unwrapInjectedRef = true;\n",
       "app.mount(&#34;#circuit-display-vue-container-&#34;+circuitRendererUid);\n",
       "window.pytketCircuitDisplays[circuitRendererUid] = app;\n",
       "    &lt;/script&gt;\n",
       "\n",
       "\n",
       "\n",
       "&lt;/body&gt;\n",
       "&lt;/html&gt;\n",
       "\"\n",
       "            width=\"100%\" height=\"100%\"\n",
       "            style=\"border: none; outline: none; overflow: auto\"></iframe>\n",
       "</div>\n",
       "\n"
      ],
      "text/plain": [
       "<IPython.core.display.HTML object>"
      ]
     },
     "metadata": {},
     "output_type": "display_data"
    }
   ],
   "source": [
    "render_circuit_jupyter(xy_0_2.get_circuit())"
   ]
  },
  {
   "cell_type": "code",
   "execution_count": 16,
   "metadata": {},
   "outputs": [
    {
     "data": {
      "text/plain": [
       "True"
      ]
     },
     "execution_count": 16,
     "metadata": {},
     "output_type": "execute_result"
    }
   ],
   "source": [
    "from pytket.passes import DecomposeBoxes\n",
    "\n",
    "circ_arbzz = Circuit(6)\n",
    "qubits = circ_arbzz.qubits\n",
    "circ_arbzz.X(0) # |100000>\n",
    "\n",
    "circ_arbzz.add_circbox(yx_0_2, [qubits[0], qubits[2]])\n",
    "circ_arbzz.add_circbox(xy_0_2, [qubits[0], qubits[2]])\n",
    "circ_arbzz.add_circbox(yx_1_2, [qubits[0], qubits[4]])\n",
    "circ_arbzz.add_circbox(xy_1_2, [qubits[0], qubits[4]])\n",
    "circ_arbzz.append(circuit_cx)\n",
    "\n",
    "DecomposeBoxes().apply(circ_arbzz)"
   ]
  },
  {
   "cell_type": "code",
   "execution_count": 17,
   "metadata": {},
   "outputs": [
    {
     "data": {
      "text/html": [
       "\n",
       "\n",
       "\n",
       "\n",
       "\n",
       "\n",
       "<div style=\"resize: vertical; overflow: auto; height: 400px; display: block\">\n",
       "    <iframe srcdoc=\"\n",
       "&lt;!DOCTYPE html&gt;\n",
       "&lt;html lang=&#34;en&#34;&gt;\n",
       "&lt;head&gt;\n",
       "    &lt;meta charset=&#34;UTF-8&#34;&gt;\n",
       "    &lt;!-- Download Vue 3--&gt;\n",
       "&lt;script type=&#34;application/javascript&#34; src=&#34;https://cdn.jsdelivr.net/npm/vue@3&#34;&gt;&lt;/script&gt;\n",
       "&lt;!-- Download Circuit Renderer with styles --&gt;\n",
       "&lt;script type=&#34;application/javascript&#34; src=&#34;https://unpkg.com/pytket-circuit-renderer@0.7/dist/pytket-circuit-renderer.umd.js&#34;&gt;&lt;/script&gt;\n",
       "&lt;link rel=&#34;stylesheet&#34; href=&#34;https://unpkg.com/pytket-circuit-renderer@0.7/dist/pytket-circuit-renderer.css&#34;&gt;\n",
       "&lt;/head&gt;\n",
       "&lt;body&gt;\n",
       "\n",
       "\n",
       "\n",
       "    &lt;div id=&#34;circuit-display-vue-container-f68d0d3d-fd78-45a1-b0b8-8495cda95718&#34; class=&#34;pytket-circuit-display-container&#34;&gt;\n",
       "        &lt;div style=&#34;display: none&#34;&gt;\n",
       "            &lt;div id=&#34;circuit-json-to-display&#34;&gt;{&#34;bits&#34;: [], &#34;commands&#34;: [{&#34;args&#34;: [[&#34;q&#34;, [0]]], &#34;op&#34;: {&#34;type&#34;: &#34;X&#34;}}, {&#34;args&#34;: [[&#34;q&#34;, [2]]], &#34;op&#34;: {&#34;params&#34;: [&#34;0.5&#34;, &#34;1.5&#34;], &#34;type&#34;: &#34;PhasedX&#34;}}, {&#34;args&#34;: [[&#34;q&#34;, [4]]], &#34;op&#34;: {&#34;params&#34;: [&#34;0.5&#34;, &#34;1.5&#34;], &#34;type&#34;: &#34;PhasedX&#34;}}, {&#34;args&#34;: [[&#34;q&#34;, [0]]], &#34;op&#34;: {&#34;params&#34;: [&#34;0.5&#34;, &#34;0.0&#34;], &#34;type&#34;: &#34;PhasedX&#34;}}, {&#34;args&#34;: [[&#34;q&#34;, [2]]], &#34;op&#34;: {&#34;params&#34;: [&#34;1.0&#34;], &#34;type&#34;: &#34;Rz&#34;}}, {&#34;args&#34;: [[&#34;q&#34;, [4]]], &#34;op&#34;: {&#34;params&#34;: [&#34;1.0&#34;], &#34;type&#34;: &#34;Rz&#34;}}, {&#34;args&#34;: [[&#34;q&#34;, [0]], [&#34;q&#34;, [2]]], &#34;op&#34;: {&#34;params&#34;: [&#34;a&#34;], &#34;type&#34;: &#34;ZZPhase&#34;}}, {&#34;args&#34;: [[&#34;q&#34;, [0]]], &#34;op&#34;: {&#34;params&#34;: [&#34;1.5&#34;, &#34;0.0&#34;], &#34;type&#34;: &#34;PhasedX&#34;}}, {&#34;args&#34;: [[&#34;q&#34;, [2]]], &#34;op&#34;: {&#34;params&#34;: [&#34;0.5&#34;, &#34;1.5&#34;], &#34;type&#34;: &#34;PhasedX&#34;}}, {&#34;args&#34;: [[&#34;q&#34;, [0]]], &#34;op&#34;: {&#34;params&#34;: [&#34;0.5&#34;, &#34;1.5&#34;], &#34;type&#34;: &#34;PhasedX&#34;}}, {&#34;args&#34;: [[&#34;q&#34;, [2]]], &#34;op&#34;: {&#34;params&#34;: [&#34;1.0&#34;], &#34;type&#34;: &#34;Rz&#34;}}, {&#34;args&#34;: [[&#34;q&#34;, [0]]], &#34;op&#34;: {&#34;params&#34;: [&#34;1.0&#34;], &#34;type&#34;: &#34;Rz&#34;}}, {&#34;args&#34;: [[&#34;q&#34;, [2]]], &#34;op&#34;: {&#34;params&#34;: [&#34;0.5&#34;, &#34;0.0&#34;], &#34;type&#34;: &#34;PhasedX&#34;}}, {&#34;args&#34;: [[&#34;q&#34;, [0]], [&#34;q&#34;, [2]]], &#34;op&#34;: {&#34;params&#34;: [&#34;-a&#34;], &#34;type&#34;: &#34;ZZPhase&#34;}}, {&#34;args&#34;: [[&#34;q&#34;, [0]]], &#34;op&#34;: {&#34;params&#34;: [&#34;0.5&#34;, &#34;1.5&#34;], &#34;type&#34;: &#34;PhasedX&#34;}}, {&#34;args&#34;: [[&#34;q&#34;, [2]]], &#34;op&#34;: {&#34;params&#34;: [&#34;1.5&#34;, &#34;0.0&#34;], &#34;type&#34;: &#34;PhasedX&#34;}}, {&#34;args&#34;: [[&#34;q&#34;, [0]]], &#34;op&#34;: {&#34;params&#34;: [&#34;1.0&#34;], &#34;type&#34;: &#34;Rz&#34;}}, {&#34;args&#34;: [[&#34;q&#34;, [2]], [&#34;q&#34;, [3]]], &#34;op&#34;: {&#34;type&#34;: &#34;CX&#34;}}, {&#34;args&#34;: [[&#34;q&#34;, [0]]], &#34;op&#34;: {&#34;params&#34;: [&#34;0.5&#34;, &#34;0.0&#34;], &#34;type&#34;: &#34;PhasedX&#34;}}, {&#34;args&#34;: [[&#34;q&#34;, [0]], [&#34;q&#34;, [4]]], &#34;op&#34;: {&#34;params&#34;: [&#34;b&#34;], &#34;type&#34;: &#34;ZZPhase&#34;}}, {&#34;args&#34;: [[&#34;q&#34;, [0]]], &#34;op&#34;: {&#34;params&#34;: [&#34;1.5&#34;, &#34;0.0&#34;], &#34;type&#34;: &#34;PhasedX&#34;}}, {&#34;args&#34;: [[&#34;q&#34;, [4]]], &#34;op&#34;: {&#34;params&#34;: [&#34;0.5&#34;, &#34;1.5&#34;], &#34;type&#34;: &#34;PhasedX&#34;}}, {&#34;args&#34;: [[&#34;q&#34;, [0]]], &#34;op&#34;: {&#34;params&#34;: [&#34;0.5&#34;, &#34;1.5&#34;], &#34;type&#34;: &#34;PhasedX&#34;}}, {&#34;args&#34;: [[&#34;q&#34;, [4]]], &#34;op&#34;: {&#34;params&#34;: [&#34;1.0&#34;], &#34;type&#34;: &#34;Rz&#34;}}, {&#34;args&#34;: [[&#34;q&#34;, [0]]], &#34;op&#34;: {&#34;params&#34;: [&#34;1.0&#34;], &#34;type&#34;: &#34;Rz&#34;}}, {&#34;args&#34;: [[&#34;q&#34;, [4]]], &#34;op&#34;: {&#34;params&#34;: [&#34;0.5&#34;, &#34;0.0&#34;], &#34;type&#34;: &#34;PhasedX&#34;}}, {&#34;args&#34;: [[&#34;q&#34;, [0]], [&#34;q&#34;, [4]]], &#34;op&#34;: {&#34;params&#34;: [&#34;-b&#34;], &#34;type&#34;: &#34;ZZPhase&#34;}}, {&#34;args&#34;: [[&#34;q&#34;, [0]]], &#34;op&#34;: {&#34;params&#34;: [&#34;0.5&#34;, &#34;1.5&#34;], &#34;type&#34;: &#34;PhasedX&#34;}}, {&#34;args&#34;: [[&#34;q&#34;, [4]]], &#34;op&#34;: {&#34;params&#34;: [&#34;1.5&#34;, &#34;0.0&#34;], &#34;type&#34;: &#34;PhasedX&#34;}}, {&#34;args&#34;: [[&#34;q&#34;, [0]]], &#34;op&#34;: {&#34;params&#34;: [&#34;1.0&#34;], &#34;type&#34;: &#34;Rz&#34;}}, {&#34;args&#34;: [[&#34;q&#34;, [4]], [&#34;q&#34;, [5]]], &#34;op&#34;: {&#34;type&#34;: &#34;CX&#34;}}, {&#34;args&#34;: [[&#34;q&#34;, [0]], [&#34;q&#34;, [1]]], &#34;op&#34;: {&#34;type&#34;: &#34;CX&#34;}}], &#34;created_qubits&#34;: [], &#34;discarded_qubits&#34;: [], &#34;implicit_permutation&#34;: [[[&#34;q&#34;, [0]], [&#34;q&#34;, [0]]], [[&#34;q&#34;, [1]], [&#34;q&#34;, [1]]], [[&#34;q&#34;, [2]], [&#34;q&#34;, [2]]], [[&#34;q&#34;, [3]], [&#34;q&#34;, [3]]], [[&#34;q&#34;, [4]], [&#34;q&#34;, [4]]], [[&#34;q&#34;, [5]], [&#34;q&#34;, [5]]]], &#34;phase&#34;: &#34;0.0&#34;, &#34;qubits&#34;: [[&#34;q&#34;, [0]], [&#34;q&#34;, [1]], [&#34;q&#34;, [2]], [&#34;q&#34;, [3]], [&#34;q&#34;, [4]], [&#34;q&#34;, [5]]]}&lt;/div&gt;\n",
       "        &lt;/div&gt;\n",
       "        &lt;circuit-display-container\n",
       "                :circuit-element-str=&#34;&#39;#circuit-json-to-display&#39;&#34;\n",
       "                :init-render-options=&#34;initRenderOptions&#34;\n",
       "        &gt;&lt;/circuit-display-container&gt;\n",
       "    &lt;/div&gt;\n",
       "    &lt;script type=&#34;application/javascript&#34;&gt;\n",
       "      const circuitRendererUid = &#34;f68d0d3d-fd78-45a1-b0b8-8495cda95718&#34;;\n",
       "      const displayOptions = JSON.parse(&#39;{}&#39;);\n",
       "\n",
       "      // Script to initialise the circuit renderer app\n",
       "\n",
       "const { createApp } = Vue;\n",
       "const circuitDisplayContainer = window[&#34;pytket-circuit-renderer&#34;].default;\n",
       "// Init variables to be shared between circuit display instances\n",
       "if (typeof window.pytketCircuitDisplays === &#34;undefined&#34;) {\n",
       "    window.pytketCircuitDisplays = {};\n",
       "}\n",
       "// Create the root Vue component\n",
       "const app = createApp({\n",
       "    delimiters: [&#39;[[#&#39;, &#39;#]]&#39;],\n",
       "    components: { circuitDisplayContainer },\n",
       "    data () {\n",
       "      return {\n",
       "        initRenderOptions: displayOptions,\n",
       "      }\n",
       "    }\n",
       "})\n",
       "app.config.unwrapInjectedRef = true;\n",
       "app.mount(&#34;#circuit-display-vue-container-&#34;+circuitRendererUid);\n",
       "window.pytketCircuitDisplays[circuitRendererUid] = app;\n",
       "    &lt;/script&gt;\n",
       "\n",
       "\n",
       "\n",
       "&lt;/body&gt;\n",
       "&lt;/html&gt;\n",
       "\"\n",
       "            width=\"100%\" height=\"100%\"\n",
       "            style=\"border: none; outline: none; overflow: auto\"></iframe>\n",
       "</div>\n",
       "\n"
      ],
      "text/plain": [
       "<IPython.core.display.HTML object>"
      ]
     },
     "metadata": {},
     "output_type": "display_data"
    }
   ],
   "source": [
    "render_circuit_jupyter(circ_arbzz)"
   ]
  },
  {
   "attachments": {},
   "cell_type": "markdown",
   "metadata": {},
   "source": [
    "## Classical Noiseless Variational Procedure with NumPy and SciPy"
   ]
  },
  {
   "attachments": {},
   "cell_type": "markdown",
   "metadata": {},
   "source": [
    "Now we perform the variational procedure with numpy and scipy. The pytket objects are converted into numpy arrays. The Hamiltonian can be transformed from a `pytket.utils.operators.QubitPauliOperator` instance into a sparse square matrix. The `pytket.circuit.Circuit` instance can be represented as a complex column vector with $2^N$ elements ($N$ is the number of qubits - for this problem the vector will contain 64 elements). The objective function performs these transformations and evaluates the energy using the numpy dot product function.\n",
    "\n",
    "`scipy.optimize` is used to optimise the input parameters for the objective function, to obtain the lowest estimate of the ground-state energy."
   ]
  },
  {
   "cell_type": "code",
   "execution_count": 18,
   "metadata": {},
   "outputs": [],
   "source": [
    "from typing import List\n",
    "\n",
    "from sympy import Symbol\n",
    "import numpy as np\n",
    "\n",
    "from pytket.utils.operators import QubitPauliOperator\n",
    "from pytket.circuit import Circuit\n",
    "\n",
    "class VariationalProcedure:\n",
    "    def __init__(\n",
    "        self, \n",
    "        operator: QubitPauliOperator,\n",
    "        state_circuit: Circuit,\n",
    "        symbols: List[Symbol]\n",
    "    ):\n",
    "        self._operator = operator.to_sparse_matrix().toarray()\n",
    "        self._circuit = state_circuit\n",
    "        self._symbols = symbols\n",
    "    \n",
    "    def __call__(\n",
    "        self, \n",
    "        parameters: np.ndarray\n",
    "    ) -> float:\n",
    "        symbol_dict = {s: p for (s, p) in zip(self._symbols, parameters)}\n",
    "        circuit = self._circuit.copy()\n",
    "        circuit.symbol_substitution(symbol_dict)\n",
    "        statevector = circuit.get_statevector()\n",
    "        energy = np.vdot(statevector, self._operator.dot(statevector))\n",
    "        return energy.real"
   ]
  },
  {
   "cell_type": "code",
   "execution_count": 19,
   "metadata": {},
   "outputs": [],
   "source": [
    "variational_procedure_fixed = VariationalProcedure(hamiltonian, circ_fixed, symbols)\n",
    "variational_procedure_paulisimp = VariationalProcedure(hamiltonian, circ_paulisimp, symbols)\n",
    "variational_procedure_arbzz = VariationalProcedure(hamiltonian, circ_arbzz, symbols)\n",
    "initial_parameters = np.zeros(len(symbols))"
   ]
  },
  {
   "cell_type": "code",
   "execution_count": 20,
   "metadata": {},
   "outputs": [],
   "source": [
    "from scipy.optimize import minimize\n",
    "result_fixed = minimize(variational_procedure_fixed, initial_parameters, method=\"L-BFGS-B\")\n",
    "result_paulisimp = minimize(variational_procedure_paulisimp, initial_parameters, method=\"L-BFGS-B\")\n",
    "result_arbzz = minimize(variational_procedure_arbzz, initial_parameters, method=\"L-BFGS-B\")"
   ]
  },
  {
   "cell_type": "code",
   "execution_count": 21,
   "metadata": {},
   "outputs": [
    {
     "data": {
      "text/html": [
       "<div>\n",
       "<style scoped>\n",
       "    .dataframe tbody tr th:only-of-type {\n",
       "        vertical-align: middle;\n",
       "    }\n",
       "\n",
       "    .dataframe tbody tr th {\n",
       "        vertical-align: top;\n",
       "    }\n",
       "\n",
       "    .dataframe thead th {\n",
       "        text-align: right;\n",
       "    }\n",
       "</style>\n",
       "<table border=\"1\" class=\"dataframe\">\n",
       "  <thead>\n",
       "    <tr style=\"text-align: right;\">\n",
       "      <th></th>\n",
       "      <th>Fixed-Angle</th>\n",
       "      <th>Fixed-Angle/ Paulisimp</th>\n",
       "      <th>Arbitrary-Angle</th>\n",
       "    </tr>\n",
       "  </thead>\n",
       "  <tbody>\n",
       "    <tr>\n",
       "      <th>a</th>\n",
       "      <td>0.030655</td>\n",
       "      <td>0.030655</td>\n",
       "      <td>0.030655</td>\n",
       "    </tr>\n",
       "    <tr>\n",
       "      <th>b</th>\n",
       "      <td>0.003461</td>\n",
       "      <td>0.003461</td>\n",
       "      <td>0.003461</td>\n",
       "    </tr>\n",
       "    <tr>\n",
       "      <th>Energy (Ha)</th>\n",
       "      <td>-39.742681</td>\n",
       "      <td>-39.742681</td>\n",
       "      <td>-39.742681</td>\n",
       "    </tr>\n",
       "  </tbody>\n",
       "</table>\n",
       "</div>"
      ],
      "text/plain": [
       "             Fixed-Angle  Fixed-Angle/ Paulisimp  Arbitrary-Angle\n",
       "a               0.030655                0.030655         0.030655\n",
       "b               0.003461                0.003461         0.003461\n",
       "Energy (Ha)   -39.742681              -39.742681       -39.742681"
      ]
     },
     "execution_count": 21,
     "metadata": {},
     "output_type": "execute_result"
    }
   ],
   "source": [
    "import pandas as pd\n",
    "\n",
    "output = lambda symbols, result: pd.Series([p for p in result.x] + [result.fun], index=symbols+[\"Energy (Ha)\"])\n",
    "d0 = output(symbols, result_fixed)\n",
    "d1 = output(symbols, result_paulisimp)\n",
    "d2 = output(symbols, result_arbzz)\n",
    "\n",
    "df = pd.concat([d0, d1, d2], axis=1)\n",
    "df.columns = [\"Fixed-Angle\", \"Fixed-Angle/ Paulisimp\", \"Arbitrary-Angle\"]\n",
    "df"
   ]
  },
  {
   "attachments": {},
   "cell_type": "markdown",
   "metadata": {},
   "source": [
    "## Hamiltonian Averaging"
   ]
  },
  {
   "attachments": {},
   "cell_type": "markdown",
   "metadata": {},
   "source": [
    "The following code cells estimate the Hamiltonian Expectation Value using `pytket.utils.expectations.get_operator_expectation_value`. This function performs measurement reduction under the hood to reduce the number of measurement circuits required to estimate the ground-state energy. Circuit submission and result retrieval are also performed internally within this `pytket` convenience function.\n",
    "\n",
    "This procedure requires the Chemically-Aware UCC state-preparation circuit, the 6-qubit electronic structure Hamiltonian for $\\textrm{CH}_4$ and the parameter set characterising the ground-state of $\\textrm{CH}_4$.\n",
    "\n",
    "The H-Series emulator (`H1-2E`) is used for this problem."
   ]
  },
  {
   "cell_type": "code",
   "execution_count": 23,
   "metadata": {},
   "outputs": [],
   "source": [
    "from pytket.extensions.quantinuum import QuantinuumBackend\n",
    "\n",
    "backend = QuantinuumBackend(device_name=\"H1-2E\")\n",
    "backend.login()"
   ]
  },
  {
   "attachments": {},
   "cell_type": "markdown",
   "metadata": {},
   "source": [
    "The code-cell below, the `hamiltonian_averaging_submission` requires the following inputs: \n",
    "\n",
    "* Chemically Aware UCC state-preparation circuit\n",
    "* a `QubitPauliOperator` instance of the Hamiltonian\n",
    "* a dictionary mapping symbols on the circuit to numerical parameters \n",
    "* a `QuantinuumBackend` instance\n",
    "* an integer specifying the number of shots to execute per circuit\n",
    "* an integer specifying the maximum HQCs to consume before a batch session is terminated\n",
    "* a boolean specifying whether the circuit should be rebased from `ZZPhase` (after compilation by QuantinuumBackend) to `ZZMax`\n",
    "\n",
    "This function prepares the measurement circuits needed to perform Hamiltonian Averaging. First the Hamiltonian is decomposed into commuting sets of Pauli-strings. Second, the commuting sets are synthesised into measurement operations, which are appended onto a copy of the Chemically-Aware UCC circuit (with numerical parameters). The circuits are submitted under the same batch session.\n",
    "\n",
    "A second function, `hamiltonian_averaging_evaluate`, retrieves the result and performs the appropriate post-processing to evaluate the expectation value of the Hamiltonian. If the parameters corresponding to the approximate ground-state are inputted into `hamiltonian_averaging_submission`, then the approximate ground-state energy is evaluated."
   ]
  },
  {
   "cell_type": "code",
   "execution_count": 24,
   "metadata": {},
   "outputs": [],
   "source": [
    "from typing import Dict, List, Tuple\n",
    "\n",
    "from pytket.circuit import Circuit\n",
    "from pytket.partition import (\n",
    "    measurement_reduction,\n",
    "    MeasurementSetup,\n",
    "    PauliPartitionStrat,\n",
    "    MeasurementBitMap\n",
    ")\n",
    "from pytket.passes import auto_squash_pass, auto_rebase_pass\n",
    "from pytket.backends.resulthandle import ResultHandle\n",
    "from pytket.utils.operators import QubitPauliOperator\n",
    "\n",
    "\n",
    "def hamiltonian_averaging_submission(\n",
    "    state_circuit: Circuit,\n",
    "    hamiltonian: QubitPauliOperator,\n",
    "    parameters: Dict[Symbol, float],\n",
    "    backend: QuantinuumBackend,\n",
    "    n_shots: int,\n",
    "    max_batch_cost: int = 500,\n",
    "    rebase_to_zzmax: bool = False\n",
    ") -> Tuple[List[ResultHandle], MeasurementSetup]:\n",
    "    circuit = state_circuit.copy()\n",
    "    circuit.symbol_substitution(parameters)\n",
    "    term_list = [term for term in hamiltonian._dict.keys()]\n",
    "    measurement_setup = measurement_reduction(term_list, strat=PauliPartitionStrat.CommutingSets)\n",
    "    handles_list = []\n",
    "    for i, mc in enumerate(measurement_setup.measurement_circs):\n",
    "        c = circuit.copy()\n",
    "        c.append(mc)\n",
    "        cc = backend.get_compiled_circuit(c, optimisation_level=1)\n",
    "        if rebase_to_zzmax:\n",
    "            rebase_custom = auto_rebase_pass({OpType.ZZMax, OpType.PhasedX, OpType.Rz})\n",
    "            squash_custom = auto_squash_pass({OpType.PhasedX, OpType.Rz})\n",
    "            rebase_custom.apply(cc)\n",
    "            squash_custom.apply(cc)\n",
    "        if isinstance(backend, QuantinuumBackend):\n",
    "            if i == 0:\n",
    "                result_handle_start = backend.start_batch(max_batch_cost, cc, n_shots=n_shots, options={\"tket-opt-level\": None})\n",
    "                handles_list += [result_handle_start]\n",
    "            elif i > 0:\n",
    "                result_handle = backend.add_to_batch(result_handle_start, cc, n_shots=n_shots, options={\"tket-opt-level\": None})\n",
    "                handles_list += [result_handle]\n",
    "        else:\n",
    "            result_handle = backend.process_circuit(cc, n_shots=n_shots, options={\"tket-opt-level\": None})\n",
    "            handles_list += [result_handle]\n",
    "    return handles_list, measurement_setup\n",
    "\n",
    "\n",
    "def hamiltonian_averaging_evaluate(\n",
    "    handles_list: List[ResultHandle],\n",
    "    measurement_setup: MeasurementSetup,\n",
    "    hamiltonian: QubitPauliOperator,\n",
    "    backend: QuantinuumBackend,\n",
    ") -> float:\n",
    "    results_list = backend.get_results(handles_list)\n",
    "    energy = 0\n",
    "    for qps, bitmap_list in measurement_setup.results.items():\n",
    "        coeff = hamiltonian.get(qps, 0)\n",
    "        if np.abs(coeff) > 0:\n",
    "            value = 0\n",
    "            for bitmap in bitmap_list:\n",
    "                result = results_list[bitmap.circ_index]\n",
    "                distribution = result.get_distribution()\n",
    "                value += compute_expectation_paulistring(distribution, bitmap)            \n",
    "            energy += value / len(bitmap_list) * coeff\n",
    "    return energy\n",
    "\n",
    "\n",
    "def compute_expectation_paulistring(\n",
    "    distribution: Dict[Tuple[int, ...], float], \n",
    "    bitmap: MeasurementBitMap\n",
    ") -> float:\n",
    "    value = 0\n",
    "    for bitstring, probability in distribution.items():\n",
    "        value += probability * (sum(bitstring[i] for i in bitmap.bits) % 2)\n",
    "    return ((-1) ** bitmap.invert) * (-2 * value + 1)"
   ]
  },
  {
   "attachments": {},
   "cell_type": "markdown",
   "metadata": {},
   "source": [
    "For this experiment, 5000 shots are submitted per circuit. A dictionary containing the necessary symbols and relevant parameters is also prepared."
   ]
  },
  {
   "cell_type": "code",
   "execution_count": 25,
   "metadata": {},
   "outputs": [],
   "source": [
    "parameters = {s: df.loc[s][\"Fixed-Angle\"] for s in symbols}\n",
    "n_shots = 5000"
   ]
  },
  {
   "attachments": {},
   "cell_type": "markdown",
   "metadata": {},
   "source": [
    "Three different Hamiltonian Averaging experiments with the Chemically-Aware UCC method are performed on the H-Series Emulator:\n",
    "1. With Fixed-angle (`ZZMax`) gates.\n",
    "2. With Fixed-angle (`ZZMax`) gates on a circuit generated using Pauli-Gadget synthesis.\n",
    "3. With Arbitrary-Angle (`ZZPhase`) gates."
   ]
  },
  {
   "cell_type": "code",
   "execution_count": 26,
   "metadata": {},
   "outputs": [],
   "source": [
    "handles_fixed, ms = hamiltonian_averaging_submission(circ_fixed, hamiltonian, parameters, backend, n_shots, rebase_to_zzmax=True)\n",
    "energy_fixed = hamiltonian_averaging_evaluate(handles_fixed, ms, hamiltonian, backend)"
   ]
  },
  {
   "cell_type": "code",
   "execution_count": 27,
   "metadata": {},
   "outputs": [],
   "source": [
    "handles_paulisimp, ms = hamiltonian_averaging_submission(circ_paulisimp, hamiltonian, parameters, backend, n_shots, rebase_to_zzmax=True)\n",
    "energy_paulisimp = hamiltonian_averaging_evaluate(handles_paulisimp, ms, hamiltonian, backend)"
   ]
  },
  {
   "cell_type": "code",
   "execution_count": 28,
   "metadata": {},
   "outputs": [],
   "source": [
    "handles_arbzz, ms = hamiltonian_averaging_submission(circ_arbzz, hamiltonian, parameters, backend, n_shots, rebase_to_zzmax=False)\n",
    "energy_arbzz = hamiltonian_averaging_evaluate(handles_arbzz, ms, hamiltonian, backend)"
   ]
  },
  {
   "cell_type": "markdown",
   "metadata": {},
   "source": [
    "In addition, to benchmark the performance hamiltonian averaging procedure on the emulator with fixed-angle and arbitrary-angle gates, a noiseless calculation is executed. This uses a new instance of `QuantinuumBackend`, but configured with no noise model."
   ]
  },
  {
   "cell_type": "code",
   "execution_count": 29,
   "metadata": {},
   "outputs": [],
   "source": [
    "quantinuum_backend_noiseless = QuantinuumBackend(device_name=\"H1-2E\", options={\"error-model\": False})\n",
    "handles_noiseless, ms = hamiltonian_averaging_submission(circ_arbzz, hamiltonian, parameters, quantinuum_backend_noiseless, \n",
    "                                                         n_shots, rebase_to_zzmax=False)\n",
    "energy_noiseless = hamiltonian_averaging_evaluate(handles_noiseless, ms, hamiltonian, quantinuum_backend_noiseless)"
   ]
  },
  {
   "attachments": {},
   "cell_type": "markdown",
   "metadata": {},
   "source": [
    "The results from the 4 experiments are collated below. With Arbitrary-angle two-qubit gates, a 4x (3x) improvement in relative error is demonstrated, compared to a fixed-angle circuit with 11 (7) two-qubit gates."
   ]
  },
  {
   "cell_type": "code",
   "execution_count": 30,
   "metadata": {},
   "outputs": [
    {
     "data": {
      "text/html": [
       "<div>\n",
       "<style scoped>\n",
       "    .dataframe tbody tr th:only-of-type {\n",
       "        vertical-align: middle;\n",
       "    }\n",
       "\n",
       "    .dataframe tbody tr th {\n",
       "        vertical-align: top;\n",
       "    }\n",
       "\n",
       "    .dataframe thead th {\n",
       "        text-align: right;\n",
       "    }\n",
       "</style>\n",
       "<table border=\"1\" class=\"dataframe\">\n",
       "  <thead>\n",
       "    <tr style=\"text-align: right;\">\n",
       "      <th></th>\n",
       "      <th>Fixed-Angle</th>\n",
       "      <th>Paulisimp</th>\n",
       "      <th>Arb-Angle</th>\n",
       "    </tr>\n",
       "  </thead>\n",
       "  <tbody>\n",
       "    <tr>\n",
       "      <th>Number of 2qb Gates</th>\n",
       "      <td>11</td>\n",
       "      <td>7</td>\n",
       "      <td>7</td>\n",
       "    </tr>\n",
       "    <tr>\n",
       "      <th>Electronic Energy (Ha)</th>\n",
       "      <td>-39.7065013138904</td>\n",
       "      <td>-39.7154822737197</td>\n",
       "      <td>-39.7274072963296</td>\n",
       "    </tr>\n",
       "    <tr>\n",
       "      <th>Absolute Error (Ha)</th>\n",
       "      <td>0.0329011295075574</td>\n",
       "      <td>0.0239201696782203</td>\n",
       "      <td>0.0119951470683333</td>\n",
       "    </tr>\n",
       "    <tr>\n",
       "      <th>Relative Error (%)</th>\n",
       "      <td>0.0828608122570792</td>\n",
       "      <td>0.0602288284285764</td>\n",
       "      <td>0.0301936317637358</td>\n",
       "    </tr>\n",
       "  </tbody>\n",
       "</table>\n",
       "</div>"
      ],
      "text/plain": [
       "                               Fixed-Angle           Paulisimp  \\\n",
       "Number of 2qb Gates                     11                   7   \n",
       "Electronic Energy (Ha)   -39.7065013138904   -39.7154822737197   \n",
       "Absolute Error (Ha)     0.0329011295075574  0.0239201696782203   \n",
       "Relative Error (%)      0.0828608122570792  0.0602288284285764   \n",
       "\n",
       "                                 Arb-Angle  \n",
       "Number of 2qb Gates                      7  \n",
       "Electronic Energy (Ha)   -39.7274072963296  \n",
       "Absolute Error (Ha)     0.0119951470683333  \n",
       "Relative Error (%)      0.0301936317637358  "
      ]
     },
     "execution_count": 30,
     "metadata": {},
     "output_type": "execute_result"
    }
   ],
   "source": [
    "n2qb_fixed = circ_fixed.n_2qb_gates()\n",
    "n2qb_paulisimp = circ_paulisimp.n_2qb_gates()\n",
    "n2qb_arbzz = circ_arbzz.n_2qb_gates()\n",
    "\n",
    "n2qb = [n2qb_fixed, n2qb_paulisimp, n2qb_arbzz]\n",
    "energy = [energy_fixed, energy_paulisimp, energy_arbzz]\n",
    "abs_error = [np.absolute(e - energy_noiseless) for e in energy]\n",
    "rel_error = [err/np.absolute(e) * 100 for err, e in zip(abs_error, energy)]\n",
    "\n",
    "data = [\n",
    "    n2qb,\n",
    "    energy,\n",
    "    abs_error,\n",
    "    rel_error\n",
    "]\n",
    "\n",
    "columns = [\"Fixed-Angle\", \"Paulisimp\", \"Arb-Angle\"]\n",
    "index = [\"Number of 2qb Gates\", \"Electronic Energy (Ha)\", \"Absolute Error (Ha)\", \"Relative Error (%)\"]\n",
    "df_result = pd.DataFrame(data, columns=columns, index=index)\n",
    "df_result"
   ]
  },
  {
   "attachments": {},
   "cell_type": "markdown",
   "metadata": {},
   "source": [
    "## Jensen-Shannon Divergence"
   ]
  },
  {
   "attachments": {},
   "cell_type": "markdown",
   "metadata": {},
   "source": [
    "The Jensen-Shannon divergence is a metric to estimate the similarity between two probability distributions. Output from the three experiments on the H-Series emulator are compared to the output from the noiseless emulator calculation. During the Hamiltonian Averaging procedure, distributions of measurement outcomes are calculated. These distributions are processed to estimate the expectation value of the Hamiltonian. In the code-cell below, these distributions are retrieved using `QuantinuumBackend`."
   ]
  },
  {
   "cell_type": "code",
   "execution_count": 31,
   "metadata": {},
   "outputs": [],
   "source": [
    "results_fixed = backend.get_results(handles_fixed)\n",
    "results_paulisimp = backend.get_results(handles_paulisimp)\n",
    "results_arbzz = backend.get_results(handles_arbzz)\n",
    "results_aer = quantinuum_backend_noiseless.get_results(handles_noiseless)"
   ]
  },
  {
   "attachments": {},
   "cell_type": "markdown",
   "metadata": {},
   "source": [
    "Each distribution of measurement outcomes is a dictionary mapping a bitstring (tuple of integers) to a probability. For each of the four experiments, the measurement distributions are ordered by a bitstring. The `sort_distributions` function takes a list of distributions and returns a list of ordered sequences of probabilities."
   ]
  },
  {
   "cell_type": "code",
   "execution_count": 32,
   "metadata": {},
   "outputs": [],
   "source": [
    "import itertools\n",
    "\n",
    "def sort_distributions(result_list: List[ResultHandle], n_qubits: int=6) -> List[float]:\n",
    "    probabilities_list = []\n",
    "    for result in result_list:\n",
    "        probabilities = np.asarray([\n",
    "            result.get_distribution().get(bitstring, 0) \n",
    "            for bitstring in itertools.product([0,1], repeat=n_qubits)\n",
    "        ])\n",
    "        probabilities_list += [probabilities / np.linalg.norm(probabilities, ord=1)]\n",
    "    return np.asarray(probabilities_list)\n",
    "\n",
    "dist_fixed = sort_distributions(results_fixed)\n",
    "dist_paulisimp = sort_distributions(results_paulisimp)\n",
    "dist_arbzz = sort_distributions(results_arbzz)\n",
    "dist_aer = sort_distributions(results_aer)"
   ]
  },
  {
   "attachments": {},
   "cell_type": "markdown",
   "metadata": {},
   "source": [
    "The code cell below uses tools from numpy and scipy to calculate the JSD (Jensen-Shannon Divergence)."
   ]
  },
  {
   "cell_type": "code",
   "execution_count": 33,
   "metadata": {},
   "outputs": [],
   "source": [
    "from scipy.stats import entropy\n",
    "from pandas import Series\n",
    "\n",
    "def compute_jsd(\n",
    "    distribution_list0: List[np.ndarray],\n",
    "    distribution_list1: List[np.ndarray]\n",
    ") -> Series:\n",
    "    index = [f\"Distribution {i}\" for i in range(len(distribution_list0))]\n",
    "    data = []\n",
    "    for (d0, d1) in zip(distribution_list0, distribution_list1):\n",
    "        c = 0.5 * (d0 + d1)\n",
    "        jsd = 0.5 * (entropy(d0, c) + entropy(d1, c))\n",
    "        data += [jsd]\n",
    "    series = Series(data, index=index)\n",
    "    return series"
   ]
  },
  {
   "attachments": {},
   "cell_type": "markdown",
   "metadata": {},
   "source": [
    "The results below shows the JSD for each measured distribution from the $\\textrm{CH}_4$ problem. The lower the value of JSD, the more similar the measured distribution is to the test distribution (noiseless emulator calculation). It is clear from the results that the Arbitrary-angle measured distribution is the most similar."
   ]
  },
  {
   "cell_type": "code",
   "execution_count": 34,
   "metadata": {},
   "outputs": [
    {
     "data": {
      "text/html": [
       "<div>\n",
       "<style scoped>\n",
       "    .dataframe tbody tr th:only-of-type {\n",
       "        vertical-align: middle;\n",
       "    }\n",
       "\n",
       "    .dataframe tbody tr th {\n",
       "        vertical-align: top;\n",
       "    }\n",
       "\n",
       "    .dataframe thead th {\n",
       "        text-align: right;\n",
       "    }\n",
       "</style>\n",
       "<table border=\"1\" class=\"dataframe\">\n",
       "  <thead>\n",
       "    <tr style=\"text-align: right;\">\n",
       "      <th></th>\n",
       "      <th>Fixed-Angle</th>\n",
       "      <th>Paulisimp</th>\n",
       "      <th>Arb-Angle</th>\n",
       "    </tr>\n",
       "  </thead>\n",
       "  <tbody>\n",
       "    <tr>\n",
       "      <th>Distribution 0</th>\n",
       "      <td>0.009258</td>\n",
       "      <td>0.008991</td>\n",
       "      <td>0.006458</td>\n",
       "    </tr>\n",
       "    <tr>\n",
       "      <th>Distribution 1</th>\n",
       "      <td>0.010724</td>\n",
       "      <td>0.007605</td>\n",
       "      <td>0.006521</td>\n",
       "    </tr>\n",
       "    <tr>\n",
       "      <th>Distribution 2</th>\n",
       "      <td>0.010797</td>\n",
       "      <td>0.009521</td>\n",
       "      <td>0.007044</td>\n",
       "    </tr>\n",
       "    <tr>\n",
       "      <th>Distribution 3</th>\n",
       "      <td>0.012741</td>\n",
       "      <td>0.008935</td>\n",
       "      <td>0.009034</td>\n",
       "    </tr>\n",
       "    <tr>\n",
       "      <th>Distribution 4</th>\n",
       "      <td>0.008521</td>\n",
       "      <td>0.008422</td>\n",
       "      <td>0.006334</td>\n",
       "    </tr>\n",
       "    <tr>\n",
       "      <th>Distribution 5</th>\n",
       "      <td>0.008506</td>\n",
       "      <td>0.008365</td>\n",
       "      <td>0.006182</td>\n",
       "    </tr>\n",
       "    <tr>\n",
       "      <th>Distribution 6</th>\n",
       "      <td>0.009261</td>\n",
       "      <td>0.007897</td>\n",
       "      <td>0.008104</td>\n",
       "    </tr>\n",
       "    <tr>\n",
       "      <th>Distribution 7</th>\n",
       "      <td>0.011237</td>\n",
       "      <td>0.008823</td>\n",
       "      <td>0.008173</td>\n",
       "    </tr>\n",
       "    <tr>\n",
       "      <th>Distribution 8</th>\n",
       "      <td>0.009837</td>\n",
       "      <td>0.009124</td>\n",
       "      <td>0.007463</td>\n",
       "    </tr>\n",
       "    <tr>\n",
       "      <th>Distribution 9</th>\n",
       "      <td>0.010095</td>\n",
       "      <td>0.008079</td>\n",
       "      <td>0.007319</td>\n",
       "    </tr>\n",
       "    <tr>\n",
       "      <th>Distribution 10</th>\n",
       "      <td>0.009955</td>\n",
       "      <td>0.008035</td>\n",
       "      <td>0.007034</td>\n",
       "    </tr>\n",
       "    <tr>\n",
       "      <th>Distribution 11</th>\n",
       "      <td>0.010665</td>\n",
       "      <td>0.008822</td>\n",
       "      <td>0.008609</td>\n",
       "    </tr>\n",
       "  </tbody>\n",
       "</table>\n",
       "</div>"
      ],
      "text/plain": [
       "                 Fixed-Angle  Paulisimp  Arb-Angle\n",
       "Distribution 0      0.009258   0.008991   0.006458\n",
       "Distribution 1      0.010724   0.007605   0.006521\n",
       "Distribution 2      0.010797   0.009521   0.007044\n",
       "Distribution 3      0.012741   0.008935   0.009034\n",
       "Distribution 4      0.008521   0.008422   0.006334\n",
       "Distribution 5      0.008506   0.008365   0.006182\n",
       "Distribution 6      0.009261   0.007897   0.008104\n",
       "Distribution 7      0.011237   0.008823   0.008173\n",
       "Distribution 8      0.009837   0.009124   0.007463\n",
       "Distribution 9      0.010095   0.008079   0.007319\n",
       "Distribution 10     0.009955   0.008035   0.007034\n",
       "Distribution 11     0.010665   0.008822   0.008609"
      ]
     },
     "execution_count": 34,
     "metadata": {},
     "output_type": "execute_result"
    }
   ],
   "source": [
    "series_fixed = compute_jsd(dist_fixed, dist_aer)\n",
    "series_paulisimp = compute_jsd(dist_paulisimp, dist_aer)\n",
    "series_arbzz = compute_jsd(dist_arbzz, dist_aer)\n",
    "columns = [\"Fixed-Angle\", \"Paulisimp\", \"Arb-Angle\"]\n",
    "df_jsd = pd.concat([series_fixed, series_paulisimp, series_arbzz], axis=1)\n",
    "df_jsd.columns = columns\n",
    "df_jsd"
   ]
  },
  {
   "attachments": {},
   "cell_type": "markdown",
   "metadata": {},
   "source": [
    "This distribution is now plotted as a Heatmap. In this grid, each row is a distribution, and each column is the result from the circuit with Fixed-Angle or Arbitrary-Angle gates. The colormap ranges from black to white. Black defines the highest JSD value (0.013). The closer a grid element is to white, the better (lower) the JSD value."
   ]
  },
  {
   "cell_type": "code",
   "execution_count": 40,
   "metadata": {},
   "outputs": [
    {
     "data": {
      "text/plain": [
       "<Axes: >"
      ]
     },
     "execution_count": 40,
     "metadata": {},
     "output_type": "execute_result"
    },
    {
     "data": {
      "image/png": "[encoded data removed]",
      "text/plain": [
       "<Figure size 640x480 with 2 Axes>"
      ]
     },
     "metadata": {},
     "output_type": "display_data"
    }
   ],
   "source": [
    "import seaborn as sns\n",
    "\n",
    "sns.heatmap(df_jsd, annot=True, cmap=\"binary\")"
   ]
  },
  {
   "attachments": {},
   "cell_type": "markdown",
   "metadata": {},
   "source": [
    "<div align=\"center\"> &copy; 2024 by Quantinuum. All Rights Reserved. </div>"
   ]
  }
 ],
 "metadata": {
  "kernelspec": {
   "display_name": "Python 3 (ipykernel)",
   "language": "python",
   "name": "python3"
  },
  "language_info": {
   "codemirror_mode": {
    "name": "ipython",
    "version": 3
   },
   "file_extension": ".py",
   "mimetype": "text/x-python",
   "name": "python",
   "nbconvert_exporter": "python",
   "pygments_lexer": "ipython3",
   "version": "3.10.11"
  }
 },
 "nbformat": 4,
 "nbformat_minor": 4
}
