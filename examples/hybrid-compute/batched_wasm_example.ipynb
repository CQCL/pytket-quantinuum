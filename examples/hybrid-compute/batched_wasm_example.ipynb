{
 "cells": [
  {
   "cell_type": "markdown",
   "metadata": {},
   "source": [
    "# Quantinuum Hybrid Compute via pytket\n",
    "\n",
    "This notebook contains an example of how to create and run hybrid classical-quantum workflows within the Quantinuum stack via `pytket`.\n",
    "\n",
    "**Note:** This notebook uses existing Wasm examples provided in this folder's subdirectories. To create and run your own Wasm functions, you'll need to set up an environment on your machine to support this workflow. Instructions for how to do this are given in this folder's README.\n",
    "\n",
    "* [Repeat Until Success](#repeat-until-success)\n",
    "\n",
    "This is a simple example made of how you can process measurements, using classical logic via Wasm, to implement a quantum loop, or a repeat-until-success (RUS) style circuit, also called an exit-on-failure circuit.\n",
    "\n",
    "* [1 RUS Circuit](#1-rus-circuit)\n",
    "* [RUS Experiment](#rus-experiment)\n",
    "\n",
    "## 1 RUS Circuit \n",
    "\n",
    "### Import libraries\n",
    "\n",
    "Note the `wasm` module imported from `pytket` as well as several several conditional operators that are options. More information on the conditional operations available can be found in the user manual at [Classical and Conditional Operations](https://tket.quantinuum.com/api-docs/classical.html).\n"
   ]
  },
  {
   "cell_type": "code",
   "execution_count": 1,
   "metadata": {},
   "outputs": [
    {
     "name": "stdout",
     "output_type": "stream",
     "text": [
      "Enter your Quantinuum email:  callum.macpherson@quantinuum.com\n",
      "Enter your Quantinuum password:  ········\n"
     ]
    }
   ],
   "source": [
    "from pytket.extensions.quantinuum import QuantinuumBackend\n",
    "\n",
    "machine = \"H1-1E\"\n",
    "backend = QuantinuumBackend(device_name=machine)\n",
    "backend.login()"
   ]
  },
  {
   "cell_type": "markdown",
   "metadata": {},
   "source": [
    "Set up the RUS circuit. This involves 2 steps:\n",
    "1. Set up Wasm File handler. This checks the Wasm file and can list the available functions within the file.\n",
    "2. Set up the pytket circuit, which calls the Wasm file handler."
   ]
  },
  {
   "cell_type": "code",
   "execution_count": 1,
   "metadata": {},
   "outputs": [
    {
     "name": "stdout",
     "output_type": "stream",
     "text": [
      "Functions in wasm file with the uid f5265965c9f207c02e626e3fd48183b545f74877a27c62c3fcc2cc68bee5a36a:\n",
      "function 'init' with 0 i32 parameter(s) and 0 i32 return value(s)\n",
      "function 'add_count' with 2 i32 parameter(s) and 1 i32 return value(s)\n",
      "\n"
     ]
    }
   ],
   "source": [
    "import pathlib\n",
    "from pytket import wasm\n",
    "\n",
    "rus_dir = pathlib.Path().cwd().joinpath(\"RUS_WASM\")\n",
    "wasm_file = rus_dir.joinpath(\"rus_wasm.wasm\")\n",
    "wfh = wasm.WasmFileHandler(wasm_file)\n",
    "\n",
    "print(repr(wfh))"
   ]
  },
  {
   "cell_type": "code",
   "execution_count": 3,
   "metadata": {},
   "outputs": [],
   "source": [
    "from pytket.circuit import Circuit, Qubit\n",
    "from pytket.circuit.logic_exp import reg_lt\n",
    "\n",
    "\n",
    "def build_rus_circuit(n_repetitions: int, cond_execute: int) -> Circuit:\n",
    "    \"\"\"\n",
    "    n_repetitions (int): number of attempts\n",
    "    cond_execute: condition to execute, i.e. run this until a total of cond_execute |1> measurements is achieved.\n",
    "\n",
    "    \"\"\"\n",
    "    # Create circuit with two qubits\n",
    "    circuit = Circuit(2, name=f\"RUS_limit={n_repetitions}_cond={cond_execute}\")\n",
    "\n",
    "    # Add classical registers\n",
    "    creg0 = circuit.add_c_register(\"creg0\", 1)\n",
    "    creg1 = circuit.add_c_register(\"creg1\", 1)\n",
    "    cond = circuit.add_c_register(\"cond\", 32)\n",
    "    count = circuit.add_c_register(\"count\", 32)\n",
    "\n",
    "    # Set cond to 0\n",
    "    circuit.add_c_setreg(0, cond)\n",
    "\n",
    "    # Loops\n",
    "    for loop_iter in range(1, n_repetitions + 1):\n",
    "\n",
    "        circuit.H(0, condition=reg_lt(cond, cond_execute))\n",
    "        circuit.CX(0, 1, condition=reg_lt(cond, cond_execute))\n",
    "        circuit.Measure(Qubit(1), creg1[0], condition=reg_lt(cond, cond_execute))\n",
    "\n",
    "        # Add wasm call with the parameters creg1 and count, writing the result to cond\n",
    "        # The function \"add_count\" is used from the Wasm file\n",
    "        circuit.add_wasm_to_reg(\n",
    "            \"add_count\",\n",
    "            wfh,\n",
    "            [creg1, count],\n",
    "            [cond],\n",
    "            condition=reg_lt(cond, cond_execute),\n",
    "        )\n",
    "\n",
    "        circuit.add_c_setreg(loop_iter, count, condition=reg_lt(cond, cond_execute))\n",
    "        circuit.Reset(0, condition=reg_lt(cond, cond_execute))\n",
    "\n",
    "    circuit.Measure(Qubit(0), creg0[0])\n",
    "    circuit.Measure(Qubit(1), creg1[0])\n",
    "\n",
    "    return circuit"
   ]
  },
  {
   "cell_type": "code",
   "execution_count": 4,
   "metadata": {},
   "outputs": [
    {
     "ename": "NameError",
     "evalue": "name 'wfh' is not defined",
     "output_type": "error",
     "traceback": [
      "\u001b[0;31m---------------------------------------------------------------------------\u001b[0m",
      "\u001b[0;31mNameError\u001b[0m                                 Traceback (most recent call last)",
      "Cell \u001b[0;32mIn[4], line 3\u001b[0m\n\u001b[1;32m      1\u001b[0m \u001b[38;5;28;01mfrom\u001b[39;00m \u001b[38;5;21;01mpytket\u001b[39;00m\u001b[38;5;21;01m.\u001b[39;00m\u001b[38;5;21;01mcircuit\u001b[39;00m\u001b[38;5;21;01m.\u001b[39;00m\u001b[38;5;21;01mdisplay\u001b[39;00m \u001b[38;5;28;01mimport\u001b[39;00m render_circuit_jupyter\n\u001b[0;32m----> 3\u001b[0m circuit \u001b[38;5;241m=\u001b[39m \u001b[43mbuild_rus_circuit\u001b[49m\u001b[43m(\u001b[49m\u001b[38;5;241;43m5\u001b[39;49m\u001b[43m,\u001b[49m\u001b[43m \u001b[49m\u001b[38;5;241;43m3\u001b[39;49m\u001b[43m)\u001b[49m\n\u001b[1;32m      5\u001b[0m \u001b[38;5;66;03m# render_circuit_jupyter(circuit)\u001b[39;00m\n\u001b[1;32m      6\u001b[0m render_circuit_jupyter(circuit)\n",
      "Cell \u001b[0;32mIn[3], line 34\u001b[0m, in \u001b[0;36mbuild_rus_circuit\u001b[0;34m(n_repetitions, cond_execute)\u001b[0m\n\u001b[1;32m     28\u001b[0m circuit\u001b[38;5;241m.\u001b[39mMeasure(Qubit(\u001b[38;5;241m1\u001b[39m), creg1[\u001b[38;5;241m0\u001b[39m], condition\u001b[38;5;241m=\u001b[39mreg_lt(cond, cond_execute))\n\u001b[1;32m     30\u001b[0m \u001b[38;5;66;03m# Add wasm call with the parameters creg1 and count, writing the result to cond\u001b[39;00m\n\u001b[1;32m     31\u001b[0m \u001b[38;5;66;03m# The function \"add_count\" is used from the Wasm file\u001b[39;00m\n\u001b[1;32m     32\u001b[0m circuit\u001b[38;5;241m.\u001b[39madd_wasm_to_reg(\n\u001b[1;32m     33\u001b[0m     \u001b[38;5;124m\"\u001b[39m\u001b[38;5;124madd_count\u001b[39m\u001b[38;5;124m\"\u001b[39m,\n\u001b[0;32m---> 34\u001b[0m     \u001b[43mwfh\u001b[49m,\n\u001b[1;32m     35\u001b[0m     [creg1, count],\n\u001b[1;32m     36\u001b[0m     [cond],\n\u001b[1;32m     37\u001b[0m     condition\u001b[38;5;241m=\u001b[39mreg_lt(cond, cond_execute),\n\u001b[1;32m     38\u001b[0m )\n\u001b[1;32m     40\u001b[0m circuit\u001b[38;5;241m.\u001b[39madd_c_setreg(loop_iter, count, condition\u001b[38;5;241m=\u001b[39mreg_lt(cond, cond_execute))\n\u001b[1;32m     41\u001b[0m circuit\u001b[38;5;241m.\u001b[39mReset(\u001b[38;5;241m0\u001b[39m, condition\u001b[38;5;241m=\u001b[39mreg_lt(cond, cond_execute))\n",
      "\u001b[0;31mNameError\u001b[0m: name 'wfh' is not defined"
     ]
    }
   ],
   "source": [
    "from pytket.circuit.display import render_circuit_jupyter\n",
    "\n",
    "circuit = build_rus_circuit(5, 3)\n",
    "\n",
    "render_circuit_jupyter(circuit)"
   ]
  },
  {
   "cell_type": "markdown",
   "metadata": {},
   "source": [
    "## Circuit Compilation\n",
    "\n",
    "`pytket` includes many features for optimizing circuits. This includes reducing the number of gates where possible and resynthesizing circuits for a quantum computer's native gate set. See the `pytket` [User Manual](https://tket.quantinuum.com/user-manual/) for more information on all the options that are available.\n",
    "\n",
    "Here the circuit is compiled with `get_compiled_circuit`, which includes optimizing the gates and resynthesizing the circuit to Quantinuum's native gate set. The `optimisation_level` sets the level of optimisation to perform during compilation, check `pytket-quantinuum` documentation for more information, specifically the [Default Compilation](https://tket.quantinuum.com/extensions/pytket-quantinuum/#default-compilation) section."
   ]
  },
  {
   "cell_type": "code",
   "execution_count": null,
   "metadata": {},
   "outputs": [],
   "source": [
    "compiled_circuit = backend.get_compiled_circuit(circuit, optimisation_level=0)\n",
    "\n",
    "render_circuit_jupyter(compiled_circuit)"
   ]
  },
  {
   "cell_type": "markdown",
   "metadata": {},
   "source": [
    "## Check Circuit Cost\n",
    "\n",
    "Check the cost of the experiment before running.\n",
    "\n",
    "\n"
   ]
  },
  {
   "cell_type": "code",
   "execution_count": null,
   "metadata": {},
   "outputs": [],
   "source": [
    "n_shots = 1000\n",
    "backend.cost(compiled_circuit, n_shots=n_shots, syntax_checker=\"H1-1SC\")"
   ]
  },
  {
   "cell_type": "markdown",
   "metadata": {},
   "source": [
    "# Submit and Run the Circuit\n",
    "\n",
    "Note the `wasm_file_handler` input in the `process_circuit` function. This ensures the Wasm functions are passed onto the Quantinuum API."
   ]
  },
  {
   "cell_type": "code",
   "execution_count": null,
   "metadata": {},
   "outputs": [],
   "source": [
    "handle = backend.process_circuit(\n",
    "    compiled_circuit, n_shots=n_shots, wasm_file_handler=wfh\n",
    ")\n",
    "print(handle)\n",
    "\n",
    "\n",
    "status = backend.circuit_status(handle)\n",
    "print(status)\n",
    "\n",
    "\n",
    "result = backend.get_result(handle)\n",
    "print(result)"
   ]
  },
  {
   "cell_type": "code",
   "execution_count": null,
   "metadata": {},
   "outputs": [],
   "source": [
    "import json\n",
    "\n",
    "with open(compiled_circuit.name + \".json\", \"w\", encoding=\"utf-8\") as file:\n",
    "    json.dump(result.to_dict(), file)"
   ]
  },
  {
   "cell_type": "markdown",
   "metadata": {},
   "source": [
    "# Analyze Results\n",
    "\n",
    "Define a function to analyze the counts of 0 and 1 measurements on the `creg1` register."
   ]
  },
  {
   "cell_type": "code",
   "execution_count": null,
   "metadata": {},
   "outputs": [],
   "source": [
    "\n",
    "\n",
    "def get_creg1_counts_from_rus_result(\n",
    "    result_dict: dict,\n",
    ") -> tuple[dict[str, BackendResult]]:\n",
    "    \"\"\"Analyze results of RUS experiment.\"\"\"\n",
    "    creg1_0_cnts = {}\n",
    "    creg1_1_cnts = {}\n",
    "\n",
    "    for key, res in result_dict.items():\n",
    "        creg1_counts = res.get_counts(cbits=[Bit(\"creg1\", 0)])\n",
    "        creg1_0_cnts[key] = creg1_counts[(0,)]\n",
    "        creg1_1_cnts[key] = creg1_counts[(1,)]\n",
    "\n",
    "    return creg1_0_cnts, creg1_1_cnts\n"
   ]
  },
  {
   "cell_type": "markdown",
   "metadata": {},
   "source": [
    "A more interesting experiment is to experiment with what happens with different values of the `limit`. The function below submits a set of RUS experiments using the `pytket-quantinuum` batch feature."
   ]
  },
  {
   "cell_type": "code",
   "execution_count": null,
   "metadata": {},
   "outputs": [],
   "source": [
    "\n",
    "def get_rus_circuit_batch(\n",
    "    machine_name: str, limit_start: int, limit_end: int, cond_execute: int\n",
    ") -> list[Circuit]:\n",
    "    backend = QuantinuumBackend(device_name=machine_name)\n",
    "\n",
    "    circuit_list = []\n",
    "\n",
    "    for limit in range(limit_start, limit_end + 1):\n",
    "        rus_circuit = build_rus_circuit(limit, cond_execute)\n",
    "        compiled_rus_circuit = backend.get_compiled_circuit(rus_circuit)\n",
    "        circuit_list.append(compiled_rus_circuit)\n",
    "\n",
    "    return circuit_list\n",
    "\n",
    "\n",
    "def get_batch_cost(\n",
    "    compiled_circuit_list: list[Circuit], machine: str, n_shots: int\n",
    ") -> float:\n",
    "\n",
    "    syntax_checker = machine.replace(\"E\", \"SC\")\n",
    "\n",
    "    total_cost = 0\n",
    "    for compiled_circuit in compiled_circuit_list:\n",
    "        circuit_cost = backend.cost(\n",
    "            circuit=compiled_circuit, syntax_checker=syntax_checker, n_shots=n_shots\n",
    "        )\n",
    "        if circuit_cost is not None:\n",
    "            total_cost += circuit_cost\n",
    "\n",
    "    return total_cost"
   ]
  },
  {
   "cell_type": "code",
   "execution_count": null,
   "metadata": {},
   "outputs": [],
   "source": [
    "def run_rus_experiment(\n",
    "    machine: str,\n",
    "    n_shots: int,\n",
    "    max_batch_cost: int,\n",
    "    cond_execute: int,\n",
    "    limit_start: int,\n",
    "    limit_end: int,\n",
    ") -> tuple[dict, float]:\n",
    "\n",
    "    backend = QuantinuumBackend(device_name=machine)\n",
    "    rus_circuit_list = get_rus_circuit_batch(\n",
    "        machine, limit_start, limit_end, cond_execute\n",
    "    )\n",
    "\n",
    "    experiment_cost: float = get_batch_cost(rus_circuit_list, machine, n_shots)\n",
    "\n",
    "    batch_handles = {}\n",
    "\n",
    "    batch_start = backend.start_batch(\n",
    "        max_batch_cost,\n",
    "        rus_circuit_list[0],\n",
    "        n_shots,\n",
    "        wasm_file_handler=wfh,\n",
    "    )\n",
    "    batch_handles[rus_circuit_list[0].name] = batch_start\n",
    "\n",
    "    for compiled_circuit in rus_circuit_list[1:-2]:\n",
    "        batch_mid = backend.add_to_batch(\n",
    "            batch_start,\n",
    "            compiled_circuit,\n",
    "            n_shots=n_shots,\n",
    "            wasm_file_handler=wfh,\n",
    "        )\n",
    "        batch_handles[compiled_circuit.name] = batch_mid\n",
    "\n",
    "    batch_end = backend.add_to_batch(\n",
    "        batch_start,\n",
    "        rus_circuit_list[-1],\n",
    "        n_shots=n_shots,\n",
    "        wasm_file_handler=wfh,\n",
    "        batch_end=True,\n",
    "    )\n",
    "    batch_handles[rus_circuit_list[-1].name] = batch_end\n",
    "\n",
    "    return batch_handles, experiment_cost"
   ]
  },
  {
   "cell_type": "code",
   "execution_count": null,
   "metadata": {},
   "outputs": [],
   "source": [
    "# Set up the experiment parameters.\n",
    "\n",
    "\n",
    "machine = \"H1-1E\"\n",
    "n_shots = 10\n",
    "cond_execute = 3\n",
    "limit_start = 1\n",
    "limit_end = 20\n",
    "max_batch_cost = 500"
   ]
  },
  {
   "cell_type": "code",
   "execution_count": null,
   "metadata": {},
   "outputs": [],
   "source": [
    "\n",
    "batch_handles, experiment_cost = run_rus_experiment(\n",
    "    machine=machine,\n",
    "    n_shots=n_shots,\n",
    "    max_batch_cost=max_batch_cost,\n",
    "    cond_execute=cond_execute,\n",
    "    limit_start=limit_start,\n",
    "    limit_end=limit_end,\n",
    ")\n",
    "print(\"Total Experiment Cost:\", experiment_cost)"
   ]
  },
  {
   "cell_type": "code",
   "execution_count": null,
   "metadata": {},
   "outputs": [],
   "source": [
    "# Check the status of the jobs.\n",
    "\n",
    "\n",
    "status_list = [backend.circuit_status(h) for k, h in batch_handles.items()]\n",
    "num_completed = len([x for x in status_list if x.status.name == \"COMPLETED\"])\n",
    "print(f\"{num_completed}/{len(status_list)} completed\")\n"
   ]
  },
  {
   "cell_type": "code",
   "execution_count": null,
   "metadata": {},
   "outputs": [],
   "source": [
    "\n",
    "\n",
    "# Save results once completed, in case you need to come back to analysis later.\n",
    "\n",
    "\n",
    "result = {}\n",
    "result_json = {}\n",
    "\n",
    "for key, handle in batch_handles.items():\n",
    "    result[key] = backend.get_result(handle)\n",
    "    result_json[key] = backend.get_result(handle).to_dict()\n",
    "\n",
    "with open(\"RUS_experiments.json\", \"w\", encoding=\"utf-8\") as file:\n",
    "    json.dump(result_json, file)\n"
   ]
  },
  {
   "cell_type": "code",
   "execution_count": null,
   "metadata": {},
   "outputs": [],
   "source": [
    "\n",
    "\n",
    "# Load saved results, if coming back to the experiment results.\n",
    "from pytket.backends.backendresult import BackendResult\n",
    "\n",
    "with open(\"RUS_experiments.json\") as file:\n",
    "    data = json.load(file)\n",
    "\n",
    "result = {}\n",
    "for key, handle in data.items():\n",
    "    result[key] = BackendResult.from_dict(handle)"
   ]
  },
  {
   "cell_type": "markdown",
   "metadata": {},
   "source": [
    "\n",
    "\n",
    "Plot results.\n"
   ]
  },
  {
   "cell_type": "code",
   "execution_count": null,
   "metadata": {},
   "outputs": [],
   "source": [
    "\n",
    "\n",
    "import matplotlib.pyplot as plt\n",
    "\n",
    "plt.figure()\n",
    "\n",
    "# Plot limit vs. Fidelity (Count of 0%)\n",
    "plt.errorbar(\n",
    "    [k[0] for k, v in creg1_0_cnts.items()],\n",
    "    [v[1] for k, v in creg1_0_cnts.items()],\n",
    "    label=\"RUS\",\n",
    "    marker=\"o\",\n",
    "    alpha=1.0,\n",
    "    color=\"red\",\n",
    ")\n",
    "\n",
    "plt.ylabel(\"Logical fidelity\")\n",
    "plt.xlabel(\"limit\")\n",
    "plt.legend(loc=\"lower left\")\n",
    "plt.show()"
   ]
  }
 ],
 "metadata": {
  "kernelspec": {
   "display_name": "Python 3 (ipykernel)",
   "language": "python",
   "name": "python3"
  },
  "language_info": {
   "codemirror_mode": {
    "name": "ipython",
    "version": 3
   },
   "file_extension": ".py",
   "mimetype": "text/x-python",
   "name": "python",
   "nbconvert_exporter": "python",
   "pygments_lexer": "ipython3",
   "version": "3.10.6"
  }
 },
 "nbformat": 4,
 "nbformat_minor": 4
}
