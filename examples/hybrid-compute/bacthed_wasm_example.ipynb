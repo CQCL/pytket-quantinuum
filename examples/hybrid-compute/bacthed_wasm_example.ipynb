{
 "cells": [
  {
   "cell_type": "markdown",
   "metadata": {},
   "source": [
    "# Quantinuum Hybrid Compute via pytket\n",
    "\n",
    "This notebook contains an example of how to create and run hybrid classical-quantum workflows within the Quantinuum stack via `pytket`.\n",
    "\n",
    "**Note:** This notebook uses existing Wasm examples provided in this folder's subdirectories. To create and run your own Wasm functions, you'll need to set up an environment on your machine to support this workflow. Instructions for how to do this are given in this folder's README.\n",
    "\n",
    "* [Repeat Until Success](#repeat-until-success)\n",
    "\n",
    "This is a simple example made of how you can process measurements, using classical logic via Wasm, to implement a quantum loop, or a repeat-until-success (RUS) style circuit, also called an exit-on-failure circuit.\n",
    "\n",
    "* [1 RUS Circuit](#1-rus-circuit)\n",
    "* [RUS Experiment](#rus-experiment)\n",
    "\n",
    "## 1 RUS Circuit \n",
    "\n",
    "### Import libraries\n",
    "\n",
    "Note the `wasm` module imported from `pytket` as well as several several conditional operators that are options. More information on the conditional operations available can be found in the user manual at [Classical and Conditional Operations](https://tket.quantinuum.com/api-docs/classical.html).\n"
   ]
  },
  {
   "cell_type": "code",
   "execution_count": 1,
   "metadata": {},
   "outputs": [
    {
     "ename": "QuantinuumAPIError",
     "evalue": "HTTP error attempting: Login.\n\nServer Response: {'error': {'code': 34, 'text': 'Incorrect username or password.'}}",
     "output_type": "error",
     "traceback": [
      "\u001b[0;31m---------------------------------------------------------------------------\u001b[0m",
      "\u001b[0;31mQuantinuumAPIError\u001b[0m                        Traceback (most recent call last)",
      "Cell \u001b[0;32mIn [1], line 5\u001b[0m\n\u001b[1;32m      3\u001b[0m machine \u001b[38;5;241m=\u001b[39m \u001b[38;5;124m\"\u001b[39m\u001b[38;5;124mH1-1E\u001b[39m\u001b[38;5;124m\"\u001b[39m\n\u001b[1;32m      4\u001b[0m backend \u001b[38;5;241m=\u001b[39m QuantinuumBackend(device_name\u001b[38;5;241m=\u001b[39mmachine)\n\u001b[0;32m----> 5\u001b[0m \u001b[43mbackend\u001b[49m\u001b[38;5;241;43m.\u001b[39;49m\u001b[43mlogin\u001b[49m\u001b[43m(\u001b[49m\u001b[43m)\u001b[49m\n",
      "File \u001b[0;32m~/.pyenv/versions/3.10.6/lib/python3.10/site-packages/pytket/extensions/quantinuum/backends/quantinuum.py:1192\u001b[0m, in \u001b[0;36mQuantinuumBackend.login\u001b[0;34m(self)\u001b[0m\n\u001b[1;32m   1185\u001b[0m \u001b[38;5;28;01mdef\u001b[39;00m \u001b[38;5;21mlogin\u001b[39m(\u001b[38;5;28mself\u001b[39m) \u001b[38;5;241m-\u001b[39m\u001b[38;5;241m>\u001b[39m \u001b[38;5;28;01mNone\u001b[39;00m:\n\u001b[1;32m   1186\u001b[0m     \u001b[38;5;124;03m\"\"\"Log in to Quantinuum API. Requests username and password from stdin\u001b[39;00m\n\u001b[1;32m   1187\u001b[0m \u001b[38;5;124;03m    (e.g. shell input or dialogue box in Jupytet notebooks.). Passwords are\u001b[39;00m\n\u001b[1;32m   1188\u001b[0m \u001b[38;5;124;03m    not stored.\u001b[39;00m\n\u001b[1;32m   1189\u001b[0m \u001b[38;5;124;03m    After log in you should not need to provide credentials again while that\u001b[39;00m\n\u001b[1;32m   1190\u001b[0m \u001b[38;5;124;03m    session (script/notebook) is alive.\u001b[39;00m\n\u001b[1;32m   1191\u001b[0m \u001b[38;5;124;03m    \"\"\"\u001b[39;00m\n\u001b[0;32m-> 1192\u001b[0m     \u001b[38;5;28;43mself\u001b[39;49m\u001b[38;5;241;43m.\u001b[39;49m\u001b[43mapi_handler\u001b[49m\u001b[38;5;241;43m.\u001b[39;49m\u001b[43mfull_login\u001b[49m\u001b[43m(\u001b[49m\u001b[43m)\u001b[49m\n",
      "File \u001b[0;32m~/.pyenv/versions/3.10.6/lib/python3.10/site-packages/pytket/extensions/quantinuum/backends/api_wrappers.py:260\u001b[0m, in \u001b[0;36mQuantinuumAPI.full_login\u001b[0;34m(self)\u001b[0m\n\u001b[1;32m    258\u001b[0m \u001b[38;5;124;03m\"\"\"Ask for user credentials from std input and update JWT tokens\"\"\"\u001b[39;00m\n\u001b[1;32m    259\u001b[0m \u001b[38;5;28;01mif\u001b[39;00m \u001b[38;5;28mself\u001b[39m\u001b[38;5;241m.\u001b[39mprovider \u001b[38;5;129;01mis\u001b[39;00m \u001b[38;5;28;01mNone\u001b[39;00m:\n\u001b[0;32m--> 260\u001b[0m     \u001b[38;5;28;43mself\u001b[39;49m\u001b[38;5;241;43m.\u001b[39;49m\u001b[43m_request_tokens\u001b[49m\u001b[43m(\u001b[49m\u001b[38;5;241;43m*\u001b[39;49m\u001b[38;5;28;43mself\u001b[39;49m\u001b[38;5;241;43m.\u001b[39;49m\u001b[43m_get_credentials\u001b[49m\u001b[43m(\u001b[49m\u001b[43m)\u001b[49m\u001b[43m)\u001b[49m\n\u001b[1;32m    261\u001b[0m \u001b[38;5;28;01melse\u001b[39;00m:\n\u001b[1;32m    262\u001b[0m     \u001b[38;5;28mself\u001b[39m\u001b[38;5;241m.\u001b[39m_request_tokens_federated()\n",
      "File \u001b[0;32m~/.pyenv/versions/3.10.6/lib/python3.10/site-packages/pytket/extensions/quantinuum/backends/api_wrappers.py:179\u001b[0m, in \u001b[0;36mQuantinuumAPI._request_tokens\u001b[0;34m(***failed resolving arguments***)\u001b[0m\n\u001b[1;32m    173\u001b[0m         \u001b[38;5;66;03m# resend request to login\u001b[39;00m\n\u001b[1;32m    174\u001b[0m         response \u001b[38;5;241m=\u001b[39m \u001b[38;5;28mself\u001b[39m\u001b[38;5;241m.\u001b[39msession\u001b[38;5;241m.\u001b[39mpost(\n\u001b[1;32m    175\u001b[0m             \u001b[38;5;124mf\u001b[39m\u001b[38;5;124m\"\u001b[39m\u001b[38;5;132;01m{\u001b[39;00m\u001b[38;5;28mself\u001b[39m\u001b[38;5;241m.\u001b[39murl\u001b[38;5;132;01m}\u001b[39;00m\u001b[38;5;124mlogin\u001b[39m\u001b[38;5;124m\"\u001b[39m,\n\u001b[1;32m    176\u001b[0m             json\u001b[38;5;241m.\u001b[39mdumps(body),\n\u001b[1;32m    177\u001b[0m         )\n\u001b[0;32m--> 179\u001b[0m \u001b[38;5;28;43mself\u001b[39;49m\u001b[38;5;241;43m.\u001b[39;49m\u001b[43m_response_check\u001b[49m\u001b[43m(\u001b[49m\u001b[43mresponse\u001b[49m\u001b[43m,\u001b[49m\u001b[43m \u001b[49m\u001b[38;5;124;43m\"\u001b[39;49m\u001b[38;5;124;43mLogin\u001b[39;49m\u001b[38;5;124;43m\"\u001b[39;49m\u001b[43m)\u001b[49m\n\u001b[1;32m    180\u001b[0m resp_dict \u001b[38;5;241m=\u001b[39m response\u001b[38;5;241m.\u001b[39mjson()\n\u001b[1;32m    181\u001b[0m \u001b[38;5;28mself\u001b[39m\u001b[38;5;241m.\u001b[39m_cred_store\u001b[38;5;241m.\u001b[39msave_tokens(\n\u001b[1;32m    182\u001b[0m     resp_dict[\u001b[38;5;124m\"\u001b[39m\u001b[38;5;124mid-token\u001b[39m\u001b[38;5;124m\"\u001b[39m], resp_dict[\u001b[38;5;124m\"\u001b[39m\u001b[38;5;124mrefresh-token\u001b[39m\u001b[38;5;124m\"\u001b[39m]\n\u001b[1;32m    183\u001b[0m )\n",
      "File \u001b[0;32m~/.pyenv/versions/3.10.6/lib/python3.10/site-packages/pytket/extensions/quantinuum/backends/api_wrappers.py:320\u001b[0m, in \u001b[0;36mQuantinuumAPI._response_check\u001b[0;34m(self, res, description)\u001b[0m\n\u001b[1;32m    318\u001b[0m \u001b[38;5;28;01melif\u001b[39;00m res\u001b[38;5;241m.\u001b[39mstatus_code \u001b[38;5;241m!=\u001b[39m HTTPStatus\u001b[38;5;241m.\u001b[39mOK:\n\u001b[1;32m    319\u001b[0m     jr \u001b[38;5;241m=\u001b[39m res\u001b[38;5;241m.\u001b[39mjson()\n\u001b[0;32m--> 320\u001b[0m     \u001b[38;5;28;01mraise\u001b[39;00m QuantinuumAPIError(\n\u001b[1;32m    321\u001b[0m         \u001b[38;5;124mf\u001b[39m\u001b[38;5;124m\"\u001b[39m\u001b[38;5;124mHTTP error attempting: \u001b[39m\u001b[38;5;132;01m{\u001b[39;00mdescription\u001b[38;5;132;01m}\u001b[39;00m\u001b[38;5;124m.\u001b[39m\u001b[38;5;130;01m\\n\u001b[39;00m\u001b[38;5;130;01m\\n\u001b[39;00m\u001b[38;5;124mServer Response: \u001b[39m\u001b[38;5;132;01m{\u001b[39;00mjr\u001b[38;5;132;01m}\u001b[39;00m\u001b[38;5;124m\"\u001b[39m\n\u001b[1;32m    322\u001b[0m     )\n",
      "\u001b[0;31mQuantinuumAPIError\u001b[0m: HTTP error attempting: Login.\n\nServer Response: {'error': {'code': 34, 'text': 'Incorrect username or password.'}}"
     ]
    }
   ],
   "source": [
    "from pytket.extensions.quantinuum import QuantinuumBackend\n",
    "\n",
    "machine = \"H1-1E\"\n",
    "backend = QuantinuumBackend(device_name=machine)\n",
    "backend.login()"
   ]
  },
  {
   "cell_type": "markdown",
   "metadata": {},
   "source": [
    "Set up the RUS circuit. This involves 2 steps:\n",
    "1. Set up Wasm File handler. This checks the Wasm file and can list the available functions within the file.\n",
    "2. Set up the pytket circuit, which calls the Wasm file handler."
   ]
  },
  {
   "cell_type": "code",
   "execution_count": 2,
   "metadata": {},
   "outputs": [
    {
     "ename": "ValueError",
     "evalue": "wasm file not found at given path",
     "output_type": "error",
     "traceback": [
      "\u001b[0;31m---------------------------------------------------------------------------\u001b[0m",
      "\u001b[0;31mValueError\u001b[0m                                Traceback (most recent call last)",
      "Cell \u001b[0;32mIn [2], line 6\u001b[0m\n\u001b[1;32m      4\u001b[0m rus_dir \u001b[38;5;241m=\u001b[39m pathlib\u001b[38;5;241m.\u001b[39mPath()\u001b[38;5;241m.\u001b[39mcwd()\u001b[38;5;241m.\u001b[39mjoinpath(\u001b[38;5;124m\"\u001b[39m\u001b[38;5;124mrepeat_until_success\u001b[39m\u001b[38;5;124m\"\u001b[39m)\n\u001b[1;32m      5\u001b[0m wasm_file \u001b[38;5;241m=\u001b[39m rus_dir\u001b[38;5;241m.\u001b[39mjoinpath(\u001b[38;5;124m\"\u001b[39m\u001b[38;5;124mrus_wasm.wasm\u001b[39m\u001b[38;5;124m\"\u001b[39m)\n\u001b[0;32m----> 6\u001b[0m wfh \u001b[38;5;241m=\u001b[39m \u001b[43mwasm\u001b[49m\u001b[38;5;241;43m.\u001b[39;49m\u001b[43mWasmFileHandler\u001b[49m\u001b[43m(\u001b[49m\u001b[43mwasm_file\u001b[49m\u001b[43m)\u001b[49m\n\u001b[1;32m      8\u001b[0m \u001b[38;5;28mprint\u001b[39m(\u001b[38;5;28mrepr\u001b[39m(wfh))\n",
      "File \u001b[0;32m~/.pyenv/versions/3.10.6/lib/python3.10/site-packages/pytket/wasm/wasm.py:74\u001b[0m, in \u001b[0;36mWasmFileHandler.__init__\u001b[0;34m(self, filepath, check_file, int_size)\u001b[0m\n\u001b[1;32m     71\u001b[0m _func_lookup \u001b[38;5;241m=\u001b[39m {}\n\u001b[1;32m     73\u001b[0m \u001b[38;5;28;01mif\u001b[39;00m \u001b[38;5;129;01mnot\u001b[39;00m exists(\u001b[38;5;28mself\u001b[39m\u001b[38;5;241m.\u001b[39m_filepath):\n\u001b[0;32m---> 74\u001b[0m     \u001b[38;5;28;01mraise\u001b[39;00m \u001b[38;5;167;01mValueError\u001b[39;00m(\u001b[38;5;124m\"\u001b[39m\u001b[38;5;124mwasm file not found at given path\u001b[39m\u001b[38;5;124m\"\u001b[39m)\n\u001b[1;32m     76\u001b[0m \u001b[38;5;28;01mwith\u001b[39;00m \u001b[38;5;28mopen\u001b[39m(\u001b[38;5;28mself\u001b[39m\u001b[38;5;241m.\u001b[39m_filepath, \u001b[38;5;124m\"\u001b[39m\u001b[38;5;124mrb\u001b[39m\u001b[38;5;124m\"\u001b[39m) \u001b[38;5;28;01mas\u001b[39;00m file:\n\u001b[1;32m     77\u001b[0m     \u001b[38;5;28mself\u001b[39m\u001b[38;5;241m.\u001b[39m_wasm_file: \u001b[38;5;28mbytes\u001b[39m \u001b[38;5;241m=\u001b[39m file\u001b[38;5;241m.\u001b[39mread()\n",
      "\u001b[0;31mValueError\u001b[0m: wasm file not found at given path"
     ]
    }
   ],
   "source": [
    "import pathlib\n",
    "from pytket import wasm\n",
    "\n",
    "rus_dir = pathlib.Path().cwd().joinpath(\"repeat_until_success\")\n",
    "wasm_file = rus_dir.joinpath(\"rus_wasm.wasm\")\n",
    "wfh = wasm.WasmFileHandler(wasm_file)\n",
    "\n",
    "print(repr(wfh))"
   ]
  },
  {
   "cell_type": "code",
   "execution_count": 6,
   "metadata": {},
   "outputs": [],
   "source": [
    "from pytket.circuit import Circuit, Qubit\n",
    "from pytket.circuit.logic_exp import reg_lt\n",
    "\n",
    "\n",
    "def build_rus_circuit(n_repetitions: int, cond_execute: int) -> Circuit:\n",
    "    \"\"\"\n",
    "    n_repetitions (int): number of attempts\n",
    "    cond_execute: condition to execute, i.e. run this until a total of cond_execute |1> measurements is achieved.\n",
    "\n",
    "    \"\"\"\n",
    "    # Create circuit with two qubits\n",
    "    circuit = Circuit(2, name=f\"RUS_limit={n_repetitions}_cond={cond_execute}\")\n",
    "\n",
    "    # Add classical registers\n",
    "    creg0 = circuit.add_c_register(\"creg0\", 1)\n",
    "    creg1 = circuit.add_c_register(\"creg1\", 1)\n",
    "    cond = circuit.add_c_register(\"cond\", 32)\n",
    "    count = circuit.add_c_register(\"count\", 32)\n",
    "\n",
    "    # Set cond to 0\n",
    "    circuit.add_c_setreg(0, cond)\n",
    "\n",
    "    # Loops\n",
    "    for loop_iter in range(1, n_repetitions + 1):\n",
    "\n",
    "        circuit.H(0, condition=reg_lt(cond, cond_execute))\n",
    "        circuit.CX(0, 1, condition=reg_lt(cond, cond_execute))\n",
    "        circuit.Measure(Qubit(1), creg1[0], condition=reg_lt(cond, cond_execute))\n",
    "\n",
    "        # Add wasm call with the parameters creg1 and count, writing the result to cond\n",
    "        # The function \"add_count\" is used from the Wasm file\n",
    "        circuit.add_wasm_to_reg(\n",
    "            \"add_count\",\n",
    "            wfh,\n",
    "            [creg1, count],\n",
    "            [cond],\n",
    "            condition=reg_lt(cond, cond_execute),\n",
    "        )\n",
    "\n",
    "        circuit.add_c_setreg(loop_iter, count, condition=reg_lt(cond, cond_execute))\n",
    "        circuit.Reset(0, condition=reg_lt(cond, cond_execute))\n",
    "\n",
    "    circuit.Measure(Qubit(0), creg0[0])\n",
    "    circuit.Measure(Qubit(1), creg1[0])\n",
    "\n",
    "    return circuit"
   ]
  },
  {
   "cell_type": "code",
   "execution_count": 7,
   "metadata": {},
   "outputs": [
    {
     "ename": "NameError",
     "evalue": "name 'wfh' is not defined",
     "output_type": "error",
     "traceback": [
      "\u001b[0;31m---------------------------------------------------------------------------\u001b[0m",
      "\u001b[0;31mNameError\u001b[0m                                 Traceback (most recent call last)",
      "Cell \u001b[0;32mIn [7], line 3\u001b[0m\n\u001b[1;32m      1\u001b[0m \u001b[38;5;28;01mfrom\u001b[39;00m \u001b[38;5;21;01mpytket\u001b[39;00m\u001b[38;5;21;01m.\u001b[39;00m\u001b[38;5;21;01mcircuit\u001b[39;00m\u001b[38;5;21;01m.\u001b[39;00m\u001b[38;5;21;01mdisplay\u001b[39;00m \u001b[38;5;28;01mimport\u001b[39;00m render_circuit_jupyter\n\u001b[0;32m----> 3\u001b[0m circuit \u001b[38;5;241m=\u001b[39m \u001b[43mbuild_rus_circuit\u001b[49m\u001b[43m(\u001b[49m\u001b[38;5;241;43m5\u001b[39;49m\u001b[43m,\u001b[49m\u001b[43m \u001b[49m\u001b[38;5;241;43m3\u001b[39;49m\u001b[43m)\u001b[49m\n\u001b[1;32m      5\u001b[0m \u001b[38;5;66;03m# render_circuit_jupyter(circuit)\u001b[39;00m\n\u001b[1;32m      6\u001b[0m render_circuit_jupyter(circuit)\n",
      "Cell \u001b[0;32mIn [6], line 34\u001b[0m, in \u001b[0;36mbuild_rus_circuit\u001b[0;34m(n_repetitions, cond_execute)\u001b[0m\n\u001b[1;32m     28\u001b[0m circuit\u001b[38;5;241m.\u001b[39mMeasure(Qubit(\u001b[38;5;241m1\u001b[39m), creg1[\u001b[38;5;241m0\u001b[39m], condition\u001b[38;5;241m=\u001b[39mreg_lt(cond, cond_execute))\n\u001b[1;32m     30\u001b[0m \u001b[38;5;66;03m# Add wasm call with the parameters creg1 and count, writing the result to cond\u001b[39;00m\n\u001b[1;32m     31\u001b[0m \u001b[38;5;66;03m# The function \"add_count\" is used from the Wasm file\u001b[39;00m\n\u001b[1;32m     32\u001b[0m circuit\u001b[38;5;241m.\u001b[39madd_wasm_to_reg(\n\u001b[1;32m     33\u001b[0m     \u001b[38;5;124m\"\u001b[39m\u001b[38;5;124madd_count\u001b[39m\u001b[38;5;124m\"\u001b[39m,\n\u001b[0;32m---> 34\u001b[0m     \u001b[43mwfh\u001b[49m,\n\u001b[1;32m     35\u001b[0m     [creg1, count],\n\u001b[1;32m     36\u001b[0m     [cond],\n\u001b[1;32m     37\u001b[0m     condition\u001b[38;5;241m=\u001b[39mreg_lt(cond, cond_execute),\n\u001b[1;32m     38\u001b[0m )\n\u001b[1;32m     40\u001b[0m circuit\u001b[38;5;241m.\u001b[39madd_c_setreg(loop_iter, count, condition\u001b[38;5;241m=\u001b[39mreg_lt(cond, cond_execute))\n\u001b[1;32m     41\u001b[0m circuit\u001b[38;5;241m.\u001b[39mReset(\u001b[38;5;241m0\u001b[39m, condition\u001b[38;5;241m=\u001b[39mreg_lt(cond, cond_execute))\n",
      "\u001b[0;31mNameError\u001b[0m: name 'wfh' is not defined"
     ]
    }
   ],
   "source": [
    "from pytket.circuit.display import render_circuit_jupyter\n",
    "\n",
    "circuit = build_rus_circuit(5, 3)\n",
    "\n",
    "# render_circuit_jupyter(circuit)\n",
    "render_circuit_jupyter(circuit)"
   ]
  },
  {
   "cell_type": "markdown",
   "metadata": {},
   "source": [
    "## Circuit Compilation\n",
    "\n",
    "`pytket` includes many features for optimizing circuits. This includes reducing the number of gates where possible and resynthesizing circuits for a quantum computer's native gate set. See the `pytket` [User Manual](https://tket.quantinuum.com/user-manual/) for more information on all the options that are available.\n",
    "\n",
    "Here the circuit is compiled with `get_compiled_circuit`, which includes optimizing the gates and resynthesizing the circuit to Quantinuum's native gate set. The `optimisation_level` sets the level of optimisation to perform during compilation, check `pytket-quantinuum` documentation for more information, specifically the [Default Compilation](https://tket.quantinuum.com/extensions/pytket-quantinuum/#default-compilation) section."
   ]
  },
  {
   "cell_type": "code",
   "execution_count": 8,
   "metadata": {},
   "outputs": [
    {
     "ename": "NameError",
     "evalue": "name 'circuit' is not defined",
     "output_type": "error",
     "traceback": [
      "\u001b[0;31m---------------------------------------------------------------------------\u001b[0m",
      "\u001b[0;31mNameError\u001b[0m                                 Traceback (most recent call last)",
      "Cell \u001b[0;32mIn [8], line 1\u001b[0m\n\u001b[0;32m----> 1\u001b[0m compiled_circuit \u001b[38;5;241m=\u001b[39m backend\u001b[38;5;241m.\u001b[39mget_compiled_circuit(\u001b[43mcircuit\u001b[49m, optimisation_level\u001b[38;5;241m=\u001b[39m\u001b[38;5;241m0\u001b[39m)\n\u001b[1;32m      3\u001b[0m render_circuit_jupyter(compiled_circuit)\n",
      "\u001b[0;31mNameError\u001b[0m: name 'circuit' is not defined"
     ]
    }
   ],
   "source": [
    "compiled_circuit = backend.get_compiled_circuit(circuit, optimisation_level=0)\n",
    "\n",
    "render_circuit_jupyter(compiled_circuit)"
   ]
  },
  {
   "cell_type": "markdown",
   "metadata": {},
   "source": [
    "## Check Circuit Cost\n",
    "\n",
    "Check the cost of the experiment before running.\n",
    "\n",
    "\n"
   ]
  },
  {
   "cell_type": "code",
   "execution_count": 9,
   "metadata": {},
   "outputs": [
    {
     "ename": "NameError",
     "evalue": "name 'compiled_circuit' is not defined",
     "output_type": "error",
     "traceback": [
      "\u001b[0;31m---------------------------------------------------------------------------\u001b[0m",
      "\u001b[0;31mNameError\u001b[0m                                 Traceback (most recent call last)",
      "Cell \u001b[0;32mIn [9], line 2\u001b[0m\n\u001b[1;32m      1\u001b[0m n_shots \u001b[38;5;241m=\u001b[39m \u001b[38;5;241m1000\u001b[39m\n\u001b[0;32m----> 2\u001b[0m backend\u001b[38;5;241m.\u001b[39mcost(\u001b[43mcompiled_circuit\u001b[49m, n_shots\u001b[38;5;241m=\u001b[39mn_shots, syntax_checker\u001b[38;5;241m=\u001b[39m\u001b[38;5;124m\"\u001b[39m\u001b[38;5;124mH1-1SC\u001b[39m\u001b[38;5;124m\"\u001b[39m)\n",
      "\u001b[0;31mNameError\u001b[0m: name 'compiled_circuit' is not defined"
     ]
    }
   ],
   "source": [
    "n_shots = 1000\n",
    "backend.cost(compiled_circuit, n_shots=n_shots, syntax_checker=\"H1-1SC\")"
   ]
  },
  {
   "cell_type": "markdown",
   "metadata": {},
   "source": [
    "# Submit and Run the Circuit\n",
    "\n",
    "Note the `wasm_file_handler` input in the `process_circuit` function. This ensures the Wasm functions are passed onto the Quantinuum API."
   ]
  },
  {
   "cell_type": "code",
   "execution_count": 10,
   "metadata": {},
   "outputs": [
    {
     "ename": "NameError",
     "evalue": "name 'compiled_circuit' is not defined",
     "output_type": "error",
     "traceback": [
      "\u001b[0;31m---------------------------------------------------------------------------\u001b[0m",
      "\u001b[0;31mNameError\u001b[0m                                 Traceback (most recent call last)",
      "Cell \u001b[0;32mIn [10], line 2\u001b[0m\n\u001b[1;32m      1\u001b[0m handle \u001b[38;5;241m=\u001b[39m backend\u001b[38;5;241m.\u001b[39mprocess_circuit(\n\u001b[0;32m----> 2\u001b[0m     \u001b[43mcompiled_circuit\u001b[49m, n_shots\u001b[38;5;241m=\u001b[39mn_shots, wasm_file_handler\u001b[38;5;241m=\u001b[39mwfh\n\u001b[1;32m      3\u001b[0m )\n\u001b[1;32m      4\u001b[0m \u001b[38;5;28mprint\u001b[39m(handle)\n\u001b[1;32m      7\u001b[0m status \u001b[38;5;241m=\u001b[39m backend\u001b[38;5;241m.\u001b[39mcircuit_status(handle)\n",
      "\u001b[0;31mNameError\u001b[0m: name 'compiled_circuit' is not defined"
     ]
    }
   ],
   "source": [
    "handle = backend.process_circuit(\n",
    "    compiled_circuit, n_shots=n_shots, wasm_file_handler=wfh\n",
    ")\n",
    "print(handle)\n",
    "\n",
    "\n",
    "status = backend.circuit_status(handle)\n",
    "print(status)\n",
    "\n",
    "\n",
    "result = backend.get_result(handle)\n",
    "print(result)"
   ]
  },
  {
   "cell_type": "code",
   "execution_count": 11,
   "metadata": {},
   "outputs": [
    {
     "ename": "NameError",
     "evalue": "name 'compiled_circuit' is not defined",
     "output_type": "error",
     "traceback": [
      "\u001b[0;31m---------------------------------------------------------------------------\u001b[0m",
      "\u001b[0;31mNameError\u001b[0m                                 Traceback (most recent call last)",
      "Cell \u001b[0;32mIn [11], line 3\u001b[0m\n\u001b[1;32m      1\u001b[0m \u001b[38;5;28;01mimport\u001b[39;00m \u001b[38;5;21;01mjson\u001b[39;00m\n\u001b[0;32m----> 3\u001b[0m \u001b[38;5;28;01mwith\u001b[39;00m \u001b[38;5;28mopen\u001b[39m(\u001b[43mcompiled_circuit\u001b[49m\u001b[38;5;241m.\u001b[39mname \u001b[38;5;241m+\u001b[39m \u001b[38;5;124m\"\u001b[39m\u001b[38;5;124m.json\u001b[39m\u001b[38;5;124m\"\u001b[39m, \u001b[38;5;124m\"\u001b[39m\u001b[38;5;124mw\u001b[39m\u001b[38;5;124m\"\u001b[39m, encoding\u001b[38;5;241m=\u001b[39m\u001b[38;5;124m\"\u001b[39m\u001b[38;5;124mutf-8\u001b[39m\u001b[38;5;124m\"\u001b[39m) \u001b[38;5;28;01mas\u001b[39;00m file:\n\u001b[1;32m      4\u001b[0m     json\u001b[38;5;241m.\u001b[39mdump(result\u001b[38;5;241m.\u001b[39mto_dict(), file)\n",
      "\u001b[0;31mNameError\u001b[0m: name 'compiled_circuit' is not defined"
     ]
    }
   ],
   "source": [
    "import json\n",
    "\n",
    "with open(compiled_circuit.name + \".json\", \"w\", encoding=\"utf-8\") as file:\n",
    "    json.dump(result.to_dict(), file)"
   ]
  },
  {
   "cell_type": "markdown",
   "metadata": {},
   "source": [
    "# Analyze Results\n",
    "\n",
    "Define a function to analyze the counts of 0 and 1 measurements on the `creg1` register."
   ]
  },
  {
   "cell_type": "code",
   "execution_count": 12,
   "metadata": {},
   "outputs": [
    {
     "ename": "NameError",
     "evalue": "name 'BackendResult' is not defined",
     "output_type": "error",
     "traceback": [
      "\u001b[0;31m---------------------------------------------------------------------------\u001b[0m",
      "\u001b[0;31mNameError\u001b[0m                                 Traceback (most recent call last)",
      "Cell \u001b[0;32mIn [12], line 3\u001b[0m\n\u001b[1;32m      1\u001b[0m \u001b[38;5;28;01mdef\u001b[39;00m \u001b[38;5;21mget_creg1_counts_from_rus_result\u001b[39m(\n\u001b[1;32m      2\u001b[0m     result_dict: \u001b[38;5;28mdict\u001b[39m,\n\u001b[0;32m----> 3\u001b[0m ) \u001b[38;5;241m-\u001b[39m\u001b[38;5;241m>\u001b[39m \u001b[38;5;28mtuple\u001b[39m[\u001b[38;5;28mdict\u001b[39m[\u001b[38;5;28mstr\u001b[39m, \u001b[43mBackendResult\u001b[49m]]:\n\u001b[1;32m      4\u001b[0m     \u001b[38;5;124;03m\"\"\"Analyze results of RUS experiment.\"\"\"\u001b[39;00m\n\u001b[1;32m      5\u001b[0m     creg1_0_cnts \u001b[38;5;241m=\u001b[39m {}\n",
      "\u001b[0;31mNameError\u001b[0m: name 'BackendResult' is not defined"
     ]
    }
   ],
   "source": [
    "\n",
    "\n",
    "def get_creg1_counts_from_rus_result(\n",
    "    result_dict: dict,\n",
    ") -> tuple[dict[str, BackendResult]]:\n",
    "    \"\"\"Analyze results of RUS experiment.\"\"\"\n",
    "    creg1_0_cnts = {}\n",
    "    creg1_1_cnts = {}\n",
    "\n",
    "    for key, res in result_dict.items():\n",
    "        creg1_counts = res.get_counts(cbits=[Bit(\"creg1\", 0)])\n",
    "        creg1_0_cnts[key] = creg1_counts[(0,)]\n",
    "        creg1_1_cnts[key] = creg1_counts[(1,)]\n",
    "\n",
    "    return creg1_0_cnts, creg1_1_cnts\n"
   ]
  },
  {
   "cell_type": "markdown",
   "metadata": {},
   "source": [
    "A more interesting experiment is to experiment with what happens with different values of the `limit`. The function below submits a set of RUS experiments using the `pytket-quantinuum` batch feature."
   ]
  },
  {
   "cell_type": "code",
   "execution_count": 13,
   "metadata": {},
   "outputs": [],
   "source": [
    "\n",
    "def get_rus_circuit_batch(\n",
    "    machine_name: str, limit_start: int, limit_end: int, cond_execute: int\n",
    ") -> list[Circuit]:\n",
    "    backend = QuantinuumBackend(device_name=machine_name)\n",
    "\n",
    "    circuit_list = []\n",
    "\n",
    "    for limit in range(limit_start, limit_end + 1):\n",
    "        rus_circuit = build_rus_circuit(limit, cond_execute)\n",
    "        compiled_rus_circuit = backend.get_compiled_circuit(rus_circuit)\n",
    "        circuit_list.append(compiled_rus_circuit)\n",
    "\n",
    "    return circuit_list\n",
    "\n",
    "\n",
    "def get_batch_cost(\n",
    "    compiled_circuit_list: list[Circuit], machine: str, n_shots: int\n",
    ") -> float:\n",
    "\n",
    "    syntax_checker = machine.replace(\"E\", \"SC\")\n",
    "\n",
    "    total_cost = 0\n",
    "    for compiled_circuit in compiled_circuit_list:\n",
    "        circuit_cost = backend.cost(\n",
    "            circuit=compiled_circuit, syntax_checker=syntax_checker, n_shots=n_shots\n",
    "        )\n",
    "        if circuit_cost is not None:\n",
    "            total_cost += circuit_cost\n",
    "\n",
    "    return total_cost"
   ]
  },
  {
   "cell_type": "code",
   "execution_count": 14,
   "metadata": {},
   "outputs": [],
   "source": [
    "def run_rus_experiment(\n",
    "    machine: str,\n",
    "    n_shots: int,\n",
    "    max_batch_cost: int,\n",
    "    cond_execute: int,\n",
    "    limit_start: int,\n",
    "    limit_end: int,\n",
    ") -> tuple[dict, float]:\n",
    "\n",
    "    backend = QuantinuumBackend(device_name=machine)\n",
    "    rus_circuit_list = get_rus_circuit_batch(\n",
    "        machine, limit_start, limit_end, cond_execute\n",
    "    )\n",
    "\n",
    "    experiment_cost: float = get_batch_cost(rus_circuit_list, machine, n_shots)\n",
    "\n",
    "    batch_handles = {}\n",
    "\n",
    "    batch_start = backend.start_batch(\n",
    "        max_batch_cost,\n",
    "        rus_circuit_list[0],\n",
    "        n_shots,\n",
    "        wasm_file_handler=wfh,\n",
    "    )\n",
    "    batch_handles[rus_circuit_list[0].name] = batch_start\n",
    "\n",
    "    for compiled_circuit in rus_circuit_list[1:-2]:\n",
    "        batch_mid = backend.add_to_batch(\n",
    "            batch_start,\n",
    "            compiled_circuit,\n",
    "            n_shots=n_shots,\n",
    "            wasm_file_handler=wfh,\n",
    "        )\n",
    "        batch_handles[compiled_circuit.name] = batch_mid\n",
    "\n",
    "    batch_end = backend.add_to_batch(\n",
    "        batch_start,\n",
    "        rus_circuit_list[-1],\n",
    "        n_shots=n_shots,\n",
    "        wasm_file_handler=wfh,\n",
    "        batch_end=True,\n",
    "    )\n",
    "    batch_handles[rus_circuit_list[-1].name] = batch_end\n",
    "\n",
    "    return batch_handles, experiment_cost"
   ]
  },
  {
   "cell_type": "code",
   "execution_count": 15,
   "metadata": {},
   "outputs": [],
   "source": [
    "# Set up the experiment parameters.\n",
    "\n",
    "\n",
    "machine = \"H1-1E\"\n",
    "n_shots = 10\n",
    "cond_execute = 3\n",
    "limit_start = 1\n",
    "limit_end = 20\n",
    "max_batch_cost = 500"
   ]
  },
  {
   "cell_type": "code",
   "execution_count": 16,
   "metadata": {},
   "outputs": [
    {
     "ename": "NameError",
     "evalue": "name 'wfh' is not defined",
     "output_type": "error",
     "traceback": [
      "\u001b[0;31m---------------------------------------------------------------------------\u001b[0m",
      "\u001b[0;31mNameError\u001b[0m                                 Traceback (most recent call last)",
      "Cell \u001b[0;32mIn [16], line 1\u001b[0m\n\u001b[0;32m----> 1\u001b[0m batch_handles, experiment_cost \u001b[38;5;241m=\u001b[39m \u001b[43mrun_rus_experiment\u001b[49m\u001b[43m(\u001b[49m\n\u001b[1;32m      2\u001b[0m \u001b[43m    \u001b[49m\u001b[43mmachine\u001b[49m\u001b[38;5;241;43m=\u001b[39;49m\u001b[43mmachine\u001b[49m\u001b[43m,\u001b[49m\n\u001b[1;32m      3\u001b[0m \u001b[43m    \u001b[49m\u001b[43mn_shots\u001b[49m\u001b[38;5;241;43m=\u001b[39;49m\u001b[43mn_shots\u001b[49m\u001b[43m,\u001b[49m\n\u001b[1;32m      4\u001b[0m \u001b[43m    \u001b[49m\u001b[43mmax_batch_cost\u001b[49m\u001b[38;5;241;43m=\u001b[39;49m\u001b[43mmax_batch_cost\u001b[49m\u001b[43m,\u001b[49m\n\u001b[1;32m      5\u001b[0m \u001b[43m    \u001b[49m\u001b[43mcond_execute\u001b[49m\u001b[38;5;241;43m=\u001b[39;49m\u001b[43mcond_execute\u001b[49m\u001b[43m,\u001b[49m\n\u001b[1;32m      6\u001b[0m \u001b[43m    \u001b[49m\u001b[43mlimit_start\u001b[49m\u001b[38;5;241;43m=\u001b[39;49m\u001b[43mlimit_start\u001b[49m\u001b[43m,\u001b[49m\n\u001b[1;32m      7\u001b[0m \u001b[43m    \u001b[49m\u001b[43mlimit_end\u001b[49m\u001b[38;5;241;43m=\u001b[39;49m\u001b[43mlimit_end\u001b[49m\u001b[43m,\u001b[49m\n\u001b[1;32m      8\u001b[0m \u001b[43m)\u001b[49m\n\u001b[1;32m      9\u001b[0m \u001b[38;5;28mprint\u001b[39m(\u001b[38;5;124m\"\u001b[39m\u001b[38;5;124mTotal Experiment Cost:\u001b[39m\u001b[38;5;124m\"\u001b[39m, experiment_cost)\n",
      "Cell \u001b[0;32mIn [14], line 11\u001b[0m, in \u001b[0;36mrun_rus_experiment\u001b[0;34m(machine, n_shots, max_batch_cost, cond_execute, limit_start, limit_end)\u001b[0m\n\u001b[1;32m      1\u001b[0m \u001b[38;5;28;01mdef\u001b[39;00m \u001b[38;5;21mrun_rus_experiment\u001b[39m(\n\u001b[1;32m      2\u001b[0m     machine: \u001b[38;5;28mstr\u001b[39m,\n\u001b[1;32m      3\u001b[0m     n_shots: \u001b[38;5;28mint\u001b[39m,\n\u001b[0;32m   (...)\u001b[0m\n\u001b[1;32m      7\u001b[0m     limit_end: \u001b[38;5;28mint\u001b[39m,\n\u001b[1;32m      8\u001b[0m ) \u001b[38;5;241m-\u001b[39m\u001b[38;5;241m>\u001b[39m \u001b[38;5;28mtuple\u001b[39m[\u001b[38;5;28mdict\u001b[39m, \u001b[38;5;28mfloat\u001b[39m]:\n\u001b[1;32m     10\u001b[0m     backend \u001b[38;5;241m=\u001b[39m QuantinuumBackend(device_name\u001b[38;5;241m=\u001b[39mmachine)\n\u001b[0;32m---> 11\u001b[0m     rus_circuit_list \u001b[38;5;241m=\u001b[39m \u001b[43mget_rus_circuit_batch\u001b[49m\u001b[43m(\u001b[49m\n\u001b[1;32m     12\u001b[0m \u001b[43m        \u001b[49m\u001b[43mmachine\u001b[49m\u001b[43m,\u001b[49m\u001b[43m \u001b[49m\u001b[43mlimit_start\u001b[49m\u001b[43m,\u001b[49m\u001b[43m \u001b[49m\u001b[43mlimit_end\u001b[49m\u001b[43m,\u001b[49m\u001b[43m \u001b[49m\u001b[43mcond_execute\u001b[49m\n\u001b[1;32m     13\u001b[0m \u001b[43m    \u001b[49m\u001b[43m)\u001b[49m\n\u001b[1;32m     15\u001b[0m     experiment_cost: \u001b[38;5;28mfloat\u001b[39m \u001b[38;5;241m=\u001b[39m get_batch_cost(rus_circuit_list, machine, n_shots)\n\u001b[1;32m     17\u001b[0m     batch_handles \u001b[38;5;241m=\u001b[39m {}\n",
      "Cell \u001b[0;32mIn [13], line 9\u001b[0m, in \u001b[0;36mget_rus_circuit_batch\u001b[0;34m(machine_name, limit_start, limit_end, cond_execute)\u001b[0m\n\u001b[1;32m      6\u001b[0m circuit_list \u001b[38;5;241m=\u001b[39m []\n\u001b[1;32m      8\u001b[0m \u001b[38;5;28;01mfor\u001b[39;00m limit \u001b[38;5;129;01min\u001b[39;00m \u001b[38;5;28mrange\u001b[39m(limit_start, limit_end \u001b[38;5;241m+\u001b[39m \u001b[38;5;241m1\u001b[39m):\n\u001b[0;32m----> 9\u001b[0m     rus_circuit \u001b[38;5;241m=\u001b[39m \u001b[43mbuild_rus_circuit\u001b[49m\u001b[43m(\u001b[49m\u001b[43mlimit\u001b[49m\u001b[43m,\u001b[49m\u001b[43m \u001b[49m\u001b[43mcond_execute\u001b[49m\u001b[43m)\u001b[49m\n\u001b[1;32m     10\u001b[0m     compiled_rus_circuit \u001b[38;5;241m=\u001b[39m backend\u001b[38;5;241m.\u001b[39mget_compiled_circuit(rus_circuit)\n\u001b[1;32m     11\u001b[0m     circuit_list\u001b[38;5;241m.\u001b[39mappend(compiled_rus_circuit)\n",
      "Cell \u001b[0;32mIn [6], line 34\u001b[0m, in \u001b[0;36mbuild_rus_circuit\u001b[0;34m(n_repetitions, cond_execute)\u001b[0m\n\u001b[1;32m     28\u001b[0m circuit\u001b[38;5;241m.\u001b[39mMeasure(Qubit(\u001b[38;5;241m1\u001b[39m), creg1[\u001b[38;5;241m0\u001b[39m], condition\u001b[38;5;241m=\u001b[39mreg_lt(cond, cond_execute))\n\u001b[1;32m     30\u001b[0m \u001b[38;5;66;03m# Add wasm call with the parameters creg1 and count, writing the result to cond\u001b[39;00m\n\u001b[1;32m     31\u001b[0m \u001b[38;5;66;03m# The function \"add_count\" is used from the Wasm file\u001b[39;00m\n\u001b[1;32m     32\u001b[0m circuit\u001b[38;5;241m.\u001b[39madd_wasm_to_reg(\n\u001b[1;32m     33\u001b[0m     \u001b[38;5;124m\"\u001b[39m\u001b[38;5;124madd_count\u001b[39m\u001b[38;5;124m\"\u001b[39m,\n\u001b[0;32m---> 34\u001b[0m     \u001b[43mwfh\u001b[49m,\n\u001b[1;32m     35\u001b[0m     [creg1, count],\n\u001b[1;32m     36\u001b[0m     [cond],\n\u001b[1;32m     37\u001b[0m     condition\u001b[38;5;241m=\u001b[39mreg_lt(cond, cond_execute),\n\u001b[1;32m     38\u001b[0m )\n\u001b[1;32m     40\u001b[0m circuit\u001b[38;5;241m.\u001b[39madd_c_setreg(loop_iter, count, condition\u001b[38;5;241m=\u001b[39mreg_lt(cond, cond_execute))\n\u001b[1;32m     41\u001b[0m circuit\u001b[38;5;241m.\u001b[39mReset(\u001b[38;5;241m0\u001b[39m, condition\u001b[38;5;241m=\u001b[39mreg_lt(cond, cond_execute))\n",
      "\u001b[0;31mNameError\u001b[0m: name 'wfh' is not defined"
     ]
    }
   ],
   "source": [
    "\n",
    "batch_handles, experiment_cost = run_rus_experiment(\n",
    "    machine=machine,\n",
    "    n_shots=n_shots,\n",
    "    max_batch_cost=max_batch_cost,\n",
    "    cond_execute=cond_execute,\n",
    "    limit_start=limit_start,\n",
    "    limit_end=limit_end,\n",
    ")\n",
    "print(\"Total Experiment Cost:\", experiment_cost)"
   ]
  },
  {
   "cell_type": "code",
   "execution_count": null,
   "metadata": {},
   "outputs": [],
   "source": [
    "# Check the status of the jobs.\n",
    "\n",
    "\n",
    "status_list = [backend.circuit_status(h) for k, h in batch_handles.items()]\n",
    "num_completed = len([x for x in status_list if x.status.name == \"COMPLETED\"])\n",
    "print(f\"{num_completed}/{len(status_list)} completed\")\n"
   ]
  },
  {
   "cell_type": "code",
   "execution_count": null,
   "metadata": {},
   "outputs": [],
   "source": [
    "\n",
    "\n",
    "# Save results once completed, in case you need to come back to analysis later.\n",
    "\n",
    "\n",
    "result = {}\n",
    "result_json = {}\n",
    "\n",
    "for key, handle in batch_handles.items():\n",
    "    result[key] = backend.get_result(handle)\n",
    "    result_json[key] = backend.get_result(handle).to_dict()\n",
    "\n",
    "with open(\"RUS_experiments.json\", \"w\", encoding=\"utf-8\") as file:\n",
    "    json.dump(result_json, file)\n"
   ]
  },
  {
   "cell_type": "code",
   "execution_count": null,
   "metadata": {},
   "outputs": [],
   "source": [
    "\n",
    "\n",
    "# Load saved results, if coming back to the experiment results.\n",
    "from pytket.backends.backendresult import BackendResult\n",
    "\n",
    "with open(\"RUS_experiments.json\") as file:\n",
    "    data = json.load(file)\n",
    "\n",
    "result = {}\n",
    "for key, handle in data.items():\n",
    "    result[key] = BackendResult.from_dict(handle)"
   ]
  },
  {
   "cell_type": "markdown",
   "metadata": {},
   "source": [
    "\n",
    "\n",
    "Plot results.\n"
   ]
  },
  {
   "cell_type": "code",
   "execution_count": null,
   "metadata": {},
   "outputs": [],
   "source": [
    "\n",
    "\n",
    "import matplotlib.pyplot as plt\n",
    "\n",
    "plt.figure()\n",
    "\n",
    "# Plot limit vs. Fidelity (Count of 0%)\n",
    "plt.errorbar(\n",
    "    [k[0] for k, v in creg1_0_cnts.items()],\n",
    "    [v[1] for k, v in creg1_0_cnts.items()],\n",
    "    label=\"RUS\",\n",
    "    marker=\"o\",\n",
    "    alpha=1.0,\n",
    "    color=\"red\",\n",
    ")\n",
    "\n",
    "plt.ylabel(\"Logical fidelity\")\n",
    "plt.xlabel(\"limit\")\n",
    "plt.legend(loc=\"lower left\")\n",
    "plt.show()"
   ]
  }
 ],
 "metadata": {
  "kernelspec": {
   "display_name": "Python 3",
   "language": "python",
   "name": "python3"
  },
  "language_info": {
   "codemirror_mode": {
    "name": "ipython",
    "version": 3
   },
   "file_extension": ".py",
   "mimetype": "text/x-python",
   "name": "python",
   "nbconvert_exporter": "python",
   "pygments_lexer": "ipython3",
   "version": "3.10.6"
  }
 },
 "nbformat": 4,
 "nbformat_minor": 2
}
