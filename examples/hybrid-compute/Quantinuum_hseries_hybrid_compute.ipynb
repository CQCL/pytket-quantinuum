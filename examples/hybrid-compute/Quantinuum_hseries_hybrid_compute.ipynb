{
 "cells": [
  {
   "cell_type": "markdown",
   "metadata": {},
   "source": [
    "<div style=\"text-align: center;\">\n",
    "<img src=\"https://assets-global.website-files.com/62b9d45fb3f64842a96c9686/62d84db4aeb2f6552f3a2f78_Quantinuum%20Logo__horizontal%20blue.svg\" width=\"200\" height=\"200\">\n",
    "</div>"
   ]
  },
  {
   "cell_type": "markdown",
   "metadata": {},
   "source": [
    "# Hybrid Compute for QEC workflows on Quantinuum H-Series"
   ]
  },
  {
   "cell_type": "markdown",
   "metadata": {},
   "source": [
    "Quantinuum has released a new H-Series capability, hybrid compute for Quantum Error Correction (QEC) workflows. This new capability executes `WebAssembly` (`Wasm`) in the H-Series stack and enables classical computation during real-time execution of a quantum circuit. Unlocking experimentation of basic QEC workflows is an important milestone, as Quantinuum plans to scale its H-Series hardware and deploy practical QEC schemes at scale.\n",
    "\n",
    "**Note:** This notebook uses existing Wasm examples provided in this folder's subdirectories. To create and run your own `Wasm` functions, you'll need to set up an environment on your machine to support this workflow. Instructions for how to do this are given in this folder's README.\n",
    "\n",
    "\n",
    "Note the `Wasm` module imported from `pytket` as well as several several conditional operators that are options. More information on the conditional operations available can be found in the user manual at [Classical and Conditional Operations](https://tket.quantinuum.com/api-docs/classical.html).\n",
    "\n",
    "**Contents**\n",
    "* [Generating Wasm](#Generating-Wasm)\n",
    "* [Basic Usage](#Basic-Usage)\n",
    "* [Repetition Code](#Repetition-Code)\n",
    "    * [TKET Classical Expressions](#TKET-Classical-Expressions)\n",
    "    * [Wasm Hybrid Compute](#Wasm-Hybrid-Compute)\n",
    "* [Summary](#Summary)"
   ]
  },
  {
   "cell_type": "markdown",
   "metadata": {},
   "source": [
    "## Generating Wasm"
   ]
  },
  {
   "cell_type": "code",
   "execution_count": null,
   "metadata": {},
   "outputs": [],
   "source": []
  },
  {
   "cell_type": "markdown",
   "metadata": {},
   "source": [
    "## Basic Usage"
   ]
  },
  {
   "cell_type": "code",
   "execution_count": null,
   "metadata": {},
   "outputs": [],
   "source": []
  },
  {
   "cell_type": "markdown",
   "metadata": {},
   "source": [
    "## Repetition Code"
   ]
  },
  {
   "cell_type": "markdown",
   "metadata": {},
   "source": [
    "### TKET Classical Expressions"
   ]
  },
  {
   "cell_type": "markdown",
   "metadata": {},
   "source": [
    "Classical expressions can be applied to classical bits using the `pytket.circuit.logic_exp` submodule. These expressions perform boolean operations on classical bit registers.\n",
    "\n",
    "A `pytket.circuit.Circuit` is constructed using the `QubitRegister` and `BitRegister` objects to allocate qubits and bits to the circuit. The circuit contains two quantum registers, `q` and `a`, and six classical registers:\n",
    "* `c`\n",
    "* `pfu`\n",
    "* `pfu_new`\n",
    "* `pfu_old`\n",
    "* `syn`\n",
    "* `syn_old`\n",
    "* `syn_new`"
   ]
  },
  {
   "cell_type": "code",
   "execution_count": 9,
   "metadata": {},
   "outputs": [
    {
     "data": {
      "text/plain": [
       "BitRegister(\"syn_new\", 2)"
      ]
     },
     "execution_count": 9,
     "metadata": {},
     "output_type": "execute_result"
    }
   ],
   "source": [
    "from pytket.circuit import Circuit, QubitRegister, BitRegister\n",
    "\n",
    "circuit = Circuit()\n",
    "\n",
    "qreg = QubitRegister(\"q\", 3)\n",
    "circuit.add_q_register(qreg)\n",
    "\n",
    "areg = QubitRegister(\"a\", 1)\n",
    "circuit.add_q_register(areg)\n",
    "\n",
    "creg = BitRegister(\"c\", 3)\n",
    "circuit.add_c_register(creg)\n",
    "\n",
    "pfu = BitRegister(\"pfu\", 3)\n",
    "circuit.add_c_register(pfu)\n",
    "\n",
    "pfu_old = BitRegister(\"pfu_old\", 3)\n",
    "circuit.add_c_register(pfu_old)\n",
    "\n",
    "syn = BitRegister(\"syn\", 2)\n",
    "circuit.add_c_register(syn)\n",
    "\n",
    "syn_old = BitRegister(\"syn_old\", 2)\n",
    "circuit.add_c_register(syn_old)\n",
    "\n",
    "syn_new = BitRegister(\"syn_new\", 2)\n",
    "circuit.add_c_register(syn_new)"
   ]
  },
  {
   "cell_type": "markdown",
   "metadata": {},
   "source": [
    "The code-cell below adds the necessary operations to measure the stabilizers $\\hat{Z}_0 \\hat{Z}_1$ and $\\hat{Z}_1 \\hat{Z}_2$. The ancilla qubit, `a[0]`, can be reused via the `OpType.Reset` operation."
   ]
  },
  {
   "cell_type": "code",
   "execution_count": null,
   "metadata": {},
   "outputs": [],
   "source": [
    "circuit.CX(qreg[0], areg[0])\n",
    "circuit.CX(qreg[1], areg[0])\n",
    "circuit.Measure(areg[0], creg[0])\n",
    "circuit.Reset(areg[0])\n",
    "\n",
    "circuit.CX(qreg[1], areg[0])\n",
    "circuit.CX(qreg[2], areg[0])\n",
    "circuit.Measure(areg[0], creg[1])\n",
    "circuit.Reset(areg[0])"
   ]
  },
  {
   "cell_type": "markdown",
   "metadata": {},
   "source": [
    "Classical operations on the syndrome bit registers are applied. A barrier is added to ensure these classical operations are applied after the syndrome extraction above. `pytket.circuit.logic_exp.RegXor` is used to perform the `XOR` operation on register `syn_old` and `syn`. This is added to the circuit with the instance method `add_classicalexpbox_register`. Finally the state of a classical register, `syn`, is copied to another classical_register, `syn_old`. `syn_old[0]`, `syn_old[1]` and `syn_old[2]` are equal to `syn[0]`, `syn[1]` and `syn[2]`."
   ]
  },
  {
   "cell_type": "code",
   "execution_count": null,
   "metadata": {},
   "outputs": [],
   "source": [
    "from pytket.circuit.logic_exp import RegXor\n",
    "\n",
    "circuit.add_barrier(circuit.qubits + circuit.bits)\n",
    "circuit.add_classicalexpbox_register(RegXor(syn_old, syn), syn_new)\n",
    "circuit.add_c_copyreg(syn, syn_old)"
   ]
  },
  {
   "cell_type": "markdown",
   "metadata": {},
   "source": [
    "The `pytket.circuit.Circuit` instance method, `add_c_setbits`, allows the end-user to set the value of specific bits on classical registers. The boolean argument `True` (`False`) corresponds to the bit value of `1` (`0`). This can also be conditioned on the value of specific bit by using the keyword argument `condition`. The function, `reg_eq`, is used to check equality of a bit to a specific value (10b is 2), and this output is passed to `condition` kwarg. "
   ]
  },
  {
   "cell_type": "code",
   "execution_count": null,
   "metadata": {},
   "outputs": [],
   "source": [
    "from pytket.circuit.logic_exp import reg_eq\n",
    "\n",
    "circuit.add_c_setbits([True], [pfu[0]], condition=reg_eq(syn_new, 1))\n",
    "circuit.add_c_setbits([True], [pfu[1]], condition=reg_eq(syn_new, 3))\n",
    "circuit.add_c_setbits([True], [pfu[2]], condition=reg_eq(syn_new, 2))"
   ]
  },
  {
   "cell_type": "markdown",
   "metadata": {},
   "source": [
    "`add_c_xor_to_registers` is used to set the value of `pfu_old` to the output of the expression, `pfu_old` ^ `pfu`. `add_c_setreg` is used to set the all the bits in the classical register, `pfu`, to `False`."
   ]
  },
  {
   "cell_type": "code",
   "execution_count": null,
   "metadata": {},
   "outputs": [],
   "source": [
    "circuit.add_c_xor_to_registers(pfu_old, pfu, pfu_old)\n",
    "circuit.add_c_setreg(False, pfu)"
   ]
  },
  {
   "cell_type": "markdown",
   "metadata": {},
   "source": [
    "Three measurement operations are applied to qubits within `qreg`. The outcome of the measurements is stored in the corresponding bits within `creg`, i.e. a measurement on `qreg[0]` will have a measurement outcome stored in `creg[0]`."
   ]
  },
  {
   "cell_type": "code",
   "execution_count": null,
   "metadata": {},
   "outputs": [],
   "source": [
    "circuit.add_barrier(circuit.qubits+circuit.bits)\n",
    "for i in range(3):\n",
    "    circuit.Measure(qreg[i], creg[i])"
   ]
  },
  {
   "cell_type": "markdown",
   "metadata": {},
   "source": [
    "`add_classicalexpbox_bit`, `add_c_setbits`, `add_classicalexpbox_register` are used to perform additional operations on the classical registers. The `^` operation is also used instead of `RegXOR` to perform `XOR` on two classical registers. `add_classicalexpbox_bit` is used to perform operations on specific bits, whilst `add_classicalexpbox_register` allows classical operations on entire bit registers."
   ]
  },
  {
   "cell_type": "code",
   "execution_count": null,
   "metadata": {},
   "outputs": [],
   "source": [
    "circuit.add_barrier(circuit.qubits+circuit.bits)\n",
    "circuit.add_classicalexpbox_bit(creg[0] ^ creg[1], [syn[0]])\n",
    "circuit.add_classicalexpbox_bit(creg[1] ^ creg[2], [syn[1]])\n",
    "circuit.add_classicalexpbox_register(syn_old ^ syn, syn_new)\n",
    "circuit.add_c_setbits([True], [pfu[0]], condition=reg_eq(syn_new, 1))\n",
    "circuit.add_c_setbits([True], [pfu[1]], condition=reg_eq(syn_new, 3))\n",
    "circuit.add_c_setbits([True], [pfu[2]], condition=reg_eq(syn_new, 2))\n",
    "circuit.add_classicalexpbox_register(pfu_old ^ pfu, pfu_old)\n",
    "circuit.add_c_setreg(False, pfu)\n",
    "circuit.add_classicalexpbox_register(pfu_old ^ creg, pfu_old)"
   ]
  },
  {
   "cell_type": "markdown",
   "metadata": {},
   "source": [
    "### Wasm Hybrid Compute"
   ]
  },
  {
   "cell_type": "markdown",
   "metadata": {},
   "source": [
    "The classical operations on bits and bit registers using `pytket.circuit.logic_exp` can be replaced with `Wasm`. The module `pytket.wasm`, in conjunction with `add_wasm_to_reg` and relevant keyword arguments in pytket-quantinuum, can be used to inject Wasm calls in the TKET program."
   ]
  },
  {
   "cell_type": "code",
   "execution_count": 10,
   "metadata": {},
   "outputs": [],
   "source": [
    "from pytket.circuit import Circuit, QubitRegister, BitRegister\n",
    "\n",
    "circuit = Circuit()\n",
    "\n",
    "qreg = QubitRegister(\"q\", 3)\n",
    "circuit.add_q_register(qreg)\n",
    "\n",
    "areg = QubitRegister(\"a\", 1)\n",
    "circuit.add_q_register(areg)\n",
    "\n",
    "creg = BitRegister(\"c\", 3)\n",
    "circuit.add_c_register(creg)\n",
    "\n",
    "pfu = BitRegister(\"pfu\", 3)\n",
    "circuit.add_c_register(pfu)\n",
    "\n",
    "pfu_old = BitRegister(\"pfu_old\", 3)\n",
    "circuit.add_c_register(pfu_old)\n",
    "\n",
    "syn = BitRegister(\"syn\", 2)\n",
    "circuit.add_c_register(syn)\n",
    "\n",
    "syn_old = BitRegister(\"syn_old\", 2)\n",
    "circuit.add_c_register(syn_old)\n",
    "\n",
    "syn_new = BitRegister(\"syn_new\", 2)\n",
    "circuit.add_c_register(syn_new)\n",
    "\n",
    "circuit.CX(qreg[0], areg[0])\n",
    "circuit.CX(qreg[1], areg[0])\n",
    "circuit.Measure(areg[0], creg[0])\n",
    "circuit.Reset(areg[0])\n",
    "\n",
    "circuit.CX(qreg[1], areg[0])\n",
    "circuit.CX(qreg[2], areg[0])\n",
    "circuit.Measure(areg[0], creg[1])\n",
    "circuit.Reset(areg[0])"
   ]
  },
  {
   "cell_type": "code",
   "execution_count": 14,
   "metadata": {},
   "outputs": [],
   "source": [
    "from pathlib import Path\n",
    "from pytket.wasm import WasmFileHandler\n",
    "\n",
    "wasm_file_path = Path().cwd().joinpath(\"repeat_until_success\") / \"rus.wasm\"\n",
    "\n",
    "wasm_file_handler = WasmFileHandler(wasm_file_path, check_file=True)"
   ]
  },
  {
   "cell_type": "code",
   "execution_count": 12,
   "metadata": {},
   "outputs": [
    {
     "name": "stdout",
     "output_type": "stream",
     "text": [
      "(syn ^ syn_old)\n",
      "(syn ^ syn_old)\n"
     ]
    }
   ],
   "source": [
    "from pytket.circuit.logic_exp import RegXor\n",
    "\n",
    "syndrome_list = []\n",
    "\n",
    "for i in range(2):\n",
    "    syndrome = BitRegister(f\"syndrome-{i}\", 2)\n",
    "    circuit.add_c_register(syndrome)\n",
    "\n",
    "    circuit.add_circbox(circ_box, [ancillas[0], qreg[0], qreg[1], syndrome[0]]) # zzi\n",
    "    circuit.add_circbox(circ_box, [ancillas[0], qreg[1], qreg[2], syndrome[1]]) # izz\n",
    "    circuit.add_wasm_to_reg(\"decode3\", wasm_file_handler, [syndrome, syndrome_list[-1]])\n",
    "    syndrome_list += [syndrome]"
   ]
  },
  {
   "cell_type": "markdown",
   "metadata": {},
   "source": [
    "## Summary"
   ]
  },
  {
   "cell_type": "code",
   "execution_count": 5,
   "metadata": {},
   "outputs": [
    {
     "name": "stdout",
     "output_type": "stream",
     "text": [
      "\u001b[1;31mSignature:\u001b[0m\n",
      "\u001b[0mcircuit\u001b[0m\u001b[1;33m.\u001b[0m\u001b[0madd_wasm_to_reg\u001b[0m\u001b[1;33m(\u001b[0m\u001b[1;33m\n",
      "\u001b[0m    \u001b[0mfuncname\u001b[0m\u001b[1;33m:\u001b[0m \u001b[0mstr\u001b[0m\u001b[1;33m,\u001b[0m\u001b[1;33m\n",
      "\u001b[0m    \u001b[0mfilehandler\u001b[0m\u001b[1;33m:\u001b[0m \u001b[0mpytket\u001b[0m\u001b[1;33m.\u001b[0m\u001b[0mwasm\u001b[0m\u001b[1;33m.\u001b[0m\u001b[0mwasm\u001b[0m\u001b[1;33m.\u001b[0m\u001b[0mWasmFileHandler\u001b[0m\u001b[1;33m,\u001b[0m\u001b[1;33m\n",
      "\u001b[0m    \u001b[0mlist_i\u001b[0m\u001b[1;33m:\u001b[0m \u001b[0mSequence\u001b[0m\u001b[1;33m[\u001b[0m\u001b[0mpytket\u001b[0m\u001b[1;33m.\u001b[0m\u001b[0m_tket\u001b[0m\u001b[1;33m.\u001b[0m\u001b[0munit_id\u001b[0m\u001b[1;33m.\u001b[0m\u001b[0mBitRegister\u001b[0m\u001b[1;33m]\u001b[0m\u001b[1;33m,\u001b[0m\u001b[1;33m\n",
      "\u001b[0m    \u001b[0mlist_o\u001b[0m\u001b[1;33m:\u001b[0m \u001b[0mSequence\u001b[0m\u001b[1;33m[\u001b[0m\u001b[0mpytket\u001b[0m\u001b[1;33m.\u001b[0m\u001b[0m_tket\u001b[0m\u001b[1;33m.\u001b[0m\u001b[0munit_id\u001b[0m\u001b[1;33m.\u001b[0m\u001b[0mBitRegister\u001b[0m\u001b[1;33m]\u001b[0m\u001b[1;33m,\u001b[0m\u001b[1;33m\n",
      "\u001b[0m    \u001b[0margs_wasm\u001b[0m\u001b[1;33m:\u001b[0m \u001b[0mOptional\u001b[0m\u001b[1;33m[\u001b[0m\u001b[0mSequence\u001b[0m\u001b[1;33m[\u001b[0m\u001b[0mint\u001b[0m\u001b[1;33m]\u001b[0m\u001b[1;33m]\u001b[0m \u001b[1;33m=\u001b[0m \u001b[1;32mNone\u001b[0m\u001b[1;33m,\u001b[0m\u001b[1;33m\n",
      "\u001b[0m    \u001b[1;33m**\u001b[0m\u001b[0mkwargs\u001b[0m\u001b[1;33m:\u001b[0m \u001b[0mAny\u001b[0m\u001b[1;33m,\u001b[0m\u001b[1;33m\n",
      "\u001b[0m\u001b[1;33m)\u001b[0m \u001b[1;33m->\u001b[0m \u001b[0mpytket\u001b[0m\u001b[1;33m.\u001b[0m\u001b[0m_tket\u001b[0m\u001b[1;33m.\u001b[0m\u001b[0mcircuit\u001b[0m\u001b[1;33m.\u001b[0m\u001b[0mCircuit\u001b[0m\u001b[1;33m\u001b[0m\u001b[1;33m\u001b[0m\u001b[0m\n",
      "\u001b[1;31mDocstring:\u001b[0m\n",
      "Add a classical function call from a wasm file to the circuit.\n",
      "    \n",
      "\n",
      ":param funcname: name of the function that is called\n",
      "    \n",
      ":param filehandler: wasm file handler to identify the wasm file\n",
      "    \n",
      ":param list_i: list of the classical registers assigned to\n",
      "     the input variables of the function call\n",
      "    \n",
      ":param list_o: list of the classical registers assigned to\n",
      "     the output variables of the function call\n",
      "    \n",
      ":param args_wasm: vector of wasmstates the wasm op should be added to\n",
      "    \n",
      ":param kwargs: additional arguments passed to `add_gate_method` .\n",
      "     Allowed parameters are `opgroup`,  `condition` , `condition_bits`,\n",
      "     `condition_value`\n",
      "    \n",
      ":return: the new :py:class:`Circuit`\n",
      "\u001b[1;31mFile:\u001b[0m      c:\\users\\irfan.khan\\.conda\\envs\\pytket-quantinuum-env\\lib\\site-packages\\pytket\\circuit\\__init__.py\n",
      "\u001b[1;31mType:\u001b[0m      method"
     ]
    }
   ],
   "source": [
    "circuit.add_wasm_to_reg?"
   ]
  },
  {
   "cell_type": "code",
   "execution_count": null,
   "metadata": {},
   "outputs": [],
   "source": []
  }
 ],
 "metadata": {
  "kernelspec": {
   "display_name": "Python 3 (ipykernel)",
   "language": "python",
   "name": "python3"
  },
  "language_info": {
   "codemirror_mode": {
    "name": "ipython",
    "version": 3
   },
   "file_extension": ".py",
   "mimetype": "text/x-python",
   "name": "python",
   "nbconvert_exporter": "python",
   "pygments_lexer": "ipython3",
   "version": "3.10.14"
  }
 },
 "nbformat": 4,
 "nbformat_minor": 4
}
