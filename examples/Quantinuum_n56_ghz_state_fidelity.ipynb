{
 "cells": [
  {
   "cell_type": "markdown",
   "metadata": {},
   "source": [
    "<div style=\"text-align: center;\">\n",
    "<img src=\"https://assets-global.website-files.com/62b9d45fb3f64842a96c9686/62d84db4aeb2f6552f3a2f78_Quantinuum%20Logo__horizontal%20blue.svg\" width=\"200\" height=\"200\" />\n",
    "</div>"
   ]
  },
  {
   "cell_type": "markdown",
   "metadata": {},
   "source": [
    "# Greenberger–Horne–Zeilinger State-Fidelity Calculation on System Model H2 with 56 qubits"
   ]
  },
  {
   "cell_type": "markdown",
   "metadata": {},
   "source": [
    "Quantinuum has released an upgrade to the second generation H-Series device, System Model H2. This upgrade increases the number of qubits on the device from 32 qubits to 56 qubits. The technical specifications for the System Model H2 devices are available [here](https://www.quantinuum.com/hardware/h2). At 56 qubits, full statevector simulation is classically intractable. This signals the need to develop more advanced compute tools for simulations involving more than 40 qubits. Stabilizer simulation can be used (1000-qubit limit), but this constrains the jobs to only utilize the Clifford gate set.\n",
    "\n",
    "This knowledge articles details the generation of the Greenberger–Horne–Zeilinger (GHZ) on the 56-qubit `H2-1` device and the use of available emulation resources to optimize job preparation and submission. Producing GHZ states is a demanding test of qubit coherence, as they are maximally sensitive probes of global dephasing. Measuring the GHZ state fidelity is a useful test for measuring the quality and performance of the `H2-1` device. The logarithmic-depth GHZ state preparation protocol [[arxiv.2305.03828](https://arxiv.org/abs/2305.03828)] is used. The syntax checker is used to to verify the code is executable on the `H2-1` device."
   ]
  },
  {
   "cell_type": "markdown",
   "metadata": {},
   "source": [
    "**Contents**\n",
    "\n",
    "* [GHZ State Fidelity](GHZ-State-Fidelity)\n",
    "* [Emulation Resources for 56 Qubit Jobs](Emulation-Resources-for-56-Qubit-Jobs)\n",
    "* [Analysis of GHZ State Fidelity after Execution](Analysis-of-GHZ-State-Fidelity-after-Execution)"
   ]
  },
  {
   "cell_type": "markdown",
   "metadata": {},
   "source": [
    "## GHZ State Fidelity"
   ]
  },
  {
   "cell_type": "markdown",
   "metadata": {},
   "source": [
    "The $N$-qubit GHZ state preparation, using the definition,\n",
    "\\begin{equation}\n",
    "| {GHZ}_N \\rangle = \\frac{1}{2} \\left( {| 0 \\rangle}^{\\bigotimes N} + {| 1 \\rangle}^{\\bigotimes N} \\right),\n",
    "\\end{equation}\n",
    "where $N=56$. A logarithmic-depth synthesis method is used [[arxiv.1807.05572](https://arxiv.org/abs/1807.05572)], an improvement over the standard GHZ circuit construction."
   ]
  },
  {
   "cell_type": "code",
   "execution_count": null,
   "metadata": {},
   "outputs": [],
   "source": [
    "import numpy as np\n",
    "from pytket.circuit import Circuit\n",
    "\n",
    "def logarithmic_ghz_circuit(n_qubits):\n",
    "    n = n_qubits\n",
    "    circ = Circuit(n,n)\n",
    "    # construct GHZ prep circuit, optimized for parallel gates\n",
    "    circ.H(0)\n",
    "    for i in range(int(np.ceil(np.log2(n)))):\n",
    "        for j in range(2**i):\n",
    "            if j+2**i < n:\n",
    "                circ.CX(j,j+2**i)\n",
    "    return circ"
   ]
  },
  {
   "cell_type": "code",
   "execution_count": null,
   "metadata": {},
   "outputs": [],
   "source": [
    "ghz_circuit = logarithmic_ghz_circuit(56)"
   ]
  },
  {
   "cell_type": "markdown",
   "metadata": {},
   "source": [
    "The circuit is visualised using the `pytket.circuit.display` module."
   ]
  },
  {
   "cell_type": "code",
   "execution_count": null,
   "metadata": {},
   "outputs": [],
   "source": [
    "from pytket.circuit.display import render_circuit_jupyter\n",
    "\n",
    "render_circuit_jupyter(ghz_circuit)"
   ]
  },
  {
   "cell_type": "markdown",
   "metadata": {},
   "source": [
    "To estimate the GHZ state fidelity, $F$, the method from [arxiv.0706.2432](https://arxiv.org/pdf/0706.2432) is used,\n",
    "\\begin{equation}\n",
    "F =  P + \\chi,\n",
    "\\end{equation}\n",
    "where $P$ is the GHZ population and $\\chi$ is the GHZ parity. These are quantities that need to be measured on the quantum hardware. The GHZ population, $P$, requires measurements in the computational basis on every qubit, after the GHZ state has been prepared, and is defined as,\n",
    "\\begin{equation}\n",
    "P = \\frac{1}{2} \\textrm{Tr} \\left( \\rho | 0 \\rangle^{\\bigotimes N} \\langle 0 |^{\\bigotimes N} \\right) + \\frac{1}{2} \\textrm{Tr} \\left( \\rho | 1 \\rangle^{\\bigotimes N} \\langle 1 |^{\\bigotimes N} \\right)\n",
    "\\end{equation},\n",
    "where $\\rho$ is the density matrix with respect to the GHZ state."
   ]
  },
  {
   "cell_type": "code",
   "execution_count": null,
   "metadata": {},
   "outputs": [],
   "source": [
    "from pytket.circuit import Circuit\n",
    "\n",
    "def generate_population_circuit(\n",
    "    ghz_circuit: Circuit, \n",
    ") -> Circuit:\n",
    "    circuit = ghz_circuit.copy()\n",
    "    circuit.add_barrier(circuit.qubits)\n",
    "    circuit.measure_all()\n",
    "    return circuit"
   ]
  },
  {
   "cell_type": "code",
   "execution_count": null,
   "metadata": {},
   "outputs": [],
   "source": [
    "population_circuit = generate_population_circuit(ghz_circuit)"
   ]
  },
  {
   "cell_type": "markdown",
   "metadata": {},
   "source": [
    "Once the measurements are collected from the `H2-1` device, the outcomes are filtered into three buckets:\n",
    "* all-zeros readouts (a bitstring containing `0`s) \n",
    "* all-ones readouts (a bitstring containing `1`s) \n",
    "* undesired mixed readouts\n",
    "\n",
    "In an ideal setting, both all-ones and all-zeros bitstrings are equally likely. The population quantifies the amount of error arising from inherent device noise."
   ]
  },
  {
   "cell_type": "code",
   "execution_count": null,
   "metadata": {},
   "outputs": [],
   "source": [
    "from typing import Dict\n",
    "from pytket.backends.backendresult import BackendResult\n",
    "\n",
    "def compute_ghz_populations(\n",
    "    backend_result: BackendResult\n",
    ") -> Dict[str, float]:\n",
    "    distribution = backend_result.get_distribution()\n",
    "    n = len(backend_result.c_bits)\n",
    "    zero_string = (0, )*n\n",
    "    ones_string = (1, )*n\n",
    "    zeros = distribution.get(zero_string, 0)\n",
    "    ones = distribution.get(ones_string, 0)\n",
    "    alt = sum([probability for bitstring, probability in distribution.items() if bitstring != zero_string and bitstring != ones_string]) \n",
    "    return {\"zeros\": zeros, \"ones\": ones, \"something else\": alt}"
   ]
  },
  {
   "cell_type": "markdown",
   "metadata": {},
   "source": [
    "The GHZ parity, $\\chi$, requires each qubit to measured in the $X$-$Y$ plane of the Bloch sphere. The parity, $\\chi$, requires $N$ circuits to be measured. For a 56-qubit problem, 56 circuits are generated and require non-clifford gates. $\\chi$ is defined as,\n",
    "\\begin{equation}\n",
    "\\chi \\left( k \\right)= \\frac{1}{N} \\sum_{k=1}^{N} (-1)^{k} \\left[ \\cos \\left( \\frac{k \\pi}{N} \\right) + \\sin \\left( \\frac{k \\pi}{N} \\right) \\right],\n",
    "\\end{equation}\n",
    "and is dependent on a parameter $k$, ranging from 1 to $N$. The quantity, $\\chi$, quantifies the degree of superposition between the state, $\\ket{0}^{\\bigotimes N}$, and the state, $\\ket{1}^{\\bigotimes N}$."
   ]
  },
  {
   "cell_type": "code",
   "execution_count": null,
   "metadata": {},
   "outputs": [],
   "source": [
    "from typing import Tuple, List\n",
    "from pytket.circuit import Circuit\n",
    "\n",
    "def generate_parity_circuits(\n",
    "    ghz_circuit: Circuit,\n",
    ") -> Tuple[List[Circuit], List[float]]:\n",
    "    circuits = []\n",
    "    angles = []\n",
    "    for k in range(1, ghz_circuit.n_qubits+1):\n",
    "        circuit = ghz_circuit.copy()\n",
    "        angle = k / ghz_circuit.n_qubits\n",
    "        for q in circuit.qubits:\n",
    "            circuit.Rz(-angle, q)\n",
    "            circuit.Ry(-0.5, q)\n",
    "        circuit.measure_all()\n",
    "        circuits += [circuit]\n",
    "        angles += [angle]\n",
    "    return circuits, angles"
   ]
  },
  {
   "cell_type": "code",
   "execution_count": null,
   "metadata": {},
   "outputs": [],
   "source": [
    "parity_circuit_list, angles = generate_parity_circuits(ghz_circuit)"
   ]
  },
  {
   "cell_type": "markdown",
   "metadata": {},
   "source": [
    "Counting each measurement outcome allows the parity of the bitstring to be computed."
   ]
  },
  {
   "cell_type": "code",
   "execution_count": null,
   "metadata": {},
   "outputs": [],
   "source": [
    "from typing import List, Dict\n",
    "from pytket.backends.backendresult import BackendResult\n",
    "\n",
    "def compute_ghz_parities(\n",
    "    backend_results: BackendResult,\n",
    "    angles: List[float]\n",
    ") -> Dict[float, float]:\n",
    "    parities = {}\n",
    "    for (a, b) in zip(angles, backend_results):\n",
    "        dist = b.get_distribution()\n",
    "        expectation_value = sum([(-1)**(sum(bitstring)) * prob for bitstring, prob in dist.items()])\n",
    "        parities[a] = expectation_value\n",
    "    return parities"
   ]
  },
  {
   "cell_type": "markdown",
   "metadata": {},
   "source": [
    "The cell below defines a function to combine the population and parity results to estimate the GHZ state fidelity, $F$."
   ]
  },
  {
   "cell_type": "code",
   "execution_count": null,
   "metadata": {},
   "outputs": [],
   "source": [
    "from typing import List, Dict\n",
    "\n",
    "def compute_ghz_fidelity(\n",
    "    parities: List[float], \n",
    "    populations: Dict[str, float]\n",
    ") -> float:\n",
    "    f_populations = populations.get(\"zeros\", 0) + populations.get(\"ones\", 0)\n",
    "    f_parities = sum([p * (-1)**k for k, p in enumerate(parities)]) / len(parities)\n",
    "    return f_populations + f_parities"
   ]
  },
  {
   "cell_type": "markdown",
   "metadata": {},
   "source": [
    "## Syntax Checking for 56-Qubit Jobs"
   ]
  },
  {
   "cell_type": "markdown",
   "metadata": {},
   "source": [
    "The circuits are submitted to the syntax checker, `H2-1SC`, to verify the code before execution to the `H2-1` device."
   ]
  },
  {
   "cell_type": "code",
   "execution_count": null,
   "metadata": {},
   "outputs": [],
   "source": [
    "from pytket.extensions.quantinuum import QuantinuumBackend\n",
    "\n",
    "qntm_backend_syntax_checker = QuantinuumBackend(device_name=\"H2-1SC\", simulator=\"stabilizer\")\n",
    "qntm_backend_syntax_checker.login()"
   ]
  },
  {
   "cell_type": "markdown",
   "metadata": {},
   "source": [
    "Compilation of the circuits to the correct gate set."
   ]
  },
  {
   "cell_type": "code",
   "execution_count": null,
   "metadata": {},
   "outputs": [],
   "source": [
    "circuits = [population_circuit] + parity_circuit_list\n",
    "compiled_circuit_list = qntm_backend_syntax_checker.get_compiled_circuits(circuits, optimisation_level=2)"
   ]
  },
  {
   "cell_type": "markdown",
   "metadata": {},
   "source": [
    "Submission to the syntax-checker."
   ]
  },
  {
   "cell_type": "code",
   "execution_count": null,
   "metadata": {},
   "outputs": [],
   "source": [
    "sc_handles = qntm_backend_syntax_checker.process_circuits(compiled_circuit_list, n_shots=10)"
   ]
  },
  {
   "cell_type": "markdown",
   "metadata": {},
   "source": [
    "The status of the circuit can be checked using the result handles from the previous step. If the status is returned as `COMPLETE`, the syntax checker has verified the job is executable on the H-Series device."
   ]
  },
  {
   "cell_type": "code",
   "execution_count": null,
   "metadata": {},
   "outputs": [],
   "source": [
    "for h in sc_handles:    \n",
    "    circuit_status = qntm_backend_syntax_checker.circuit_status(h)\n",
    "    print(circuit_status.status)"
   ]
  },
  {
   "cell_type": "markdown",
   "metadata": {},
   "source": [
    "## Analysis of GHZ State Fidelity after H2-1 Execution"
   ]
  },
  {
   "cell_type": "markdown",
   "metadata": {},
   "source": [
    "Execution on `H2-1` leads to a GHZ state fidelity of $0.6156\\pm0.0082$."
   ]
  },
  {
   "cell_type": "markdown",
   "metadata": {},
   "source": [
    "The results from the population job show the probability of measuring the all-zero and all-one state are between 0.4 and 0.45. The probability of measuring a different state is 0.2. The probability of measuring the all-ones state is worse than all-zeros state due to assymetry in spam error."
   ]
  },
  {
   "cell_type": "markdown",
   "metadata": {},
   "source": [
    "<div style=\"text-align: center;\">\n",
    "    <img src=\"figures/GHZ_populations.png\" width=\"800\" />\n",
    "</div>"
   ]
  },
  {
   "cell_type": "markdown",
   "metadata": {},
   "source": [
    "The plot below shows the parity of the GHZ state. This is the degree of superposition in the result. A parity of zero implies no superposition in the GHZ state. Ideally parities should be between -0.5 and 0.5."
   ]
  },
  {
   "cell_type": "markdown",
   "metadata": {},
   "source": [
    "<div style=\"text-align: center;\">\n",
    "    <img src=\"figures/GHZ_parities.png\" width=\"800\" />\n",
    "</div>"
   ]
  },
  {
   "cell_type": "markdown",
   "metadata": {},
   "source": [
    "<div align=\"center\"> &copy; 2024 by Quantinuum. All Rights Reserved. </div>"
   ]
  }
 ],
 "metadata": {
  "kernelspec": {
   "display_name": "pytket-quantinuum-env",
   "language": "python",
   "name": "python3"
  },
  "language_info": {
   "codemirror_mode": {
    "name": "ipython",
    "version": 3
   },
   "file_extension": ".py",
   "mimetype": "text/x-python",
   "name": "python",
   "nbconvert_exporter": "python",
   "pygments_lexer": "ipython3",
   "version": "3.10.14"
  }
 },
 "nbformat": 4,
 "nbformat_minor": 2
}
