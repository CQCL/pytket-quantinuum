{
 "cells": [
  {
   "cell_type": "markdown",
   "metadata": {},
   "source": [
    "<div style=\"text-align: center;\">\n",
    "<img src=\"https://assets-global.website-files.com/62b9d45fb3f64842a96c9686/62d84db4aeb2f6552f3a2f78_Quantinuum%20Logo__horizontal%20blue.svg\" width=\"200\" height=\"200\" />\n",
    "</div>"
   ]
  },
  {
   "cell_type": "markdown",
   "metadata": {},
   "source": [
    "# Greenberger–Horne–Zeilinger Fidelity Estimation on System Model H2 with 56 qubits"
   ]
  },
  {
   "cell_type": "markdown",
   "metadata": {},
   "source": [
    "This knowledge articles details the generation of the Greenberger–Horne–Zeilinger (GHZ) on the `H2-1` device, with the use of the `H2-1` syntax checker to verify the correctness of the job. Producing GHZ states is a demanding test of qubit coherence, as they are maximally sensitive probes of global dephasing. Measuring the GHZ state fidelity is a useful test for measuring the quality and performance of the `H2-1` device. The logarithmic-depth GHZ state preparation protocol [[arxiv.2305.03828](https://arxiv.org/abs/2305.03828)] is used. At 56 qubits, full statevector simulation is classically intractable. This signals the need to develop more specialized compute tools for simulations. Stabilizer simulation is one alternative, but this constrains the jobs to only utilize the Clifford gate set.\n",
    "\n",
    "The technical specifications for the System Model H2 devices are available [here](https://www.quantinuum.com/hardware/h2)."
   ]
  },
  {
   "cell_type": "markdown",
   "metadata": {},
   "source": [
    "**Contents**\n",
    "\n",
    "* [GHZ State Fidelity](GHZ-State-Fidelity)\n",
    "* [Syntax Check](Syntax-Check)\n",
    "* [Analysis of GHZ State Fidelity after Execution](Analysis-of-GHZ-State-Fidelity-after-Execution)\n",
    "* [Summary](#Summary)"
   ]
  },
  {
   "cell_type": "markdown",
   "metadata": {},
   "source": [
    "## GHZ State Fidelity"
   ]
  },
  {
   "cell_type": "markdown",
   "metadata": {},
   "source": [
    "The $N$-qubit GHZ state preparation, using the definition,\n",
    "\n",
    "\\begin{equation}\n",
    "| {GHZ}_N \\rangle = \\frac{1}{\\sqrt{2}} \\left( {| 0 \\rangle}^{\\bigotimes N} + {| 1 \\rangle}^{\\bigotimes N} \\right),\n",
    "\\end{equation}\n",
    "\n",
    "where $N=56$. A logarithmic-depth circuit is used [[arxiv.1807.05572](https://arxiv.org/abs/1807.05572)], an improvement over the standard GHZ circuit construction."
   ]
  },
  {
   "cell_type": "code",
   "execution_count": 1,
   "metadata": {},
   "outputs": [],
   "source": [
    "import numpy as np\n",
    "from pytket.circuit import Circuit\n",
    "\n",
    "def logarithmic_ghz_circuit(n_qubits):\n",
    "    n = n_qubits\n",
    "    circ = Circuit(n,n)\n",
    "    # construct GHZ prep circuit, optimized for parallel gates\n",
    "    circ.H(0)\n",
    "    for i in range(int(np.ceil(np.log2(n)))):\n",
    "        for j in range(2**i):\n",
    "            if j+2**i < n:\n",
    "                circ.CX(j,j+2**i)\n",
    "    return circ"
   ]
  },
  {
   "cell_type": "code",
   "execution_count": 2,
   "metadata": {},
   "outputs": [],
   "source": [
    "ghz_circuit = logarithmic_ghz_circuit(56)"
   ]
  },
  {
   "cell_type": "markdown",
   "metadata": {},
   "source": [
    "The circuit is visualised using the `pytket.circuit.display` module."
   ]
  },
  {
   "cell_type": "code",
   "execution_count": 3,
   "metadata": {},
   "outputs": [
    {
     "data": {
      "text/html": [
       "\n",
       "\n",
       "\n",
       "\n",
       "\n",
       "\n",
       "<div style=\"resize: vertical; overflow: auto; height: 400px; display: block\">\n",
       "    <iframe srcdoc=\"\n",
       "&lt;!DOCTYPE html&gt;\n",
       "&lt;html lang=&#34;en&#34;&gt;\n",
       "&lt;head&gt;\n",
       "    &lt;meta charset=&#34;UTF-8&#34;&gt;\n",
       "    &lt;!-- Download Vue 3--&gt;\n",
       "&lt;script type=&#34;application/javascript&#34; src=&#34;https://cdn.jsdelivr.net/npm/vue@3&#34;&gt;&lt;/script&gt;\n",
       "&lt;!-- Download Circuit Renderer with styles --&gt;\n",
       "&lt;script type=&#34;application/javascript&#34; src=&#34;https://unpkg.com/pytket-circuit-renderer@0.7/dist/pytket-circuit-renderer.umd.js&#34;&gt;&lt;/script&gt;\n",
       "&lt;link rel=&#34;stylesheet&#34; href=&#34;https://unpkg.com/pytket-circuit-renderer@0.7/dist/pytket-circuit-renderer.css&#34;&gt;\n",
       "&lt;/head&gt;\n",
       "&lt;body&gt;\n",
       "\n",
       "\n",
       "\n",
       "    &lt;div id=&#34;circuit-display-vue-container-16f0b7f9-d710-4c17-a28a-951b6cf578ff&#34; class=&#34;pytket-circuit-display-container&#34;&gt;\n",
       "        &lt;div style=&#34;display: none&#34;&gt;\n",
       "            &lt;div id=&#34;circuit-json-to-display&#34;&gt;{&#34;bits&#34;: [[&#34;c&#34;, [0]], [&#34;c&#34;, [1]], [&#34;c&#34;, [2]], [&#34;c&#34;, [3]], [&#34;c&#34;, [4]], [&#34;c&#34;, [5]], [&#34;c&#34;, [6]], [&#34;c&#34;, [7]], [&#34;c&#34;, [8]], [&#34;c&#34;, [9]], [&#34;c&#34;, [10]], [&#34;c&#34;, [11]], [&#34;c&#34;, [12]], [&#34;c&#34;, [13]], [&#34;c&#34;, [14]], [&#34;c&#34;, [15]], [&#34;c&#34;, [16]], [&#34;c&#34;, [17]], [&#34;c&#34;, [18]], [&#34;c&#34;, [19]], [&#34;c&#34;, [20]], [&#34;c&#34;, [21]], [&#34;c&#34;, [22]], [&#34;c&#34;, [23]], [&#34;c&#34;, [24]], [&#34;c&#34;, [25]], [&#34;c&#34;, [26]], [&#34;c&#34;, [27]], [&#34;c&#34;, [28]], [&#34;c&#34;, [29]], [&#34;c&#34;, [30]], [&#34;c&#34;, [31]], [&#34;c&#34;, [32]], [&#34;c&#34;, [33]], [&#34;c&#34;, [34]], [&#34;c&#34;, [35]], [&#34;c&#34;, [36]], [&#34;c&#34;, [37]], [&#34;c&#34;, [38]], [&#34;c&#34;, [39]], [&#34;c&#34;, [40]], [&#34;c&#34;, [41]], [&#34;c&#34;, [42]], [&#34;c&#34;, [43]], [&#34;c&#34;, [44]], [&#34;c&#34;, [45]], [&#34;c&#34;, [46]], [&#34;c&#34;, [47]], [&#34;c&#34;, [48]], [&#34;c&#34;, [49]], [&#34;c&#34;, [50]], [&#34;c&#34;, [51]], [&#34;c&#34;, [52]], [&#34;c&#34;, [53]], [&#34;c&#34;, [54]], [&#34;c&#34;, [55]]], &#34;commands&#34;: [{&#34;args&#34;: [[&#34;q&#34;, [0]]], &#34;op&#34;: {&#34;type&#34;: &#34;H&#34;}}, {&#34;args&#34;: [[&#34;q&#34;, [0]], [&#34;q&#34;, [1]]], &#34;op&#34;: {&#34;type&#34;: &#34;CX&#34;}}, {&#34;args&#34;: [[&#34;q&#34;, [0]], [&#34;q&#34;, [2]]], &#34;op&#34;: {&#34;type&#34;: &#34;CX&#34;}}, {&#34;args&#34;: [[&#34;q&#34;, [1]], [&#34;q&#34;, [3]]], &#34;op&#34;: {&#34;type&#34;: &#34;CX&#34;}}, {&#34;args&#34;: [[&#34;q&#34;, [0]], [&#34;q&#34;, [4]]], &#34;op&#34;: {&#34;type&#34;: &#34;CX&#34;}}, {&#34;args&#34;: [[&#34;q&#34;, [1]], [&#34;q&#34;, [5]]], &#34;op&#34;: {&#34;type&#34;: &#34;CX&#34;}}, {&#34;args&#34;: [[&#34;q&#34;, [2]], [&#34;q&#34;, [6]]], &#34;op&#34;: {&#34;type&#34;: &#34;CX&#34;}}, {&#34;args&#34;: [[&#34;q&#34;, [3]], [&#34;q&#34;, [7]]], &#34;op&#34;: {&#34;type&#34;: &#34;CX&#34;}}, {&#34;args&#34;: [[&#34;q&#34;, [0]], [&#34;q&#34;, [8]]], &#34;op&#34;: {&#34;type&#34;: &#34;CX&#34;}}, {&#34;args&#34;: [[&#34;q&#34;, [1]], [&#34;q&#34;, [9]]], &#34;op&#34;: {&#34;type&#34;: &#34;CX&#34;}}, {&#34;args&#34;: [[&#34;q&#34;, [2]], [&#34;q&#34;, [10]]], &#34;op&#34;: {&#34;type&#34;: &#34;CX&#34;}}, {&#34;args&#34;: [[&#34;q&#34;, [3]], [&#34;q&#34;, [11]]], &#34;op&#34;: {&#34;type&#34;: &#34;CX&#34;}}, {&#34;args&#34;: [[&#34;q&#34;, [4]], [&#34;q&#34;, [12]]], &#34;op&#34;: {&#34;type&#34;: &#34;CX&#34;}}, {&#34;args&#34;: [[&#34;q&#34;, [5]], [&#34;q&#34;, [13]]], &#34;op&#34;: {&#34;type&#34;: &#34;CX&#34;}}, {&#34;args&#34;: [[&#34;q&#34;, [6]], [&#34;q&#34;, [14]]], &#34;op&#34;: {&#34;type&#34;: &#34;CX&#34;}}, {&#34;args&#34;: [[&#34;q&#34;, [7]], [&#34;q&#34;, [15]]], &#34;op&#34;: {&#34;type&#34;: &#34;CX&#34;}}, {&#34;args&#34;: [[&#34;q&#34;, [0]], [&#34;q&#34;, [16]]], &#34;op&#34;: {&#34;type&#34;: &#34;CX&#34;}}, {&#34;args&#34;: [[&#34;q&#34;, [1]], [&#34;q&#34;, [17]]], &#34;op&#34;: {&#34;type&#34;: &#34;CX&#34;}}, {&#34;args&#34;: [[&#34;q&#34;, [2]], [&#34;q&#34;, [18]]], &#34;op&#34;: {&#34;type&#34;: &#34;CX&#34;}}, {&#34;args&#34;: [[&#34;q&#34;, [3]], [&#34;q&#34;, [19]]], &#34;op&#34;: {&#34;type&#34;: &#34;CX&#34;}}, {&#34;args&#34;: [[&#34;q&#34;, [4]], [&#34;q&#34;, [20]]], &#34;op&#34;: {&#34;type&#34;: &#34;CX&#34;}}, {&#34;args&#34;: [[&#34;q&#34;, [5]], [&#34;q&#34;, [21]]], &#34;op&#34;: {&#34;type&#34;: &#34;CX&#34;}}, {&#34;args&#34;: [[&#34;q&#34;, [6]], [&#34;q&#34;, [22]]], &#34;op&#34;: {&#34;type&#34;: &#34;CX&#34;}}, {&#34;args&#34;: [[&#34;q&#34;, [7]], [&#34;q&#34;, [23]]], &#34;op&#34;: {&#34;type&#34;: &#34;CX&#34;}}, {&#34;args&#34;: [[&#34;q&#34;, [8]], [&#34;q&#34;, [24]]], &#34;op&#34;: {&#34;type&#34;: &#34;CX&#34;}}, {&#34;args&#34;: [[&#34;q&#34;, [9]], [&#34;q&#34;, [25]]], &#34;op&#34;: {&#34;type&#34;: &#34;CX&#34;}}, {&#34;args&#34;: [[&#34;q&#34;, [10]], [&#34;q&#34;, [26]]], &#34;op&#34;: {&#34;type&#34;: &#34;CX&#34;}}, {&#34;args&#34;: [[&#34;q&#34;, [11]], [&#34;q&#34;, [27]]], &#34;op&#34;: {&#34;type&#34;: &#34;CX&#34;}}, {&#34;args&#34;: [[&#34;q&#34;, [12]], [&#34;q&#34;, [28]]], &#34;op&#34;: {&#34;type&#34;: &#34;CX&#34;}}, {&#34;args&#34;: [[&#34;q&#34;, [13]], [&#34;q&#34;, [29]]], &#34;op&#34;: {&#34;type&#34;: &#34;CX&#34;}}, {&#34;args&#34;: [[&#34;q&#34;, [14]], [&#34;q&#34;, [30]]], &#34;op&#34;: {&#34;type&#34;: &#34;CX&#34;}}, {&#34;args&#34;: [[&#34;q&#34;, [15]], [&#34;q&#34;, [31]]], &#34;op&#34;: {&#34;type&#34;: &#34;CX&#34;}}, {&#34;args&#34;: [[&#34;q&#34;, [0]], [&#34;q&#34;, [32]]], &#34;op&#34;: {&#34;type&#34;: &#34;CX&#34;}}, {&#34;args&#34;: [[&#34;q&#34;, [1]], [&#34;q&#34;, [33]]], &#34;op&#34;: {&#34;type&#34;: &#34;CX&#34;}}, {&#34;args&#34;: [[&#34;q&#34;, [2]], [&#34;q&#34;, [34]]], &#34;op&#34;: {&#34;type&#34;: &#34;CX&#34;}}, {&#34;args&#34;: [[&#34;q&#34;, [3]], [&#34;q&#34;, [35]]], &#34;op&#34;: {&#34;type&#34;: &#34;CX&#34;}}, {&#34;args&#34;: [[&#34;q&#34;, [4]], [&#34;q&#34;, [36]]], &#34;op&#34;: {&#34;type&#34;: &#34;CX&#34;}}, {&#34;args&#34;: [[&#34;q&#34;, [5]], [&#34;q&#34;, [37]]], &#34;op&#34;: {&#34;type&#34;: &#34;CX&#34;}}, {&#34;args&#34;: [[&#34;q&#34;, [6]], [&#34;q&#34;, [38]]], &#34;op&#34;: {&#34;type&#34;: &#34;CX&#34;}}, {&#34;args&#34;: [[&#34;q&#34;, [7]], [&#34;q&#34;, [39]]], &#34;op&#34;: {&#34;type&#34;: &#34;CX&#34;}}, {&#34;args&#34;: [[&#34;q&#34;, [8]], [&#34;q&#34;, [40]]], &#34;op&#34;: {&#34;type&#34;: &#34;CX&#34;}}, {&#34;args&#34;: [[&#34;q&#34;, [9]], [&#34;q&#34;, [41]]], &#34;op&#34;: {&#34;type&#34;: &#34;CX&#34;}}, {&#34;args&#34;: [[&#34;q&#34;, [10]], [&#34;q&#34;, [42]]], &#34;op&#34;: {&#34;type&#34;: &#34;CX&#34;}}, {&#34;args&#34;: [[&#34;q&#34;, [11]], [&#34;q&#34;, [43]]], &#34;op&#34;: {&#34;type&#34;: &#34;CX&#34;}}, {&#34;args&#34;: [[&#34;q&#34;, [12]], [&#34;q&#34;, [44]]], &#34;op&#34;: {&#34;type&#34;: &#34;CX&#34;}}, {&#34;args&#34;: [[&#34;q&#34;, [13]], [&#34;q&#34;, [45]]], &#34;op&#34;: {&#34;type&#34;: &#34;CX&#34;}}, {&#34;args&#34;: [[&#34;q&#34;, [14]], [&#34;q&#34;, [46]]], &#34;op&#34;: {&#34;type&#34;: &#34;CX&#34;}}, {&#34;args&#34;: [[&#34;q&#34;, [15]], [&#34;q&#34;, [47]]], &#34;op&#34;: {&#34;type&#34;: &#34;CX&#34;}}, {&#34;args&#34;: [[&#34;q&#34;, [16]], [&#34;q&#34;, [48]]], &#34;op&#34;: {&#34;type&#34;: &#34;CX&#34;}}, {&#34;args&#34;: [[&#34;q&#34;, [17]], [&#34;q&#34;, [49]]], &#34;op&#34;: {&#34;type&#34;: &#34;CX&#34;}}, {&#34;args&#34;: [[&#34;q&#34;, [18]], [&#34;q&#34;, [50]]], &#34;op&#34;: {&#34;type&#34;: &#34;CX&#34;}}, {&#34;args&#34;: [[&#34;q&#34;, [19]], [&#34;q&#34;, [51]]], &#34;op&#34;: {&#34;type&#34;: &#34;CX&#34;}}, {&#34;args&#34;: [[&#34;q&#34;, [20]], [&#34;q&#34;, [52]]], &#34;op&#34;: {&#34;type&#34;: &#34;CX&#34;}}, {&#34;args&#34;: [[&#34;q&#34;, [21]], [&#34;q&#34;, [53]]], &#34;op&#34;: {&#34;type&#34;: &#34;CX&#34;}}, {&#34;args&#34;: [[&#34;q&#34;, [22]], [&#34;q&#34;, [54]]], &#34;op&#34;: {&#34;type&#34;: &#34;CX&#34;}}, {&#34;args&#34;: [[&#34;q&#34;, [23]], [&#34;q&#34;, [55]]], &#34;op&#34;: {&#34;type&#34;: &#34;CX&#34;}}], &#34;created_qubits&#34;: [], &#34;discarded_qubits&#34;: [], &#34;implicit_permutation&#34;: [[[&#34;q&#34;, [0]], [&#34;q&#34;, [0]]], [[&#34;q&#34;, [1]], [&#34;q&#34;, [1]]], [[&#34;q&#34;, [2]], [&#34;q&#34;, [2]]], [[&#34;q&#34;, [3]], [&#34;q&#34;, [3]]], [[&#34;q&#34;, [4]], [&#34;q&#34;, [4]]], [[&#34;q&#34;, [5]], [&#34;q&#34;, [5]]], [[&#34;q&#34;, [6]], [&#34;q&#34;, [6]]], [[&#34;q&#34;, [7]], [&#34;q&#34;, [7]]], [[&#34;q&#34;, [8]], [&#34;q&#34;, [8]]], [[&#34;q&#34;, [9]], [&#34;q&#34;, [9]]], [[&#34;q&#34;, [10]], [&#34;q&#34;, [10]]], [[&#34;q&#34;, [11]], [&#34;q&#34;, [11]]], [[&#34;q&#34;, [12]], [&#34;q&#34;, [12]]], [[&#34;q&#34;, [13]], [&#34;q&#34;, [13]]], [[&#34;q&#34;, [14]], [&#34;q&#34;, [14]]], [[&#34;q&#34;, [15]], [&#34;q&#34;, [15]]], [[&#34;q&#34;, [16]], [&#34;q&#34;, [16]]], [[&#34;q&#34;, [17]], [&#34;q&#34;, [17]]], [[&#34;q&#34;, [18]], [&#34;q&#34;, [18]]], [[&#34;q&#34;, [19]], [&#34;q&#34;, [19]]], [[&#34;q&#34;, [20]], [&#34;q&#34;, [20]]], [[&#34;q&#34;, [21]], [&#34;q&#34;, [21]]], [[&#34;q&#34;, [22]], [&#34;q&#34;, [22]]], [[&#34;q&#34;, [23]], [&#34;q&#34;, [23]]], [[&#34;q&#34;, [24]], [&#34;q&#34;, [24]]], [[&#34;q&#34;, [25]], [&#34;q&#34;, [25]]], [[&#34;q&#34;, [26]], [&#34;q&#34;, [26]]], [[&#34;q&#34;, [27]], [&#34;q&#34;, [27]]], [[&#34;q&#34;, [28]], [&#34;q&#34;, [28]]], [[&#34;q&#34;, [29]], [&#34;q&#34;, [29]]], [[&#34;q&#34;, [30]], [&#34;q&#34;, [30]]], [[&#34;q&#34;, [31]], [&#34;q&#34;, [31]]], [[&#34;q&#34;, [32]], [&#34;q&#34;, [32]]], [[&#34;q&#34;, [33]], [&#34;q&#34;, [33]]], [[&#34;q&#34;, [34]], [&#34;q&#34;, [34]]], [[&#34;q&#34;, [35]], [&#34;q&#34;, [35]]], [[&#34;q&#34;, [36]], [&#34;q&#34;, [36]]], [[&#34;q&#34;, [37]], [&#34;q&#34;, [37]]], [[&#34;q&#34;, [38]], [&#34;q&#34;, [38]]], [[&#34;q&#34;, [39]], [&#34;q&#34;, [39]]], [[&#34;q&#34;, [40]], [&#34;q&#34;, [40]]], [[&#34;q&#34;, [41]], [&#34;q&#34;, [41]]], [[&#34;q&#34;, [42]], [&#34;q&#34;, [42]]], [[&#34;q&#34;, [43]], [&#34;q&#34;, [43]]], [[&#34;q&#34;, [44]], [&#34;q&#34;, [44]]], [[&#34;q&#34;, [45]], [&#34;q&#34;, [45]]], [[&#34;q&#34;, [46]], [&#34;q&#34;, [46]]], [[&#34;q&#34;, [47]], [&#34;q&#34;, [47]]], [[&#34;q&#34;, [48]], [&#34;q&#34;, [48]]], [[&#34;q&#34;, [49]], [&#34;q&#34;, [49]]], [[&#34;q&#34;, [50]], [&#34;q&#34;, [50]]], [[&#34;q&#34;, [51]], [&#34;q&#34;, [51]]], [[&#34;q&#34;, [52]], [&#34;q&#34;, [52]]], [[&#34;q&#34;, [53]], [&#34;q&#34;, [53]]], [[&#34;q&#34;, [54]], [&#34;q&#34;, [54]]], [[&#34;q&#34;, [55]], [&#34;q&#34;, [55]]]], &#34;phase&#34;: &#34;0.0&#34;, &#34;qubits&#34;: [[&#34;q&#34;, [0]], [&#34;q&#34;, [1]], [&#34;q&#34;, [2]], [&#34;q&#34;, [3]], [&#34;q&#34;, [4]], [&#34;q&#34;, [5]], [&#34;q&#34;, [6]], [&#34;q&#34;, [7]], [&#34;q&#34;, [8]], [&#34;q&#34;, [9]], [&#34;q&#34;, [10]], [&#34;q&#34;, [11]], [&#34;q&#34;, [12]], [&#34;q&#34;, [13]], [&#34;q&#34;, [14]], [&#34;q&#34;, [15]], [&#34;q&#34;, [16]], [&#34;q&#34;, [17]], [&#34;q&#34;, [18]], [&#34;q&#34;, [19]], [&#34;q&#34;, [20]], [&#34;q&#34;, [21]], [&#34;q&#34;, [22]], [&#34;q&#34;, [23]], [&#34;q&#34;, [24]], [&#34;q&#34;, [25]], [&#34;q&#34;, [26]], [&#34;q&#34;, [27]], [&#34;q&#34;, [28]], [&#34;q&#34;, [29]], [&#34;q&#34;, [30]], [&#34;q&#34;, [31]], [&#34;q&#34;, [32]], [&#34;q&#34;, [33]], [&#34;q&#34;, [34]], [&#34;q&#34;, [35]], [&#34;q&#34;, [36]], [&#34;q&#34;, [37]], [&#34;q&#34;, [38]], [&#34;q&#34;, [39]], [&#34;q&#34;, [40]], [&#34;q&#34;, [41]], [&#34;q&#34;, [42]], [&#34;q&#34;, [43]], [&#34;q&#34;, [44]], [&#34;q&#34;, [45]], [&#34;q&#34;, [46]], [&#34;q&#34;, [47]], [&#34;q&#34;, [48]], [&#34;q&#34;, [49]], [&#34;q&#34;, [50]], [&#34;q&#34;, [51]], [&#34;q&#34;, [52]], [&#34;q&#34;, [53]], [&#34;q&#34;, [54]], [&#34;q&#34;, [55]]]}&lt;/div&gt;\n",
       "        &lt;/div&gt;\n",
       "        &lt;circuit-display-container\n",
       "                :circuit-element-str=&#34;&#39;#circuit-json-to-display&#39;&#34;\n",
       "                :init-render-options=&#34;initRenderOptions&#34;\n",
       "        &gt;&lt;/circuit-display-container&gt;\n",
       "    &lt;/div&gt;\n",
       "    &lt;script type=&#34;application/javascript&#34;&gt;\n",
       "      const circuitRendererUid = &#34;16f0b7f9-d710-4c17-a28a-951b6cf578ff&#34;;\n",
       "      const displayOptions = JSON.parse(&#39;{}&#39;);\n",
       "\n",
       "      // Script to initialise the circuit renderer app\n",
       "\n",
       "const { createApp } = Vue;\n",
       "const circuitDisplayContainer = window[&#34;pytket-circuit-renderer&#34;].default;\n",
       "// Init variables to be shared between circuit display instances\n",
       "if (typeof window.pytketCircuitDisplays === &#34;undefined&#34;) {\n",
       "    window.pytketCircuitDisplays = {};\n",
       "}\n",
       "// Create the root Vue component\n",
       "const app = createApp({\n",
       "    delimiters: [&#39;[[#&#39;, &#39;#]]&#39;],\n",
       "    components: { circuitDisplayContainer },\n",
       "    data () {\n",
       "      return {\n",
       "        initRenderOptions: displayOptions,\n",
       "      }\n",
       "    }\n",
       "})\n",
       "app.config.unwrapInjectedRef = true;\n",
       "app.mount(&#34;#circuit-display-vue-container-&#34;+circuitRendererUid);\n",
       "window.pytketCircuitDisplays[circuitRendererUid] = app;\n",
       "    &lt;/script&gt;\n",
       "\n",
       "\n",
       "\n",
       "&lt;/body&gt;\n",
       "&lt;/html&gt;\n",
       "\"\n",
       "            width=\"100%\" height=\"100%\"\n",
       "            style=\"border: none; outline: none; overflow: auto\"></iframe>\n",
       "</div>\n",
       "\n"
      ],
      "text/plain": [
       "<IPython.core.display.HTML object>"
      ]
     },
     "metadata": {},
     "output_type": "display_data"
    }
   ],
   "source": [
    "from pytket.circuit.display import render_circuit_jupyter\n",
    "\n",
    "render_circuit_jupyter(ghz_circuit)"
   ]
  },
  {
   "cell_type": "markdown",
   "metadata": {},
   "source": [
    "To estimate the GHZ state fidelity, $F$, the method from [arxiv.0706.2432](https://arxiv.org/pdf/0706.2432) is used,\n",
    "\\begin{equation}\n",
    "F =  P + \\chi.\n",
    "\\end{equation}\n",
    "These are quantities that need to be measured on the quantum hardware. The GHZ population, $P$, requires measurements in the computational basis on every qubit after the GHZ state has been prepared, and is defined as,\n",
    "\\begin{equation}\n",
    "P = \\frac{1}{2} \\textrm{Tr} \\left( \\rho | 0 \\rangle^{\\bigotimes N} \\langle 0 |^{\\bigotimes N} \\right) + \\frac{1}{2} \\textrm{Tr} \\left( \\rho | 1 \\rangle^{\\bigotimes N} \\langle 1 |^{\\bigotimes N} \\right)\n",
    "\\end{equation},\n",
    "where $\\rho$ is the density matrix with respect to the GHZ state. The second term $\\chi$ is a sum of measurements in the $x-y$ plane of the bloch sphere."
   ]
  },
  {
   "cell_type": "code",
   "execution_count": 4,
   "metadata": {},
   "outputs": [],
   "source": [
    "from pytket.circuit import Circuit\n",
    "\n",
    "def generate_population_circuit(\n",
    "    ghz_circuit: Circuit, \n",
    ") -> Circuit:\n",
    "    circuit = ghz_circuit.copy()\n",
    "    circuit.add_barrier(circuit.qubits)\n",
    "    circuit.measure_all()\n",
    "    return circuit"
   ]
  },
  {
   "cell_type": "code",
   "execution_count": 5,
   "metadata": {},
   "outputs": [],
   "source": [
    "population_circuit = generate_population_circuit(ghz_circuit)"
   ]
  },
  {
   "cell_type": "markdown",
   "metadata": {},
   "source": [
    "Once the measurements are collected from the `H2-1` device, the outcomes are filtered into three buckets:\n",
    "* all-zeros readouts (a bitstring containing `0`s) \n",
    "* all-ones readouts (a bitstring containing `1`s) \n",
    "* undesired mixed readouts\n",
    "\n",
    "In an ideal setting, both all-ones and all-zeros bitstrings are equally likely. The population quantifies the amount of error arising from inherent device noise."
   ]
  },
  {
   "cell_type": "code",
   "execution_count": 6,
   "metadata": {},
   "outputs": [],
   "source": [
    "from typing import Dict\n",
    "from pytket.backends.backendresult import BackendResult\n",
    "\n",
    "def compute_ghz_populations(\n",
    "    backend_result: BackendResult\n",
    ") -> Dict[str, float]:\n",
    "    distribution = backend_result.get_distribution()\n",
    "    n = len(backend_result.c_bits)\n",
    "    zero_string = (0, )*n\n",
    "    ones_string = (1, )*n\n",
    "    zeros = distribution.get(zero_string, 0)\n",
    "    ones = distribution.get(ones_string, 0)\n",
    "    alt = sum([probability for bitstring, probability in distribution.items() if bitstring != zero_string and bitstring != ones_string]) \n",
    "    return {\"zeros\": zeros, \"ones\": ones, \"something else\": alt}"
   ]
  },
  {
   "cell_type": "markdown",
   "metadata": {},
   "source": [
    "The second term, $\\chi$, requires $N$ circuits to be measured. For a 56-qubit problem, 56 circuits are generated and require non-clifford gates. $\\chi$ is defined as,\n",
    "\\begin{equation}\n",
    "\\chi \\left( k \\right)= \\frac{1}{N} \\sum_{k=1}^{N} (-1)^{k} \\left[ \\cos \\left( \\frac{k \\pi}{N} \\right) + \\sin \\left( \\frac{k \\pi}{N} \\right) \\right],\n",
    "\\end{equation}\n",
    "and is dependent on a parameter $k$, ranging from 1 to $N$. The quantity, $\\chi$, quantifies the degree of superposition between the state, $\\ket{0}^{\\bigotimes N}$, and the state, $\\ket{1}^{\\bigotimes N}$. The expression in the square brackets can be measured on System Model H2 via measurements of the $x-y$ plane of the bloch sphere."
   ]
  },
  {
   "cell_type": "code",
   "execution_count": 7,
   "metadata": {},
   "outputs": [],
   "source": [
    "from typing import Tuple, List\n",
    "from pytket.circuit import Circuit\n",
    "\n",
    "def generate_parity_circuits(\n",
    "    ghz_circuit: Circuit,\n",
    ") -> Tuple[List[Circuit], List[float]]:\n",
    "    circuits = []\n",
    "    angles = []\n",
    "    for k in range(1, ghz_circuit.n_qubits+1):\n",
    "        circuit = ghz_circuit.copy()\n",
    "        angle = k / ghz_circuit.n_qubits\n",
    "        for q in circuit.qubits:\n",
    "            circuit.Rz(-angle, q)\n",
    "            circuit.Ry(-0.5, q)\n",
    "        circuit.measure_all()\n",
    "        circuits += [circuit]\n",
    "        angles += [angle]\n",
    "    return circuits, angles"
   ]
  },
  {
   "cell_type": "code",
   "execution_count": 8,
   "metadata": {},
   "outputs": [],
   "source": [
    "parity_circuit_list, angles = generate_parity_circuits(ghz_circuit)"
   ]
  },
  {
   "cell_type": "markdown",
   "metadata": {},
   "source": [
    "Counting each measurement outcome allows the parity of the bitstring to be computed."
   ]
  },
  {
   "cell_type": "code",
   "execution_count": 9,
   "metadata": {},
   "outputs": [],
   "source": [
    "from typing import List, Dict\n",
    "from pytket.backends.backendresult import BackendResult\n",
    "\n",
    "def compute_ghz_parities(\n",
    "    backend_results: BackendResult,\n",
    "    angles: List[float]\n",
    ") -> Dict[float, float]:\n",
    "    parities = {}\n",
    "    for (a, b) in zip(angles, backend_results):\n",
    "        dist = b.get_distribution()\n",
    "        expectation_value = sum([(-1)**(sum(bitstring)) * prob for bitstring, prob in dist.items()])\n",
    "        parities[a] = expectation_value\n",
    "    return parities"
   ]
  },
  {
   "cell_type": "markdown",
   "metadata": {},
   "source": [
    "The cell below defines a function to combine the population and parity results to estimate the GHZ state fidelity, $F$."
   ]
  },
  {
   "cell_type": "code",
   "execution_count": 10,
   "metadata": {},
   "outputs": [],
   "source": [
    "from typing import List, Dict\n",
    "\n",
    "def compute_ghz_fidelity(\n",
    "    parities: List[float], \n",
    "    populations: Dict[str, float]\n",
    ") -> float:\n",
    "    f_populations = populations.get(\"zeros\", 0) + populations.get(\"ones\", 0)\n",
    "    f_parities = sum([p * (-1)**k for k, p in enumerate(parities.values())]) / len(parities)\n",
    "    return f_populations + f_parities"
   ]
  },
  {
   "cell_type": "markdown",
   "metadata": {},
   "source": [
    "## Syntax Check"
   ]
  },
  {
   "cell_type": "markdown",
   "metadata": {},
   "source": [
    "The circuits are submitted to the syntax checker, `H2-1SC`, to verify the code before execution to the `H2-1` device. Because at 56 qubits the quantum circuits, statevector simulation is prohibitive, the H2-1 syntax checker is used as a best practice to ensure the quantum circuit will run on the quantum computer before submitting."
   ]
  },
  {
   "cell_type": "code",
   "execution_count": 11,
   "metadata": {},
   "outputs": [
    {
     "name": "stderr",
     "output_type": "stream",
     "text": [
      "c:\\Users\\Irfan.Khan\\.conda\\envs\\pytket-quantinuum-env\\lib\\site-packages\\requests\\__init__.py:86: RequestsDependencyWarning: Unable to find acceptable character detection dependency (chardet or charset_normalizer).\n",
      "  warnings.warn(\n"
     ]
    }
   ],
   "source": [
    "from pytket.extensions.quantinuum import QuantinuumBackend\n",
    "\n",
    "qntm_backend_syntax_checker = QuantinuumBackend(device_name=\"H2-1SC\", simulator=\"stabilizer\")\n",
    "qntm_backend_syntax_checker.login()"
   ]
  },
  {
   "cell_type": "markdown",
   "metadata": {},
   "source": [
    "Compilation of the circuits to the correct gate set."
   ]
  },
  {
   "cell_type": "code",
   "execution_count": 12,
   "metadata": {},
   "outputs": [],
   "source": [
    "circuits = [population_circuit] + parity_circuit_list\n",
    "compiled_circuit_list = qntm_backend_syntax_checker.get_compiled_circuits(circuits, optimisation_level=2)"
   ]
  },
  {
   "cell_type": "markdown",
   "metadata": {},
   "source": [
    "In pytket-quantinuum, the syntax checker can be used via the `cost` function, which not only runs the quantum circuit on the syntax checker, but also returns what the cost in HQCs will be when running the quantum circuit on the device."
   ]
  },
  {
   "cell_type": "code",
   "execution_count": 13,
   "metadata": {},
   "outputs": [
    {
     "ename": "ValueError",
     "evalue": "Circuit does not satisfy predicates of backend. Try running `backend.get_compiled_circuit` first",
     "output_type": "error",
     "traceback": [
      "\u001b[1;31m---------------------------------------------------------------------------\u001b[0m",
      "\u001b[1;31mValueError\u001b[0m                                Traceback (most recent call last)",
      "Cell \u001b[1;32mIn[13], line 1\u001b[0m\n\u001b[1;32m----> 1\u001b[0m jobs_cost \u001b[38;5;241m=\u001b[39m \u001b[38;5;28msum\u001b[39m([qntm_backend_syntax_checker\u001b[38;5;241m.\u001b[39mcost(c, \u001b[38;5;241m100\u001b[39m, syntax_checker\u001b[38;5;241m=\u001b[39m\u001b[38;5;124m\"\u001b[39m\u001b[38;5;124mH2-1E\u001b[39m\u001b[38;5;124m\"\u001b[39m) \u001b[38;5;28;01mfor\u001b[39;00m c \u001b[38;5;129;01min\u001b[39;00m compiled_circuit_list])\n",
      "Cell \u001b[1;32mIn[13], line 1\u001b[0m, in \u001b[0;36m<listcomp>\u001b[1;34m(.0)\u001b[0m\n\u001b[1;32m----> 1\u001b[0m jobs_cost \u001b[38;5;241m=\u001b[39m \u001b[38;5;28msum\u001b[39m([\u001b[43mqntm_backend_syntax_checker\u001b[49m\u001b[38;5;241;43m.\u001b[39;49m\u001b[43mcost\u001b[49m\u001b[43m(\u001b[49m\u001b[43mc\u001b[49m\u001b[43m,\u001b[49m\u001b[43m \u001b[49m\u001b[38;5;241;43m100\u001b[39;49m\u001b[43m,\u001b[49m\u001b[43m \u001b[49m\u001b[43msyntax_checker\u001b[49m\u001b[38;5;241;43m=\u001b[39;49m\u001b[38;5;124;43m\"\u001b[39;49m\u001b[38;5;124;43mH2-1E\u001b[39;49m\u001b[38;5;124;43m\"\u001b[39;49m\u001b[43m)\u001b[49m \u001b[38;5;28;01mfor\u001b[39;00m c \u001b[38;5;129;01min\u001b[39;00m compiled_circuit_list])\n",
      "File \u001b[1;32mc:\\Users\\Irfan.Khan\\.conda\\envs\\pytket-quantinuum-env\\lib\\site-packages\\pytket\\extensions\\quantinuum\\backends\\quantinuum.py:1382\u001b[0m, in \u001b[0;36mQuantinuumBackend.cost\u001b[1;34m(self, circuit, n_shots, syntax_checker, use_websocket, **kwargs)\u001b[0m\n\u001b[0;32m   1358\u001b[0m \u001b[38;5;250m\u001b[39m\u001b[38;5;124;03m\"\"\"\u001b[39;00m\n\u001b[0;32m   1359\u001b[0m \u001b[38;5;124;03mReturn the cost in HQC to process this `circuit` with `n_shots`\u001b[39;00m\n\u001b[0;32m   1360\u001b[0m \u001b[38;5;124;03mrepeats on this backend.\u001b[39;00m\n\u001b[1;32m   (...)\u001b[0m\n\u001b[0;32m   1379\u001b[0m \u001b[38;5;124;03m:return: Cost in HQC to execute the shots.\u001b[39;00m\n\u001b[0;32m   1380\u001b[0m \u001b[38;5;124;03m\"\"\"\u001b[39;00m\n\u001b[0;32m   1381\u001b[0m \u001b[38;5;28;01mif\u001b[39;00m \u001b[38;5;129;01mnot\u001b[39;00m \u001b[38;5;28mself\u001b[39m\u001b[38;5;241m.\u001b[39mvalid_circuit(circuit):\n\u001b[1;32m-> 1382\u001b[0m     \u001b[38;5;28;01mraise\u001b[39;00m \u001b[38;5;167;01mValueError\u001b[39;00m(\n\u001b[0;32m   1383\u001b[0m         \u001b[38;5;124m\"\u001b[39m\u001b[38;5;124mCircuit does not satisfy predicates of backend.\u001b[39m\u001b[38;5;124m\"\u001b[39m\n\u001b[0;32m   1384\u001b[0m         \u001b[38;5;241m+\u001b[39m \u001b[38;5;124m\"\u001b[39m\u001b[38;5;124m Try running `backend.get_compiled_circuit` first\u001b[39m\u001b[38;5;124m\"\u001b[39m\n\u001b[0;32m   1385\u001b[0m     )\n\u001b[0;32m   1387\u001b[0m \u001b[38;5;28;01mif\u001b[39;00m \u001b[38;5;28mself\u001b[39m\u001b[38;5;241m.\u001b[39m_MACHINE_DEBUG:\n\u001b[0;32m   1388\u001b[0m     \u001b[38;5;28;01mreturn\u001b[39;00m \u001b[38;5;241m0.0\u001b[39m\n",
      "\u001b[1;31mValueError\u001b[0m: Circuit does not satisfy predicates of backend. Try running `backend.get_compiled_circuit` first"
     ]
    }
   ],
   "source": [
    "jobs_cost = sum([qntm_backend_syntax_checker.cost(c, 100, syntax_checker=\"H2-1E\") for c in compiled_circuit_list])"
   ]
  },
  {
   "cell_type": "markdown",
   "metadata": {},
   "source": [
    "## Analysis of GHZ State Fidelity after H2-1 Execution"
   ]
  },
  {
   "cell_type": "markdown",
   "metadata": {},
   "source": [
    "Execution on `H2-1` leads to a GHZ state fidelity of $0.6156\\pm0.0082$. Increasing the number of qubits introduces additional two-qubit gates in the job leading to a lower GHZ state fidelity at 56 qubits compared to the 28-qubit demonstration in the H2 Racetrack paper."
   ]
  },
  {
   "cell_type": "markdown",
   "metadata": {},
   "source": [
    "The results from the job show the probability of measuring the all-zero and all-one state are between 0.4 and 0.45. The probability of measuring a different state is 0.2. The probability of measuring the all-ones state is worse than all-zeros state due to assymetry in spam error."
   ]
  },
  {
   "cell_type": "markdown",
   "metadata": {},
   "source": [
    "<div style=\"text-align: center;\">\n",
    "    <img src=\"figures/GHZ_populations_1.png\" width=\"800\" />\n",
    "</div>"
   ]
  },
  {
   "cell_type": "markdown",
   "metadata": {},
   "source": [
    "The plot below shows the parity of the GHZ state. This is the degree of superposition in the result. A parity of zero implies no superposition in the GHZ state. Ideally parities should be between -0.5 and 0.5."
   ]
  },
  {
   "cell_type": "markdown",
   "metadata": {},
   "source": [
    "<div style=\"text-align: center;\">\n",
    "    <img src=\"figures/GHZ_parities_1.png\" width=\"800\" />\n",
    "</div>"
   ]
  },
  {
   "cell_type": "markdown",
   "metadata": {},
   "source": [
    "## Summary"
   ]
  },
  {
   "cell_type": "markdown",
   "metadata": {},
   "source": [
    "The GHZ state fidelity estimation is one workflow to assess device performance. This 56-qubit workflow proposed synthesizes 57 measurement circuits and uses the syntax checker to validate all of the jobs before running on the device and check the cost in HQCs. Once validated, these circuits can be submitted to the H2 device for processing. Stabilizer emulation resources are not used in this workflow due to the need for non-Clifford gates. Alternate schemes are required to use the stabilizer emulator, such as GHZ direct fidelity estimation which generates clifford-only measurement circuits ."
   ]
  },
  {
   "cell_type": "markdown",
   "metadata": {},
   "source": [
    "<div align=\"center\"> &copy; 2024 by Quantinuum. All Rights Reserved. </div>"
   ]
  }
 ],
 "metadata": {
  "kernelspec": {
   "display_name": "pytket-quantinuum-env",
   "language": "python",
   "name": "python3"
  },
  "language_info": {
   "codemirror_mode": {
    "name": "ipython",
    "version": 3
   },
   "file_extension": ".py",
   "mimetype": "text/x-python",
   "name": "python",
   "nbconvert_exporter": "python",
   "pygments_lexer": "ipython3",
   "version": "3.10.14"
  }
 },
 "nbformat": 4,
 "nbformat_minor": 2
}
