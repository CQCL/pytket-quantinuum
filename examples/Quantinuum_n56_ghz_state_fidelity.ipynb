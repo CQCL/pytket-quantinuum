{
 "cells": [
  {
   "cell_type": "markdown",
   "metadata": {},
   "source": [
    "<div style=\"text-align: center;\">\n",
    "<img src=\"https://assets-global.website-files.com/62b9d45fb3f64842a96c9686/62d84db4aeb2f6552f3a2f78_Quantinuum%20Logo__horizontal%20blue.svg\" width=\"200\" height=\"200\" />\n",
    "</div>"
   ]
  },
  {
   "cell_type": "markdown",
   "metadata": {},
   "source": [
    "# Greenberger–Horne–Zeilinger Fidelity Estimation on System Model H2 with 56 qubits"
   ]
  },
  {
   "cell_type": "markdown",
   "metadata": {},
   "source": [
    "This knowledge articles details the generation of the Greenberger–Horne–Zeilinger (GHZ) on the `H2-1` device, with the use of the `H2-1` syntax checker to verify the correctness of the job. Producing GHZ states is a demanding test of qubit coherence, as they are maximally sensitive probes of global dephasing. Measuring the GHZ state fidelity is a useful test for measuring the quality and performance of the `H2-1` device. The logarithmic-depth GHZ state preparation protocol [[arxiv.2305.03828](https://arxiv.org/abs/2305.03828)] is used. At 56 qubits, full statevector simulation is classically intractable. This signals the need to develop more specialized compute tools for simulations. Stabilizer simulation is one alternative, but this constrains the jobs to only utilize the Clifford gate set.\n",
    "\n",
    "The technical specifications for the System Model H2 devices are available [here](https://www.quantinuum.com/hardware/h2)."
   ]
  },
  {
   "cell_type": "markdown",
   "metadata": {},
   "source": [
    "**Contents**\n",
    "\n",
    "* [GHZ State Fidelity](GHZ-State-Fidelity)\n",
    "* [Syntax Check](Syntax-Check)\n",
    "* [Analysis of GHZ State Fidelity](Analysis-of-GHZ-State-Fidelity)\n",
    "* [Summary](#Summary)"
   ]
  },
  {
   "cell_type": "markdown",
   "metadata": {},
   "source": [
    "## GHZ State Fidelity"
   ]
  },
  {
   "cell_type": "markdown",
   "metadata": {},
   "source": [
    "The $N$-qubit GHZ state preparation, using the definition,\n",
    "\n",
    "\\begin{equation}\n",
    "| {GHZ}_N \\rangle = \\frac{1}{\\sqrt{2}} \\left( {| 0 \\rangle}^{\\bigotimes N} + {| 1 \\rangle}^{\\bigotimes N} \\right),\n",
    "\\end{equation}\n",
    "\n",
    "where $N=56$. A logarithmic-depth circuit is used [[arxiv.1807.05572](https://arxiv.org/abs/1807.05572)], an improvement over the standard GHZ circuit construction."
   ]
  },
  {
   "cell_type": "code",
   "execution_count": null,
   "metadata": {},
   "outputs": [],
   "source": [
    "import numpy as np\n",
    "from pytket.circuit import Circuit\n",
    "\n",
    "\n",
    "def logarithmic_ghz_circuit(n_qubits):\n",
    "    n = n_qubits\n",
    "    circ = Circuit(n, n)\n",
    "    # construct GHZ prep circuit, optimized for parallel gates\n",
    "    circ.H(0)\n",
    "    for i in range(int(np.ceil(np.log2(n)))):\n",
    "        for j in range(2**i):\n",
    "            if j + 2**i < n:\n",
    "                circ.CX(j, j + 2**i)\n",
    "    return circ"
   ]
  },
  {
   "cell_type": "code",
   "execution_count": null,
   "metadata": {},
   "outputs": [],
   "source": [
    "ghz_circuit = logarithmic_ghz_circuit(56)"
   ]
  },
  {
   "cell_type": "markdown",
   "metadata": {},
   "source": [
    "The circuit is visualised using the `pytket.circuit.display` module."
   ]
  },
  {
   "cell_type": "code",
   "execution_count": null,
   "metadata": {},
   "outputs": [],
   "source": [
    "from pytket.circuit.display import render_circuit_jupyter\n",
    "\n",
    "render_circuit_jupyter(ghz_circuit)"
   ]
  },
  {
   "cell_type": "markdown",
   "metadata": {},
   "source": [
    "To estimate the GHZ state fidelity, $F$, the method from [arxiv.0706.2432](https://arxiv.org/pdf/0706.2432) is used,\n",
    "\\begin{equation}\n",
    "F =  P + \\chi.\n",
    "\\end{equation}\n",
    "These are quantities that need to be measured on the quantum hardware. The GHZ population, $P$, requires measurements in the computational basis on every qubit after the GHZ state has been prepared, and is defined as,\n",
    "\\begin{equation}\n",
    "P = \\frac{1}{2} \\textrm{Tr} \\left( \\rho | 0 \\rangle^{\\bigotimes N} \\langle 0 |^{\\bigotimes N} \\right) + \\frac{1}{2} \\textrm{Tr} \\left( \\rho | 1 \\rangle^{\\bigotimes N} \\langle 1 |^{\\bigotimes N} \\right)\n",
    "\\end{equation},\n",
    "where $\\rho$ is the density matrix with respect to the GHZ state. The second term $\\chi$ is a sum of measurements in the $x-y$ plane of the bloch sphere."
   ]
  },
  {
   "cell_type": "code",
   "execution_count": null,
   "metadata": {},
   "outputs": [],
   "source": [
    "from pytket.circuit import Circuit\n",
    "\n",
    "\n",
    "def generate_population_circuit(\n",
    "    ghz_circuit: Circuit,\n",
    ") -> Circuit:\n",
    "    circuit = ghz_circuit.copy()\n",
    "    circuit.add_barrier(circuit.qubits)\n",
    "    circuit.measure_all()\n",
    "    return circuit"
   ]
  },
  {
   "cell_type": "code",
   "execution_count": null,
   "metadata": {},
   "outputs": [],
   "source": [
    "population_circuit = generate_population_circuit(ghz_circuit)"
   ]
  },
  {
   "cell_type": "markdown",
   "metadata": {},
   "source": [
    "Once the measurements are collected from the `H2-1` device, the outcomes are filtered into three buckets:\n",
    "* all-zeros readouts (a bitstring containing `0`s) \n",
    "* all-ones readouts (a bitstring containing `1`s) \n",
    "* undesired mixed readouts\n",
    "\n",
    "In an ideal setting both all-ones and all-zeros bistrings are equally likely and no other bitstrings should be observed. Biases or observations of other bitstrings can arise due to inherent device noise."
   ]
  },
  {
   "cell_type": "code",
   "execution_count": null,
   "metadata": {},
   "outputs": [],
   "source": [
    "from typing import Dict\n",
    "from pytket.backends.backendresult import BackendResult\n",
    "\n",
    "\n",
    "def compute_ghz_populations(backend_result: BackendResult) -> Dict[str, float]:\n",
    "    distribution = backend_result.get_distribution()\n",
    "    n = len(backend_result.c_bits)\n",
    "    zero_string = (0,) * n\n",
    "    ones_string = (1,) * n\n",
    "    zeros = distribution.get(zero_string, 0)\n",
    "    ones = distribution.get(ones_string, 0)\n",
    "    alt = sum(\n",
    "        [\n",
    "            probability\n",
    "            for bitstring, probability in distribution.items()\n",
    "            if bitstring != zero_string and bitstring != ones_string\n",
    "        ]\n",
    "    )\n",
    "    return {\"zeros\": zeros, \"ones\": ones, \"something else\": alt}"
   ]
  },
  {
   "cell_type": "markdown",
   "metadata": {},
   "source": [
    "The second term, $\\chi$, requires $N$ circuits to be measured. For example, a 56-qubit problem requires 56 non-clifford measurement circuits. $\\chi$ is defined as,\n",
    "\\begin{equation}\n",
    "\\chi \\left( k \\right)= \\frac{1}{N} \\sum_{k=1}^{N} (-1)^{k} \\left[ \\cos \\left( \\frac{k \\pi}{N} \\right) + \\sin \\left( \\frac{k \\pi}{N} \\right) \\right],\n",
    "\\end{equation}\n",
    "and is dependent on a parameter $k$, ranging from 1 to $N$. The quantity, $\\chi$, quantifies the degree of superposition between the state, $\\ket{0}^{\\bigotimes N}$, and the state, $\\ket{1}^{\\bigotimes N}$. The expression in the square brackets can be measured on System Model H2 via measurements in the $x-y$ plane of the bloch sphere."
   ]
  },
  {
   "cell_type": "code",
   "execution_count": null,
   "metadata": {},
   "outputs": [],
   "source": [
    "from typing import Tuple, List\n",
    "from pytket.circuit import Circuit\n",
    "\n",
    "\n",
    "def generate_parity_circuits(\n",
    "    ghz_circuit: Circuit,\n",
    ") -> Tuple[List[Circuit], List[float]]:\n",
    "    circuits = []\n",
    "    angles = []\n",
    "    for k in range(1, ghz_circuit.n_qubits + 1):\n",
    "        circuit = ghz_circuit.copy()\n",
    "        angle = k / ghz_circuit.n_qubits\n",
    "        for q in circuit.qubits:\n",
    "            circuit.Rz(-angle, q)\n",
    "            circuit.Ry(-0.5, q)\n",
    "        circuit.measure_all()\n",
    "        circuits += [circuit]\n",
    "        angles += [angle]\n",
    "    return circuits, angles"
   ]
  },
  {
   "cell_type": "code",
   "execution_count": null,
   "metadata": {},
   "outputs": [],
   "source": [
    "parity_circuit_list, angles = generate_parity_circuits(ghz_circuit)"
   ]
  },
  {
   "cell_type": "markdown",
   "metadata": {},
   "source": [
    "Counting each measurement outcome allows the parity of the bitstring to be computed."
   ]
  },
  {
   "cell_type": "code",
   "execution_count": null,
   "metadata": {},
   "outputs": [],
   "source": [
    "from typing import List, Dict\n",
    "from pytket.backends.backendresult import BackendResult\n",
    "\n",
    "\n",
    "def compute_ghz_parities(\n",
    "    backend_results: BackendResult, angles: List[float]\n",
    ") -> Dict[float, float]:\n",
    "    parities = {}\n",
    "    for a, b in zip(angles, backend_results):\n",
    "        dist = b.get_distribution()\n",
    "        expectation_value = sum(\n",
    "            [(-1) ** (sum(bitstring)) * prob for bitstring, prob in dist.items()]\n",
    "        )\n",
    "        parities[a] = expectation_value\n",
    "    return parities"
   ]
  },
  {
   "cell_type": "markdown",
   "metadata": {},
   "source": [
    "The cell below defines a function to combine the population and parity results to estimate the GHZ state fidelity, $F$."
   ]
  },
  {
   "cell_type": "code",
   "execution_count": null,
   "metadata": {},
   "outputs": [],
   "source": [
    "from typing import List, Dict\n",
    "\n",
    "\n",
    "def compute_ghz_fidelity(parities: List[float], populations: Dict[str, float]) -> float:\n",
    "    f_populations = populations.get(\"zeros\", 0) + populations.get(\"ones\", 0)\n",
    "    f_parities = sum([p * (-1) ** k for k, p in enumerate(parities.values())]) / len(\n",
    "        parities\n",
    "    )\n",
    "    return 0.5 * (f_populations + f_parities)"
   ]
  },
  {
   "cell_type": "markdown",
   "metadata": {},
   "source": [
    "## Syntax Check"
   ]
  },
  {
   "cell_type": "markdown",
   "metadata": {},
   "source": [
    "The circuits are submitted to the syntax checker, `H2-1SC`, to verify the code before execution to the `H2-1` device. Because at 56 qubits the quantum circuits, statevector simulation is prohibitive, the H2-1 syntax checker is used as a best practice to ensure the quantum circuit will run on the quantum computer before submitting."
   ]
  },
  {
   "cell_type": "code",
   "execution_count": null,
   "metadata": {},
   "outputs": [],
   "source": [
    "from pytket.extensions.quantinuum import QuantinuumBackend\n",
    "\n",
    "qntm_backend_syntax_checker = QuantinuumBackend(device_name=\"H2-1SC\")\n",
    "qntm_backend_syntax_checker.login()"
   ]
  },
  {
   "cell_type": "markdown",
   "metadata": {},
   "source": [
    "Compilation of the circuits to the correct gate set."
   ]
  },
  {
   "cell_type": "code",
   "execution_count": null,
   "metadata": {},
   "outputs": [],
   "source": [
    "circuits = [population_circuit] + parity_circuit_list\n",
    "compiled_circuit_list = qntm_backend_syntax_checker.get_compiled_circuits(\n",
    "    circuits, optimisation_level=2\n",
    ")"
   ]
  },
  {
   "cell_type": "markdown",
   "metadata": {},
   "source": [
    "Job submission to the syntax checker."
   ]
  },
  {
   "cell_type": "code",
   "execution_count": null,
   "metadata": {},
   "outputs": [],
   "source": [
    "handles = qntm_backend_syntax_checker.process_circuits(\n",
    "    compiled_circuit_list, n_shots=100\n",
    ")"
   ]
  },
  {
   "cell_type": "markdown",
   "metadata": {},
   "source": [
    "The status of the jobs can be queried with the `circuit_status` instance method. The status of the last job is queried in the code-cell below."
   ]
  },
  {
   "cell_type": "code",
   "execution_count": null,
   "metadata": {},
   "outputs": [],
   "source": [
    "status = qntm_backend_syntax_checker.circuit_status(handles[-1])\n",
    "print(status)"
   ]
  },
  {
   "cell_type": "markdown",
   "metadata": {},
   "source": [
    "If the jobs are completed successfully on the syntax checker, the result can be retrieved from the hardware, The output will be `BackendResult` instances containing *all-zero* readouts."
   ]
  },
  {
   "cell_type": "code",
   "execution_count": null,
   "metadata": {},
   "outputs": [],
   "source": [
    "results = qntm_backend_syntax_checker.get_results(handles)"
   ]
  },
  {
   "cell_type": "markdown",
   "metadata": {},
   "source": [
    "In pytket-quantinuum, the syntax checker can be used via the `cost` function, which not only runs the quantum circuit on the syntax checker, but also returns what the cost in HQCs will be when running the quantum circuit on the device."
   ]
  },
  {
   "cell_type": "code",
   "execution_count": null,
   "metadata": {},
   "outputs": [],
   "source": [
    "jobs_cost = sum(\n",
    "    [\n",
    "        qntm_backend_syntax_checker.cost(c, 100, syntax_checker=\"H2-1E\")\n",
    "        for c in compiled_circuit_list\n",
    "    ]\n",
    ")"
   ]
  },
  {
   "cell_type": "markdown",
   "metadata": {},
   "source": [
    "## Analysis of GHZ State Fidelity"
   ]
  },
  {
   "cell_type": "markdown",
   "metadata": {},
   "source": [
    "Execution on `H2-1` leads to a GHZ state fidelity of $0.6156\\pm0.0082$. Increasing the number of qubits introduces additional two-qubit gates in the job leading to a lower GHZ state fidelity at 56 qubits compared to the 28-qubit demonstration in the H2 Racetrack paper."
   ]
  },
  {
   "cell_type": "markdown",
   "metadata": {},
   "source": [
    "The results from the job show the probability of measuring the all-zero and all-one state are between 0.4 and 0.45. The probability of measuring a different state is 0.2. The probability of measuring the all-ones state is worse than all-zeros state due to assymetry in spam error."
   ]
  },
  {
   "cell_type": "markdown",
   "metadata": {},
   "source": [
    "<div style=\"text-align: center;\">\n",
    "    <img src=\"figures/GHZ_populations_1.png\" width=\"800\" />\n",
    "</div>"
   ]
  },
  {
   "cell_type": "markdown",
   "metadata": {},
   "source": [
    "The plot below shows the parity of the GHZ state. This is the degree of superposition in the result. A parity of zero implies no superposition in the GHZ state. Ideally parities should be between -1.0 (odd $k$) and 1.0 (even $k$). The dashed red line denotes averages for even and odd $k$."
   ]
  },
  {
   "cell_type": "markdown",
   "metadata": {},
   "source": [
    "<div style=\"text-align: center;\">\n",
    "    <img src=\"figures\\GHZ_parities_1.png\" width=\"800\" />\n",
    "</div>"
   ]
  },
  {
   "cell_type": "markdown",
   "metadata": {},
   "source": [
    "## Summary"
   ]
  },
  {
   "cell_type": "markdown",
   "metadata": {},
   "source": [
    "The GHZ state fidelity estimation is one workflow to assess device performance. This 56-qubit workflow proposed synthesizes 57 measurement circuits and uses the syntax checker to validate all of the jobs before running on the device and check the cost in HQCs. Once validated, these circuits can be submitted to the H2 device for processing. Stabilizer emulation resources are not used in this workflow due to the need for non-Clifford gates. Alternate schemes are required to use the stabilizer emulator, such as GHZ direct fidelity estimation which generates clifford-only measurement circuits ."
   ]
  },
  {
   "cell_type": "markdown",
   "metadata": {},
   "source": [
    "<div align=\"center\"> &copy; 2024 by Quantinuum. All Rights Reserved. </div>"
   ]
  }
 ],
 "metadata": {
  "kernelspec": {
   "display_name": "pytket-quantinuum-env",
   "language": "python",
   "name": "python3"
  },
  "language_info": {
   "codemirror_mode": {
    "name": "ipython",
    "version": 3
   },
   "file_extension": ".py",
   "mimetype": "text/x-python",
   "name": "python",
   "nbconvert_exporter": "python",
   "pygments_lexer": "ipython3",
   "version": "3.10.14"
  }
 },
 "nbformat": 4,
 "nbformat_minor": 2
}
